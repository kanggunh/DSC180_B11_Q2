{
 "cells": [
  {
   "cell_type": "markdown",
   "metadata": {},
   "source": [
    "## This file is used to create 150_papers_json.csv for annotation scraping"
   ]
  },
  {
   "cell_type": "code",
   "execution_count": 24,
   "metadata": {},
   "outputs": [],
   "source": [
    "import json\n",
    "import os\n",
    "import xml.etree.ElementTree as ET\n",
    "import pandas as pd"
   ]
  },
  {
   "cell_type": "code",
   "execution_count": 25,
   "metadata": {},
   "outputs": [],
   "source": [
    "EMPTY_PAPER_DATA = {\n",
    "    \"perovskite_composition\": None,\n",
    "    \"electron_transport_layer\": None,\n",
    "    \"hole_transport_layer\": None,\n",
    "    \"structure_pin_nip\": None,\n",
    "}\n",
    "EMPTY_STABILITY_TEST = {\n",
    "    \"stability_type\": None,\n",
    "    \"passivating_molecule\": None,\n",
    "    \"humidity\": None,\n",
    "    \"temperature\": None,\n",
    "    \"time\": None,\n",
    "    \"control_pce\": None,\n",
    "    \"treated_pce\": None,\n",
    "    \"control_voc\": None,\n",
    "    \"treated_voc\": None,\n",
    "    \"efficiency_cont\": None,\n",
    "    \"efficiency_tret\": None\n",
    "}"
   ]
  },
  {
   "cell_type": "code",
   "execution_count": 26,
   "metadata": {},
   "outputs": [],
   "source": [
    "def get_json_for_passage(passage, relations, previous_json):\n",
    "    concept_ids = set()\n",
    "    for annotation in passage.findall(\".//annotation\"):\n",
    "        node_id = annotation.get(\"id\")\n",
    "        var_name = annotation.find(\"infon[@key='type']\").text\n",
    "        concept_id = annotation.find(\"infon[@key='identifier']\").text\n",
    "        value = annotation.find(\"text\").text\n",
    "        value = concept_id if concept_id is not None else value\n",
    "        # if var_name == \"perovskite_molecule\": #due to an error in some of the annotations\n",
    "        #     var_name = \"passivating_molecule\"\n",
    "        if var_name in [\"additive_molecule\", \"treatment_element\", \"control_element\", \"metal_contact\"]: #irrelevant\n",
    "            continue\n",
    "\n",
    "        if var_name in [\"perovskite_composition\", \"structure_pin_nip\", \"electron_transport_layer\", \"hole_transport_layer\" ]:\n",
    "            #in top level: composition, ETL, HTL, PIN-NIP,\n",
    "            previous_json[var_name] = value\n",
    "        elif node_id in relations:\n",
    "            test_names = relations[node_id]\n",
    "            for test_name in test_names:\n",
    "                if test_name not in previous_json:\n",
    "                    previous_json[test_name] = EMPTY_STABILITY_TEST.copy()\n",
    "                previous_json[test_name][var_name] = value\n",
    "        elif len(relations.keys()) == 0:\n",
    "            if \"test_1\" not in previous_json:\n",
    "                previous_json[\"test_1\"] = EMPTY_STABILITY_TEST.copy()\n",
    "            previous_json[\"test_1\"][var_name] = value\n",
    "            #in stability tests:\n",
    "            #test type, passivator, PCE (control + treat), VOC (control + treat)\n",
    "            #efficiency (treat, control), temp, time, humidity\n",
    "        else:\n",
    "            #assumes that all other possible data goes into the first stability test\n",
    "            if \"test_1\" not in previous_json:\n",
    "                previous_json[\"test_1\"] = EMPTY_STABILITY_TEST.copy()\n",
    "            previous_json[\"test_1\"][var_name] = value\n",
    "\n",
    "    return previous_json\n",
    "    \n"
   ]
  },
  {
   "cell_type": "code",
   "execution_count": 27,
   "metadata": {},
   "outputs": [],
   "source": [
    "def extract_papernum(root):\n",
    "    first_text = root.find(\".//text\")\n",
    "    full_text = first_text.text\n",
    "    \n",
    "    ##We want to extract article number from this format\n",
    "    #Method: split by spaces and extract the last element in the list\n",
    "    text_list = full_text.split()\n",
    "    paper_num = text_list[-1]\n",
    "    return paper_num"
   ]
  },
  {
   "cell_type": "code",
   "execution_count": 28,
   "metadata": {},
   "outputs": [],
   "source": [
    "def parse_bioc_into_chunks(file_path):\n",
    "    tree = ET.parse(file_path)\n",
    "    root = tree.getroot()\n",
    "\n",
    "    passages = root.findall('.//passage')\n",
    "    data = []\n",
    "\n",
    "    relations = {}\n",
    "    test_names = set()\n",
    "    for relation in root.findall(\".//relation\"):\n",
    "        test_name = relation.find(\"infon[@key='type']\").text\n",
    "        if 'performance' in test_name: #irrelevant tests\n",
    "            continue\n",
    "        if test_name not in test_names:\n",
    "            test_names.add(test_name)\n",
    "        else:\n",
    "            test_name = test_name + \"_2\"\n",
    "        node_ids = [node.get(\"refid\") for node in relation.findall(\"node\")]\n",
    "        for node_id in node_ids:\n",
    "            if node_id not in relations:\n",
    "                relations[node_id] = [test_name]\n",
    "            else:\n",
    "                relations[node_id].append(test_name)\n",
    "\n",
    "    paper_num = extract_papernum(root)\n",
    "    curr_json = EMPTY_PAPER_DATA.copy()\n",
    "    for relation in root.findall('.//relation'):\n",
    "        test_name = relation.find\n",
    "    for i, passage in enumerate(passages):\n",
    "        passage_text = passage.find('.//text').text\n",
    "        row = { \"id\": f\"{paper_num}_{i}\", \"text\": passage_text, \"memory\": json.dumps(curr_json) }\n",
    "        curr_json = get_json_for_passage(passage, relations, curr_json)\n",
    "        row['output'] = json.dumps(curr_json)\n",
    "        data.append(row)\n",
    "    return data"
   ]
  },
  {
   "cell_type": "code",
   "execution_count": 30,
   "metadata": {},
   "outputs": [],
   "source": [
    "bioc_dir = \"../biocs\"\n",
    "data = []\n",
    "for filename in os.listdir(bioc_dir):\n",
    "    if filename.endswith(\".xml\"):\n",
    "        file_path = os.path.join(bioc_dir, filename)\n",
    "        curr_paper_chunks = parse_bioc_into_chunks(file_path)\n",
    "        data.extend(curr_paper_chunks)\n",
    "\n",
    "df = pd.DataFrame(data)"
   ]
  },
  {
   "cell_type": "code",
   "execution_count": 13,
   "metadata": {},
   "outputs": [
    {
     "data": {
      "text/html": [
       "<div>\n",
       "<style scoped>\n",
       "    .dataframe tbody tr th:only-of-type {\n",
       "        vertical-align: middle;\n",
       "    }\n",
       "\n",
       "    .dataframe tbody tr th {\n",
       "        vertical-align: top;\n",
       "    }\n",
       "\n",
       "    .dataframe thead th {\n",
       "        text-align: right;\n",
       "    }\n",
       "</style>\n",
       "<table border=\"1\" class=\"dataframe\">\n",
       "  <thead>\n",
       "    <tr style=\"text-align: right;\">\n",
       "      <th></th>\n",
       "      <th>id</th>\n",
       "      <th>text</th>\n",
       "      <th>memory</th>\n",
       "      <th>output</th>\n",
       "    </tr>\n",
       "  </thead>\n",
       "  <tbody>\n",
       "    <tr>\n",
       "      <th>0</th>\n",
       "      <td>0_0</td>\n",
       "      <td>Paper #: 0\\r</td>\n",
       "      <td>{\"perovskite_composition\": null, \"electron_tra...</td>\n",
       "      <td>{\"perovskite_composition\": null, \"electron_tra...</td>\n",
       "    </tr>\n",
       "    <tr>\n",
       "      <th>1</th>\n",
       "      <td>0_1</td>\n",
       "      <td>Interfacial engineering from material to solve...</td>\n",
       "      <td>{\"perovskite_composition\": null, \"electron_tra...</td>\n",
       "      <td>{\"perovskite_composition\": null, \"electron_tra...</td>\n",
       "    </tr>\n",
       "    <tr>\n",
       "      <th>2</th>\n",
       "      <td>0_2</td>\n",
       "      <td>Formamidinium lead triiodide (FAPbI 3 ) has re...</td>\n",
       "      <td>{\"perovskite_composition\": null, \"electron_tra...</td>\n",
       "      <td>{\"perovskite_composition\": null, \"electron_tra...</td>\n",
       "    </tr>\n",
       "    <tr>\n",
       "      <th>3</th>\n",
       "      <td>0_3</td>\n",
       "      <td>Introduction Hybrid organic-inorganic lead hal...</td>\n",
       "      <td>{\"perovskite_composition\": null, \"electron_tra...</td>\n",
       "      <td>{\"perovskite_composition\": null, \"electron_tra...</td>\n",
       "    </tr>\n",
       "    <tr>\n",
       "      <th>4</th>\n",
       "      <td>0_4</td>\n",
       "      <td>Results and discussion According to the previ...</td>\n",
       "      <td>{\"perovskite_composition\": null, \"electron_tra...</td>\n",
       "      <td>{\"perovskite_composition\": null, \"electron_tra...</td>\n",
       "    </tr>\n",
       "    <tr>\n",
       "      <th>...</th>\n",
       "      <td>...</td>\n",
       "      <td>...</td>\n",
       "      <td>...</td>\n",
       "      <td>...</td>\n",
       "    </tr>\n",
       "    <tr>\n",
       "      <th>5298</th>\n",
       "      <td>#:144_58</td>\n",
       "      <td>\\t\\t\\t This journal is © The Royal Society of ...</td>\n",
       "      <td>{\"perovskite_composition\": null, \"electron_tra...</td>\n",
       "      <td>{\"perovskite_composition\": null, \"electron_tra...</td>\n",
       "    </tr>\n",
       "    <tr>\n",
       "      <th>5299</th>\n",
       "      <td>#:144_59</td>\n",
       "      <td>\\t\\t\\t Published on 12 April 2022. Downloaded ...</td>\n",
       "      <td>{\"perovskite_composition\": null, \"electron_tra...</td>\n",
       "      <td>{\"perovskite_composition\": null, \"electron_tra...</td>\n",
       "    </tr>\n",
       "    <tr>\n",
       "      <th>5300</th>\n",
       "      <td>#:144_60</td>\n",
       "      <td>\\t\\t\\t S. D. Stranks and H. J. Snaith, Metal-h...</td>\n",
       "      <td>{\"perovskite_composition\": null, \"electron_tra...</td>\n",
       "      <td>{\"perovskite_composition\": null, \"electron_tra...</td>\n",
       "    </tr>\n",
       "    <tr>\n",
       "      <th>5301</th>\n",
       "      <td>#:144_61</td>\n",
       "      <td>\\t\\t\\t 2015, 10, 391-402. 2 P. K. Nayak, S. Ma...</td>\n",
       "      <td>{\"perovskite_composition\": null, \"electron_tra...</td>\n",
       "      <td>{\"perovskite_composition\": null, \"electron_tra...</td>\n",
       "    </tr>\n",
       "    <tr>\n",
       "      <th>5302</th>\n",
       "      <td>#:144_62</td>\n",
       "      <td>\\t\\t\\t Y. Han, et al., From distortion to disc...</td>\n",
       "      <td>{\"perovskite_composition\": null, \"electron_tra...</td>\n",
       "      <td>{\"perovskite_composition\": null, \"electron_tra...</td>\n",
       "    </tr>\n",
       "  </tbody>\n",
       "</table>\n",
       "<p>5303 rows × 4 columns</p>\n",
       "</div>"
      ],
      "text/plain": [
       "            id                                               text  \\\n",
       "0          0_0                                       Paper #: 0\\r   \n",
       "1          0_1  Interfacial engineering from material to solve...   \n",
       "2          0_2  Formamidinium lead triiodide (FAPbI 3 ) has re...   \n",
       "3          0_3  Introduction Hybrid organic-inorganic lead hal...   \n",
       "4          0_4   Results and discussion According to the previ...   \n",
       "...        ...                                                ...   \n",
       "5298  #:144_58  \\t\\t\\t This journal is © The Royal Society of ...   \n",
       "5299  #:144_59  \\t\\t\\t Published on 12 April 2022. Downloaded ...   \n",
       "5300  #:144_60  \\t\\t\\t S. D. Stranks and H. J. Snaith, Metal-h...   \n",
       "5301  #:144_61  \\t\\t\\t 2015, 10, 391-402. 2 P. K. Nayak, S. Ma...   \n",
       "5302  #:144_62  \\t\\t\\t Y. Han, et al., From distortion to disc...   \n",
       "\n",
       "                                                 memory  \\\n",
       "0     {\"perovskite_composition\": null, \"electron_tra...   \n",
       "1     {\"perovskite_composition\": null, \"electron_tra...   \n",
       "2     {\"perovskite_composition\": null, \"electron_tra...   \n",
       "3     {\"perovskite_composition\": null, \"electron_tra...   \n",
       "4     {\"perovskite_composition\": null, \"electron_tra...   \n",
       "...                                                 ...   \n",
       "5298  {\"perovskite_composition\": null, \"electron_tra...   \n",
       "5299  {\"perovskite_composition\": null, \"electron_tra...   \n",
       "5300  {\"perovskite_composition\": null, \"electron_tra...   \n",
       "5301  {\"perovskite_composition\": null, \"electron_tra...   \n",
       "5302  {\"perovskite_composition\": null, \"electron_tra...   \n",
       "\n",
       "                                                 output  \n",
       "0     {\"perovskite_composition\": null, \"electron_tra...  \n",
       "1     {\"perovskite_composition\": null, \"electron_tra...  \n",
       "2     {\"perovskite_composition\": null, \"electron_tra...  \n",
       "3     {\"perovskite_composition\": null, \"electron_tra...  \n",
       "4     {\"perovskite_composition\": null, \"electron_tra...  \n",
       "...                                                 ...  \n",
       "5298  {\"perovskite_composition\": null, \"electron_tra...  \n",
       "5299  {\"perovskite_composition\": null, \"electron_tra...  \n",
       "5300  {\"perovskite_composition\": null, \"electron_tra...  \n",
       "5301  {\"perovskite_composition\": null, \"electron_tra...  \n",
       "5302  {\"perovskite_composition\": null, \"electron_tra...  \n",
       "\n",
       "[5303 rows x 4 columns]"
      ]
     },
     "execution_count": 13,
     "metadata": {},
     "output_type": "execute_result"
    }
   ],
   "source": [
    "df"
   ]
  },
  {
   "cell_type": "code",
   "execution_count": 14,
   "metadata": {},
   "outputs": [],
   "source": [
    "# df.to_csv('data/150_papers_json_perchunk.csv', index=False)"
   ]
  },
  {
   "cell_type": "code",
   "execution_count": 15,
   "metadata": {},
   "outputs": [],
   "source": [
    "def get_numbers(string):\n",
    "    if \":\" in string:\n",
    "        return string.split(\":\")[1]\n",
    "    else:\n",
    "        return string"
   ]
  },
  {
   "cell_type": "code",
   "execution_count": 16,
   "metadata": {},
   "outputs": [],
   "source": [
    "df[['first_num', 'second_num']] = df['id'].str.split('_', expand=True)\n",
    "\n",
    "# print(df['first_num'])\n",
    "# Step 2: Convert 'first_num' to numeric for proper sorting\n",
    "df['first_num'] = df['first_num'].apply(get_numbers)\n",
    "df['first_num'] = df['first_num'].astype(int)\n",
    "\n",
    "# Step 3: Group by 'first_num' and get the last row of each group\n",
    "result = df.groupby('first_num', as_index=False).last()\n",
    "result.to_csv('data/150_papers_json_update.csv', index=False)"
   ]
  },
  {
   "cell_type": "markdown",
   "metadata": {},
   "source": [
    "## The 150_papers_json_update.csv is exported"
   ]
  },
  {
   "cell_type": "markdown",
   "metadata": {},
   "source": []
  },
  {
   "cell_type": "markdown",
   "metadata": {},
   "source": []
  },
  {
   "cell_type": "markdown",
   "metadata": {},
   "source": []
  },
  {
   "cell_type": "markdown",
   "metadata": {},
   "source": []
  },
  {
   "cell_type": "markdown",
   "metadata": {},
   "source": []
  },
  {
   "cell_type": "code",
   "execution_count": 17,
   "metadata": {},
   "outputs": [
    {
     "data": {
      "text/plain": [
       "array([  0,   1,   2,   3,   4,   5,   6,   7,   8,   9,  10,  11,  12,\n",
       "        13,  14,  15,  16,  17,  18,  19,  20,  21,  22,  23,  24,  25,\n",
       "        26,  27,  28,  29,  30,  31,  32,  33,  35,  36,  37,  39,  40,\n",
       "        41,  42,  43,  46,  47,  48,  49,  50,  51,  52,  53,  54,  55,\n",
       "        56,  57,  58,  59,  60,  61,  62,  63,  64,  65,  66,  67,  68,\n",
       "        69,  70,  71,  72,  73,  74,  75,  76,  77,  78,  79,  80,  81,\n",
       "        82,  83,  84,  85,  86,  87,  88,  89,  90,  91,  92,  93,  94,\n",
       "        95,  96,  97,  98,  99, 100, 101, 102, 103, 104, 105, 106, 107,\n",
       "       108, 109, 110, 111, 112, 113, 114, 115, 116, 117, 118, 119, 120,\n",
       "       121, 122, 123, 124, 125, 126, 127, 128, 129, 130, 131, 132, 133,\n",
       "       134, 135, 136, 137, 138, 139, 140, 141, 142, 143, 144, 145, 146,\n",
       "       147, 148, 149], dtype=int64)"
      ]
     },
     "execution_count": 17,
     "metadata": {},
     "output_type": "execute_result"
    }
   ],
   "source": [
    "result['first_num'].unique()"
   ]
  },
  {
   "cell_type": "markdown",
   "metadata": {},
   "source": [
    "## Troubleshooting with passage 0"
   ]
  },
  {
   "cell_type": "code",
   "execution_count": 18,
   "metadata": {},
   "outputs": [
    {
     "ename": "FileNotFoundError",
     "evalue": "[Errno 2] No such file or directory: 'data/biocs/250108025021837BGIFAF_v1.xml'",
     "output_type": "error",
     "traceback": [
      "\u001b[1;31m---------------------------------------------------------------------------\u001b[0m",
      "\u001b[1;31mFileNotFoundError\u001b[0m                         Traceback (most recent call last)",
      "Cell \u001b[1;32mIn[18], line 2\u001b[0m\n\u001b[0;32m      1\u001b[0m paper_0 \u001b[38;5;241m=\u001b[39m \u001b[38;5;124m\"\u001b[39m\u001b[38;5;124mdata/biocs/250108025021837BGIFAF_v1.xml\u001b[39m\u001b[38;5;124m\"\u001b[39m\n\u001b[1;32m----> 2\u001b[0m curr_paper_chunks \u001b[38;5;241m=\u001b[39m \u001b[43mparse_bioc_into_chunks\u001b[49m\u001b[43m(\u001b[49m\u001b[43mpaper_0\u001b[49m\u001b[43m)\u001b[49m\n\u001b[0;32m      3\u001b[0m curr_paper_chunks\n",
      "Cell \u001b[1;32mIn[7], line 2\u001b[0m, in \u001b[0;36mparse_bioc_into_chunks\u001b[1;34m(file_path)\u001b[0m\n\u001b[0;32m      1\u001b[0m \u001b[38;5;28;01mdef\u001b[39;00m \u001b[38;5;21mparse_bioc_into_chunks\u001b[39m(file_path):\n\u001b[1;32m----> 2\u001b[0m     tree \u001b[38;5;241m=\u001b[39m \u001b[43mET\u001b[49m\u001b[38;5;241;43m.\u001b[39;49m\u001b[43mparse\u001b[49m\u001b[43m(\u001b[49m\u001b[43mfile_path\u001b[49m\u001b[43m)\u001b[49m\n\u001b[0;32m      3\u001b[0m     root \u001b[38;5;241m=\u001b[39m tree\u001b[38;5;241m.\u001b[39mgetroot()\n\u001b[0;32m      5\u001b[0m     passages \u001b[38;5;241m=\u001b[39m root\u001b[38;5;241m.\u001b[39mfindall(\u001b[38;5;124m'\u001b[39m\u001b[38;5;124m.//passage\u001b[39m\u001b[38;5;124m'\u001b[39m)\n",
      "File \u001b[1;32mc:\\Users\\Luna\\anaconda3\\envs\\dsc80\\lib\\xml\\etree\\ElementTree.py:1202\u001b[0m, in \u001b[0;36mparse\u001b[1;34m(source, parser)\u001b[0m\n\u001b[0;32m   1193\u001b[0m \u001b[38;5;250m\u001b[39m\u001b[38;5;124;03m\"\"\"Parse XML document into element tree.\u001b[39;00m\n\u001b[0;32m   1194\u001b[0m \n\u001b[0;32m   1195\u001b[0m \u001b[38;5;124;03m*source* is a filename or file object containing XML data,\u001b[39;00m\n\u001b[1;32m   (...)\u001b[0m\n\u001b[0;32m   1199\u001b[0m \n\u001b[0;32m   1200\u001b[0m \u001b[38;5;124;03m\"\"\"\u001b[39;00m\n\u001b[0;32m   1201\u001b[0m tree \u001b[38;5;241m=\u001b[39m ElementTree()\n\u001b[1;32m-> 1202\u001b[0m \u001b[43mtree\u001b[49m\u001b[38;5;241;43m.\u001b[39;49m\u001b[43mparse\u001b[49m\u001b[43m(\u001b[49m\u001b[43msource\u001b[49m\u001b[43m,\u001b[49m\u001b[43m \u001b[49m\u001b[43mparser\u001b[49m\u001b[43m)\u001b[49m\n\u001b[0;32m   1203\u001b[0m \u001b[38;5;28;01mreturn\u001b[39;00m tree\n",
      "File \u001b[1;32mc:\\Users\\Luna\\anaconda3\\envs\\dsc80\\lib\\xml\\etree\\ElementTree.py:584\u001b[0m, in \u001b[0;36mElementTree.parse\u001b[1;34m(self, source, parser)\u001b[0m\n\u001b[0;32m    582\u001b[0m close_source \u001b[38;5;241m=\u001b[39m \u001b[38;5;28;01mFalse\u001b[39;00m\n\u001b[0;32m    583\u001b[0m \u001b[38;5;28;01mif\u001b[39;00m \u001b[38;5;129;01mnot\u001b[39;00m \u001b[38;5;28mhasattr\u001b[39m(source, \u001b[38;5;124m\"\u001b[39m\u001b[38;5;124mread\u001b[39m\u001b[38;5;124m\"\u001b[39m):\n\u001b[1;32m--> 584\u001b[0m     source \u001b[38;5;241m=\u001b[39m \u001b[38;5;28;43mopen\u001b[39;49m\u001b[43m(\u001b[49m\u001b[43msource\u001b[49m\u001b[43m,\u001b[49m\u001b[43m \u001b[49m\u001b[38;5;124;43m\"\u001b[39;49m\u001b[38;5;124;43mrb\u001b[39;49m\u001b[38;5;124;43m\"\u001b[39;49m\u001b[43m)\u001b[49m\n\u001b[0;32m    585\u001b[0m     close_source \u001b[38;5;241m=\u001b[39m \u001b[38;5;28;01mTrue\u001b[39;00m\n\u001b[0;32m    586\u001b[0m \u001b[38;5;28;01mtry\u001b[39;00m:\n",
      "\u001b[1;31mFileNotFoundError\u001b[0m: [Errno 2] No such file or directory: 'data/biocs/250108025021837BGIFAF_v1.xml'"
     ]
    }
   ],
   "source": [
    "paper_0 = \"data/biocs/250108025021837BGIFAF_v1.xml\"\n",
    "curr_paper_chunks = parse_bioc_into_chunks(paper_0)\n",
    "curr_paper_chunks"
   ]
  },
  {
   "cell_type": "code",
   "execution_count": 19,
   "metadata": {},
   "outputs": [],
   "source": [
    "string_0 = result['output'][0]"
   ]
  },
  {
   "cell_type": "code",
   "execution_count": 20,
   "metadata": {},
   "outputs": [],
   "source": [
    "import json"
   ]
  },
  {
   "cell_type": "code",
   "execution_count": 21,
   "metadata": {},
   "outputs": [
    {
     "data": {
      "text/plain": [
       "{'perovskite_composition': 'Cs0.05FA0.85MA0.1PbI3',\n",
       " 'electron_transport_layer': 'C60',\n",
       " 'hole_transport_layer': '2PACz',\n",
       " 'structure_pin_nip': 'PIN',\n",
       " 'test_1': {'stability_type': 'ISOSL3',\n",
       "  'passivating_molecule': '4-chlorobenzenesulfonate',\n",
       "  'humidity': '50',\n",
       "  'temperature': '65',\n",
       "  'time': '1200',\n",
       "  'control_pce': '24',\n",
       "  'treated_pce': '26.9',\n",
       "  'control_voc': None,\n",
       "  'treated_voc': '1.18',\n",
       "  'efficiency_cont': None,\n",
       "  'efficiency_tret': '95'},\n",
       " 'test_1_2': {'stability_type': 'ISOSL3',\n",
       "  'passivating_molecule': '4-chlorobenzenesulfonate',\n",
       "  'humidity': '50',\n",
       "  'temperature': '85',\n",
       "  'time': '540',\n",
       "  'control_pce': '24',\n",
       "  'treated_pce': '26.9',\n",
       "  'control_voc': None,\n",
       "  'treated_voc': None,\n",
       "  'efficiency_cont': None,\n",
       "  'efficiency_tret': '87'},\n",
       " 'test_2': {'stability_type': 'ISOSD2',\n",
       "  'passivating_molecule': '4-chlorobenzenesulfonate',\n",
       "  'humidity': None,\n",
       "  'temperature': '85',\n",
       "  'time': '1500',\n",
       "  'control_pce': '24',\n",
       "  'treated_pce': '26.9',\n",
       "  'control_voc': None,\n",
       "  'treated_voc': None,\n",
       "  'efficiency_cont': None,\n",
       "  'efficiency_tret': '95'}}"
      ]
     },
     "execution_count": 21,
     "metadata": {},
     "output_type": "execute_result"
    }
   ],
   "source": [
    "json_string = string_0.replace(\"None\", \"null\")\n",
    "json_object = json.loads(json_string)\n",
    "json_object"
   ]
  },
  {
   "cell_type": "code",
   "execution_count": null,
   "metadata": {},
   "outputs": [],
   "source": []
  },
  {
   "cell_type": "code",
   "execution_count": null,
   "metadata": {},
   "outputs": [],
   "source": []
  },
  {
   "cell_type": "code",
   "execution_count": 22,
   "metadata": {},
   "outputs": [],
   "source": [
    "df.to_csv(\"data/chunked_training.csv\", index=False)"
   ]
  },
  {
   "cell_type": "code",
   "execution_count": 23,
   "metadata": {},
   "outputs": [
    {
     "data": {
      "text/plain": [
       "'{\"perovskite_composition\": \"Cs0.05FA0.85MA0.1PbI3\", \"electron_transport_layer\": \"C60\", \"hole_transport_layer\": \"2PACz\", \"structure_pin_nip\": \"PIN\", \"test_1\": {\"stability_type\": \"ISOSL3\", \"passivating_molecule\": \"4-chlorobenzenesulfonate\", \"humidity\": \"50\", \"temperature\": \"65\", \"time\": \"1200\", \"control_pce\": \"24\", \"treated_pce\": \"26.9\", \"control_voc\": null, \"treated_voc\": \"1.18\", \"efficiency_cont\": null, \"efficiency_tret\": \"95\"}, \"test_1_2\": {\"stability_type\": \"ISOSL3\", \"passivating_molecule\": \"4-chlorobenzenesulfonate\", \"humidity\": \"50\", \"temperature\": \"85\", \"time\": \"540\", \"control_pce\": \"24\", \"treated_pce\": \"26.9\", \"control_voc\": null, \"treated_voc\": null, \"efficiency_cont\": null, \"efficiency_tret\": \"87\"}, \"test_2\": {\"stability_type\": \"ISOSD2\", \"passivating_molecule\": \"4-chlorobenzenesulfonate\", \"humidity\": null, \"temperature\": \"85\", \"time\": \"1500\", \"control_pce\": \"24\", \"treated_pce\": \"26.9\", \"control_voc\": null, \"treated_voc\": null, \"efficiency_cont\": null, \"efficiency_tret\": \"95\"}}'"
      ]
     },
     "execution_count": 23,
     "metadata": {},
     "output_type": "execute_result"
    }
   ],
   "source": [
    "(df[df[\"id\"].str.startswith(\"0_\")].iloc[-1][\"output\"])"
   ]
  },
  {
   "cell_type": "code",
   "execution_count": 9,
   "metadata": {},
   "outputs": [],
   "source": [
    "paper_8 = df[df[\"id\"].str.startswith(\"8_\")]"
   ]
  },
  {
   "cell_type": "code",
   "execution_count": 10,
   "metadata": {},
   "outputs": [
    {
     "data": {
      "text/plain": [
       "'{\"perovskite_composition\": null, \"electron_transport_layer\": \"Tin Oxide\", \"hole_transport_layer\": \"Spiro-OMeTAD\", \"structure_pin_nip\": \"NIP\", \"test_1\": {\"stability_type\": \"ISOSLT\", \"passivating_molecule\": \"ethylammonium pyrene\", \"humidity\": null, \"temperature\": \"40\", \"time\": \"2000\", \"control_pce\": \"19.3\", \"treated_pce\": \"22.4\", \"control_voc\": null, \"treated_voc\": \"1.177\", \"efficiency_control\": null, \"efficiency_tret\": \"0.85\", \"efficiency_cont\": \"0.6\"}}'"
      ]
     },
     "execution_count": 10,
     "metadata": {},
     "output_type": "execute_result"
    }
   ],
   "source": [
    "paper_8.iloc[-1][\"output\"]"
   ]
  },
  {
   "cell_type": "code",
   "execution_count": 11,
   "metadata": {},
   "outputs": [],
   "source": [
    "example_1 = paper_8[paper_8['text'].str.contains(\"Supplementary Text S3\")]"
   ]
  },
  {
   "cell_type": "code",
   "execution_count": 13,
   "metadata": {},
   "outputs": [],
   "source": [
    "example_1.to_csv(\"data/chunked_example.csv\", index=False)"
   ]
  },
  {
   "cell_type": "code",
   "execution_count": null,
   "metadata": {},
   "outputs": [],
   "source": []
  }
 ],
 "metadata": {
  "kernelspec": {
   "display_name": "dsc80",
   "language": "python",
   "name": "python3"
  },
  "language_info": {
   "codemirror_mode": {
    "name": "ipython",
    "version": 3
   },
   "file_extension": ".py",
   "mimetype": "text/x-python",
   "name": "python",
   "nbconvert_exporter": "python",
   "pygments_lexer": "ipython3",
   "version": "3.8.18"
  }
 },
 "nbformat": 4,
 "nbformat_minor": 2
}
