{
 "cells": [
  {
   "cell_type": "markdown",
   "metadata": {},
   "source": [
    "# This file compares the teamtat annotation with Extraction performed (Json)"
   ]
  },
  {
   "cell_type": "code",
   "execution_count": 1,
   "metadata": {},
   "outputs": [],
   "source": [
    "irrelevent_papers = [26,28,29,30,32,33,34,35,38,43,44,45,52,54,55,56,57,58,63,66,68,69,70,78,80,83,84,86,87,88,89,90,91,92,93,94,98,100,101,102,103,104,105,106,108,109,110,111,112,115,116,117,119,121,125,128,129,130,134,136,138,139, 140]\n",
    "relevent_bad = [1, 18, 20, 25, 27, 41, 51, 61, 71, 76, 135, 141, 145]\n",
    "\n",
    "relevent_good = [i for i in range(0, 150) if i not in irrelevent_papers and i not in relevent_bad]"
   ]
  },
  {
   "cell_type": "code",
   "execution_count": 2,
   "metadata": {},
   "outputs": [
    {
     "data": {
      "text/plain": [
       "13"
      ]
     },
     "execution_count": 2,
     "metadata": {},
     "output_type": "execute_result"
    }
   ],
   "source": [
    "len(relevent_bad)"
   ]
  },
  {
   "cell_type": "code",
   "execution_count": 3,
   "metadata": {},
   "outputs": [
    {
     "data": {
      "text/plain": [
       "74"
      ]
     },
     "execution_count": 3,
     "metadata": {},
     "output_type": "execute_result"
    }
   ],
   "source": [
    "len(relevent_good)"
   ]
  },
  {
   "cell_type": "code",
   "execution_count": 4,
   "metadata": {},
   "outputs": [],
   "source": [
    "from sklearn.metrics import precision_score, recall_score, f1_score\n",
    "from difflib import SequenceMatcher\n",
    "import numpy as np\n",
    "import json\n",
    "import os\n",
    "import xml.etree.ElementTree as ET \n",
    "import pandas as pd\n",
    "import re\n",
    "from sklearn.metrics.pairwise import cosine_similarity"
   ]
  },
  {
   "cell_type": "code",
   "execution_count": 5,
   "metadata": {},
   "outputs": [
    {
     "data": {
      "text/plain": [
       "{'perovskite_composition': None,\n",
       " 'electron_transport_layer': None,\n",
       " 'hole_transport_layer': None,\n",
       " 'structure_pin_nip': None,\n",
       " 'passivating_molecule': None,\n",
       " 'control_pce': None,\n",
       " 'treated_pce': None,\n",
       " 'control_voc': None,\n",
       " 'treated_voc': None,\n",
       " 'test_1': {'stability_type': None,\n",
       "  'humidity': None,\n",
       "  'temperature': None,\n",
       "  'time': None,\n",
       "  'efficiency_tret': None,\n",
       "  'efficiency_cont': None}}"
      ]
     },
     "execution_count": 5,
     "metadata": {},
     "output_type": "execute_result"
    }
   ],
   "source": [
    "#Evaluation schema 2\n",
    "data = {\n",
    "    'perovskite_composition': None,\n",
    "    'electron_transport_layer': None,\n",
    "    'hole_transport_layer': None,\n",
    "    'structure_pin_nip': None,\n",
    "    'passivating_molecule': None,\n",
    "    'control_pce': None,\n",
    "    'treated_pce': None,\n",
    "    'control_voc': None,\n",
    "    'treated_voc': None,\n",
    "    'test_1': {\n",
    "        'stability_type': None,\n",
    "        'humidity': None,\n",
    "        'temperature': None,\n",
    "        'time': None,\n",
    "        'efficiency_tret': None,\n",
    "        'efficiency_cont': None\n",
    "    }\n",
    "}\n",
    "\n",
    "data\n"
   ]
  },
  {
   "cell_type": "markdown",
   "metadata": {},
   "source": [
    "## File Preparation"
   ]
  },
  {
   "cell_type": "code",
   "execution_count": 6,
   "metadata": {},
   "outputs": [],
   "source": [
    "def str_toJson(string):\n",
    "    ##The json output from annotation dataframe was not in correct json format\n",
    "    # We will change the None to null\n",
    "    json_string = string.replace(\"None\", \"null\")\n",
    "\n",
    "    try:\n",
    "        # Try to load the JSON string\n",
    "        json_object = json.loads(json_string)\n",
    "        return json_object\n",
    "    except json.JSONDecodeError as e:\n",
    "        # Catch JSONDecodeError if the string is not valid JSON\n",
    "        print(f\"Error decoding JSON: {e}\")\n",
    "        return None\n",
    "    except Exception as e:\n",
    "        # Catch any other exceptions\n",
    "        print(f\"An error occurred: {e}\")\n",
    "        return None"
   ]
  },
  {
   "cell_type": "code",
   "execution_count": 7,
   "metadata": {},
   "outputs": [],
   "source": [
    "def include_passivating(dictionary):\n",
    "    ##In extraction json, realized that some extraction has passivating molecule that is NOT included in its stability testing. \n",
    "    ## Since passivating molecule (if exist) needs to be in stability testing (nexted dictionary), we will transfer the information and spit out a cleaned dictionary. \n",
    "    if \"passivating_molecule\" in dictionary.keys():\n",
    "        passivating = dictionary['passivating_molecule']\n",
    "        del dictionary['passivating_molecule']\n",
    "        \n",
    "        for entity in dictionary.keys():\n",
    "            if entity.startswith('test'):\n",
    "                # print(i['entity'])\n",
    "                if type(dictionary[entity]) == dict:\n",
    "                    if 'passivating_molecule' in dictionary[entity].keys():\n",
    "                        continue\n",
    "                    else:\n",
    "                        # print(\"Have to include passivating molecule in tests\")\n",
    "                        dictionary[entity]['passivating_molecule'] = passivating\n",
    "        \n",
    "    return dictionary"
   ]
  },
  {
   "cell_type": "code",
   "execution_count": 8,
   "metadata": {},
   "outputs": [],
   "source": [
    "def convert_numeric_outside(dictionary):\n",
    "    key_list = ['control_pce', 'treated_pce', 'control_voc', 'treated_voc']\n",
    "    for key in key_list:\n",
    "        if dictionary[key] != None:\n",
    "            dictionary[key] = float(dictionary[key])\n",
    "    return dictionary"
   ]
  },
  {
   "cell_type": "code",
   "execution_count": 9,
   "metadata": {},
   "outputs": [],
   "source": [
    "## Convert all numerical data into float for both\n",
    "\n",
    "def convert_numeric(dictionary):\n",
    "    if dictionary == None:\n",
    "        return None\n",
    "    numerical_key = ['time', 'efficiency_cont', 'efficiency_tret', 'control_pce', 'treated_pce', 'control_voc', 'treated_voc']\n",
    "    exception_numeric = ['humidity', 'temperature']\n",
    "\n",
    "    translation_table = str.maketrans('', '', 'abcdefghijklmnopqrstuvwxyzABCDEFGHIJKLMNOPQRSTUVWXYZ!@#$%^&*()')\n",
    "    for key in dictionary.keys():\n",
    "        if (key.startswith('test')) & (type(dictionary[key]) == dict):\n",
    "            for entity in dictionary[key].keys():\n",
    "                if entity in numerical_key:\n",
    "                    # print(dictionary[key][entity])\n",
    "                    if isinstance(dictionary[key][entity], str): \n",
    "                        substitute = re.sub(r'[^0-9.]', '', dictionary[key][entity][:4])\n",
    "                        if len(substitute) != 0:\n",
    "                            numerical_value = float(substitute)\n",
    "                            dictionary[key][entity] = numerical_value\n",
    "                        else:\n",
    "                            dictionary[key][entity] = None\n",
    "                elif entity in exception_numeric:\n",
    "                    if isinstance(dictionary[key][entity], str): \n",
    "                        if \"-\" not in dictionary[key][entity]:\n",
    "                            # print(\"regular_case\",dictionary[key][entity])\n",
    "                            substitute = re.sub(r'[^0-9.]', '', dictionary[key][entity][:4])\n",
    "                            if len(substitute) != 0:\n",
    "                                numerical_value = float(substitute)\n",
    "                                dictionary[key][entity] = numerical_value\n",
    "                            else:\n",
    "                                dictionary[key][entity] = None\n",
    "                        # else:\n",
    "                            \n",
    "                        #     print(dictionary[key][entity])\n",
    "        elif ('test_' in key) & (type(dictionary[key]) == dict):\n",
    "            for entity in dictionary[key].keys():\n",
    "                if entity in numerical_key:\n",
    "                    # print(dictionary[key][entity])\n",
    "                    if isinstance(dictionary[key][entity], str): \n",
    "                        substitute = re.sub(r'[^0-9.]', '', dictionary[key][entity][:4])\n",
    "                        if len(substitute) != 0:\n",
    "                            numerical_value = float(substitute)\n",
    "                            dictionary[key][entity] = numerical_value\n",
    "                        else:\n",
    "                            dictionary[key][entity] = None\n",
    "                elif entity in exception_numeric:\n",
    "                    if isinstance(dictionary[key][entity], str): \n",
    "                        if \"-\" not in dictionary[key][entity]:\n",
    "                            # print(\"regular_case\",dictionary[key][entity])\n",
    "                            substitute = re.sub(r'[^0-9.]', '', dictionary[key][entity][:4])\n",
    "                            if len(substitute) != 0:\n",
    "                                numerical_value = float(substitute)\n",
    "                                dictionary[key][entity] = numerical_value\n",
    "                            else:\n",
    "                                dictionary[key][entity] = None\n",
    "                        # else:\n",
    "                            \n",
    "                        #     print(dictionary[key][entity])\n",
    "        elif key in numerical_key:\n",
    "            if isinstance(dictionary[key], str): \n",
    "                substitute = re.sub(r'[^0-9.]', '', dictionary[key][:4])\n",
    "                if len(substitute) != 0:\n",
    "                    numerical_value = float(substitute)\n",
    "                    dictionary[key] = numerical_value\n",
    "                else:\n",
    "                    dictionary[key] = None\n",
    "        elif key in exception_numeric:\n",
    "            if isinstance(dictionary[key], str): \n",
    "                if \"-\" not in dictionary[key]:\n",
    "                    # print(\"regular_case\",dictionary[key][entity])\n",
    "                    substitute = re.sub(r'[^0-9.]', '', dictionary[key][:4])\n",
    "                    if len(substitute) != 0:\n",
    "                        numerical_value = float(substitute)\n",
    "                        dictionary[key] = numerical_value\n",
    "                    else:\n",
    "                        dictionary[key] = None\n",
    "\n",
    "\n",
    "\n",
    "\n",
    "    return dictionary"
   ]
  },
  {
   "cell_type": "code",
   "execution_count": 10,
   "metadata": {},
   "outputs": [],
   "source": [
    "def convert_efficiency(dictionary):\n",
    "    entity_decimal = ['efficiency_cont','efficiency_tret']\n",
    "    for key in dictionary.keys():\n",
    "        if (key.startswith('test')) & (type(dictionary[key]) == dict):\n",
    "            for entity in dictionary[key].keys():\n",
    "                if (entity in entity_decimal) and (dictionary[key][entity] != None):\n",
    "                    if dictionary[key][entity] == dictionary[key][entity] > 1:\n",
    "                        dictionary[key][entity] = dictionary[key][entity] / 100\n",
    "    return dictionary\n",
    "\n",
    "\n",
    "    "
   ]
  },
  {
   "cell_type": "markdown",
   "metadata": {},
   "source": [
    "#### Analyzing these outputs\n",
    "\n",
    "Annotation notes: \n",
    "- THE 4 basic variable that is to compare is PEROVSKITE COMPOSITION, ETL, HTL, STRUCTURE\n",
    "- Stability entity: efficiency_control is wrong, All value is None, so ignore. \n",
    "- Common entity: ['stability_type', 'passivating_molecule', 'humidity', 'temperature', 'time', 'control_pce', 'treated_pce', 'control_voc', 'treated_voc', 'efficiency_tret'] \n",
    "    - 'efficiency_cont' are included or not\n",
    "\n",
    "- the efficiency in extracted data need to be converted to decimals since it is in percentage SOMETIMES\n",
    "    - 'control_efficiency' and 'treatment_efficiency can be ignored\n",
    "\n",
    "\n",
    "Extraction notes:\n",
    "- some extraction has passivating molecule that is NOT included in its stability testing. "
   ]
  },
  {
   "cell_type": "markdown",
   "metadata": {},
   "source": [
    "### Loading Teamtat Annotation as dataframe"
   ]
  },
  {
   "cell_type": "code",
   "execution_count": 11,
   "metadata": {},
   "outputs": [],
   "source": [
    "with open('data/annotations_flattened.json', 'r') as f:\n",
    "    json_data = json.load(f)"
   ]
  },
  {
   "cell_type": "code",
   "execution_count": 12,
   "metadata": {},
   "outputs": [],
   "source": [
    "flattened_format = []\n",
    "for key in json_data:\n",
    "    papers = json_data[key]\n",
    "    if papers is None:\n",
    "        flattened_format.append({ \"paper_id\": key, \"output\": None })\n",
    "        continue\n",
    "    for passivator in papers:\n",
    "        paper_data = papers[passivator]\n",
    "        flattened_format.append({ \"paper_id\": key, \"output\": paper_data })"
   ]
  },
  {
   "cell_type": "code",
   "execution_count": 13,
   "metadata": {},
   "outputs": [
    {
     "data": {
      "text/html": [
       "<div>\n",
       "<style scoped>\n",
       "    .dataframe tbody tr th:only-of-type {\n",
       "        vertical-align: middle;\n",
       "    }\n",
       "\n",
       "    .dataframe tbody tr th {\n",
       "        vertical-align: top;\n",
       "    }\n",
       "\n",
       "    .dataframe thead th {\n",
       "        text-align: right;\n",
       "    }\n",
       "</style>\n",
       "<table border=\"1\" class=\"dataframe\">\n",
       "  <thead>\n",
       "    <tr style=\"text-align: right;\">\n",
       "      <th></th>\n",
       "      <th>paper_num</th>\n",
       "      <th>output</th>\n",
       "    </tr>\n",
       "  </thead>\n",
       "  <tbody>\n",
       "    <tr>\n",
       "      <th>125</th>\n",
       "      <td>0</td>\n",
       "      <td>{'perovskite_composition': 'Cs0.05FA0.85MA0.1P...</td>\n",
       "    </tr>\n",
       "    <tr>\n",
       "      <th>98</th>\n",
       "      <td>1</td>\n",
       "      <td>{'perovskite_composition': None, 'electron_tra...</td>\n",
       "    </tr>\n",
       "    <tr>\n",
       "      <th>69</th>\n",
       "      <td>2</td>\n",
       "      <td>{'perovskite_composition': '(FAPbI3)0.95(MAPbB...</td>\n",
       "    </tr>\n",
       "    <tr>\n",
       "      <th>92</th>\n",
       "      <td>3</td>\n",
       "      <td>{'perovskite_composition': 'Cs0.05(MA0.10FA0.8...</td>\n",
       "    </tr>\n",
       "    <tr>\n",
       "      <th>27</th>\n",
       "      <td>4</td>\n",
       "      <td>{'perovskite_composition': '(MAPbBr3)0.05(FAPb...</td>\n",
       "    </tr>\n",
       "    <tr>\n",
       "      <th>...</th>\n",
       "      <td>...</td>\n",
       "      <td>...</td>\n",
       "    </tr>\n",
       "    <tr>\n",
       "      <th>146</th>\n",
       "      <td>146</td>\n",
       "      <td>{'perovskite_composition': 'Cs0.05(MA0.05FA0.9...</td>\n",
       "    </tr>\n",
       "    <tr>\n",
       "      <th>181</th>\n",
       "      <td>147</td>\n",
       "      <td>{'perovskite_composition': 'FAPbI 3', 'electro...</td>\n",
       "    </tr>\n",
       "    <tr>\n",
       "      <th>58</th>\n",
       "      <td>148</td>\n",
       "      <td>{'perovskite_composition': 'Cs0.05FA0.85MA0.10...</td>\n",
       "    </tr>\n",
       "    <tr>\n",
       "      <th>57</th>\n",
       "      <td>148</td>\n",
       "      <td>{'perovskite_composition': 'Cs0.05FA0.85MA0.10...</td>\n",
       "    </tr>\n",
       "    <tr>\n",
       "      <th>174</th>\n",
       "      <td>149</td>\n",
       "      <td>{'perovskite_composition': 'FA0.7MA0.3Pb0.5Sn0...</td>\n",
       "    </tr>\n",
       "  </tbody>\n",
       "</table>\n",
       "<p>197 rows × 2 columns</p>\n",
       "</div>"
      ],
      "text/plain": [
       "     paper_num                                             output\n",
       "125          0  {'perovskite_composition': 'Cs0.05FA0.85MA0.1P...\n",
       "98           1  {'perovskite_composition': None, 'electron_tra...\n",
       "69           2  {'perovskite_composition': '(FAPbI3)0.95(MAPbB...\n",
       "92           3  {'perovskite_composition': 'Cs0.05(MA0.10FA0.8...\n",
       "27           4  {'perovskite_composition': '(MAPbBr3)0.05(FAPb...\n",
       "..         ...                                                ...\n",
       "146        146  {'perovskite_composition': 'Cs0.05(MA0.05FA0.9...\n",
       "181        147  {'perovskite_composition': 'FAPbI 3', 'electro...\n",
       "58         148  {'perovskite_composition': 'Cs0.05FA0.85MA0.10...\n",
       "57         148  {'perovskite_composition': 'Cs0.05FA0.85MA0.10...\n",
       "174        149  {'perovskite_composition': 'FA0.7MA0.3Pb0.5Sn0...\n",
       "\n",
       "[197 rows x 2 columns]"
      ]
     },
     "execution_count": 13,
     "metadata": {},
     "output_type": "execute_result"
    }
   ],
   "source": [
    "annotation_df = pd.DataFrame(flattened_format)\n",
    "annotation_df.columns = ['paper_num', 'output']\n",
    "annotation_df[\"paper_num\"] = annotation_df[\"paper_num\"].astype(int)\n",
    "annotation_df = annotation_df.sort_values(by = 'paper_num')\n",
    "annotation_df"
   ]
  },
  {
   "cell_type": "code",
   "execution_count": 14,
   "metadata": {},
   "outputs": [
    {
     "data": {
      "text/html": [
       "<div>\n",
       "<style scoped>\n",
       "    .dataframe tbody tr th:only-of-type {\n",
       "        vertical-align: middle;\n",
       "    }\n",
       "\n",
       "    .dataframe tbody tr th {\n",
       "        vertical-align: top;\n",
       "    }\n",
       "\n",
       "    .dataframe thead th {\n",
       "        text-align: right;\n",
       "    }\n",
       "</style>\n",
       "<table border=\"1\" class=\"dataframe\">\n",
       "  <thead>\n",
       "    <tr style=\"text-align: right;\">\n",
       "      <th></th>\n",
       "      <th>paper_num</th>\n",
       "      <th>output</th>\n",
       "    </tr>\n",
       "  </thead>\n",
       "  <tbody>\n",
       "    <tr>\n",
       "      <th>4</th>\n",
       "      <td>25</td>\n",
       "      <td>None</td>\n",
       "    </tr>\n",
       "    <tr>\n",
       "      <th>66</th>\n",
       "      <td>26</td>\n",
       "      <td>None</td>\n",
       "    </tr>\n",
       "    <tr>\n",
       "      <th>31</th>\n",
       "      <td>28</td>\n",
       "      <td>None</td>\n",
       "    </tr>\n",
       "    <tr>\n",
       "      <th>89</th>\n",
       "      <td>29</td>\n",
       "      <td>None</td>\n",
       "    </tr>\n",
       "    <tr>\n",
       "      <th>86</th>\n",
       "      <td>30</td>\n",
       "      <td>None</td>\n",
       "    </tr>\n",
       "    <tr>\n",
       "      <th>...</th>\n",
       "      <td>...</td>\n",
       "      <td>...</td>\n",
       "    </tr>\n",
       "    <tr>\n",
       "      <th>105</th>\n",
       "      <td>135</td>\n",
       "      <td>None</td>\n",
       "    </tr>\n",
       "    <tr>\n",
       "      <th>193</th>\n",
       "      <td>136</td>\n",
       "      <td>None</td>\n",
       "    </tr>\n",
       "    <tr>\n",
       "      <th>94</th>\n",
       "      <td>138</td>\n",
       "      <td>None</td>\n",
       "    </tr>\n",
       "    <tr>\n",
       "      <th>9</th>\n",
       "      <td>139</td>\n",
       "      <td>None</td>\n",
       "    </tr>\n",
       "    <tr>\n",
       "      <th>127</th>\n",
       "      <td>140</td>\n",
       "      <td>None</td>\n",
       "    </tr>\n",
       "  </tbody>\n",
       "</table>\n",
       "<p>64 rows × 2 columns</p>\n",
       "</div>"
      ],
      "text/plain": [
       "     paper_num output\n",
       "4           25   None\n",
       "66          26   None\n",
       "31          28   None\n",
       "89          29   None\n",
       "86          30   None\n",
       "..         ...    ...\n",
       "105        135   None\n",
       "193        136   None\n",
       "94         138   None\n",
       "9          139   None\n",
       "127        140   None\n",
       "\n",
       "[64 rows x 2 columns]"
      ]
     },
     "execution_count": 14,
     "metadata": {},
     "output_type": "execute_result"
    }
   ],
   "source": [
    "annotation_df[annotation_df['output'].isnull()]"
   ]
  },
  {
   "cell_type": "code",
   "execution_count": 15,
   "metadata": {},
   "outputs": [
    {
     "data": {
      "text/html": [
       "<div>\n",
       "<style scoped>\n",
       "    .dataframe tbody tr th:only-of-type {\n",
       "        vertical-align: middle;\n",
       "    }\n",
       "\n",
       "    .dataframe tbody tr th {\n",
       "        vertical-align: top;\n",
       "    }\n",
       "\n",
       "    .dataframe thead th {\n",
       "        text-align: right;\n",
       "    }\n",
       "</style>\n",
       "<table border=\"1\" class=\"dataframe\">\n",
       "  <thead>\n",
       "    <tr style=\"text-align: right;\">\n",
       "      <th></th>\n",
       "      <th>paper_num</th>\n",
       "      <th>output</th>\n",
       "    </tr>\n",
       "  </thead>\n",
       "  <tbody>\n",
       "    <tr>\n",
       "      <th>125</th>\n",
       "      <td>0</td>\n",
       "      <td>{'perovskite_composition': 'Cs0.05FA0.85MA0.1P...</td>\n",
       "    </tr>\n",
       "    <tr>\n",
       "      <th>69</th>\n",
       "      <td>2</td>\n",
       "      <td>{'perovskite_composition': '(FAPbI3)0.95(MAPbB...</td>\n",
       "    </tr>\n",
       "    <tr>\n",
       "      <th>92</th>\n",
       "      <td>3</td>\n",
       "      <td>{'perovskite_composition': 'Cs0.05(MA0.10FA0.8...</td>\n",
       "    </tr>\n",
       "    <tr>\n",
       "      <th>27</th>\n",
       "      <td>4</td>\n",
       "      <td>{'perovskite_composition': '(MAPbBr3)0.05(FAPb...</td>\n",
       "    </tr>\n",
       "    <tr>\n",
       "      <th>13</th>\n",
       "      <td>5</td>\n",
       "      <td>{'perovskite_composition': 'FA(MA)PbI 3', 'ele...</td>\n",
       "    </tr>\n",
       "    <tr>\n",
       "      <th>...</th>\n",
       "      <td>...</td>\n",
       "      <td>...</td>\n",
       "    </tr>\n",
       "    <tr>\n",
       "      <th>146</th>\n",
       "      <td>146</td>\n",
       "      <td>{'perovskite_composition': 'Cs0.05(MA0.05FA0.9...</td>\n",
       "    </tr>\n",
       "    <tr>\n",
       "      <th>181</th>\n",
       "      <td>147</td>\n",
       "      <td>{'perovskite_composition': 'FAPbI 3', 'electro...</td>\n",
       "    </tr>\n",
       "    <tr>\n",
       "      <th>58</th>\n",
       "      <td>148</td>\n",
       "      <td>{'perovskite_composition': 'Cs0.05FA0.85MA0.10...</td>\n",
       "    </tr>\n",
       "    <tr>\n",
       "      <th>57</th>\n",
       "      <td>148</td>\n",
       "      <td>{'perovskite_composition': 'Cs0.05FA0.85MA0.10...</td>\n",
       "    </tr>\n",
       "    <tr>\n",
       "      <th>174</th>\n",
       "      <td>149</td>\n",
       "      <td>{'perovskite_composition': 'FA0.7MA0.3Pb0.5Sn0...</td>\n",
       "    </tr>\n",
       "  </tbody>\n",
       "</table>\n",
       "<p>120 rows × 2 columns</p>\n",
       "</div>"
      ],
      "text/plain": [
       "     paper_num                                             output\n",
       "125          0  {'perovskite_composition': 'Cs0.05FA0.85MA0.1P...\n",
       "69           2  {'perovskite_composition': '(FAPbI3)0.95(MAPbB...\n",
       "92           3  {'perovskite_composition': 'Cs0.05(MA0.10FA0.8...\n",
       "27           4  {'perovskite_composition': '(MAPbBr3)0.05(FAPb...\n",
       "13           5  {'perovskite_composition': 'FA(MA)PbI 3', 'ele...\n",
       "..         ...                                                ...\n",
       "146        146  {'perovskite_composition': 'Cs0.05(MA0.05FA0.9...\n",
       "181        147  {'perovskite_composition': 'FAPbI 3', 'electro...\n",
       "58         148  {'perovskite_composition': 'Cs0.05FA0.85MA0.10...\n",
       "57         148  {'perovskite_composition': 'Cs0.05FA0.85MA0.10...\n",
       "174        149  {'perovskite_composition': 'FA0.7MA0.3Pb0.5Sn0...\n",
       "\n",
       "[120 rows x 2 columns]"
      ]
     },
     "execution_count": 15,
     "metadata": {},
     "output_type": "execute_result"
    }
   ],
   "source": [
    "## Get the annotation_df with only relevent good papers. \n",
    "annotation_df = annotation_df[annotation_df['paper_num'].isin(relevent_good)]\n",
    "annotation_df"
   ]
  },
  {
   "cell_type": "code",
   "execution_count": 16,
   "metadata": {},
   "outputs": [
    {
     "data": {
      "text/html": [
       "<div>\n",
       "<style scoped>\n",
       "    .dataframe tbody tr th:only-of-type {\n",
       "        vertical-align: middle;\n",
       "    }\n",
       "\n",
       "    .dataframe tbody tr th {\n",
       "        vertical-align: top;\n",
       "    }\n",
       "\n",
       "    .dataframe thead th {\n",
       "        text-align: right;\n",
       "    }\n",
       "</style>\n",
       "<table border=\"1\" class=\"dataframe\">\n",
       "  <thead>\n",
       "    <tr style=\"text-align: right;\">\n",
       "      <th></th>\n",
       "      <th>paper_num</th>\n",
       "      <th>output</th>\n",
       "    </tr>\n",
       "  </thead>\n",
       "  <tbody>\n",
       "    <tr>\n",
       "      <th>125</th>\n",
       "      <td>0</td>\n",
       "      <td>{'perovskite_composition': 'Cs0.05FA0.85MA0.1P...</td>\n",
       "    </tr>\n",
       "    <tr>\n",
       "      <th>69</th>\n",
       "      <td>2</td>\n",
       "      <td>{'perovskite_composition': '(FAPbI3)0.95(MAPbB...</td>\n",
       "    </tr>\n",
       "    <tr>\n",
       "      <th>92</th>\n",
       "      <td>3</td>\n",
       "      <td>{'perovskite_composition': 'Cs0.05(MA0.10FA0.8...</td>\n",
       "    </tr>\n",
       "    <tr>\n",
       "      <th>27</th>\n",
       "      <td>4</td>\n",
       "      <td>{'perovskite_composition': '(MAPbBr3)0.05(FAPb...</td>\n",
       "    </tr>\n",
       "    <tr>\n",
       "      <th>13</th>\n",
       "      <td>5</td>\n",
       "      <td>{'perovskite_composition': 'FA(MA)PbI 3', 'ele...</td>\n",
       "    </tr>\n",
       "    <tr>\n",
       "      <th>...</th>\n",
       "      <td>...</td>\n",
       "      <td>...</td>\n",
       "    </tr>\n",
       "    <tr>\n",
       "      <th>146</th>\n",
       "      <td>146</td>\n",
       "      <td>{'perovskite_composition': 'Cs0.05(MA0.05FA0.9...</td>\n",
       "    </tr>\n",
       "    <tr>\n",
       "      <th>181</th>\n",
       "      <td>147</td>\n",
       "      <td>{'perovskite_composition': 'FAPbI 3', 'electro...</td>\n",
       "    </tr>\n",
       "    <tr>\n",
       "      <th>58</th>\n",
       "      <td>148</td>\n",
       "      <td>{'perovskite_composition': 'Cs0.05FA0.85MA0.10...</td>\n",
       "    </tr>\n",
       "    <tr>\n",
       "      <th>57</th>\n",
       "      <td>148</td>\n",
       "      <td>{'perovskite_composition': 'Cs0.05FA0.85MA0.10...</td>\n",
       "    </tr>\n",
       "    <tr>\n",
       "      <th>174</th>\n",
       "      <td>149</td>\n",
       "      <td>{'perovskite_composition': 'FA0.7MA0.3Pb0.5Sn0...</td>\n",
       "    </tr>\n",
       "  </tbody>\n",
       "</table>\n",
       "<p>118 rows × 2 columns</p>\n",
       "</div>"
      ],
      "text/plain": [
       "     paper_num                                             output\n",
       "125          0  {'perovskite_composition': 'Cs0.05FA0.85MA0.1P...\n",
       "69           2  {'perovskite_composition': '(FAPbI3)0.95(MAPbB...\n",
       "92           3  {'perovskite_composition': 'Cs0.05(MA0.10FA0.8...\n",
       "27           4  {'perovskite_composition': '(MAPbBr3)0.05(FAPb...\n",
       "13           5  {'perovskite_composition': 'FA(MA)PbI 3', 'ele...\n",
       "..         ...                                                ...\n",
       "146        146  {'perovskite_composition': 'Cs0.05(MA0.05FA0.9...\n",
       "181        147  {'perovskite_composition': 'FAPbI 3', 'electro...\n",
       "58         148  {'perovskite_composition': 'Cs0.05FA0.85MA0.10...\n",
       "57         148  {'perovskite_composition': 'Cs0.05FA0.85MA0.10...\n",
       "174        149  {'perovskite_composition': 'FA0.7MA0.3Pb0.5Sn0...\n",
       "\n",
       "[118 rows x 2 columns]"
      ]
     },
     "execution_count": 16,
     "metadata": {},
     "output_type": "execute_result"
    }
   ],
   "source": [
    "annotation_df = annotation_df[annotation_df['output'].notnull()]\n",
    "annotation_df"
   ]
  },
  {
   "cell_type": "code",
   "execution_count": 17,
   "metadata": {},
   "outputs": [
    {
     "data": {
      "text/plain": [
       "{'perovskite_composition': 'Cs0.05FA0.85MA0.1PbI3',\n",
       " 'electron_transport_layer': 'C60',\n",
       " 'hole_transport_layer': '2PACz',\n",
       " 'structure_pin_nip': 'PIN',\n",
       " 'passivating_molecule': '4-chlorobenzenesulfonate',\n",
       " 'control_pce': '24',\n",
       " 'treated_pce': '26.9',\n",
       " 'control_voc': None,\n",
       " 'treated_voc': '1.18',\n",
       " 'test_1': {'stability_type': 'ISOSL3',\n",
       "  'humidity': '50',\n",
       "  'temperature': '65',\n",
       "  'time': '1200',\n",
       "  'efficiency_cont': None,\n",
       "  'efficiency_tret': '95'},\n",
       " 'test_3': {'stability_type': 'ISOSD2',\n",
       "  'humidity': None,\n",
       "  'temperature': '85',\n",
       "  'time': '1500',\n",
       "  'efficiency_cont': None,\n",
       "  'efficiency_tret': '95'},\n",
       " 'test_2': {'stability_type': 'ISOSL3',\n",
       "  'humidity': '50',\n",
       "  'temperature': '85',\n",
       "  'time': '540',\n",
       "  'efficiency_cont': None,\n",
       "  'efficiency_tret': '87'}}"
      ]
     },
     "execution_count": 17,
     "metadata": {},
     "output_type": "execute_result"
    }
   ],
   "source": [
    "annotation_df.iloc[0]['output']"
   ]
  },
  {
   "cell_type": "code",
   "execution_count": 18,
   "metadata": {},
   "outputs": [],
   "source": [
    "# #Teamtat Annotation\n",
    "# annotation_df = pd.read_csv(\"data/annotation_flat.csv\")[['paper_num', 'output']]\n",
    "# annotation_df = annotation_df.sort_values(by = ['paper_num'])\n",
    "# annotation_df"
   ]
  },
  {
   "cell_type": "code",
   "execution_count": 19,
   "metadata": {},
   "outputs": [
    {
     "data": {
      "text/plain": [
       "{'perovskite_composition': 'Cs0.05(MA)0.16(FA)0.79Pb(I0.83Br0.17 )3',\n",
       " 'electron_transport_layer': 'C60',\n",
       " 'hole_transport_layer': None,\n",
       " 'structure_pin_nip': 'NIP',\n",
       " 'passivating_molecule': 'phenylethylammonium lead iodide',\n",
       " 'control_pce': None,\n",
       " 'treated_pce': None,\n",
       " 'control_voc': '1.05',\n",
       " 'treated_voc': '1.11',\n",
       " 'test_7': {'stability_type': 'ISOSD',\n",
       "  'humidity': '60',\n",
       "  'temperature': None,\n",
       "  'time': '1000',\n",
       "  'efficiency_cont': None,\n",
       "  'efficiency_tret': '90'},\n",
       " 'test_8': {'stability_type': 'ISOST',\n",
       "  'humidity': None,\n",
       "  'temperature': '60',\n",
       "  'time': '100',\n",
       "  'efficiency_cont': None,\n",
       "  'efficiency_tret': '75'}}"
      ]
     },
     "execution_count": 19,
     "metadata": {},
     "output_type": "execute_result"
    }
   ],
   "source": [
    "annotation_df[annotation_df['paper_num'] == 7]['output'].iloc[5]"
   ]
  },
  {
   "cell_type": "markdown",
   "metadata": {},
   "source": [
    "## Clean the annotation:\n",
    "- Drop row where dictionary doesn't have test_\n",
    "- Convert numeric\n"
   ]
  },
  {
   "cell_type": "code",
   "execution_count": 20,
   "metadata": {},
   "outputs": [],
   "source": [
    "def filter_output(dictionary):\n",
    "    ## I want to drop row where passivation is none. \n",
    "    if dictionary['passivating_molecule'] == None:\n",
    "        return True\n",
    "    return False"
   ]
  },
  {
   "cell_type": "code",
   "execution_count": 21,
   "metadata": {},
   "outputs": [
    {
     "name": "stderr",
     "output_type": "stream",
     "text": [
      "C:\\Users\\Luna\\AppData\\Local\\Temp\\ipykernel_50756\\1643497076.py:2: SettingWithCopyWarning: \n",
      "A value is trying to be set on a copy of a slice from a DataFrame.\n",
      "Try using .loc[row_indexer,col_indexer] = value instead\n",
      "\n",
      "See the caveats in the documentation: https://pandas.pydata.org/pandas-docs/stable/user_guide/indexing.html#returning-a-view-versus-a-copy\n",
      "  annotation_df['filter'] = annotation_filter\n"
     ]
    },
    {
     "data": {
      "text/html": [
       "<div>\n",
       "<style scoped>\n",
       "    .dataframe tbody tr th:only-of-type {\n",
       "        vertical-align: middle;\n",
       "    }\n",
       "\n",
       "    .dataframe tbody tr th {\n",
       "        vertical-align: top;\n",
       "    }\n",
       "\n",
       "    .dataframe thead th {\n",
       "        text-align: right;\n",
       "    }\n",
       "</style>\n",
       "<table border=\"1\" class=\"dataframe\">\n",
       "  <thead>\n",
       "    <tr style=\"text-align: right;\">\n",
       "      <th></th>\n",
       "      <th>paper_num</th>\n",
       "      <th>output</th>\n",
       "    </tr>\n",
       "  </thead>\n",
       "  <tbody>\n",
       "    <tr>\n",
       "      <th>125</th>\n",
       "      <td>0</td>\n",
       "      <td>{'perovskite_composition': 'Cs0.05FA0.85MA0.1P...</td>\n",
       "    </tr>\n",
       "    <tr>\n",
       "      <th>69</th>\n",
       "      <td>2</td>\n",
       "      <td>{'perovskite_composition': '(FAPbI3)0.95(MAPbB...</td>\n",
       "    </tr>\n",
       "    <tr>\n",
       "      <th>92</th>\n",
       "      <td>3</td>\n",
       "      <td>{'perovskite_composition': 'Cs0.05(MA0.10FA0.8...</td>\n",
       "    </tr>\n",
       "    <tr>\n",
       "      <th>27</th>\n",
       "      <td>4</td>\n",
       "      <td>{'perovskite_composition': '(MAPbBr3)0.05(FAPb...</td>\n",
       "    </tr>\n",
       "    <tr>\n",
       "      <th>13</th>\n",
       "      <td>5</td>\n",
       "      <td>{'perovskite_composition': 'FA(MA)PbI 3', 'ele...</td>\n",
       "    </tr>\n",
       "    <tr>\n",
       "      <th>...</th>\n",
       "      <td>...</td>\n",
       "      <td>...</td>\n",
       "    </tr>\n",
       "    <tr>\n",
       "      <th>147</th>\n",
       "      <td>146</td>\n",
       "      <td>{'perovskite_composition': 'Cs0.05(MA0.05FA0.9...</td>\n",
       "    </tr>\n",
       "    <tr>\n",
       "      <th>181</th>\n",
       "      <td>147</td>\n",
       "      <td>{'perovskite_composition': 'FAPbI 3', 'electro...</td>\n",
       "    </tr>\n",
       "    <tr>\n",
       "      <th>58</th>\n",
       "      <td>148</td>\n",
       "      <td>{'perovskite_composition': 'Cs0.05FA0.85MA0.10...</td>\n",
       "    </tr>\n",
       "    <tr>\n",
       "      <th>57</th>\n",
       "      <td>148</td>\n",
       "      <td>{'perovskite_composition': 'Cs0.05FA0.85MA0.10...</td>\n",
       "    </tr>\n",
       "    <tr>\n",
       "      <th>174</th>\n",
       "      <td>149</td>\n",
       "      <td>{'perovskite_composition': 'FA0.7MA0.3Pb0.5Sn0...</td>\n",
       "    </tr>\n",
       "  </tbody>\n",
       "</table>\n",
       "<p>106 rows × 2 columns</p>\n",
       "</div>"
      ],
      "text/plain": [
       "     paper_num                                             output\n",
       "125          0  {'perovskite_composition': 'Cs0.05FA0.85MA0.1P...\n",
       "69           2  {'perovskite_composition': '(FAPbI3)0.95(MAPbB...\n",
       "92           3  {'perovskite_composition': 'Cs0.05(MA0.10FA0.8...\n",
       "27           4  {'perovskite_composition': '(MAPbBr3)0.05(FAPb...\n",
       "13           5  {'perovskite_composition': 'FA(MA)PbI 3', 'ele...\n",
       "..         ...                                                ...\n",
       "147        146  {'perovskite_composition': 'Cs0.05(MA0.05FA0.9...\n",
       "181        147  {'perovskite_composition': 'FAPbI 3', 'electro...\n",
       "58         148  {'perovskite_composition': 'Cs0.05FA0.85MA0.10...\n",
       "57         148  {'perovskite_composition': 'Cs0.05FA0.85MA0.10...\n",
       "174        149  {'perovskite_composition': 'FA0.7MA0.3Pb0.5Sn0...\n",
       "\n",
       "[106 rows x 2 columns]"
      ]
     },
     "execution_count": 21,
     "metadata": {},
     "output_type": "execute_result"
    }
   ],
   "source": [
    "annotation_filter = annotation_df['output'].apply(filter_output)\n",
    "annotation_df['filter'] = annotation_filter\n",
    "annotation_df = annotation_df[annotation_df['filter'] == False][['paper_num', 'output']]\n",
    "annotation_df"
   ]
  },
  {
   "cell_type": "code",
   "execution_count": 22,
   "metadata": {},
   "outputs": [],
   "source": [
    "##Str_toJson is irrelevent since output was already in dictionary format!!!\n",
    "\n",
    "##Change the format (minor) to be converted to json\n",
    "# annotation_df['output'] = annotation_df['output'].apply(str_toJson)\n",
    "# annotation_df"
   ]
  },
  {
   "cell_type": "code",
   "execution_count": 23,
   "metadata": {},
   "outputs": [
    {
     "data": {
      "text/plain": [
       "72"
      ]
     },
     "execution_count": 23,
     "metadata": {},
     "output_type": "execute_result"
    }
   ],
   "source": [
    "len(annotation_df['paper_num'].unique())"
   ]
  },
  {
   "cell_type": "code",
   "execution_count": 24,
   "metadata": {},
   "outputs": [
    {
     "data": {
      "text/plain": [
       "{'perovskite_composition': '(FAPbI3)0.95(MAPbBr3)0.05',\n",
       " 'electron_transport_layer': 'TitaniumDioxide',\n",
       " 'hole_transport_layer': 'Spiro-OMeTAD',\n",
       " 'structure_pin_nip': None,\n",
       " 'passivating_molecule': 'dodecylammonium iodide',\n",
       " 'control_pce': '5.9',\n",
       " 'treated_pce': '15.1',\n",
       " 'control_voc': None,\n",
       " 'treated_voc': None,\n",
       " 'test_3': {'stability_type': 'ISOSD',\n",
       "  'humidity': '85',\n",
       "  'temperature': 'room temperature',\n",
       "  'time': '100',\n",
       "  'efficiency_cont': None,\n",
       "  'efficiency_tret': '90'},\n",
       " 'test_4': {'stability_type': 'ISOSD',\n",
       "  'humidity': '65',\n",
       "  'temperature': '65',\n",
       "  'time': '100',\n",
       "  'efficiency_cont': '20',\n",
       "  'efficiency_tret': '80'}}"
      ]
     },
     "execution_count": 24,
     "metadata": {},
     "output_type": "execute_result"
    }
   ],
   "source": [
    "annotation_df['output'][7]"
   ]
  },
  {
   "cell_type": "code",
   "execution_count": 25,
   "metadata": {},
   "outputs": [],
   "source": [
    "annotation_df['output'] = annotation_df['output'].apply(convert_numeric)\n",
    "annotation_df['output'] = annotation_df['output'].apply(convert_numeric_outside)"
   ]
  },
  {
   "cell_type": "code",
   "execution_count": 26,
   "metadata": {},
   "outputs": [
    {
     "data": {
      "text/html": [
       "<div>\n",
       "<style scoped>\n",
       "    .dataframe tbody tr th:only-of-type {\n",
       "        vertical-align: middle;\n",
       "    }\n",
       "\n",
       "    .dataframe tbody tr th {\n",
       "        vertical-align: top;\n",
       "    }\n",
       "\n",
       "    .dataframe thead th {\n",
       "        text-align: right;\n",
       "    }\n",
       "</style>\n",
       "<table border=\"1\" class=\"dataframe\">\n",
       "  <thead>\n",
       "    <tr style=\"text-align: right;\">\n",
       "      <th></th>\n",
       "      <th>paper_num</th>\n",
       "      <th>output</th>\n",
       "    </tr>\n",
       "  </thead>\n",
       "  <tbody>\n",
       "    <tr>\n",
       "      <th>125</th>\n",
       "      <td>0</td>\n",
       "      <td>{'perovskite_composition': 'Cs0.05FA0.85MA0.1P...</td>\n",
       "    </tr>\n",
       "    <tr>\n",
       "      <th>69</th>\n",
       "      <td>2</td>\n",
       "      <td>{'perovskite_composition': '(FAPbI3)0.95(MAPbB...</td>\n",
       "    </tr>\n",
       "    <tr>\n",
       "      <th>92</th>\n",
       "      <td>3</td>\n",
       "      <td>{'perovskite_composition': 'Cs0.05(MA0.10FA0.8...</td>\n",
       "    </tr>\n",
       "    <tr>\n",
       "      <th>27</th>\n",
       "      <td>4</td>\n",
       "      <td>{'perovskite_composition': '(MAPbBr3)0.05(FAPb...</td>\n",
       "    </tr>\n",
       "    <tr>\n",
       "      <th>13</th>\n",
       "      <td>5</td>\n",
       "      <td>{'perovskite_composition': 'FA(MA)PbI 3', 'ele...</td>\n",
       "    </tr>\n",
       "    <tr>\n",
       "      <th>...</th>\n",
       "      <td>...</td>\n",
       "      <td>...</td>\n",
       "    </tr>\n",
       "    <tr>\n",
       "      <th>147</th>\n",
       "      <td>146</td>\n",
       "      <td>{'perovskite_composition': 'Cs0.05(MA0.05FA0.9...</td>\n",
       "    </tr>\n",
       "    <tr>\n",
       "      <th>181</th>\n",
       "      <td>147</td>\n",
       "      <td>{'perovskite_composition': 'FAPbI 3', 'electro...</td>\n",
       "    </tr>\n",
       "    <tr>\n",
       "      <th>58</th>\n",
       "      <td>148</td>\n",
       "      <td>{'perovskite_composition': 'Cs0.05FA0.85MA0.10...</td>\n",
       "    </tr>\n",
       "    <tr>\n",
       "      <th>57</th>\n",
       "      <td>148</td>\n",
       "      <td>{'perovskite_composition': 'Cs0.05FA0.85MA0.10...</td>\n",
       "    </tr>\n",
       "    <tr>\n",
       "      <th>174</th>\n",
       "      <td>149</td>\n",
       "      <td>{'perovskite_composition': 'FA0.7MA0.3Pb0.5Sn0...</td>\n",
       "    </tr>\n",
       "  </tbody>\n",
       "</table>\n",
       "<p>106 rows × 2 columns</p>\n",
       "</div>"
      ],
      "text/plain": [
       "     paper_num                                             output\n",
       "125          0  {'perovskite_composition': 'Cs0.05FA0.85MA0.1P...\n",
       "69           2  {'perovskite_composition': '(FAPbI3)0.95(MAPbB...\n",
       "92           3  {'perovskite_composition': 'Cs0.05(MA0.10FA0.8...\n",
       "27           4  {'perovskite_composition': '(MAPbBr3)0.05(FAPb...\n",
       "13           5  {'perovskite_composition': 'FA(MA)PbI 3', 'ele...\n",
       "..         ...                                                ...\n",
       "147        146  {'perovskite_composition': 'Cs0.05(MA0.05FA0.9...\n",
       "181        147  {'perovskite_composition': 'FAPbI 3', 'electro...\n",
       "58         148  {'perovskite_composition': 'Cs0.05FA0.85MA0.10...\n",
       "57         148  {'perovskite_composition': 'Cs0.05FA0.85MA0.10...\n",
       "174        149  {'perovskite_composition': 'FA0.7MA0.3Pb0.5Sn0...\n",
       "\n",
       "[106 rows x 2 columns]"
      ]
     },
     "execution_count": 26,
     "metadata": {},
     "output_type": "execute_result"
    }
   ],
   "source": [
    "annotation_df"
   ]
  },
  {
   "cell_type": "code",
   "execution_count": 27,
   "metadata": {},
   "outputs": [],
   "source": [
    "# # Exporting annotation\n",
    "annotation_df.to_csv('annotation.csv', index=False)"
   ]
  },
  {
   "cell_type": "markdown",
   "metadata": {},
   "source": [
    "### Loading in JSON extraction"
   ]
  },
  {
   "cell_type": "code",
   "execution_count": 28,
   "metadata": {},
   "outputs": [],
   "source": [
    "def convert_efficiency_key(dict):\n",
    "    for key, item in dict.items():\n",
    "        if 'test' in key:\n",
    "            if 'retained_proportion_cont' in dict[key]:\n",
    "                dict[key]['efficiency_cont'] = dict[key].pop('retained_proportion_cont')\n",
    "            if 'retained_proportion_tret' in dict[key]:\n",
    "                dict[key]['efficiency_tret'] = dict[key].pop('retained_proportion_tret')\n",
    "    return dict\n",
    "            "
   ]
  },
  {
   "cell_type": "code",
   "execution_count": 29,
   "metadata": {},
   "outputs": [
    {
     "data": {
      "text/html": [
       "<div>\n",
       "<style scoped>\n",
       "    .dataframe tbody tr th:only-of-type {\n",
       "        vertical-align: middle;\n",
       "    }\n",
       "\n",
       "    .dataframe tbody tr th {\n",
       "        vertical-align: top;\n",
       "    }\n",
       "\n",
       "    .dataframe thead th {\n",
       "        text-align: right;\n",
       "    }\n",
       "</style>\n",
       "<table border=\"1\" class=\"dataframe\">\n",
       "  <thead>\n",
       "    <tr style=\"text-align: right;\">\n",
       "      <th></th>\n",
       "      <th>paper_num</th>\n",
       "      <th>output</th>\n",
       "    </tr>\n",
       "  </thead>\n",
       "  <tbody>\n",
       "    <tr>\n",
       "      <th>77</th>\n",
       "      <td>0</td>\n",
       "      <td>{'perovskite_composition': 'FAPbI3', 'electron...</td>\n",
       "    </tr>\n",
       "    <tr>\n",
       "      <th>127</th>\n",
       "      <td>1</td>\n",
       "      <td>{'perovskite_composition': 'FA 1-x MA x PbI 3'...</td>\n",
       "    </tr>\n",
       "    <tr>\n",
       "      <th>7</th>\n",
       "      <td>2</td>\n",
       "      <td>{'perovskite_composition': '(BA)2PbI4', 'elect...</td>\n",
       "    </tr>\n",
       "    <tr>\n",
       "      <th>35</th>\n",
       "      <td>3</td>\n",
       "      <td>{'perovskite_composition': 'Cs0.05(MA0.10FA0.8...</td>\n",
       "    </tr>\n",
       "    <tr>\n",
       "      <th>31</th>\n",
       "      <td>4</td>\n",
       "      <td>{'perovskite_composition': '(MAPbBr3)0.05(FAPb...</td>\n",
       "    </tr>\n",
       "    <tr>\n",
       "      <th>...</th>\n",
       "      <td>...</td>\n",
       "      <td>...</td>\n",
       "    </tr>\n",
       "    <tr>\n",
       "      <th>38</th>\n",
       "      <td>145</td>\n",
       "      <td>{'perovskite_composition': 'Cs 0.05 (MA 0.17 F...</td>\n",
       "    </tr>\n",
       "    <tr>\n",
       "      <th>89</th>\n",
       "      <td>146</td>\n",
       "      <td>{'perovskite_composition': 'Cs0.05(MA0.05FA0.9...</td>\n",
       "    </tr>\n",
       "    <tr>\n",
       "      <th>121</th>\n",
       "      <td>147</td>\n",
       "      <td>{'perovskite_composition': 'FAPbI3', 'electron...</td>\n",
       "    </tr>\n",
       "    <tr>\n",
       "      <th>84</th>\n",
       "      <td>148</td>\n",
       "      <td>{'perovskite_composition': 'Cs 0.05 FA 0.85 MA...</td>\n",
       "    </tr>\n",
       "    <tr>\n",
       "      <th>126</th>\n",
       "      <td>149</td>\n",
       "      <td>{'perovskite_composition': 'FA0.75MA0.25Pb0.5S...</td>\n",
       "    </tr>\n",
       "  </tbody>\n",
       "</table>\n",
       "<p>131 rows × 2 columns</p>\n",
       "</div>"
      ],
      "text/plain": [
       "     paper_num                                             output\n",
       "77           0  {'perovskite_composition': 'FAPbI3', 'electron...\n",
       "127          1  {'perovskite_composition': 'FA 1-x MA x PbI 3'...\n",
       "7            2  {'perovskite_composition': '(BA)2PbI4', 'elect...\n",
       "35           3  {'perovskite_composition': 'Cs0.05(MA0.10FA0.8...\n",
       "31           4  {'perovskite_composition': '(MAPbBr3)0.05(FAPb...\n",
       "..         ...                                                ...\n",
       "38         145  {'perovskite_composition': 'Cs 0.05 (MA 0.17 F...\n",
       "89         146  {'perovskite_composition': 'Cs0.05(MA0.05FA0.9...\n",
       "121        147  {'perovskite_composition': 'FAPbI3', 'electron...\n",
       "84         148  {'perovskite_composition': 'Cs 0.05 FA 0.85 MA...\n",
       "126        149  {'perovskite_composition': 'FA0.75MA0.25Pb0.5S...\n",
       "\n",
       "[131 rows x 2 columns]"
      ]
     },
     "execution_count": 29,
     "metadata": {},
     "output_type": "execute_result"
    }
   ],
   "source": [
    "## extraction performed by basemodel\n",
    "# Read JSON from a file\n",
    "with open(\"data/deepseek_base_updateschema.json\", 'r') as f:\n",
    "    extraction = json.load(f)\n",
    "\n",
    "extraction_base = pd.DataFrame(list(extraction.items()), columns=['paper_num', 'output'])\n",
    "extraction_base['paper_num'] = pd.to_numeric(extraction_base['paper_num'])\n",
    "extraction_base = extraction_base.sort_values('paper_num')\n",
    "# extraction_base['output'] = extraction_base['output'].apply(include_passivating)\n",
    "extraction_base['output'] = extraction_base['output'].apply(convert_numeric)\n",
    "# extraction_base['output'] = extraction_base['output'].apply(convert_efficiency)\n",
    "extraction_base"
   ]
  },
  {
   "cell_type": "code",
   "execution_count": 30,
   "metadata": {},
   "outputs": [],
   "source": [
    "# extraction_base = extraction_base['output'].apply(filter_output)\n",
    "# extraction_base['filter'] = extraction_base\n",
    "# extraction_base = extraction_base[extraction_base['filter'] == False][['paper_num', 'output']]\n",
    "# extraction_base"
   ]
  },
  {
   "cell_type": "code",
   "execution_count": 31,
   "metadata": {},
   "outputs": [
    {
     "ename": "NameError",
     "evalue": "name 'TBD' is not defined",
     "output_type": "error",
     "traceback": [
      "\u001b[1;31m---------------------------------------------------------------------------\u001b[0m",
      "\u001b[1;31mNameError\u001b[0m                                 Traceback (most recent call last)",
      "Cell \u001b[1;32mIn[31], line 11\u001b[0m\n\u001b[0;32m      8\u001b[0m extraction_train \u001b[38;5;241m=\u001b[39m extraction_train\u001b[38;5;241m.\u001b[39msort_values(\u001b[38;5;124m'\u001b[39m\u001b[38;5;124mpaper_num\u001b[39m\u001b[38;5;124m'\u001b[39m)\n\u001b[0;32m     10\u001b[0m \u001b[38;5;66;03m##Must convert str --> json\u001b[39;00m\n\u001b[1;32m---> 11\u001b[0m \u001b[43mTBD\u001b[49m\n\u001b[0;32m     12\u001b[0m \u001b[38;5;66;03m# extraction_train['output'] = extraction_train['output'].apply(str_toJson)\u001b[39;00m\n\u001b[0;32m     13\u001b[0m extraction_train[\u001b[38;5;124m'\u001b[39m\u001b[38;5;124moutput\u001b[39m\u001b[38;5;124m'\u001b[39m] \u001b[38;5;241m=\u001b[39m extraction_train[\u001b[38;5;124m'\u001b[39m\u001b[38;5;124moutput\u001b[39m\u001b[38;5;124m'\u001b[39m]\u001b[38;5;241m.\u001b[39mapply(include_passivating)\n",
      "\u001b[1;31mNameError\u001b[0m: name 'TBD' is not defined"
     ]
    }
   ],
   "source": [
    "## extraction performed by finetuned deepseek\n",
    "# Read JSON from a file\n",
    "with open(\"data/deepseek_8bit_finetuned_tests_nested.json\", 'r') as f:\n",
    "    extraction = json.load(f)\n",
    "\n",
    "extraction_train = pd.DataFrame(list(extraction.items()), columns=['paper_num', 'output'])\n",
    "extraction_train['paper_num'] = pd.to_numeric(extraction_train['paper_num'])\n",
    "extraction_train = extraction_train.sort_values('paper_num')\n",
    "\n",
    "##Must convert str --> json\n",
    "TBD\n",
    "# extraction_train['output'] = extraction_train['output'].apply(str_toJson)\n",
    "extraction_train['output'] = extraction_train['output'].apply(include_passivating)\n",
    "extraction_train['output'] = extraction_train['output'].apply(convert_numeric)\n",
    "extraction_train['output'] = extraction_train['output'].apply(convert_efficiency)\n",
    "extraction_train['output'] = extraction_train['output'].apply(convert_efficiency_key)\n",
    "extraction_train"
   ]
  },
  {
   "cell_type": "code",
   "execution_count": null,
   "metadata": {},
   "outputs": [
    {
     "data": {
      "text/plain": [
       "\"{'perovskite_composition': '2D perovskite', 'electron_transport_layer': 'C60', 'pin_nip_structure': 'NIP', 'hole_transport_layer': 'Spiro-OMeTAD', 'passivating_molecule': '4-fluorophenylethylammonium', 'control_pce': None, 'control_voc': None, 'treated_pec': '21.6', 'treated_voc': '1.16', 'test_1': {'test_name': 'ISOS-L', 'temperature': '85', 'time': '1000', 'humidity': '85', 'retained_percentage_cont': '90', 'retained_percentage_tret': '95'}}\""
      ]
     },
     "execution_count": 105,
     "metadata": {},
     "output_type": "execute_result"
    }
   ],
   "source": [
    "extraction_train.iloc[4]['output']"
   ]
  },
  {
   "cell_type": "markdown",
   "metadata": {},
   "source": [
    "## Merging dataframe"
   ]
  },
  {
   "cell_type": "code",
   "execution_count": 32,
   "metadata": {},
   "outputs": [
    {
     "data": {
      "text/html": [
       "<div>\n",
       "<style scoped>\n",
       "    .dataframe tbody tr th:only-of-type {\n",
       "        vertical-align: middle;\n",
       "    }\n",
       "\n",
       "    .dataframe tbody tr th {\n",
       "        vertical-align: top;\n",
       "    }\n",
       "\n",
       "    .dataframe thead th {\n",
       "        text-align: right;\n",
       "    }\n",
       "</style>\n",
       "<table border=\"1\" class=\"dataframe\">\n",
       "  <thead>\n",
       "    <tr style=\"text-align: right;\">\n",
       "      <th></th>\n",
       "      <th>paper_num</th>\n",
       "      <th>annotation</th>\n",
       "      <th>extracted</th>\n",
       "    </tr>\n",
       "  </thead>\n",
       "  <tbody>\n",
       "    <tr>\n",
       "      <th>0</th>\n",
       "      <td>0</td>\n",
       "      <td>{'perovskite_composition': 'Cs0.05FA0.85MA0.1P...</td>\n",
       "      <td>{'perovskite_composition': 'FAPbI3', 'electron...</td>\n",
       "    </tr>\n",
       "    <tr>\n",
       "      <th>1</th>\n",
       "      <td>2</td>\n",
       "      <td>{'perovskite_composition': '(FAPbI3)0.95(MAPbB...</td>\n",
       "      <td>{'perovskite_composition': '(BA)2PbI4', 'elect...</td>\n",
       "    </tr>\n",
       "    <tr>\n",
       "      <th>2</th>\n",
       "      <td>3</td>\n",
       "      <td>{'perovskite_composition': 'Cs0.05(MA0.10FA0.8...</td>\n",
       "      <td>{'perovskite_composition': 'Cs0.05(MA0.10FA0.8...</td>\n",
       "    </tr>\n",
       "    <tr>\n",
       "      <th>3</th>\n",
       "      <td>4</td>\n",
       "      <td>{'perovskite_composition': '(MAPbBr3)0.05(FAPb...</td>\n",
       "      <td>{'perovskite_composition': '(MAPbBr3)0.05(FAPb...</td>\n",
       "    </tr>\n",
       "    <tr>\n",
       "      <th>4</th>\n",
       "      <td>5</td>\n",
       "      <td>{'perovskite_composition': 'FA(MA)PbI 3', 'ele...</td>\n",
       "      <td>{'perovskite_composition': 'FA(MA)PbI3', 'elec...</td>\n",
       "    </tr>\n",
       "    <tr>\n",
       "      <th>...</th>\n",
       "      <td>...</td>\n",
       "      <td>...</td>\n",
       "      <td>...</td>\n",
       "    </tr>\n",
       "    <tr>\n",
       "      <th>89</th>\n",
       "      <td>146</td>\n",
       "      <td>{'perovskite_composition': 'Cs0.05(MA0.05FA0.9...</td>\n",
       "      <td>{'perovskite_composition': 'Cs0.05(MA0.05FA0.9...</td>\n",
       "    </tr>\n",
       "    <tr>\n",
       "      <th>90</th>\n",
       "      <td>147</td>\n",
       "      <td>{'perovskite_composition': 'FAPbI 3', 'electro...</td>\n",
       "      <td>{'perovskite_composition': 'FAPbI3', 'electron...</td>\n",
       "    </tr>\n",
       "    <tr>\n",
       "      <th>91</th>\n",
       "      <td>148</td>\n",
       "      <td>{'perovskite_composition': 'Cs0.05FA0.85MA0.10...</td>\n",
       "      <td>{'perovskite_composition': 'Cs 0.05 FA 0.85 MA...</td>\n",
       "    </tr>\n",
       "    <tr>\n",
       "      <th>92</th>\n",
       "      <td>148</td>\n",
       "      <td>{'perovskite_composition': 'Cs0.05FA0.85MA0.10...</td>\n",
       "      <td>{'perovskite_composition': 'Cs 0.05 FA 0.85 MA...</td>\n",
       "    </tr>\n",
       "    <tr>\n",
       "      <th>93</th>\n",
       "      <td>149</td>\n",
       "      <td>{'perovskite_composition': 'FA0.7MA0.3Pb0.5Sn0...</td>\n",
       "      <td>{'perovskite_composition': 'FA0.75MA0.25Pb0.5S...</td>\n",
       "    </tr>\n",
       "  </tbody>\n",
       "</table>\n",
       "<p>94 rows × 3 columns</p>\n",
       "</div>"
      ],
      "text/plain": [
       "    paper_num                                         annotation  \\\n",
       "0           0  {'perovskite_composition': 'Cs0.05FA0.85MA0.1P...   \n",
       "1           2  {'perovskite_composition': '(FAPbI3)0.95(MAPbB...   \n",
       "2           3  {'perovskite_composition': 'Cs0.05(MA0.10FA0.8...   \n",
       "3           4  {'perovskite_composition': '(MAPbBr3)0.05(FAPb...   \n",
       "4           5  {'perovskite_composition': 'FA(MA)PbI 3', 'ele...   \n",
       "..        ...                                                ...   \n",
       "89        146  {'perovskite_composition': 'Cs0.05(MA0.05FA0.9...   \n",
       "90        147  {'perovskite_composition': 'FAPbI 3', 'electro...   \n",
       "91        148  {'perovskite_composition': 'Cs0.05FA0.85MA0.10...   \n",
       "92        148  {'perovskite_composition': 'Cs0.05FA0.85MA0.10...   \n",
       "93        149  {'perovskite_composition': 'FA0.7MA0.3Pb0.5Sn0...   \n",
       "\n",
       "                                            extracted  \n",
       "0   {'perovskite_composition': 'FAPbI3', 'electron...  \n",
       "1   {'perovskite_composition': '(BA)2PbI4', 'elect...  \n",
       "2   {'perovskite_composition': 'Cs0.05(MA0.10FA0.8...  \n",
       "3   {'perovskite_composition': '(MAPbBr3)0.05(FAPb...  \n",
       "4   {'perovskite_composition': 'FA(MA)PbI3', 'elec...  \n",
       "..                                                ...  \n",
       "89  {'perovskite_composition': 'Cs0.05(MA0.05FA0.9...  \n",
       "90  {'perovskite_composition': 'FAPbI3', 'electron...  \n",
       "91  {'perovskite_composition': 'Cs 0.05 FA 0.85 MA...  \n",
       "92  {'perovskite_composition': 'Cs 0.05 FA 0.85 MA...  \n",
       "93  {'perovskite_composition': 'FA0.75MA0.25Pb0.5S...  \n",
       "\n",
       "[94 rows x 3 columns]"
      ]
     },
     "execution_count": 32,
     "metadata": {},
     "output_type": "execute_result"
    }
   ],
   "source": [
    "evaluate_df_base = annotation_df.merge(extraction_base, left_on='paper_num', right_on='paper_num')[[\"paper_num\", \"output_x\",'output_y']]\n",
    "evaluate_df_base.columns = ['paper_num', 'annotation', 'extracted']\n",
    "evaluate_df_base"
   ]
  },
  {
   "cell_type": "code",
   "execution_count": 33,
   "metadata": {},
   "outputs": [
    {
     "data": {
      "text/html": [
       "<div>\n",
       "<style scoped>\n",
       "    .dataframe tbody tr th:only-of-type {\n",
       "        vertical-align: middle;\n",
       "    }\n",
       "\n",
       "    .dataframe tbody tr th {\n",
       "        vertical-align: top;\n",
       "    }\n",
       "\n",
       "    .dataframe thead th {\n",
       "        text-align: right;\n",
       "    }\n",
       "</style>\n",
       "<table border=\"1\" class=\"dataframe\">\n",
       "  <thead>\n",
       "    <tr style=\"text-align: right;\">\n",
       "      <th></th>\n",
       "      <th>paper_num</th>\n",
       "      <th>annotation</th>\n",
       "      <th>extracted</th>\n",
       "    </tr>\n",
       "  </thead>\n",
       "  <tbody>\n",
       "    <tr>\n",
       "      <th>6</th>\n",
       "      <td>7</td>\n",
       "      <td>{'perovskite_composition': 'Cs0.05(MA)0.16(FA)...</td>\n",
       "      <td>{'perovskite_composition': 'C4N9H12)2PbI7', 'e...</td>\n",
       "    </tr>\n",
       "    <tr>\n",
       "      <th>7</th>\n",
       "      <td>7</td>\n",
       "      <td>{'perovskite_composition': 'Cs0.05(MA)0.16(FA)...</td>\n",
       "      <td>{'perovskite_composition': 'C4N9H12)2PbI7', 'e...</td>\n",
       "    </tr>\n",
       "    <tr>\n",
       "      <th>8</th>\n",
       "      <td>7</td>\n",
       "      <td>{'perovskite_composition': 'Cs0.05(MA)0.16(FA)...</td>\n",
       "      <td>{'perovskite_composition': 'C4N9H12)2PbI7', 'e...</td>\n",
       "    </tr>\n",
       "    <tr>\n",
       "      <th>9</th>\n",
       "      <td>7</td>\n",
       "      <td>{'perovskite_composition': 'Cs0.05(MA)0.16(FA)...</td>\n",
       "      <td>{'perovskite_composition': 'C4N9H12)2PbI7', 'e...</td>\n",
       "    </tr>\n",
       "    <tr>\n",
       "      <th>10</th>\n",
       "      <td>7</td>\n",
       "      <td>{'perovskite_composition': 'Cs0.05(MA)0.16(FA)...</td>\n",
       "      <td>{'perovskite_composition': 'C4N9H12)2PbI7', 'e...</td>\n",
       "    </tr>\n",
       "    <tr>\n",
       "      <th>11</th>\n",
       "      <td>7</td>\n",
       "      <td>{'perovskite_composition': 'Cs0.05(MA)0.16(FA)...</td>\n",
       "      <td>{'perovskite_composition': 'C4N9H12)2PbI7', 'e...</td>\n",
       "    </tr>\n",
       "    <tr>\n",
       "      <th>12</th>\n",
       "      <td>7</td>\n",
       "      <td>{'perovskite_composition': 'Cs0.05(MA)0.16(FA)...</td>\n",
       "      <td>{'perovskite_composition': 'C4N9H12)2PbI7', 'e...</td>\n",
       "    </tr>\n",
       "  </tbody>\n",
       "</table>\n",
       "</div>"
      ],
      "text/plain": [
       "    paper_num                                         annotation  \\\n",
       "6           7  {'perovskite_composition': 'Cs0.05(MA)0.16(FA)...   \n",
       "7           7  {'perovskite_composition': 'Cs0.05(MA)0.16(FA)...   \n",
       "8           7  {'perovskite_composition': 'Cs0.05(MA)0.16(FA)...   \n",
       "9           7  {'perovskite_composition': 'Cs0.05(MA)0.16(FA)...   \n",
       "10          7  {'perovskite_composition': 'Cs0.05(MA)0.16(FA)...   \n",
       "11          7  {'perovskite_composition': 'Cs0.05(MA)0.16(FA)...   \n",
       "12          7  {'perovskite_composition': 'Cs0.05(MA)0.16(FA)...   \n",
       "\n",
       "                                            extracted  \n",
       "6   {'perovskite_composition': 'C4N9H12)2PbI7', 'e...  \n",
       "7   {'perovskite_composition': 'C4N9H12)2PbI7', 'e...  \n",
       "8   {'perovskite_composition': 'C4N9H12)2PbI7', 'e...  \n",
       "9   {'perovskite_composition': 'C4N9H12)2PbI7', 'e...  \n",
       "10  {'perovskite_composition': 'C4N9H12)2PbI7', 'e...  \n",
       "11  {'perovskite_composition': 'C4N9H12)2PbI7', 'e...  \n",
       "12  {'perovskite_composition': 'C4N9H12)2PbI7', 'e...  "
      ]
     },
     "execution_count": 33,
     "metadata": {},
     "output_type": "execute_result"
    }
   ],
   "source": [
    "## TODO: We should technically, choose one row from each paper that best matched the passivating name for annotation and extracted and perform evaluation\n",
    "evaluate_df_base[evaluate_df_base['paper_num'] == 7]"
   ]
  },
  {
   "cell_type": "code",
   "execution_count": 34,
   "metadata": {},
   "outputs": [
    {
     "data": {
      "text/plain": [
       "{'perovskite_composition': 'C4N9H12)2PbI7',\n",
       " 'electron_transport_layer': None,\n",
       " 'hole_transport_layer': None,\n",
       " 'structure_pin_nip': 'PIN',\n",
       " 'passivating_molecule': '4-FPEA',\n",
       " 'control_pce': None,\n",
       " 'control_voc': None,\n",
       " 'treated_pce': None,\n",
       " 'treated_voc': None,\n",
       " 'test_1': {'stability_type': 'thermal cycling (ISOS-T)',\n",
       "  'humidity': None,\n",
       "  'temperature': 25,\n",
       "  'time': None,\n",
       "  'efficiency_tret': None,\n",
       "  'efficiency_cont': None}}"
      ]
     },
     "execution_count": 34,
     "metadata": {},
     "output_type": "execute_result"
    }
   ],
   "source": [
    "evaluate_df_base[evaluate_df_base['paper_num'] == 7]['extracted'].iloc[6]"
   ]
  },
  {
   "cell_type": "code",
   "execution_count": 35,
   "metadata": {},
   "outputs": [],
   "source": [
    "def get_passivation(dict):\n",
    "    return dict['passivating_molecule']"
   ]
  },
  {
   "cell_type": "code",
   "execution_count": 36,
   "metadata": {},
   "outputs": [
    {
     "data": {
      "text/plain": [
       "0                              4-chlorobenzenesulfonate\n",
       "1                       butylammonium lead tetra iodide\n",
       "2                     Barium methylammonium lead iodide\n",
       "3                          4vinylbenzylammonium bromide\n",
       "4                              iso-butylammonium iodide\n",
       "                            ...                        \n",
       "89    ortho-carborane decorated with phenylamino groups\n",
       "90    carbazole-triphenylamine and phenylammonium io...\n",
       "91                           phenylethylammonium iodide\n",
       "92                   4-tert-butyl-benzylammonium iodide\n",
       "93              Trifluoromethyl-phenylammonium chloride\n",
       "Name: annotation, Length: 94, dtype: object"
      ]
     },
     "execution_count": 36,
     "metadata": {},
     "output_type": "execute_result"
    }
   ],
   "source": [
    "annotation_passivation = evaluate_df_base['annotation'].apply(get_passivation)\n",
    "annotation_passivation"
   ]
  },
  {
   "cell_type": "code",
   "execution_count": 37,
   "metadata": {},
   "outputs": [
    {
     "data": {
      "text/plain": [
       "0                       Cyclohexylmethylammonium iodide\n",
       "1                                                  None\n",
       "2                                          BA2MA2Pb3I10\n",
       "3                   vinylbenzylammonium bromide (VBABr)\n",
       "4                               isobutylammonium iodide\n",
       "                            ...                        \n",
       "89    o-carborane decorated with phenylamino groups ...\n",
       "90    4-(3,6-bis(4-(bis(4-methoxyphenyl)amino)phenyl...\n",
       "91            4-tert-butylbenzylammonium iodide (tBBAI)\n",
       "92            4-tert-butylbenzylammonium iodide (tBBAI)\n",
       "93                     4-trifluoromethyl-phenylammonium\n",
       "Name: extracted, Length: 94, dtype: object"
      ]
     },
     "execution_count": 37,
     "metadata": {},
     "output_type": "execute_result"
    }
   ],
   "source": [
    "extraction_passivation = evaluate_df_base['extracted'].apply(get_passivation)\n",
    "extraction_passivation"
   ]
  },
  {
   "cell_type": "code",
   "execution_count": null,
   "metadata": {},
   "outputs": [],
   "source": []
  },
  {
   "cell_type": "code",
   "execution_count": null,
   "metadata": {},
   "outputs": [],
   "source": []
  },
  {
   "cell_type": "code",
   "execution_count": null,
   "metadata": {},
   "outputs": [],
   "source": []
  },
  {
   "cell_type": "code",
   "execution_count": 111,
   "metadata": {},
   "outputs": [
    {
     "ename": "KeyError",
     "evalue": "'first_num'",
     "output_type": "error",
     "traceback": [
      "\u001b[1;31m---------------------------------------------------------------------------\u001b[0m",
      "\u001b[1;31mKeyError\u001b[0m                                  Traceback (most recent call last)",
      "\u001b[1;32m~\\AppData\\Local\\Temp\\ipykernel_44392\\1661369824.py\u001b[0m in \u001b[0;36m?\u001b[1;34m()\u001b[0m\n\u001b[1;32m----> 1\u001b[1;33m \u001b[0mevaluate_df_train\u001b[0m \u001b[1;33m=\u001b[0m \u001b[0mannotation_df\u001b[0m\u001b[1;33m.\u001b[0m\u001b[0mmerge\u001b[0m\u001b[1;33m(\u001b[0m\u001b[0mextraction_train\u001b[0m\u001b[1;33m,\u001b[0m \u001b[0mleft_on\u001b[0m\u001b[1;33m=\u001b[0m\u001b[1;34m'first_num'\u001b[0m\u001b[1;33m,\u001b[0m \u001b[0mright_on\u001b[0m\u001b[1;33m=\u001b[0m\u001b[1;34m'paper_num'\u001b[0m\u001b[1;33m)\u001b[0m\u001b[1;33m[\u001b[0m\u001b[1;33m[\u001b[0m\u001b[1;34m\"paper_num\"\u001b[0m\u001b[1;33m,\u001b[0m \u001b[1;34m\"output_x\"\u001b[0m\u001b[1;33m,\u001b[0m\u001b[1;34m'output_y'\u001b[0m\u001b[1;33m]\u001b[0m\u001b[1;33m]\u001b[0m\u001b[1;33m\u001b[0m\u001b[1;33m\u001b[0m\u001b[0m\n\u001b[0m\u001b[0;32m      2\u001b[0m \u001b[0mevaluate_df_train\u001b[0m\u001b[1;33m.\u001b[0m\u001b[0mcolumns\u001b[0m \u001b[1;33m=\u001b[0m \u001b[1;33m[\u001b[0m\u001b[1;34m'paper_num'\u001b[0m\u001b[1;33m,\u001b[0m \u001b[1;34m'annotation'\u001b[0m\u001b[1;33m,\u001b[0m \u001b[1;34m'extracted'\u001b[0m\u001b[1;33m]\u001b[0m\u001b[1;33m\u001b[0m\u001b[1;33m\u001b[0m\u001b[0m\n\u001b[0;32m      3\u001b[0m \u001b[0mevaluate_df_train\u001b[0m\u001b[1;33m\u001b[0m\u001b[1;33m\u001b[0m\u001b[0m\n",
      "\u001b[1;32mc:\\Users\\Luna\\anaconda3\\envs\\dsc80\\lib\\site-packages\\pandas\\core\\frame.py\u001b[0m in \u001b[0;36m?\u001b[1;34m(self, right, how, on, left_on, right_on, left_index, right_index, sort, suffixes, copy, indicator, validate)\u001b[0m\n\u001b[0;32m   9187\u001b[0m         \u001b[0mvalidate\u001b[0m\u001b[1;33m:\u001b[0m \u001b[0mstr\u001b[0m \u001b[1;33m|\u001b[0m \u001b[1;32mNone\u001b[0m \u001b[1;33m=\u001b[0m \u001b[1;32mNone\u001b[0m\u001b[1;33m,\u001b[0m\u001b[1;33m\u001b[0m\u001b[1;33m\u001b[0m\u001b[0m\n\u001b[0;32m   9188\u001b[0m     ) -> DataFrame:\n\u001b[0;32m   9189\u001b[0m         \u001b[1;32mfrom\u001b[0m \u001b[0mpandas\u001b[0m\u001b[1;33m.\u001b[0m\u001b[0mcore\u001b[0m\u001b[1;33m.\u001b[0m\u001b[0mreshape\u001b[0m\u001b[1;33m.\u001b[0m\u001b[0mmerge\u001b[0m \u001b[1;32mimport\u001b[0m \u001b[0mmerge\u001b[0m\u001b[1;33m\u001b[0m\u001b[1;33m\u001b[0m\u001b[0m\n\u001b[0;32m   9190\u001b[0m \u001b[1;33m\u001b[0m\u001b[0m\n\u001b[1;32m-> 9191\u001b[1;33m         return merge(\n\u001b[0m\u001b[0;32m   9192\u001b[0m             \u001b[0mself\u001b[0m\u001b[1;33m,\u001b[0m\u001b[1;33m\u001b[0m\u001b[1;33m\u001b[0m\u001b[0m\n\u001b[0;32m   9193\u001b[0m             \u001b[0mright\u001b[0m\u001b[1;33m,\u001b[0m\u001b[1;33m\u001b[0m\u001b[1;33m\u001b[0m\u001b[0m\n\u001b[0;32m   9194\u001b[0m             \u001b[0mhow\u001b[0m\u001b[1;33m=\u001b[0m\u001b[0mhow\u001b[0m\u001b[1;33m,\u001b[0m\u001b[1;33m\u001b[0m\u001b[1;33m\u001b[0m\u001b[0m\n",
      "\u001b[1;32mc:\\Users\\Luna\\anaconda3\\envs\\dsc80\\lib\\site-packages\\pandas\\core\\reshape\\merge.py\u001b[0m in \u001b[0;36m?\u001b[1;34m(left, right, how, on, left_on, right_on, left_index, right_index, sort, suffixes, copy, indicator, validate)\u001b[0m\n\u001b[0;32m    101\u001b[0m     \u001b[0mcopy\u001b[0m\u001b[1;33m:\u001b[0m \u001b[0mbool\u001b[0m \u001b[1;33m=\u001b[0m \u001b[1;32mTrue\u001b[0m\u001b[1;33m,\u001b[0m\u001b[1;33m\u001b[0m\u001b[1;33m\u001b[0m\u001b[0m\n\u001b[0;32m    102\u001b[0m     \u001b[0mindicator\u001b[0m\u001b[1;33m:\u001b[0m \u001b[0mbool\u001b[0m \u001b[1;33m=\u001b[0m \u001b[1;32mFalse\u001b[0m\u001b[1;33m,\u001b[0m\u001b[1;33m\u001b[0m\u001b[1;33m\u001b[0m\u001b[0m\n\u001b[0;32m    103\u001b[0m     \u001b[0mvalidate\u001b[0m\u001b[1;33m:\u001b[0m \u001b[0mstr\u001b[0m \u001b[1;33m|\u001b[0m \u001b[1;32mNone\u001b[0m \u001b[1;33m=\u001b[0m \u001b[1;32mNone\u001b[0m\u001b[1;33m,\u001b[0m\u001b[1;33m\u001b[0m\u001b[1;33m\u001b[0m\u001b[0m\n\u001b[0;32m    104\u001b[0m ) -> DataFrame:\n\u001b[1;32m--> 105\u001b[1;33m     op = _MergeOperation(\n\u001b[0m\u001b[0;32m    106\u001b[0m         \u001b[0mleft\u001b[0m\u001b[1;33m,\u001b[0m\u001b[1;33m\u001b[0m\u001b[1;33m\u001b[0m\u001b[0m\n\u001b[0;32m    107\u001b[0m         \u001b[0mright\u001b[0m\u001b[1;33m,\u001b[0m\u001b[1;33m\u001b[0m\u001b[1;33m\u001b[0m\u001b[0m\n\u001b[0;32m    108\u001b[0m         \u001b[0mhow\u001b[0m\u001b[1;33m=\u001b[0m\u001b[0mhow\u001b[0m\u001b[1;33m,\u001b[0m\u001b[1;33m\u001b[0m\u001b[1;33m\u001b[0m\u001b[0m\n",
      "\u001b[1;32mc:\\Users\\Luna\\anaconda3\\envs\\dsc80\\lib\\site-packages\\pandas\\core\\reshape\\merge.py\u001b[0m in \u001b[0;36m?\u001b[1;34m(self, left, right, how, on, left_on, right_on, axis, left_index, right_index, sort, suffixes, copy, indicator, validate)\u001b[0m\n\u001b[0;32m    694\u001b[0m         (\n\u001b[0;32m    695\u001b[0m             \u001b[0mself\u001b[0m\u001b[1;33m.\u001b[0m\u001b[0mleft_join_keys\u001b[0m\u001b[1;33m,\u001b[0m\u001b[1;33m\u001b[0m\u001b[1;33m\u001b[0m\u001b[0m\n\u001b[0;32m    696\u001b[0m             \u001b[0mself\u001b[0m\u001b[1;33m.\u001b[0m\u001b[0mright_join_keys\u001b[0m\u001b[1;33m,\u001b[0m\u001b[1;33m\u001b[0m\u001b[1;33m\u001b[0m\u001b[0m\n\u001b[0;32m    697\u001b[0m             \u001b[0mself\u001b[0m\u001b[1;33m.\u001b[0m\u001b[0mjoin_names\u001b[0m\u001b[1;33m,\u001b[0m\u001b[1;33m\u001b[0m\u001b[1;33m\u001b[0m\u001b[0m\n\u001b[1;32m--> 698\u001b[1;33m         ) = self._get_merge_keys()\n\u001b[0m\u001b[0;32m    699\u001b[0m \u001b[1;33m\u001b[0m\u001b[0m\n\u001b[0;32m    700\u001b[0m         \u001b[1;31m# validate the merge keys dtypes. We may need to coerce\u001b[0m\u001b[1;33m\u001b[0m\u001b[1;33m\u001b[0m\u001b[1;33m\u001b[0m\u001b[0m\n\u001b[0;32m    701\u001b[0m         \u001b[1;31m# to avoid incompatible dtypes\u001b[0m\u001b[1;33m\u001b[0m\u001b[1;33m\u001b[0m\u001b[1;33m\u001b[0m\u001b[0m\n",
      "\u001b[1;32mc:\\Users\\Luna\\anaconda3\\envs\\dsc80\\lib\\site-packages\\pandas\\core\\reshape\\merge.py\u001b[0m in \u001b[0;36m?\u001b[1;34m(self)\u001b[0m\n\u001b[0;32m   1104\u001b[0m                                 \u001b[0mleft_drop\u001b[0m\u001b[1;33m.\u001b[0m\u001b[0mappend\u001b[0m\u001b[1;33m(\u001b[0m\u001b[0mlk\u001b[0m\u001b[1;33m)\u001b[0m\u001b[1;33m\u001b[0m\u001b[1;33m\u001b[0m\u001b[0m\n\u001b[0;32m   1105\u001b[0m                     \u001b[1;32melse\u001b[0m\u001b[1;33m:\u001b[0m\u001b[1;33m\u001b[0m\u001b[1;33m\u001b[0m\u001b[0m\n\u001b[0;32m   1106\u001b[0m                         \u001b[0mright_keys\u001b[0m\u001b[1;33m.\u001b[0m\u001b[0mappend\u001b[0m\u001b[1;33m(\u001b[0m\u001b[0mrk\u001b[0m\u001b[1;33m)\u001b[0m\u001b[1;33m\u001b[0m\u001b[1;33m\u001b[0m\u001b[0m\n\u001b[0;32m   1107\u001b[0m                     \u001b[1;32mif\u001b[0m \u001b[0mlk\u001b[0m \u001b[1;32mis\u001b[0m \u001b[1;32mnot\u001b[0m \u001b[1;32mNone\u001b[0m\u001b[1;33m:\u001b[0m\u001b[1;33m\u001b[0m\u001b[1;33m\u001b[0m\u001b[0m\n\u001b[1;32m-> 1108\u001b[1;33m                         \u001b[0mleft_keys\u001b[0m\u001b[1;33m.\u001b[0m\u001b[0mappend\u001b[0m\u001b[1;33m(\u001b[0m\u001b[0mleft\u001b[0m\u001b[1;33m.\u001b[0m\u001b[0m_get_label_or_level_values\u001b[0m\u001b[1;33m(\u001b[0m\u001b[0mlk\u001b[0m\u001b[1;33m)\u001b[0m\u001b[1;33m)\u001b[0m\u001b[1;33m\u001b[0m\u001b[1;33m\u001b[0m\u001b[0m\n\u001b[0m\u001b[0;32m   1109\u001b[0m                         \u001b[0mjoin_names\u001b[0m\u001b[1;33m.\u001b[0m\u001b[0mappend\u001b[0m\u001b[1;33m(\u001b[0m\u001b[0mlk\u001b[0m\u001b[1;33m)\u001b[0m\u001b[1;33m\u001b[0m\u001b[1;33m\u001b[0m\u001b[0m\n\u001b[0;32m   1110\u001b[0m                     \u001b[1;32melse\u001b[0m\u001b[1;33m:\u001b[0m\u001b[1;33m\u001b[0m\u001b[1;33m\u001b[0m\u001b[0m\n\u001b[0;32m   1111\u001b[0m                         \u001b[1;31m# work-around for merge_asof(left_index=True)\u001b[0m\u001b[1;33m\u001b[0m\u001b[1;33m\u001b[0m\u001b[1;33m\u001b[0m\u001b[0m\n",
      "\u001b[1;32mc:\\Users\\Luna\\anaconda3\\envs\\dsc80\\lib\\site-packages\\pandas\\core\\generic.py\u001b[0m in \u001b[0;36m?\u001b[1;34m(self, key, axis)\u001b[0m\n\u001b[0;32m   1775\u001b[0m             \u001b[0mvalues\u001b[0m \u001b[1;33m=\u001b[0m \u001b[0mself\u001b[0m\u001b[1;33m.\u001b[0m\u001b[0mxs\u001b[0m\u001b[1;33m(\u001b[0m\u001b[0mkey\u001b[0m\u001b[1;33m,\u001b[0m \u001b[0maxis\u001b[0m\u001b[1;33m=\u001b[0m\u001b[0mother_axes\u001b[0m\u001b[1;33m[\u001b[0m\u001b[1;36m0\u001b[0m\u001b[1;33m]\u001b[0m\u001b[1;33m)\u001b[0m\u001b[1;33m.\u001b[0m\u001b[0m_values\u001b[0m\u001b[1;33m\u001b[0m\u001b[1;33m\u001b[0m\u001b[0m\n\u001b[0;32m   1776\u001b[0m         \u001b[1;32melif\u001b[0m \u001b[0mself\u001b[0m\u001b[1;33m.\u001b[0m\u001b[0m_is_level_reference\u001b[0m\u001b[1;33m(\u001b[0m\u001b[0mkey\u001b[0m\u001b[1;33m,\u001b[0m \u001b[0maxis\u001b[0m\u001b[1;33m=\u001b[0m\u001b[0maxis\u001b[0m\u001b[1;33m)\u001b[0m\u001b[1;33m:\u001b[0m\u001b[1;33m\u001b[0m\u001b[1;33m\u001b[0m\u001b[0m\n\u001b[0;32m   1777\u001b[0m             \u001b[0mvalues\u001b[0m \u001b[1;33m=\u001b[0m \u001b[0mself\u001b[0m\u001b[1;33m.\u001b[0m\u001b[0maxes\u001b[0m\u001b[1;33m[\u001b[0m\u001b[0maxis\u001b[0m\u001b[1;33m]\u001b[0m\u001b[1;33m.\u001b[0m\u001b[0mget_level_values\u001b[0m\u001b[1;33m(\u001b[0m\u001b[0mkey\u001b[0m\u001b[1;33m)\u001b[0m\u001b[1;33m.\u001b[0m\u001b[0m_values\u001b[0m\u001b[1;33m\u001b[0m\u001b[1;33m\u001b[0m\u001b[0m\n\u001b[0;32m   1778\u001b[0m         \u001b[1;32melse\u001b[0m\u001b[1;33m:\u001b[0m\u001b[1;33m\u001b[0m\u001b[1;33m\u001b[0m\u001b[0m\n\u001b[1;32m-> 1779\u001b[1;33m             \u001b[1;32mraise\u001b[0m \u001b[0mKeyError\u001b[0m\u001b[1;33m(\u001b[0m\u001b[0mkey\u001b[0m\u001b[1;33m)\u001b[0m\u001b[1;33m\u001b[0m\u001b[1;33m\u001b[0m\u001b[0m\n\u001b[0m\u001b[0;32m   1780\u001b[0m \u001b[1;33m\u001b[0m\u001b[0m\n\u001b[0;32m   1781\u001b[0m         \u001b[1;31m# Check for duplicates\u001b[0m\u001b[1;33m\u001b[0m\u001b[1;33m\u001b[0m\u001b[1;33m\u001b[0m\u001b[0m\n\u001b[0;32m   1782\u001b[0m         \u001b[1;32mif\u001b[0m \u001b[0mvalues\u001b[0m\u001b[1;33m.\u001b[0m\u001b[0mndim\u001b[0m \u001b[1;33m>\u001b[0m \u001b[1;36m1\u001b[0m\u001b[1;33m:\u001b[0m\u001b[1;33m\u001b[0m\u001b[1;33m\u001b[0m\u001b[0m\n",
      "\u001b[1;31mKeyError\u001b[0m: 'first_num'"
     ]
    }
   ],
   "source": [
    "evaluate_df_train = annotation_df.merge(extraction_train, left_on='first_num', right_on='paper_num')[[\"paper_num\", \"output_x\",'output_y']]\n",
    "evaluate_df_train.columns = ['paper_num', 'annotation', 'extracted']\n",
    "evaluate_df_train"
   ]
  },
  {
   "cell_type": "code",
   "execution_count": 112,
   "metadata": {},
   "outputs": [],
   "source": [
    "# evaluate_df.to_csv('merged.csv', index=False)"
   ]
  },
  {
   "cell_type": "code",
   "execution_count": 113,
   "metadata": {},
   "outputs": [
    {
     "ename": "NameError",
     "evalue": "name 'evaluate_df_train' is not defined",
     "output_type": "error",
     "traceback": [
      "\u001b[1;31m---------------------------------------------------------------------------\u001b[0m",
      "\u001b[1;31mNameError\u001b[0m                                 Traceback (most recent call last)",
      "Cell \u001b[1;32mIn[113], line 1\u001b[0m\n\u001b[1;32m----> 1\u001b[0m \u001b[38;5;28;01mfor\u001b[39;00m row \u001b[38;5;129;01min\u001b[39;00m \u001b[43mevaluate_df_train\u001b[49m\u001b[38;5;241m.\u001b[39mitertuples():\n\u001b[0;32m      2\u001b[0m     label_value \u001b[38;5;241m=\u001b[39m row\u001b[38;5;241m.\u001b[39mannotation\n\u001b[0;32m      3\u001b[0m     extracted_value \u001b[38;5;241m=\u001b[39m row\u001b[38;5;241m.\u001b[39mextracted\n",
      "\u001b[1;31mNameError\u001b[0m: name 'evaluate_df_train' is not defined"
     ]
    }
   ],
   "source": [
    "for row in evaluate_df_train.itertuples():\n",
    "    label_value = row.annotation\n",
    "    extracted_value = row.extracted\n",
    "\n",
    "    print(label_value)\n",
    "    print(extracted_value)"
   ]
  },
  {
   "cell_type": "code",
   "execution_count": 114,
   "metadata": {},
   "outputs": [
    {
     "ename": "NameError",
     "evalue": "name 'evaluate_df' is not defined",
     "output_type": "error",
     "traceback": [
      "\u001b[1;31m---------------------------------------------------------------------------\u001b[0m",
      "\u001b[1;31mNameError\u001b[0m                                 Traceback (most recent call last)",
      "Cell \u001b[1;32mIn[114], line 1\u001b[0m\n\u001b[1;32m----> 1\u001b[0m \u001b[43mevaluate_df\u001b[49m[\u001b[38;5;124m\"\u001b[39m\u001b[38;5;124mannotation\u001b[39m\u001b[38;5;124m\"\u001b[39m][\u001b[38;5;241m6\u001b[39m]\n",
      "\u001b[1;31mNameError\u001b[0m: name 'evaluate_df' is not defined"
     ]
    }
   ],
   "source": [
    "evaluate_df[\"annotation\"][6]"
   ]
  },
  {
   "cell_type": "code",
   "execution_count": 115,
   "metadata": {},
   "outputs": [
    {
     "ename": "NameError",
     "evalue": "name 'evaluate_df' is not defined",
     "output_type": "error",
     "traceback": [
      "\u001b[1;31m---------------------------------------------------------------------------\u001b[0m",
      "\u001b[1;31mNameError\u001b[0m                                 Traceback (most recent call last)",
      "Cell \u001b[1;32mIn[115], line 1\u001b[0m\n\u001b[1;32m----> 1\u001b[0m \u001b[43mevaluate_df\u001b[49m[\u001b[38;5;124m\"\u001b[39m\u001b[38;5;124mextracted\u001b[39m\u001b[38;5;124m\"\u001b[39m][\u001b[38;5;241m1\u001b[39m]\n",
      "\u001b[1;31mNameError\u001b[0m: name 'evaluate_df' is not defined"
     ]
    }
   ],
   "source": [
    "evaluate_df[\"extracted\"][1]"
   ]
  },
  {
   "cell_type": "markdown",
   "metadata": {},
   "source": [
    "## Evaluation\n",
    "\n",
    "- We need precision and recall for EACH variable\n",
    "- For each variable, calculate the F1 score - There is F1 score for each variable\n",
    "- Take a weighted average ***For now, just take the average."
   ]
  },
  {
   "cell_type": "code",
   "execution_count": 116,
   "metadata": {},
   "outputs": [],
   "source": [
    "def tests_comparison(stability_annotated, label_dict, stability_extracted, extract_dict):\n",
    "    # print(stability_annotated, label_dict, stability_extracted, extract_dict)\n",
    "    stability_entity_annotated = ['stability_type', 'temperature', 'time', 'humidity', 'efficiency_cont', 'efficiency_tret']\n",
    "    # stability_entity_extracted = ['test_name', 'passivating_molecule', 'temperature', 'time', 'humidity', 'control_efficiency', 'treatment_efficiency', 'control_pce', 'treated_pce', 'control_voc', 'treated_voc']\n",
    "    \n",
    "    # print(f\"stability_annotated{stability_annotated}\")\n",
    "    # print(f\"label_dict{label_dict}\")\n",
    "    # print(f\"stability_extracted{stability_extracted}\")\n",
    "    # print(f\"extract_dict{extract_dict}\")\n",
    "\n",
    "\n",
    "\n",
    "    compared_metric = []\n",
    "    numeric_data_annotated = []\n",
    "    numeric_data_extracted = []\n",
    "    for entity_i in range(len(stability_entity_annotated)):\n",
    "        if entity_i < 1:\n",
    "            # print(stability_annotated[entity_i])\n",
    "            if stability_entity_annotated[entity_i] not in extract_dict.keys():\n",
    "                extract_dict[stability_entity_annotated[entity_i]] = None\n",
    "\n",
    "            if (label_dict[stability_entity_annotated[entity_i]] == None) | (extract_dict[stability_entity_annotated[entity_i]] == None):\n",
    "                compared_metric.append(None)\n",
    "            else:\n",
    "                ##Text entity, perform Sequence Matcher \n",
    "                compared = SequenceMatcher(None, label_dict[stability_entity_annotated[entity_i]], extract_dict[stability_entity_annotated[entity_i]]).ratio()\n",
    "                # print(compared)\n",
    "                if entity_i == 0:\n",
    "                    if compared > 0.9:\n",
    "                        compared_metric.append(1)\n",
    "                    else:\n",
    "                        compared_metric.append(0)\n",
    "                else:\n",
    "                    compared_metric.append(compared)\n",
    "        else:\n",
    "            if stability_entity_annotated[entity_i] not in extract_dict.keys():\n",
    "                extract_dict[stability_entity_annotated[entity_i]] = 0\n",
    "            elif extract_dict[stability_entity_annotated[entity_i]] == None:\n",
    "                extract_dict[stability_entity_annotated[entity_i]] = 0\n",
    "\n",
    "            if stability_entity_annotated[entity_i] not in label_dict.keys():\n",
    "                label_dict[stability_entity_annotated[entity_i]] = 0\n",
    "            elif label_dict[stability_entity_annotated[entity_i]] == None:\n",
    "                label_dict[stability_entity_annotated[entity_i]] = 0\n",
    "\n",
    "                \n",
    "            numeric_data_annotated.append(label_dict[stability_entity_annotated[entity_i]])\n",
    "            numeric_data_extracted.append(extract_dict[stability_entity_annotated[entity_i]])\n",
    "\n",
    "    if isinstance(numeric_data_extracted[0], list):\n",
    "        ##There was one column with two temperature recorded as a list (probably thermal cycling)\n",
    "        numeric_data_extracted[0] = numeric_data_extracted[0][1]\n",
    "\n",
    "    # print(numeric_data_annotated, numeric_data_extracted)\n",
    "\n",
    "    numeric_annotated_clean = []\n",
    "    numeric_extracted_clean = []\n",
    "    ##Clean the numeric data to skip any strings\n",
    "    for i in range(len(numeric_data_annotated)):\n",
    "        if (type(numeric_data_annotated[i]) == str) | (type(numeric_data_extracted[i]) == str):\n",
    "            continue\n",
    "        else:\n",
    "            numeric_annotated_clean.append(numeric_data_annotated[i])\n",
    "            numeric_extracted_clean.append(numeric_data_extracted[i])\n",
    "\n",
    "    cos_sim = cosine_similarity([numeric_annotated_clean], [numeric_extracted_clean])\n",
    "    compared_metric.append(cos_sim[0][0])\n",
    "    \n",
    "    return compared_metric    "
   ]
  },
  {
   "cell_type": "code",
   "execution_count": 117,
   "metadata": {},
   "outputs": [],
   "source": [
    "def entity_comparison(entity, label, extracted_dict, text_similarity_threshold = 0.75, numerical_tolerance = 0.027):\n",
    "    '''\n",
    "    The tolarance of 2.7% was what was reasonable looking at the absolute difference\n",
    "    treated_voc 1.18, 1.149, absolute difference 0.026271186440677895\n",
    "\n",
    "    The text similarity were set to 75% due to the structure example\n",
    "    FP, NIP, n-i-p, 0.75\n",
    "    This should be positive\n",
    "    \n",
    "    '''\n",
    "    text_entity = ['stability_type']\n",
    "    numerical_entity = ['time', 'efficiency_cont', 'efficiency_tret']\n",
    "    numerical_exception = ['temperature', 'humidity']\n",
    "\n",
    "    if entity in text_entity:\n",
    "        # key_to_check = \"test_name\" if entity == \"stability_type\" else entity\n",
    "\n",
    "        # If the key is missing in the extracted annotation, return False Negative\n",
    "        if (label[entity]!=None) & (extracted_dict[entity]==None):\n",
    "            # print(f\"FN, {label_annotation[id]}, {extraction_annotation[key_to_check]}\")\n",
    "            return \"FN\"\n",
    "        elif (label[entity]==None) & (extracted_dict[entity]!=None):\n",
    "            # print(f\"TN, {label_annotation[id]}, {extraction_annotation[key_to_check]}\")\n",
    "            return \"TN\"\n",
    "\n",
    "        label_data = label.get(entity, \"\")\n",
    "        extract_data = extracted_dict.get(entity, \"\")\n",
    "\n",
    "        # Convert lists to strings if necessary\n",
    "        if isinstance(label_data, list):\n",
    "            label_data = \" \".join(map(str, label_data))  # Convert list to string\n",
    "        if isinstance(extract_data, list):\n",
    "            extract_data = \" \".join(map(str, extract_data))  # Convert list to string\n",
    "\n",
    "        # Ensure values are strings\n",
    "        if not isinstance(label_data, str) or not isinstance(extract_data, str):\n",
    "            # print(f\"FP, {label_annotation[id]}, {extraction_annotation[key_to_check]}\")\n",
    "            return \"FP\"  # If data is still not a string, return False Positive\n",
    "\n",
    "        # Compute similarity score\n",
    "        similarity = SequenceMatcher(None, label_data.lower(), extract_data.lower()).ratio()\n",
    "\n",
    "        if similarity > text_similarity_threshold:\n",
    "            # print(f\"TP,{entity} {label_data}, {extract_data}\")\n",
    "            return 'TP'\n",
    "        else:\n",
    "            # print(f\"FP,{entity} {label_data}, {extract_data}, {similarity}\")\n",
    "            return \"FP\"\n",
    "    elif entity in numerical_entity:\n",
    "        # key_to_check = \"control_efficiency\" if entity == \"efficiency_cont\" else (\"treatment_efficiency\" if entity == \"efficiency_tret\" else entity)\n",
    "        if (entity == 'efficiency_cont') | (entity == 'efficiency_tret'):\n",
    "            print(f\"annotated{label[entity]}\")\n",
    "            print(f\"extracted{extracted_dict[entity]}\")\n",
    "        if extracted_dict[entity] == None:\n",
    "            extracted_dict[entity] = 0\n",
    "\n",
    "        # If the key is missing in the extracted annotation, return False Negative\n",
    "        if (label[entity]!=0) & ((extracted_dict[entity]==0) | (entity not in extracted_dict.keys())):\n",
    "            # print(f\"FN, {label_annotation[id]}, {extraction_annotation[entity]}\")\n",
    "            return \"FN\"\n",
    "        elif (label[entity]==0) & (extracted_dict[entity]!=0):\n",
    "            # print(f\"TN, {label_annotation[id]}, {extraction_annotation[entity]}\")\n",
    "            return \"TN\"\n",
    "        elif (label[entity]==0) & (extracted_dict[entity]==0):\n",
    "            # print(f\"TN, {label_annotation[id]}, {extraction_annotation[entity]}\")\n",
    "            return \"TN\"\n",
    "\n",
    "\n",
    "        if isinstance(extracted_dict[entity], list):\n",
    "            ##There was one column with two temperature recorded as a list (probably thermal cycling)\n",
    "            extracted_dict[entity] = extracted_dict[entity][1]\n",
    "\n",
    "        # Apply numerical tolerance check\n",
    "        if (abs(label[entity] - extracted_dict[entity])) / (abs(label[entity]) )<= numerical_tolerance:\n",
    "\n",
    "            # print(f\"Numerical differences matched: {entity} {label[entity]}, {extracted_dict[entity]}, absolute difference {(abs(label[entity] - extracted_dict[entity])) / (abs(label[entity]) )}\")\n",
    "            return \"TP\"  # True Positive: Correct numerical extraction\n",
    "        else:\n",
    "\n",
    "            # print(f\"Numerical differences no match: {entity}, {label[entity]}, {extracted_dict[entity]}, absolute difference {(abs(label[entity] - extracted_dict[entity])) / (abs(label[entity]) )}\")\n",
    "            return \"FP\"  # False Positive: Incorrect numerical extraction    \n",
    "    else: \n",
    "        if isinstance(label[entity], (float, int)):\n",
    "            if extracted_dict[entity] == None:\n",
    "                extracted_dict[entity] = 0\n",
    "\n",
    "            # If the key is missing in the extracted annotation, return False Negative\n",
    "            if (label[entity]!=0) & ((extracted_dict[entity]==0) | (entity not in extracted_dict.keys())):\n",
    "                # print(f\"FN, {label_annotation[id]}, {extraction_annotation[entity]}\")\n",
    "                return \"FN\"\n",
    "            elif (label[entity]==0) & (extracted_dict[entity]!=0):\n",
    "                # print(f\"TN, {label_annotation[id]}, {extraction_annotation[entity]}\")\n",
    "                return \"TN\"\n",
    "            elif (label[entity]==0) & (extracted_dict[entity]==0):\n",
    "                # print(f\"TN, {label_annotation[id]}, {extraction_annotation[entity]}\")\n",
    "                return \"TN\"\n",
    "\n",
    "\n",
    "            if isinstance(extracted_dict[entity], list):\n",
    "                ##There was one column with two temperature recorded as a list (probably thermal cycling)\n",
    "                extracted_dict[entity] = extracted_dict[entity][1]\n",
    "\n",
    "            # Apply numerical tolerance check\n",
    "            if (abs(label[entity] - extracted_dict[entity])) / (abs(label[entity]) )<= numerical_tolerance:\n",
    "\n",
    "                # print(f\"Numerical differences matched: {entity} {label[entity]}, {extracted_dict[entity]}, absolute difference {(abs(label[entity] - extracted_dict[entity])) / (abs(label[entity]) )}\")\n",
    "                return \"TP\"  # True Positive: Correct numerical extraction\n",
    "            else:\n",
    "\n",
    "                # print(f\"Numerical differences no match: {entity}, {label[entity]}, {extracted_dict[entity]}, absolute difference {(abs(label[entity] - extracted_dict[entity])) / (abs(label[entity]) )}\")\n",
    "                return \"FP\"  # False Positive: Incorrect numerical extraction    \n",
    "        else:\n",
    "            # print(label[entity], type(label[entity]))\n",
    "            if extracted_dict[entity] == None:\n",
    "                extracted_dict[entity] = 0\n",
    "            \n",
    "            if ((extracted_dict[entity]==0) | (entity not in extracted_dict.keys())):\n",
    "                # print(f\"FN, {label_annotation[id]}, {extraction_annotation[entity]}\")\n",
    "                return \"FN\"\n",
    "\n",
    "            if isinstance(extracted_dict[entity], list):\n",
    "                ##There was one column with two temperature recorded as a list (probably thermal cycling)\n",
    "                extracted_dict[entity] = extracted_dict[entity][1]\n",
    "            \n",
    "            if isinstance(extracted_dict[entity], str):\n",
    "                ##Label is str, extraction is str, so perform text similarity\n",
    "                similarity = SequenceMatcher(None, label[entity].lower(), extracted_dict[entity].lower()).ratio()\n",
    "                if similarity > text_similarity_threshold:\n",
    "                    # print(f\"TP, {label_data}, {extract_data}, {similarity}\")\n",
    "                    return 'TP'\n",
    "                else:\n",
    "                    # print(f\"FP, {label_data}, {extract_data}, {similarity}\")\n",
    "                    return \"FP\"\n",
    "            else:\n",
    "                if \"+\" in label[entity]:\n",
    "                    # print(label[entity].split(\"+-\"))\n",
    "                    value = float(label[entity].split(\"+-\")[0])\n",
    "                    margin_error = float(label[entity].split(\"+-\")[1])\n",
    "                    range = (value-margin_error, value-margin_error)\n",
    "                    if (range[0]<= extracted_dict[entity]) & (extracted_dict[entity]<=range[1]):\n",
    "                        # print(f\"TP, {label_data}, {extract_data}, {similarity}\")\n",
    "                        return 'TP'\n",
    "                    else:\n",
    "                        # print(f\"FP, {label_data}, {extract_data}, {similarity}\")\n",
    "                        return \"FP\"\n",
    "                else:\n",
    "                    lower = float(label[entity].split(\"-\")[0])\n",
    "                    upper = float(label[entity].split(\"-\")[1])\n",
    "                    if (lower<= extracted_dict[entity]) & (extracted_dict[entity]<=upper):\n",
    "                        # print(f\"TP, {label_data}, {extract_data}, {similarity}\")\n",
    "                        return 'TP'\n",
    "                    else:\n",
    "                        # print(f\"FP, {label_data}, {extract_data}, {similarity}\")\n",
    "                        return \"FP\"\n"
   ]
  },
  {
   "cell_type": "code",
   "execution_count": 118,
   "metadata": {},
   "outputs": [],
   "source": [
    "def safe_division(numerator, denominator):\n",
    "    \"\"\"Returns division result, or 0 if the denominator is zero.\"\"\"\n",
    "    return numerator / denominator if denominator != 0 else 0"
   ]
  },
  {
   "cell_type": "code",
   "execution_count": 119,
   "metadata": {},
   "outputs": [],
   "source": [
    "def text_comparison(id, label_annotation, extraction_annotation, text_similarity_threshold=0.8):\n",
    "    \"\"\"Compares text values using string similarity matching.\n",
    "    - THE 4 basic variable that is to compare is PEROVSKITE COMPOSITION, ETL, HTL, STRUCTURE\n",
    "    \"\"\"\n",
    "\n",
    "    # Handle special case for structure_pin_nip\n",
    "    # key_to_check = \"pin_nip_structure\" if id == \"structure_pin_nip\" else id\n",
    "\n",
    "    # If the key is missing in the extracted annotation, return False Negative\n",
    "    if (label_annotation[id]!=None) & (extraction_annotation[id]==None):\n",
    "        # print(f\"FN, {label_annotation[id]}, {extraction_annotation[key_to_check]}\")\n",
    "        return \"FN\"\n",
    "    elif (label_annotation[id]==None) & (extraction_annotation[id]!=None):\n",
    "        # print(f\"TN, {label_annotation[id]}, {extraction_annotation[key_to_check]}\")\n",
    "        return \"TN\"\n",
    "\n",
    "    label_data = label_annotation.get(id, \"\")\n",
    "    if id == 'electron_transport_layer' and label_data == \"buckminsterfullerene\":\n",
    "        label_data = 'C60'\n",
    "    extract_data = extraction_annotation.get(id, \"\")\n",
    "\n",
    "    # Convert lists to strings if necessary\n",
    "    if isinstance(label_data, list):\n",
    "        label_data = \" \".join(map(str, label_data))  # Convert list to string\n",
    "    if isinstance(extract_data, list):\n",
    "        extract_data = \" \".join(map(str, extract_data))  # Convert list to string\n",
    "\n",
    "    # Ensure values are strings\n",
    "    if not isinstance(label_data, str) or not isinstance(extract_data, str):\n",
    "        # print(f\"FP, {label_annotation[id]}, {extraction_annotation[id]}\")\n",
    "        return \"FP\"  # If data is still not a string, return False Positive\n",
    "\n",
    "    # Compute similarity score\n",
    "    similarity = SequenceMatcher(None, label_data.lower(), extract_data.lower()).ratio()\n",
    "\n",
    "    if similarity > text_similarity_threshold:\n",
    "        # print(f\"TP, {label_data}, {extract_data}, {similarity}\")\n",
    "        return 'TP'\n",
    "    else:\n",
    "        # print(f\"FP, {label_data}, {extract_data}, {similarity}\")\n",
    "        return \"FP\"\n"
   ]
  },
  {
   "cell_type": "code",
   "execution_count": 120,
   "metadata": {},
   "outputs": [],
   "source": [
    "def numeric_comoparison(id, label_value, extracted_value, numerical_tolerance = 0.027):\n",
    "    # print(id)\n",
    "    # print(f\"label value: {label_value[id]}, {type(label_value[id])}\")\n",
    "    # print(f\"extract value: {extracted_value[id]}, {type(extracted_value[id])}\")\n",
    "    if (label_value[id]!=None) & (extracted_value[id]==None):\n",
    "        # print(f\"FN, {label_value[id]}, {extracted_value[id]}\")\n",
    "        return \"FN\"\n",
    "    elif (label_value[id]==None) & (extracted_value[id]!=None):\n",
    "        # print(f\"TN, {label_value[id]}, {extracted_value[id]}\")\n",
    "        return \"TN\"\n",
    "    elif (label_value[id]==None) & (extracted_value[id]==None):\n",
    "        ##Anotation failed to extract and extraction didn't extract. This is TP\n",
    "        # print(f\"TP, {label_value[id]}, {extracted_value[id]}\")\n",
    "        return \"TP\"\n",
    "    # Apply numerical tolerance check\n",
    "    elif (abs(label_value[id] - extracted_value[id])) / (abs(label_value[id]) )<= numerical_tolerance:\n",
    "\n",
    "        # print(f\"Numerical differences matched: {id} {label_value[id]}, {extracted_value[id]}, absolute difference {(abs(label_value[id] - extracted_value[id])) / (abs(label_value[id]) )}\")\n",
    "        return \"TP\"  # True Positive: Correct numerical extraction\n",
    "    else:\n",
    "        # print(f\"Numerical differences no match: {id}, {label_value[id]}, {extracted_value[id]}, absolute difference {(abs(label_value[id] - extracted_value[id])) / (abs(label_value[id]) )}\")\n",
    "        return \"FP\"  # False Positive: Incorrect numerical extraction    "
   ]
  },
  {
   "cell_type": "code",
   "execution_count": 121,
   "metadata": {},
   "outputs": [],
   "source": [
    "def compare_json(df):\n",
    "    \"\"\"\n",
    "    Compare labeled and extracted JSON data for correctness.\n",
    "\n",
    "    TP: Correct value extracted by LLM.\n",
    "    FN: LLM didn't extract this variable.\n",
    "    FP: LLM extracted a value, but it was incorrect.\n",
    "    TN: LLM halucinated and returned value that was not extracted\n",
    "    \"\"\"\n",
    "    \n",
    "    outside_variables = ['perovskite_composition', 'electron_transport_layer', 'hole_transport_layer', 'structure_pin_nip', \"passivating_molecule\", 'control_pce', 'treated_pce', 'control_voc', 'treated_voc']\n",
    "    outside_text = ['perovskite_composition', 'electron_transport_layer', 'hole_transport_layer', 'structure_pin_nip', \"passivating_molecule\"]\n",
    "    \n",
    "    stability_entity = ['stability_type', 'temperature', 'time', 'humidity', 'efficiency_cont', 'efficiency_tret']\n",
    "\n",
    "    # Initialize comparison dictionaries\n",
    "    text_dict = {var: {\"TP\": 0, \"FP\": 0, \"FN\": 0, \"TN\": 0} for var in outside_variables}\n",
    "    stability_dict = {var: {\"TP\": 0, \"FP\": 0, \"FN\": 0, \"TN\": 0} for var in stability_entity}\n",
    "\n",
    "    for row in df.itertuples():       \n",
    "        label_value = row.annotation\n",
    "        extracted_value = row.extracted\n",
    "\n",
    "        # print(label_value)\n",
    "        # print(extracted_value)\n",
    "\n",
    "        for id, label in label_value.items():\n",
    "            if ('test' in id) and (isinstance(label_value[id], dict)):\n",
    "                ##Plan for stability test evaluation\n",
    "                '''\n",
    "                For each stability condition in annotation, \n",
    "                    Pair them with stability condition in extracted\n",
    "                        With stability of annotation and extraction, use function tests_comparison that returns how similar 2 stabilities are\n",
    "                    \n",
    "                Once all the pair is calculated, find the stability name of extraction that was closest to annotation stability. \n",
    "\n",
    "                Using this dictionary, we will increment FN, FP, TN, TP for each element of the entity.\n",
    "                '''\n",
    "                matched = 0\n",
    "                stability_match = {}\n",
    "                for extract_id, extract_label in extracted_value.items():\n",
    "                    if ('test' in extract_id) and (isinstance(extracted_value[extract_id], dict)):\n",
    "                        matched += 1\n",
    "                        match_list = tests_comparison(id, label, extract_id, extract_label)\n",
    "                        match_list = [0 if item is None else item for item in match_list]\n",
    "                        # print(extracted_value[extract_id])\n",
    "                        # print(match_list)\n",
    "                        stability_match[extract_id] = match_list\n",
    "        \n",
    "                if matched == 0:\n",
    "                    #No stability were extracted, we will add stability_unmatched\n",
    "                        ##We need to account for if there was NO stability extracted. \n",
    "                    for key in stability_dict:\n",
    "                        if 'FN' in stability_dict[key]:\n",
    "                            stability_dict[key]['FN'] += 1\n",
    "                else:\n",
    "                    stability_match_mean = {stability: np.mean(lis) for stability, lis in stability_match.items()}\n",
    "                    max_key = max(stability_match_mean, key=stability_match_mean.get)  \n",
    "                    # print(extracted_value[max_key])\n",
    "                    ##Now, I need to compare each entity in that found max_key and fill in that FN, dictionary.\n",
    "                    for entity in label_value[id].keys():\n",
    "                        if entity == 'efficiency_control':\n",
    "                            continue\n",
    "                        if entity == 'perovskite_molecule':\n",
    "                            continue\n",
    "                        entity_result = entity_comparison(entity, label, extracted_value[max_key])\n",
    "                        stability_dict[entity][entity_result] += 1  \n",
    "            else:  \n",
    "                if id in outside_text:\n",
    "                    result = text_comparison(id, label_value, extracted_value)\n",
    "                    text_dict[id][result] += 1\n",
    "                else:\n",
    "                    result = numeric_comoparison(id, label_value, extracted_value)\n",
    "                    text_dict[id][result] += 1\n",
    "\n",
    "\n",
    "    # Merge all results\n",
    "    combined_dict = {**text_dict, **stability_dict}\n",
    "    # print(\"Performance for each variable in dictionary:\", combined_dict)\n",
    "\n",
    "    # Compute precision, recall, and F1-score\n",
    "    variable_list, precision_list, recall_list, f1_list = [], [], [], []\n",
    "    for variable, performance in combined_dict.items():\n",
    "        TP, FP, FN = performance[\"TP\"], performance[\"FP\"], performance[\"FN\"]\n",
    "        \n",
    "        precision = safe_division(TP, TP + FP)\n",
    "        recall = safe_division(TP, TP + FN)\n",
    "        f1 = safe_division(2 * precision * recall, precision + recall)\n",
    "\n",
    "        variable_list.append(variable)\n",
    "        precision_list.append(precision)\n",
    "        recall_list.append(recall)\n",
    "        f1_list.append(f1)\n",
    "\n",
    "    return combined_dict, variable_list, precision_list, recall_list, f1_list"
   ]
  },
  {
   "cell_type": "code",
   "execution_count": 122,
   "metadata": {},
   "outputs": [
    {
     "name": "stdout",
     "output_type": "stream",
     "text": [
      "annotated0\n",
      "extracted0\n",
      "annotated95.0\n",
      "extracted95\n",
      "annotated0\n",
      "extracted0\n",
      "annotated95.0\n",
      "extracted95\n",
      "annotated0\n",
      "extracted0\n",
      "annotated87.0\n",
      "extracted95\n",
      "annotated0\n",
      "extracted0\n",
      "annotated94.0\n",
      "extracted98\n",
      "annotated0\n",
      "extracted0\n",
      "annotated98.0\n",
      "extracted98\n",
      "annotated58.6\n",
      "extracted0\n",
      "annotated97.3\n",
      "extracted98\n",
      "annotated75.0\n",
      "extracted0\n",
      "annotated99.0\n",
      "extracted23.75\n",
      "annotated16.8\n",
      "extracted0\n",
      "annotated75.6\n",
      "extracted0\n",
      "annotated4.4\n",
      "extracted0\n",
      "annotated76.8\n",
      "extracted0\n",
      "annotated0.0\n",
      "extracted0\n",
      "annotated95.0\n",
      "extracted0\n",
      "annotated0\n",
      "extracted0\n",
      "annotated90.0\n",
      "extracted0\n",
      "annotated60.0\n",
      "extracted0\n",
      "annotated90.0\n",
      "extracted0\n",
      "annotated40.0\n",
      "extracted0\n",
      "annotated80.0\n",
      "extracted0\n",
      "annotated0\n",
      "extracted0\n",
      "annotated90.0\n",
      "extracted0\n",
      "annotated0\n",
      "extracted0\n",
      "annotated75.0\n",
      "extracted0\n",
      "annotated0\n",
      "extracted0\n",
      "annotated90.0\n",
      "extracted0\n",
      "annotated0\n",
      "extracted0\n",
      "annotated80.0\n",
      "extracted0\n",
      "annotated0.0\n",
      "extracted0\n",
      "annotated80.0\n",
      "extracted0\n",
      "annotated60.0\n",
      "extracted60\n",
      "annotated85.0\n",
      "extracted85\n",
      "annotated98.0\n",
      "extracted0\n",
      "annotated104.0\n",
      "extracted98\n",
      "annotated82.0\n",
      "extracted82\n",
      "annotated92.0\n",
      "extracted92\n",
      "annotated0\n",
      "extracted82\n",
      "annotated80.0\n",
      "extracted92\n",
      "annotated90.0\n",
      "extracted0\n",
      "annotated100.0\n",
      "extracted0\n",
      "annotated0\n",
      "extracted0\n",
      "annotated86.0\n",
      "extracted0.86\n",
      "annotated0\n",
      "extracted0\n",
      "annotated85.0\n",
      "extracted0\n",
      "annotated0\n",
      "extracted0\n",
      "annotated85.0\n",
      "extracted0\n",
      "annotated0\n",
      "extracted85\n",
      "annotated85.0\n",
      "extracted0\n",
      "annotated0\n",
      "extracted85\n",
      "annotated85.0\n",
      "extracted0\n",
      "annotated0\n",
      "extracted85\n",
      "annotated85.0\n",
      "extracted0\n",
      "annotated0\n",
      "extracted20\n",
      "annotated100.0\n",
      "extracted92\n",
      "annotated0\n",
      "extracted20\n",
      "annotated92.0\n",
      "extracted92\n",
      "annotated0\n",
      "extracted86\n",
      "annotated100.0\n",
      "extracted0\n",
      "annotated65.0\n",
      "extracted35\n",
      "annotated75.0\n",
      "extracted75\n",
      "annotated47.0\n",
      "extracted47\n",
      "annotated85.0\n",
      "extracted85\n",
      "annotated0\n",
      "extracted0\n",
      "annotated99.4\n",
      "extracted0\n",
      "annotated47.0\n",
      "extracted8.54\n",
      "annotated96.8\n",
      "extracted96.8\n",
      "annotated0\n",
      "extracted59.1\n",
      "annotated95.7\n",
      "extracted93.8\n",
      "annotated0\n",
      "extracted59.1\n",
      "annotated96.2\n",
      "extracted93.8\n",
      "annotated0\n",
      "extracted59.1\n",
      "annotated70.8\n",
      "extracted93.8\n",
      "annotated0\n",
      "extracted0\n",
      "annotated90.0\n",
      "extracted90\n",
      "annotated0\n",
      "extracted0\n",
      "annotated90.0\n",
      "extracted90\n",
      "annotated27.0\n",
      "extracted0.43\n",
      "annotated73.0\n",
      "extracted0.1\n",
      "annotated29.0\n",
      "extracted0.43\n",
      "annotated81.0\n",
      "extracted0.1\n",
      "annotated27.0\n",
      "extracted0.43\n",
      "annotated35.0\n",
      "extracted0.1\n",
      "annotated29.0\n",
      "extracted0.43\n",
      "annotated0\n",
      "extracted0.1\n",
      "annotated44.0\n",
      "extracted44\n",
      "annotated81.0\n",
      "extracted83\n",
      "annotated27.0\n",
      "extracted44\n",
      "annotated74.0\n",
      "extracted83\n",
      "annotated0\n",
      "extracted0\n",
      "annotated50.0\n",
      "extracted0\n",
      "annotated67.2\n",
      "extracted0\n",
      "annotated97.4\n",
      "extracted0\n",
      "annotated67.2\n",
      "extracted0\n",
      "annotated82.1\n",
      "extracted0\n",
      "annotated0\n",
      "extracted0\n",
      "annotated87.2\n",
      "extracted0\n",
      "annotated71.3\n",
      "extracted0\n",
      "annotated98.2\n",
      "extracted0\n",
      "annotated0\n",
      "extracted0\n",
      "annotated90.0\n",
      "extracted90\n",
      "annotated0\n",
      "extracted0\n",
      "annotated90.0\n",
      "extracted90\n",
      "annotated0\n",
      "extracted0\n",
      "annotated90.0\n",
      "extracted90\n",
      "annotated65.0\n",
      "extracted0\n",
      "annotated90.0\n",
      "extracted0\n",
      "annotated0\n",
      "extracted90\n",
      "annotated90.0\n",
      "extracted90\n",
      "annotated0\n",
      "extracted90\n",
      "annotated90.0\n",
      "extracted90\n",
      "annotated0\n",
      "extracted0\n",
      "annotated0\n",
      "extracted0\n",
      "annotated0\n",
      "extracted0\n",
      "annotated0\n",
      "extracted0.97\n",
      "annotated0\n",
      "extracted0\n",
      "annotated38.0\n",
      "extracted0.97\n",
      "annotated0.0\n",
      "extracted0\n",
      "annotated95.0\n",
      "extracted95\n",
      "annotated0.0\n",
      "extracted0\n",
      "annotated80.0\n",
      "extracted95\n",
      "annotated20.0\n",
      "extracted0\n",
      "annotated20.0\n",
      "extracted80\n",
      "annotated0\n",
      "extracted0\n",
      "annotated90.0\n",
      "extracted80\n",
      "annotated20.0\n",
      "extracted0\n",
      "annotated80.0\n",
      "extracted80\n",
      "annotated58.0\n",
      "extracted39\n",
      "annotated100.0\n",
      "extracted10\n",
      "annotated61.0\n",
      "extracted39\n",
      "annotated90.0\n",
      "extracted10\n",
      "annotated0.0\n",
      "extracted0\n",
      "annotated94.0\n",
      "extracted0.94\n",
      "annotated0\n",
      "extracted0\n",
      "annotated82.0\n",
      "extracted0.94\n",
      "annotated50.0\n",
      "extracted91\n",
      "annotated91.0\n",
      "extracted91\n",
      "annotated0\n",
      "extracted91\n",
      "annotated50.0\n",
      "extracted91\n",
      "annotated0\n",
      "extracted0\n",
      "annotated90.0\n",
      "extracted90\n",
      "annotated40.0\n",
      "extracted93\n",
      "annotated93.0\n",
      "extracted22.75\n",
      "annotated87.0\n",
      "extracted93\n",
      "annotated90.0\n",
      "extracted22.75\n",
      "annotated6.0\n",
      "extracted0\n",
      "annotated91.0\n",
      "extracted91\n",
      "annotated72.0\n",
      "extracted0\n",
      "annotated98.0\n",
      "extracted0\n",
      "annotated0\n",
      "extracted96\n",
      "annotated96.0\n",
      "extracted80\n",
      "annotated50.0\n",
      "extracted96\n",
      "annotated80.0\n",
      "extracted80\n",
      "annotated73.2\n",
      "extracted73.2\n",
      "annotated91.8\n",
      "extracted91.8\n",
      "annotated84.0\n",
      "extracted56\n",
      "annotated93.0\n",
      "extracted88\n",
      "annotated56.0\n",
      "extracted56\n",
      "annotated88.0\n",
      "extracted88\n",
      "annotated75.6\n",
      "extracted56\n",
      "annotated98.9\n",
      "extracted88\n",
      "annotated63.0\n",
      "extracted56\n",
      "annotated88.7\n",
      "extracted88\n",
      "annotated60.0\n",
      "extracted0\n",
      "annotated92.0\n",
      "extracted92\n",
      "annotated0\n",
      "extracted18.6\n",
      "annotated94.5\n",
      "extracted94.5\n",
      "annotated0\n",
      "extracted18.6\n",
      "annotated94.5\n",
      "extracted94.5\n",
      "annotated80.0\n",
      "extracted98\n",
      "annotated98.0\n",
      "extracted20\n",
      "annotated80.0\n",
      "extracted98\n",
      "annotated98.0\n",
      "extracted20\n",
      "annotated0\n",
      "extracted0\n",
      "annotated96.0\n",
      "extracted0.96\n",
      "annotated84.0\n",
      "extracted0\n",
      "annotated95.0\n",
      "extracted0.95\n",
      "annotated70.0\n",
      "extracted0\n",
      "annotated96.0\n",
      "extracted0.95\n",
      "annotated0\n",
      "extracted16.13\n",
      "annotated74.0\n",
      "extracted74\n",
      "annotated0\n",
      "extracted16.13\n",
      "annotated71.0\n",
      "extracted74\n",
      "annotated60.0\n",
      "extracted89\n",
      "annotated65.0\n",
      "extracted97\n",
      "annotated60.0\n",
      "extracted89\n",
      "annotated80.0\n",
      "extracted97\n",
      "annotated89.0\n",
      "extracted89\n",
      "annotated97.0\n",
      "extracted97\n",
      "annotated0\n",
      "extracted66.6\n",
      "annotated92.3\n",
      "extracted94.6\n",
      "annotated66.6\n",
      "extracted66.6\n",
      "annotated94.6\n",
      "extracted94.6\n",
      "annotated70.0\n",
      "extracted70\n",
      "annotated84.0\n",
      "extracted95\n",
      "annotated70.0\n",
      "extracted70\n",
      "annotated95.0\n",
      "extracted95\n",
      "annotated0\n",
      "extracted0\n",
      "annotated90.0\n",
      "extracted0\n"
     ]
    }
   ],
   "source": [
    "dict_result_base, variables_base, precisions_base, recalls_base, f1s_base = compare_json(evaluate_df_base)"
   ]
  },
  {
   "cell_type": "code",
   "execution_count": 123,
   "metadata": {},
   "outputs": [
    {
     "ename": "NameError",
     "evalue": "name 'evaluate_df_train' is not defined",
     "output_type": "error",
     "traceback": [
      "\u001b[1;31m---------------------------------------------------------------------------\u001b[0m",
      "\u001b[1;31mNameError\u001b[0m                                 Traceback (most recent call last)",
      "Cell \u001b[1;32mIn[123], line 1\u001b[0m\n\u001b[1;32m----> 1\u001b[0m dict_result_train, variables_train, precisions_train, recalls_train, f1s_train \u001b[38;5;241m=\u001b[39m compare_json(\u001b[43mevaluate_df_train\u001b[49m)\n",
      "\u001b[1;31mNameError\u001b[0m: name 'evaluate_df_train' is not defined"
     ]
    }
   ],
   "source": [
    "dict_result_train, variables_train, precisions_train, recalls_train, f1s_train = compare_json(evaluate_df_train)"
   ]
  },
  {
   "cell_type": "code",
   "execution_count": 124,
   "metadata": {},
   "outputs": [
    {
     "data": {
      "text/plain": [
       "{'perovskite_composition': {'TP': 51, 'FP': 40, 'FN': 0, 'TN': 3},\n",
       " 'electron_transport_layer': {'TP': 10, 'FP': 54, 'FN': 10, 'TN': 20},\n",
       " 'hole_transport_layer': {'TP': 39, 'FP': 28, 'FN': 11, 'TN': 16},\n",
       " 'structure_pin_nip': {'TP': 31, 'FP': 43, 'FN': 3, 'TN': 17},\n",
       " 'passivating_molecule': {'TP': 21, 'FP': 70, 'FN': 3, 'TN': 0},\n",
       " 'control_pce': {'TP': 34, 'FP': 24, 'FN': 16, 'TN': 20},\n",
       " 'treated_pce': {'TP': 46, 'FP': 35, 'FN': 8, 'TN': 5},\n",
       " 'control_voc': {'TP': 46, 'FP': 7, 'FN': 11, 'TN': 30},\n",
       " 'treated_voc': {'TP': 51, 'FP': 13, 'FN': 7, 'TN': 23},\n",
       " 'stability_type': {'TP': 11, 'FP': 83, 'FN': 2, 'TN': 6},\n",
       " 'temperature': {'TP': 34, 'FP': 16, 'FN': 0, 'TN': 52},\n",
       " 'time': {'TP': 50, 'FP': 31, 'FN': 15, 'TN': 6},\n",
       " 'humidity': {'TP': 17, 'FP': 10, 'FN': 13, 'TN': 62},\n",
       " 'efficiency_cont': {'TP': 10, 'FP': 20, 'FN': 19, 'TN': 53},\n",
       " 'efficiency_tret': {'TP': 37, 'FP': 35, 'FN': 27, 'TN': 3}}"
      ]
     },
     "execution_count": 124,
     "metadata": {},
     "output_type": "execute_result"
    }
   ],
   "source": [
    "dict_result_base"
   ]
  },
  {
   "cell_type": "code",
   "execution_count": 125,
   "metadata": {},
   "outputs": [
    {
     "ename": "NameError",
     "evalue": "name 'dict_result_train' is not defined",
     "output_type": "error",
     "traceback": [
      "\u001b[1;31m---------------------------------------------------------------------------\u001b[0m",
      "\u001b[1;31mNameError\u001b[0m                                 Traceback (most recent call last)",
      "Cell \u001b[1;32mIn[125], line 1\u001b[0m\n\u001b[1;32m----> 1\u001b[0m \u001b[43mdict_result_train\u001b[49m\n",
      "\u001b[1;31mNameError\u001b[0m: name 'dict_result_train' is not defined"
     ]
    }
   ],
   "source": [
    "dict_result_train"
   ]
  },
  {
   "cell_type": "markdown",
   "metadata": {},
   "source": [
    "## Calculate Macro f1 score"
   ]
  },
  {
   "cell_type": "code",
   "execution_count": 126,
   "metadata": {},
   "outputs": [],
   "source": [
    "def macro_f1(f1_list, weight = None):\n",
    "    if weight == None:\n",
    "        #If no weight given, do unweighted average of f1 score\n",
    "        return sum(f1_list) / len(f1_list)\n",
    "    total_f1 = 0\n",
    "    for i in range(len(f1_list)):\n",
    "        total_f1 += (f1_list[i] * weight[i])\n",
    "    return total_f1 / sum(weight)\n",
    "    \n"
   ]
  },
  {
   "cell_type": "code",
   "execution_count": 127,
   "metadata": {},
   "outputs": [
    {
     "data": {
      "text/html": [
       "<div>\n",
       "<style scoped>\n",
       "    .dataframe tbody tr th:only-of-type {\n",
       "        vertical-align: middle;\n",
       "    }\n",
       "\n",
       "    .dataframe tbody tr th {\n",
       "        vertical-align: top;\n",
       "    }\n",
       "\n",
       "    .dataframe thead th {\n",
       "        text-align: right;\n",
       "    }\n",
       "</style>\n",
       "<table border=\"1\" class=\"dataframe\">\n",
       "  <thead>\n",
       "    <tr style=\"text-align: right;\">\n",
       "      <th></th>\n",
       "      <th>Macro F1 score weight distribution</th>\n",
       "      <th>Base Deepseek 8bit</th>\n",
       "      <th>Fine-Tuned Deepseek 4 bit</th>\n",
       "      <th>Fine-Tuned Deepseek 8 bit</th>\n",
       "      <th>Llama 3 billion parameter</th>\n",
       "    </tr>\n",
       "  </thead>\n",
       "  <tbody>\n",
       "    <tr>\n",
       "      <th>0</th>\n",
       "      <td>NaN</td>\n",
       "      <td>NaN</td>\n",
       "      <td>NaN</td>\n",
       "      <td>NaN</td>\n",
       "      <td>NaN</td>\n",
       "    </tr>\n",
       "    <tr>\n",
       "      <th>1</th>\n",
       "      <td>NaN</td>\n",
       "      <td>NaN</td>\n",
       "      <td>NaN</td>\n",
       "      <td>NaN</td>\n",
       "      <td>NaN</td>\n",
       "    </tr>\n",
       "    <tr>\n",
       "      <th>2</th>\n",
       "      <td>NaN</td>\n",
       "      <td>NaN</td>\n",
       "      <td>NaN</td>\n",
       "      <td>NaN</td>\n",
       "      <td>NaN</td>\n",
       "    </tr>\n",
       "    <tr>\n",
       "      <th>3</th>\n",
       "      <td>NaN</td>\n",
       "      <td>NaN</td>\n",
       "      <td>NaN</td>\n",
       "      <td>NaN</td>\n",
       "      <td>NaN</td>\n",
       "    </tr>\n",
       "    <tr>\n",
       "      <th>4</th>\n",
       "      <td>NaN</td>\n",
       "      <td>NaN</td>\n",
       "      <td>NaN</td>\n",
       "      <td>NaN</td>\n",
       "      <td>NaN</td>\n",
       "    </tr>\n",
       "    <tr>\n",
       "      <th>5</th>\n",
       "      <td>NaN</td>\n",
       "      <td>NaN</td>\n",
       "      <td>NaN</td>\n",
       "      <td>NaN</td>\n",
       "      <td>NaN</td>\n",
       "    </tr>\n",
       "    <tr>\n",
       "      <th>6</th>\n",
       "      <td>NaN</td>\n",
       "      <td>NaN</td>\n",
       "      <td>NaN</td>\n",
       "      <td>NaN</td>\n",
       "      <td>NaN</td>\n",
       "    </tr>\n",
       "  </tbody>\n",
       "</table>\n",
       "</div>"
      ],
      "text/plain": [
       "   Macro F1 score weight distribution  Base Deepseek 8bit  \\\n",
       "0                                 NaN                 NaN   \n",
       "1                                 NaN                 NaN   \n",
       "2                                 NaN                 NaN   \n",
       "3                                 NaN                 NaN   \n",
       "4                                 NaN                 NaN   \n",
       "5                                 NaN                 NaN   \n",
       "6                                 NaN                 NaN   \n",
       "\n",
       "   Fine-Tuned Deepseek 4 bit  Fine-Tuned Deepseek 8 bit  \\\n",
       "0                        NaN                        NaN   \n",
       "1                        NaN                        NaN   \n",
       "2                        NaN                        NaN   \n",
       "3                        NaN                        NaN   \n",
       "4                        NaN                        NaN   \n",
       "5                        NaN                        NaN   \n",
       "6                        NaN                        NaN   \n",
       "\n",
       "   Llama 3 billion parameter  \n",
       "0                        NaN  \n",
       "1                        NaN  \n",
       "2                        NaN  \n",
       "3                        NaN  \n",
       "4                        NaN  \n",
       "5                        NaN  \n",
       "6                        NaN  "
      ]
     },
     "execution_count": 127,
     "metadata": {},
     "output_type": "execute_result"
    }
   ],
   "source": [
    "# Define column names\n",
    "columns = ['Macro F1 score weight distribution', 'Base Deepseek 8bit', 'Fine-Tuned Deepseek 4 bit', 'Fine-Tuned Deepseek 8 bit', 'Llama 3 billion parameter']\n",
    "\n",
    "# Create a DataFrame with NaN values\n",
    "df_f1scores = pd.DataFrame(np.nan, index=[0, 1, 2, 3, 4, 5, 6], columns=columns)\n",
    "df_f1scores"
   ]
  },
  {
   "cell_type": "code",
   "execution_count": 128,
   "metadata": {},
   "outputs": [
    {
     "ename": "NameError",
     "evalue": "name 'f1s_train' is not defined",
     "output_type": "error",
     "traceback": [
      "\u001b[1;31m---------------------------------------------------------------------------\u001b[0m",
      "\u001b[1;31mNameError\u001b[0m                                 Traceback (most recent call last)",
      "Cell \u001b[1;32mIn[128], line 2\u001b[0m\n\u001b[0;32m      1\u001b[0m \u001b[38;5;66;03m## Unweighted\u001b[39;00m\n\u001b[1;32m----> 2\u001b[0m macro_train_0 \u001b[38;5;241m=\u001b[39m macro_f1(\u001b[43mf1s_train\u001b[49m)\n\u001b[0;32m      3\u001b[0m macro_train_0\n",
      "\u001b[1;31mNameError\u001b[0m: name 'f1s_train' is not defined"
     ]
    }
   ],
   "source": [
    "## Unweighted\n",
    "macro_train_0 = macro_f1(f1s_train)\n",
    "macro_train_0\n"
   ]
  },
  {
   "cell_type": "code",
   "execution_count": 129,
   "metadata": {},
   "outputs": [
    {
     "data": {
      "text/plain": [
       "0.5817038846350394"
      ]
     },
     "execution_count": 129,
     "metadata": {},
     "output_type": "execute_result"
    }
   ],
   "source": [
    "macro_base_0 = macro_f1(f1s_base)\n",
    "macro_base_0"
   ]
  },
  {
   "cell_type": "code",
   "execution_count": 130,
   "metadata": {},
   "outputs": [],
   "source": [
    "## unweighted row value\n",
    "unweighted = ['Macro F1 score with equal weight', macro_base_0, None, None, None]\n",
    "df_f1scores.loc[0] = unweighted\n"
   ]
  },
  {
   "cell_type": "code",
   "execution_count": 131,
   "metadata": {},
   "outputs": [
    {
     "ename": "NameError",
     "evalue": "name 'variables_train' is not defined",
     "output_type": "error",
     "traceback": [
      "\u001b[1;31m---------------------------------------------------------------------------\u001b[0m",
      "\u001b[1;31mNameError\u001b[0m                                 Traceback (most recent call last)",
      "Cell \u001b[1;32mIn[131], line 1\u001b[0m\n\u001b[1;32m----> 1\u001b[0m \u001b[43mvariables_train\u001b[49m\n",
      "\u001b[1;31mNameError\u001b[0m: name 'variables_train' is not defined"
     ]
    }
   ],
   "source": [
    "variables_train"
   ]
  },
  {
   "cell_type": "code",
   "execution_count": 132,
   "metadata": {},
   "outputs": [],
   "source": [
    "weights_1 = [1, 1, 1, 1, 2, 2, 2, 2, 1, 2, 2, 1, 1, 1, 1]"
   ]
  },
  {
   "cell_type": "code",
   "execution_count": 133,
   "metadata": {},
   "outputs": [
    {
     "ename": "NameError",
     "evalue": "name 'f1s_train' is not defined",
     "output_type": "error",
     "traceback": [
      "\u001b[1;31m---------------------------------------------------------------------------\u001b[0m",
      "\u001b[1;31mNameError\u001b[0m                                 Traceback (most recent call last)",
      "Cell \u001b[1;32mIn[133], line 1\u001b[0m\n\u001b[1;32m----> 1\u001b[0m macro_train_1 \u001b[38;5;241m=\u001b[39m macro_f1(\u001b[43mf1s_train\u001b[49m, weight \u001b[38;5;241m=\u001b[39m weights_1)\n\u001b[0;32m      2\u001b[0m macro_train_1\n",
      "\u001b[1;31mNameError\u001b[0m: name 'f1s_train' is not defined"
     ]
    }
   ],
   "source": [
    "macro_train_1 = macro_f1(f1s_train, weight = weights_1)\n",
    "macro_train_1"
   ]
  },
  {
   "cell_type": "code",
   "execution_count": 134,
   "metadata": {},
   "outputs": [
    {
     "data": {
      "text/plain": [
       "0.5834943664030481"
      ]
     },
     "execution_count": 134,
     "metadata": {},
     "output_type": "execute_result"
    }
   ],
   "source": [
    "macro_base_1 = macro_f1(f1s_base, weight = weights_1)\n",
    "macro_base_1"
   ]
  },
  {
   "cell_type": "code",
   "execution_count": 135,
   "metadata": {},
   "outputs": [],
   "source": [
    "## Heavier weight on stability value\n",
    "first_f1 = ['Heavier weight on stability', macro_base_1, None, None, None]\n",
    "df_f1scores.loc[1] = first_f1"
   ]
  },
  {
   "cell_type": "code",
   "execution_count": 136,
   "metadata": {},
   "outputs": [
    {
     "ename": "NameError",
     "evalue": "name 'variables_train' is not defined",
     "output_type": "error",
     "traceback": [
      "\u001b[1;31m---------------------------------------------------------------------------\u001b[0m",
      "\u001b[1;31mNameError\u001b[0m                                 Traceback (most recent call last)",
      "Cell \u001b[1;32mIn[136], line 1\u001b[0m\n\u001b[1;32m----> 1\u001b[0m \u001b[43mvariables_train\u001b[49m\n",
      "\u001b[1;31mNameError\u001b[0m: name 'variables_train' is not defined"
     ]
    }
   ],
   "source": [
    "variables_train"
   ]
  },
  {
   "cell_type": "code",
   "execution_count": 137,
   "metadata": {},
   "outputs": [],
   "source": [
    "weights_2 = [2, 2, 2, 2, 1, 1, 1, 1, 2, 1, 1, 1, 1, 1, 1]"
   ]
  },
  {
   "cell_type": "code",
   "execution_count": 138,
   "metadata": {},
   "outputs": [
    {
     "ename": "NameError",
     "evalue": "name 'f1s_train' is not defined",
     "output_type": "error",
     "traceback": [
      "\u001b[1;31m---------------------------------------------------------------------------\u001b[0m",
      "\u001b[1;31mNameError\u001b[0m                                 Traceback (most recent call last)",
      "Cell \u001b[1;32mIn[138], line 1\u001b[0m\n\u001b[1;32m----> 1\u001b[0m macro_train_2 \u001b[38;5;241m=\u001b[39m macro_f1(\u001b[43mf1s_train\u001b[49m, weight \u001b[38;5;241m=\u001b[39m weights_2)\n\u001b[0;32m      2\u001b[0m macro_train_2\n",
      "\u001b[1;31mNameError\u001b[0m: name 'f1s_train' is not defined"
     ]
    }
   ],
   "source": [
    "macro_train_2 = macro_f1(f1s_train, weight = weights_2)\n",
    "macro_train_2"
   ]
  },
  {
   "cell_type": "code",
   "execution_count": 139,
   "metadata": {},
   "outputs": [
    {
     "data": {
      "text/plain": [
       "0.5879384840643496"
      ]
     },
     "execution_count": 139,
     "metadata": {},
     "output_type": "execute_result"
    }
   ],
   "source": [
    "macro_base_2 = macro_f1(f1s_base, weight = weights_2)\n",
    "macro_base_2"
   ]
  },
  {
   "cell_type": "code",
   "execution_count": 140,
   "metadata": {},
   "outputs": [],
   "source": [
    "## Heavier weight on perovskite structure\n",
    "first_f2 = ['Heavier weight on perovskite structure', macro_base_2, None, None, None]\n",
    "df_f1scores.loc[2] = first_f2"
   ]
  },
  {
   "cell_type": "code",
   "execution_count": 141,
   "metadata": {},
   "outputs": [
    {
     "ename": "NameError",
     "evalue": "name 'variables_train' is not defined",
     "output_type": "error",
     "traceback": [
      "\u001b[1;31m---------------------------------------------------------------------------\u001b[0m",
      "\u001b[1;31mNameError\u001b[0m                                 Traceback (most recent call last)",
      "Cell \u001b[1;32mIn[141], line 1\u001b[0m\n\u001b[1;32m----> 1\u001b[0m \u001b[43mvariables_train\u001b[49m\n",
      "\u001b[1;31mNameError\u001b[0m: name 'variables_train' is not defined"
     ]
    }
   ],
   "source": [
    "variables_train"
   ]
  },
  {
   "cell_type": "code",
   "execution_count": 142,
   "metadata": {},
   "outputs": [],
   "source": [
    "weights_3 = [1, 1, 1, 1, 1, 2, 2, 2, 1, 2, 2, 2, 2, 2, 2]"
   ]
  },
  {
   "cell_type": "code",
   "execution_count": 143,
   "metadata": {},
   "outputs": [
    {
     "ename": "NameError",
     "evalue": "name 'f1s_train' is not defined",
     "output_type": "error",
     "traceback": [
      "\u001b[1;31m---------------------------------------------------------------------------\u001b[0m",
      "\u001b[1;31mNameError\u001b[0m                                 Traceback (most recent call last)",
      "Cell \u001b[1;32mIn[143], line 1\u001b[0m\n\u001b[1;32m----> 1\u001b[0m macro_train_3 \u001b[38;5;241m=\u001b[39m macro_f1(\u001b[43mf1s_train\u001b[49m, weight \u001b[38;5;241m=\u001b[39m weights_3)\n\u001b[0;32m      2\u001b[0m macro_train_3\n",
      "\u001b[1;31mNameError\u001b[0m: name 'f1s_train' is not defined"
     ]
    }
   ],
   "source": [
    "macro_train_3 = macro_f1(f1s_train, weight = weights_3)\n",
    "macro_train_3"
   ]
  },
  {
   "cell_type": "code",
   "execution_count": 144,
   "metadata": {},
   "outputs": [
    {
     "data": {
      "text/plain": [
       "0.5855286556660597"
      ]
     },
     "execution_count": 144,
     "metadata": {},
     "output_type": "execute_result"
    }
   ],
   "source": [
    "macro_base_3 = macro_f1(f1s_base, weight = weights_3)\n",
    "macro_base_3"
   ]
  },
  {
   "cell_type": "code",
   "execution_count": 145,
   "metadata": {},
   "outputs": [],
   "source": [
    "## Heavier weight on numeric data\n",
    "first_f3 = ['Heavier weight on numeric data', macro_base_3, None, None, None]\n",
    "df_f1scores.loc[3] = first_f3"
   ]
  },
  {
   "cell_type": "code",
   "execution_count": 146,
   "metadata": {},
   "outputs": [
    {
     "ename": "NameError",
     "evalue": "name 'variables_train' is not defined",
     "output_type": "error",
     "traceback": [
      "\u001b[1;31m---------------------------------------------------------------------------\u001b[0m",
      "\u001b[1;31mNameError\u001b[0m                                 Traceback (most recent call last)",
      "Cell \u001b[1;32mIn[146], line 1\u001b[0m\n\u001b[1;32m----> 1\u001b[0m \u001b[43mvariables_train\u001b[49m\n",
      "\u001b[1;31mNameError\u001b[0m: name 'variables_train' is not defined"
     ]
    }
   ],
   "source": [
    "variables_train"
   ]
  },
  {
   "cell_type": "code",
   "execution_count": 147,
   "metadata": {},
   "outputs": [],
   "source": [
    "weights_4 = [1, 0, 0, 0, 0, 0, 0, 0, 1, 0, 0, 0, 1, 0, 1]"
   ]
  },
  {
   "cell_type": "code",
   "execution_count": 148,
   "metadata": {},
   "outputs": [
    {
     "ename": "NameError",
     "evalue": "name 'f1s_train' is not defined",
     "output_type": "error",
     "traceback": [
      "\u001b[1;31m---------------------------------------------------------------------------\u001b[0m",
      "\u001b[1;31mNameError\u001b[0m                                 Traceback (most recent call last)",
      "Cell \u001b[1;32mIn[148], line 1\u001b[0m\n\u001b[1;32m----> 1\u001b[0m macro_train_4 \u001b[38;5;241m=\u001b[39m macro_f1(\u001b[43mf1s_train\u001b[49m, weight \u001b[38;5;241m=\u001b[39m weights_4)\n\u001b[0;32m      2\u001b[0m macro_train_4\n",
      "\u001b[1;31mNameError\u001b[0m: name 'f1s_train' is not defined"
     ]
    }
   ],
   "source": [
    "macro_train_4 = macro_f1(f1s_train, weight = weights_4)\n",
    "macro_train_4"
   ]
  },
  {
   "cell_type": "code",
   "execution_count": 149,
   "metadata": {},
   "outputs": [
    {
     "data": {
      "text/plain": [
       "0.673746077013605"
      ]
     },
     "execution_count": 149,
     "metadata": {},
     "output_type": "execute_result"
    }
   ],
   "source": [
    "macro_base_4 = macro_f1(f1s_base, weight = weights_4)\n",
    "macro_base_4"
   ]
  },
  {
   "cell_type": "code",
   "execution_count": 150,
   "metadata": {},
   "outputs": [],
   "source": [
    "## Weight to perform prediction 1\n",
    "first_f4 = ['Weight to perform prediction 1', macro_base_4, None, None, None]\n",
    "df_f1scores.loc[4] = first_f4"
   ]
  },
  {
   "cell_type": "code",
   "execution_count": 151,
   "metadata": {},
   "outputs": [
    {
     "ename": "NameError",
     "evalue": "name 'variables_train' is not defined",
     "output_type": "error",
     "traceback": [
      "\u001b[1;31m---------------------------------------------------------------------------\u001b[0m",
      "\u001b[1;31mNameError\u001b[0m                                 Traceback (most recent call last)",
      "Cell \u001b[1;32mIn[151], line 1\u001b[0m\n\u001b[1;32m----> 1\u001b[0m \u001b[43mvariables_train\u001b[49m\n",
      "\u001b[1;31mNameError\u001b[0m: name 'variables_train' is not defined"
     ]
    }
   ],
   "source": [
    "variables_train"
   ]
  },
  {
   "cell_type": "code",
   "execution_count": 152,
   "metadata": {},
   "outputs": [],
   "source": [
    "weights_5 = [1, 0, 0, 0, 0, 0, 0, 0, 1, 0, 0, 1, 1, 1, 1]"
   ]
  },
  {
   "cell_type": "code",
   "execution_count": 153,
   "metadata": {},
   "outputs": [
    {
     "ename": "NameError",
     "evalue": "name 'f1s_train' is not defined",
     "output_type": "error",
     "traceback": [
      "\u001b[1;31m---------------------------------------------------------------------------\u001b[0m",
      "\u001b[1;31mNameError\u001b[0m                                 Traceback (most recent call last)",
      "Cell \u001b[1;32mIn[153], line 1\u001b[0m\n\u001b[1;32m----> 1\u001b[0m macro_train_5 \u001b[38;5;241m=\u001b[39m macro_f1(\u001b[43mf1s_train\u001b[49m, weight \u001b[38;5;241m=\u001b[39m weights_5)\n\u001b[0;32m      2\u001b[0m macro_train_5\n",
      "\u001b[1;31mNameError\u001b[0m: name 'f1s_train' is not defined"
     ]
    }
   ],
   "source": [
    "macro_train_5 = macro_f1(f1s_train, weight = weights_5)\n",
    "macro_train_5"
   ]
  },
  {
   "cell_type": "code",
   "execution_count": 154,
   "metadata": {},
   "outputs": [
    {
     "data": {
      "text/plain": [
       "0.6198164776251988"
      ]
     },
     "execution_count": 154,
     "metadata": {},
     "output_type": "execute_result"
    }
   ],
   "source": [
    "macro_base_5 = macro_f1(f1s_base, weight = weights_5)\n",
    "macro_base_5"
   ]
  },
  {
   "cell_type": "code",
   "execution_count": 155,
   "metadata": {},
   "outputs": [],
   "source": [
    "## Weight to perform prediction 2\n",
    "first_f5 = ['Weight to perform prediction 2', macro_base_5, None, None, None]\n",
    "df_f1scores.loc[5] = first_f5"
   ]
  },
  {
   "cell_type": "code",
   "execution_count": 156,
   "metadata": {},
   "outputs": [
    {
     "ename": "NameError",
     "evalue": "name 'variables_train' is not defined",
     "output_type": "error",
     "traceback": [
      "\u001b[1;31m---------------------------------------------------------------------------\u001b[0m",
      "\u001b[1;31mNameError\u001b[0m                                 Traceback (most recent call last)",
      "Cell \u001b[1;32mIn[156], line 1\u001b[0m\n\u001b[1;32m----> 1\u001b[0m \u001b[43mvariables_train\u001b[49m\n",
      "\u001b[1;31mNameError\u001b[0m: name 'variables_train' is not defined"
     ]
    }
   ],
   "source": [
    "variables_train"
   ]
  },
  {
   "cell_type": "code",
   "execution_count": 157,
   "metadata": {},
   "outputs": [],
   "source": [
    "weights_6 = [1, 0, 0, 0, 1, 1, 1, 1, 1, 1, 1, 0, 1, 0, 0]"
   ]
  },
  {
   "cell_type": "code",
   "execution_count": 158,
   "metadata": {},
   "outputs": [
    {
     "ename": "NameError",
     "evalue": "name 'f1s_train' is not defined",
     "output_type": "error",
     "traceback": [
      "\u001b[1;31m---------------------------------------------------------------------------\u001b[0m",
      "\u001b[1;31mNameError\u001b[0m                                 Traceback (most recent call last)",
      "Cell \u001b[1;32mIn[158], line 1\u001b[0m\n\u001b[1;32m----> 1\u001b[0m macro_train_6 \u001b[38;5;241m=\u001b[39m macro_f1(\u001b[43mf1s_train\u001b[49m, weight \u001b[38;5;241m=\u001b[39m weights_6)\n\u001b[0;32m      2\u001b[0m macro_train_6\n",
      "\u001b[1;31mNameError\u001b[0m: name 'f1s_train' is not defined"
     ]
    }
   ],
   "source": [
    "macro_train_6 = macro_f1(f1s_train, weight = weights_6)\n",
    "macro_train_6"
   ]
  },
  {
   "cell_type": "code",
   "execution_count": 159,
   "metadata": {},
   "outputs": [
    {
     "data": {
      "text/plain": [
       "0.6309655651037794"
      ]
     },
     "execution_count": 159,
     "metadata": {},
     "output_type": "execute_result"
    }
   ],
   "source": [
    "macro_base_6 = macro_f1(f1s_base, weight = weights_6)\n",
    "macro_base_6"
   ]
  },
  {
   "cell_type": "code",
   "execution_count": 160,
   "metadata": {},
   "outputs": [],
   "source": [
    "## Weight to perform prediction 3\n",
    "first_f6 = ['Weight to perform prediction 3', macro_base_6, None, None, None]\n",
    "df_f1scores.loc[6] = first_f6"
   ]
  },
  {
   "cell_type": "code",
   "execution_count": 161,
   "metadata": {},
   "outputs": [
    {
     "data": {
      "text/html": [
       "<div>\n",
       "<style scoped>\n",
       "    .dataframe tbody tr th:only-of-type {\n",
       "        vertical-align: middle;\n",
       "    }\n",
       "\n",
       "    .dataframe tbody tr th {\n",
       "        vertical-align: top;\n",
       "    }\n",
       "\n",
       "    .dataframe thead th {\n",
       "        text-align: right;\n",
       "    }\n",
       "</style>\n",
       "<table border=\"1\" class=\"dataframe\">\n",
       "  <thead>\n",
       "    <tr style=\"text-align: right;\">\n",
       "      <th></th>\n",
       "      <th>Macro F1 score weight distribution</th>\n",
       "      <th>Base Deepseek 8bit</th>\n",
       "      <th>Fine-Tuned Deepseek 4 bit</th>\n",
       "      <th>Fine-Tuned Deepseek 8 bit</th>\n",
       "      <th>Llama 3 billion parameter</th>\n",
       "    </tr>\n",
       "  </thead>\n",
       "  <tbody>\n",
       "    <tr>\n",
       "      <th>0</th>\n",
       "      <td>Macro F1 score with equal weight</td>\n",
       "      <td>0.581704</td>\n",
       "      <td>NaN</td>\n",
       "      <td>NaN</td>\n",
       "      <td>NaN</td>\n",
       "    </tr>\n",
       "    <tr>\n",
       "      <th>1</th>\n",
       "      <td>Heavier weight on stability</td>\n",
       "      <td>0.583494</td>\n",
       "      <td>NaN</td>\n",
       "      <td>NaN</td>\n",
       "      <td>NaN</td>\n",
       "    </tr>\n",
       "    <tr>\n",
       "      <th>2</th>\n",
       "      <td>Heavier weight on perovskite structure</td>\n",
       "      <td>0.587938</td>\n",
       "      <td>NaN</td>\n",
       "      <td>NaN</td>\n",
       "      <td>NaN</td>\n",
       "    </tr>\n",
       "    <tr>\n",
       "      <th>3</th>\n",
       "      <td>Heavier weight on numeric data</td>\n",
       "      <td>0.585529</td>\n",
       "      <td>NaN</td>\n",
       "      <td>NaN</td>\n",
       "      <td>NaN</td>\n",
       "    </tr>\n",
       "    <tr>\n",
       "      <th>4</th>\n",
       "      <td>Weight to perform prediction 1</td>\n",
       "      <td>0.673746</td>\n",
       "      <td>NaN</td>\n",
       "      <td>NaN</td>\n",
       "      <td>NaN</td>\n",
       "    </tr>\n",
       "    <tr>\n",
       "      <th>5</th>\n",
       "      <td>Weight to perform prediction 2</td>\n",
       "      <td>0.619816</td>\n",
       "      <td>NaN</td>\n",
       "      <td>NaN</td>\n",
       "      <td>NaN</td>\n",
       "    </tr>\n",
       "    <tr>\n",
       "      <th>6</th>\n",
       "      <td>Weight to perform prediction 3</td>\n",
       "      <td>0.630966</td>\n",
       "      <td>NaN</td>\n",
       "      <td>NaN</td>\n",
       "      <td>NaN</td>\n",
       "    </tr>\n",
       "  </tbody>\n",
       "</table>\n",
       "</div>"
      ],
      "text/plain": [
       "       Macro F1 score weight distribution  Base Deepseek 8bit  \\\n",
       "0        Macro F1 score with equal weight            0.581704   \n",
       "1             Heavier weight on stability            0.583494   \n",
       "2  Heavier weight on perovskite structure            0.587938   \n",
       "3          Heavier weight on numeric data            0.585529   \n",
       "4          Weight to perform prediction 1            0.673746   \n",
       "5          Weight to perform prediction 2            0.619816   \n",
       "6          Weight to perform prediction 3            0.630966   \n",
       "\n",
       "   Fine-Tuned Deepseek 4 bit  Fine-Tuned Deepseek 8 bit  \\\n",
       "0                        NaN                        NaN   \n",
       "1                        NaN                        NaN   \n",
       "2                        NaN                        NaN   \n",
       "3                        NaN                        NaN   \n",
       "4                        NaN                        NaN   \n",
       "5                        NaN                        NaN   \n",
       "6                        NaN                        NaN   \n",
       "\n",
       "   Llama 3 billion parameter  \n",
       "0                        NaN  \n",
       "1                        NaN  \n",
       "2                        NaN  \n",
       "3                        NaN  \n",
       "4                        NaN  \n",
       "5                        NaN  \n",
       "6                        NaN  "
      ]
     },
     "execution_count": 161,
     "metadata": {},
     "output_type": "execute_result"
    }
   ],
   "source": [
    "df_f1scores"
   ]
  },
  {
   "cell_type": "markdown",
   "metadata": {},
   "source": [
    "### Different weight to consider\n",
    "- Unweight\n",
    "- Heavier weight on stability\n",
    "- Heavier weight on perovskite structure\n",
    "- Heavier weight on numeric data\n",
    "- Weight to perform prediction 1\n",
    "- Weight to perform prediction 2\n",
    "- Weight to perform prediction 3"
   ]
  },
  {
   "cell_type": "markdown",
   "metadata": {},
   "source": []
  },
  {
   "cell_type": "markdown",
   "metadata": {},
   "source": []
  }
 ],
 "metadata": {
  "kernelspec": {
   "display_name": "dsc80",
   "language": "python",
   "name": "python3"
  },
  "language_info": {
   "codemirror_mode": {
    "name": "ipython",
    "version": 3
   },
   "file_extension": ".py",
   "mimetype": "text/x-python",
   "name": "python",
   "nbconvert_exporter": "python",
   "pygments_lexer": "ipython3",
   "version": "3.8.18"
  }
 },
 "nbformat": 4,
 "nbformat_minor": 2
}
