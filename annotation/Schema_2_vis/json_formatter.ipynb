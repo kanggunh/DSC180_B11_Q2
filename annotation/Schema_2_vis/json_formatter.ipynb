{
 "cells": [
  {
   "cell_type": "markdown",
   "metadata": {},
   "source": [
    "## The deepseek base model's extraction follows the following schema that is not alligned with the evaluation schema. "
   ]
  },
  {
   "cell_type": "markdown",
   "metadata": {},
   "source": [
    "### Deepseek base schema"
   ]
  },
  {
   "cell_type": "code",
   "execution_count": 2,
   "metadata": {},
   "outputs": [],
   "source": [
    "## Deepseek schema\n",
    "data_schema = {\n",
    "    'perovskite_composition': None,\n",
    "    'electron_transport_layer': None,\n",
    "    'hole_transport_layer': None,\n",
    "    'structure_pin_nip': None,\n",
    "    'passivating_molecule': None,\n",
    "    'control_pce': None,\n",
    "    'treated_pce': None,\n",
    "    'control_voc': None,\n",
    "    'treated_voc': None,\n",
    "    'stability_tests': [{\n",
    "        'stability_type': None,\n",
    "        'humidity': None,\n",
    "        'temperature': None,\n",
    "        'time': None,\n",
    "        'efficiency_tret': None,\n",
    "        'efficiency_cont': None\n",
    "    },\n",
    "    {\n",
    "        ...\n",
    "    }]\n",
    "}"
   ]
  },
  {
   "cell_type": "markdown",
   "metadata": {},
   "source": [
    "## Schema expected for evaluation"
   ]
  },
  {
   "cell_type": "code",
   "execution_count": 4,
   "metadata": {},
   "outputs": [
    {
     "data": {
      "text/plain": [
       "{'perovskite_composition': None,\n",
       " 'electron_transport_layer': None,\n",
       " 'hole_transport_layer': None,\n",
       " 'structure_pin_nip': None,\n",
       " 'passivating_molecule': None,\n",
       " 'control_pce': None,\n",
       " 'treated_pce': None,\n",
       " 'control_voc': None,\n",
       " 'treated_voc': None,\n",
       " 'test_1': {'stability_type': None,\n",
       "  'humidity': None,\n",
       "  'temperature': None,\n",
       "  'time': None,\n",
       "  'efficiency_tret': None,\n",
       "  'efficiency_cont': None}}"
      ]
     },
     "execution_count": 4,
     "metadata": {},
     "output_type": "execute_result"
    }
   ],
   "source": [
    "#Evaluation schema 2\n",
    "data_schema = {\n",
    "    'perovskite_composition': None,\n",
    "    'electron_transport_layer': None,\n",
    "    'hole_transport_layer': None,\n",
    "    'structure_pin_nip': None,\n",
    "    'passivating_molecule': None,\n",
    "    'control_pce': None,\n",
    "    'treated_pce': None,\n",
    "    'control_voc': None,\n",
    "    'treated_voc': None,\n",
    "    'test_1': {\n",
    "        'stability_type': None,\n",
    "        'humidity': None,\n",
    "        'temperature': None,\n",
    "        'time': None,\n",
    "        'efficiency_tret': None,\n",
    "        'efficiency_cont': None\n",
    "    }\n",
    "}\n",
    "\n",
    "data_schema\n"
   ]
  },
  {
   "cell_type": "code",
   "execution_count": 5,
   "metadata": {},
   "outputs": [],
   "source": [
    "import json\n",
    "import pandas as pd\n",
    "import numpy as np"
   ]
  },
  {
   "cell_type": "code",
   "execution_count": 71,
   "metadata": {},
   "outputs": [],
   "source": [
    "def transform_stability_tests(data):\n",
    "    stability_found = 0\n",
    "    for key, value in data.items():\n",
    "        if \"stability_tests\" in key and isinstance(data[key], list):\n",
    "            # Convert list elements to dictionary with keys \"test_1\", \"test_2\", etc.\n",
    "            stailbity_tests = {f\"test_{i+1}\": test for i, test in enumerate(data[key])}\n",
    "            stability_found = 1\n",
    "    if stability_found == 1:\n",
    "        data.update(stailbity_tests)\n",
    "        del data['stability_tests']\n",
    "    return data"
   ]
  },
  {
   "cell_type": "code",
   "execution_count": null,
   "metadata": {},
   "outputs": [],
   "source": [
    "def save_json_to_file(data, filename=\"output.json\"):\n",
    "    with open(filename, \"w\", encoding=\"utf-8\") as file:\n",
    "        json.dump(data, file, indent=4)  # Pretty-print with indentation"
   ]
  },
  {
   "cell_type": "code",
   "execution_count": 75,
   "metadata": {},
   "outputs": [],
   "source": [
    "def converting_json(filename, output_file):\n",
    "    with open(filename, 'r') as f:\n",
    "        extraction1 = json.load(f)\n",
    "\n",
    "    for paper_num, extraction_json in extraction1.items():\n",
    "        extraction1[paper_num] = transform_stability_tests(extraction_json)\n",
    "    save_json_to_file(extraction1, filename=output_file)"
   ]
  },
  {
   "cell_type": "code",
   "execution_count": 77,
   "metadata": {},
   "outputs": [],
   "source": [
    "converting_json(\"data/deepseek1_original.json\", \"data/deepseek1_original_fixed.json\")\n",
    "converting_json(\"data/deepseek2_progressive.json\", \"data/deepseek2_progressive_fixed.json\")\n",
    "converting_json(\"data/deepseek3_optimized_original.json\", \"data/deepseek3_optimized_original_fixed.json\")\n",
    "converting_json(\"data/deepseek4_current_wo_finalcheck.json\", \"data/deepseek4_current_wo_finalcheck_fixed.json\")\n",
    "converting_json(\"data/deepseek5_current.json\", \"data/deepseek5_current_fixed.json\")"
   ]
  }
 ],
 "metadata": {
  "kernelspec": {
   "display_name": "dsc80",
   "language": "python",
   "name": "python3"
  },
  "language_info": {
   "codemirror_mode": {
    "name": "ipython",
    "version": 3
   },
   "file_extension": ".py",
   "mimetype": "text/x-python",
   "name": "python",
   "nbconvert_exporter": "python",
   "pygments_lexer": "ipython3",
   "version": "3.8.18"
  }
 },
 "nbformat": 4,
 "nbformat_minor": 2
}
