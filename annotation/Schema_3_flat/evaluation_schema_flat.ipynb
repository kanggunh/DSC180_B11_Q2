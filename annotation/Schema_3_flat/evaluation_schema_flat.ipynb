{
 "cells": [
  {
   "cell_type": "markdown",
   "metadata": {},
   "source": [
    "# This file compares the teamtat annotation with Extraction performed (Json)"
   ]
  },
  {
   "cell_type": "code",
   "execution_count": 1,
   "metadata": {},
   "outputs": [],
   "source": [
    "from sklearn.metrics import precision_score, recall_score, f1_score\n",
    "from difflib import SequenceMatcher\n",
    "import numpy as np\n",
    "import json\n",
    "import os\n",
    "import xml.etree.ElementTree as ET \n",
    "import pandas as pd\n",
    "import re\n",
    "from sklearn.metrics.pairwise import cosine_similarity"
   ]
  },
  {
   "cell_type": "code",
   "execution_count": 2,
   "metadata": {},
   "outputs": [
    {
     "data": {
      "text/plain": [
       "{'perovskite_composition': None,\n",
       " 'electron_transport_layer': None,\n",
       " 'hole_transport_layer': None,\n",
       " 'structure_pin_nip': None,\n",
       " 'passivating_molecule': None,\n",
       " 'control_pce': None,\n",
       " 'treated_pce': None,\n",
       " 'control_voc': None,\n",
       " 'treated_voc': None,\n",
       " 'stability_type': None,\n",
       " 'humidity': None,\n",
       " 'temperature': None,\n",
       " 'time': None,\n",
       " 'efficiency_tret': None,\n",
       " 'efficiency_cont': None}"
      ]
     },
     "execution_count": 2,
     "metadata": {},
     "output_type": "execute_result"
    }
   ],
   "source": [
    "#Evaluation schema 3\n",
    "data = {\n",
    "    'perovskite_composition': None,\n",
    "    'electron_transport_layer': None,\n",
    "    'hole_transport_layer': None,\n",
    "    'structure_pin_nip': None,\n",
    "    'passivating_molecule': None,\n",
    "    'control_pce': None,\n",
    "    'treated_pce': None,\n",
    "    'control_voc': None,\n",
    "    'treated_voc': None,\n",
    "    'stability_type': None,\n",
    "    'humidity': None,\n",
    "    'temperature': None,\n",
    "    'time': None,\n",
    "    'efficiency_tret': None,\n",
    "    'efficiency_cont': None\n",
    "}\n",
    "\n",
    "data\n"
   ]
  },
  {
   "cell_type": "markdown",
   "metadata": {},
   "source": [
    "## File Preparation"
   ]
  },
  {
   "cell_type": "code",
   "execution_count": 3,
   "metadata": {},
   "outputs": [],
   "source": [
    "def str_toJson(string):\n",
    "    ##The json output from annotation dataframe was not in correct json format\n",
    "    # We will change the None to null\n",
    "    # json_string = string.replace(\"None\", \"null\")\n",
    "    json_string = json.dumps(string)\n",
    "    try:\n",
    "        # Try to load the JSON string\n",
    "        json_object = json.loads(json_string)\n",
    "        return json_object\n",
    "    except json.JSONDecodeError as e:\n",
    "        # Catch JSONDecodeError if the string is not valid JSON\n",
    "        print(f\"Error decoding JSON: {e}\")\n",
    "        return None\n",
    "    except Exception as e:\n",
    "        # Catch any other exceptions\n",
    "        print(f\"An error occurred: {e}\")\n",
    "        return None"
   ]
  },
  {
   "cell_type": "code",
   "execution_count": 4,
   "metadata": {},
   "outputs": [],
   "source": [
    "## Convert all numerical data into float for both\n",
    "\n",
    "#### WORK ON NUMERICAL DATA THAT INCLUDES RANGE \"-\" \n",
    "def convert_numeric(dictionary):\n",
    "    numerical_key = ['time', 'efficiency_cont', 'efficiency_tret', 'control_pce', 'treated_pce', 'control_voc', 'treated_voc']\n",
    "    exception_numeric = ['humidity', 'temperature']\n",
    "\n",
    "    translation_table = str.maketrans('', '', 'abcdefghijklmnopqrstuvwxyzABCDEFGHIJKLMNOPQRSTUVWXYZ!@#$%^&*()')\n",
    "    for key in dictionary.keys():\n",
    "        if key in numerical_key:\n",
    "            # print(dictionary[key][entity])\n",
    "            if isinstance(dictionary[key], str): \n",
    "                substitute = re.sub(r'[^0-9.]', '', dictionary[key][:4])\n",
    "                if len(substitute) != 0:\n",
    "                    numerical_value = float(substitute)\n",
    "                    dictionary[key] = numerical_value\n",
    "                else:\n",
    "                    dictionary[key] = None\n",
    "        elif key in exception_numeric:\n",
    "            if isinstance(dictionary[key], str): \n",
    "                if \"-\" not in dictionary[key]:\n",
    "                    # print(\"regular_case\",dictionary[key][entity])\n",
    "                    substitute = re.sub(r'[^0-9.]', '', dictionary[key][:4])\n",
    "                    if len(substitute) != 0:\n",
    "                        numerical_value = float(substitute)\n",
    "                        dictionary[key] = numerical_value\n",
    "                    else:\n",
    "                        dictionary[key] = None\n",
    "                #\n",
    "\n",
    "\n",
    "    return dictionary"
   ]
  },
  {
   "cell_type": "code",
   "execution_count": 5,
   "metadata": {},
   "outputs": [],
   "source": [
    "def convert_efficiency(dictionary):\n",
    "    entity_decimal = ['efficiency_cont','efficiency_tret']\n",
    "    for key in dictionary.keys():\n",
    "        if (key.startswith('test')) & (type(dictionary[key]) == dict):\n",
    "            for entity in dictionary[key].keys():\n",
    "                if (entity in entity_decimal) and (dictionary[key][entity] != None):\n",
    "                    if dictionary[key][entity] == dictionary[key][entity] > 1:\n",
    "                        dictionary[key][entity] = dictionary[key][entity] / 100\n",
    "    return dictionary"
   ]
  },
  {
   "cell_type": "markdown",
   "metadata": {},
   "source": [
    "#### Analyzing these outputs\n",
    "\n",
    "Annotation notes: \n",
    "- THE 4 basic variable that is to compare is PEROVSKITE COMPOSITION, ETL, HTL, STRUCTURE\n",
    "- Stability entity: efficiency_control is wrong, All value is None, so ignore. \n",
    "- Common entity: ['stability_type', 'passivating_molecule', 'humidity', 'temperature', 'time', 'control_pce', 'treated_pce', 'control_voc', 'treated_voc', 'efficiency_tret'] \n",
    "    - 'efficiency_cont' are included or not\n",
    "\n",
    "- the efficiency in extracted data need to be converted to decimals since it is in percentage SOMETIMES\n",
    "    - 'control_efficiency' and 'treatment_efficiency can be ignored\n",
    "\n",
    "\n",
    "Extraction notes:\n",
    "- some extraction has passivating molecule that is NOT included in its stability testing. "
   ]
  },
  {
   "cell_type": "markdown",
   "metadata": {},
   "source": [
    "### Loading Teamtat Annotation as dataframe"
   ]
  },
  {
   "cell_type": "code",
   "execution_count": 6,
   "metadata": {},
   "outputs": [],
   "source": [
    "with open('data/annotations_flattened.json', 'r') as f:\n",
    "    json_data = json.load(f)"
   ]
  },
  {
   "cell_type": "code",
   "execution_count": 7,
   "metadata": {},
   "outputs": [],
   "source": [
    "flattened_format = []\n",
    "for key in json_data:\n",
    "    papers = json_data[key]\n",
    "    if papers is None:\n",
    "        flattened_format.append({ \"paper_id\": key, \"output\": None })\n",
    "        continue\n",
    "    if len(papers.keys()) == 0:\n",
    "        print(key)\n",
    "    for passivator in papers:\n",
    "        paper_data = papers[passivator]\n",
    "        paper_keys = paper_data.keys()\n",
    "        test_keys = [key for key in paper_keys if \"test\" in key]\n",
    "        for test_key in test_keys:\n",
    "            flattened_paper = {k: v for k, v in paper_data.items() if k not in test_keys}\n",
    "            flattened_paper.update(paper_data[test_key])\n",
    "            flattened_format.append({ \"paper_id\": int(key), \"output\": flattened_paper })"
   ]
  },
  {
   "cell_type": "code",
   "execution_count": 8,
   "metadata": {},
   "outputs": [
    {
     "data": {
      "text/html": [
       "<div>\n",
       "<style scoped>\n",
       "    .dataframe tbody tr th:only-of-type {\n",
       "        vertical-align: middle;\n",
       "    }\n",
       "\n",
       "    .dataframe tbody tr th {\n",
       "        vertical-align: top;\n",
       "    }\n",
       "\n",
       "    .dataframe thead th {\n",
       "        text-align: right;\n",
       "    }\n",
       "</style>\n",
       "<table border=\"1\" class=\"dataframe\">\n",
       "  <thead>\n",
       "    <tr style=\"text-align: right;\">\n",
       "      <th></th>\n",
       "      <th>paper_id</th>\n",
       "      <th>output</th>\n",
       "    </tr>\n",
       "  </thead>\n",
       "  <tbody>\n",
       "    <tr>\n",
       "      <th>1</th>\n",
       "      <td>141</td>\n",
       "      <td>{'perovskite_composition': None, 'electron_tra...</td>\n",
       "    </tr>\n",
       "    <tr>\n",
       "      <th>2</th>\n",
       "      <td>141</td>\n",
       "      <td>{'perovskite_composition': None, 'electron_tra...</td>\n",
       "    </tr>\n",
       "    <tr>\n",
       "      <th>3</th>\n",
       "      <td>37</td>\n",
       "      <td>{'perovskite_composition': '(Cs0.2FA0.8Pb(I0.6...</td>\n",
       "    </tr>\n",
       "    <tr>\n",
       "      <th>4</th>\n",
       "      <td>62</td>\n",
       "      <td>{'perovskite_composition': 'MAPbI 3', 'electro...</td>\n",
       "    </tr>\n",
       "    <tr>\n",
       "      <th>5</th>\n",
       "      <td>62</td>\n",
       "      <td>{'perovskite_composition': 'MAPbI 3', 'electro...</td>\n",
       "    </tr>\n",
       "    <tr>\n",
       "      <th>...</th>\n",
       "      <td>...</td>\n",
       "      <td>...</td>\n",
       "    </tr>\n",
       "    <tr>\n",
       "      <th>182</th>\n",
       "      <td>27</td>\n",
       "      <td>{'perovskite_composition': None, 'electron_tra...</td>\n",
       "    </tr>\n",
       "    <tr>\n",
       "      <th>184</th>\n",
       "      <td>97</td>\n",
       "      <td>{'perovskite_composition': 'Cs 0.05 (FA0.92MA0...</td>\n",
       "    </tr>\n",
       "    <tr>\n",
       "      <th>185</th>\n",
       "      <td>97</td>\n",
       "      <td>{'perovskite_composition': 'Cs 0.05 (FA0.92MA0...</td>\n",
       "    </tr>\n",
       "    <tr>\n",
       "      <th>187</th>\n",
       "      <td>144</td>\n",
       "      <td>{'perovskite_composition': None, 'electron_tra...</td>\n",
       "    </tr>\n",
       "    <tr>\n",
       "      <th>188</th>\n",
       "      <td>144</td>\n",
       "      <td>{'perovskite_composition': None, 'electron_tra...</td>\n",
       "    </tr>\n",
       "  </tbody>\n",
       "</table>\n",
       "<p>125 rows × 2 columns</p>\n",
       "</div>"
      ],
      "text/plain": [
       "     paper_id                                             output\n",
       "1         141  {'perovskite_composition': None, 'electron_tra...\n",
       "2         141  {'perovskite_composition': None, 'electron_tra...\n",
       "3          37  {'perovskite_composition': '(Cs0.2FA0.8Pb(I0.6...\n",
       "4          62  {'perovskite_composition': 'MAPbI 3', 'electro...\n",
       "5          62  {'perovskite_composition': 'MAPbI 3', 'electro...\n",
       "..        ...                                                ...\n",
       "182        27  {'perovskite_composition': None, 'electron_tra...\n",
       "184        97  {'perovskite_composition': 'Cs 0.05 (FA0.92MA0...\n",
       "185        97  {'perovskite_composition': 'Cs 0.05 (FA0.92MA0...\n",
       "187       144  {'perovskite_composition': None, 'electron_tra...\n",
       "188       144  {'perovskite_composition': None, 'electron_tra...\n",
       "\n",
       "[125 rows x 2 columns]"
      ]
     },
     "execution_count": 8,
     "metadata": {},
     "output_type": "execute_result"
    }
   ],
   "source": [
    "#drop irrelevant rows\n",
    "annotation_df = pd.DataFrame(flattened_format)\n",
    "annotation_df = annotation_df[annotation_df[\"output\"].isna() == False]\n",
    "annotation_df[\"paper_id\"] = pd.to_numeric(annotation_df[\"paper_id\"])\n",
    "annotation_df"
   ]
  },
  {
   "cell_type": "code",
   "execution_count": 9,
   "metadata": {},
   "outputs": [],
   "source": [
    "annotation_df['output'] = annotation_df['output'].apply(convert_numeric)"
   ]
  },
  {
   "cell_type": "code",
   "execution_count": 10,
   "metadata": {},
   "outputs": [
    {
     "data": {
      "text/plain": [
       "{'perovskite_composition': None,\n",
       " 'electron_transport_layer': 'boron chloride subphthalocyanine / fullerene bilayer',\n",
       " 'hole_transport_layer': None,\n",
       " 'structure_pin_nip': 'PIN',\n",
       " 'passivating_molecule': 'phenethylammonium Iodide',\n",
       " 'control_pce': 20.2,\n",
       " 'treated_pce': 22.0,\n",
       " 'control_voc': None,\n",
       " 'treated_voc': 1.16,\n",
       " 'stability_type': 'ISOSD',\n",
       " 'humidity': 85.0,\n",
       " 'temperature': 85.0,\n",
       " 'time': 816.0,\n",
       " 'efficiency_cont': 80.0,\n",
       " 'efficiency_tret': 80.0}"
      ]
     },
     "execution_count": 10,
     "metadata": {},
     "output_type": "execute_result"
    }
   ],
   "source": [
    "annotation_df[\"output\"].iloc[0]"
   ]
  },
  {
   "cell_type": "markdown",
   "metadata": {},
   "source": [
    "### Loading in JSON extraction"
   ]
  },
  {
   "cell_type": "code",
   "execution_count": 11,
   "metadata": {},
   "outputs": [],
   "source": [
    "def convert_efficiency_key(dict):\n",
    "    if 'retained_proportion_cont' in dict:\n",
    "        dict['efficiency_cont'] = dict.pop('retained_proportion_cont')\n",
    "    if 'retained_proportion_tret' in dict:\n",
    "        dict['efficiency_tret'] = dict.pop('retained_proportion_tret')\n",
    "    if 'treated_pec' in dict[key]:\n",
    "        dict[\"treated_pce\"] = dict.pop(\"treated_pec\")\n",
    "    return dict\n",
    "            "
   ]
  },
  {
   "cell_type": "code",
   "execution_count": 12,
   "metadata": {},
   "outputs": [],
   "source": [
    "def convert_passivator(paper_data, conversions_dict):\n",
    "    extracted_passivator = paper_data[\"passivating_molecule\"]\n",
    "    if extracted_passivator in conversions_dict:\n",
    "        paper_data[\"passivating_molecule\"] = conversions_dict[extracted_passivator]\n",
    "    return paper_data"
   ]
  },
  {
   "cell_type": "code",
   "execution_count": 13,
   "metadata": {},
   "outputs": [],
   "source": [
    "with open(\"data/passivator_conversions.json\", \"r\") as f:\n",
    "    conversions_dict = json.load(f)"
   ]
  },
  {
   "cell_type": "code",
   "execution_count": 14,
   "metadata": {},
   "outputs": [
    {
     "data": {
      "text/html": [
       "<div>\n",
       "<style scoped>\n",
       "    .dataframe tbody tr th:only-of-type {\n",
       "        vertical-align: middle;\n",
       "    }\n",
       "\n",
       "    .dataframe tbody tr th {\n",
       "        vertical-align: top;\n",
       "    }\n",
       "\n",
       "    .dataframe thead th {\n",
       "        text-align: right;\n",
       "    }\n",
       "</style>\n",
       "<table border=\"1\" class=\"dataframe\">\n",
       "  <thead>\n",
       "    <tr style=\"text-align: right;\">\n",
       "      <th></th>\n",
       "      <th>paper_num</th>\n",
       "      <th>output</th>\n",
       "    </tr>\n",
       "  </thead>\n",
       "  <tbody>\n",
       "    <tr>\n",
       "      <th>79</th>\n",
       "      <td>0</td>\n",
       "      <td>{'perovskite_composition': 'FAPbI3', 'electron...</td>\n",
       "    </tr>\n",
       "    <tr>\n",
       "      <th>7</th>\n",
       "      <td>2</td>\n",
       "      <td>{'perovskite_composition': '(BA)₂PbI₄', 'elect...</td>\n",
       "    </tr>\n",
       "    <tr>\n",
       "      <th>36</th>\n",
       "      <td>3</td>\n",
       "      <td>{'perovskite_composition': 'Cs5(MA0.10FA0.90)P...</td>\n",
       "    </tr>\n",
       "    <tr>\n",
       "      <th>32</th>\n",
       "      <td>4</td>\n",
       "      <td>{'perovskite_composition': '(MAPbBr3)0.05(FAPb...</td>\n",
       "    </tr>\n",
       "    <tr>\n",
       "      <th>11</th>\n",
       "      <td>5</td>\n",
       "      <td>{'perovskite_composition': 'FA(MA)PbI3', 'elec...</td>\n",
       "    </tr>\n",
       "    <tr>\n",
       "      <th>...</th>\n",
       "      <td>...</td>\n",
       "      <td>...</td>\n",
       "    </tr>\n",
       "    <tr>\n",
       "      <th>41</th>\n",
       "      <td>145</td>\n",
       "      <td>{'perovskite_composition': 'Cs 0.05 (MA 0.17 F...</td>\n",
       "    </tr>\n",
       "    <tr>\n",
       "      <th>89</th>\n",
       "      <td>146</td>\n",
       "      <td>{'perovskite_composition': 'Cs0.05(MA0.05FA0.9...</td>\n",
       "    </tr>\n",
       "    <tr>\n",
       "      <th>125</th>\n",
       "      <td>147</td>\n",
       "      <td>{'perovskite_composition': 'FAPbI3', 'electron...</td>\n",
       "    </tr>\n",
       "    <tr>\n",
       "      <th>84</th>\n",
       "      <td>148</td>\n",
       "      <td>{'perovskite_composition': 'Cs0.05FA0.85MA0.10...</td>\n",
       "    </tr>\n",
       "    <tr>\n",
       "      <th>130</th>\n",
       "      <td>149</td>\n",
       "      <td>{'perovskite_composition': 'mixed Pb-Sn narrow...</td>\n",
       "    </tr>\n",
       "  </tbody>\n",
       "</table>\n",
       "<p>134 rows × 2 columns</p>\n",
       "</div>"
      ],
      "text/plain": [
       "     paper_num                                             output\n",
       "79           0  {'perovskite_composition': 'FAPbI3', 'electron...\n",
       "7            2  {'perovskite_composition': '(BA)₂PbI₄', 'elect...\n",
       "36           3  {'perovskite_composition': 'Cs5(MA0.10FA0.90)P...\n",
       "32           4  {'perovskite_composition': '(MAPbBr3)0.05(FAPb...\n",
       "11           5  {'perovskite_composition': 'FA(MA)PbI3', 'elec...\n",
       "..         ...                                                ...\n",
       "41         145  {'perovskite_composition': 'Cs 0.05 (MA 0.17 F...\n",
       "89         146  {'perovskite_composition': 'Cs0.05(MA0.05FA0.9...\n",
       "125        147  {'perovskite_composition': 'FAPbI3', 'electron...\n",
       "84         148  {'perovskite_composition': 'Cs0.05FA0.85MA0.10...\n",
       "130        149  {'perovskite_composition': 'mixed Pb-Sn narrow...\n",
       "\n",
       "[134 rows x 2 columns]"
      ]
     },
     "execution_count": 14,
     "metadata": {},
     "output_type": "execute_result"
    }
   ],
   "source": [
    "## extraction performed by basemodel\n",
    "# Read JSON from a file\n",
    "with open(\"data/deepseek_base_flat.json\", 'r') as f:\n",
    "    extraction = json.load(f)\n",
    "\n",
    "extraction_base = pd.DataFrame(list(extraction.items()), columns=['paper_num', 'output'])\n",
    "extraction_base['paper_num'] = pd.to_numeric(extraction_base['paper_num'])\n",
    "extraction_base = extraction_base.sort_values('paper_num')\n",
    "extraction_base['output'] = extraction_base['output'].apply(convert_numeric)\n",
    "extraction_base['output'] = extraction_base['output'].apply(convert_efficiency)\n",
    "extraction_base['output'] = extraction_base['output'].apply(lambda x : convert_passivator(x, conversions_dict))\n",
    "extraction_base"
   ]
  },
  {
   "cell_type": "code",
   "execution_count": 15,
   "metadata": {},
   "outputs": [
    {
     "ename": "AttributeError",
     "evalue": "'str' object has no attribute 'keys'",
     "output_type": "error",
     "traceback": [
      "\u001b[0;31m---------------------------------------------------------------------------\u001b[0m",
      "\u001b[0;31mAttributeError\u001b[0m                            Traceback (most recent call last)",
      "Cell \u001b[0;32mIn[15], line 9\u001b[0m\n\u001b[1;32m      7\u001b[0m extraction_train[\u001b[38;5;124m'\u001b[39m\u001b[38;5;124mpaper_num\u001b[39m\u001b[38;5;124m'\u001b[39m] \u001b[38;5;241m=\u001b[39m pd\u001b[38;5;241m.\u001b[39mto_numeric(extraction_train[\u001b[38;5;124m'\u001b[39m\u001b[38;5;124mpaper_num\u001b[39m\u001b[38;5;124m'\u001b[39m])\n\u001b[1;32m      8\u001b[0m extraction_train \u001b[38;5;241m=\u001b[39m extraction_train\u001b[38;5;241m.\u001b[39msort_values(\u001b[38;5;124m'\u001b[39m\u001b[38;5;124mpaper_num\u001b[39m\u001b[38;5;124m'\u001b[39m)\n\u001b[0;32m----> 9\u001b[0m extraction_train[\u001b[38;5;124m'\u001b[39m\u001b[38;5;124moutput\u001b[39m\u001b[38;5;124m'\u001b[39m] \u001b[38;5;241m=\u001b[39m \u001b[43mextraction_train\u001b[49m\u001b[43m[\u001b[49m\u001b[38;5;124;43m'\u001b[39;49m\u001b[38;5;124;43moutput\u001b[39;49m\u001b[38;5;124;43m'\u001b[39;49m\u001b[43m]\u001b[49m\u001b[38;5;241;43m.\u001b[39;49m\u001b[43mapply\u001b[49m\u001b[43m(\u001b[49m\u001b[43mconvert_numeric\u001b[49m\u001b[43m)\u001b[49m\n\u001b[1;32m     10\u001b[0m extraction_train[\u001b[38;5;124m'\u001b[39m\u001b[38;5;124moutput\u001b[39m\u001b[38;5;124m'\u001b[39m] \u001b[38;5;241m=\u001b[39m extraction_train[\u001b[38;5;124m'\u001b[39m\u001b[38;5;124moutput\u001b[39m\u001b[38;5;124m'\u001b[39m]\u001b[38;5;241m.\u001b[39mapply(convert_efficiency)\n\u001b[1;32m     11\u001b[0m extraction_train[\u001b[38;5;124m'\u001b[39m\u001b[38;5;124moutput\u001b[39m\u001b[38;5;124m'\u001b[39m] \u001b[38;5;241m=\u001b[39m extraction_train[\u001b[38;5;124m'\u001b[39m\u001b[38;5;124moutput\u001b[39m\u001b[38;5;124m'\u001b[39m]\u001b[38;5;241m.\u001b[39mapply(convert_efficiency_key)\n",
      "File \u001b[0;32m~/anaconda3/lib/python3.10/site-packages/pandas/core/series.py:4771\u001b[0m, in \u001b[0;36mSeries.apply\u001b[0;34m(self, func, convert_dtype, args, **kwargs)\u001b[0m\n\u001b[1;32m   4661\u001b[0m \u001b[38;5;28;01mdef\u001b[39;00m \u001b[38;5;21mapply\u001b[39m(\n\u001b[1;32m   4662\u001b[0m     \u001b[38;5;28mself\u001b[39m,\n\u001b[1;32m   4663\u001b[0m     func: AggFuncType,\n\u001b[0;32m   (...)\u001b[0m\n\u001b[1;32m   4666\u001b[0m     \u001b[38;5;241m*\u001b[39m\u001b[38;5;241m*\u001b[39mkwargs,\n\u001b[1;32m   4667\u001b[0m ) \u001b[38;5;241m-\u001b[39m\u001b[38;5;241m>\u001b[39m DataFrame \u001b[38;5;241m|\u001b[39m Series:\n\u001b[1;32m   4668\u001b[0m     \u001b[38;5;124;03m\"\"\"\u001b[39;00m\n\u001b[1;32m   4669\u001b[0m \u001b[38;5;124;03m    Invoke function on values of Series.\u001b[39;00m\n\u001b[1;32m   4670\u001b[0m \n\u001b[0;32m   (...)\u001b[0m\n\u001b[1;32m   4769\u001b[0m \u001b[38;5;124;03m    dtype: float64\u001b[39;00m\n\u001b[1;32m   4770\u001b[0m \u001b[38;5;124;03m    \"\"\"\u001b[39;00m\n\u001b[0;32m-> 4771\u001b[0m     \u001b[38;5;28;01mreturn\u001b[39;00m \u001b[43mSeriesApply\u001b[49m\u001b[43m(\u001b[49m\u001b[38;5;28;43mself\u001b[39;49m\u001b[43m,\u001b[49m\u001b[43m \u001b[49m\u001b[43mfunc\u001b[49m\u001b[43m,\u001b[49m\u001b[43m \u001b[49m\u001b[43mconvert_dtype\u001b[49m\u001b[43m,\u001b[49m\u001b[43m \u001b[49m\u001b[43margs\u001b[49m\u001b[43m,\u001b[49m\u001b[43m \u001b[49m\u001b[43mkwargs\u001b[49m\u001b[43m)\u001b[49m\u001b[38;5;241;43m.\u001b[39;49m\u001b[43mapply\u001b[49m\u001b[43m(\u001b[49m\u001b[43m)\u001b[49m\n",
      "File \u001b[0;32m~/anaconda3/lib/python3.10/site-packages/pandas/core/apply.py:1123\u001b[0m, in \u001b[0;36mSeriesApply.apply\u001b[0;34m(self)\u001b[0m\n\u001b[1;32m   1120\u001b[0m     \u001b[38;5;28;01mreturn\u001b[39;00m \u001b[38;5;28mself\u001b[39m\u001b[38;5;241m.\u001b[39mapply_str()\n\u001b[1;32m   1122\u001b[0m \u001b[38;5;66;03m# self.f is Callable\u001b[39;00m\n\u001b[0;32m-> 1123\u001b[0m \u001b[38;5;28;01mreturn\u001b[39;00m \u001b[38;5;28;43mself\u001b[39;49m\u001b[38;5;241;43m.\u001b[39;49m\u001b[43mapply_standard\u001b[49m\u001b[43m(\u001b[49m\u001b[43m)\u001b[49m\n",
      "File \u001b[0;32m~/anaconda3/lib/python3.10/site-packages/pandas/core/apply.py:1174\u001b[0m, in \u001b[0;36mSeriesApply.apply_standard\u001b[0;34m(self)\u001b[0m\n\u001b[1;32m   1172\u001b[0m     \u001b[38;5;28;01melse\u001b[39;00m:\n\u001b[1;32m   1173\u001b[0m         values \u001b[38;5;241m=\u001b[39m obj\u001b[38;5;241m.\u001b[39mastype(\u001b[38;5;28mobject\u001b[39m)\u001b[38;5;241m.\u001b[39m_values\n\u001b[0;32m-> 1174\u001b[0m         mapped \u001b[38;5;241m=\u001b[39m \u001b[43mlib\u001b[49m\u001b[38;5;241;43m.\u001b[39;49m\u001b[43mmap_infer\u001b[49m\u001b[43m(\u001b[49m\n\u001b[1;32m   1175\u001b[0m \u001b[43m            \u001b[49m\u001b[43mvalues\u001b[49m\u001b[43m,\u001b[49m\n\u001b[1;32m   1176\u001b[0m \u001b[43m            \u001b[49m\u001b[43mf\u001b[49m\u001b[43m,\u001b[49m\n\u001b[1;32m   1177\u001b[0m \u001b[43m            \u001b[49m\u001b[43mconvert\u001b[49m\u001b[38;5;241;43m=\u001b[39;49m\u001b[38;5;28;43mself\u001b[39;49m\u001b[38;5;241;43m.\u001b[39;49m\u001b[43mconvert_dtype\u001b[49m\u001b[43m,\u001b[49m\n\u001b[1;32m   1178\u001b[0m \u001b[43m        \u001b[49m\u001b[43m)\u001b[49m\n\u001b[1;32m   1180\u001b[0m \u001b[38;5;28;01mif\u001b[39;00m \u001b[38;5;28mlen\u001b[39m(mapped) \u001b[38;5;129;01mand\u001b[39;00m \u001b[38;5;28misinstance\u001b[39m(mapped[\u001b[38;5;241m0\u001b[39m], ABCSeries):\n\u001b[1;32m   1181\u001b[0m     \u001b[38;5;66;03m# GH#43986 Need to do list(mapped) in order to get treated as nested\u001b[39;00m\n\u001b[1;32m   1182\u001b[0m     \u001b[38;5;66;03m#  See also GH#25959 regarding EA support\u001b[39;00m\n\u001b[1;32m   1183\u001b[0m     \u001b[38;5;28;01mreturn\u001b[39;00m obj\u001b[38;5;241m.\u001b[39m_constructor_expanddim(\u001b[38;5;28mlist\u001b[39m(mapped), index\u001b[38;5;241m=\u001b[39mobj\u001b[38;5;241m.\u001b[39mindex)\n",
      "File \u001b[0;32m~/anaconda3/lib/python3.10/site-packages/pandas/_libs/lib.pyx:2924\u001b[0m, in \u001b[0;36mpandas._libs.lib.map_infer\u001b[0;34m()\u001b[0m\n",
      "Cell \u001b[0;32mIn[4], line 9\u001b[0m, in \u001b[0;36mconvert_numeric\u001b[0;34m(dictionary)\u001b[0m\n\u001b[1;32m      6\u001b[0m exception_numeric \u001b[38;5;241m=\u001b[39m [\u001b[38;5;124m'\u001b[39m\u001b[38;5;124mhumidity\u001b[39m\u001b[38;5;124m'\u001b[39m, \u001b[38;5;124m'\u001b[39m\u001b[38;5;124mtemperature\u001b[39m\u001b[38;5;124m'\u001b[39m]\n\u001b[1;32m      8\u001b[0m translation_table \u001b[38;5;241m=\u001b[39m \u001b[38;5;28mstr\u001b[39m\u001b[38;5;241m.\u001b[39mmaketrans(\u001b[38;5;124m'\u001b[39m\u001b[38;5;124m'\u001b[39m, \u001b[38;5;124m'\u001b[39m\u001b[38;5;124m'\u001b[39m, \u001b[38;5;124m'\u001b[39m\u001b[38;5;124mabcdefghijklmnopqrstuvwxyzABCDEFGHIJKLMNOPQRSTUVWXYZ!@#$\u001b[39m\u001b[38;5;124m%\u001b[39m\u001b[38;5;124m^&*()\u001b[39m\u001b[38;5;124m'\u001b[39m)\n\u001b[0;32m----> 9\u001b[0m \u001b[38;5;28;01mfor\u001b[39;00m key \u001b[38;5;129;01min\u001b[39;00m \u001b[43mdictionary\u001b[49m\u001b[38;5;241;43m.\u001b[39;49m\u001b[43mkeys\u001b[49m():\n\u001b[1;32m     10\u001b[0m     \u001b[38;5;28;01mif\u001b[39;00m key \u001b[38;5;129;01min\u001b[39;00m numerical_key:\n\u001b[1;32m     11\u001b[0m         \u001b[38;5;66;03m# print(dictionary[key][entity])\u001b[39;00m\n\u001b[1;32m     12\u001b[0m         \u001b[38;5;28;01mif\u001b[39;00m \u001b[38;5;28misinstance\u001b[39m(dictionary[key], \u001b[38;5;28mstr\u001b[39m): \n",
      "\u001b[0;31mAttributeError\u001b[0m: 'str' object has no attribute 'keys'"
     ]
    }
   ],
   "source": [
    "## extraction performed by finetuned deepseek\n",
    "# Read JSON from a file\n",
    "with open(\"data/deepseek_8bit_finetuned_flattened.json\", 'r') as f:\n",
    "    extraction = json.load(f)\n",
    "\n",
    "extraction_train = pd.DataFrame(list(extraction.items()), columns=['paper_num', 'output'])\n",
    "extraction_train['paper_num'] = pd.to_numeric(extraction_train['paper_num'])\n",
    "extraction_train = extraction_train.sort_values('paper_num')\n",
    "extraction_train['output'] = extraction_train['output'].apply(convert_numeric)\n",
    "extraction_train['output'] = extraction_train['output'].apply(convert_efficiency)\n",
    "extraction_train['output'] = extraction_train['output'].apply(convert_efficiency_key)\n",
    "extraction_train"
   ]
  },
  {
   "cell_type": "markdown",
   "metadata": {},
   "source": [
    "## Merging dataframe"
   ]
  },
  {
   "cell_type": "code",
   "execution_count": 20,
   "metadata": {},
   "outputs": [
    {
     "data": {
      "text/html": [
       "<div>\n",
       "<style scoped>\n",
       "    .dataframe tbody tr th:only-of-type {\n",
       "        vertical-align: middle;\n",
       "    }\n",
       "\n",
       "    .dataframe tbody tr th {\n",
       "        vertical-align: top;\n",
       "    }\n",
       "\n",
       "    .dataframe thead th {\n",
       "        text-align: right;\n",
       "    }\n",
       "</style>\n",
       "<table border=\"1\" class=\"dataframe\">\n",
       "  <thead>\n",
       "    <tr style=\"text-align: right;\">\n",
       "      <th></th>\n",
       "      <th>paper_num</th>\n",
       "      <th>annotation</th>\n",
       "      <th>extracted</th>\n",
       "    </tr>\n",
       "  </thead>\n",
       "  <tbody>\n",
       "    <tr>\n",
       "      <th>0</th>\n",
       "      <td>141</td>\n",
       "      <td>{'perovskite_composition': None, 'electron_tra...</td>\n",
       "      <td>{'perovskite_composition': 'CsFAMA-mixed perov...</td>\n",
       "    </tr>\n",
       "    <tr>\n",
       "      <th>1</th>\n",
       "      <td>141</td>\n",
       "      <td>{'perovskite_composition': None, 'electron_tra...</td>\n",
       "      <td>{'perovskite_composition': 'CsFAMA-mixed perov...</td>\n",
       "    </tr>\n",
       "    <tr>\n",
       "      <th>2</th>\n",
       "      <td>37</td>\n",
       "      <td>{'perovskite_composition': '(Cs0.2FA0.8Pb(I0.6...</td>\n",
       "      <td>{'perovskite_composition': 'Cs0.2FA0.8Pb(I0.6B...</td>\n",
       "    </tr>\n",
       "    <tr>\n",
       "      <th>3</th>\n",
       "      <td>62</td>\n",
       "      <td>{'perovskite_composition': 'MAPbI 3', 'electro...</td>\n",
       "      <td>{'perovskite_composition': '3D-2D perovskite h...</td>\n",
       "    </tr>\n",
       "    <tr>\n",
       "      <th>4</th>\n",
       "      <td>62</td>\n",
       "      <td>{'perovskite_composition': 'MAPbI 3', 'electro...</td>\n",
       "      <td>{'perovskite_composition': '3D-2D perovskite h...</td>\n",
       "    </tr>\n",
       "    <tr>\n",
       "      <th>...</th>\n",
       "      <td>...</td>\n",
       "      <td>...</td>\n",
       "      <td>...</td>\n",
       "    </tr>\n",
       "    <tr>\n",
       "      <th>112</th>\n",
       "      <td>124</td>\n",
       "      <td>{'perovskite_composition': 'Cs 0.05(FA0.98MA0....</td>\n",
       "      <td>{'perovskite_composition': 'Cs0.05(FA0.98MA0.0...</td>\n",
       "    </tr>\n",
       "    <tr>\n",
       "      <th>113</th>\n",
       "      <td>124</td>\n",
       "      <td>{'perovskite_composition': 'Cs 0.05(FA0.98MA0....</td>\n",
       "      <td>{'perovskite_composition': 'Cs0.05(FA0.98MA0.0...</td>\n",
       "    </tr>\n",
       "    <tr>\n",
       "      <th>114</th>\n",
       "      <td>27</td>\n",
       "      <td>{'perovskite_composition': None, 'electron_tra...</td>\n",
       "      <td>{'perovskite_composition': 'CsPbI3-xBrx', 'ele...</td>\n",
       "    </tr>\n",
       "    <tr>\n",
       "      <th>115</th>\n",
       "      <td>97</td>\n",
       "      <td>{'perovskite_composition': 'Cs 0.05 (FA0.92MA0...</td>\n",
       "      <td>{'perovskite_composition': 'Cs0.05(FA0.92MA0.0...</td>\n",
       "    </tr>\n",
       "    <tr>\n",
       "      <th>116</th>\n",
       "      <td>97</td>\n",
       "      <td>{'perovskite_composition': 'Cs 0.05 (FA0.92MA0...</td>\n",
       "      <td>{'perovskite_composition': 'Cs0.05(FA0.92MA0.0...</td>\n",
       "    </tr>\n",
       "  </tbody>\n",
       "</table>\n",
       "<p>117 rows × 3 columns</p>\n",
       "</div>"
      ],
      "text/plain": [
       "     paper_num                                         annotation  \\\n",
       "0          141  {'perovskite_composition': None, 'electron_tra...   \n",
       "1          141  {'perovskite_composition': None, 'electron_tra...   \n",
       "2           37  {'perovskite_composition': '(Cs0.2FA0.8Pb(I0.6...   \n",
       "3           62  {'perovskite_composition': 'MAPbI 3', 'electro...   \n",
       "4           62  {'perovskite_composition': 'MAPbI 3', 'electro...   \n",
       "..         ...                                                ...   \n",
       "112        124  {'perovskite_composition': 'Cs 0.05(FA0.98MA0....   \n",
       "113        124  {'perovskite_composition': 'Cs 0.05(FA0.98MA0....   \n",
       "114         27  {'perovskite_composition': None, 'electron_tra...   \n",
       "115         97  {'perovskite_composition': 'Cs 0.05 (FA0.92MA0...   \n",
       "116         97  {'perovskite_composition': 'Cs 0.05 (FA0.92MA0...   \n",
       "\n",
       "                                             extracted  \n",
       "0    {'perovskite_composition': 'CsFAMA-mixed perov...  \n",
       "1    {'perovskite_composition': 'CsFAMA-mixed perov...  \n",
       "2    {'perovskite_composition': 'Cs0.2FA0.8Pb(I0.6B...  \n",
       "3    {'perovskite_composition': '3D-2D perovskite h...  \n",
       "4    {'perovskite_composition': '3D-2D perovskite h...  \n",
       "..                                                 ...  \n",
       "112  {'perovskite_composition': 'Cs0.05(FA0.98MA0.0...  \n",
       "113  {'perovskite_composition': 'Cs0.05(FA0.98MA0.0...  \n",
       "114  {'perovskite_composition': 'CsPbI3-xBrx', 'ele...  \n",
       "115  {'perovskite_composition': 'Cs0.05(FA0.92MA0.0...  \n",
       "116  {'perovskite_composition': 'Cs0.05(FA0.92MA0.0...  \n",
       "\n",
       "[117 rows x 3 columns]"
      ]
     },
     "execution_count": 20,
     "metadata": {},
     "output_type": "execute_result"
    }
   ],
   "source": [
    "evaluate_df_base = annotation_df.merge(extraction_base, left_on='paper_id', right_on='paper_num')[[\"paper_num\", \"output_x\",'output_y']]\n",
    "evaluate_df_base.columns = ['paper_num', 'annotation', 'extracted']\n",
    "evaluate_df_base"
   ]
  },
  {
   "cell_type": "code",
   "execution_count": 149,
   "metadata": {},
   "outputs": [
    {
     "data": {
      "text/html": [
       "<div>\n",
       "<style scoped>\n",
       "    .dataframe tbody tr th:only-of-type {\n",
       "        vertical-align: middle;\n",
       "    }\n",
       "\n",
       "    .dataframe tbody tr th {\n",
       "        vertical-align: top;\n",
       "    }\n",
       "\n",
       "    .dataframe thead th {\n",
       "        text-align: right;\n",
       "    }\n",
       "</style>\n",
       "<table border=\"1\" class=\"dataframe\">\n",
       "  <thead>\n",
       "    <tr style=\"text-align: right;\">\n",
       "      <th></th>\n",
       "      <th>paper_num</th>\n",
       "      <th>annotation</th>\n",
       "      <th>extracted</th>\n",
       "    </tr>\n",
       "  </thead>\n",
       "  <tbody>\n",
       "    <tr>\n",
       "      <th>0</th>\n",
       "      <td>0</td>\n",
       "      <td>{'perovskite_composition': 'Cs0.05FA0.85MA0.1P...</td>\n",
       "      <td>{'perovskite_composition': 'FAPbI3', 'electron...</td>\n",
       "    </tr>\n",
       "    <tr>\n",
       "      <th>1</th>\n",
       "      <td>1</td>\n",
       "      <td>{'perovskite_composition': None, 'electron_tra...</td>\n",
       "      <td>{'perovskite_composition': 'FA1-x MAx PbI3 (FA...</td>\n",
       "    </tr>\n",
       "    <tr>\n",
       "      <th>2</th>\n",
       "      <td>2</td>\n",
       "      <td>{'perovskite_composition': '(FAPbI3)0.95(MAPbB...</td>\n",
       "      <td>{'perovskite_composition': 'FA0.85Cs0.15PbI2.8...</td>\n",
       "    </tr>\n",
       "    <tr>\n",
       "      <th>3</th>\n",
       "      <td>3</td>\n",
       "      <td>{'perovskite_composition': 'Cs0.05(MA0.10FA0.8...</td>\n",
       "      <td>{'perovskite_composition': 'Cs0.05(MA0.10FA0.8...</td>\n",
       "    </tr>\n",
       "    <tr>\n",
       "      <th>4</th>\n",
       "      <td>4</td>\n",
       "      <td>{'perovskite_composition': '(MAPbBr3)0.05(FAPb...</td>\n",
       "      <td>{'perovskite_composition': None, 'electron_tra...</td>\n",
       "    </tr>\n",
       "    <tr>\n",
       "      <th>...</th>\n",
       "      <td>...</td>\n",
       "      <td>...</td>\n",
       "      <td>...</td>\n",
       "    </tr>\n",
       "    <tr>\n",
       "      <th>121</th>\n",
       "      <td>145</td>\n",
       "      <td>{'perovskite_composition': 'Cs0.05(MA0.17FA0.8...</td>\n",
       "      <td>{'perovskite_composition': 'Cs0.05(MA0.17FA0.8...</td>\n",
       "    </tr>\n",
       "    <tr>\n",
       "      <th>122</th>\n",
       "      <td>146</td>\n",
       "      <td>{'perovskite_composition': 'Cs0.05(MA0.05FA0.9...</td>\n",
       "      <td>{'perovskite_composition': 'Cs0.05(FA0.05MA0.9...</td>\n",
       "    </tr>\n",
       "    <tr>\n",
       "      <th>123</th>\n",
       "      <td>147</td>\n",
       "      <td>{'perovskite_composition': 'FAPbI 3', 'electro...</td>\n",
       "      <td>{'perovskite_composition': 'FAPbI3', 'electron...</td>\n",
       "    </tr>\n",
       "    <tr>\n",
       "      <th>124</th>\n",
       "      <td>148</td>\n",
       "      <td>{'perovskite_composition': 'Cs0.05FA0.85MA0.10...</td>\n",
       "      <td>{'perovskite_composition': 'Cs0.05 FA0.85 MA0....</td>\n",
       "    </tr>\n",
       "    <tr>\n",
       "      <th>125</th>\n",
       "      <td>149</td>\n",
       "      <td>{'perovskite_composition': 'FA0.7MA0.3Pb0.5Sn0...</td>\n",
       "      <td>{'perovskite_composition': 'FA0.8Cs0.2Pb0.5Sn0...</td>\n",
       "    </tr>\n",
       "  </tbody>\n",
       "</table>\n",
       "<p>126 rows × 3 columns</p>\n",
       "</div>"
      ],
      "text/plain": [
       "     paper_num                                         annotation  \\\n",
       "0            0  {'perovskite_composition': 'Cs0.05FA0.85MA0.1P...   \n",
       "1            1  {'perovskite_composition': None, 'electron_tra...   \n",
       "2            2  {'perovskite_composition': '(FAPbI3)0.95(MAPbB...   \n",
       "3            3  {'perovskite_composition': 'Cs0.05(MA0.10FA0.8...   \n",
       "4            4  {'perovskite_composition': '(MAPbBr3)0.05(FAPb...   \n",
       "..         ...                                                ...   \n",
       "121        145  {'perovskite_composition': 'Cs0.05(MA0.17FA0.8...   \n",
       "122        146  {'perovskite_composition': 'Cs0.05(MA0.05FA0.9...   \n",
       "123        147  {'perovskite_composition': 'FAPbI 3', 'electro...   \n",
       "124        148  {'perovskite_composition': 'Cs0.05FA0.85MA0.10...   \n",
       "125        149  {'perovskite_composition': 'FA0.7MA0.3Pb0.5Sn0...   \n",
       "\n",
       "                                             extracted  \n",
       "0    {'perovskite_composition': 'FAPbI3', 'electron...  \n",
       "1    {'perovskite_composition': 'FA1-x MAx PbI3 (FA...  \n",
       "2    {'perovskite_composition': 'FA0.85Cs0.15PbI2.8...  \n",
       "3    {'perovskite_composition': 'Cs0.05(MA0.10FA0.8...  \n",
       "4    {'perovskite_composition': None, 'electron_tra...  \n",
       "..                                                 ...  \n",
       "121  {'perovskite_composition': 'Cs0.05(MA0.17FA0.8...  \n",
       "122  {'perovskite_composition': 'Cs0.05(FA0.05MA0.9...  \n",
       "123  {'perovskite_composition': 'FAPbI3', 'electron...  \n",
       "124  {'perovskite_composition': 'Cs0.05 FA0.85 MA0....  \n",
       "125  {'perovskite_composition': 'FA0.8Cs0.2Pb0.5Sn0...  \n",
       "\n",
       "[126 rows x 3 columns]"
      ]
     },
     "execution_count": 149,
     "metadata": {},
     "output_type": "execute_result"
    }
   ],
   "source": [
    "evaluate_df_train = annotation_df.merge(extraction_train, left_on='first_num', right_on='paper_num')[[\"paper_num\", \"output_x\",'output_y']]\n",
    "evaluate_df_train.columns = ['paper_num', 'annotation', 'extracted']\n",
    "evaluate_df_train"
   ]
  },
  {
   "cell_type": "code",
   "execution_count": 21,
   "metadata": {},
   "outputs": [
    {
     "data": {
      "text/plain": [
       "{'perovskite_composition': 'FAPbI3',\n",
       " 'electron_transport_layer': 'TiO2',\n",
       " 'hole_transport_layer': 'Spiro-OMeTAD',\n",
       " 'structure_pin_nip': 'pin',\n",
       " 'passivating_molecule': 'Cyclohexylmethylammonium iodide (CMAI)',\n",
       " 'control_pce': 21.4,\n",
       " 'control_voc': 1.092,\n",
       " 'treated_pce': 23.77,\n",
       " 'treated_voc': 1.145,\n",
       " 'stability_type': 'ISOS-D-2I',\n",
       " 'humidity': 50.0,\n",
       " 'temperature': 85,\n",
       " 'time': 1500,\n",
       " 'efficiency_cont': None,\n",
       " 'efficiency_tret': 95}"
      ]
     },
     "execution_count": 21,
     "metadata": {},
     "output_type": "execute_result"
    }
   ],
   "source": [
    "extraction_base[\"output\"].iloc[0]"
   ]
  },
  {
   "cell_type": "markdown",
   "metadata": {},
   "source": [
    "### Finding most similar annotated data"
   ]
  },
  {
   "cell_type": "code",
   "execution_count": null,
   "metadata": {},
   "outputs": [],
   "source": [
    "from sklearn.feature_extraction.text import TfidfVectorizer\n",
    "\n"
   ]
  },
  {
   "cell_type": "code",
   "execution_count": 24,
   "metadata": {},
   "outputs": [],
   "source": [
    "def get_most_similar_annotations(evaluate_df):\n",
    "    # Convert JSON strings to comparable text format\n",
    "    evaluate_df['annotated_str'] = evaluate_df['annotation'].apply(lambda x: json.dumps(x, sort_keys=True))\n",
    "    evaluate_df['extracted_str'] = evaluate_df['extracted'].apply(lambda x: json.dumps(x, sort_keys=True))\n",
    "\n",
    "    # Compute similarity using TF-IDF and cosine similarity\n",
    "    vectorizer = TfidfVectorizer().fit_transform(evaluate_df[['annotated_str', 'extracted_str']].values.ravel())\n",
    "    tfidf_matrix = vectorizer.toarray()\n",
    "\n",
    "    evaluate_df_base['similarity'] = [cosine_similarity([tfidf_matrix[i*2]], [tfidf_matrix[i*2 + 1]])[0,0] for i in range(len(evaluate_df))]\n",
    "\n",
    "    # Keep the row with the highest similarity for each paper_num\n",
    "    df_best = evaluate_df_base.loc[evaluate_df.groupby('paper_num')['similarity'].idxmax(), ['paper_num', 'annotation', 'extracted']]\n",
    "    return df_best"
   ]
  },
  {
   "cell_type": "code",
   "execution_count": 25,
   "metadata": {},
   "outputs": [],
   "source": [
    "evaluate_df_base = get_most_similar_annotations(evaluate_df_base)"
   ]
  },
  {
   "cell_type": "markdown",
   "metadata": {},
   "source": [
    "## Evaluation\n",
    "\n",
    "- We need precision and recall for EACH variable\n",
    "- For each variable, calculate the F1 score - There is F1 score for each variable\n",
    "- Take a weighted average ***For now, just take the average."
   ]
  },
  {
   "cell_type": "code",
   "execution_count": 26,
   "metadata": {},
   "outputs": [],
   "source": [
    "def compare_range_to_num(range_str, num):\n",
    "    if \"+\" in range_str:\n",
    "        split_vals = range_str.split(\"+-\")\n",
    "        value = float(split_vals[0].strip())\n",
    "        margin_error = float(split_vals[1].strip())\n",
    "        range_vals = (value - margin_error, value + margin_error)\n",
    "        if num >= range_vals[0] and num <= range_vals[1]:\n",
    "            return 'TP'\n",
    "        else:\n",
    "            return \"FP\"\n",
    "    else:\n",
    "        split_vals = range_str.split(\"-\")\n",
    "        lower = float(split_vals[0])\n",
    "        upper = float(split_vals[1].strip('%'))\n",
    "        if num >= lower and num <= upper:\n",
    "            # print(f\"TP, {label_data}, {extract_data}, {similarity}\")\n",
    "            return 'TP'\n",
    "        else:\n",
    "            # print(f\"FP, {label_data}, {extract_data}, {similarity}\")\n",
    "            return \"FP\"\n",
    "\n",
    "def humidity_temperature_comparison(label, extracted, text_similarity_threshold=0.8):\n",
    "    extracted = extracted if extracted else 0\n",
    "    label = label if label else 0\n",
    "    label_is_num = isinstance(label, (float, int))\n",
    "    extracted_is_num = isinstance(extracted, (float, int))\n",
    "    if label_is_num and extracted_is_num:\n",
    "        label = int(label)\n",
    "        extracted = int(extracted)\n",
    "        # If the key is missing in the extracted annotation, return False Negative\n",
    "        if label != 0 & extracted == 0:\n",
    "            # print(f\"FN, {label_annotation[id]}, {extraction_annotation[entity]}\")\n",
    "            return \"FN\"\n",
    "        elif label == 0 & extracted != 0:\n",
    "            # print(f\"TN, {label_annotation[id]}, {extraction_annotation[entity]}\")\n",
    "            return \"TN\"\n",
    "        elif label == 0 & extracted == 0:\n",
    "            # print(f\"TN, {label_annotation[id]}, {extraction_annotation[entity]}\")\n",
    "            return \"TN\" \n",
    "    elif label_is_num and extracted_is_num == False:\n",
    "        return compare_range_to_num(extracted, label)\n",
    "    elif label_is_num == False and extracted_is_num:\n",
    "        return compare_range_to_num(label, extracted)\n",
    "    else:\n",
    "        similarity = SequenceMatcher(None, label.lower(), extracted.lower()).ratio()\n",
    "        if similarity > text_similarity_threshold:\n",
    "            # print(f\"TP, {label_data}, {extract_data}, {similarity}\")\n",
    "            return 'TP'\n",
    "        else:\n",
    "            # print(f\"FP, {label_data}, {extract_data}, {similarity}\")\n",
    "            return \"FP\""
   ]
  },
  {
   "cell_type": "code",
   "execution_count": 27,
   "metadata": {},
   "outputs": [],
   "source": [
    "def entity_comparison(entity, label, extracted_dict, text_similarity_threshold = 0.75, numerical_tolerance = 0.027):\n",
    "    '''\n",
    "    The tolerance of 2.7% was what was reasonable looking at the absolute difference\n",
    "    treated_voc 1.18, 1.149, absolute difference 0.026271186440677895\n",
    "\n",
    "    The text similarity was set to 75% due to the structure example\n",
    "    FP, NIP, n-i-p, 0.75\n",
    "    This should be positive\n",
    "    \n",
    "    '''\n",
    "    numerical_entity = ['time', 'efficiency_cont', 'efficiency_tret', 'control_pce', 'treated_pce', 'control_voc', 'treated_voc']\n",
    "    numerical_exception = ['humidity', 'temperature']\n",
    "\n",
    "    if (label[entity]!=None) & (extracted_dict[entity]==None):\n",
    "        # print(f\"FN, {label_annotation[id]}, {extraction_annotation[key_to_check]}\")\n",
    "        return \"FN\"\n",
    "    elif (label[entity]==None) & (extracted_dict[entity]!=None):\n",
    "        # print(f\"TN, {label_annotation[id]}, {extraction_annotation[key_to_check]}\")\n",
    "        return \"TN\"\n",
    "\n",
    "    if entity in numerical_entity:\n",
    "        # key_to_check = \"control_efficiency\" if entity == \"efficiency_cont\" else (\"treatment_efficiency\" if entity == \"efficiency_tret\" else entity)\n",
    "\n",
    "        # print(f\"annotated{label[entity]}\")\n",
    "        # print(f\"extracted{extracted_dict[entity]}\")\n",
    "        if extracted_dict[entity] == None:\n",
    "            extracted_dict[entity] = 0\n",
    "\n",
    "        # If the key is missing in the extracted annotation, return False Negative\n",
    "        if (label[entity]!=0) & ((extracted_dict[entity]==0) | (entity not in extracted_dict.keys())):\n",
    "            # print(f\"FN, {label_annotation[id]}, {extraction_annotation[entity]}\")\n",
    "            return \"FN\"\n",
    "        elif (label[entity]==0) & (extracted_dict[entity]!=0):\n",
    "            # print(f\"TN, {label_annotation[id]}, {extraction_annotation[entity]}\")\n",
    "            return \"TN\"\n",
    "        elif (label[entity]==0) & (extracted_dict[entity]==0):\n",
    "            # print(f\"TN, {label_annotation[id]}, {extraction_annotation[entity]}\")\n",
    "            return \"TN\"\n",
    "\n",
    "\n",
    "        if isinstance(extracted_dict[entity], list):\n",
    "            ##There was one column with two temperature recorded as a list (probably thermal cycling)\n",
    "            extracted_dict[entity] = extracted_dict[entity][1]\n",
    "\n",
    "        # Apply numerical tolerance check\n",
    "        if (abs(label[entity] - extracted_dict[entity])) / (abs(label[entity]) )<= numerical_tolerance:\n",
    "\n",
    "            # print(f\"Numerical differences matched: {entity} {label[entity]}, {extracted_dict[entity]}, absolute difference {(abs(label[entity] - extracted_dict[entity])) / (abs(label[entity]) )}\")\n",
    "            return \"TP\"  # True Positive: Correct numerical extraction\n",
    "        else:\n",
    "\n",
    "            # print(f\"Numerical differences no match: {entity}, {label[entity]}, {extracted_dict[entity]}, absolute difference {(abs(label[entity] - extracted_dict[entity])) / (abs(label[entity]) )}\")\n",
    "            return \"FP\"  # False Positive: Incorrect numerical extraction\n",
    "    elif entity in numerical_exception:\n",
    "        return humidity_temperature_comparison(label[entity], extracted_dict[entity])\n",
    "    else: \n",
    "        print(\"edge case\") #should not happen\n",
    "        return \"FP\"\n",
    "        "
   ]
  },
  {
   "cell_type": "code",
   "execution_count": 28,
   "metadata": {},
   "outputs": [],
   "source": [
    "def safe_division(numerator, denominator):\n",
    "    \"\"\"Returns division result, or 0 if the denominator is zero.\"\"\"\n",
    "    return numerator / denominator if denominator != 0 else 0"
   ]
  },
  {
   "cell_type": "code",
   "execution_count": 29,
   "metadata": {},
   "outputs": [],
   "source": [
    "def text_comparison(id, label_annotation, extraction_annotation, text_similarity_threshold=0.8):\n",
    "    \"\"\"Compares text values using string similarity matching.\n",
    "    - THE 4 basic variable that is to compare is PEROVSKITE COMPOSITION, ETL, HTL, STRUCTURE\n",
    "    \"\"\"\n",
    "\n",
    "    # Handle special case for structure_pin_nip\n",
    "    # key_to_check = \"pin_nip_structure\" if id == \"structure_pin_nip\" else id\n",
    "\n",
    "    # If the key is missing in the extracted annotation, return False Negative\n",
    "    if (label_annotation[id]!=None) & (extraction_annotation[id]==None):\n",
    "        # print(f\"FN, {label_annotation[id]}, {extraction_annotation[key_to_check]}\")\n",
    "        return \"FN\"\n",
    "    elif (label_annotation[id]==None) & (extraction_annotation[id]!=None):\n",
    "        # print(f\"TN, {label_annotation[id]}, {extraction_annotation[key_to_check]}\")\n",
    "        return \"TN\"\n",
    "\n",
    "    label_data = label_annotation.get(id, \"\")\n",
    "    if id == 'electron_transport_layer' and label_data == \"buckminsterfullerene\":\n",
    "        label_data = 'C60'\n",
    "    extract_data = extraction_annotation.get(id, \"\")\n",
    "\n",
    "    # Convert lists to strings if necessary\n",
    "    if isinstance(label_data, list):\n",
    "        label_data = \" \".join(map(str, label_data))  # Convert list to string\n",
    "    if isinstance(extract_data, list):\n",
    "        extract_data = \" \".join(map(str, extract_data))  # Convert list to string\n",
    "\n",
    "    # Ensure values are strings\n",
    "    if not isinstance(label_data, str) or not isinstance(extract_data, str):\n",
    "        # print(f\"FP, {label_annotation[id]}, {extraction_annotation[id]}\")\n",
    "        return \"FP\"  # If data is still not a string, return False Positive\n",
    "\n",
    "    # Compute similarity score\n",
    "    similarity = SequenceMatcher(None, label_data.lower(), extract_data.lower()).ratio()\n",
    "\n",
    "    if similarity > text_similarity_threshold:\n",
    "        # print(f\"TP, {label_data}, {extract_data}, {similarity}\")\n",
    "        return 'TP'\n",
    "    else:\n",
    "        # print(f\"FP, {label_data}, {extract_data}, {similarity}\")\n",
    "        return \"FP\"\n"
   ]
  },
  {
   "cell_type": "code",
   "execution_count": 31,
   "metadata": {},
   "outputs": [],
   "source": [
    "def compare_json(df):\n",
    "    \"\"\"\n",
    "    Compare labeled and extracted JSON data for correctness.\n",
    "\n",
    "    TP: Correct value extracted by LLM.\n",
    "    FN: LLM didn't extract this variable.\n",
    "    FP: LLM extracted a value, but it was incorrect.\n",
    "    TN: LLM halucinated and returned value that was not extracted\n",
    "    \"\"\"\n",
    "    \n",
    "    text_variables = ['perovskite_composition', 'electron_transport_layer', 'hole_transport_layer', 'structure_pin_nip', 'passivating_molecule', 'stability_type']\n",
    "    numerical_variables = ['time', 'efficiency_cont', 'efficiency_tret', 'control_pce', 'treated_pce', 'control_voc', 'treated_voc', 'temperature', 'humidity'] \n",
    "    # stability_entity_annotated = ['stability_type', 'temperature', 'time', 'humidity', 'passivating_molecule', 'efficiency_cont', 'efficiency_tret', 'control_pce', 'treated_pce', 'control_voc', 'treated_voc']\n",
    "    # stability_entity_extracted = ['test_name', 'temperature', 'time', 'humidity', 'passivating_molecule','control_efficiency', 'treatment_efficiency', 'control_pce', 'treated_pce', 'control_voc', 'treated_voc']\n",
    "    \n",
    "    # Initialize comparison dictionaries\n",
    "    text_dict = {var: {\"TP\": 0, \"FP\": 0, \"FN\": 0, \"TN\": 0} for var in text_variables}\n",
    "    numerical_dict = {var: {\"TP\": 0, \"FP\": 0, \"FN\": 0, \"TN\": 0} for var in numerical_variables}\n",
    "\n",
    "    for row in df.itertuples():       \n",
    "        label_value = row.annotation\n",
    "        extracted_value = row.extracted\n",
    "\n",
    "        for key, _ in label_value.items():\n",
    "            if key not in extracted_value:\n",
    "                extracted_value[key] = None #if model forgets to return key for null values\n",
    "            \n",
    "            if key in text_variables:\n",
    "                result = text_comparison(key, label_value, extracted_value)\n",
    "                text_dict[key][result] += 1\n",
    "            else:\n",
    "                print(key)\n",
    "                result = entity_comparison(key, label_value, extracted_value)\n",
    "                numerical_dict[key][result] += 1\n",
    "\n",
    "    # Merge all results\n",
    "    combined_dict = {**text_dict, **numerical_dict}\n",
    "    # print(\"Performance for each variable in dictionary:\", combined_dict)\n",
    "\n",
    "    # Compute precision, recall, and F1-score\n",
    "    variable_list, precision_list, recall_list, f1_list = [], [], [], []\n",
    "    for variable, performance in combined_dict.items():\n",
    "        TP, FP, FN = performance[\"TP\"], performance[\"FP\"], performance[\"FN\"]\n",
    "        \n",
    "        precision = safe_division(TP, TP + FP)\n",
    "        recall = safe_division(TP, TP + FN)\n",
    "        f1 = safe_division(2 * precision * recall, precision + recall)\n",
    "\n",
    "        variable_list.append(variable)\n",
    "        precision_list.append(precision)\n",
    "        recall_list.append(recall)\n",
    "        f1_list.append(f1)\n",
    "\n",
    "    return combined_dict, variable_list, precision_list, recall_list, f1_list"
   ]
  },
  {
   "cell_type": "code",
   "execution_count": 32,
   "metadata": {},
   "outputs": [
    {
     "name": "stdout",
     "output_type": "stream",
     "text": [
      "control_pce\n",
      "treated_pce\n",
      "control_voc\n",
      "treated_voc\n",
      "humidity\n",
      "temperature\n",
      "time\n",
      "efficiency_cont\n",
      "efficiency_tret\n",
      "control_pce\n",
      "treated_pce\n",
      "control_voc\n",
      "treated_voc\n",
      "humidity\n",
      "temperature\n",
      "time\n",
      "efficiency_cont\n",
      "efficiency_tret\n",
      "control_pce\n",
      "treated_pce\n",
      "control_voc\n",
      "treated_voc\n",
      "humidity\n",
      "temperature\n",
      "time\n",
      "efficiency_cont\n",
      "efficiency_tret\n",
      "control_pce\n",
      "treated_pce\n",
      "control_voc\n",
      "treated_voc\n",
      "humidity\n",
      "temperature\n",
      "time\n",
      "efficiency_cont\n",
      "efficiency_tret\n",
      "control_pce\n",
      "treated_pce\n",
      "control_voc\n",
      "treated_voc\n",
      "humidity\n",
      "temperature\n",
      "time\n",
      "efficiency_cont\n",
      "efficiency_tret\n",
      "control_pce\n",
      "treated_pce\n",
      "control_voc\n",
      "treated_voc\n",
      "humidity\n",
      "temperature\n",
      "time\n",
      "efficiency_cont\n",
      "efficiency_tret\n",
      "control_pce\n",
      "treated_pce\n",
      "control_voc\n",
      "treated_voc\n",
      "humidity\n",
      "temperature\n",
      "time\n",
      "efficiency_cont\n",
      "efficiency_tret\n",
      "control_pce\n",
      "treated_pce\n",
      "control_voc\n",
      "treated_voc\n",
      "humidity\n",
      "temperature\n",
      "time\n",
      "efficiency_cont\n",
      "efficiency_tret\n",
      "control_pce\n",
      "treated_pce\n",
      "control_voc\n",
      "treated_voc\n",
      "humidity\n",
      "temperature\n",
      "time\n",
      "efficiency_cont\n",
      "efficiency_tret\n",
      "control_pce\n",
      "treated_pce\n",
      "control_voc\n",
      "treated_voc\n",
      "humidity\n",
      "temperature\n",
      "time\n",
      "efficiency_cont\n",
      "efficiency_tret\n",
      "control_pce\n",
      "treated_pce\n",
      "control_voc\n",
      "treated_voc\n",
      "humidity\n",
      "temperature\n",
      "time\n",
      "efficiency_cont\n",
      "efficiency_tret\n",
      "control_pce\n",
      "treated_pce\n",
      "control_voc\n",
      "treated_voc\n",
      "humidity\n",
      "temperature\n",
      "time\n",
      "efficiency_cont\n",
      "efficiency_tret\n",
      "control_pce\n",
      "treated_pce\n",
      "control_voc\n",
      "treated_voc\n",
      "humidity\n",
      "temperature\n",
      "time\n",
      "efficiency_cont\n",
      "efficiency_tret\n",
      "control_pce\n",
      "treated_pce\n",
      "control_voc\n",
      "treated_voc\n",
      "humidity\n",
      "temperature\n",
      "time\n",
      "efficiency_cont\n",
      "efficiency_tret\n",
      "control_pce\n",
      "treated_pce\n",
      "control_voc\n",
      "treated_voc\n",
      "humidity\n",
      "temperature\n",
      "time\n",
      "efficiency_cont\n",
      "efficiency_tret\n",
      "control_pce\n",
      "treated_pce\n",
      "control_voc\n",
      "treated_voc\n",
      "humidity\n",
      "temperature\n",
      "time\n",
      "efficiency_cont\n",
      "efficiency_tret\n",
      "control_pce\n",
      "treated_pce\n",
      "control_voc\n",
      "treated_voc\n",
      "humidity\n",
      "temperature\n",
      "time\n",
      "efficiency_cont\n",
      "efficiency_tret\n",
      "control_pce\n",
      "treated_pce\n",
      "control_voc\n",
      "treated_voc\n",
      "humidity\n",
      "temperature\n",
      "time\n",
      "efficiency_cont\n",
      "efficiency_tret\n",
      "control_pce\n",
      "treated_pce\n",
      "control_voc\n",
      "treated_voc\n",
      "humidity\n",
      "temperature\n",
      "time\n",
      "efficiency_cont\n",
      "efficiency_tret\n",
      "control_pce\n",
      "treated_pce\n",
      "control_voc\n",
      "treated_voc\n",
      "humidity\n",
      "temperature\n",
      "time\n",
      "efficiency_cont\n",
      "efficiency_tret\n",
      "control_pce\n",
      "treated_pce\n",
      "control_voc\n",
      "treated_voc\n",
      "humidity\n",
      "temperature\n",
      "time\n",
      "efficiency_cont\n",
      "efficiency_tret\n",
      "control_pce\n",
      "treated_pce\n",
      "control_voc\n",
      "treated_voc\n",
      "humidity\n",
      "temperature\n",
      "time\n",
      "efficiency_cont\n",
      "efficiency_tret\n",
      "control_pce\n",
      "treated_pce\n",
      "control_voc\n",
      "treated_voc\n",
      "humidity\n",
      "temperature\n",
      "time\n",
      "efficiency_cont\n",
      "efficiency_tret\n",
      "control_pce\n",
      "treated_pce\n",
      "control_voc\n",
      "treated_voc\n",
      "humidity\n",
      "temperature\n",
      "time\n",
      "efficiency_cont\n",
      "efficiency_tret\n",
      "control_pce\n",
      "treated_pce\n",
      "control_voc\n",
      "treated_voc\n",
      "humidity\n",
      "temperature\n",
      "time\n",
      "efficiency_cont\n",
      "efficiency_tret\n",
      "control_pce\n",
      "treated_pce\n",
      "control_voc\n",
      "treated_voc\n",
      "humidity\n",
      "temperature\n",
      "time\n",
      "efficiency_cont\n",
      "efficiency_tret\n",
      "control_pce\n",
      "treated_pce\n",
      "control_voc\n",
      "treated_voc\n",
      "humidity\n",
      "temperature\n",
      "time\n",
      "efficiency_cont\n",
      "efficiency_tret\n",
      "control_pce\n",
      "treated_pce\n",
      "control_voc\n",
      "treated_voc\n",
      "humidity\n",
      "temperature\n",
      "time\n",
      "efficiency_cont\n",
      "efficiency_tret\n",
      "control_pce\n",
      "treated_pce\n",
      "control_voc\n",
      "treated_voc\n",
      "humidity\n",
      "temperature\n",
      "time\n",
      "efficiency_cont\n",
      "efficiency_tret\n",
      "control_pce\n",
      "treated_pce\n",
      "control_voc\n",
      "treated_voc\n",
      "humidity\n",
      "temperature\n",
      "time\n",
      "efficiency_cont\n",
      "efficiency_tret\n",
      "control_pce\n",
      "treated_pce\n",
      "control_voc\n",
      "treated_voc\n",
      "humidity\n",
      "temperature\n",
      "time\n",
      "efficiency_cont\n",
      "efficiency_tret\n",
      "control_pce\n",
      "treated_pce\n",
      "control_voc\n",
      "treated_voc\n",
      "humidity\n",
      "temperature\n",
      "time\n",
      "efficiency_cont\n",
      "efficiency_tret\n",
      "control_pce\n",
      "treated_pce\n",
      "control_voc\n",
      "treated_voc\n",
      "humidity\n",
      "temperature\n",
      "time\n",
      "efficiency_cont\n",
      "efficiency_tret\n",
      "control_pce\n",
      "treated_pce\n",
      "control_voc\n",
      "treated_voc\n",
      "humidity\n",
      "temperature\n",
      "time\n",
      "efficiency_cont\n",
      "efficiency_tret\n",
      "control_pce\n",
      "treated_pce\n",
      "control_voc\n",
      "treated_voc\n",
      "humidity\n",
      "temperature\n",
      "time\n",
      "efficiency_cont\n",
      "efficiency_tret\n",
      "control_pce\n",
      "treated_pce\n",
      "control_voc\n",
      "treated_voc\n",
      "humidity\n",
      "temperature\n",
      "time\n",
      "efficiency_cont\n",
      "efficiency_tret\n",
      "control_pce\n",
      "treated_pce\n",
      "control_voc\n",
      "treated_voc\n",
      "humidity\n",
      "temperature\n",
      "time\n",
      "efficiency_cont\n",
      "efficiency_tret\n",
      "control_pce\n",
      "treated_pce\n",
      "control_voc\n",
      "treated_voc\n",
      "humidity\n",
      "temperature\n",
      "time\n",
      "efficiency_cont\n",
      "efficiency_tret\n",
      "control_pce\n",
      "treated_pce\n",
      "control_voc\n",
      "treated_voc\n",
      "humidity\n",
      "temperature\n",
      "time\n",
      "efficiency_cont\n",
      "efficiency_tret\n",
      "control_pce\n",
      "treated_pce\n",
      "control_voc\n",
      "treated_voc\n",
      "humidity\n",
      "temperature\n",
      "time\n",
      "efficiency_cont\n",
      "efficiency_tret\n",
      "control_pce\n",
      "treated_pce\n",
      "control_voc\n",
      "treated_voc\n",
      "humidity\n",
      "temperature\n",
      "time\n",
      "efficiency_cont\n",
      "efficiency_tret\n",
      "control_pce\n",
      "treated_pce\n",
      "control_voc\n",
      "treated_voc\n",
      "humidity\n",
      "temperature\n",
      "time\n",
      "efficiency_cont\n",
      "efficiency_tret\n",
      "control_pce\n",
      "treated_pce\n",
      "control_voc\n",
      "treated_voc\n",
      "humidity\n",
      "temperature\n",
      "time\n",
      "efficiency_cont\n",
      "efficiency_tret\n",
      "control_pce\n",
      "treated_pce\n",
      "control_voc\n",
      "treated_voc\n",
      "humidity\n",
      "temperature\n",
      "time\n",
      "efficiency_cont\n",
      "efficiency_tret\n",
      "control_pce\n",
      "treated_pce\n",
      "control_voc\n",
      "treated_voc\n",
      "humidity\n",
      "temperature\n",
      "time\n",
      "efficiency_cont\n",
      "efficiency_tret\n",
      "control_pce\n",
      "treated_pce\n",
      "control_voc\n",
      "treated_voc\n",
      "humidity\n",
      "temperature\n",
      "time\n",
      "efficiency_cont\n",
      "efficiency_tret\n",
      "control_pce\n",
      "treated_pce\n",
      "control_voc\n",
      "treated_voc\n",
      "humidity\n",
      "temperature\n",
      "time\n",
      "efficiency_cont\n",
      "efficiency_tret\n",
      "control_pce\n",
      "treated_pce\n",
      "control_voc\n",
      "treated_voc\n",
      "humidity\n",
      "temperature\n",
      "time\n",
      "efficiency_cont\n",
      "efficiency_tret\n",
      "control_pce\n",
      "treated_pce\n",
      "control_voc\n",
      "treated_voc\n",
      "humidity\n",
      "temperature\n",
      "time\n",
      "efficiency_cont\n",
      "efficiency_tret\n",
      "control_pce\n",
      "treated_pce\n",
      "control_voc\n",
      "treated_voc\n",
      "humidity\n",
      "temperature\n",
      "time\n",
      "efficiency_cont\n",
      "efficiency_tret\n",
      "control_pce\n",
      "treated_pce\n",
      "control_voc\n",
      "treated_voc\n",
      "humidity\n",
      "temperature\n",
      "time\n",
      "efficiency_cont\n",
      "efficiency_tret\n",
      "control_pce\n",
      "treated_pce\n",
      "control_voc\n",
      "treated_voc\n",
      "humidity\n",
      "temperature\n",
      "time\n",
      "efficiency_cont\n",
      "efficiency_tret\n",
      "control_pce\n",
      "treated_pce\n",
      "control_voc\n",
      "treated_voc\n",
      "humidity\n",
      "temperature\n",
      "time\n",
      "efficiency_cont\n",
      "efficiency_tret\n",
      "control_pce\n",
      "treated_pce\n",
      "control_voc\n",
      "treated_voc\n",
      "humidity\n",
      "temperature\n",
      "time\n",
      "efficiency_cont\n",
      "efficiency_tret\n",
      "control_pce\n",
      "treated_pce\n",
      "control_voc\n",
      "treated_voc\n",
      "humidity\n",
      "temperature\n",
      "time\n",
      "efficiency_cont\n",
      "efficiency_tret\n",
      "control_pce\n",
      "treated_pce\n",
      "control_voc\n",
      "treated_voc\n",
      "humidity\n",
      "temperature\n",
      "time\n",
      "efficiency_cont\n",
      "efficiency_tret\n",
      "control_pce\n",
      "treated_pce\n",
      "control_voc\n",
      "treated_voc\n",
      "humidity\n",
      "temperature\n",
      "time\n",
      "efficiency_cont\n",
      "efficiency_tret\n",
      "control_pce\n",
      "treated_pce\n",
      "control_voc\n",
      "treated_voc\n",
      "humidity\n",
      "temperature\n",
      "time\n",
      "efficiency_cont\n",
      "efficiency_tret\n"
     ]
    }
   ],
   "source": [
    "dict_result_base, variables_base, precisions_base, recalls_base, f1s_base = compare_json(evaluate_df_base)"
   ]
  },
  {
   "cell_type": "code",
   "execution_count": 33,
   "metadata": {},
   "outputs": [
    {
     "ename": "NameError",
     "evalue": "name 'evaluate_df_train' is not defined",
     "output_type": "error",
     "traceback": [
      "\u001b[0;31m---------------------------------------------------------------------------\u001b[0m",
      "\u001b[0;31mNameError\u001b[0m                                 Traceback (most recent call last)",
      "Cell \u001b[0;32mIn[33], line 1\u001b[0m\n\u001b[0;32m----> 1\u001b[0m dict_result_train, variables_train, precisions_train, recalls_train, f1s_train \u001b[38;5;241m=\u001b[39m compare_json(\u001b[43mevaluate_df_train\u001b[49m)\n",
      "\u001b[0;31mNameError\u001b[0m: name 'evaluate_df_train' is not defined"
     ]
    }
   ],
   "source": [
    "dict_result_train, variables_train, precisions_train, recalls_train, f1s_train = compare_json(evaluate_df_train)"
   ]
  },
  {
   "cell_type": "code",
   "execution_count": 34,
   "metadata": {},
   "outputs": [
    {
     "data": {
      "text/plain": [
       "{'perovskite_composition': {'TP': 37, 'FP': 17, 'FN': 0, 'TN': 4},\n",
       " 'electron_transport_layer': {'TP': 6, 'FP': 41, 'FN': 1, 'TN': 10},\n",
       " 'hole_transport_layer': {'TP': 25, 'FP': 19, 'FN': 1, 'TN': 13},\n",
       " 'structure_pin_nip': {'TP': 19, 'FP': 26, 'FN': 2, 'TN': 11},\n",
       " 'passivating_molecule': {'TP': 18, 'FP': 40, 'FN': 0, 'TN': 0},\n",
       " 'stability_type': {'TP': 4, 'FP': 46, 'FN': 4, 'TN': 4},\n",
       " 'time': {'TP': 34, 'FP': 13, 'FN': 11, 'TN': 0},\n",
       " 'efficiency_cont': {'TP': 7, 'FP': 7, 'FN': 35, 'TN': 9},\n",
       " 'efficiency_tret': {'TP': 24, 'FP': 10, 'FN': 22, 'TN': 2},\n",
       " 'control_pce': {'TP': 24, 'FP': 15, 'FN': 10, 'TN': 9},\n",
       " 'treated_pce': {'TP': 37, 'FP': 16, 'FN': 2, 'TN': 3},\n",
       " 'control_voc': {'TP': 26, 'FP': 2, 'FN': 15, 'TN': 15},\n",
       " 'treated_voc': {'TP': 33, 'FP': 9, 'FN': 6, 'TN': 10},\n",
       " 'temperature': {'TP': 1, 'FP': 0, 'FN': 27, 'TN': 30},\n",
       " 'humidity': {'TP': 3, 'FP': 1, 'FN': 13, 'TN': 41}}"
      ]
     },
     "execution_count": 34,
     "metadata": {},
     "output_type": "execute_result"
    }
   ],
   "source": [
    "dict_result_base"
   ]
  },
  {
   "cell_type": "code",
   "execution_count": 35,
   "metadata": {},
   "outputs": [
    {
     "ename": "NameError",
     "evalue": "name 'dict_result_train' is not defined",
     "output_type": "error",
     "traceback": [
      "\u001b[0;31m---------------------------------------------------------------------------\u001b[0m",
      "\u001b[0;31mNameError\u001b[0m                                 Traceback (most recent call last)",
      "Cell \u001b[0;32mIn[35], line 1\u001b[0m\n\u001b[0;32m----> 1\u001b[0m \u001b[43mdict_result_train\u001b[49m\n",
      "\u001b[0;31mNameError\u001b[0m: name 'dict_result_train' is not defined"
     ]
    }
   ],
   "source": [
    "dict_result_train"
   ]
  },
  {
   "cell_type": "markdown",
   "metadata": {},
   "source": [
    "## Calculate Macro f1 score"
   ]
  },
  {
   "cell_type": "code",
   "execution_count": 36,
   "metadata": {},
   "outputs": [],
   "source": [
    "def macro_f1(f1_list, weight = None):\n",
    "    if weight == None:\n",
    "        #If no weight given, do unweighted average of f1 score\n",
    "        return sum(f1_list) / len(f1_list)\n",
    "    total_f1 = 0\n",
    "    for i in range(len(f1_list)):\n",
    "        total_f1 += (f1_list[i] * weight[i])\n",
    "    return total_f1 / sum(weight)\n",
    "    \n"
   ]
  },
  {
   "cell_type": "code",
   "execution_count": 37,
   "metadata": {},
   "outputs": [
    {
     "data": {
      "text/html": [
       "<div>\n",
       "<style scoped>\n",
       "    .dataframe tbody tr th:only-of-type {\n",
       "        vertical-align: middle;\n",
       "    }\n",
       "\n",
       "    .dataframe tbody tr th {\n",
       "        vertical-align: top;\n",
       "    }\n",
       "\n",
       "    .dataframe thead th {\n",
       "        text-align: right;\n",
       "    }\n",
       "</style>\n",
       "<table border=\"1\" class=\"dataframe\">\n",
       "  <thead>\n",
       "    <tr style=\"text-align: right;\">\n",
       "      <th></th>\n",
       "      <th>Macro F1 score weight distribution</th>\n",
       "      <th>Base Deepseek 8bit</th>\n",
       "      <th>Fine-Tuned Deepseek 4 bit</th>\n",
       "      <th>Fine-Tuned Deepseek 8 bit</th>\n",
       "      <th>Llama 3 billion parameter</th>\n",
       "    </tr>\n",
       "  </thead>\n",
       "  <tbody>\n",
       "    <tr>\n",
       "      <th>0</th>\n",
       "      <td>NaN</td>\n",
       "      <td>NaN</td>\n",
       "      <td>NaN</td>\n",
       "      <td>NaN</td>\n",
       "      <td>NaN</td>\n",
       "    </tr>\n",
       "    <tr>\n",
       "      <th>1</th>\n",
       "      <td>NaN</td>\n",
       "      <td>NaN</td>\n",
       "      <td>NaN</td>\n",
       "      <td>NaN</td>\n",
       "      <td>NaN</td>\n",
       "    </tr>\n",
       "    <tr>\n",
       "      <th>2</th>\n",
       "      <td>NaN</td>\n",
       "      <td>NaN</td>\n",
       "      <td>NaN</td>\n",
       "      <td>NaN</td>\n",
       "      <td>NaN</td>\n",
       "    </tr>\n",
       "    <tr>\n",
       "      <th>3</th>\n",
       "      <td>NaN</td>\n",
       "      <td>NaN</td>\n",
       "      <td>NaN</td>\n",
       "      <td>NaN</td>\n",
       "      <td>NaN</td>\n",
       "    </tr>\n",
       "    <tr>\n",
       "      <th>4</th>\n",
       "      <td>NaN</td>\n",
       "      <td>NaN</td>\n",
       "      <td>NaN</td>\n",
       "      <td>NaN</td>\n",
       "      <td>NaN</td>\n",
       "    </tr>\n",
       "    <tr>\n",
       "      <th>5</th>\n",
       "      <td>NaN</td>\n",
       "      <td>NaN</td>\n",
       "      <td>NaN</td>\n",
       "      <td>NaN</td>\n",
       "      <td>NaN</td>\n",
       "    </tr>\n",
       "    <tr>\n",
       "      <th>6</th>\n",
       "      <td>NaN</td>\n",
       "      <td>NaN</td>\n",
       "      <td>NaN</td>\n",
       "      <td>NaN</td>\n",
       "      <td>NaN</td>\n",
       "    </tr>\n",
       "  </tbody>\n",
       "</table>\n",
       "</div>"
      ],
      "text/plain": [
       "   Macro F1 score weight distribution  Base Deepseek 8bit  \\\n",
       "0                                 NaN                 NaN   \n",
       "1                                 NaN                 NaN   \n",
       "2                                 NaN                 NaN   \n",
       "3                                 NaN                 NaN   \n",
       "4                                 NaN                 NaN   \n",
       "5                                 NaN                 NaN   \n",
       "6                                 NaN                 NaN   \n",
       "\n",
       "   Fine-Tuned Deepseek 4 bit  Fine-Tuned Deepseek 8 bit  \\\n",
       "0                        NaN                        NaN   \n",
       "1                        NaN                        NaN   \n",
       "2                        NaN                        NaN   \n",
       "3                        NaN                        NaN   \n",
       "4                        NaN                        NaN   \n",
       "5                        NaN                        NaN   \n",
       "6                        NaN                        NaN   \n",
       "\n",
       "   Llama 3 billion parameter  \n",
       "0                        NaN  \n",
       "1                        NaN  \n",
       "2                        NaN  \n",
       "3                        NaN  \n",
       "4                        NaN  \n",
       "5                        NaN  \n",
       "6                        NaN  "
      ]
     },
     "execution_count": 37,
     "metadata": {},
     "output_type": "execute_result"
    }
   ],
   "source": [
    "# Define column names\n",
    "columns = ['Macro F1 score weight distribution', 'Base Deepseek 8bit', 'Fine-Tuned Deepseek 4 bit', 'Fine-Tuned Deepseek 8 bit', 'Llama 3 billion parameter']\n",
    "\n",
    "# Create a DataFrame with NaN values\n",
    "df_f1scores = pd.DataFrame(np.nan, index=[0, 1, 2, 3, 4, 5, 6], columns=columns)\n",
    "df_f1scores"
   ]
  },
  {
   "cell_type": "code",
   "execution_count": 38,
   "metadata": {},
   "outputs": [],
   "source": [
    "f1s_train = [0]"
   ]
  },
  {
   "cell_type": "code",
   "execution_count": 39,
   "metadata": {},
   "outputs": [
    {
     "data": {
      "text/plain": [
       "0.0"
      ]
     },
     "execution_count": 39,
     "metadata": {},
     "output_type": "execute_result"
    }
   ],
   "source": [
    "## Unweighted\n",
    "macro_train_0 = macro_f1(f1s_train)\n",
    "macro_train_0\n"
   ]
  },
  {
   "cell_type": "code",
   "execution_count": 40,
   "metadata": {},
   "outputs": [
    {
     "data": {
      "text/plain": [
       "0.5283655732245532"
      ]
     },
     "execution_count": 40,
     "metadata": {},
     "output_type": "execute_result"
    }
   ],
   "source": [
    "macro_base_0 = macro_f1(f1s_base)\n",
    "macro_base_0"
   ]
  },
  {
   "cell_type": "code",
   "execution_count": 41,
   "metadata": {},
   "outputs": [],
   "source": [
    "## unweighted row value\n",
    "unweighted = ['Macro F1 score with equal weight', macro_base_0, macro_train_0, None, None]\n",
    "df_f1scores.loc[0] = unweighted\n"
   ]
  },
  {
   "cell_type": "code",
   "execution_count": 42,
   "metadata": {},
   "outputs": [
    {
     "ename": "NameError",
     "evalue": "name 'variables_train' is not defined",
     "output_type": "error",
     "traceback": [
      "\u001b[0;31m---------------------------------------------------------------------------\u001b[0m",
      "\u001b[0;31mNameError\u001b[0m                                 Traceback (most recent call last)",
      "Cell \u001b[0;32mIn[42], line 1\u001b[0m\n\u001b[0;32m----> 1\u001b[0m \u001b[43mvariables_train\u001b[49m\n",
      "\u001b[0;31mNameError\u001b[0m: name 'variables_train' is not defined"
     ]
    }
   ],
   "source": [
    "variables_train"
   ]
  },
  {
   "cell_type": "code",
   "execution_count": 43,
   "metadata": {},
   "outputs": [],
   "source": [
    "weights_1 = [1, 1, 1, 1, 2, 2, 2, 2, 1, 2, 2, 1, 1, 1, 1]"
   ]
  },
  {
   "cell_type": "code",
   "execution_count": 44,
   "metadata": {},
   "outputs": [
    {
     "data": {
      "text/plain": [
       "0.0"
      ]
     },
     "execution_count": 44,
     "metadata": {},
     "output_type": "execute_result"
    }
   ],
   "source": [
    "macro_train_1 = macro_f1(f1s_train, weight = weights_1)\n",
    "macro_train_1"
   ]
  },
  {
   "cell_type": "code",
   "execution_count": 45,
   "metadata": {},
   "outputs": [
    {
     "data": {
      "text/plain": [
       "0.5232433976582038"
      ]
     },
     "execution_count": 45,
     "metadata": {},
     "output_type": "execute_result"
    }
   ],
   "source": [
    "macro_base_1 = macro_f1(f1s_base, weight = weights_1)\n",
    "macro_base_1"
   ]
  },
  {
   "cell_type": "code",
   "execution_count": 46,
   "metadata": {},
   "outputs": [],
   "source": [
    "## Heavier weight on stability value\n",
    "first_f1 = ['Heavier weight on stability', macro_base_1, macro_train_1, None, None]\n",
    "df_f1scores.loc[1] = first_f1"
   ]
  },
  {
   "cell_type": "code",
   "execution_count": 47,
   "metadata": {},
   "outputs": [],
   "source": [
    "weights_2 = [2, 2, 2, 2, 1, 1, 1, 1, 2, 1, 1, 1, 1, 1, 1]"
   ]
  },
  {
   "cell_type": "code",
   "execution_count": 48,
   "metadata": {},
   "outputs": [
    {
     "data": {
      "text/plain": [
       "0.0"
      ]
     },
     "execution_count": 48,
     "metadata": {},
     "output_type": "execute_result"
    }
   ],
   "source": [
    "macro_train_2 = macro_f1(f1s_train, weight = weights_2)\n",
    "macro_train_2"
   ]
  },
  {
   "cell_type": "code",
   "execution_count": 49,
   "metadata": {},
   "outputs": [
    {
     "data": {
      "text/plain": [
       "0.5425467961910313"
      ]
     },
     "execution_count": 49,
     "metadata": {},
     "output_type": "execute_result"
    }
   ],
   "source": [
    "macro_base_2 = macro_f1(f1s_base, weight = weights_2)\n",
    "macro_base_2"
   ]
  },
  {
   "cell_type": "code",
   "execution_count": 50,
   "metadata": {},
   "outputs": [],
   "source": [
    "## Heavier weight on perovskite structure\n",
    "first_f2 = ['Heavier weight on perovskite structure', macro_base_2, macro_train_2, None, None]\n",
    "df_f1scores.loc[2] = first_f2"
   ]
  },
  {
   "cell_type": "code",
   "execution_count": 51,
   "metadata": {},
   "outputs": [
    {
     "ename": "NameError",
     "evalue": "name 'variables_train' is not defined",
     "output_type": "error",
     "traceback": [
      "\u001b[0;31m---------------------------------------------------------------------------\u001b[0m",
      "\u001b[0;31mNameError\u001b[0m                                 Traceback (most recent call last)",
      "Cell \u001b[0;32mIn[51], line 1\u001b[0m\n\u001b[0;32m----> 1\u001b[0m \u001b[43mvariables_train\u001b[49m\n",
      "\u001b[0;31mNameError\u001b[0m: name 'variables_train' is not defined"
     ]
    }
   ],
   "source": [
    "variables_train"
   ]
  },
  {
   "cell_type": "code",
   "execution_count": 52,
   "metadata": {},
   "outputs": [],
   "source": [
    "weights_3 = [1, 1, 1, 1, 1, 2, 2, 2, 1, 2, 2, 2, 2, 2, 2]"
   ]
  },
  {
   "cell_type": "code",
   "execution_count": 53,
   "metadata": {},
   "outputs": [
    {
     "data": {
      "text/plain": [
       "0.0"
      ]
     },
     "execution_count": 53,
     "metadata": {},
     "output_type": "execute_result"
    }
   ],
   "source": [
    "macro_train_3 = macro_f1(f1s_train, weight = weights_3)\n",
    "macro_train_3"
   ]
  },
  {
   "cell_type": "code",
   "execution_count": 54,
   "metadata": {},
   "outputs": [
    {
     "data": {
      "text/plain": [
       "0.5188262775315814"
      ]
     },
     "execution_count": 54,
     "metadata": {},
     "output_type": "execute_result"
    }
   ],
   "source": [
    "macro_base_3 = macro_f1(f1s_base, weight = weights_3)\n",
    "macro_base_3"
   ]
  },
  {
   "cell_type": "code",
   "execution_count": 55,
   "metadata": {},
   "outputs": [],
   "source": [
    "## Heavier weight on numeric data\n",
    "first_f3 = ['Heavier weight on numeric data', macro_base_3, macro_train_3, None, None]\n",
    "df_f1scores.loc[3] = first_f3"
   ]
  },
  {
   "cell_type": "code",
   "execution_count": 56,
   "metadata": {},
   "outputs": [
    {
     "ename": "NameError",
     "evalue": "name 'variables_train' is not defined",
     "output_type": "error",
     "traceback": [
      "\u001b[0;31m---------------------------------------------------------------------------\u001b[0m",
      "\u001b[0;31mNameError\u001b[0m                                 Traceback (most recent call last)",
      "Cell \u001b[0;32mIn[56], line 1\u001b[0m\n\u001b[0;32m----> 1\u001b[0m \u001b[43mvariables_train\u001b[49m\n",
      "\u001b[0;31mNameError\u001b[0m: name 'variables_train' is not defined"
     ]
    }
   ],
   "source": [
    "variables_train"
   ]
  },
  {
   "cell_type": "code",
   "execution_count": 57,
   "metadata": {},
   "outputs": [],
   "source": [
    "weights_4 = [1, 0, 0, 0, 0, 0, 0, 0, 1, 0, 0, 0, 1, 0, 1]"
   ]
  },
  {
   "cell_type": "code",
   "execution_count": 58,
   "metadata": {},
   "outputs": [
    {
     "data": {
      "text/plain": [
       "0.0"
      ]
     },
     "execution_count": 58,
     "metadata": {},
     "output_type": "execute_result"
    }
   ],
   "source": [
    "macro_train_4 = macro_f1(f1s_train, weight = weights_4)\n",
    "macro_train_4"
   ]
  },
  {
   "cell_type": "code",
   "execution_count": 59,
   "metadata": {},
   "outputs": [
    {
     "data": {
      "text/plain": [
       "0.6320004070004069"
      ]
     },
     "execution_count": 59,
     "metadata": {},
     "output_type": "execute_result"
    }
   ],
   "source": [
    "macro_base_4 = macro_f1(f1s_base, weight = weights_4)\n",
    "macro_base_4"
   ]
  },
  {
   "cell_type": "code",
   "execution_count": 60,
   "metadata": {},
   "outputs": [],
   "source": [
    "## Weight to perform prediction 1\n",
    "first_f4 = ['Weight to perform prediction 1', macro_base_4, macro_train_4, None, None]\n",
    "df_f1scores.loc[4] = first_f4"
   ]
  },
  {
   "cell_type": "code",
   "execution_count": 61,
   "metadata": {},
   "outputs": [
    {
     "ename": "NameError",
     "evalue": "name 'variables_train' is not defined",
     "output_type": "error",
     "traceback": [
      "\u001b[0;31m---------------------------------------------------------------------------\u001b[0m",
      "\u001b[0;31mNameError\u001b[0m                                 Traceback (most recent call last)",
      "Cell \u001b[0;32mIn[61], line 1\u001b[0m\n\u001b[0;32m----> 1\u001b[0m \u001b[43mvariables_train\u001b[49m\n",
      "\u001b[0;31mNameError\u001b[0m: name 'variables_train' is not defined"
     ]
    }
   ],
   "source": [
    "variables_train"
   ]
  },
  {
   "cell_type": "code",
   "execution_count": 62,
   "metadata": {},
   "outputs": [],
   "source": [
    "weights_5 = [1, 0, 0, 0, 0, 0, 0, 0, 1, 0, 0, 1, 1, 1, 1]"
   ]
  },
  {
   "cell_type": "code",
   "execution_count": 63,
   "metadata": {},
   "outputs": [
    {
     "data": {
      "text/plain": [
       "0.0"
      ]
     },
     "execution_count": 63,
     "metadata": {},
     "output_type": "execute_result"
    }
   ],
   "source": [
    "macro_train_5 = macro_f1(f1s_train, weight = weights_5)\n",
    "macro_train_5"
   ]
  },
  {
   "cell_type": "code",
   "execution_count": 64,
   "metadata": {},
   "outputs": [
    {
     "data": {
      "text/plain": [
       "0.5584317222748008"
      ]
     },
     "execution_count": 64,
     "metadata": {},
     "output_type": "execute_result"
    }
   ],
   "source": [
    "macro_base_5 = macro_f1(f1s_base, weight = weights_5)\n",
    "macro_base_5"
   ]
  },
  {
   "cell_type": "code",
   "execution_count": 65,
   "metadata": {},
   "outputs": [],
   "source": [
    "## Weight to perform prediction 2\n",
    "first_f5 = ['Weight to perform prediction 2', macro_base_5, macro_train_5, None, None]\n",
    "df_f1scores.loc[5] = first_f5"
   ]
  },
  {
   "cell_type": "code",
   "execution_count": 66,
   "metadata": {},
   "outputs": [
    {
     "ename": "NameError",
     "evalue": "name 'variables_train' is not defined",
     "output_type": "error",
     "traceback": [
      "\u001b[0;31m---------------------------------------------------------------------------\u001b[0m",
      "\u001b[0;31mNameError\u001b[0m                                 Traceback (most recent call last)",
      "Cell \u001b[0;32mIn[66], line 1\u001b[0m\n\u001b[0;32m----> 1\u001b[0m \u001b[43mvariables_train\u001b[49m\n",
      "\u001b[0;31mNameError\u001b[0m: name 'variables_train' is not defined"
     ]
    }
   ],
   "source": [
    "variables_train"
   ]
  },
  {
   "cell_type": "code",
   "execution_count": 67,
   "metadata": {},
   "outputs": [],
   "source": [
    "weights_6 = [1, 0, 0, 0, 1, 1, 1, 1, 1, 1, 1, 0, 1, 0, 0]"
   ]
  },
  {
   "cell_type": "code",
   "execution_count": 68,
   "metadata": {},
   "outputs": [
    {
     "data": {
      "text/plain": [
       "0.0"
      ]
     },
     "execution_count": 68,
     "metadata": {},
     "output_type": "execute_result"
    }
   ],
   "source": [
    "macro_train_6 = macro_f1(f1s_train, weight = weights_6)\n",
    "macro_train_6"
   ]
  },
  {
   "cell_type": "code",
   "execution_count": 69,
   "metadata": {},
   "outputs": [
    {
     "data": {
      "text/plain": [
       "0.5878477089395123"
      ]
     },
     "execution_count": 69,
     "metadata": {},
     "output_type": "execute_result"
    }
   ],
   "source": [
    "macro_base_6 = macro_f1(f1s_base, weight = weights_6)\n",
    "macro_base_6"
   ]
  },
  {
   "cell_type": "code",
   "execution_count": 70,
   "metadata": {},
   "outputs": [],
   "source": [
    "## Weight to perform prediction 3\n",
    "first_f6 = ['Weight to perform prediction 3', macro_base_6, macro_train_6, None, None]\n",
    "df_f1scores.loc[6] = first_f6"
   ]
  },
  {
   "cell_type": "code",
   "execution_count": 71,
   "metadata": {},
   "outputs": [
    {
     "data": {
      "text/html": [
       "<div>\n",
       "<style scoped>\n",
       "    .dataframe tbody tr th:only-of-type {\n",
       "        vertical-align: middle;\n",
       "    }\n",
       "\n",
       "    .dataframe tbody tr th {\n",
       "        vertical-align: top;\n",
       "    }\n",
       "\n",
       "    .dataframe thead th {\n",
       "        text-align: right;\n",
       "    }\n",
       "</style>\n",
       "<table border=\"1\" class=\"dataframe\">\n",
       "  <thead>\n",
       "    <tr style=\"text-align: right;\">\n",
       "      <th></th>\n",
       "      <th>Macro F1 score weight distribution</th>\n",
       "      <th>Base Deepseek 8bit</th>\n",
       "      <th>Fine-Tuned Deepseek 4 bit</th>\n",
       "      <th>Fine-Tuned Deepseek 8 bit</th>\n",
       "      <th>Llama 3 billion parameter</th>\n",
       "    </tr>\n",
       "  </thead>\n",
       "  <tbody>\n",
       "    <tr>\n",
       "      <th>0</th>\n",
       "      <td>Macro F1 score with equal weight</td>\n",
       "      <td>0.528366</td>\n",
       "      <td>0.0</td>\n",
       "      <td>NaN</td>\n",
       "      <td>NaN</td>\n",
       "    </tr>\n",
       "    <tr>\n",
       "      <th>1</th>\n",
       "      <td>Heavier weight on stability</td>\n",
       "      <td>0.523243</td>\n",
       "      <td>0.0</td>\n",
       "      <td>NaN</td>\n",
       "      <td>NaN</td>\n",
       "    </tr>\n",
       "    <tr>\n",
       "      <th>2</th>\n",
       "      <td>Heavier weight on perovskite structure</td>\n",
       "      <td>0.542547</td>\n",
       "      <td>0.0</td>\n",
       "      <td>NaN</td>\n",
       "      <td>NaN</td>\n",
       "    </tr>\n",
       "    <tr>\n",
       "      <th>3</th>\n",
       "      <td>Heavier weight on numeric data</td>\n",
       "      <td>0.518826</td>\n",
       "      <td>0.0</td>\n",
       "      <td>NaN</td>\n",
       "      <td>NaN</td>\n",
       "    </tr>\n",
       "    <tr>\n",
       "      <th>4</th>\n",
       "      <td>Weight to perform prediction 1</td>\n",
       "      <td>0.632000</td>\n",
       "      <td>0.0</td>\n",
       "      <td>NaN</td>\n",
       "      <td>NaN</td>\n",
       "    </tr>\n",
       "    <tr>\n",
       "      <th>5</th>\n",
       "      <td>Weight to perform prediction 2</td>\n",
       "      <td>0.558432</td>\n",
       "      <td>0.0</td>\n",
       "      <td>NaN</td>\n",
       "      <td>NaN</td>\n",
       "    </tr>\n",
       "    <tr>\n",
       "      <th>6</th>\n",
       "      <td>Weight to perform prediction 3</td>\n",
       "      <td>0.587848</td>\n",
       "      <td>0.0</td>\n",
       "      <td>NaN</td>\n",
       "      <td>NaN</td>\n",
       "    </tr>\n",
       "  </tbody>\n",
       "</table>\n",
       "</div>"
      ],
      "text/plain": [
       "       Macro F1 score weight distribution  Base Deepseek 8bit  \\\n",
       "0        Macro F1 score with equal weight            0.528366   \n",
       "1             Heavier weight on stability            0.523243   \n",
       "2  Heavier weight on perovskite structure            0.542547   \n",
       "3          Heavier weight on numeric data            0.518826   \n",
       "4          Weight to perform prediction 1            0.632000   \n",
       "5          Weight to perform prediction 2            0.558432   \n",
       "6          Weight to perform prediction 3            0.587848   \n",
       "\n",
       "   Fine-Tuned Deepseek 4 bit  Fine-Tuned Deepseek 8 bit  \\\n",
       "0                        0.0                        NaN   \n",
       "1                        0.0                        NaN   \n",
       "2                        0.0                        NaN   \n",
       "3                        0.0                        NaN   \n",
       "4                        0.0                        NaN   \n",
       "5                        0.0                        NaN   \n",
       "6                        0.0                        NaN   \n",
       "\n",
       "   Llama 3 billion parameter  \n",
       "0                        NaN  \n",
       "1                        NaN  \n",
       "2                        NaN  \n",
       "3                        NaN  \n",
       "4                        NaN  \n",
       "5                        NaN  \n",
       "6                        NaN  "
      ]
     },
     "execution_count": 71,
     "metadata": {},
     "output_type": "execute_result"
    }
   ],
   "source": [
    "df_f1scores"
   ]
  },
  {
   "cell_type": "markdown",
   "metadata": {},
   "source": [
    "### Different weight to consider\n",
    "- Unweight\n",
    "- Heavier weight on stability\n",
    "- Heavier weight on perovskite structure\n",
    "- Heavier weight on numeric data\n",
    "- Weight to perform prediction 1\n",
    "- Weight to perform prediction 2\n",
    "- Weight to perform prediction 3"
   ]
  },
  {
   "cell_type": "markdown",
   "metadata": {},
   "source": []
  },
  {
   "cell_type": "markdown",
   "metadata": {},
   "source": []
  }
 ],
 "metadata": {
  "kernelspec": {
   "display_name": "base",
   "language": "python",
   "name": "python3"
  },
  "language_info": {
   "codemirror_mode": {
    "name": "ipython",
    "version": 3
   },
   "file_extension": ".py",
   "mimetype": "text/x-python",
   "name": "python",
   "nbconvert_exporter": "python",
   "pygments_lexer": "ipython3",
   "version": "3.10.9"
  }
 },
 "nbformat": 4,
 "nbformat_minor": 2
}
