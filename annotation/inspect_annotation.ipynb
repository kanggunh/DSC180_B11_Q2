{
 "cells": [
  {
   "cell_type": "markdown",
   "metadata": {},
   "source": [
    "## This was a notebook used to find any error or inconsistencies in TeamTat annotation"
   ]
  },
  {
   "cell_type": "code",
   "execution_count": 1,
   "metadata": {},
   "outputs": [],
   "source": [
    "import pandas as pd \n",
    "import numpy as np"
   ]
  },
  {
   "cell_type": "code",
   "execution_count": 2,
   "metadata": {},
   "outputs": [
    {
     "ename": "FileNotFoundError",
     "evalue": "[Errno 2] No such file or directory: 'data/df_expanded.csv'",
     "output_type": "error",
     "traceback": [
      "\u001b[1;31m---------------------------------------------------------------------------\u001b[0m",
      "\u001b[1;31mFileNotFoundError\u001b[0m                         Traceback (most recent call last)",
      "Cell \u001b[1;32mIn[2], line 1\u001b[0m\n\u001b[1;32m----> 1\u001b[0m annotation \u001b[38;5;241m=\u001b[39m \u001b[43mpd\u001b[49m\u001b[38;5;241;43m.\u001b[39;49m\u001b[43mread_csv\u001b[49m\u001b[43m(\u001b[49m\u001b[38;5;124;43m\"\u001b[39;49m\u001b[38;5;124;43mdata/df_expanded.csv\u001b[39;49m\u001b[38;5;124;43m\"\u001b[39;49m\u001b[43m)\u001b[49m\n\u001b[0;32m      2\u001b[0m annotation\n",
      "File \u001b[1;32mc:\\Users\\Luna\\anaconda3\\envs\\dsc80\\lib\\site-packages\\pandas\\util\\_decorators.py:311\u001b[0m, in \u001b[0;36mdeprecate_nonkeyword_arguments.<locals>.decorate.<locals>.wrapper\u001b[1;34m(*args, **kwargs)\u001b[0m\n\u001b[0;32m    305\u001b[0m \u001b[38;5;28;01mif\u001b[39;00m \u001b[38;5;28mlen\u001b[39m(args) \u001b[38;5;241m>\u001b[39m num_allow_args:\n\u001b[0;32m    306\u001b[0m     warnings\u001b[38;5;241m.\u001b[39mwarn(\n\u001b[0;32m    307\u001b[0m         msg\u001b[38;5;241m.\u001b[39mformat(arguments\u001b[38;5;241m=\u001b[39marguments),\n\u001b[0;32m    308\u001b[0m         \u001b[38;5;167;01mFutureWarning\u001b[39;00m,\n\u001b[0;32m    309\u001b[0m         stacklevel\u001b[38;5;241m=\u001b[39mstacklevel,\n\u001b[0;32m    310\u001b[0m     )\n\u001b[1;32m--> 311\u001b[0m \u001b[38;5;28;01mreturn\u001b[39;00m \u001b[43mfunc\u001b[49m\u001b[43m(\u001b[49m\u001b[38;5;241;43m*\u001b[39;49m\u001b[43margs\u001b[49m\u001b[43m,\u001b[49m\u001b[43m \u001b[49m\u001b[38;5;241;43m*\u001b[39;49m\u001b[38;5;241;43m*\u001b[39;49m\u001b[43mkwargs\u001b[49m\u001b[43m)\u001b[49m\n",
      "File \u001b[1;32mc:\\Users\\Luna\\anaconda3\\envs\\dsc80\\lib\\site-packages\\pandas\\io\\parsers\\readers.py:586\u001b[0m, in \u001b[0;36mread_csv\u001b[1;34m(filepath_or_buffer, sep, delimiter, header, names, index_col, usecols, squeeze, prefix, mangle_dupe_cols, dtype, engine, converters, true_values, false_values, skipinitialspace, skiprows, skipfooter, nrows, na_values, keep_default_na, na_filter, verbose, skip_blank_lines, parse_dates, infer_datetime_format, keep_date_col, date_parser, dayfirst, cache_dates, iterator, chunksize, compression, thousands, decimal, lineterminator, quotechar, quoting, doublequote, escapechar, comment, encoding, encoding_errors, dialect, error_bad_lines, warn_bad_lines, on_bad_lines, delim_whitespace, low_memory, memory_map, float_precision, storage_options)\u001b[0m\n\u001b[0;32m    571\u001b[0m kwds_defaults \u001b[38;5;241m=\u001b[39m _refine_defaults_read(\n\u001b[0;32m    572\u001b[0m     dialect,\n\u001b[0;32m    573\u001b[0m     delimiter,\n\u001b[1;32m   (...)\u001b[0m\n\u001b[0;32m    582\u001b[0m     defaults\u001b[38;5;241m=\u001b[39m{\u001b[38;5;124m\"\u001b[39m\u001b[38;5;124mdelimiter\u001b[39m\u001b[38;5;124m\"\u001b[39m: \u001b[38;5;124m\"\u001b[39m\u001b[38;5;124m,\u001b[39m\u001b[38;5;124m\"\u001b[39m},\n\u001b[0;32m    583\u001b[0m )\n\u001b[0;32m    584\u001b[0m kwds\u001b[38;5;241m.\u001b[39mupdate(kwds_defaults)\n\u001b[1;32m--> 586\u001b[0m \u001b[38;5;28;01mreturn\u001b[39;00m \u001b[43m_read\u001b[49m\u001b[43m(\u001b[49m\u001b[43mfilepath_or_buffer\u001b[49m\u001b[43m,\u001b[49m\u001b[43m \u001b[49m\u001b[43mkwds\u001b[49m\u001b[43m)\u001b[49m\n",
      "File \u001b[1;32mc:\\Users\\Luna\\anaconda3\\envs\\dsc80\\lib\\site-packages\\pandas\\io\\parsers\\readers.py:482\u001b[0m, in \u001b[0;36m_read\u001b[1;34m(filepath_or_buffer, kwds)\u001b[0m\n\u001b[0;32m    479\u001b[0m _validate_names(kwds\u001b[38;5;241m.\u001b[39mget(\u001b[38;5;124m\"\u001b[39m\u001b[38;5;124mnames\u001b[39m\u001b[38;5;124m\"\u001b[39m, \u001b[38;5;28;01mNone\u001b[39;00m))\n\u001b[0;32m    481\u001b[0m \u001b[38;5;66;03m# Create the parser.\u001b[39;00m\n\u001b[1;32m--> 482\u001b[0m parser \u001b[38;5;241m=\u001b[39m \u001b[43mTextFileReader\u001b[49m\u001b[43m(\u001b[49m\u001b[43mfilepath_or_buffer\u001b[49m\u001b[43m,\u001b[49m\u001b[43m \u001b[49m\u001b[38;5;241;43m*\u001b[39;49m\u001b[38;5;241;43m*\u001b[39;49m\u001b[43mkwds\u001b[49m\u001b[43m)\u001b[49m\n\u001b[0;32m    484\u001b[0m \u001b[38;5;28;01mif\u001b[39;00m chunksize \u001b[38;5;129;01mor\u001b[39;00m iterator:\n\u001b[0;32m    485\u001b[0m     \u001b[38;5;28;01mreturn\u001b[39;00m parser\n",
      "File \u001b[1;32mc:\\Users\\Luna\\anaconda3\\envs\\dsc80\\lib\\site-packages\\pandas\\io\\parsers\\readers.py:811\u001b[0m, in \u001b[0;36mTextFileReader.__init__\u001b[1;34m(self, f, engine, **kwds)\u001b[0m\n\u001b[0;32m    808\u001b[0m \u001b[38;5;28;01mif\u001b[39;00m \u001b[38;5;124m\"\u001b[39m\u001b[38;5;124mhas_index_names\u001b[39m\u001b[38;5;124m\"\u001b[39m \u001b[38;5;129;01min\u001b[39;00m kwds:\n\u001b[0;32m    809\u001b[0m     \u001b[38;5;28mself\u001b[39m\u001b[38;5;241m.\u001b[39moptions[\u001b[38;5;124m\"\u001b[39m\u001b[38;5;124mhas_index_names\u001b[39m\u001b[38;5;124m\"\u001b[39m] \u001b[38;5;241m=\u001b[39m kwds[\u001b[38;5;124m\"\u001b[39m\u001b[38;5;124mhas_index_names\u001b[39m\u001b[38;5;124m\"\u001b[39m]\n\u001b[1;32m--> 811\u001b[0m \u001b[38;5;28mself\u001b[39m\u001b[38;5;241m.\u001b[39m_engine \u001b[38;5;241m=\u001b[39m \u001b[38;5;28;43mself\u001b[39;49m\u001b[38;5;241;43m.\u001b[39;49m\u001b[43m_make_engine\u001b[49m\u001b[43m(\u001b[49m\u001b[38;5;28;43mself\u001b[39;49m\u001b[38;5;241;43m.\u001b[39;49m\u001b[43mengine\u001b[49m\u001b[43m)\u001b[49m\n",
      "File \u001b[1;32mc:\\Users\\Luna\\anaconda3\\envs\\dsc80\\lib\\site-packages\\pandas\\io\\parsers\\readers.py:1040\u001b[0m, in \u001b[0;36mTextFileReader._make_engine\u001b[1;34m(self, engine)\u001b[0m\n\u001b[0;32m   1036\u001b[0m     \u001b[38;5;28;01mraise\u001b[39;00m \u001b[38;5;167;01mValueError\u001b[39;00m(\n\u001b[0;32m   1037\u001b[0m         \u001b[38;5;124mf\u001b[39m\u001b[38;5;124m\"\u001b[39m\u001b[38;5;124mUnknown engine: \u001b[39m\u001b[38;5;132;01m{\u001b[39;00mengine\u001b[38;5;132;01m}\u001b[39;00m\u001b[38;5;124m (valid options are \u001b[39m\u001b[38;5;132;01m{\u001b[39;00mmapping\u001b[38;5;241m.\u001b[39mkeys()\u001b[38;5;132;01m}\u001b[39;00m\u001b[38;5;124m)\u001b[39m\u001b[38;5;124m\"\u001b[39m\n\u001b[0;32m   1038\u001b[0m     )\n\u001b[0;32m   1039\u001b[0m \u001b[38;5;66;03m# error: Too many arguments for \"ParserBase\"\u001b[39;00m\n\u001b[1;32m-> 1040\u001b[0m \u001b[38;5;28;01mreturn\u001b[39;00m \u001b[43mmapping\u001b[49m\u001b[43m[\u001b[49m\u001b[43mengine\u001b[49m\u001b[43m]\u001b[49m\u001b[43m(\u001b[49m\u001b[38;5;28;43mself\u001b[39;49m\u001b[38;5;241;43m.\u001b[39;49m\u001b[43mf\u001b[49m\u001b[43m,\u001b[49m\u001b[43m \u001b[49m\u001b[38;5;241;43m*\u001b[39;49m\u001b[38;5;241;43m*\u001b[39;49m\u001b[38;5;28;43mself\u001b[39;49m\u001b[38;5;241;43m.\u001b[39;49m\u001b[43moptions\u001b[49m\u001b[43m)\u001b[49m\n",
      "File \u001b[1;32mc:\\Users\\Luna\\anaconda3\\envs\\dsc80\\lib\\site-packages\\pandas\\io\\parsers\\c_parser_wrapper.py:51\u001b[0m, in \u001b[0;36mCParserWrapper.__init__\u001b[1;34m(self, src, **kwds)\u001b[0m\n\u001b[0;32m     48\u001b[0m kwds[\u001b[38;5;124m\"\u001b[39m\u001b[38;5;124musecols\u001b[39m\u001b[38;5;124m\"\u001b[39m] \u001b[38;5;241m=\u001b[39m \u001b[38;5;28mself\u001b[39m\u001b[38;5;241m.\u001b[39musecols\n\u001b[0;32m     50\u001b[0m \u001b[38;5;66;03m# open handles\u001b[39;00m\n\u001b[1;32m---> 51\u001b[0m \u001b[38;5;28;43mself\u001b[39;49m\u001b[38;5;241;43m.\u001b[39;49m\u001b[43m_open_handles\u001b[49m\u001b[43m(\u001b[49m\u001b[43msrc\u001b[49m\u001b[43m,\u001b[49m\u001b[43m \u001b[49m\u001b[43mkwds\u001b[49m\u001b[43m)\u001b[49m\n\u001b[0;32m     52\u001b[0m \u001b[38;5;28;01massert\u001b[39;00m \u001b[38;5;28mself\u001b[39m\u001b[38;5;241m.\u001b[39mhandles \u001b[38;5;129;01mis\u001b[39;00m \u001b[38;5;129;01mnot\u001b[39;00m \u001b[38;5;28;01mNone\u001b[39;00m\n\u001b[0;32m     54\u001b[0m \u001b[38;5;66;03m# Have to pass int, would break tests using TextReader directly otherwise :(\u001b[39;00m\n",
      "File \u001b[1;32mc:\\Users\\Luna\\anaconda3\\envs\\dsc80\\lib\\site-packages\\pandas\\io\\parsers\\base_parser.py:222\u001b[0m, in \u001b[0;36mParserBase._open_handles\u001b[1;34m(self, src, kwds)\u001b[0m\n\u001b[0;32m    218\u001b[0m \u001b[38;5;28;01mdef\u001b[39;00m \u001b[38;5;21m_open_handles\u001b[39m(\u001b[38;5;28mself\u001b[39m, src: FilePathOrBuffer, kwds: \u001b[38;5;28mdict\u001b[39m[\u001b[38;5;28mstr\u001b[39m, Any]) \u001b[38;5;241m-\u001b[39m\u001b[38;5;241m>\u001b[39m \u001b[38;5;28;01mNone\u001b[39;00m:\n\u001b[0;32m    219\u001b[0m \u001b[38;5;250m    \u001b[39m\u001b[38;5;124;03m\"\"\"\u001b[39;00m\n\u001b[0;32m    220\u001b[0m \u001b[38;5;124;03m    Let the readers open IOHandles after they are done with their potential raises.\u001b[39;00m\n\u001b[0;32m    221\u001b[0m \u001b[38;5;124;03m    \"\"\"\u001b[39;00m\n\u001b[1;32m--> 222\u001b[0m     \u001b[38;5;28mself\u001b[39m\u001b[38;5;241m.\u001b[39mhandles \u001b[38;5;241m=\u001b[39m \u001b[43mget_handle\u001b[49m\u001b[43m(\u001b[49m\n\u001b[0;32m    223\u001b[0m \u001b[43m        \u001b[49m\u001b[43msrc\u001b[49m\u001b[43m,\u001b[49m\n\u001b[0;32m    224\u001b[0m \u001b[43m        \u001b[49m\u001b[38;5;124;43m\"\u001b[39;49m\u001b[38;5;124;43mr\u001b[39;49m\u001b[38;5;124;43m\"\u001b[39;49m\u001b[43m,\u001b[49m\n\u001b[0;32m    225\u001b[0m \u001b[43m        \u001b[49m\u001b[43mencoding\u001b[49m\u001b[38;5;241;43m=\u001b[39;49m\u001b[43mkwds\u001b[49m\u001b[38;5;241;43m.\u001b[39;49m\u001b[43mget\u001b[49m\u001b[43m(\u001b[49m\u001b[38;5;124;43m\"\u001b[39;49m\u001b[38;5;124;43mencoding\u001b[39;49m\u001b[38;5;124;43m\"\u001b[39;49m\u001b[43m,\u001b[49m\u001b[43m \u001b[49m\u001b[38;5;28;43;01mNone\u001b[39;49;00m\u001b[43m)\u001b[49m\u001b[43m,\u001b[49m\n\u001b[0;32m    226\u001b[0m \u001b[43m        \u001b[49m\u001b[43mcompression\u001b[49m\u001b[38;5;241;43m=\u001b[39;49m\u001b[43mkwds\u001b[49m\u001b[38;5;241;43m.\u001b[39;49m\u001b[43mget\u001b[49m\u001b[43m(\u001b[49m\u001b[38;5;124;43m\"\u001b[39;49m\u001b[38;5;124;43mcompression\u001b[39;49m\u001b[38;5;124;43m\"\u001b[39;49m\u001b[43m,\u001b[49m\u001b[43m \u001b[49m\u001b[38;5;28;43;01mNone\u001b[39;49;00m\u001b[43m)\u001b[49m\u001b[43m,\u001b[49m\n\u001b[0;32m    227\u001b[0m \u001b[43m        \u001b[49m\u001b[43mmemory_map\u001b[49m\u001b[38;5;241;43m=\u001b[39;49m\u001b[43mkwds\u001b[49m\u001b[38;5;241;43m.\u001b[39;49m\u001b[43mget\u001b[49m\u001b[43m(\u001b[49m\u001b[38;5;124;43m\"\u001b[39;49m\u001b[38;5;124;43mmemory_map\u001b[39;49m\u001b[38;5;124;43m\"\u001b[39;49m\u001b[43m,\u001b[49m\u001b[43m \u001b[49m\u001b[38;5;28;43;01mFalse\u001b[39;49;00m\u001b[43m)\u001b[49m\u001b[43m,\u001b[49m\n\u001b[0;32m    228\u001b[0m \u001b[43m        \u001b[49m\u001b[43mstorage_options\u001b[49m\u001b[38;5;241;43m=\u001b[39;49m\u001b[43mkwds\u001b[49m\u001b[38;5;241;43m.\u001b[39;49m\u001b[43mget\u001b[49m\u001b[43m(\u001b[49m\u001b[38;5;124;43m\"\u001b[39;49m\u001b[38;5;124;43mstorage_options\u001b[39;49m\u001b[38;5;124;43m\"\u001b[39;49m\u001b[43m,\u001b[49m\u001b[43m \u001b[49m\u001b[38;5;28;43;01mNone\u001b[39;49;00m\u001b[43m)\u001b[49m\u001b[43m,\u001b[49m\n\u001b[0;32m    229\u001b[0m \u001b[43m        \u001b[49m\u001b[43merrors\u001b[49m\u001b[38;5;241;43m=\u001b[39;49m\u001b[43mkwds\u001b[49m\u001b[38;5;241;43m.\u001b[39;49m\u001b[43mget\u001b[49m\u001b[43m(\u001b[49m\u001b[38;5;124;43m\"\u001b[39;49m\u001b[38;5;124;43mencoding_errors\u001b[39;49m\u001b[38;5;124;43m\"\u001b[39;49m\u001b[43m,\u001b[49m\u001b[43m \u001b[49m\u001b[38;5;124;43m\"\u001b[39;49m\u001b[38;5;124;43mstrict\u001b[39;49m\u001b[38;5;124;43m\"\u001b[39;49m\u001b[43m)\u001b[49m\u001b[43m,\u001b[49m\n\u001b[0;32m    230\u001b[0m \u001b[43m    \u001b[49m\u001b[43m)\u001b[49m\n",
      "File \u001b[1;32mc:\\Users\\Luna\\anaconda3\\envs\\dsc80\\lib\\site-packages\\pandas\\io\\common.py:702\u001b[0m, in \u001b[0;36mget_handle\u001b[1;34m(path_or_buf, mode, encoding, compression, memory_map, is_text, errors, storage_options)\u001b[0m\n\u001b[0;32m    697\u001b[0m \u001b[38;5;28;01melif\u001b[39;00m \u001b[38;5;28misinstance\u001b[39m(handle, \u001b[38;5;28mstr\u001b[39m):\n\u001b[0;32m    698\u001b[0m     \u001b[38;5;66;03m# Check whether the filename is to be opened in binary mode.\u001b[39;00m\n\u001b[0;32m    699\u001b[0m     \u001b[38;5;66;03m# Binary mode does not support 'encoding' and 'newline'.\u001b[39;00m\n\u001b[0;32m    700\u001b[0m     \u001b[38;5;28;01mif\u001b[39;00m ioargs\u001b[38;5;241m.\u001b[39mencoding \u001b[38;5;129;01mand\u001b[39;00m \u001b[38;5;124m\"\u001b[39m\u001b[38;5;124mb\u001b[39m\u001b[38;5;124m\"\u001b[39m \u001b[38;5;129;01mnot\u001b[39;00m \u001b[38;5;129;01min\u001b[39;00m ioargs\u001b[38;5;241m.\u001b[39mmode:\n\u001b[0;32m    701\u001b[0m         \u001b[38;5;66;03m# Encoding\u001b[39;00m\n\u001b[1;32m--> 702\u001b[0m         handle \u001b[38;5;241m=\u001b[39m \u001b[38;5;28;43mopen\u001b[39;49m\u001b[43m(\u001b[49m\n\u001b[0;32m    703\u001b[0m \u001b[43m            \u001b[49m\u001b[43mhandle\u001b[49m\u001b[43m,\u001b[49m\n\u001b[0;32m    704\u001b[0m \u001b[43m            \u001b[49m\u001b[43mioargs\u001b[49m\u001b[38;5;241;43m.\u001b[39;49m\u001b[43mmode\u001b[49m\u001b[43m,\u001b[49m\n\u001b[0;32m    705\u001b[0m \u001b[43m            \u001b[49m\u001b[43mencoding\u001b[49m\u001b[38;5;241;43m=\u001b[39;49m\u001b[43mioargs\u001b[49m\u001b[38;5;241;43m.\u001b[39;49m\u001b[43mencoding\u001b[49m\u001b[43m,\u001b[49m\n\u001b[0;32m    706\u001b[0m \u001b[43m            \u001b[49m\u001b[43merrors\u001b[49m\u001b[38;5;241;43m=\u001b[39;49m\u001b[43merrors\u001b[49m\u001b[43m,\u001b[49m\n\u001b[0;32m    707\u001b[0m \u001b[43m            \u001b[49m\u001b[43mnewline\u001b[49m\u001b[38;5;241;43m=\u001b[39;49m\u001b[38;5;124;43m\"\u001b[39;49m\u001b[38;5;124;43m\"\u001b[39;49m\u001b[43m,\u001b[49m\n\u001b[0;32m    708\u001b[0m \u001b[43m        \u001b[49m\u001b[43m)\u001b[49m\n\u001b[0;32m    709\u001b[0m     \u001b[38;5;28;01melse\u001b[39;00m:\n\u001b[0;32m    710\u001b[0m         \u001b[38;5;66;03m# Binary mode\u001b[39;00m\n\u001b[0;32m    711\u001b[0m         handle \u001b[38;5;241m=\u001b[39m \u001b[38;5;28mopen\u001b[39m(handle, ioargs\u001b[38;5;241m.\u001b[39mmode)\n",
      "\u001b[1;31mFileNotFoundError\u001b[0m: [Errno 2] No such file or directory: 'data/df_expanded.csv'"
     ]
    }
   ],
   "source": [
    "annotation = pd.read_csv(\"data/df_expanded.csv\")\n",
    "annotation"
   ]
  },
  {
   "cell_type": "code",
   "execution_count": 4,
   "metadata": {},
   "outputs": [
    {
     "name": "stdout",
     "output_type": "stream",
     "text": [
      "0.9\n",
      "0.95\n",
      "0.8\n",
      "1.0\n",
      "0.92\n",
      "0.96\n",
      "0.91\n",
      "0.98\n",
      "0.85\n",
      "0.94\n",
      "0.97\n",
      "0.86\n",
      "0.99\n",
      "0.93\n",
      "0.75\n",
      "0.74\n",
      "0.88\n",
      "0.82\n",
      "0.87\n",
      "0.6\n",
      "0.53\n",
      "0.67\n",
      "98.9\n",
      "0.89\n",
      "0.72\n",
      "0.45\n",
      "0.65\n",
      "95.0\n",
      "0.47\n",
      "96.7\n",
      "0.83\n",
      "0.81\n",
      "0.35\n",
      "0.73\n",
      "0.84\n",
      "1.02\n",
      "0.71\n"
     ]
    }
   ],
   "source": [
    "data_inspect = annotation['efficiency_tret'].value_counts()\n",
    "\n",
    "for index, value in data_inspect.iteritems():\n",
    "    print(index)\n"
   ]
  },
  {
   "cell_type": "markdown",
   "metadata": {},
   "source": [
    "## Noting any weird value in each column"
   ]
  },
  {
   "cell_type": "markdown",
   "metadata": {},
   "source": [
    "# efficiency_tret"
   ]
  },
  {
   "cell_type": "code",
   "execution_count": 52,
   "metadata": {},
   "outputs": [
    {
     "name": "stdout",
     "output_type": "stream",
     "text": [
      "0.9\n",
      "0.95\n",
      "0.8\n",
      "1.0\n",
      "0.92\n",
      "0.96\n",
      "0.91\n",
      "0.98\n",
      "0.85\n",
      "0.94\n",
      "0.97\n",
      "0.86\n",
      "0.99\n",
      "0.93\n",
      "0.75\n",
      "0.74\n",
      "0.88\n",
      "0.82\n",
      "0.87\n",
      "0.6\n",
      "0.53\n",
      "0.67\n",
      "98.9\n",
      "0.89\n",
      "0.72\n",
      "0.45\n",
      "0.65\n",
      "95.0\n",
      "0.47\n",
      "96.7\n",
      "0.83\n",
      "0.81\n",
      "0.35\n",
      "0.73\n",
      "0.84\n",
      "1.02\n",
      "0.71\n"
     ]
    }
   ],
   "source": [
    "data_inspect = annotation['efficiency_tret'].value_counts()\n",
    "\n",
    "for index, value in data_inspect.iteritems():\n",
    "    print(index)"
   ]
  },
  {
   "cell_type": "markdown",
   "metadata": {},
   "source": [
    "efficiency_tret\n",
    "- 96.7\n",
    "- 98.9\n",
    "- 1.02"
   ]
  },
  {
   "cell_type": "code",
   "execution_count": null,
   "metadata": {},
   "outputs": [],
   "source": [
    "efficiency_tret = annotation[[\"first_num\",\"efficiency_tret\"]]\n",
    "efficiency_tret = efficiency_tret[efficiency_tret['efficiency_tret'] == 0.89]\n",
    "efficiency_tret"
   ]
  },
  {
   "cell_type": "markdown",
   "metadata": {},
   "source": [
    "# efficiency_cont"
   ]
  },
  {
   "cell_type": "code",
   "execution_count": 41,
   "metadata": {},
   "outputs": [
    {
     "name": "stdout",
     "output_type": "stream",
     "text": [
      "0.6\n",
      "0.5\n",
      "0.7\n",
      "0.4\n",
      "0.8\n",
      "0.0\n",
      "0.58\n",
      "0.65\n",
      "0.27\n",
      "0.68\n",
      "0.63\n",
      "0.84\n",
      "0.75\n",
      "0.3\n",
      "0.2\n",
      "0.38\n",
      "0.71\n",
      "0.76\n",
      "0.85\n",
      "0.57\n",
      "0.77\n",
      "0.87\n",
      "0.16\n",
      "0.55\n",
      "0.73\n",
      "0.9\n",
      "0.83\n",
      "0.56\n",
      "0.82\n",
      "0.78\n",
      "0.98\n",
      "0.1\n",
      "0.89\n",
      "0.96\n",
      "0.92\n",
      "0.29\n",
      "0.51\n",
      "0.47\n",
      "0.74\n",
      "0.95\n",
      "0.94\n",
      "0.09\n",
      "0.25\n",
      "0.67\n",
      "0.59\n",
      "0.49\n",
      "0.32\n",
      "0.93\n",
      "0.44\n",
      "0.66\n"
     ]
    }
   ],
   "source": [
    "data_inspect = annotation['efficiency_cont'].value_counts()\n",
    "\n",
    "for index, value in data_inspect.iteritems():\n",
    "    print(index)"
   ]
  },
  {
   "cell_type": "markdown",
   "metadata": {},
   "source": [
    "efficiency_cont\n",
    "- 0.1\n",
    "- 0.96\n",
    "- 0.89\n",
    "- 0.82\n"
   ]
  },
  {
   "cell_type": "code",
   "execution_count": 45,
   "metadata": {},
   "outputs": [
    {
     "data": {
      "text/html": [
       "<div>\n",
       "<style scoped>\n",
       "    .dataframe tbody tr th:only-of-type {\n",
       "        vertical-align: middle;\n",
       "    }\n",
       "\n",
       "    .dataframe tbody tr th {\n",
       "        vertical-align: top;\n",
       "    }\n",
       "\n",
       "    .dataframe thead th {\n",
       "        text-align: right;\n",
       "    }\n",
       "</style>\n",
       "<table border=\"1\" class=\"dataframe\">\n",
       "  <thead>\n",
       "    <tr style=\"text-align: right;\">\n",
       "      <th></th>\n",
       "      <th>first_num</th>\n",
       "      <th>efficiency_cont</th>\n",
       "    </tr>\n",
       "  </thead>\n",
       "  <tbody>\n",
       "    <tr>\n",
       "      <th>228</th>\n",
       "      <td>146</td>\n",
       "      <td>0.89</td>\n",
       "    </tr>\n",
       "  </tbody>\n",
       "</table>\n",
       "</div>"
      ],
      "text/plain": [
       "     first_num  efficiency_cont\n",
       "228        146             0.89"
      ]
     },
     "execution_count": 45,
     "metadata": {},
     "output_type": "execute_result"
    }
   ],
   "source": [
    "efficiency_cont = annotation[[\"first_num\",\"efficiency_cont\"]]\n",
    "efficiency_cont = efficiency_cont[efficiency_cont['efficiency_cont'] == 0.89]\n",
    "efficiency_cont"
   ]
  },
  {
   "cell_type": "markdown",
   "metadata": {},
   "source": [
    "# temperature"
   ]
  },
  {
   "cell_type": "code",
   "execution_count": 29,
   "metadata": {},
   "outputs": [
    {
     "name": "stdout",
     "output_type": "stream",
     "text": [
      "85.0\n",
      "25.0\n",
      "65.0\n",
      "60.0\n",
      "40.0\n",
      "50.0\n",
      "55.0\n",
      "80.0\n",
      "35.0\n",
      "150.0\n",
      "75.0\n",
      "250.0\n",
      "120.0\n",
      "254.0\n",
      "70.0\n",
      "30.0\n",
      "508.0\n",
      "450.0\n",
      "45.0\n",
      "23.0\n",
      "28.0\n",
      "20.0\n",
      "21.0\n",
      "100.0\n",
      "27.0\n",
      "52.0\n",
      "110.0\n",
      "2000.0\n"
     ]
    }
   ],
   "source": [
    "data_inspect = annotation['temperature'].value_counts()\n",
    "\n",
    "for index, value in data_inspect.iteritems():\n",
    "    print(index)"
   ]
  },
  {
   "cell_type": "markdown",
   "metadata": {},
   "source": [
    "temperature\n",
    "- 2000.0\n",
    "- 508.0\n",
    "- 150.0\n",
    "- 450.0\n",
    "- 250.0\n",
    "- 120.0\n",
    "- 254.0\n",
    "- 110\n",
    "- 100"
   ]
  },
  {
   "cell_type": "code",
   "execution_count": 39,
   "metadata": {},
   "outputs": [
    {
     "data": {
      "text/html": [
       "<div>\n",
       "<style scoped>\n",
       "    .dataframe tbody tr th:only-of-type {\n",
       "        vertical-align: middle;\n",
       "    }\n",
       "\n",
       "    .dataframe tbody tr th {\n",
       "        vertical-align: top;\n",
       "    }\n",
       "\n",
       "    .dataframe thead th {\n",
       "        text-align: right;\n",
       "    }\n",
       "</style>\n",
       "<table border=\"1\" class=\"dataframe\">\n",
       "  <thead>\n",
       "    <tr style=\"text-align: right;\">\n",
       "      <th></th>\n",
       "      <th>first_num</th>\n",
       "      <th>temperature</th>\n",
       "    </tr>\n",
       "  </thead>\n",
       "  <tbody>\n",
       "    <tr>\n",
       "      <th>73</th>\n",
       "      <td>63</td>\n",
       "      <td>100.0</td>\n",
       "    </tr>\n",
       "  </tbody>\n",
       "</table>\n",
       "</div>"
      ],
      "text/plain": [
       "    first_num  temperature\n",
       "73         63        100.0"
      ]
     },
     "execution_count": 39,
     "metadata": {},
     "output_type": "execute_result"
    }
   ],
   "source": [
    "temperature = annotation[[\"first_num\",\"temperature\"]]\n",
    "temperature = temperature[temperature['temperature'] == 100]\n",
    "temperature"
   ]
  },
  {
   "cell_type": "markdown",
   "metadata": {},
   "source": [
    "# humidity"
   ]
  },
  {
   "cell_type": "code",
   "execution_count": 5,
   "metadata": {},
   "outputs": [
    {
     "name": "stdout",
     "output_type": "stream",
     "text": [
      "85.0\n",
      "50.0\n",
      "25.0\n",
      "65.0\n",
      "20.0\n",
      "30.0\n",
      "60.0\n",
      "40.0\n",
      "55.0\n",
      "152.0\n",
      "203.0\n",
      "75.0\n",
      "304.0\n",
      "255.0\n",
      "70.0\n",
      "507.0\n",
      "506.0\n",
      "37.0\n",
      "0.25\n",
      "0.85\n",
      "558.0\n",
      "601.0\n",
      "5.0\n",
      "80.0\n",
      "405.0\n",
      "305.0\n"
     ]
    }
   ],
   "source": [
    "data_inspect = annotation['humidity'].value_counts()\n",
    "\n",
    "for index, value in data_inspect.iteritems():\n",
    "    print(index)"
   ]
  },
  {
   "cell_type": "markdown",
   "metadata": {},
   "source": [
    "humidity\n",
    "- 152.0\n",
    "- 203.0\n",
    "- 304.0\n",
    "- 255.0\n",
    "- 507.0\n",
    "- 506.0\n",
    "- 0.25\n",
    "- 558.0\n",
    "- 601.0\n",
    "- 0.85\n",
    "- 5.0\n",
    "- 405.0\n",
    "- 305.0"
   ]
  },
  {
   "cell_type": "code",
   "execution_count": 26,
   "metadata": {},
   "outputs": [
    {
     "data": {
      "text/html": [
       "<div>\n",
       "<style scoped>\n",
       "    .dataframe tbody tr th:only-of-type {\n",
       "        vertical-align: middle;\n",
       "    }\n",
       "\n",
       "    .dataframe tbody tr th {\n",
       "        vertical-align: top;\n",
       "    }\n",
       "\n",
       "    .dataframe thead th {\n",
       "        text-align: right;\n",
       "    }\n",
       "</style>\n",
       "<table border=\"1\" class=\"dataframe\">\n",
       "  <thead>\n",
       "    <tr style=\"text-align: right;\">\n",
       "      <th></th>\n",
       "      <th>first_num</th>\n",
       "      <th>humidity</th>\n",
       "    </tr>\n",
       "  </thead>\n",
       "  <tbody>\n",
       "    <tr>\n",
       "      <th>233</th>\n",
       "      <td>149</td>\n",
       "      <td>305.0</td>\n",
       "    </tr>\n",
       "  </tbody>\n",
       "</table>\n",
       "</div>"
      ],
      "text/plain": [
       "     first_num  humidity\n",
       "233        149     305.0"
      ]
     },
     "execution_count": 26,
     "metadata": {},
     "output_type": "execute_result"
    }
   ],
   "source": [
    "humidity = annotation[[\"first_num\",\"humidity\"]]\n",
    "humidity = humidity[humidity['humidity'] == 305]\n",
    "humidity"
   ]
  },
  {
   "cell_type": "markdown",
   "metadata": {},
   "source": [
    "# Passivating Molecule"
   ]
  },
  {
   "cell_type": "code",
   "execution_count": 96,
   "metadata": {},
   "outputs": [
    {
     "name": "stdout",
     "output_type": "stream",
     "text": [
      "methylammonium lead iodide\n",
      "ISOSLT\n",
      "fluorophenylethylammonium iodide\n",
      "butylammonium\n",
      "oleylammonium iodide\n",
      "poly(methyl methacrylate)\n",
      "NIP\n",
      "phenylethylammonium iodide\n",
      "(EDBE)PbI 4\n",
      "4-fluoroaniline\n",
      "europium ion pair\n",
      "MAPbI 3\n",
      "FAPbI3\n",
      "carbazole-triphenylamine and phenylammonium iodide units\n",
      "formamidinium (FA)\n",
      "HTAB\n",
      "FA0.5MA0.5PbI3\n",
      "quanternary ammonium halides\n",
      "4-tert-butyl-benzylammonium iodide\n",
      "Methylammonium Lead Bromide\n",
      "(phenethylamino)methaniminium iodide\n",
      "4-fluorophenylethylammonium iodide\n",
      "CF3 -PEAI\n",
      "Formamidinium Lead Iodide\n",
      "ISOST\n",
      "glycine hydrochloride\n",
      "chlorine-rich mixed-halide perovskite interlayer\n",
      "lead iodide\n",
      "Piperazinium Diiodide\n",
      "piperazinium iodide\n",
      "Titanium dioxide\n",
      "Butylammonium bromide\n",
      "ferrocenyl-bis-thiophene-2-carboxylate\n",
      "ortho-carborane\n",
      "lead oxalate\n",
      "zinc-based halogenometallate\n",
      "sodium thioglycolate\n",
      "methylammonium iodide\n",
      "3-diammonium iodide,propane-1\n",
      "formate\n",
      "4-chlorobenzenesulfonate (4Cl-BZS)\n",
      "PCBM\n",
      "cyclohexylmethylammonium iodide dissolved in\n",
      "butylamine\n",
      "iso-butylamine iodide\n",
      "ethylammonium pyrene\n",
      "EDBE\n",
      "intermediate negative ΔE vac\n",
      "OABF4\n",
      "benzotriazole\n",
      "butylammonium bromide\n",
      "2-thiopheneethylammonium chloride\n",
      "chlorophenylethylammonium iodide\n",
      "CF3-phenethylammonium\n",
      "2-thiophenemethylammonium iodide\n",
      "3,4,5-trifluoroanilinium\n",
      "phenylethylammonium lead iodide\n",
      "phenethylammonium iodide\n",
      "NOTE:This is how to prepare the PSC,relevent...?\n",
      "trifluoromethylphenylethylammonium\n",
      "3-(aminomethyl)pyridine\n",
      "tri-octyl phosphine oxide\n",
      "1,3-propylene diammonium\n",
      "2-thiophenemethylammonium bromide\n",
      "SnO2\n",
      "22.38\n",
      "azetidinium lead iodide\n",
      "Lithium Fluoride\n",
      "PS Plastic Foam 1%\n",
      "n-butylamine iodide\n",
      "DMePDAI 2\n",
      "methylammonium\n",
      "phenethylammonium\n",
      "4-trifluoromethyl-phenylammonium\n"
     ]
    }
   ],
   "source": [
    "data_inspect = annotation['passivating_molecule'].value_counts()\n",
    "\n",
    "for index, value in data_inspect.iteritems():\n",
    "    print(index)"
   ]
  },
  {
   "cell_type": "markdown",
   "metadata": {},
   "source": [
    "\n",
    "passivating_molecule fix\n",
    "\n",
    "- methylammonium lead iodide\n",
    "- ISOSLT\n",
    "- NIP\n",
    "- MAPbI 3\n",
    "- FAPbI3\n",
    "- formamidinium (FA)\n",
    "- FA0.5MA0.5PbI3\n",
    "- Methylammonium Lead Bromide\n",
    "- Formamidinium Lead Iodide\n",
    "- ISOST\n",
    "- cyclohexylmethylammonium iodide dissolved in\n",
    "- intermediate negative ΔE vac\n",
    "- NOTE:This is how to prepare the PSC,relevent...?\n",
    "- SnO2\n",
    "- 22.38\n",
    "\n",
    "methylammonium iodide\n",
    "phenylethylammonium iodide\n",
    "fluorophenylethylammonium iodide\n",
    "butylammonium\n",
    "oleylammonium iodide\n",
    "poly(methyl methacrylate)\n",
    "(EDBE)PbI 4\n",
    "4-fluoroaniline\n",
    "europium ion pair\n",
    "carbazole-triphenylamine and phenylammonium iodide units\n",
    "HTAB\n",
    "quanternary ammonium halides\n",
    "4-tert-butyl-benzylammonium iodide\n",
    "(phenethylamino)methaniminium iodide\n",
    "4-fluorophenylethylammonium iodide\n",
    "CF3 -PEAI\n",
    "glycine hydrochloride\n",
    "chlorine-rich mixed-halide perovskite interlayer\n",
    "lead iodide\n",
    "Piperazinium Diiodide\n",
    "piperazinium iodide\n",
    "Titanium dioxide\n",
    "Butylammonium bromide\n",
    "ferrocenyl-bis-thiophene-2-carboxylate\n",
    "ortho-carborane\n",
    "lead oxalate\n",
    "zinc-based halogenometallate\n",
    "sodium thioglycolate\n",
    "3-diammonium iodide,propane-1\n",
    "formate\n",
    "4-chlorobenzenesulfonate (4Cl-BZS)\n",
    "PCBM\n",
    "butylamine\n",
    "iso-butylamine iodide\n",
    "ethylammonium pyrene\n",
    "EDBE\n",
    "OABF4\n",
    "benzotriazole\n",
    "butylammonium bromide\n",
    "2-thiopheneethylammonium chloride\n",
    "chlorophenylethylammonium iodide\n",
    "CF3-phenethylammonium\n",
    "2-thiophenemethylammonium iodide\n",
    "3,4,5-trifluoroanilinium\n",
    "phenylethylammonium lead iodide\n",
    "phenethylammonium iodide\n",
    "trifluoromethylphenylethylammonium\n",
    "3-(aminomethyl)pyridine\n",
    "tri-octyl phosphine oxide\n",
    "1,3-propylene diammonium\n",
    "2-thiophenemethylammonium bromide\n",
    "azetidinium lead iodide\n",
    "Lithium Fluoride\n",
    "PS Plastic Foam 1%\n",
    "n-butylamine iodide\n",
    "DMePDAI 2\n",
    "methylammonium\n",
    "phenethylammonium\n",
    "4-trifluoromethyl-phenylammonium\n"
   ]
  },
  {
   "cell_type": "code",
   "execution_count": 50,
   "metadata": {},
   "outputs": [
    {
     "data": {
      "text/html": [
       "<div>\n",
       "<style scoped>\n",
       "    .dataframe tbody tr th:only-of-type {\n",
       "        vertical-align: middle;\n",
       "    }\n",
       "\n",
       "    .dataframe tbody tr th {\n",
       "        vertical-align: top;\n",
       "    }\n",
       "\n",
       "    .dataframe thead th {\n",
       "        text-align: right;\n",
       "    }\n",
       "</style>\n",
       "<table border=\"1\" class=\"dataframe\">\n",
       "  <thead>\n",
       "    <tr style=\"text-align: right;\">\n",
       "      <th></th>\n",
       "      <th>first_num</th>\n",
       "      <th>passivating_molecule</th>\n",
       "    </tr>\n",
       "  </thead>\n",
       "  <tbody>\n",
       "    <tr>\n",
       "      <th>53</th>\n",
       "      <td>48</td>\n",
       "      <td>PS Plastic Foam 1%</td>\n",
       "    </tr>\n",
       "  </tbody>\n",
       "</table>\n",
       "</div>"
      ],
      "text/plain": [
       "    first_num passivating_molecule\n",
       "53         48   PS Plastic Foam 1%"
      ]
     },
     "execution_count": 50,
     "metadata": {},
     "output_type": "execute_result"
    }
   ],
   "source": [
    "passivatin = annotation[[\"first_num\",\"passivating_molecule\"]]\n",
    "passivatin = passivatin[passivatin['passivating_molecule'] == \"PS Plastic Foam 1%\"]\n",
    "passivatin"
   ]
  },
  {
   "cell_type": "markdown",
   "metadata": {},
   "source": [
    "\"PS Plastic Foam 1%\" -- Paper 48, No perovskite composition was scraped, skip. "
   ]
  },
  {
   "cell_type": "markdown",
   "metadata": {},
   "source": [
    "# PIN NIP structure"
   ]
  },
  {
   "cell_type": "code",
   "execution_count": 92,
   "metadata": {},
   "outputs": [
    {
     "name": "stdout",
     "output_type": "stream",
     "text": [
      "NIP\n",
      "PIN\n",
      "NiP\n",
      "secondary perovskite growth\n",
      "poly(triarylamine) (PTAA)/ indium tin oxide (ITO)/glass substrates\n",
      "porous insulator contact\n"
     ]
    }
   ],
   "source": [
    "data_inspect = annotation['structure_pin_nip'].value_counts()\n",
    "\n",
    "for index, value in data_inspect.iteritems():\n",
    "    print(index)"
   ]
  },
  {
   "cell_type": "markdown",
   "metadata": {},
   "source": [
    "structure_pin_nip\n",
    "- secondary perovskite growth\n",
    "- poly(triarylamine) (PTAA)/ indium tin oxide (ITO)/glass substrates\n",
    "- porous insulator contact"
   ]
  },
  {
   "cell_type": "code",
   "execution_count": 95,
   "metadata": {},
   "outputs": [
    {
     "data": {
      "text/html": [
       "<div>\n",
       "<style scoped>\n",
       "    .dataframe tbody tr th:only-of-type {\n",
       "        vertical-align: middle;\n",
       "    }\n",
       "\n",
       "    .dataframe tbody tr th {\n",
       "        vertical-align: top;\n",
       "    }\n",
       "\n",
       "    .dataframe thead th {\n",
       "        text-align: right;\n",
       "    }\n",
       "</style>\n",
       "<table border=\"1\" class=\"dataframe\">\n",
       "  <thead>\n",
       "    <tr style=\"text-align: right;\">\n",
       "      <th></th>\n",
       "      <th>first_num</th>\n",
       "      <th>structure_pin_nip</th>\n",
       "    </tr>\n",
       "  </thead>\n",
       "  <tbody>\n",
       "    <tr>\n",
       "      <th>198</th>\n",
       "      <td>131</td>\n",
       "      <td>porous insulator contact</td>\n",
       "    </tr>\n",
       "  </tbody>\n",
       "</table>\n",
       "</div>"
      ],
      "text/plain": [
       "     first_num         structure_pin_nip\n",
       "198        131  porous insulator contact"
      ]
     },
     "execution_count": 95,
     "metadata": {},
     "output_type": "execute_result"
    }
   ],
   "source": [
    "structure = annotation[[\"first_num\",\"structure_pin_nip\"]]\n",
    "structure = structure[structure['structure_pin_nip'] == \"porous insulator contact\"]\n",
    "structure"
   ]
  },
  {
   "cell_type": "markdown",
   "metadata": {},
   "source": [
    "# HTL"
   ]
  },
  {
   "cell_type": "code",
   "execution_count": 89,
   "metadata": {},
   "outputs": [
    {
     "name": "stdout",
     "output_type": "stream",
     "text": [
      "Spiro-OMeTAD\n",
      "PTAA\n",
      "poly(triarylamine)\n",
      "11-dimethoxy-7H-dibenzo[c,4-(3,g]carbazol-7-yl)butyl)phosphonic acid\n",
      "polybisphenyl(trimethylphenyl)amine\n",
      "6-dimethoxy-9H-carbazol-9-yl)ethyl]phosphonic acid,[2-(3\n",
      "polymeric poly(4-vinylpyridine)\n",
      "bis(trifluoromethane)sulfonimide lithium salt/4-tert-butylpyridine (LiTFSI/tBP)doped poly(triarylamine)\n",
      "ion-modulated radical doping Spiro-OMeTAD\n",
      "MeO-2PACZ\n",
      "spiro-OMeTAD/chlorobenzene\n",
      "DDT-treated spiro-OMeTAD\n",
      "(2,7-Dimethoxy-9H-carbazol-9-yl)methyl phosphonic acid\n",
      "poly(triaryl)amine\n",
      "PEDOT:PSS\n",
      "2,2'-(9,6-diyl)bis(4-(1H-pyrazol-1-yl)-phenyl)amine,9-dimethyl-9H-carbazol-3\n",
      "2PACz\n",
      "spiro-MeOTAD\n",
      "P3CT-N\n",
      "Me-4PACz\n",
      "2PACz and Me-4PACz\n",
      "poly(triaryl amine)\n",
      "Spiro[OMeTAD-3-fluorophenyl]\n",
      "poly[bis(4-phenyl) (2,4,6-trimethylphenyl)amine] (PTAA)\n",
      "TaTm\n",
      "copper(I) thiocyanate\n",
      "Poly(3-hexylthiophene)\n"
     ]
    }
   ],
   "source": [
    "data_inspect = annotation['hole_transport_layer'].value_counts()\n",
    "\n",
    "for index, value in data_inspect.iteritems():\n",
    "    print(index)"
   ]
  },
  {
   "cell_type": "markdown",
   "metadata": {},
   "source": [
    "hole_transport_layer\n",
    "- PTAA\n",
    "- MeO-2PACZ\n",
    "- Me-4PACz\n",
    "- 2PACz\n",
    "- PEDOT:PSS"
   ]
  },
  {
   "cell_type": "code",
   "execution_count": 91,
   "metadata": {},
   "outputs": [
    {
     "data": {
      "text/html": [
       "<div>\n",
       "<style scoped>\n",
       "    .dataframe tbody tr th:only-of-type {\n",
       "        vertical-align: middle;\n",
       "    }\n",
       "\n",
       "    .dataframe tbody tr th {\n",
       "        vertical-align: top;\n",
       "    }\n",
       "\n",
       "    .dataframe thead th {\n",
       "        text-align: right;\n",
       "    }\n",
       "</style>\n",
       "<table border=\"1\" class=\"dataframe\">\n",
       "  <thead>\n",
       "    <tr style=\"text-align: right;\">\n",
       "      <th></th>\n",
       "      <th>first_num</th>\n",
       "      <th>hole_transport_layer</th>\n",
       "    </tr>\n",
       "  </thead>\n",
       "  <tbody>\n",
       "    <tr>\n",
       "      <th>40</th>\n",
       "      <td>36</td>\n",
       "      <td>poly(triarylamine)</td>\n",
       "    </tr>\n",
       "    <tr>\n",
       "      <th>65</th>\n",
       "      <td>57</td>\n",
       "      <td>poly(triarylamine)</td>\n",
       "    </tr>\n",
       "    <tr>\n",
       "      <th>164</th>\n",
       "      <td>114</td>\n",
       "      <td>poly(triarylamine)</td>\n",
       "    </tr>\n",
       "    <tr>\n",
       "      <th>165</th>\n",
       "      <td>114</td>\n",
       "      <td>poly(triarylamine)</td>\n",
       "    </tr>\n",
       "    <tr>\n",
       "      <th>191</th>\n",
       "      <td>127</td>\n",
       "      <td>poly(triarylamine)</td>\n",
       "    </tr>\n",
       "    <tr>\n",
       "      <th>192</th>\n",
       "      <td>128</td>\n",
       "      <td>poly(triarylamine)</td>\n",
       "    </tr>\n",
       "    <tr>\n",
       "      <th>193</th>\n",
       "      <td>128</td>\n",
       "      <td>poly(triarylamine)</td>\n",
       "    </tr>\n",
       "  </tbody>\n",
       "</table>\n",
       "</div>"
      ],
      "text/plain": [
       "     first_num hole_transport_layer\n",
       "40          36   poly(triarylamine)\n",
       "65          57   poly(triarylamine)\n",
       "164        114   poly(triarylamine)\n",
       "165        114   poly(triarylamine)\n",
       "191        127   poly(triarylamine)\n",
       "192        128   poly(triarylamine)\n",
       "193        128   poly(triarylamine)"
      ]
     },
     "execution_count": 91,
     "metadata": {},
     "output_type": "execute_result"
    }
   ],
   "source": [
    "HTL = annotation[[\"first_num\",\"hole_transport_layer\"]]\n",
    "HTL = HTL[HTL['hole_transport_layer'] == \"poly(triarylamine)\"]\n",
    "HTL"
   ]
  },
  {
   "cell_type": "markdown",
   "metadata": {},
   "source": [
    "# ETL"
   ]
  },
  {
   "cell_type": "code",
   "execution_count": 80,
   "metadata": {},
   "outputs": [
    {
     "name": "stdout",
     "output_type": "stream",
     "text": [
      "buckminsterfullerene\n",
      "TinOxide\n",
      "tin dioxide\n",
      "Titanium dioxide\n",
      "TitaniumDioxide\n",
      "PCBM\n",
      "C60\n",
      "6] -phenyl-C61-butyric acid methyl ester,[6\n",
      "Lanthanum oxide / Tin Oxide Bilayer\n",
      "ISOSLT\n",
      "indium tin oxide\n",
      "Tin Oxide\n",
      "titanium oxynitride\n",
      "polyacrylic acid-stabilized tin(IV) oxide quantum dots\n",
      "C 60\n",
      "boron chloride subphthalocyanine\n",
      "bathocuproine\n",
      "ligand allylammonium\n",
      "SnO 2\n",
      "SnO2\n",
      "Cl-bonded SnO 2\n"
     ]
    }
   ],
   "source": [
    "data_inspect = annotation['electron_transport_layer'].value_counts()\n",
    "\n",
    "for index, value in data_inspect.iteritems():\n",
    "    print(index)"
   ]
  },
  {
   "cell_type": "markdown",
   "metadata": {},
   "source": [
    "electron_transport_layer\n",
    "\n",
    "- TinOxide\n",
    "- tin dioxide\n",
    "- Titanium dioxide\n",
    "- TitaniumDioxide\n",
    "- PCBM\n",
    "- C60\n",
    "- Lanthanum oxide / Tin Oxide Bilayer\n",
    "- indium tin oxide\n",
    "- Tin Oxide\n",
    "- titanium oxynitride\n",
    "- polyacrylic acid-stabilized tin(IV) oxide quantum dots\n",
    "- C 60\n",
    "- boron chloride subphthalocyanine\n",
    "- bathocuproine\n",
    "- ligand allylammonium\n",
    "- SnO 2\n",
    "- SnO2\n",
    "- Cl-bonded SnO 2\n",
    "\n",
    "\n",
    "\n",
    "\n",
    "- buckminsterfullerene --> C60 \n",
    "- ISOSLT\n",
    "- 6] -phenyl-C61-butyric acid methyl ester,[6 ---> [6, 6] -phenyl-C61-butyric acid methyl ester\n",
    "- polyacrylic acid-stabilized tin(IV) oxide quantum dots"
   ]
  },
  {
   "cell_type": "code",
   "execution_count": 88,
   "metadata": {},
   "outputs": [
    {
     "data": {
      "text/html": [
       "<div>\n",
       "<style scoped>\n",
       "    .dataframe tbody tr th:only-of-type {\n",
       "        vertical-align: middle;\n",
       "    }\n",
       "\n",
       "    .dataframe tbody tr th {\n",
       "        vertical-align: top;\n",
       "    }\n",
       "\n",
       "    .dataframe thead th {\n",
       "        text-align: right;\n",
       "    }\n",
       "</style>\n",
       "<table border=\"1\" class=\"dataframe\">\n",
       "  <thead>\n",
       "    <tr style=\"text-align: right;\">\n",
       "      <th></th>\n",
       "      <th>first_num</th>\n",
       "      <th>electron_transport_layer</th>\n",
       "    </tr>\n",
       "  </thead>\n",
       "  <tbody>\n",
       "    <tr>\n",
       "      <th>182</th>\n",
       "      <td>124</td>\n",
       "      <td>6] -phenyl-C61-butyric acid methyl ester,[6</td>\n",
       "    </tr>\n",
       "    <tr>\n",
       "      <th>183</th>\n",
       "      <td>124</td>\n",
       "      <td>6] -phenyl-C61-butyric acid methyl ester,[6</td>\n",
       "    </tr>\n",
       "    <tr>\n",
       "      <th>184</th>\n",
       "      <td>124</td>\n",
       "      <td>6] -phenyl-C61-butyric acid methyl ester,[6</td>\n",
       "    </tr>\n",
       "    <tr>\n",
       "      <th>185</th>\n",
       "      <td>124</td>\n",
       "      <td>6] -phenyl-C61-butyric acid methyl ester,[6</td>\n",
       "    </tr>\n",
       "  </tbody>\n",
       "</table>\n",
       "</div>"
      ],
      "text/plain": [
       "     first_num                     electron_transport_layer\n",
       "182        124  6] -phenyl-C61-butyric acid methyl ester,[6\n",
       "183        124  6] -phenyl-C61-butyric acid methyl ester,[6\n",
       "184        124  6] -phenyl-C61-butyric acid methyl ester,[6\n",
       "185        124  6] -phenyl-C61-butyric acid methyl ester,[6"
      ]
     },
     "execution_count": 88,
     "metadata": {},
     "output_type": "execute_result"
    }
   ],
   "source": [
    "ETL = annotation[[\"first_num\",\"electron_transport_layer\"]]\n",
    "ETL = ETL[ETL['electron_transport_layer'] == \"6] -phenyl-C61-butyric acid methyl ester,[6\"]\n",
    "ETL"
   ]
  },
  {
   "cell_type": "markdown",
   "metadata": {},
   "source": [
    "efficiency_tret\n",
    "- 96.7\n",
    "- 98.9\n",
    "- 1.02\n",
    "\n",
    "efficiency_cont\n",
    "- 0.1\n",
    "\n",
    "temperature\n",
    "- 2000.0\n",
    "- 508.0\n",
    "- 150.0\n",
    "- 450.0\n",
    "- 250.0\n",
    "- 120.0\n",
    "- 254.0\n",
    "\n",
    "\n",
    "\n",
    "\n",
    "humidity\n",
    "- 152.0\n",
    "- 203.0\n",
    "- 304.0\n",
    "- 255.0\n",
    "- 507.0\n",
    "- 506.0\n",
    "- 0.25\n",
    "- 558.0\n",
    "- 601.0\n",
    "- 0.85\n",
    "- 5.0\n",
    "- 405.0\n",
    "- 305.0\n",
    "\n",
    "\n",
    "passivating_molecule\n",
    "- cyclohexylmethylammonium iodide dissolved in\n",
    "- CF3 -PEAI\n",
    "- NIP\n",
    "- ISOSLT\n",
    "- ISOST\n",
    "- FAPbI3\n",
    "- PCBM\n",
    "- HTAB\n",
    "- EDBE\n",
    "- OABF4\n",
    "- intermediate negative ΔE vac\n",
    "- NOTE:This is how to prepare the PSC,relevent...?\n",
    "\n",
    "structure_pin_nip\n",
    "- secondary perovskite growth\n",
    "- poly(triarylamine) (PTAA)/ indium tin oxide (ITO)/glass substrates\n",
    "- porous insulator contact\n",
    "\n",
    "hole_transport_layer\n",
    "- PTAA\n",
    "- MeO-2PACZ\n",
    "- Me-4PACz\n",
    "- 2PACz\n",
    "- PEDOT:PSS\n",
    "\n",
    "electron_transport_layer\n",
    "- buckminsterfullerene\n",
    "- ISOSLT\n",
    "- polyacrylic acid-stabilized tin(IV) oxide quantum dots"
   ]
  },
  {
   "cell_type": "markdown",
   "metadata": {},
   "source": [
    "# Perovskite_composition"
   ]
  },
  {
   "cell_type": "code",
   "execution_count": 64,
   "metadata": {},
   "outputs": [
    {
     "name": "stdout",
     "output_type": "stream",
     "text": [
      "formamidinium lead iodide\n",
      "(FAPbI3)0.95(MAPbBr3)0.05\n",
      "FA0.83Cs0.17PbI2.7Br0.3\n",
      "FA0.85MA0.1Cs0.05PbI2.9Br0.1\n",
      "Formamidinium lead triiodide\n",
      "CH3NH3PbI3\n",
      "Cs0.1FA0.9PbI3\n",
      "FA0.98Cs0.02PbI3\n",
      "FA0.98MA0.02Pbl3\n",
      "Cs 0.05(FA0.98MA0.02)0.95Pb(I0.98Br0.02)3\n",
      "dibutylammonium lead iodide\n",
      "formamidine formate\n",
      "CH 3 NH 3 PbI 3\n",
      "576\n",
      "methylammonium lead iodide\n",
      "FAPbI 3 with 0.03 mol fraction of both MDA and Cs cations\n",
      "Methylammonium Lead Bromide\n",
      "ISOSD3\n",
      "Cs0.05(FAPbI3)0.85(MAPbBr3)0.15\n",
      "CaFAMA-F\n",
      "Cs0.15FA0.85PbI2.55Br0.45\n",
      "CsMAFA\n",
      "Cs 0.05(FA0.95MA0.05)0.95Pb(I0.95Br0.05)3\n",
      "(FAPbI 3 ) 0.95 (MAPbBr 3 ) 0.05\n",
      "FA0.83MA0.17Pb-(I0.83Br0.17)3\n",
      "Cs 0.05 (FA0.92MA0.08)0.95Pb(I0.92Br0.08)3\n",
      "Cs 0.12 FA 0.8 MA 0.08 PbI 1.8 Br 1.\n",
      "Cs0.05FA0.95PbI3\n",
      "Cs0.05FA0.85MA0.10Pb(I0.97Br0.03)3\n",
      "Cs0.05MA0.1FA0.85PbI3\n",
      "Cs0.05(FA0.95MA0.05)0.95Pb(I0.95Br0.05)3\n",
      "Cs 0.05 MA 0.05 FA 0.9 Pb(I 0.95 Br 0.05 ) 3\n",
      "Methylammonium Lead Iodide\n",
      "FA0.95Cs0.05PbI3\n",
      "4-chlorophenylethylammonium\n",
      "Cs0.05(MA0.05FA0.95)0.95Pb(I0.95Br0.05)3\n",
      "Cs0.05(MA0.17FA0.83)0.95Pb(I0.83Br0.17)3\n",
      "MA0.7FA0.3PbI3\n",
      "(FAPbI3)0.85(MAPbBr3)0.15\n",
      "Cl-contained formamidinium lead iodide\n",
      "(FAPbI3)0.77(MAPbBr3)0.14(CsPbI3)0.09\n",
      "(FA0.98MA0.02)0.95Cs0.05Pb(I0.95Br0.02)3\n",
      "Cs0.05MA0.10FA0.85PbI3\n",
      "Butylammonium bromide\n",
      "Cs0.05FA0.9MA0.05Pb(I0.95Br0.05)3\n",
      "formamidinium lead halides\n",
      "Cs 0.05 FA 0.85 MA 0.1 PbI 3\n",
      "(FAPbI 3 ) 0.85 (MAPbBr 3 ) 0.15\n",
      "FA0.8MA0.2PbI 3\n",
      "Cs0.05(MA0.10FA0.85)Pb(I0.90Br0.10)3\n",
      "butylammonium lead iodide\n",
      "Cs0.15FA0.85PbI2.19Br0.81\n",
      "Cs 0.05 (FA 5/6 MA 1/6 ) 0.95 Pb(I 0.85 Br 0.15 ) 3\n",
      "Cs 0.05 (FA 5/6 MA 1/6 ) 0.95 Pb(I 0.9 Br 0.1 ) 3\n",
      "FAPbI3\n",
      "Cs 0.05 FA 0.81 MA 0.14 PbI 2.55 Br 0.45\n",
      "(FAPbI3)0.92(MAPbBr3)0.08\n",
      "Cesium lead iodide\n",
      "ammonia healed formamidinium cesium lead iodide\n",
      "(FAPbI 3 ) 0.87(MAPbBr3)0.13]0.92(CsPbI3)0.08\n",
      "BA2MA3PbI13\n",
      "Cs 0.05 MA 0.1 FA 0.85 PbI 2.7 Br 0.3\n",
      "CsPbI 0.05 [(FAPbI 3 ) 0.89 (MAPbBr 3 ) 0.11 ] 0.95\n",
      "MAPbI3\n",
      "Cs 0.05 (FA0.83MA0.17)0.95Pb(I0.83Br0.17)3\n",
      "FA0.83Cs0.17Pb(I0.83Br0.17)3\n",
      "MAPbI 3\n",
      "Cs0.05FA0.8MA0.15PbI2.88Br0.04Cl0.08\n",
      "FA0.9Cs0.1Pb3\n",
      "(FAPbI3)0.97(MAPbBr3)0.03\n",
      "HTAB 0.3 (FAPbI 3 ) 0.95 (MAPbBr 3 ) 0.05\n",
      "FA0.7MA0.3Pb0.5Sn0.5I3\n"
     ]
    }
   ],
   "source": [
    "data_inspect = annotation['perovskite_composition'].value_counts()\n",
    "\n",
    "for index, value in data_inspect.iteritems():\n",
    "    print(index)"
   ]
  },
  {
   "cell_type": "markdown",
   "metadata": {},
   "source": [
    "perovskite_composition\n",
    "- 576\n",
    "- ISOD3\n",
    "- formamidine formate' --> Additive\n",
    "\n",
    "- 4-chlorophenylethylammonium --> PAPER 7, LOOK AT IT LATER\n",
    "- Cl-contained formamidinium lead iodide --> \n",
    "- ammonia healed formamidinium cesium lead iodide --> NH 3 -FACsPbI 3\n",
    "- CaFAMA-F --> F- Cs 0.05 FA 0.81 MA 0.14 PbI 2.55 Br 0.45\n",
    "\n",
    "- HTAB 0.3 (FAPbI 3 ) 0.95 (MAPbBr 3 ) 0.05 --> HTAB is a large cation?\n",
    "        HTAB --> n-hexyl trimethyl ammonium bromide\n",
    "\n",
    "- formamidinium lead iodide --> FAPbI3\n",
    "- Formamidinium lead triiodide --> FAPbI3\n",
    "- dibutylammonium lead iodide --> (BA)2PbI 4\n",
    "- methylammonium lead iodide --> MAPbI3\n",
    "- FAPbI 3 with 0.03 mol fraction of both MDA and Cs cations\n",
    "- Methylammonium Lead Bromide -->  MAPbBr 3\n",
    "- CsMAFA -->Cs 0.05 FA 0.81 MA 0.14 PbI 2.55 Br 0.45\n",
    "- Methylammonium Lead Iodide MAPbI3\n",
    "- Butylammonium bromide\n",
    "- formamidinium lead halides --> FAPbI3\n",
    "- butylammonium lead iodide  --> BA 2 PbI 4\n",
    "- Cesium lead iodide --> CsPbI 3\n",
    "- CH3NH3PbI3 --> MAPbI₃\n",
    "- CH 3 NH 3 PbI 3 --> MAPbI₃"
   ]
  },
  {
   "cell_type": "code",
   "execution_count": 48,
   "metadata": {},
   "outputs": [
    {
     "data": {
      "text/html": [
       "<div>\n",
       "<style scoped>\n",
       "    .dataframe tbody tr th:only-of-type {\n",
       "        vertical-align: middle;\n",
       "    }\n",
       "\n",
       "    .dataframe tbody tr th {\n",
       "        vertical-align: top;\n",
       "    }\n",
       "\n",
       "    .dataframe thead th {\n",
       "        text-align: right;\n",
       "    }\n",
       "</style>\n",
       "<table border=\"1\" class=\"dataframe\">\n",
       "  <thead>\n",
       "    <tr style=\"text-align: right;\">\n",
       "      <th></th>\n",
       "      <th>first_num</th>\n",
       "      <th>perovskite_composition</th>\n",
       "    </tr>\n",
       "  </thead>\n",
       "  <tbody>\n",
       "    <tr>\n",
       "      <th>109</th>\n",
       "      <td>85</td>\n",
       "      <td>HTAB 0.3 (FAPbI 3 ) 0.95 (MAPbBr 3 ) 0.05</td>\n",
       "    </tr>\n",
       "  </tbody>\n",
       "</table>\n",
       "</div>"
      ],
      "text/plain": [
       "     first_num                     perovskite_composition\n",
       "109         85  HTAB 0.3 (FAPbI 3 ) 0.95 (MAPbBr 3 ) 0.05"
      ]
     },
     "execution_count": 48,
     "metadata": {},
     "output_type": "execute_result"
    }
   ],
   "source": [
    "composition = annotation[[\"first_num\",\"perovskite_composition\"]]\n",
    "composition = composition[composition['perovskite_composition'] == \"HTAB 0.3 (FAPbI 3 ) 0.95 (MAPbBr 3 ) 0.05\"]\n",
    "composition"
   ]
  },
  {
   "cell_type": "markdown",
   "metadata": {},
   "source": [
    "paper 30 - ammonia healed formamidinium cesium lead iodide NO passivating, so will be dropped and it's ok\n",
    "<br>\n",
    "paper 85 - HTAB 0.3 (FAPbI 3 ) 0.95 (MAPbBr 3 ) 0.05 HTAB is the passivating, fixed. \n"
   ]
  },
  {
   "cell_type": "code",
   "execution_count": null,
   "metadata": {},
   "outputs": [],
   "source": [
    "30 - "
   ]
  }
 ],
 "metadata": {
  "kernelspec": {
   "display_name": "dsc80",
   "language": "python",
   "name": "python3"
  },
  "language_info": {
   "codemirror_mode": {
    "name": "ipython",
    "version": 3
   },
   "file_extension": ".py",
   "mimetype": "text/x-python",
   "name": "python",
   "nbconvert_exporter": "python",
   "pygments_lexer": "ipython3",
   "version": "3.8.18"
  }
 },
 "nbformat": 4,
 "nbformat_minor": 2
}
