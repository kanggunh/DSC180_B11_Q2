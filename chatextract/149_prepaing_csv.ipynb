{
 "cells": [
  {
   "cell_type": "markdown",
   "metadata": {},
   "source": [
    "## Preparing CSV file to feed into Chatextract\n",
    "\n",
    "The csv file needs 3 column: \n",
    "- passage: Title, previous sentene, sentence we want to analyze\n",
    "- sentence: Sentence we want to anaylize\n",
    "- DOI\n",
    "\n",
    "\n",
    "Note: We will parse the XMl extracting certain informations"
   ]
  },
  {
   "cell_type": "code",
   "execution_count": 4,
   "metadata": {},
   "outputs": [],
   "source": [
    "import pandas as pd\n",
    "import numpy as np\n",
    "import pandas as pd\n",
    "from bs4 import BeautifulSoup\n",
    "import urllib\n",
    "import requests\n",
    "from urllib.parse import urlparse, urlunparse\n",
    "from io import BytesIO\n",
    "import pymupdf\n",
    "import os\n",
    "import undetected_chromedriver as uc\n",
    "from selenium.webdriver.common.by import By\n",
    "from selenium.webdriver.support.ui import WebDriverWait\n",
    "from selenium.webdriver.support import expected_conditions as EC\n",
    "import tempfile\n",
    "import time\n",
    "import re\n",
    "import xml.etree.ElementTree as ET\n",
    "import grobid_tei_xml\n",
    "import json"
   ]
  },
  {
   "cell_type": "markdown",
   "metadata": {},
   "source": [
    "## We will gather separate pdf for each downloadable link in paper 149 and parse them into xml separately"
   ]
  },
  {
   "cell_type": "code",
   "execution_count": 35,
   "metadata": {},
   "outputs": [],
   "source": [
    "good_papers = pd.read_csv(\"../data/good_paper_links.csv\")"
   ]
  },
  {
   "cell_type": "code",
   "execution_count": 36,
   "metadata": {},
   "outputs": [],
   "source": [
    "download_dir = tempfile.mkdtemp()\n",
    "chrome_options = uc.ChromeOptions()\n",
    "chrome_options.add_experimental_option(\"prefs\", {\n",
    "    \"download.default_directory\": download_dir,  # Set download location\n",
    "    \"download.prompt_for_download\": False,       # Disable download prompts\n",
    "    \"plugins.always_open_pdf_externally\": True   # Download PDFs instead of opening them\n",
    "})\n",
    "driver = uc.Chrome(options=chrome_options)"
   ]
  },
  {
   "cell_type": "code",
   "execution_count": 8,
   "metadata": {},
   "outputs": [],
   "source": [
    "def get_base_url(url):\n",
    "    parsed_url = urlparse(url)\n",
    "    # Reconstruct URL without query parameters and fragment\n",
    "    return urlunparse((parsed_url.scheme, parsed_url.netloc, parsed_url.path, '', '', ''))"
   ]
  },
  {
   "cell_type": "code",
   "execution_count": 9,
   "metadata": {},
   "outputs": [],
   "source": [
    "def open_pdf_if_button(driver):\n",
    "    try:\n",
    "        driver.find_element(By.XPATH, \"//embed[contains(@type, 'application/pdf')]\")\n",
    "        return True\n",
    "    except:\n",
    "        pass\n",
    "    try:\n",
    "        for iframe in driver.find_elements(By.TAG_NAME, \"iframe\"):\n",
    "            try:\n",
    "                frame_type = iframe.get_attribute(\"type\")\n",
    "                if frame_type == \"application/pdf\":\n",
    "                    driver.get(iframe.get_attribute(\"src\"))\n",
    "                    return True\n",
    "            except:\n",
    "                print(f\"Failed to get link {iframe}\")\n",
    "                return False\n",
    "    except:\n",
    "        print(\"No open button found for current PDF\")\n",
    "    return False\n"
   ]
  },
  {
   "cell_type": "code",
   "execution_count": 15,
   "metadata": {},
   "outputs": [],
   "source": [
    "def download_pdf_urls(url, paper_index):\n",
    "\n",
    "    driver.get(url)\n",
    "\n",
    "    pdfs_unique = set()\n",
    "    pdf_links = []\n",
    "    pdf_pattern = re.compile(r'(?<!e)\\.pdf$|/pdf/|/articlepdf/|/article-pdf/', re.IGNORECASE)\n",
    "    for link in driver.find_elements(By.TAG_NAME, \"a\"):\n",
    "        try:\n",
    "            href = link.get_attribute(\"href\")\n",
    "            if href and \"scholar.google\" not in href and pdf_pattern.search(href): #selenium cannot download epdfs\n",
    "                base_url = get_base_url(href)\n",
    "                if base_url not in pdfs_unique:\n",
    "                    pdfs_unique.add(base_url)\n",
    "                    pdf_links.append(href)\n",
    "        except:\n",
    "            print(f\"Failed to get link {link}\")\n",
    "            return\n",
    "    merged_pdf = pymupdf.open()\n",
    "    i = 0\n",
    "    if len(pdf_links) == 0:\n",
    "        print(f\"No PDF links found for paper {url}\")\n",
    "        return\n",
    "    downloadable_links_count = 0\n",
    "    for pdf_link in pdf_links:\n",
    "        # Ensure each link is a full URL\n",
    "        pdf_url = pdf_link if pdf_link.startswith('http') else get_base_url(url) + pdf_link\n",
    "        if \"pdf\" not in pdf_url: #skips non-pdfs after base url is used\n",
    "            continue\n",
    "        try:\n",
    "            num_of_files_prev = len([f for f in os.listdir(download_dir)])\n",
    "            curr_url = driver.current_url\n",
    "            driver.get(pdf_url)\n",
    "            if curr_url != driver.current_url: # redirected to another page\n",
    "                open_pdf_if_button(driver)\n",
    "            time.sleep(1)\n",
    "            num_of_files_now = len([f for f in os.listdir(download_dir)])\n",
    "            downloadable_links_count += num_of_files_now > num_of_files_prev\n",
    "        except:\n",
    "            print(f\"Skipping invalid PDF at {pdf_url}\")\n",
    "            continue\n",
    "    downloaded_pdfs = [f for f in os.listdir(download_dir) if f.endswith('.pdf')]\n",
    "    print(downloaded_pdfs)\n",
    "    while len(downloaded_pdfs) < downloadable_links_count:\n",
    "        time.sleep(1)\n",
    "        downloaded_pdfs = [f for f in os.listdir(download_dir) if f.endswith('.pdf')]\n",
    "        \n",
    "    pdf_files = [os.path.join(download_dir, f) for f in os.listdir(download_dir) if f.endswith('.pdf')]\n",
    "    count = 0\n",
    "    for pdf in pdf_files:\n",
    "        print(pdf)\n",
    "        output_path = f'{paper_index}-{count}.pdf'\n",
    "        merged_pdf.insert_pdf(pymupdf.open(pdf))\n",
    "        merged_pdf.save(output_path)\n",
    "        merged_pdf.close()\n",
    "        count += 1\n",
    "        merged_pdf = pymupdf.open()\n",
    "    \n",
    "    for pdf in pdf_files:\n",
    "        os.remove(pdf)\n",
    "    # print(f\"Merged PDF saved as {output_path}\")\n",
    "    return pdf_links"
   ]
  },
  {
   "cell_type": "code",
   "execution_count": 17,
   "metadata": {},
   "outputs": [
    {
     "name": "stdout",
     "output_type": "stream",
     "text": [
      "['41586_2021_4372_MOESM1_ESM.pdf', 's41586-021-04372-8.pdf']\n",
      "C:\\Users\\Luna\\AppData\\Local\\Temp\\tmpud7gsy94\\41586_2021_4372_MOESM1_ESM.pdf\n",
      "C:\\Users\\Luna\\AppData\\Local\\Temp\\tmpud7gsy94\\s41586-021-04372-8.pdf\n"
     ]
    }
   ],
   "source": [
    "for index, row in good_papers.iterrows():\n",
    "    if index == 149:\n",
    "        download_pdf_urls(row['Link'], index)"
   ]
  },
  {
   "cell_type": "markdown",
   "metadata": {},
   "source": [
    "## Convert these PDF into XML using Grobid\n",
    "\n",
    "1) Run Docker container\n",
    "2) Go to Grobid documentation and copy the terminal command to paste on your machine\n",
    "3) run the below code"
   ]
  },
  {
   "cell_type": "code",
   "execution_count": 21,
   "metadata": {},
   "outputs": [],
   "source": [
    "grobid_url = \"http://localhost:8070/api/processFulltextDocument\"\n",
    "xml_names = os.listdir(\"data/xmls\")\n",
    "\n",
    "for pdf_file in os.listdir(\"data/pdfs\"):\n",
    "    #only looks at pdf files\n",
    "    if pdf_file.endswith(\".pdf\"):\n",
    "        pdf_path = os.path.join(\"data/pdfs\", pdf_file)\n",
    "        #doe not convert already converted files\n",
    "        if pdf_path.replace('.pdf', '.xml') in xml_names:\n",
    "            continue\n",
    "        with open(pdf_path, 'rb') as file:\n",
    "            #GROBID must be running on port 8070 for this to work\n",
    "            response = requests.post(\n",
    "                grobid_url,\n",
    "                files={'input': file},\n",
    "                headers={'Accept': 'application/xml'}\n",
    "            )\n",
    "\n",
    "            if response.status_code == 200:\n",
    "                xml_file_path = os.path.join('data/xmls', pdf_file.replace('.pdf', '.xml'))\n",
    "                with open(xml_file_path, 'w', encoding='utf-8') as xml_file:\n",
    "                    xml_file.write(response.text)\n",
    "            else:\n",
    "                print(f\"Failed to convert {pdf_file}. Status code: {response.status_code}\")\n",
    "                print(response.text)"
   ]
  },
  {
   "cell_type": "markdown",
   "metadata": {},
   "source": []
  },
  {
   "cell_type": "markdown",
   "metadata": {},
   "source": [
    "## Convert XML into text"
   ]
  },
  {
   "cell_type": "code",
   "execution_count": 9,
   "metadata": {},
   "outputs": [],
   "source": [
    "##directory to xml file\n",
    "filename_sup = \"149-0.xml\"\n",
    "filename_article = \"149-1.xml\"\n",
    "filenames = [filename_sup, filename_article]\n",
    "\n",
    "DOI_149 = \"https://doi.org/10.1038/s41586-021-04372-8\"\n",
    "##This is manually looked into, for feeding chatextract to multiple paper, we need ways to aquire its correspondig link\n",
    "#Link available in this csv file \n",
    "good_papers = pd.read_csv(\"../data/good_paper_links.csv\")"
   ]
  },
  {
   "cell_type": "code",
   "execution_count": 10,
   "metadata": {},
   "outputs": [],
   "source": [
    "def xml_to_text(file_path):\n",
    "    tree = ET.parse(file_path)\n",
    "    root = tree.getroot()\n",
    "    print(file_path)\n",
    "    print(root.find(\".//title\"))\n",
    "    title = \"\"\n",
    "    sections = []\n",
    "    figures = []\n",
    "    \n",
    "    namespace = { 'd': root.tag.split('}')[0].strip('{') if '}' in root.tag else '' }\n",
    "    def ns_tag(tag):\n",
    "        return f\"{{{namespace}}}tag\" if namespace else tag\n",
    "\n",
    "    print(namespace)\n",
    "    namespace = { 'd': \"http://www.tei-c.org/ns/1.0\" }\n",
    "    title_element = root.find('d:title', namespace)\n",
    "    if title_element is not None:\n",
    "        title = title_element.text\n",
    "    \n",
    "    for div in root.findall(\".//div\"):\n",
    "        section_text = \"/n\".join(div.itertext())\n",
    "        sections.append(section_text)\n",
    "    \n",
    "    for figure in root.findall(\".//figure\"):\n",
    "        fig_head = figure.find(\".//head\")\n",
    "        fig_description = figure.find(\".//figDesc\")\n",
    "        fig_info = (fig_head.text if fig_head else \"Fig:\") + \" \" \n",
    "        + (fig_description.text if fig_description else \"unkown description\")\n",
    "        figures.append(fig_info)\n",
    "    return title + \"/n\" + \"/n\".join(sections) + \"/n\" + \"/n\".join(figures)\n"
   ]
  },
  {
   "cell_type": "code",
   "execution_count": 11,
   "metadata": {},
   "outputs": [],
   "source": [
    "def parse_grobid_xml(file_path):\n",
    "    with open(file_path, \"r\") as xml_file:\n",
    "        doc = grobid_tei_xml.parse_document_xml(xml_file.read())\n",
    "        title = doc.header.title or \"\"\n",
    "        abstract = doc.abstract or \"\"\n",
    "        body = doc.body or \"\"\n",
    "        index = file_path.split(\"/\")[-1].split(\".\")[0]\n",
    "        return f\"Paper #: {index}\\ntitle:{title}\\nAbstract:\\n{abstract}\\nBody:\\n{body}\" #title, abstract, body\n",
    "    # print(json.dumps(doc.to_dict(), indent=2))"
   ]
  },
  {
   "cell_type": "code",
   "execution_count": 12,
   "metadata": {},
   "outputs": [
    {
     "name": "stdout",
     "output_type": "stream",
     "text": [
      "149-0.xml\n",
      "149-1.xml\n"
     ]
    }
   ],
   "source": [
    "xml_dir = \"data/xmls\"\n",
    "txt_dir = \"data/txts\"\n",
    "for filename in os.listdir(\"data/xmls\"):\n",
    "    if filename.endswith(\".xml\"):\n",
    "        print(filename)\n",
    "        txt_content = parse_grobid_xml(os.path.join(xml_dir, filename))\n",
    "        txt_file = os.path.join(txt_dir, f\"{os.path.splitext(filename)[0]}.txt\")\n",
    "        with open(txt_file, \"w\", encoding=\"utf-8\") as f:\n",
    "            f.write(txt_content)\n",
    "\n"
   ]
  },
  {
   "cell_type": "markdown",
   "metadata": {},
   "source": [
    "# Create rc_data.csv where sentence is a paragraph\n",
    "\n",
    "Idea: Each line on the txt is its own paragraph"
   ]
  },
  {
   "cell_type": "code",
   "execution_count": 13,
   "metadata": {},
   "outputs": [],
   "source": [
    "txt_149_article = 'data/txts\\\\149-1.txt'\n",
    "txt_149_sup = 'data/txts\\\\149-0.txt'"
   ]
  },
  {
   "cell_type": "code",
   "execution_count": 14,
   "metadata": {},
   "outputs": [],
   "source": [
    "##Identifying the title and paragraph from txt\n",
    "paragraph_list = []\n",
    "\n",
    "with open(txt_file, \"r\", encoding=\"utf-8\") as f:\n",
    "    txt_list = f.readlines()\n",
    "for line in txt_list:\n",
    "    # print(line)\n",
    "    if line.startswith(\"title:\"):\n",
    "        title = line[6:]\n",
    "        continue\n",
    "    if line.startswith(\"Paper #\") | line.startswith(\"Abstract:\") | line.startswith(\"Body:\"):\n",
    "        continue\n",
    "    else:\n",
    "        paragraph_list.append(line)\n",
    "\n",
    "    "
   ]
  },
  {
   "cell_type": "code",
   "execution_count": 19,
   "metadata": {},
   "outputs": [],
   "source": [
    "##Creating a pandas df(paragraph)\n",
    "\n",
    "# Create the DataFrame\n",
    "article_149= pd.DataFrame({\n",
    "    \"sentence\": paragraph_list,\n",
    "    \"DOI\": DOI_149  # This assigns the same DOI to every row\n",
    "})\n",
    "article_149[\"shift\"] = article_149[\"sentence\"].shift(1).fillna('')\n",
    "article_149[\"passage\"] = title+ article_149[\"shift\"] +article_149[\"sentence\"]\n",
    "article_149 = article_149[['passage', 'sentence', 'DOI']]\n",
    "article_149.head()\n",
    "\n",
    "article_149.to_csv(\"rc_data_149Paragraph.csv\", index=False)"
   ]
  },
  {
   "cell_type": "code",
   "execution_count": 28,
   "metadata": {},
   "outputs": [
    {
     "name": "stdout",
     "output_type": "stream",
     "text": [
      "['All-perovskite tandem solar cells hold the promise of surpassing the efficiency limits of single-junction solar cells  [1] [2] [3]  ; however, until now, the best-performing all-perovskite tandem solar cells have exhibited lower certified efficiency than have single-junction perovskite solar cells  4, 5  ', 'A thick mixed Pb-Sn narrow-bandgap subcell is needed to achieve high photocurrent density in tandem solar cells 6 , yet this is challenging owing to the short carrier diffusion length within Pb-Sn perovskites', 'Here we develop ammonium-cation-passivated Pb-Sn perovskites with long diffusion lengths, enabling subcells that have an absorber thickness of approximately 1.2 μm', 'Molecular dynamics simulations indicate that widely used phenethylammonium cations are only partially adsorbed on the surface defective sites at perovskite crystallization temperatures', 'The passivator adsorption is predicted to be enhanced using 4-trifluoromethyl-phenylammonium (CF3-PA), which exhibits a stronger perovskite surface-passivator interaction than does phenethylammonium', 'By adding a small amount of CF3-PA into the precursor solution, we increase the carrier diffusion length within Pb-Sn perovskites twofold, to over 5 μm, and increase the efficiency of Pb-Sn perovskite solar cells to over 22%', 'We report a certified efficiency of 26.4% in all-perovskite tandem solar cells, which exceeds that of the best-performing single-junction perovskite solar cells', 'Encapsulated tandem devices retain more than 90% of their initial performance after 600 h of operation at the maximum power point under 1 Sun illumination in ambient conditions.', 'Metal-halide perovskites are emerging photovoltaic (PV) materials that are suitable for tandem solar cell applications: their bandgaps can be tuned from approximately 1.2 eV to 3.0 eV through compositional engineering  2  ', 'An all-perovskite tandem solar cell is constructed by stacking a mixed bromide/iodide wide-bandgap (WBG, approximately 1.8 eV) perovskite front cell and a mixed lead-tin (Pb-Sn) narrow-bandgap (NBG, approximately 1.2 eV) perovskite back cell  4, 7  ', 'All-perovskite tandem solar cells unite low-cost solution processing with the prospect of high efficiency  8  ', 'Despite this promise, the certified power conversion efficiency (PCE) of all-perovskite tandem solar cells has yet to surpass that of single-junction perovskite solar cells (PSCs) (which have a highest certified PCE of 25.5%)  9  , a limitation that is dominated by the low photocurrent density (below 16 mA cm -2 ) seen in all-perovskite tandem solar cells to date  4, [10] [11] [12] [13]  ', 'Considering the current-matching condition, high photocurrent densities will require a Pb-Sn perovskite active layer more than 1 μm thick in the bottom subcell (Extended Data Fig', ' 1 )', 'However, efficient (>20%) Pb-Sn PSCs have so far only been demonstrated using an active-layer thickness of less than 1 μm (refs', ' 6, 10, 11, [13] [14] [15]  )', 'We reason that this is due to the short carrier diffusion length of polycrystalline Pb-Sn perovskite thin films: the carrier diffusion length should be several times the absorber thickness to ensure sufficient charge transport and good PV performance in PSCs  16, 17  ', 'Grain surface passivation is a promising route to increase the carrier diffusion length of perovskite films  13, 18  , given that grain surfaces (film surface and grain boundaries) exhibit a trap density one to several orders of magnitude higher than that within the grain  [19] [20] [21] [22]  ', 'Two-dimensional (2D) perovskites, Lewis bases/acids  23  and zwitterions  10  have been used for the passivation of Pb-Sn perovskites, all of which are approaches that address deep traps and reduce Sn 2+ oxidation  [24] [25] [26]  ', 'However, until now, the absorber thickness of grain-surface-passivated Pb-Sn PSCs has been limited to less than 1 μm in optimized devices  10, 11, 15, 27  ', 'This we attribute to insufficient defect passivation: a certain amount of surface area remains unpassivated, due to the incomplete adsorption of passivating agent into the defective sites during film formation  28  ', 'We posit that enhancing the adsorption of passivating agents during perovskite film formation-in effect, increasing the completeness of the coverage using passivators, ensuring that they fully interact with the defective sites on the grain surfaces-could further improve passivation and thus increase the diffusion length in thick Pb-Sn perovskite films', 'This will enable thicker absorber layers in Pb-Sn PSCs and thus higher matched photocurrent densities in all-perovskite tandem solar cells', 'We note that this requires further progress to be made in the rational molecular design of passivators', 'Previous works have designed passivating molecules based on a static picture of the interaction between passivators and perovskite surfaces  29  ; here we instead explore the dynamic process of passivator adsorption on grain surfaces using ab initio molecular dynamic simulations, an approach that guided our experimental design.', 'Density functional theory studies Here we investigated the passivation capability of ammonium cations for mixed Pb-Sn perovskite surfaces  [30] [31] [32]  ', 'Three aromatic ammonium cations, phenethylammonium (PEA), phenylammonium (PA) and 4-trifluoromethyl-phenylammonium (CF3-PA), were selected to study how the molecular properties influence the adsorption and binding on mixed Pb-Sn perovskite surfaces (Fig', ' 1a )', 'The electrostatic potentials (φ max ) at the -NH 3 + side are different for the three passivators: φ max,PEA < φ max,PA < φ max,CF3-PA (Fig', ' 1a )', 'We posited that this electrostatic potential difference could affect the surface adsorption of ammonium cations  33  ', 'We carried out density functional theory (DFT) simulations to study the surface adsorption and defect passivation for the three ammonium cations (see details in the Methods)', 'As illustrated in Fig', ' 1b , the three passivators interact with acceptor-like defects at the Pb-Sn perovskite surfaces through ionic bonding and hydrogen bonding, and are therefore anchored on the surfaces', 'We note that this mechanism of passivator adsorption is distinct from that of Lewis base molecules  18  ', 'The passivator adsorption is a dynamic process that occurs during perovskite crystallization at elevated temperatures', 'We first investigated, using ab initio molecular dynamics simulations, the dynamic process of passivator adsorption on the grain surface (see details in the Methods and Supplementary Fig', ' 1 )', 'CF3-PA has the strongest tendency to anchor on the perovskite surface during film formation (at a temperature of approximately 400 K), with all 16 cations adsorbed completely on the surface (Fig', ' 1c, d )', 'In comparison, one PA cation and three PEA cations are not adsorbed into the A-site vacancies', 'Iodide ions are also seen to escape from the surface at 400 K in the PA and PEA cases (Fig', ' 1c ), which indicates that CF3-PA not only increases the probability of adsorbed ammonium cations on the perovskite grain surface but also suppresses the formation of iodine vacancies on the surface at elevated temperatures', 'Reduced iodide desorption may also suppress the formation of iodine interstitial (I i ) defects  34  ', 'The binding energies (E b ) shown in Fig', ' 1e  indicate that CF3-PA has the strongest binding with acceptor-type defects on the perovskite grain surface', 'The highly electronegative fluorine atom in CF3-PA withdraws electron density strongly from the neighbouring atoms, leaving a higher electropositivity at the NH 3 + side, thus enhancing the binding with the negatively charged defects', 'Looking at the electronic structures, one can see that the deep in-gap states from the I Sn and I Pb antisite defects are eliminated (Supplementary Fig', ' 2 )', 'In addition, CF3-PA passivation is predicted to increase the defect formation energy of the Sn vacancy (V Sn ), reducing the numbers of vacancies (Supplementary Fig', ' 3 )', 'CF3-PA passivation also reduces the formation of donor-type defects (Supplementary Note 1 and Supplementary Figs', ' 4  and 5 ).', 'PV performance of Pb-Sn PSCs DFT calculations indicated that CF3-PA has the potential to provide more effective grain surface passivation than does conventional PEA', 'To test this idea, we fabricated mixed Pb-Sn PSCs with a thick absorber layer (approximately 1.2 μm) to evaluate the effect of passivating agents on materials and device characteristics', 'We incorporated the passivating agents onto the grain surfaces of Pb-Sn perovskite films by adding PEA, PA and CF3-PA directly into the perovskite precursor solutions (Methods)', 'The optimal concentrations of PEA, PA and CF3-PA were 0.2, 0.3 and 0.3 mol%, respectively (Extended Data Fig', ' 2 )', 'Figure  2a  and Supplementary Table  1  compare the PV parameters of the control, PEA PA and CF3-PA solar cells (15 devices for each type) with an absorber layer thickness of 1.2 μm fabricated over several identical runs', 'Compared with control devices, Pb-Sn PSCs with passivating agents showed improved performance across all PV parameters', 'Among the three passivators investigated here, CF3-PA resulted in the best performance values of open-circuit voltage (V oc ), short-circuit current density (J sc ), fill factor (FF) and thus PCE', 'We also fabricated control and CF3-PA devices with a range of absorber thicknesses; the corresponding current density-voltage J-V curves and PV parameters are summarized in Fig', ' 2b , Extended Data Fig', ' 3  and Supplementary Table  2 ', 'The J sc values of the CF3-PA devices increased with thickness, reaching approximately 33 mA cm -2 at a thickness of 1.2 μm', 'The increased J sc with thicker absorber is ascribed to higher light absorption at the near-infrared range, as indicated by the external quantum efficiency (EQE) spectra in Fig', ' 2c ', 'By contrast, the J sc values of the control devices did not exhibit an increase when the thickness was increased from 900 to 1,200 nm, whereas the V oc and FF values (and thus PCE) dropped considerably with thickness beyond 900 nm (Extended Data Fig', ' 3 )', 'This indicates that the photogenerated carrier transport limits the performance in thick devices based on the control material processing strategy (Extended Data Fig', ' 4a )', 'By adding CF3-PA, we increased the diffusion length to achieve higher J sc , V oc and FF values', 'We fabricated more than 200 CF3-PA mixed Pb-Sn PSCs with 1.2-μm-thick absorber; a histogram of their PCE values is shown in the inset of Fig', ' 2d ', 'The devices exhibited an average PCE of 20.8 ± 0.5%, which is a narrow distribution compared with typical Pb-Sn perovskite statistics', 'The best CF3-PA device showed a PCE of 22.2% (stabilized 22.0%), with a V oc of 0.841 V, a J sc of 33.0 mA cm -2 and a FF of 80% under reverse scan (Fig', ' 2d  and Extended Data Fig', ' 4b, c )', 'Figure  2e  presents the EQE spectra of the best CF3-PA device, with the integrated J sc value of 32.5 mA cm -2 , in good agreement with the J-V characterization.', 'Characterization of Pb-Sn perovskites To understand the improvement of device performance by passivating agents, we performed structural and optoelectronic characterization of Pb-Sn perovskite films', 'We first investigated the effect of passivating agents on the morphology and crystal structure of Pb-Sn perovskite films', 'Scanning electron microscopy (SEM) images show that introducing the passivator additives did not notably affect the surface morphology (Fig', ' 3a , b and Supplementary Fig', ' 6  and Extended Data Fig', ' 5a, b )', 'The presence of passivating agents (for example, CF3-PA) in the perovskite films is indicated by X-ray photoelectron spectroscopy (XPS) measurements (Extended Data Fig', ' 5c )', 'The spatial distribution of the CF3-PA cations within the perovskite film was investigated using time-of-flight secondary ion mass spectrometry (ToF-SIMS, Extended Data Fig', ' 5d )', 'This revealed that passivators were anchored on the top and bottom film surfaces as well as at the grain boundaries within the film', 'X-ray diffraction (XRD) patterns of the control and the films modified by the passivating agent exhibited a single three-dimensional (3D) perovskite phase without a 2D (reduced-dimensional) phase and without non-perovskite phases (Fig', ' 3c  and Supplementary Fig', ' 7 )', 'We found no diffraction peaks relating to 2D layered perovskites even when a large amount of CF3-PA (for example, 20 mol%) was added to the precursor solution (Supplementary Note 2 and Supplementary Fig', ' 8 )', 'The absence of 2D perovskite is beneficial for charge transport and extraction throughout the thick Pb-Sn perovskite absorber in solar cells', 'We also extended the structural characterization to different thicknesses of Pb-Sn perovskite films (Supplementary Note 2 and Supplementary Fig', '9-11)', 'The above results indicate that the introduction of a trace amount of passivating agent is not likely to change the film formation', 'To examine the extent of surface Sn 2+ oxidation, we performed angle-dependent XPS measurements (Extended Data Fig', ' 6a )', 'Spectra were recorded at electron take-off angles of 0 o , 45 o and 75 o , with the probing depth varying from approximately 6-8 nm at 0 o to 1.5-2 nm at 75 o (ref', ' 28  )', 'The XPS spectra for the control film only show a Sn 4+ peak for the most surface sensitive angle at 75 o (Extended Data Fig', ' 6b ), which indicates that Sn 4+ primarily forms on the surface  28  ', 'Surface Sn 2+ oxidation was successfully suppressed after anchoring of CF3-PA on the grain surfaces (Extended Data Fig', ' 6f ), indicating that passivation of surface defects (for example, undercoordinated Sn atoms and Sn vacancies) could retard the Sn 2+ oxidation  21, 30  ', 'The three passivators were then assessed using steady-state photoluminescence (PL)', 'The PL intensity was increased noticeably with the CF3-PA passivating agent (Fig', ' 3d ), implying suppressed non-radiative charge recombination through the defects', 'An enhanced PL intensity was also observed in perovskite films passivated with PEA and PA, but it was not as strong as that with CF3-PA', 'In addition, we carried out time-resolved PL to study the charge-carrier dynamics (Fig', ' 3e )', 'The perovskite films with passivating agents exhibited effective carrier lifetimes (CF3-PA, τ = 966 ns; PA, τ = 437 ns; PEA, τ = 365 ns) that were much longer than that of the non-passivated control film (τ = 159 ns)', 'The longer charge-carrier recombination lifetime with CF3-PA was also confirmed by transient photovoltage decay measurements (Supplementary Fig', ' 12 )', 'We further performed femtosecond-resolved optical-pump terahertz-probe spectroscopy to obtain the carrier mobility of Pb-Sn perovskite films  [35] [36] [37]  ', 'The control and CF3-PA films exhibited similar effective d.c', 'charge-carrier mobilities (μ d.c', ') of approximately 80 cm 2 V -1 s -1 , where μ d.c', 'is the sum of the electron and hole mobilities (μ d.c', '= μ e + μ h , Supplementary Note 3 and Supplementary Fig', ' 13 )', 'Although it is challenging to obtain directly the exact mobility of electrons versus holes, we found the mobility of the limiting carrier (μ e,h ) to be 11.7 ± 1.5 and 8.2 ± 1.2 cm 2 V -1 s -1 for the CF3-PA and control Pb-Sn perovskite films, respectively (see details in Supplementary Note 3 and Supplementary Fig', ' 14 )', 'Because of the longer carrier lifetimes, the diffusion length (L d ) of the CF3-PA passivated films was increased threefold when compared to that of the control films (5.4 μm versus 1.8 μm) (Fig', ' 3f )', 'Overall, device performance and film characterization demonstrate improved grain surface passivation in mixed Pb-Sn perovskite films with CF3-PA', 'The DFT studies suggest one possible mechanism for the origin of the improvement: the higher surface adsorption of the passivating agent enables better passivation in perovskite films.', 'Performance and stability of tandem solar cells We fabricated monolithic all-perovskite tandem solar cells using the optimized NBG perovskite layers described above (see details in the Methods)', 'The WBG solar cells exhibited a PCE of 17.3%, with a V oc of 1.22 V, a J sc of 17.4 mA cm -2 and a FF of 81.6% (Extended Data Fig', ' 7 )', 'The NBG perovskite films were fabricated using the CF3-PA additive', 'The thicknesses of the WBG and NBG absorber layers for the front and back subcells were optimized to be approximately 380 and 1,200 nm (Fig', ' 4a ), respectively, to obtain a high matched current density between the subcells', 'Figure  4b  presents the J-V curves of all-perovskite tandem devices with various thicknesses (750, 900 and 1,200 nm) for the NBG absorber; the corresponding PV parameters are summarized in Supplementary Table  3 ', 'The J sc values, as determined from the J-V curves, were increased from 15.4 to 16.5 mA cm -2 when the thickness of the NBG perovskite absorber increased from 750 to 1,200 nm (the WBG perovskite thickness was kept at approximately 380 nm)', 'Correspondingly, the PCE was increased from 25.0% for the 750-nm-thick NBG subcell to 26.4% for the 1.2-μm-thick NBG subcell', 'The higher J sc is due mainly to the higher spectral response (light absorption) in the back subcell, as shown in Fig', ' 4c  and Supplementary Fig', ' 15 ', 'We fabricated 96 all-perovskite tandem solar cells (with aperture area of 0.049 cm 2 ) with 1.2-μm-thick NBG subcells; the devices had an average PCE of 25.6 ± 0.5% (Extended Data Fig', ' 8a )', 'Figure  4d  shows the J-V curves of the best-performing tandem device measured from both reverse and forward scans, showing very minor hysteresis', '  d, e, ) and EQE and total absorptance (1-R) (e) curves of the best tandem device (with aperture area of 0.049 cm 2 ) with approximately 1.2-μm-thick Pb-Sn perovskite absorber layer', 'R is the primary optical reflectance measured from the front glass side', 'f, J-V curve of a large-area tandem device (aperture area = 1.05 cm 2 )', 'g, Continuous MPP tracking of the encapsulated CF3-PA and control tandem solar cells (with aperture area of 0.049 cm 2 ) under simulated 1 Sun illumination (equivalent to AM1.5G, 100 mW cm -2 , multicolor LED simulator) in ambient air with a humidity of 30-50%', 'The CF3-PA and control tandem devices had initial PCEs of 25.6% and 24.3% measured under a two-lamp simulator, respectively', 'The device temperature was approximately 35 o C during operation, which was a result of self-heating under solar illumination', 'There was no active cooling during device operation and the environmental temperature was kept at approximately 25 o C', 'T 90 represents the lifetime at which the PCE declines to 90% of its initial value.', 'Article The best tandem cell had a PCE of 26.7% from the reverse scan (with a V oc of 2.03 V, a J sc of 16.5 mA cm -2 and a FF of 79.9%) and exhibited a stabilized PCE of 26.6% (Extended Data Fig', ' 8b  and Extended Data Table  1 )', 'The integrated J sc values of the front and back subcells from EQE spectra (Fig', ' 4e ) were 16.7 and 16.8 mA cm -2 , respectively, agreeing well with the J sc value determined from the J-V measurements', 'The J sc achieved (≥16.5 mA cm -2 ) was considerably higher than those reported in previous works (typically <16 mA cm -2 )  12, 13, 38  , mainly because of the use of thicker NBG perovskite without sacrificing the electrical performance (that is, V oc and FF) with the use of CF3-PA additive', 'We also fabricated tandem cells with larger area; our best-performing large-area device (aperture area = 1.05 cm 2 ) exhibited a PCE of 25.3% with a V oc of 2.03 V, a J sc of 16 mA cm -2 and a FF of 78% (Fig', ' 4f  and Extended Data Fig', ' 9 )', 'The relatively modest performance gap between small-area and large-area devices was ascribed to improved film uniformity in Pb-Sn perovskites films as a result of the addition of formamidine sulfinic acid (FSA) in the precursor solutions  10  ', 'We sent tandem solar cells to an accredited independent PV calibration laboratory ( Japan Electrical Safety and Environment Technology Laboratories, JET)', 'These delivered certified stabilized PCEs of 26.4% and 26.1% (Supplementary Fig', ' 16 )', 'This value of the PCE has been included in recently published Solar Cell Efficiency Tables (version 58)  9  ', 'The certified PCE of 26.4% exceeds that of other thin-film solar cells and is comparable to that of the best single-crystalline silicon solar cells (Supplementary Table  4 )', 'We anticipate that the PCE of all-perovskite tandem solar cells can improve further (Supplementary Note 4)', 'To assess the stability of tandem solar cells, we first tracked their shelf life by storing the unencapsulated devices under dark conditions in an N 2 glovebox', 'The tandem devices exhibited no obvious PCE degradation after 2,400 h of aging (Supplementary Fig', ' 17 )', 'In addition, we investigated the operating stability of the CF3-PA and control tandem devices: we kept the encapsulated devices in ambient air and used maximum power point (MPP) tracking under simulated 1 Sun illumination (using a multicolour light-emitting diode (LED) solar simulator with intensity equivalent to 100 mW cm -2 )', 'The spectrum of the LED simulator is presented in previous work  39  ', 'CF3-PA-passivated tandem devices maintained 90% of their initial PCE after 600 h of MPP operation and exhibited improved operating stability compared to unpassivated devices (Fig', ' 4g )', 'The high efficiency together with the promising stability achieved here indicate a step towards viability for all-perovskite tandem solar cells.', 'Online content Any methods, additional references, Nature Research reporting summaries, source data, extended data, supplementary information, acknowledgements, peer review information; details of author contributions and competing interests; and statements of data and code availability are available at  https://doi.org/10.1038/s41586-021-04372-8 .', 'Methods', 'DFT simulation Ab initio molecular dynamic simulations were performed with the CP2K package  40  in the constant-volume and constant-temperature (NVT) ensemble', 'The temperature was controlled with a Nosé-Hoover thermostat  41  at room temperature (300 K) and 400 K', 'The time step was set to 1.0 fs', 'A PBE-D3 functional was used with double-zeta basis sets (DZVP-MOLOPT)  42  and Goedecker-Teter-Hutter pseudopotentials  43  ', 'The cut-off was set to 560 Ry', 'We constructed the FA 0.75 MA 0.25 Pb 0.5 Sn 0.5 I 3 (001) surface (approximately 25 × 25 Å 2 ) with a 25 Å vacuum in the z direction', 'The ammonium cations were initially placed in the z direction away from the perovskite surface with a distance of 2.5 Å', 'The ab initio molecular dynamic simulations were run for approximately 10-20 ps to ensure equilibrium', 'First-principles calculations based on DFT were carried out using the Vienna Ab initio Simulation Package  44  ', 'The generalized gradient approximation of Perdew-Burke-Ernzerhof functional was used as the exchange-correlation functional  45  ', 'In addition, we used the DFT-D3 method for the van der Waals correction and also dipole corrections for the slab calculations  46  ', 'A plane-wave cut-off energy of 400 eV was used', 'The energy and force convergence criteria were set to 10 -5 eV and 0.03 eV Å -1 , respectively', 'The Brillouin zone was sampled with Γ-centred k-mesh densities of 2π × 0.02 Å -1 in the calculations of the energetic and electronic properties', 'We used a vacuum of 20 Å to separate neighbouring surfaces in the z -direction', 'The binding energies (E b ) of different ammonium cations (CF3-PA, PA and PEA) with the perovskite surface were calculated as E mol/pvsk - E pvsk - E mol , where E mol/pvsk , E pvsk and E mol are the total energies of the adsorption system, the perovskite system and CF3-PAI/PAI/PEAI (I represents iodide), respectively', 'The electrostatic potentials (φ) of the passivators were calculated using the Gaussian 09 package at the B3LYP/def2TZVP level with DFT-D3', 'The maximum φ (φ max ) of the NH 3 + terminal group in these passivators was obtained with the help of Multiwfn code  47  .', 'Materials All materials were used as received without further purification', 'The organic halide salts (FAI, FABr, MAI, FAI, PEACl, PACl, CF3-PACl) were purchased from GreatCell Solar Materials (Australia)', 'Poly (3,4-ethylenedioxythiophene) polystyrene sulfonate (PEDOT:PSS) aqueous solution (Al 4083) was purchased from Heraeus Clevios (Germany)', \"N4,N4'-Di(naphthalen-1-yl)-N4,N4'-bis(4-vinylphenyl) biphenyl-4,4'-diamine (VNPB) was purchased from Lumtec\", 'PbI 2 (99.99%), CsI (99.9%) and CsBr (99.9%) were purchased from TCI Chemicals', 'SnI 2 (99.999%) was purchased from Alfa Aesar', 'SnF 2 (99%), dimethylformamide (DMF, 99.8% anhydrous), dimethyl sulfoxide (DMSO, 99.9% anhydrous), formamidine sulfinic acid (≥98%), ethyl acetate (99.8% anhydrous) and chlorobenzene (99.8% anhydrous) were purchased from Sigma-Aldrich', 'C 60 was purchased from Nano-C (USA)', \"Bathocuproine (BCP) (>99% sublimed) was purchased from Xi'an Polymer Light Technology (China).\", 'Perovskite precursor solution NBG FA 0.7 MA 0.3 Pb 0.5 Sn 0.5 I 3 perovskite', 'The precursor solution was prepared in mixed solvents of DMF and DMSO with a volume ratio of 2:1', 'The molar ratios for FAI/MAI and PbI 2 /SnI 2 were 0.7:0.3 and 0.5:0.5, respectively', 'The molar ratio of (FAI+MAI)/(PbI 2 +SnI 2 ) was 1:1', 'SnF 2 (10 mol% relative to SnI 2 ) was added to the precursor solution', 'The precursor solution was then stirred at room temperature for 2 h', 'Tin powders (5 mg ml -1 ) and formamidine sulfinic acid (0.3 mol%) were added to the precursor to reduce Sn 4+ in the precursor solution and to improve film uniformity', 'For solution with passivating agents, PEACl, PACl or CF3-PACl was added to the precursor solution at their optimized concentrations', 'It is noted that we introduced additives at a concentration lower than 0.4 mol% relative to the B-site metal cations, which is below the concentration of large A-site cations required to form 2D/3D heterostructures', 'The precursor solution was filtered through 0.22 μm Polytetrafluoroethylene (PTFE) membrane before making perovskite films', 'WBG FA 0.8 Cs 0.2 Pb(I 0.62 Br 0.38 ) 3 perovskite', 'The precursor solution (1.2 M) was prepared from six precursors dissolved in mixed solvents of DMF and DMSO with a volume ratio of 4:1', 'The molar ratios for FAI/FABr/CsI/CsBr and PbI 2 /PbBr 2 were 0.48:0.32:0.12:0.08 and 0.62:0.38, respectively', 'The molar ratio of (FAI+FABr+CsI+CsBr)/ (PbI 2 +PbBr 2 ) was 1:1', 'The precursor solution was stirred at 50 o C for 2 h and then filtered through a 0.22 μm PTFE membrane before use', 'We found in our previous work that the six precursor approach improved the photostability and suppressed phase-segregation of the WBG perovskites, compared with those fabricated from four precursors (CsI, FAI, PbI 2 and PbBr 2 )  10  ', 'We also noted that the halide segregation in WBG perovskites was dependent on illumination intensity (Supplementary Fig', ' 18 )', 'The WBG perovskite films had a composition Cs 0.2 FA 0.8 PbI 1.86 Br 1.14 and a slightly lower bandgap (approximately 1.76 eV) than that used in our previous work  10  , in order to obtain a higher matched current density in all-perovskite tandem solar cells, enabled by a thicker Pb-Sn perovskite absorber.', 'Device fabrication Mixed Pb-Sn perovskite solar cells', 'The prepatterned indium tin oxide (ITO) glass substrates were sequentially cleaned using acetone and isopropanol', 'PEDOT:PSS was spin-coated on ITO substrates at 4,000 rpm for 30 s and annealed on a hotplate at 150 °C for 10 min in ambient air', 'After cooling, we transferred the substrates immediately to a nitrogen-filled glovebox for the deposition of perovskite films', 'The perovskite films were deposited with a two-step spin-coating procedure: (1) 1,000 rpm for 10 s with an acceleration of 200 rpm s -1 and (2) 4,000 rpm for 40 s with a ramp-up of 1,000 rpm s -1 ', 'Ethyl acetate (300 μl) was dropped onto the spinning substrate during the second spin-coating step at 20 s before the end of the procedure', 'The substrates were then transferred on to a hotplate and heated at 100 °C for 10 min', 'After cooling down to room temperature, the substrates were transferred to the evaporation system', 'Finally, C 60 (20 nm)/BCP (7 nm)/ Cu (150 nm) were sequentially deposited on top of the perovskite by thermal evaporation (Beijing Technol Science)', 'The thickness of the Pb-Sn perovskite layer was varied by changing the concentration of the precursor solution: 1.6 M for 750 nm, 2.0 M for 900 nm, 2.2 M for 1,050 nm, 2.4 M for 1,200 nm and 2.8 M for 1,450 nm', 'All-perovskite tandem solar cells', 'NiO nanocrystal (25 mg ml -1 in water) layers were first spin-coated on ITO substrates at 3,000 rpm for 30 s and annealed on a hotplate at 130 °C for 30 min in air', 'NiO nanocrystals were synthesized as reported previously  48  ', 'After cooling, the substrates were immediately transferred to the glovebox', 'VNPB (1 mg ml -1 ) in chlorobenzene without doping was spin-coated on the NiO film at 6,000 rpm for 30 s and was then annealed at 150 o C for 10 min', 'The WBG perovskite films were deposited on top of the VNPB-modified NiO with a two-step spin-coating procedure: (1) 2,000 rpm for 10 s with an acceleration of 200 rpm s -1 and (2) 6,000 rpm for 40 s with a ramp-up of 2,000 rpm s -1 ', 'Chlorobenzene (200 μl) was dropped onto the spinning substrate during the second spin-coating step at 20 s before the end of the procedure', 'The substrates were then transferred onto a hotplate and heated at 100 °C for 15 min', 'After cooling down to room temperature, the substrates were transferred to the evaporation system and a 20-nm-thick C 60 film was subsequently deposited on top by thermal evaporation at a rate of 0.2 Å s -1 ', 'The substrates were then transferred to the atomic layer deposition (ALD) system (Veeco Savannah S200) to deposit 20 nm SnO 2 at low temperatures (typically 100 o C) using precursors of tetrakis(dimethylamino) tin (iv) (99.9999%, Nanjing Ai Mou Yuan Scientific Equipment Co., Ltd) and deionized water', 'After ALD deposition, the substrates were transferred back to the thermal evaporation system to deposit an ultra-thin layer of Au clusters layer (approximately 1 nm) on ALD-SnO 2 ', 'PEDOT:PSS layers were spin-cast on top of the front cells and annealed in air at 120 o C for 20 min', 'After the substrates had cooled, we immediately transferred them to a nitrogen-filled glovebox for the deposition of NBG perovskite films with identical procedures used for the single-junction devices', 'Finally, 20 nm C 60 , 7 nm BCP and 150 nm Cu films were sequentially deposited by thermal evaporation (Beijing Technol Science)', 'Details on the deposition of ALD-SnO 2 layers can be found in our previous work  10  .', 'Characterization of solar cells For single-junction solar cells, the J-V characteristics were measured using a Keithley 2400 sourcemeter under the illumination of a solar simulator (EnliTech, Class AAA) at a light intensity of 100 mW cm -2 as checked with NREL calibrated reference solar cells (KG-5 and KG-0 reference cells were used for the measurements of the WBG and NBG solar cells, respectively)', 'Unless otherwise stated, the J-V curves were all measured in a nitrogen-filled glovebox with a scanning rate of 100 mV s -1 (with voltage steps of 20 mV and a delay time of 100 ms)', 'The active area was determined by the aperture shade masks (0.049 or 1.05 cm 2 ) placed in front of the solar cells', 'EQE measurements were performed in ambient air using a QE system (EnliTech) with monochromatic light focused on the device pixel and a chopper frequency of 20 Hz', 'For tandem solar cells, the measurements of the J-V characteristics were carried out under the illumination of a two-lamp high spectral match solar simulator (SAN-EI ELECTRIC, XHS-50S1)', 'The spectrum from the simulator was finely tuned to ensure that spectral mismatch was in the region of 100 ± 3% for each 50 nm interval in the wavelength range of 400-1,000 nm', 'The solar simulator was set at a light intensity of 100 mW cm -2 as checked with a calibrated crystalline silicon reference solar cell with a quartz window (KG-0)', 'We note that a dual-lamp solar simulator, rather than a single Xe lamp, is preferred for the characterization of tandem solar cells, due to the better spectral match with AM1.5G solar irradiance (see the detailed discussion in Supplementary Note 5)', 'EQE measurements were performed in ambient air and the bias illumination from very bright LEDs with emission peaks of 850 and 460 nm were used for the measurements of the front and back subcells, respectively', 'No bias voltage was applied during the EQE measurements of the tandem solar cells.', 'Stability tests of solar cells The operating stability tests were carried out under full AM1.5G illumination (Class AAA, multicolour LED solar simulator, Guangzhou Crysco Equipment Co', 'Ltd)  39  with an intensity of 100 mW cm -2 using a home-made LabVIEW-based MPP tracking system and a Perturb and observe method in ambient conditions (under a humidity of 30-50%)', 'The solar cells were encapsulated with a cover glass and ultraviolet (UV) epoxy (Three Bond), which was cured under an UV-LED lamp (peak emission at 365 nm) for 3 min', 'No UV filter was applied during operation', 'The environmental temperature was kept at around 25 o C', 'The solar cell temperature increased to approximately 35 °C under illumination as no active cooling was implemented at the measurement stage', 'The illumination intensity was regularly calibrated to check the degradation of the LED lamp', 'The assessments of the dark long-term shelf stability of the solar cells (without encapsulation) were carried out by repeating the J-V characterizations at various times and the devices were stored in a N 2 glovebox.', 'Femtosecond-resolved optical-pump-terahertz probe spectroscopy A commercial Ti:Sapphire amplified laser (Libra, Coherent) with a pulse duration of 90 fs, centre wavelength of 800 nm and repetition rate of 1 kHz was used to generate terahertz radiation by optical rectification in a 0.5-mm-thick ZnTe(110) nonlinear single crystal', 'The radiation was detected using free-space electro-optic sampling in a 0.5-mm-thick ZnTe(110) crystal', 'Perovskite thin films deposited on z-cut quartz substrates were photoexcited at 800 nm with fluences in the range of 1.5-50 μJ cm -2 ', 'The change in terahertz amplitude was monitored as a function of the time delay between the 800 nm optical pump pulse and the terahertz probe pulse using a translation stage', 'All measurements were carried out in a nitrogen-purged environment to avoid potential degradation of the perovskite films in ambient air.', 'Optical simulation of tandem solar cells A validated optical model GenPro4 as developed by Delft University of Technology was used for the optical modelling of the tandem solar cells  49  ', 'The complex refractive index of each layer was measured by a spectroscopic ellipsometer ( J.A', 'Woollam)', 'The implied photocurrent density of each subcell can be calculated using GenPro4 by assuming that the individual absorptances of the front and back cells are equivalent to the EQE of the two cells, respectively', 'The current density of the tandem cell is determined by taking the lower value between the two subcells', 'Other characterizations SEM images were obtained using a TESCAN microscope with an accelerating voltage of 2 kV', 'XRD patterns were collected using a Rigaku MiniFlex 600 diffractometer equipped with a NaI scintillation counter and using monochromatized Cu Kα radiation (wavelength λ = 1.5406 Å)', 'The grazing-incidence wide-angle X-ray scattering data were recorded using an Xeuss 2.0 system with an X-ray beam size of 100 × 100 μm 2 ', 'The photon energy was 8 keV (λ = 1.54 Å) and the incident angle was 0.05° (relative to the top surface of the perovskite films) or 0.5°', 'The diffracted X-rays were collected by a Pilatus 300k detector at a distance of 160 cm', 'XPS analysis was carried out using a Thermo Scientific Al K-Alpha XPS system with energy steps of 0.1 eV', 'Angle-dependent XPS characterizations were performed with a PHI 5600 ultrahigh vacuum system with a hemispherical electron energy analyser, an Al Kα source (1,486.6 eV, PHI 04-548 dual anode X-ray source) for excitation and a pass energy of 23.5 eV for XPS acquisition  28  ', 'Optical absorption measurements were carried out on a Lambda 950 UV/Vis spectrophotometer', 'Transient photovoltage decays were measured on a home-made system', 'A 540 nm green LED was used to modulate V oc with a constant light bias and the repetition rate was set to 2,000 Hz', 'A white LED was illuminated on the active area of the solar cell under study for constant light bias', 'The intensity of the pulsed illumination was set in such a way that the modulated V oc was approximately 10 mV, to ensure a perturbation regime', 'The open circuit voltage transient, induced by the light perturbation, was measured with a digital oscilloscope set to an input impedance of 1 MΩ', 'The charge recombination lifetime was fitted by a single exponential decay', 'Steady-state PL and time-resolved PL were measured using a Horiba Fluorolog time-correlated single-photon-counting system with photomultiplier tube detectors', 'The light was illuminated onto the top surface of the perovskite film', 'For steady-state PL measurements, the excitation source was a monochromated Xe lamp (peak wavelength at 520 nm with a line width of 2 nm)', 'For time-resolved PL, the excitation source was a green laser diode (λ = 510 nm) with an excitation power density of 5 mW cm -2 ', 'The PL decay curves were fitted with biexponential components to obtain fast and slow decay lifetimes', 'The mean carrier lifetimes τ for the biexponential fit were calculated by the weighted average method', 'ToF-SIMS was performed using ToF-SIMS6 from IONTOF GmbH', 'Samples were analysed in the dual-beam profiling mode', 'All profiles were performed in the non-interlaced mode', 'Spectral data were acquired in the high mass-resolution mode', 'The primary ion for analysis was 30 keV Bi 3+ at 0.3 pA (with Bi liquid metal ion source)', 'This ion beam was applied over a 50 × 50 μm 2 area at the centre of the sputter crater', 'The sputter ion was 1 keV Ar + at 120 nA (with Ar electron impact ion source)', 'A 200 × 200 μm 2 sputter crater was used', 'During the sputtering process, the mass spectra in the same layer were consistent and different layers had well-defined profiles, which means that beam damage was not observed', 'The MA cation, FA cation, CF3-PA cation, Pb + and Sn + were identified based on masses of 32.0483 amu, 45.0430 amu, 162.0551 amu, 207.9715 amu and 119.8997 amu, respectively', 'The EQE values of CF3-PA device are substantially higher than those of previous works at wavelengths above 800 nm, mainly due to the use of thicker absorber while maintaining sufficient carrier transport', 'It is noted that such a high J sc value is obtained herein together with high V oc and FF even when using a 1,200 nm absorber', 'b, Reverse and forward J-V curves of the champion CF3-PA mixed Pb-Sn solar cell', 'c, The steady-state PCE of the champion CF3-PA device', 'Fig', '1 | 1 Fig', '1 | Interaction between passivator and Pb-Sn perovskite surface', 'a, The molecular structures of three passivators (PEA, PA and CF3-PA)', 'PA and CF3-PA exhibit molecular structures similar to that of PEA, but without any alkyl chain between the benzene ring and ammonium group', 'Corresponding Gaussian calculated electrostatic potentials (φ) are shown', 'The right colour bar from red to blue marks the increase of electropositivity', 'b, Schematic diagram of the interaction between ammonium cations with the acceptor-like defects, that is, formamidinium (FA) vacancy (V FA ), methylammonium (MA) vacancy (V MA ), Sn vacancy (V Sn ), Pb vacancy (V Pb ), I substituted at Sn site (I Sn ) and I substituted at Pb site (I Pb )', 'Both the A-I and B-I terminated (001) perovskite surfaces are considered', 'c, Ab initio molecular dynamics snapshots and top views of the CF3-PA, PA and PEA adsorbed perovskite surfaces at a temperature of 400 K', 'F atoms, green; N atoms in PA and PEA cations, red', 'The desorbed molecules are highlighted with blue dashed circles in the top views', 'd, The number of adsorbed molecules for CF3-PA, PA and PEA at temperatures of 300 and 400 K', 'A molecule number of 16 represents complete surface coverage in the simulation unit', 'e, The binding energy (E b ) between passivators and various acceptor-like defects.', '2 1Fig', '2 | 22 Fig', '2 | PV performance of Pb-Sn perovskite solar cells', 'a, PV parameters of devices with different passivating agents (15 devices for each type)', 'b, c, Representative J-V (b) and EQE (c) curves of CF3-PA devices with absorber', 'Fig', '3 | 3 Fig', '3 | Characterization of mixed Pb-Sn perovskite films with passivating agents', 'a, b, SEM images of the control (a) and CF3-PA (b) perovskite films', 'c, XRD patterns of the control, PEA, PA and CF3-PA perovskite films', 'a.u., arbitrary units', 'd, e, Steady-state (d) and time-resolved (e) PL spectra of the control, PEA, PA and CF3-PA perovskite films', 'f, Mobilities and diffusion lengths of the CF3-PA and control Pb-Sn perovskite films.', '2 )Fig', '4 | 24 Fig', '4 | PV performance and stability of all-perovskite tandem solar cells with CF3-PA additive', 'a, Cross-sectional SEM image of an all-perovskite tandem solar cell', 'b, c, J-V (b) and EQE (c) curves of tandem cells with back subcell thicknesses of 750, 900 and 1,200 nm.d, e, J-V (d) and EQE and total absorptance (1-R) (e) curves of the best tandem device (with aperture area of 0.049 cm 2 ) with approximately 1.2-μm-thick Pb-Sn perovskite absorber layer', 'R is the primary optical reflectance measured from the front glass side', 'f, J-V curve of a large-area tandem device (aperture area = 1.05 cm 2 )', 'g, Continuous MPP tracking of the encapsulated CF3-PA and control tandem solar cells (with', 'Extended Data Fig', '1 | 1 Optical simulation of all-perovskite tandem solar cells', 'The implied photocurrent density ( J sc ) of tandems was calculated as function of wide-bandgap and narrow-bandgap perovskite layer thicknesses', 'Extended Data Fig', '2 | PCEs of mixed Pb-Sn perovskite solar cells with various concentrations of passivating agents', 'a, PEA; b, PA; c, CF3-PA', 'The absorber layer thickness is ~1,200 nm', 'Extended Data Fig', '3 | Performance of control and CF3-PA mixed Pb-Sn perovskite solar cells with various absorber thicknesses', 'For regular thinner Pb-Sn perovskite solar cells (thicknesses of 750 and 900 nm), the diffusion lengths are sufficiently long to ensure charge transport within devices', 'This agrees with the finding that no obvious improvement was observed in regular thinner devices after we added the CF3-PA passivating agent', 'The abrupt drop in performance at the thickness of 1.45 μm comes because the precursor solution fails to form high-quality films, a result of finite solubility of metal halides in DMF/DMSO solvent', 'Extended Data Fig', '4 | Performance of champion mixed Pb-Sn perovskite solar cells', 'a, EQE spectra of champion control and CF3-PA mixed Pb-Sn solar cells.', 'The devices have aperture area of 0.049 cm 2 .']\n"
     ]
    }
   ],
   "source": [
    "paragraph_list\n",
    "\n",
    "# Step 1: Remove \\t and \\n from each element and strip extra spaces\n",
    "cleaned_paragraph_list = [p.replace(\"\\t\", \"\").replace(\"\\n\", \"\").strip() for p in paragraph_list]\n",
    "\n",
    "# Step 2: Filter out any empty elements\n",
    "cleaned_paragraph_list = [p.split('. ') for p in cleaned_paragraph_list if p != \"\"]\n",
    "\n",
    "# Flatten the list using a list comprehension\n",
    "sentence_list = [item for sublist in cleaned_paragraph_list for item in sublist]\n",
    "print(sentence_list)\n"
   ]
  },
  {
   "cell_type": "code",
   "execution_count": 29,
   "metadata": {},
   "outputs": [],
   "source": [
    "##Creating a pandas df(sentence)\n",
    "\n",
    "# Create the DataFrame\n",
    "article_149= pd.DataFrame({\n",
    "    \"sentence\": sentence_list,\n",
    "    \"DOI\": DOI_149  # This assigns the same DOI to every row\n",
    "})\n",
    "article_149[\"shift\"] = article_149[\"sentence\"].shift(1).fillna('')\n",
    "article_149[\"passage\"] = title+ article_149[\"shift\"] +article_149[\"sentence\"]\n",
    "article_149 = article_149[['passage', 'sentence', 'DOI']]\n",
    "article_149.head()\n",
    "\n",
    "article_149.to_csv(\"rc_data_149Sentence.csv\", index=False)"
   ]
  },
  {
   "cell_type": "code",
   "execution_count": 30,
   "metadata": {},
   "outputs": [
    {
     "data": {
      "text/html": [
       "<div>\n",
       "<style scoped>\n",
       "    .dataframe tbody tr th:only-of-type {\n",
       "        vertical-align: middle;\n",
       "    }\n",
       "\n",
       "    .dataframe tbody tr th {\n",
       "        vertical-align: top;\n",
       "    }\n",
       "\n",
       "    .dataframe thead th {\n",
       "        text-align: right;\n",
       "    }\n",
       "</style>\n",
       "<table border=\"1\" class=\"dataframe\">\n",
       "  <thead>\n",
       "    <tr style=\"text-align: right;\">\n",
       "      <th></th>\n",
       "      <th>passage</th>\n",
       "      <th>sentence</th>\n",
       "      <th>DOI</th>\n",
       "    </tr>\n",
       "  </thead>\n",
       "  <tbody>\n",
       "    <tr>\n",
       "      <th>0</th>\n",
       "      <td>All-perovskite tandem solar cells with improve...</td>\n",
       "      <td>All-perovskite tandem solar cells hold the pro...</td>\n",
       "      <td>https://doi.org/10.1038/s41586-021-04372-8</td>\n",
       "    </tr>\n",
       "    <tr>\n",
       "      <th>1</th>\n",
       "      <td>All-perovskite tandem solar cells with improve...</td>\n",
       "      <td>A thick mixed Pb-Sn narrow-bandgap subcell is ...</td>\n",
       "      <td>https://doi.org/10.1038/s41586-021-04372-8</td>\n",
       "    </tr>\n",
       "    <tr>\n",
       "      <th>2</th>\n",
       "      <td>All-perovskite tandem solar cells with improve...</td>\n",
       "      <td>Here we develop ammonium-cation-passivated Pb-...</td>\n",
       "      <td>https://doi.org/10.1038/s41586-021-04372-8</td>\n",
       "    </tr>\n",
       "    <tr>\n",
       "      <th>3</th>\n",
       "      <td>All-perovskite tandem solar cells with improve...</td>\n",
       "      <td>Molecular dynamics simulations indicate that w...</td>\n",
       "      <td>https://doi.org/10.1038/s41586-021-04372-8</td>\n",
       "    </tr>\n",
       "    <tr>\n",
       "      <th>4</th>\n",
       "      <td>All-perovskite tandem solar cells with improve...</td>\n",
       "      <td>The passivator adsorption is predicted to be e...</td>\n",
       "      <td>https://doi.org/10.1038/s41586-021-04372-8</td>\n",
       "    </tr>\n",
       "  </tbody>\n",
       "</table>\n",
       "</div>"
      ],
      "text/plain": [
       "                                             passage  \\\n",
       "0  All-perovskite tandem solar cells with improve...   \n",
       "1  All-perovskite tandem solar cells with improve...   \n",
       "2  All-perovskite tandem solar cells with improve...   \n",
       "3  All-perovskite tandem solar cells with improve...   \n",
       "4  All-perovskite tandem solar cells with improve...   \n",
       "\n",
       "                                            sentence  \\\n",
       "0  All-perovskite tandem solar cells hold the pro...   \n",
       "1  A thick mixed Pb-Sn narrow-bandgap subcell is ...   \n",
       "2  Here we develop ammonium-cation-passivated Pb-...   \n",
       "3  Molecular dynamics simulations indicate that w...   \n",
       "4  The passivator adsorption is predicted to be e...   \n",
       "\n",
       "                                          DOI  \n",
       "0  https://doi.org/10.1038/s41586-021-04372-8  \n",
       "1  https://doi.org/10.1038/s41586-021-04372-8  \n",
       "2  https://doi.org/10.1038/s41586-021-04372-8  \n",
       "3  https://doi.org/10.1038/s41586-021-04372-8  \n",
       "4  https://doi.org/10.1038/s41586-021-04372-8  "
      ]
     },
     "execution_count": 30,
     "metadata": {},
     "output_type": "execute_result"
    }
   ],
   "source": [
    "article_149.head()\n"
   ]
  },
  {
   "cell_type": "code",
   "execution_count": null,
   "metadata": {},
   "outputs": [],
   "source": []
  }
 ],
 "metadata": {
  "kernelspec": {
   "display_name": "capstone",
   "language": "python",
   "name": "python3"
  },
  "language_info": {
   "codemirror_mode": {
    "name": "ipython",
    "version": 3
   },
   "file_extension": ".py",
   "mimetype": "text/x-python",
   "name": "python",
   "nbconvert_exporter": "python",
   "pygments_lexer": "ipython3",
   "version": "3.8.20"
  }
 },
 "nbformat": 4,
 "nbformat_minor": 2
}
