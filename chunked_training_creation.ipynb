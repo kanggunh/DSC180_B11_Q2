{
 "cells": [
  {
   "cell_type": "code",
   "execution_count": 1,
   "metadata": {},
   "outputs": [],
   "source": [
    "import json\n",
    "import os\n",
    "import xml.etree.ElementTree as ET\n",
    "import pandas as pd"
   ]
  },
  {
   "cell_type": "code",
   "execution_count": 2,
   "metadata": {},
   "outputs": [],
   "source": [
    "EMPTY_PAPER_DATA = {\n",
    "    \"perovskite_composition\": None,\n",
    "    \"electron_transport_layer\": None,\n",
    "    \"hole_transport_layer\": None,\n",
    "    \"structure_pin_nip\": None,\n",
    "}\n",
    "EMPTY_STABILITY_TEST = {\n",
    "    \"stability_type\": None,\n",
    "    \"passivating_molecule\": None,\n",
    "    \"humidity\": None,\n",
    "    \"temperature\": None,\n",
    "    \"time\": None,\n",
    "    \"control_pce\": None,\n",
    "    \"treated_pce\": None,\n",
    "    \"control_voc\": None,\n",
    "    \"treated_voc\": None,\n",
    "    \"efficiency_control\": None,\n",
    "    \"efficiency_tret\": None\n",
    "}"
   ]
  },
  {
   "cell_type": "code",
   "execution_count": 3,
   "metadata": {},
   "outputs": [],
   "source": [
    "def get_json_for_passage(passage, relations, previous_json):\n",
    "    concept_ids = set()\n",
    "    for annotation in passage.findall(\".//annotation\"):\n",
    "        node_id = annotation.get(\"id\")\n",
    "        var_name = annotation.find(\"infon[@key='type']\").text\n",
    "        concept_id = annotation.find(\"infon[@key='identifier']\").text\n",
    "        value = annotation.find(\"text\").text\n",
    "        value = concept_id if concept_id is not None else value\n",
    "        if var_name == \"perovskite_molecule\": #due to an error in some of the annotations\n",
    "            var_name = \"passivating_molecule\"\n",
    "        if var_name in [\"additive_molecule\", \"treatment_element\", \"control_element\", \"metal_contact\"]: #irrelevant\n",
    "            continue\n",
    "\n",
    "        if var_name in [\"perovskite_composition\", \"structure_pin_nip\", \"electron_transport_layer\", \"hole_transport_layer\" ]:\n",
    "            #in top level: composition, ETL, HTL, PIN-NIP,\n",
    "            previous_json[var_name] = value\n",
    "        elif node_id in relations:\n",
    "            test_name = relations[node_id]\n",
    "            if test_name not in previous_json:\n",
    "                previous_json[test_name] = EMPTY_STABILITY_TEST.copy()\n",
    "            previous_json[test_name][var_name] = value\n",
    "        elif len(relations.keys()) == 0:\n",
    "            if \"test_1\" not in previous_json:\n",
    "                previous_json[\"test_1\"] = EMPTY_STABILITY_TEST.copy()\n",
    "            previous_json[\"test_1\"][var_name] = value\n",
    "            #in stability tests:\n",
    "            #test type, passivator, PCE (control + treat), VOC (control + treat)\n",
    "            #efficiency (treat, control), temp, time, humidity\n",
    "        else:\n",
    "            #assumes that all other possible data goes into the first stability test\n",
    "            if \"test_1\" not in previous_json:\n",
    "                previous_json[\"test_1\"] = EMPTY_STABILITY_TEST.copy()\n",
    "            previous_json[\"test_1\"][var_name] = value\n",
    "\n",
    "    return previous_json\n",
    "    \n"
   ]
  },
  {
   "cell_type": "code",
   "execution_count": 4,
   "metadata": {},
   "outputs": [],
   "source": [
    "def extract_papernum(root):\n",
    "    first_text = root.find(\".//text\")\n",
    "    full_text = first_text.text\n",
    "    \n",
    "    ##We want to extract article number from this format\n",
    "    #Method: split by spaces and extract the last element in the list\n",
    "    text_list = full_text.split()\n",
    "    paper_num = text_list[-1]\n",
    "    return paper_num"
   ]
  },
  {
   "cell_type": "code",
   "execution_count": 5,
   "metadata": {},
   "outputs": [],
   "source": [
    "def parse_bioc_into_chunks(file_path):\n",
    "    tree = ET.parse(file_path)\n",
    "    root = tree.getroot()\n",
    "\n",
    "    passages = root.findall('.//passage')\n",
    "    data = []\n",
    "\n",
    "    relations = {}\n",
    "    test_names = set()\n",
    "    for relation in root.findall(\".//relation\"):\n",
    "        test_name = relation.find(\"infon[@key='type']\").text\n",
    "        if 'performance' in test_name: #irrelevant tests\n",
    "            continue\n",
    "        if test_name not in test_names:\n",
    "            test_names.add(test_name)\n",
    "        else:\n",
    "            test_name = test_name + \"_2\"\n",
    "        node_ids = [node.get(\"refid\") for node in relation.findall(\"node\")]\n",
    "        for node_id in node_ids:\n",
    "            relations[node_id] = test_name\n",
    "    \n",
    "    paper_num = extract_papernum(root)\n",
    "    curr_json = EMPTY_PAPER_DATA.copy()\n",
    "    for relation in root.findall('.//relation'):\n",
    "        test_name = relation.find\n",
    "    for i, passage in enumerate(passages):\n",
    "        passage_text = passage.find('.//text').text\n",
    "        row = { \"id\": f\"{paper_num}_{i}\", \"text\": passage_text, \"memory\": curr_json.copy() }\n",
    "        curr_json = get_json_for_passage(passage, relations, curr_json)\n",
    "        row['output'] = curr_json.copy()\n",
    "        data.append(row)\n",
    "    return data"
   ]
  },
  {
   "cell_type": "code",
   "execution_count": 6,
   "metadata": {},
   "outputs": [],
   "source": [
    "bioc_dir = \"data/biocs\"\n",
    "data = []\n",
    "for filename in os.listdir(bioc_dir):\n",
    "    if filename.endswith(\".xml\"):\n",
    "        file_path = os.path.join(bioc_dir, filename)\n",
    "        curr_paper_chunks = parse_bioc_into_chunks(file_path)\n",
    "        data.extend(curr_paper_chunks)\n",
    "\n",
    "df = pd.DataFrame(data)"
   ]
  },
  {
   "cell_type": "code",
   "execution_count": 9,
   "metadata": {},
   "outputs": [],
   "source": [
    "df[['first_num', 'second_num']] = df['id'].str.split('_', expand=True)\n",
    "\n",
    "# Step 2: Convert 'first_num' to numeric for proper sorting\n",
    "df['first_num'] = df['first_num'].astype(int)\n",
    "\n",
    "# Step 3: Group by 'first_num' and get the last row of each group\n",
    "result = df.groupby('first_num', as_index=False).last()\n",
    "result.to_csv('data/150_papers_json.csv', index=False)"
   ]
  },
  {
   "cell_type": "code",
   "execution_count": 7,
   "metadata": {},
   "outputs": [],
   "source": [
    "df.to_csv(\"data/chunked_training.csv\", index=False)"
   ]
  },
  {
   "cell_type": "code",
   "execution_count": 8,
   "metadata": {},
   "outputs": [
    {
     "data": {
      "text/plain": [
       "{'perovskite_composition': 'Cs 0.05 FA 0.85 MA 0.1 PbI 3',\n",
       " 'electron_transport_layer': 'C60',\n",
       " 'hole_transport_layer': '2PACz and Me-4PACz',\n",
       " 'structure_pin_nip': 'PIN',\n",
       " 'test_1': {'stability_type': 'ISOSL',\n",
       "  'passivating_molecule': '4-chlorobenzenesulfonate (4Cl-BZS)',\n",
       "  'humidity': None,\n",
       "  'temperature': '65',\n",
       "  'time': '1200',\n",
       "  'control_pce': '24',\n",
       "  'treated_pce': '26.9',\n",
       "  'control_voc': None,\n",
       "  'treated_voc': '1.18',\n",
       "  'efficiency_control': None,\n",
       "  'efficiency_tret': '95%'}}"
      ]
     },
     "execution_count": 8,
     "metadata": {},
     "output_type": "execute_result"
    }
   ],
   "source": [
    "(df[df[\"id\"].str.startswith(\"0_\")].iloc[-1][\"output\"])"
   ]
  },
  {
   "cell_type": "code",
   "execution_count": 9,
   "metadata": {},
   "outputs": [],
   "source": [
    "paper_8 = df[df[\"id\"].str.startswith(\"8_\")]"
   ]
  },
  {
   "cell_type": "code",
   "execution_count": 10,
   "metadata": {},
   "outputs": [
    {
     "data": {
      "text/plain": [
       "{'perovskite_composition': None,\n",
       " 'electron_transport_layer': 'Tin Oxide',\n",
       " 'hole_transport_layer': 'Spiro-OMeTAD',\n",
       " 'structure_pin_nip': 'NIP',\n",
       " 'test_1': {'stability_type': 'ISOSLT',\n",
       "  'passivating_molecule': 'ethylammonium pyrene',\n",
       "  'humidity': None,\n",
       "  'temperature': '40',\n",
       "  'time': '2000',\n",
       "  'control_pce': '19.3',\n",
       "  'treated_pce': '22.4',\n",
       "  'control_voc': None,\n",
       "  'treated_voc': '1.177',\n",
       "  'efficiency_control': None,\n",
       "  'efficiency_tret': '0.85',\n",
       "  'efficiency_cont': '0.6'}}"
      ]
     },
     "execution_count": 10,
     "metadata": {},
     "output_type": "execute_result"
    }
   ],
   "source": [
    "paper_8.iloc[-1][\"output\"]"
   ]
  },
  {
   "cell_type": "code",
   "execution_count": 11,
   "metadata": {},
   "outputs": [],
   "source": [
    "example_1 = paper_8[paper_8['text'].str.contains(\"Supplementary Text S3\")]"
   ]
  },
  {
   "cell_type": "code",
   "execution_count": 12,
   "metadata": {},
   "outputs": [
    {
     "ename": "KeyError",
     "evalue": "''",
     "output_type": "error",
     "traceback": [
      "\u001b[1;31m---------------------------------------------------------------------------\u001b[0m",
      "\u001b[1;31mKeyError\u001b[0m                                  Traceback (most recent call last)",
      "File \u001b[1;32m~\\AppData\\Roaming\\Python\\Python310\\site-packages\\pandas\\core\\indexes\\base.py:3805\u001b[0m, in \u001b[0;36mIndex.get_loc\u001b[1;34m(self, key)\u001b[0m\n\u001b[0;32m   3804\u001b[0m \u001b[38;5;28;01mtry\u001b[39;00m:\n\u001b[1;32m-> 3805\u001b[0m     \u001b[38;5;28;01mreturn\u001b[39;00m \u001b[38;5;28;43mself\u001b[39;49m\u001b[38;5;241;43m.\u001b[39;49m\u001b[43m_engine\u001b[49m\u001b[38;5;241;43m.\u001b[39;49m\u001b[43mget_loc\u001b[49m\u001b[43m(\u001b[49m\u001b[43mcasted_key\u001b[49m\u001b[43m)\u001b[49m\n\u001b[0;32m   3806\u001b[0m \u001b[38;5;28;01mexcept\u001b[39;00m \u001b[38;5;167;01mKeyError\u001b[39;00m \u001b[38;5;28;01mas\u001b[39;00m err:\n",
      "File \u001b[1;32mindex.pyx:167\u001b[0m, in \u001b[0;36mpandas._libs.index.IndexEngine.get_loc\u001b[1;34m()\u001b[0m\n",
      "File \u001b[1;32mindex.pyx:196\u001b[0m, in \u001b[0;36mpandas._libs.index.IndexEngine.get_loc\u001b[1;34m()\u001b[0m\n",
      "File \u001b[1;32mpandas\\\\_libs\\\\hashtable_class_helper.pxi:7081\u001b[0m, in \u001b[0;36mpandas._libs.hashtable.PyObjectHashTable.get_item\u001b[1;34m()\u001b[0m\n",
      "File \u001b[1;32mpandas\\\\_libs\\\\hashtable_class_helper.pxi:7089\u001b[0m, in \u001b[0;36mpandas._libs.hashtable.PyObjectHashTable.get_item\u001b[1;34m()\u001b[0m\n",
      "\u001b[1;31mKeyError\u001b[0m: ''",
      "\nThe above exception was the direct cause of the following exception:\n",
      "\u001b[1;31mKeyError\u001b[0m                                  Traceback (most recent call last)",
      "Cell \u001b[1;32mIn[12], line 1\u001b[0m\n\u001b[1;32m----> 1\u001b[0m example_1[\u001b[38;5;124m\"\u001b[39m\u001b[38;5;124m\"\u001b[39m]\u001b[38;5;241m.\u001b[39miloc[\u001b[38;5;241m0\u001b[39m]\n",
      "File \u001b[1;32m~\\AppData\\Roaming\\Python\\Python310\\site-packages\\pandas\\core\\frame.py:4102\u001b[0m, in \u001b[0;36mDataFrame.__getitem__\u001b[1;34m(self, key)\u001b[0m\n\u001b[0;32m   4100\u001b[0m \u001b[38;5;28;01mif\u001b[39;00m \u001b[38;5;28mself\u001b[39m\u001b[38;5;241m.\u001b[39mcolumns\u001b[38;5;241m.\u001b[39mnlevels \u001b[38;5;241m>\u001b[39m \u001b[38;5;241m1\u001b[39m:\n\u001b[0;32m   4101\u001b[0m     \u001b[38;5;28;01mreturn\u001b[39;00m \u001b[38;5;28mself\u001b[39m\u001b[38;5;241m.\u001b[39m_getitem_multilevel(key)\n\u001b[1;32m-> 4102\u001b[0m indexer \u001b[38;5;241m=\u001b[39m \u001b[38;5;28;43mself\u001b[39;49m\u001b[38;5;241;43m.\u001b[39;49m\u001b[43mcolumns\u001b[49m\u001b[38;5;241;43m.\u001b[39;49m\u001b[43mget_loc\u001b[49m\u001b[43m(\u001b[49m\u001b[43mkey\u001b[49m\u001b[43m)\u001b[49m\n\u001b[0;32m   4103\u001b[0m \u001b[38;5;28;01mif\u001b[39;00m is_integer(indexer):\n\u001b[0;32m   4104\u001b[0m     indexer \u001b[38;5;241m=\u001b[39m [indexer]\n",
      "File \u001b[1;32m~\\AppData\\Roaming\\Python\\Python310\\site-packages\\pandas\\core\\indexes\\base.py:3812\u001b[0m, in \u001b[0;36mIndex.get_loc\u001b[1;34m(self, key)\u001b[0m\n\u001b[0;32m   3807\u001b[0m     \u001b[38;5;28;01mif\u001b[39;00m \u001b[38;5;28misinstance\u001b[39m(casted_key, \u001b[38;5;28mslice\u001b[39m) \u001b[38;5;129;01mor\u001b[39;00m (\n\u001b[0;32m   3808\u001b[0m         \u001b[38;5;28misinstance\u001b[39m(casted_key, abc\u001b[38;5;241m.\u001b[39mIterable)\n\u001b[0;32m   3809\u001b[0m         \u001b[38;5;129;01mand\u001b[39;00m \u001b[38;5;28many\u001b[39m(\u001b[38;5;28misinstance\u001b[39m(x, \u001b[38;5;28mslice\u001b[39m) \u001b[38;5;28;01mfor\u001b[39;00m x \u001b[38;5;129;01min\u001b[39;00m casted_key)\n\u001b[0;32m   3810\u001b[0m     ):\n\u001b[0;32m   3811\u001b[0m         \u001b[38;5;28;01mraise\u001b[39;00m InvalidIndexError(key)\n\u001b[1;32m-> 3812\u001b[0m     \u001b[38;5;28;01mraise\u001b[39;00m \u001b[38;5;167;01mKeyError\u001b[39;00m(key) \u001b[38;5;28;01mfrom\u001b[39;00m \u001b[38;5;21;01merr\u001b[39;00m\n\u001b[0;32m   3813\u001b[0m \u001b[38;5;28;01mexcept\u001b[39;00m \u001b[38;5;167;01mTypeError\u001b[39;00m:\n\u001b[0;32m   3814\u001b[0m     \u001b[38;5;66;03m# If we have a listlike key, _check_indexing_error will raise\u001b[39;00m\n\u001b[0;32m   3815\u001b[0m     \u001b[38;5;66;03m#  InvalidIndexError. Otherwise we fall through and re-raise\u001b[39;00m\n\u001b[0;32m   3816\u001b[0m     \u001b[38;5;66;03m#  the TypeError.\u001b[39;00m\n\u001b[0;32m   3817\u001b[0m     \u001b[38;5;28mself\u001b[39m\u001b[38;5;241m.\u001b[39m_check_indexing_error(key)\n",
      "\u001b[1;31mKeyError\u001b[0m: ''"
     ]
    }
   ],
   "source": [
    "example_1[\"\"].iloc[0]"
   ]
  },
  {
   "cell_type": "code",
   "execution_count": 99,
   "metadata": {},
   "outputs": [],
   "source": [
    "example_1.to_csv(\"data/chunked_example.csv\", index=False)"
   ]
  },
  {
   "cell_type": "code",
   "execution_count": null,
   "metadata": {},
   "outputs": [],
   "source": []
  }
 ],
 "metadata": {
  "kernelspec": {
   "display_name": "Python 3",
   "language": "python",
   "name": "python3"
  },
  "language_info": {
   "codemirror_mode": {
    "name": "ipython",
    "version": 3
   },
   "file_extension": ".py",
   "mimetype": "text/x-python",
   "name": "python",
   "nbconvert_exporter": "python",
   "pygments_lexer": "ipython3",
   "version": "3.10.15"
  }
 },
 "nbformat": 4,
 "nbformat_minor": 2
}
