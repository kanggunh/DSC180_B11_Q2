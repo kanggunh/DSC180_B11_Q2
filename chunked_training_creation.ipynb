{
 "cells": [
  {
   "cell_type": "code",
   "execution_count": 1,
   "metadata": {},
   "outputs": [],
   "source": [
    "import json\n",
    "import os\n",
    "import xml.etree.ElementTree as ET\n",
    "import pandas as pd"
   ]
  },
  {
   "cell_type": "code",
   "execution_count": 2,
   "metadata": {},
   "outputs": [],
   "source": [
    "EMPTY_PAPER_DATA = {\n",
    "    \"perovskite_composition\": None,\n",
    "    \"electron_transport_layer\": None,\n",
    "    \"hole_transport_layer\": None,\n",
    "    \"structure_pin_nip\": None,\n",
    "}\n",
    "EMPTY_STABILITY_TEST = {\n",
    "    \"stability_type\": None,\n",
    "    \"passivating_molecule\": None,\n",
    "    \"humidity\": None,\n",
    "    \"temperature\": None,\n",
    "    \"time\": None,\n",
    "    \"control_pce\": None,\n",
    "    \"treated_pce\": None,\n",
    "    \"control_voc\": None,\n",
    "    \"treated_voc\": None,\n",
    "    \"efficiency_control\": None,\n",
    "    \"efficiency_tret\": None\n",
    "}"
   ]
  },
  {
   "cell_type": "code",
   "execution_count": 3,
   "metadata": {},
   "outputs": [],
   "source": [
    "def get_json_for_passage(passage, relations, previous_json):\n",
    "    concept_ids = set()\n",
    "    for annotation in passage.findall(\".//annotation\"):\n",
    "        node_id = annotation.get(\"id\")\n",
    "        var_name = annotation.find(\"infon[@key='type']\").text\n",
    "        concept_id = annotation.find(\"infon[@key='identifier']\").text\n",
    "        value = annotation.find(\"text\").text\n",
    "        value = concept_id if concept_id is not None else value\n",
    "        if var_name == \"perovskite_molecule\": #due to an error in some of the annotations\n",
    "            var_name = \"passivating_molecule\"\n",
    "        if var_name in [\"additive_molecule\", \"treatment_element\", \"control_element\", \"metal_contact\"]: #irrelevant\n",
    "            continue\n",
    "\n",
    "        if var_name in [\"perovskite_composition\", \"structure_pin_nip\", \"electron_transport_layer\", \"hole_transport_layer\" ]:\n",
    "            #in top level: composition, ETL, HTL, PIN-NIP,\n",
    "            previous_json[var_name] = value\n",
    "        elif node_id in relations:\n",
    "            test_name = relations[node_id]\n",
    "            if test_name not in previous_json:\n",
    "                previous_json[test_name] = EMPTY_STABILITY_TEST.copy()\n",
    "            previous_json[test_name][var_name] = value\n",
    "        elif len(relations.keys()) == 0:\n",
    "            if \"test_1\" not in previous_json:\n",
    "                previous_json[\"test_1\"] = EMPTY_STABILITY_TEST.copy()\n",
    "            previous_json[\"test_1\"][var_name] = value\n",
    "            #in stability tests:\n",
    "            #test type, passivator, PCE (control + treat), VOC (control + treat)\n",
    "            #efficiency (treat, control), temp, time, humidity\n",
    "        else:\n",
    "            #assumes that all other possible data goes into the first stability test\n",
    "            if \"test_1\" not in previous_json:\n",
    "                previous_json[\"test_1\"] = EMPTY_STABILITY_TEST.copy()\n",
    "            previous_json[\"test_1\"][var_name] = value\n",
    "\n",
    "    return previous_json\n",
    "    \n"
   ]
  },
  {
   "cell_type": "code",
   "execution_count": 4,
   "metadata": {},
   "outputs": [],
   "source": [
    "def extract_papernum(root):\n",
    "    first_text = root.find(\".//text\")\n",
    "    full_text = first_text.text\n",
    "    \n",
    "    ##We want to extract article number from this format\n",
    "    #Method: split by spaces and extract the last element in the list\n",
    "    text_list = full_text.split()\n",
    "    paper_num = text_list[-1]\n",
    "    return paper_num"
   ]
  },
  {
   "cell_type": "code",
   "execution_count": 5,
   "metadata": {},
   "outputs": [],
   "source": [
    "def parse_bioc_into_chunks(file_path):\n",
    "    tree = ET.parse(file_path)\n",
    "    root = tree.getroot()\n",
    "\n",
    "    passages = root.findall('.//passage')\n",
    "    data = []\n",
    "\n",
    "    relations = {}\n",
    "    test_names = set()\n",
    "    for relation in root.findall(\".//relation\"):\n",
    "        test_name = relation.find(\"infon[@key='type']\").text\n",
    "        if 'performance' in test_name: #irrelevant tests\n",
    "            continue\n",
    "        if test_name not in test_names:\n",
    "            test_names.add(test_name)\n",
    "        else:\n",
    "            test_name = test_name + \"_2\"\n",
    "        node_ids = [node.get(\"refid\") for node in relation.findall(\"node\")]\n",
    "        for node_id in node_ids:\n",
    "            relations[node_id] = test_name\n",
    "    \n",
    "    paper_num = extract_papernum(root)\n",
    "    curr_json = EMPTY_PAPER_DATA.copy()\n",
    "    for relation in root.findall('.//relation'):\n",
    "        test_name = relation.find\n",
    "    for i, passage in enumerate(passages):\n",
    "        passage_text = passage.find('.//text').text\n",
    "        row = { \"id\": f\"{paper_num}_{i}\", \"text\": passage_text, \"memory\": json.dumps(curr_json) }\n",
    "        curr_json = get_json_for_passage(passage, relations, curr_json)\n",
    "        row['output'] = json.dumps(curr_json)\n",
    "        data.append(row)\n",
    "    return data"
   ]
  },
  {
   "cell_type": "code",
   "execution_count": 6,
   "metadata": {},
   "outputs": [],
   "source": [
    "bioc_dir = \"data/biocs\"\n",
    "data = []\n",
    "for filename in os.listdir(bioc_dir):\n",
    "    if filename.endswith(\".xml\"):\n",
    "        file_path = os.path.join(bioc_dir, filename)\n",
    "        curr_paper_chunks = parse_bioc_into_chunks(file_path)\n",
    "        data.extend(curr_paper_chunks)\n",
    "\n",
    "df = pd.DataFrame(data)"
   ]
  },
  {
   "cell_type": "code",
   "execution_count": 7,
   "metadata": {},
   "outputs": [],
   "source": [
    "df.to_csv(\"data/chunked_training.csv\", index=False)"
   ]
  },
  {
   "cell_type": "code",
   "execution_count": 8,
   "metadata": {},
   "outputs": [
    {
     "data": {
      "text/plain": [
       "'{\"perovskite_composition\": \"Cs 0.05 FA 0.85 MA 0.1 PbI 3\", \"electron_transport_layer\": \"C60\", \"hole_transport_layer\": \"2PACz and Me-4PACz\", \"structure_pin_nip\": \"PIN\", \"test_1\": {\"stability_type\": \"ISOSL\", \"passivating_molecule\": \"4-chlorobenzenesulfonate (4Cl-BZS)\", \"humidity\": null, \"temperature\": \"65\", \"time\": \"1200\", \"control_pce\": \"24\", \"treated_pce\": \"26.9\", \"control_voc\": null, \"treated_voc\": \"1.18\", \"efficiency_control\": null, \"efficiency_tret\": \"95%\"}}'"
      ]
     },
     "execution_count": 8,
     "metadata": {},
     "output_type": "execute_result"
    }
   ],
   "source": [
    "(df[df[\"id\"].str.startswith(\"0_\")].iloc[-1][\"output\"])"
   ]
  },
  {
   "cell_type": "code",
   "execution_count": 9,
   "metadata": {},
   "outputs": [],
   "source": [
    "paper_8 = df[df[\"id\"].str.startswith(\"8_\")]"
   ]
  },
  {
   "cell_type": "code",
   "execution_count": 10,
   "metadata": {},
   "outputs": [
    {
     "data": {
      "text/plain": [
       "'{\"perovskite_composition\": null, \"electron_transport_layer\": \"Tin Oxide\", \"hole_transport_layer\": \"Spiro-OMeTAD\", \"structure_pin_nip\": \"NIP\", \"test_1\": {\"stability_type\": \"ISOSLT\", \"passivating_molecule\": \"ethylammonium pyrene\", \"humidity\": null, \"temperature\": \"40\", \"time\": \"2000\", \"control_pce\": \"19.3\", \"treated_pce\": \"22.4\", \"control_voc\": null, \"treated_voc\": \"1.177\", \"efficiency_control\": null, \"efficiency_tret\": \"0.85\", \"efficiency_cont\": \"0.6\"}}'"
      ]
     },
     "execution_count": 10,
     "metadata": {},
     "output_type": "execute_result"
    }
   ],
   "source": [
    "paper_8.iloc[-1][\"output\"]"
   ]
  },
  {
   "cell_type": "code",
   "execution_count": 11,
   "metadata": {},
   "outputs": [],
   "source": [
    "example_1 = paper_8[paper_8['text'].str.contains(\"Supplementary Text S3\")]"
   ]
  },
  {
   "cell_type": "code",
   "execution_count": 13,
   "metadata": {},
   "outputs": [],
   "source": [
    "example_1.to_csv(\"data/chunked_example.csv\", index=False)"
   ]
  },
  {
   "cell_type": "code",
   "execution_count": null,
   "metadata": {},
   "outputs": [],
   "source": []
  }
 ],
 "metadata": {
  "kernelspec": {
   "display_name": "Python 3",
   "language": "python",
   "name": "python3"
  },
  "language_info": {
   "codemirror_mode": {
    "name": "ipython",
    "version": 3
   },
   "file_extension": ".py",
   "mimetype": "text/x-python",
   "name": "python",
   "nbconvert_exporter": "python",
   "pygments_lexer": "ipython3",
   "version": "3.10.15"
  }
 },
 "nbformat": 4,
 "nbformat_minor": 2
}
