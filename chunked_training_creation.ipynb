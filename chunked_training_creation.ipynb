{
 "cells": [
  {
   "cell_type": "code",
   "execution_count": 1,
   "metadata": {},
   "outputs": [],
   "source": [
    "import json\n",
    "import os\n",
    "import xml.etree.ElementTree as ET\n",
    "import pandas as pd"
   ]
  },
  {
   "cell_type": "code",
   "execution_count": 2,
   "metadata": {},
   "outputs": [],
   "source": [
    "EMPTY_PAPER_DATA = {\n",
    "    \"perovskite_composition\": None,\n",
    "    \"electron_transport_layer\": None,\n",
    "    \"hole_transport_layer\": None,\n",
    "    \"structure_pin_nip\": None,\n",
    "}\n",
    "EMPTY_STABILITY_TEST = {\n",
    "    \"stability_type\": None,\n",
    "    \"passivating_molecule\": None,\n",
    "    \"humidity\": None,\n",
    "    \"temperature\": None,\n",
    "    \"time\": None,\n",
    "    \"control_pce\": None,\n",
    "    \"treated_pce\": None,\n",
    "    \"control_voc\": None,\n",
    "    \"treated_voc\": None,\n",
    "    \"efficiency_control\": None,\n",
    "    \"efficiency_tret\": None\n",
    "}"
   ]
  },
  {
   "cell_type": "code",
   "execution_count": 3,
   "metadata": {},
   "outputs": [],
   "source": [
    "def get_json_for_passage(passage, relations, previous_json):\n",
    "    concept_ids = set()\n",
    "    for annotation in passage.findall(\".//annotation\"):\n",
    "        node_id = annotation.get(\"id\")\n",
    "        var_name = annotation.find(\"infon[@key='type']\").text\n",
    "        concept_id = annotation.find(\"infon[@key='identifier']\").text\n",
    "        value = annotation.find(\"text\").text\n",
    "        value = concept_id if concept_id is not None else value\n",
    "        if var_name == \"perovskite_molecule\": #due to an error in some of the annotations\n",
    "            var_name = \"passivating_molecule\"\n",
    "        if var_name in [\"additive_molecule\", \"treatment_element\", \"control_element\", \"metal_contact\"]: #irrelevant\n",
    "            continue\n",
    "\n",
    "        if var_name in [\"perovskite_composition\", \"structure_pin_nip\", \"electron_transport_layer\", \"hole_transport_layer\" ]:\n",
    "            #in top level: composition, ETL, HTL, PIN-NIP,\n",
    "            previous_json[var_name] = value\n",
    "        elif node_id in relations:\n",
    "            test_name = relations[node_id]\n",
    "            if test_name not in previous_json:\n",
    "                previous_json[test_name] = EMPTY_STABILITY_TEST.copy()\n",
    "            previous_json[test_name][var_name] = value\n",
    "        elif len(relations.keys()) == 0:\n",
    "            if \"test_1\" not in previous_json:\n",
    "                previous_json[\"test_1\"] = EMPTY_STABILITY_TEST.copy()\n",
    "            previous_json[\"test_1\"][var_name] = value\n",
    "            #in stability tests:\n",
    "            #test type, passivator, PCE (control + treat), VOC (control + treat)\n",
    "            #efficiency (treat, control), temp, time, humidity\n",
    "        else:\n",
    "            #assumes that all other possible data goes into the first stability test\n",
    "            if \"test_1\" not in previous_json:\n",
    "                previous_json[\"test_1\"] = EMPTY_STABILITY_TEST.copy()\n",
    "            previous_json[\"test_1\"][var_name] = value\n",
    "\n",
    "    return previous_json\n",
    "    \n"
   ]
  },
  {
   "cell_type": "code",
   "execution_count": 4,
   "metadata": {},
   "outputs": [],
   "source": [
    "def extract_papernum(root):\n",
    "    first_text = root.find(\".//text\")\n",
    "    full_text = first_text.text\n",
    "    \n",
    "    ##We want to extract article number from this format\n",
    "    #Method: split by spaces and extract the last element in the list\n",
    "    text_list = full_text.split()\n",
    "    paper_num = text_list[-1]\n",
    "    return paper_num"
   ]
  },
  {
   "cell_type": "code",
   "execution_count": 5,
   "metadata": {},
   "outputs": [],
   "source": [
    "def parse_bioc_into_chunks(file_path):\n",
    "    tree = ET.parse(file_path)\n",
    "    root = tree.getroot()\n",
    "\n",
    "    passages = root.findall('.//passage')\n",
    "    data = []\n",
    "\n",
    "    relations = {}\n",
    "    for relation in root.findall(\".//relation\"):\n",
    "        test_name = relation.find(\"infon[@key='type']\").text\n",
    "        if 'performance' in test_name: #irrelevant tests\n",
    "            continue\n",
    "        node_ids = [node.get(\"refid\") for node in relation.findall(\"node\")]\n",
    "        for node_id in node_ids:\n",
    "            relations[node_id] = test_name\n",
    "    \n",
    "    paper_num = extract_papernum(root)\n",
    "    curr_json = EMPTY_PAPER_DATA.copy()\n",
    "    for relation in root.findall('.//relation'):\n",
    "        test_name = relation.find\n",
    "    for i, passage in enumerate(passages):\n",
    "        passage_text = passage.find('.//text').text\n",
    "        row = { \"id\": f\"{paper_num}_{i}\", \"text\": passage_text, \"memory\": curr_json.copy() }\n",
    "        curr_json = get_json_for_passage(passage, relations, curr_json)\n",
    "        row['output'] = curr_json.copy()\n",
    "        data.append(row)\n",
    "    return data"
   ]
  },
  {
   "cell_type": "code",
   "execution_count": 6,
   "metadata": {},
   "outputs": [],
   "source": [
    "bioc_dir = \"data/biocs\"\n",
    "data = []\n",
    "for filename in os.listdir(bioc_dir):\n",
    "    if filename.endswith(\".xml\"):\n",
    "        file_path = os.path.join(bioc_dir, filename)\n",
    "        curr_paper_chunks = parse_bioc_into_chunks(file_path)\n",
    "        data.extend(curr_paper_chunks)\n",
    "\n",
    "df = pd.DataFrame(data)"
   ]
  },
  {
   "cell_type": "code",
   "execution_count": 7,
   "metadata": {},
   "outputs": [
    {
     "data": {
      "text/html": [
       "<div>\n",
       "<style scoped>\n",
       "    .dataframe tbody tr th:only-of-type {\n",
       "        vertical-align: middle;\n",
       "    }\n",
       "\n",
       "    .dataframe tbody tr th {\n",
       "        vertical-align: top;\n",
       "    }\n",
       "\n",
       "    .dataframe thead th {\n",
       "        text-align: right;\n",
       "    }\n",
       "</style>\n",
       "<table border=\"1\" class=\"dataframe\">\n",
       "  <thead>\n",
       "    <tr style=\"text-align: right;\">\n",
       "      <th></th>\n",
       "      <th>id</th>\n",
       "      <th>text</th>\n",
       "      <th>memory</th>\n",
       "      <th>output</th>\n",
       "    </tr>\n",
       "  </thead>\n",
       "  <tbody>\n",
       "    <tr>\n",
       "      <th>0</th>\n",
       "      <td>61_0</td>\n",
       "      <td>Paper #: 61\\r</td>\n",
       "      <td>{'perovskite_composition': None, 'electron_tra...</td>\n",
       "      <td>{'perovskite_composition': None, 'electron_tra...</td>\n",
       "    </tr>\n",
       "    <tr>\n",
       "      <th>1</th>\n",
       "      <td>61_1</td>\n",
       "      <td>In Situ Observation of Vapor-Assisted 2D-3D He...</td>\n",
       "      <td>{'perovskite_composition': None, 'electron_tra...</td>\n",
       "      <td>{'perovskite_composition': None, 'electron_tra...</td>\n",
       "    </tr>\n",
       "    <tr>\n",
       "      <th>2</th>\n",
       "      <td>61_2</td>\n",
       "      <td>The heterogeneous stacking of a thin two-dimen...</td>\n",
       "      <td>{'perovskite_composition': None, 'electron_tra...</td>\n",
       "      <td>{'perovskite_composition': None, 'electron_tra...</td>\n",
       "    </tr>\n",
       "    <tr>\n",
       "      <th>3</th>\n",
       "      <td>61_3</td>\n",
       "      <td>T he stunning progresses made in the developme...</td>\n",
       "      <td>{'perovskite_composition': None, 'electron_tra...</td>\n",
       "      <td>{'perovskite_composition': None, 'electron_tra...</td>\n",
       "    </tr>\n",
       "    <tr>\n",
       "      <th>4</th>\n",
       "      <td>61_4</td>\n",
       "      <td>■ ASSOCIATED CONTENT \\r</td>\n",
       "      <td>{'perovskite_composition': None, 'electron_tra...</td>\n",
       "      <td>{'perovskite_composition': None, 'electron_tra...</td>\n",
       "    </tr>\n",
       "    <tr>\n",
       "      <th>...</th>\n",
       "      <td>...</td>\n",
       "      <td>...</td>\n",
       "      <td>...</td>\n",
       "      <td>...</td>\n",
       "    </tr>\n",
       "    <tr>\n",
       "      <th>5307</th>\n",
       "      <td>81_26</td>\n",
       "      <td>Table S2 . Photovoltaic parameters of perovsk...</td>\n",
       "      <td>{'perovskite_composition': 'CsMAFA', 'electron...</td>\n",
       "      <td>{'perovskite_composition': 'CsMAFA', 'electron...</td>\n",
       "    </tr>\n",
       "    <tr>\n",
       "      <th>5308</th>\n",
       "      <td>81_27</td>\n",
       "      <td>Table S3 . PL decay lifetimes of perovskite f...</td>\n",
       "      <td>{'perovskite_composition': 'CsMAFA', 'electron...</td>\n",
       "      <td>{'perovskite_composition': 'CsMAFA', 'electron...</td>\n",
       "    </tr>\n",
       "    <tr>\n",
       "      <th>5309</th>\n",
       "      <td>81_28</td>\n",
       "      <td>Table S4 . Photovoltaic performance of perovs...</td>\n",
       "      <td>{'perovskite_composition': 'CsMAFA', 'electron...</td>\n",
       "      <td>{'perovskite_composition': 'CsMAFA', 'electron...</td>\n",
       "    </tr>\n",
       "    <tr>\n",
       "      <th>5310</th>\n",
       "      <td>81_29</td>\n",
       "      <td>TiO 2 /TiO 2 -Cl Reverse 1.131 22.9 0.803 20....</td>\n",
       "      <td>{'perovskite_composition': 'CsMAFA', 'electron...</td>\n",
       "      <td>{'perovskite_composition': 'CsMAFA', 'electron...</td>\n",
       "    </tr>\n",
       "    <tr>\n",
       "      <th>5311</th>\n",
       "      <td>81_30</td>\n",
       "      <td>\\t\\t\\t RESEARCH | REPORTDownloaded from https:...</td>\n",
       "      <td>{'perovskite_composition': 'CsMAFA', 'electron...</td>\n",
       "      <td>{'perovskite_composition': 'CsMAFA', 'electron...</td>\n",
       "    </tr>\n",
       "  </tbody>\n",
       "</table>\n",
       "<p>5312 rows × 4 columns</p>\n",
       "</div>"
      ],
      "text/plain": [
       "         id                                               text  \\\n",
       "0      61_0                                      Paper #: 61\\r   \n",
       "1      61_1  In Situ Observation of Vapor-Assisted 2D-3D He...   \n",
       "2      61_2  The heterogeneous stacking of a thin two-dimen...   \n",
       "3      61_3  T he stunning progresses made in the developme...   \n",
       "4      61_4                            ■ ASSOCIATED CONTENT \\r   \n",
       "...     ...                                                ...   \n",
       "5307  81_26   Table S2 . Photovoltaic parameters of perovsk...   \n",
       "5308  81_27   Table S3 . PL decay lifetimes of perovskite f...   \n",
       "5309  81_28   Table S4 . Photovoltaic performance of perovs...   \n",
       "5310  81_29   TiO 2 /TiO 2 -Cl Reverse 1.131 22.9 0.803 20....   \n",
       "5311  81_30  \\t\\t\\t RESEARCH | REPORTDownloaded from https:...   \n",
       "\n",
       "                                                 memory  \\\n",
       "0     {'perovskite_composition': None, 'electron_tra...   \n",
       "1     {'perovskite_composition': None, 'electron_tra...   \n",
       "2     {'perovskite_composition': None, 'electron_tra...   \n",
       "3     {'perovskite_composition': None, 'electron_tra...   \n",
       "4     {'perovskite_composition': None, 'electron_tra...   \n",
       "...                                                 ...   \n",
       "5307  {'perovskite_composition': 'CsMAFA', 'electron...   \n",
       "5308  {'perovskite_composition': 'CsMAFA', 'electron...   \n",
       "5309  {'perovskite_composition': 'CsMAFA', 'electron...   \n",
       "5310  {'perovskite_composition': 'CsMAFA', 'electron...   \n",
       "5311  {'perovskite_composition': 'CsMAFA', 'electron...   \n",
       "\n",
       "                                                 output  \n",
       "0     {'perovskite_composition': None, 'electron_tra...  \n",
       "1     {'perovskite_composition': None, 'electron_tra...  \n",
       "2     {'perovskite_composition': None, 'electron_tra...  \n",
       "3     {'perovskite_composition': None, 'electron_tra...  \n",
       "4     {'perovskite_composition': None, 'electron_tra...  \n",
       "...                                                 ...  \n",
       "5307  {'perovskite_composition': 'CsMAFA', 'electron...  \n",
       "5308  {'perovskite_composition': 'CsMAFA', 'electron...  \n",
       "5309  {'perovskite_composition': 'CsMAFA', 'electron...  \n",
       "5310  {'perovskite_composition': 'CsMAFA', 'electron...  \n",
       "5311  {'perovskite_composition': 'CsMAFA', 'electron...  \n",
       "\n",
       "[5312 rows x 4 columns]"
      ]
     },
     "execution_count": 7,
     "metadata": {},
     "output_type": "execute_result"
    }
   ],
   "source": [
    "df"
   ]
  },
  {
   "cell_type": "code",
   "execution_count": 10,
   "metadata": {},
   "outputs": [
    {
     "data": {
      "text/plain": [
       "{'perovskite_composition': 'Cs 0.05 FA 0.85 MA 0.1 PbI 3',\n",
       " 'electron_transport_layer': 'C60',\n",
       " 'hole_transport_layer': '2PACz and Me-4PACz',\n",
       " 'structure_pin_nip': 'PIN',\n",
       " 'test_1': {'stability_type': 'ISOSL',\n",
       "  'passivating_molecule': '4-chlorobenzenesulfonate (4Cl-BZS)',\n",
       "  'humidity': None,\n",
       "  'temperature': '65',\n",
       "  'time': '1200',\n",
       "  'control_pce': '24',\n",
       "  'treated_pce': '26.9',\n",
       "  'control_voc': None,\n",
       "  'treated_voc': '1.18',\n",
       "  'efficiency_control': None,\n",
       "  'efficiency_tret': '95%'}}"
      ]
     },
     "execution_count": 10,
     "metadata": {},
     "output_type": "execute_result"
    }
   ],
   "source": [
    "(df[df[\"id\"].str.startswith(\"0_\")].iloc[-1][\"output\"])"
   ]
  },
  {
   "cell_type": "code",
   "execution_count": 8,
   "metadata": {},
   "outputs": [],
   "source": [
    "paper_8 = df[df[\"id\"].str.startswith(\"8_\")]"
   ]
  },
  {
   "cell_type": "code",
   "execution_count": 94,
   "metadata": {},
   "outputs": [
    {
     "data": {
      "text/plain": [
       "{'perovskite_composition': None,\n",
       " 'electron_transport_layer': 'Tin Oxide',\n",
       " 'hole_transport_layer': 'Spiro-OMeTAD',\n",
       " 'structure_pin_nip': 'NIP',\n",
       " 'test_1': {'stability_type': 'ISOSLT',\n",
       "  'passivating_molecule': 'ethylammonium pyrene',\n",
       "  'humidity': None,\n",
       "  'temperature': '40',\n",
       "  'time': '2000',\n",
       "  'control_pce': '19.3',\n",
       "  'treated_pce': '22.4',\n",
       "  'control_voc': None,\n",
       "  'treated_voc': '1.177',\n",
       "  'efficiency_control': None,\n",
       "  'efficiency_tret': '0.85',\n",
       "  'efficiency_cont': '0.6'}}"
      ]
     },
     "execution_count": 94,
     "metadata": {},
     "output_type": "execute_result"
    }
   ],
   "source": [
    "paper_8.iloc[-1][\"output\"]"
   ]
  },
  {
   "cell_type": "code",
   "execution_count": 96,
   "metadata": {},
   "outputs": [],
   "source": [
    "example_1 = paper_8[paper_8['text'].str.contains(\"Supplementary Text S3\")]"
   ]
  },
  {
   "cell_type": "code",
   "execution_count": 98,
   "metadata": {},
   "outputs": [
    {
     "data": {
      "text/plain": [
       "{'perovskite_composition': None,\n",
       " 'electron_transport_layer': 'Tin Oxide',\n",
       " 'hole_transport_layer': 'Spiro-OMeTAD',\n",
       " 'structure_pin_nip': 'NIP'}"
      ]
     },
     "execution_count": 98,
     "metadata": {},
     "output_type": "execute_result"
    }
   ],
   "source": [
    "example_1[\"\"].iloc[0]"
   ]
  },
  {
   "cell_type": "code",
   "execution_count": 99,
   "metadata": {},
   "outputs": [],
   "source": [
    "example_1.to_csv(\"data/chunked_example.csv\", index=False)"
   ]
  },
  {
   "cell_type": "code",
   "execution_count": null,
   "metadata": {},
   "outputs": [],
   "source": []
  }
 ],
 "metadata": {
  "kernelspec": {
   "display_name": "mykernel",
   "language": "python",
   "name": "python3"
  },
  "language_info": {
   "codemirror_mode": {
    "name": "ipython",
    "version": 3
   },
   "file_extension": ".py",
   "mimetype": "text/x-python",
   "name": "python",
   "nbconvert_exporter": "python",
   "pygments_lexer": "ipython3",
   "version": "3.11.9"
  }
 },
 "nbformat": 4,
 "nbformat_minor": 2
}
