{
 "cells": [
  {
   "cell_type": "code",
   "execution_count": 1,
   "metadata": {},
   "outputs": [],
   "source": [
    "import json\n",
    "import os\n",
    "import xml.etree.ElementTree as ET\n",
    "import pandas as pd\n",
    "import numpy as np\n",
    "from scipy.spatial.distance import euclidean"
   ]
  },
  {
   "cell_type": "markdown",
   "metadata": {},
   "source": [
    "### Parsing BioC XML"
   ]
  },
  {
   "cell_type": "code",
   "execution_count": 49,
   "metadata": {},
   "outputs": [],
   "source": [
    "EMPTY_PAPER_DATA = {\n",
    "    \"perovskite_composition\": None,\n",
    "    \"electron_transport_layer\": None,\n",
    "    \"hole_transport_layer\": None,\n",
    "    \"structure_pin_nip\": None,\n",
    "    \"passivating_molecule\": None,\n",
    "    \"control_pce\": None,\n",
    "    \"treated_pce\": None,\n",
    "    \"control_voc\": None,\n",
    "    \"treated_voc\": None,\n",
    "}\n",
    "EMPTY_STABILITY_TEST = {\n",
    "    \"stability_type\": None,\n",
    "    \"humidity\": None,\n",
    "    \"temperature\": None,\n",
    "    \"time\": None,\n",
    "    \"efficiency_cont\": None,\n",
    "    \"efficiency_tret\": None\n",
    "}"
   ]
  },
  {
   "cell_type": "code",
   "execution_count": 50,
   "metadata": {},
   "outputs": [],
   "source": [
    "def get_first_passivator(root, relations):\n",
    "    passivators = {}\n",
    "    for annotation in root.findall(\".//annotation\"):\n",
    "        node_id = annotation.get(\"id\")\n",
    "        var_name = annotation.find(\"infon[@key='type']\").text\n",
    "        concept_id = annotation.find(\"infon[@key='identifier']\").text\n",
    "        value = annotation.find(\"text\").text\n",
    "        value = concept_id if concept_id else value\n",
    "        if var_name == \"passivating_molecule\":\n",
    "            if value in passivators:\n",
    "                passivators[value].append(node_id)\n",
    "            else:\n",
    "                passivators[value] = [node_id]\n",
    "    for passivator in passivators:\n",
    "        passivator_nodes = passivators[passivator]\n",
    "        for node_id in passivator_nodes:\n",
    "            if node_id in relations:\n",
    "                return passivator, node_id\n",
    "    \n",
    "    #case where there are no passivators in a relation but there are passivators in the paper\n",
    "    for passivator in passivators:\n",
    "        #arbitrarily choose the first passivator\n",
    "        return passivator, passivators[passivator][0]\n",
    "    \n",
    "    #case where there are no passivators in the paper\n",
    "    return None, None"
   ]
  },
  {
   "cell_type": "code",
   "execution_count": 51,
   "metadata": {},
   "outputs": [],
   "source": [
    "def get_num_passivators(root):\n",
    "    passivators = set()\n",
    "    for annotation in root.findall(\".//annotation\"):\n",
    "        var_name = annotation.find(\"infon[@key='type']\").text\n",
    "        concept_id = annotation.find(\"infon[@key='identifier']\").text\n",
    "        value = annotation.find(\"text\").text\n",
    "        value = concept_id if concept_id else value\n",
    "        if var_name == \"passivating_molecule\":\n",
    "            passivators.add(value)\n",
    "    return len(passivators)"
   ]
  },
  {
   "cell_type": "code",
   "execution_count": 52,
   "metadata": {},
   "outputs": [],
   "source": [
    "def get_json_for_passage(passage, relations, previous_json, passivator, passivator_node_id, num_passivators):\n",
    "    concept_ids = set()\n",
    "    \n",
    "    for annotation in passage.findall(\".//annotation\"):\n",
    "        node_id = annotation.get(\"id\")\n",
    "        var_name = annotation.find(\"infon[@key='type']\").text\n",
    "        concept_id = annotation.find(\"infon[@key='identifier']\").text\n",
    "        value = annotation.find(\"text\").text\n",
    "        value = concept_id if concept_id is not None else value\n",
    "        if var_name in [\"additive_molecule\", \"treatment_element\", \"control_element\", \"metal_contact\", \"perovskite_molecule\"]: #irrelevant\n",
    "            continue\n",
    "\n",
    "        related_not_nested = [\"treated_pce\", \"control_pce\", \"treated_voc\", \"control_voc\", \"passivating_molecule\"]\n",
    "        related_nested = [\"stability_type\", \"humidity\", \"temperature\", \"time\", \"efficiency_cont\", \"efficiency_tret\"]\n",
    "        if var_name in [\"perovskite_composition\", \"structure_pin_nip\", \"electron_transport_layer\", \"hole_transport_layer\" ]:\n",
    "            #in top level: composition, ETL, HTL, PIN-NIP,\n",
    "            previous_json[var_name] = value\n",
    "        elif var_name in related_not_nested:\n",
    "            if num_passivators <= 1:\n",
    "                previous_json[var_name] = value\n",
    "            elif node_id not in relations: #unable to infer if it belongs to the passivator\n",
    "                previous_json[var_name] = None\n",
    "            else:\n",
    "                relevant_tests = relations[passivator_node_id]\n",
    "                node_tests = relations[node_id]\n",
    "                for test_name in node_tests:\n",
    "                    if test_name not in relevant_tests: #only gets if it is related to the passivator\n",
    "                        continue\n",
    "                    previous_json[var_name] = value\n",
    "        elif node_id in relations and var_name in related_nested:\n",
    "            test_names = relations[node_id]\n",
    "            relevant_tests = test_names\n",
    "            if num_passivators > 1:\n",
    "                relevant_tests = relations[passivator_node_id]\n",
    "            for test_name in test_names:\n",
    "                if test_name not in relevant_tests:\n",
    "                    continue\n",
    "                if test_name not in previous_json:\n",
    "                    previous_json[test_name] = EMPTY_STABILITY_TEST.copy()\n",
    "                previous_json[test_name][var_name] = value\n",
    "        elif len(relations.keys()) == 0:\n",
    "            if \"test_1\" not in previous_json:\n",
    "                previous_json[\"test_1\"] = EMPTY_STABILITY_TEST.copy()\n",
    "            previous_json[\"test_1\"][var_name] = value\n",
    "            #in stability tests:\n",
    "            #test type, passivator, PCE (control + treat), VOC (control + treat)\n",
    "            #efficiency (treat, control), temp, time, humidity\n",
    "        else:\n",
    "            #assumes that all other possible data goes into the first stability test\n",
    "            if \"test_1\" not in previous_json:\n",
    "                previous_json[\"test_1\"] = EMPTY_STABILITY_TEST.copy()\n",
    "            previous_json[\"test_1\"][var_name] = value\n",
    "\n",
    "    return previous_json\n",
    "    \n"
   ]
  },
  {
   "cell_type": "code",
   "execution_count": 53,
   "metadata": {},
   "outputs": [],
   "source": [
    "def extract_papernum(root):\n",
    "    first_text = root.find(\".//text\")\n",
    "    full_text = first_text.text\n",
    "    \n",
    "    ##We want to extract article number from this format\n",
    "    #Method: split by spaces and extract the last element in the list\n",
    "    text_list = full_text.split()\n",
    "    paper_num = text_list[-1]\n",
    "    return paper_num"
   ]
  },
  {
   "cell_type": "code",
   "execution_count": 54,
   "metadata": {},
   "outputs": [],
   "source": [
    "def parse_bioc_into_chunks(file_path):\n",
    "    tree = ET.parse(file_path)\n",
    "    root = tree.getroot()\n",
    "\n",
    "    passages = root.findall('.//passage')\n",
    "    data = []\n",
    "\n",
    "    relations = {}\n",
    "    test_names = set()\n",
    "    for relation in root.findall(\".//relation\"):\n",
    "        test_name = relation.find(\"infon[@key='type']\").text\n",
    "        if test_name in test_names:\n",
    "            test_name = test_name + \"_2\"\n",
    "        test_names.add(test_name)\n",
    "        if 'performance' in test_name:\n",
    "            continue\n",
    "        node_ids = [node.get(\"refid\") for node in relation.findall(\"node\")]\n",
    "        for node_id in node_ids:\n",
    "            if node_id not in relations:\n",
    "                relations[node_id] = [test_name]\n",
    "            else:\n",
    "                relations[node_id].append(test_name)\n",
    "    num_passivators = get_num_passivators(root)\n",
    "    passivator, passivator_node_id = get_first_passivator(root, relations)\n",
    "    paper_num = extract_papernum(root)\n",
    "    curr_json = EMPTY_PAPER_DATA.copy()\n",
    "    for relation in root.findall('.//relation'):\n",
    "        test_name = relation.find\n",
    "    for i, passage in enumerate(passages):\n",
    "        passage_text = passage.find('.//text').text\n",
    "        row = { \"id\": f\"{paper_num}_{i}\", \"text\": passage_text, \"memory\": json.dumps(curr_json) }\n",
    "        curr_json = get_json_for_passage(passage, relations, curr_json, passivator, passivator_node_id, num_passivators)\n",
    "        row['output'] = json.dumps(curr_json)\n",
    "        data.append(row)\n",
    "    return data"
   ]
  },
  {
   "cell_type": "code",
   "execution_count": 55,
   "metadata": {},
   "outputs": [],
   "source": [
    "bioc_dir = \"data/biocs\"\n",
    "data = []\n",
    "for filename in os.listdir(bioc_dir):\n",
    "    if filename.endswith(\".xml\"):\n",
    "        file_path = os.path.join(bioc_dir, filename)\n",
    "        curr_paper_chunks = parse_bioc_into_chunks(file_path)\n",
    "        data.extend(curr_paper_chunks)\n"
   ]
  },
  {
   "cell_type": "code",
   "execution_count": 56,
   "metadata": {},
   "outputs": [],
   "source": [
    "df = pd.DataFrame(data)"
   ]
  },
  {
   "cell_type": "code",
   "execution_count": 57,
   "metadata": {},
   "outputs": [
    {
     "data": {
      "text/plain": [
       "'{\"perovskite_composition\": null, \"electron_transport_layer\": \"C60\", \"hole_transport_layer\": \"Poly(3,4-ethylenedioxythiophene):Poly(styrene sulfonate)\", \"structure_pin_nip\": \"PIN\", \"passivating_molecule\": \"ethylenediammonium diiodide\", \"control_pce\": \"19.6\", \"treated_pce\": \"23.6\", \"control_voc\": \"0.79\", \"treated_voc\": \"0.89\", \"test_2\": {\"stability_type\": \"ISOSLT\", \"humidity\": null, \"temperature\": null, \"time\": \"180\", \"efficiency_cont\": \"60\", \"efficiency_tret\": \"65\"}, \"test_1\": {\"stability_type\": \"ISOSLT\", \"humidity\": null, \"temperature\": null, \"time\": \"200\", \"efficiency_cont\": \"60\", \"efficiency_tret\": \"80\"}}'"
      ]
     },
     "execution_count": 57,
     "metadata": {},
     "output_type": "execute_result"
    }
   ],
   "source": [
    "df[\"paper_num\"] = df[\"id\"].apply(lambda x: x.split(\"_\")[0])\n",
    "df.groupby(\"paper_num\").last()[\"output\"].iloc[0]"
   ]
  },
  {
   "cell_type": "code",
   "execution_count": 59,
   "metadata": {},
   "outputs": [],
   "source": [
    "df = pd.DataFrame(data)\n",
    "df.to_csv(\"data/150_papers_json_chunked_schema2.csv\")"
   ]
  },
  {
   "cell_type": "markdown",
   "metadata": {},
   "source": [
    "### Filtering by similarity to prompt"
   ]
  },
  {
   "cell_type": "code",
   "execution_count": 60,
   "metadata": {},
   "outputs": [],
   "source": [
    "df = pd.read_csv('data/150_papers_json_chunked_schema2.csv')"
   ]
  },
  {
   "cell_type": "code",
   "execution_count": null,
   "metadata": {},
   "outputs": [],
   "source": [
    "# df[['first_num', 'second_num']] = df['id'].str.split('_', expand=True)\n",
    "\n",
    "# # Step 2: Convert 'first_num' to numeric for proper sorting\n",
    "# df['first_num'] = df['first_num'].astype(int)\n",
    "\n",
    "# # Step 3: Group by 'first_num' and get the last row of each group\n",
    "# result = df.groupby('first_num', as_index=False).last()\n",
    "# result.to_csv('data/150_papers_json.csv', index=False)"
   ]
  },
  {
   "cell_type": "code",
   "execution_count": null,
   "metadata": {},
   "outputs": [],
   "source": [
    "from sentence_transformers import SentenceTransformer, util"
   ]
  },
  {
   "cell_type": "code",
   "execution_count": 61,
   "metadata": {},
   "outputs": [
    {
     "ename": "NameError",
     "evalue": "name 'SentenceTransformer' is not defined",
     "output_type": "error",
     "traceback": [
      "\u001b[0;31m---------------------------------------------------------------------------\u001b[0m",
      "\u001b[0;31mNameError\u001b[0m                                 Traceback (most recent call last)",
      "Cell \u001b[0;32mIn[61], line 1\u001b[0m\n\u001b[0;32m----> 1\u001b[0m model \u001b[38;5;241m=\u001b[39m \u001b[43mSentenceTransformer\u001b[49m(\u001b[38;5;124m\"\u001b[39m\u001b[38;5;124mAlibaba-NLP/GTE-Qwen2-1.5B-instruct\u001b[39m\u001b[38;5;124m\"\u001b[39m)\n",
      "\u001b[0;31mNameError\u001b[0m: name 'SentenceTransformer' is not defined"
     ]
    }
   ],
   "source": [
    "model = SentenceTransformer(\"Alibaba-NLP/GTE-Qwen2-1.5B-instruct\")"
   ]
  },
  {
   "cell_type": "code",
   "execution_count": null,
   "metadata": {},
   "outputs": [],
   "source": [
    "simple_prompt = \"Identify the passivating molecule tested, the corresponding PCE, VOC, and any stability test data (efficiency retained over time, temperature, test type).\"\n",
    "query = model.encode(simple_prompt, convert_to_tensor=True)\n",
    "\n",
    "cosine_similarities = []\n",
    "euclidean_distances = []\n",
    "for index, row in df.iterrows():\n",
    "    text_embeddings = model.encode(row[\"text\"], convert_to_tensor=True)\n",
    "    cosine_sim = util.pytorch_cos_sim(query, text_embeddings).item()\n",
    "    euclidean_dist = euclidean(query.cpu().numpy(), text_embeddings.cpu().numpy())\n",
    "    cosine_similarities.append(cosine_sim)\n",
    "    euclidean_distances.append(euclidean_dist)\n",
    "\n",
    "combined_scores = [0.7 * cos_sim - 0.3 * eucl_dist for cos_sim, eucl_dist in zip(cosine_similarities, euclidean_distances)]\n",
    "\n",
    "threshold = np.percentile(combined_scores, 70)\n"
   ]
  },
  {
   "cell_type": "code",
   "execution_count": null,
   "metadata": {},
   "outputs": [
    {
     "data": {
      "text/plain": [
       "1600"
      ]
     },
     "execution_count": 21,
     "metadata": {},
     "output_type": "execute_result"
    }
   ],
   "source": [
    "len(df)"
   ]
  },
  {
   "cell_type": "code",
   "execution_count": null,
   "metadata": {},
   "outputs": [],
   "source": [
    "relevant_chunks = []\n",
    "for i, value in enumerate(combined_scores):\n",
    "    if value >= threshold:\n",
    "        relevant_chunks.append(df.iloc[i])"
   ]
  },
  {
   "cell_type": "code",
   "execution_count": null,
   "metadata": {},
   "outputs": [],
   "source": [
    "df = pd.DataFrame(relevant_chunks)\n",
    "df.to_csv(\"../data/chunked_training.csv\", index=False)"
   ]
  }
 ],
 "metadata": {
  "kernelspec": {
   "display_name": "base",
   "language": "python",
   "name": "python3"
  },
  "language_info": {
   "codemirror_mode": {
    "name": "ipython",
    "version": 3
   },
   "file_extension": ".py",
   "mimetype": "text/x-python",
   "name": "python",
   "nbconvert_exporter": "python",
   "pygments_lexer": "ipython3",
   "version": "3.10.9"
  }
 },
 "nbformat": 4,
 "nbformat_minor": 2
}
