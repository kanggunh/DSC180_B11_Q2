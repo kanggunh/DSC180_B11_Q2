{
 "cells": [
  {
   "cell_type": "code",
   "execution_count": 1,
   "metadata": {},
   "outputs": [],
   "source": [
    "import json\n",
    "import os\n",
    "import xml.etree.ElementTree as ET\n",
    "import pandas as pd\n",
    "import numpy as np\n",
    "from scipy.spatial.distance import euclidean"
   ]
  },
  {
   "cell_type": "markdown",
   "metadata": {},
   "source": [
    "### Parsing BioC XML"
   ]
  },
  {
   "cell_type": "code",
   "execution_count": 2,
   "metadata": {},
   "outputs": [],
   "source": [
    "EMPTY_PAPER_DATA = {\n",
    "    \"perovskite_composition\": None,\n",
    "    \"electron_transport_layer\": None,\n",
    "    \"hole_transport_layer\": None,\n",
    "    \"structure_pin_nip\": None,\n",
    "    \"passivating_molecule\": None,\n",
    "    \"control_pce\": None,\n",
    "    \"treated_pce\": None,\n",
    "    \"control_voc\": None,\n",
    "    \"treated_voc\": None,\n",
    "}\n",
    "EMPTY_STABILITY_TEST = {\n",
    "    \"stability_type\": None,\n",
    "    \"humidity\": None,\n",
    "    \"temperature\": None,\n",
    "    \"time\": None,\n",
    "    \"efficiency_cont\": None,\n",
    "    \"efficiency_tret\": None\n",
    "}"
   ]
  },
  {
   "cell_type": "code",
   "execution_count": 3,
   "metadata": {},
   "outputs": [],
   "source": [
    "def get_first_passivator(root, relations):\n",
    "    passivators = {}\n",
    "    for annotation in root.findall(\".//annotation\"):\n",
    "        node_id = annotation.get(\"id\")\n",
    "        var_name = annotation.find(\"infon[@key='type']\").text\n",
    "        concept_id = annotation.find(\"infon[@key='identifier']\").text\n",
    "        value = annotation.find(\"text\").text\n",
    "        value = concept_id if concept_id else value\n",
    "        if var_name == \"passivating_molecule\":\n",
    "            if value in passivators:\n",
    "                passivators[value].append(node_id)\n",
    "            else:\n",
    "                passivators[value] = [node_id]\n",
    "    for passivator in passivators:\n",
    "        passivator_nodes = passivators[passivator]\n",
    "        for node_id in passivator_nodes:\n",
    "            if node_id in relations:\n",
    "                return passivator, node_id\n",
    "    \n",
    "    #case where there are no passivators in a relation but there are passivators in the paper\n",
    "    for passivator in passivators:\n",
    "        #arbitrarily choose the first passivator\n",
    "        return passivator, passivators[passivator][0]\n",
    "    \n",
    "    #case where there are no passivators in the paper\n",
    "    return None, None"
   ]
  },
  {
   "cell_type": "code",
   "execution_count": 4,
   "metadata": {},
   "outputs": [],
   "source": [
    "def get_num_passivators(root):\n",
    "    passivators = set()\n",
    "    for annotation in root.findall(\".//annotation\"):\n",
    "        var_name = annotation.find(\"infon[@key='type']\").text\n",
    "        concept_id = annotation.find(\"infon[@key='identifier']\").text\n",
    "        value = annotation.find(\"text\").text\n",
    "        value = concept_id if concept_id else value\n",
    "        if var_name == \"passivating_molecule\":\n",
    "            passivators.add(value)\n",
    "    return len(passivators)"
   ]
  },
  {
   "cell_type": "code",
   "execution_count": 52,
   "metadata": {},
   "outputs": [],
   "source": [
    "def get_json_for_passage(passage, relations, previous_json, passivator, passivator_node_id, num_passivators):\n",
    "    concept_ids = set()\n",
    "    \n",
    "    for annotation in passage.findall(\".//annotation\"):\n",
    "        node_id = annotation.get(\"id\")\n",
    "        var_name = annotation.find(\"infon[@key='type']\").text\n",
    "        concept_id = annotation.find(\"infon[@key='identifier']\").text\n",
    "        value = annotation.find(\"text\").text\n",
    "        value = concept_id if concept_id is not None else value\n",
    "        if var_name in [\"additive_molecule\", \"treatment_element\", \"control_element\", \"metal_contact\", \"perovskite_molecule\"]: #irrelevant\n",
    "            continue\n",
    "\n",
    "        related_not_nested = [\"treated_pce\", \"control_pce\", \"treated_voc\", \"control_voc\", \"passivating_molecule\"]\n",
    "        related_nested = [\"stability_type\", \"humidity\", \"temperature\", \"time\", \"efficiency_cont\", \"efficiency_tret\"]\n",
    "        if var_name in [\"perovskite_composition\", \"structure_pin_nip\", \"electron_transport_layer\", \"hole_transport_layer\" ]:\n",
    "            #in top level: composition, ETL, HTL, PIN-NIP,\n",
    "            previous_json[var_name] = value\n",
    "        elif var_name in related_not_nested:\n",
    "            if num_passivators <= 1:\n",
    "                previous_json[var_name] = value\n",
    "            elif node_id not in relations: #unable to infer if it belongs to the passivator\n",
    "                previous_json[var_name] = None\n",
    "            else:\n",
    "                relevant_tests = relations[passivator_node_id]\n",
    "                node_tests = relations[node_id]\n",
    "                for test_name in node_tests:\n",
    "                    if test_name not in relevant_tests: #only gets if it is related to the passivator\n",
    "                        continue\n",
    "                    previous_json[var_name] = value\n",
    "        elif node_id in relations and var_name in related_nested:\n",
    "            test_names = relations[node_id]\n",
    "            relevant_tests = test_names\n",
    "            if num_passivators > 1:\n",
    "                relevant_tests = relations[passivator_node_id]\n",
    "            for test_name in test_names:\n",
    "                if test_name not in relevant_tests:\n",
    "                    continue\n",
    "                if test_name not in previous_json:\n",
    "                    previous_json[test_name] = EMPTY_STABILITY_TEST.copy()\n",
    "                previous_json[test_name][var_name] = value\n",
    "        elif len(relations.keys()) == 0:\n",
    "            if \"test_1\" not in previous_json:\n",
    "                previous_json[\"test_1\"] = EMPTY_STABILITY_TEST.copy()\n",
    "            previous_json[\"test_1\"][var_name] = value\n",
    "            #in stability tests:\n",
    "            #test type, passivator, PCE (control + treat), VOC (control + treat)\n",
    "            #efficiency (treat, control), temp, time, humidity\n",
    "        else:\n",
    "            #assumes that all other possible data goes into the first stability test\n",
    "            if \"test_1\" not in previous_json:\n",
    "                previous_json[\"test_1\"] = EMPTY_STABILITY_TEST.copy()\n",
    "            previous_json[\"test_1\"][var_name] = value\n",
    "\n",
    "    return previous_json\n",
    "    \n"
   ]
  },
  {
   "cell_type": "code",
   "execution_count": 53,
   "metadata": {},
   "outputs": [],
   "source": [
    "def extract_papernum(root):\n",
    "    first_text = root.find(\".//text\")\n",
    "    full_text = first_text.text\n",
    "    \n",
    "    ##We want to extract article number from this format\n",
    "    #Method: split by spaces and extract the last element in the list\n",
    "    text_list = full_text.split()\n",
    "    paper_num = text_list[-1]\n",
    "    return paper_num"
   ]
  },
  {
   "cell_type": "code",
   "execution_count": 54,
   "metadata": {},
   "outputs": [],
   "source": [
    "def parse_bioc_into_chunks(file_path):\n",
    "    tree = ET.parse(file_path)\n",
    "    root = tree.getroot()\n",
    "\n",
    "    passages = root.findall('.//passage')\n",
    "    data = []\n",
    "\n",
    "    relations = {}\n",
    "    test_names = set()\n",
    "    for relation in root.findall(\".//relation\"):\n",
    "        test_name = relation.find(\"infon[@key='type']\").text\n",
    "        if test_name in test_names:\n",
    "            test_name = test_name + \"_2\"\n",
    "        test_names.add(test_name)\n",
    "        if 'performance' in test_name:\n",
    "            continue\n",
    "        node_ids = [node.get(\"refid\") for node in relation.findall(\"node\")]\n",
    "        for node_id in node_ids:\n",
    "            if node_id not in relations:\n",
    "                relations[node_id] = [test_name]\n",
    "            else:\n",
    "                relations[node_id].append(test_name)\n",
    "    num_passivators = get_num_passivators(root)\n",
    "    passivator, passivator_node_id = get_first_passivator(root, relations)\n",
    "    paper_num = extract_papernum(root)\n",
    "    curr_json = EMPTY_PAPER_DATA.copy()\n",
    "    for relation in root.findall('.//relation'):\n",
    "        test_name = relation.find\n",
    "    for i, passage in enumerate(passages):\n",
    "        passage_text = passage.find('.//text').text\n",
    "        row = { \"id\": f\"{paper_num}_{i}\", \"text\": passage_text, \"memory\": json.dumps(curr_json) }\n",
    "        curr_json = get_json_for_passage(passage, relations, curr_json, passivator, passivator_node_id, num_passivators)\n",
    "        row['output'] = json.dumps(curr_json)\n",
    "        data.append(row)\n",
    "    return data"
   ]
  },
  {
   "cell_type": "code",
   "execution_count": 55,
   "metadata": {},
   "outputs": [],
   "source": [
    "bioc_dir = \"data/biocs\"\n",
    "data = []\n",
    "for filename in os.listdir(bioc_dir):\n",
    "    if filename.endswith(\".xml\"):\n",
    "        file_path = os.path.join(bioc_dir, filename)\n",
    "        curr_paper_chunks = parse_bioc_into_chunks(file_path)\n",
    "        data.extend(curr_paper_chunks)\n"
   ]
  },
  {
   "cell_type": "code",
   "execution_count": 56,
   "metadata": {},
   "outputs": [],
   "source": [
    "df = pd.DataFrame(data)"
   ]
  },
  {
   "cell_type": "code",
   "execution_count": 57,
   "metadata": {},
   "outputs": [
    {
     "data": {
      "text/plain": [
       "'{\"perovskite_composition\": null, \"electron_transport_layer\": \"C60\", \"hole_transport_layer\": \"Poly(3,4-ethylenedioxythiophene):Poly(styrene sulfonate)\", \"structure_pin_nip\": \"PIN\", \"passivating_molecule\": \"ethylenediammonium diiodide\", \"control_pce\": \"19.6\", \"treated_pce\": \"23.6\", \"control_voc\": \"0.79\", \"treated_voc\": \"0.89\", \"test_2\": {\"stability_type\": \"ISOSLT\", \"humidity\": null, \"temperature\": null, \"time\": \"180\", \"efficiency_cont\": \"60\", \"efficiency_tret\": \"65\"}, \"test_1\": {\"stability_type\": \"ISOSLT\", \"humidity\": null, \"temperature\": null, \"time\": \"200\", \"efficiency_cont\": \"60\", \"efficiency_tret\": \"80\"}}'"
      ]
     },
     "execution_count": 57,
     "metadata": {},
     "output_type": "execute_result"
    }
   ],
   "source": [
    "df[\"paper_num\"] = df[\"id\"].apply(lambda x: x.split(\"_\")[0])\n",
    "df.groupby(\"paper_num\").last()[\"output\"].iloc[0]"
   ]
  },
  {
   "cell_type": "code",
   "execution_count": 59,
   "metadata": {},
   "outputs": [],
   "source": [
    "df = pd.DataFrame(data)\n",
    "df.to_csv(\"data/150_papers_json_chunked_schema2.csv\")"
   ]
  },
  {
   "cell_type": "markdown",
   "metadata": {},
   "source": [
    "### Filtering by similarity to prompt"
   ]
  },
  {
   "cell_type": "code",
   "execution_count": 5,
   "metadata": {},
   "outputs": [],
   "source": [
    "df = pd.read_csv('data/150_papers_json_chunked_schema2.csv')"
   ]
  },
  {
   "cell_type": "code",
   "execution_count": 6,
   "metadata": {},
   "outputs": [
    {
     "data": {
      "text/html": [
       "<div>\n",
       "<style scoped>\n",
       "    .dataframe tbody tr th:only-of-type {\n",
       "        vertical-align: middle;\n",
       "    }\n",
       "\n",
       "    .dataframe tbody tr th {\n",
       "        vertical-align: top;\n",
       "    }\n",
       "\n",
       "    .dataframe thead th {\n",
       "        text-align: right;\n",
       "    }\n",
       "</style>\n",
       "<table border=\"1\" class=\"dataframe\">\n",
       "  <thead>\n",
       "    <tr style=\"text-align: right;\">\n",
       "      <th></th>\n",
       "      <th>Unnamed: 0</th>\n",
       "      <th>id</th>\n",
       "      <th>text</th>\n",
       "      <th>memory</th>\n",
       "      <th>output</th>\n",
       "    </tr>\n",
       "  </thead>\n",
       "  <tbody>\n",
       "    <tr>\n",
       "      <th>0</th>\n",
       "      <td>0.0</td>\n",
       "      <td>134_0</td>\n",
       "      <td>Paper #: 134</td>\n",
       "      <td>NaN</td>\n",
       "      <td>NaN</td>\n",
       "    </tr>\n",
       "    <tr>\n",
       "      <th>1</th>\n",
       "      <td>NaN</td>\n",
       "      <td>{\"perovskite_composition\": null, \"electron_tra...</td>\n",
       "      <td>{\"perovskite_composition\": null, \"electron_tra...</td>\n",
       "      <td>NaN</td>\n",
       "      <td>NaN</td>\n",
       "    </tr>\n",
       "    <tr>\n",
       "      <th>2</th>\n",
       "      <td>1.0</td>\n",
       "      <td>134_1</td>\n",
       "      <td>was calculated to be -6.08 and -6.06 eV. The i...</td>\n",
       "      <td>NaN</td>\n",
       "      <td>NaN</td>\n",
       "    </tr>\n",
       "    <tr>\n",
       "      <th>3</th>\n",
       "      <td>NaN</td>\n",
       "      <td>{\"perovskite_composition\": null, \"electron_tra...</td>\n",
       "      <td>{\"perovskite_composition\": null, \"electron_tra...</td>\n",
       "      <td>NaN</td>\n",
       "      <td>NaN</td>\n",
       "    </tr>\n",
       "    <tr>\n",
       "      <th>4</th>\n",
       "      <td>2.0</td>\n",
       "      <td>134_2</td>\n",
       "      <td>Supplementary Note 3. The moisture stability ...</td>\n",
       "      <td>{\"perovskite_composition\": null, \"electron_tra...</td>\n",
       "      <td>{\"perovskite_composition\": null, \"electron_tra...</td>\n",
       "    </tr>\n",
       "    <tr>\n",
       "      <th>...</th>\n",
       "      <td>...</td>\n",
       "      <td>...</td>\n",
       "      <td>...</td>\n",
       "      <td>...</td>\n",
       "      <td>...</td>\n",
       "    </tr>\n",
       "    <tr>\n",
       "      <th>7047</th>\n",
       "      <td>5299.0</td>\n",
       "      <td>#:144_59</td>\n",
       "      <td>\\t\\t\\t Published on 12 April 2022. Downloaded ...</td>\n",
       "      <td>NaN</td>\n",
       "      <td>NaN</td>\n",
       "    </tr>\n",
       "    <tr>\n",
       "      <th>7048</th>\n",
       "      <td>NaN</td>\n",
       "      <td>{\"perovskite_composition\": null, \"electron_tra...</td>\n",
       "      <td>{\"perovskite_composition\": null, \"electron_tra...</td>\n",
       "      <td>NaN</td>\n",
       "      <td>NaN</td>\n",
       "    </tr>\n",
       "    <tr>\n",
       "      <th>7049</th>\n",
       "      <td>5300.0</td>\n",
       "      <td>#:144_60</td>\n",
       "      <td>\\t\\t\\t S. D. Stranks and H. J. Snaith, Metal-h...</td>\n",
       "      <td>{\"perovskite_composition\": null, \"electron_tra...</td>\n",
       "      <td>{\"perovskite_composition\": null, \"electron_tra...</td>\n",
       "    </tr>\n",
       "    <tr>\n",
       "      <th>7050</th>\n",
       "      <td>5301.0</td>\n",
       "      <td>#:144_61</td>\n",
       "      <td>\\t\\t\\t 2015, 10, 391-402. 2 P. K. Nayak, S. Ma...</td>\n",
       "      <td>{\"perovskite_composition\": null, \"electron_tra...</td>\n",
       "      <td>{\"perovskite_composition\": null, \"electron_tra...</td>\n",
       "    </tr>\n",
       "    <tr>\n",
       "      <th>7051</th>\n",
       "      <td>5302.0</td>\n",
       "      <td>#:144_62</td>\n",
       "      <td>\\t\\t\\t Y. Han, et al., From distortion to disc...</td>\n",
       "      <td>{\"perovskite_composition\": null, \"electron_tra...</td>\n",
       "      <td>{\"perovskite_composition\": null, \"electron_tra...</td>\n",
       "    </tr>\n",
       "  </tbody>\n",
       "</table>\n",
       "<p>7052 rows × 5 columns</p>\n",
       "</div>"
      ],
      "text/plain": [
       "      Unnamed: 0                                                 id  \\\n",
       "0            0.0                                              134_0   \n",
       "1            NaN  {\"perovskite_composition\": null, \"electron_tra...   \n",
       "2            1.0                                              134_1   \n",
       "3            NaN  {\"perovskite_composition\": null, \"electron_tra...   \n",
       "4            2.0                                              134_2   \n",
       "...          ...                                                ...   \n",
       "7047      5299.0                                           #:144_59   \n",
       "7048         NaN  {\"perovskite_composition\": null, \"electron_tra...   \n",
       "7049      5300.0                                           #:144_60   \n",
       "7050      5301.0                                           #:144_61   \n",
       "7051      5302.0                                           #:144_62   \n",
       "\n",
       "                                                   text  \\\n",
       "0                                          Paper #: 134   \n",
       "1     {\"perovskite_composition\": null, \"electron_tra...   \n",
       "2     was calculated to be -6.08 and -6.06 eV. The i...   \n",
       "3     {\"perovskite_composition\": null, \"electron_tra...   \n",
       "4      Supplementary Note 3. The moisture stability ...   \n",
       "...                                                 ...   \n",
       "7047  \\t\\t\\t Published on 12 April 2022. Downloaded ...   \n",
       "7048  {\"perovskite_composition\": null, \"electron_tra...   \n",
       "7049  \\t\\t\\t S. D. Stranks and H. J. Snaith, Metal-h...   \n",
       "7050  \\t\\t\\t 2015, 10, 391-402. 2 P. K. Nayak, S. Ma...   \n",
       "7051  \\t\\t\\t Y. Han, et al., From distortion to disc...   \n",
       "\n",
       "                                                 memory  \\\n",
       "0                                                   NaN   \n",
       "1                                                   NaN   \n",
       "2                                                   NaN   \n",
       "3                                                   NaN   \n",
       "4     {\"perovskite_composition\": null, \"electron_tra...   \n",
       "...                                                 ...   \n",
       "7047                                                NaN   \n",
       "7048                                                NaN   \n",
       "7049  {\"perovskite_composition\": null, \"electron_tra...   \n",
       "7050  {\"perovskite_composition\": null, \"electron_tra...   \n",
       "7051  {\"perovskite_composition\": null, \"electron_tra...   \n",
       "\n",
       "                                                 output  \n",
       "0                                                   NaN  \n",
       "1                                                   NaN  \n",
       "2                                                   NaN  \n",
       "3                                                   NaN  \n",
       "4     {\"perovskite_composition\": null, \"electron_tra...  \n",
       "...                                                 ...  \n",
       "7047                                                NaN  \n",
       "7048                                                NaN  \n",
       "7049  {\"perovskite_composition\": null, \"electron_tra...  \n",
       "7050  {\"perovskite_composition\": null, \"electron_tra...  \n",
       "7051  {\"perovskite_composition\": null, \"electron_tra...  \n",
       "\n",
       "[7052 rows x 5 columns]"
      ]
     },
     "execution_count": 6,
     "metadata": {},
     "output_type": "execute_result"
    }
   ],
   "source": [
    "df"
   ]
  },
  {
   "cell_type": "code",
   "execution_count": null,
   "metadata": {},
   "outputs": [],
   "source": [
    "# df[['first_num', 'second_num']] = df['id'].str.split('_', expand=True)\n",
    "\n",
    "# # Step 2: Convert 'first_num' to numeric for proper sorting\n",
    "# df['first_num'] = df['first_num'].astype(int)\n",
    "\n",
    "# # Step 3: Group by 'first_num' and get the last row of each group\n",
    "# result = df.groupby('first_num', as_index=False).last()\n",
    "# result.to_csv('data/150_papers_json.csv', index=False)"
   ]
  },
  {
   "cell_type": "code",
   "execution_count": 8,
   "metadata": {},
   "outputs": [
    {
     "name": "stderr",
     "output_type": "stream",
     "text": [
      "/home/ncoleban/DSC180_B11_Q2/mykernel/lib/python3.11/site-packages/tqdm/auto.py:21: TqdmWarning: IProgress not found. Please update jupyter and ipywidgets. See https://ipywidgets.readthedocs.io/en/stable/user_install.html\n",
      "  from .autonotebook import tqdm as notebook_tqdm\n"
     ]
    }
   ],
   "source": [
    "from sentence_transformers import SentenceTransformer, util"
   ]
  },
  {
   "cell_type": "code",
   "execution_count": 9,
   "metadata": {},
   "outputs": [
    {
     "name": "stderr",
     "output_type": "stream",
     "text": [
      "Downloading shards: 100%|██████████| 2/2 [00:35<00:00, 17.66s/it]\n",
      "Loading checkpoint shards: 100%|██████████| 2/2 [00:00<00:00,  8.27it/s]\n"
     ]
    }
   ],
   "source": [
    "model = SentenceTransformer(\"Alibaba-NLP/GTE-Qwen2-1.5B-instruct\")"
   ]
  },
  {
   "cell_type": "code",
   "execution_count": 10,
   "metadata": {},
   "outputs": [],
   "source": [
    "simple_prompt = \"Identify the passivating molecule tested, the corresponding PCE, VOC, and any stability test data (efficiency retained over time, temperature, test type).\"\n",
    "query = model.encode(simple_prompt, convert_to_tensor=True)\n",
    "\n",
    "cosine_similarities = []\n",
    "euclidean_distances = []\n",
    "for index, row in df.iterrows():\n",
    "    text_embeddings = model.encode(row[\"text\"], convert_to_tensor=True)\n",
    "    cosine_sim = util.pytorch_cos_sim(query, text_embeddings).item()\n",
    "    euclidean_dist = euclidean(query.cpu().numpy(), text_embeddings.cpu().numpy())\n",
    "    cosine_similarities.append(cosine_sim)\n",
    "    euclidean_distances.append(euclidean_dist)\n",
    "\n",
    "combined_scores = [0.7 * cos_sim - 0.3 * eucl_dist for cos_sim, eucl_dist in zip(cosine_similarities, euclidean_distances)]\n",
    "\n",
    "threshold = np.percentile(combined_scores, 70)\n"
   ]
  },
  {
   "cell_type": "code",
   "execution_count": 10,
   "metadata": {},
   "outputs": [
    {
     "data": {
      "text/plain": [
       "7052"
      ]
     },
     "execution_count": 10,
     "metadata": {},
     "output_type": "execute_result"
    }
   ],
   "source": [
    "len(df)"
   ]
  },
  {
   "cell_type": "code",
   "execution_count": 11,
   "metadata": {},
   "outputs": [],
   "source": [
    "relevant_chunks = []\n",
    "for i, value in enumerate(combined_scores):\n",
    "    if value >= threshold:\n",
    "        relevant_chunks.append(df.iloc[i])"
   ]
  },
  {
   "cell_type": "code",
   "execution_count": 15,
   "metadata": {},
   "outputs": [
    {
     "data": {
      "text/plain": [
       "2116"
      ]
     },
     "execution_count": 15,
     "metadata": {},
     "output_type": "execute_result"
    }
   ],
   "source": [
    "len(relevant_chunks)"
   ]
  },
  {
   "cell_type": "code",
   "execution_count": null,
   "metadata": {},
   "outputs": [
    {
     "data": {
      "text/html": [
       "<div>\n",
       "<style scoped>\n",
       "    .dataframe tbody tr th:only-of-type {\n",
       "        vertical-align: middle;\n",
       "    }\n",
       "\n",
       "    .dataframe tbody tr th {\n",
       "        vertical-align: top;\n",
       "    }\n",
       "\n",
       "    .dataframe thead th {\n",
       "        text-align: right;\n",
       "    }\n",
       "</style>\n",
       "<table border=\"1\" class=\"dataframe\">\n",
       "  <thead>\n",
       "    <tr style=\"text-align: right;\">\n",
       "      <th></th>\n",
       "      <th>Unnamed: 0</th>\n",
       "      <th>id</th>\n",
       "      <th>text</th>\n",
       "      <th>memory</th>\n",
       "      <th>output</th>\n",
       "    </tr>\n",
       "  </thead>\n",
       "  <tbody>\n",
       "    <tr>\n",
       "      <th>2</th>\n",
       "      <td>1.0</td>\n",
       "      <td>134_1</td>\n",
       "      <td>was calculated to be -6.08 and -6.06 eV. The i...</td>\n",
       "      <td>NaN</td>\n",
       "      <td>NaN</td>\n",
       "    </tr>\n",
       "    <tr>\n",
       "      <th>24</th>\n",
       "      <td>19.0</td>\n",
       "      <td>134_19</td>\n",
       "      <td>Table 4 . 4 Photovoltaic parameters for PSCs ...</td>\n",
       "      <td>NaN</td>\n",
       "      <td>NaN</td>\n",
       "    </tr>\n",
       "    <tr>\n",
       "      <th>31</th>\n",
       "      <td>23.0</td>\n",
       "      <td>134_23</td>\n",
       "      <td>Table 8 . 8 Photovoltaic parameters for targe...</td>\n",
       "      <td>NaN</td>\n",
       "      <td>NaN</td>\n",
       "    </tr>\n",
       "    <tr>\n",
       "      <th>33</th>\n",
       "      <td>24.0</td>\n",
       "      <td>134_24</td>\n",
       "      <td>Device V OC (V) J SC (mA/cm 2 ) FF (%) PCE (%...</td>\n",
       "      <td>NaN</td>\n",
       "      <td>NaN</td>\n",
       "    </tr>\n",
       "    <tr>\n",
       "      <th>106</th>\n",
       "      <td>82.0</td>\n",
       "      <td>37_28</td>\n",
       "      <td>Pseudo-J-V curves Figure R1. 1 1 Figure R1. 1...</td>\n",
       "      <td>NaN</td>\n",
       "      <td>NaN</td>\n",
       "    </tr>\n",
       "    <tr>\n",
       "      <th>...</th>\n",
       "      <td>...</td>\n",
       "      <td>...</td>\n",
       "      <td>...</td>\n",
       "      <td>...</td>\n",
       "      <td>...</td>\n",
       "    </tr>\n",
       "    <tr>\n",
       "      <th>6965</th>\n",
       "      <td>5237.0</td>\n",
       "      <td>129_103</td>\n",
       "      <td>Table S4 . S4 Representative device performan...</td>\n",
       "      <td>NaN</td>\n",
       "      <td>NaN</td>\n",
       "    </tr>\n",
       "    <tr>\n",
       "      <th>7006</th>\n",
       "      <td>5270.0</td>\n",
       "      <td>#:144_30</td>\n",
       "      <td>Fig. S5 .Fig. S6 . S5S6 Fig. S5. ToF-SIMS dep...</td>\n",
       "      <td>NaN</td>\n",
       "      <td>NaN</td>\n",
       "    </tr>\n",
       "    <tr>\n",
       "      <th>7010</th>\n",
       "      <td>5273.0</td>\n",
       "      <td>#:144_33</td>\n",
       "      <td>Fig. S16 .Fig. S17 . S16S17 Fig. S16. ToF-SIM...</td>\n",
       "      <td>NaN</td>\n",
       "      <td>NaN</td>\n",
       "    </tr>\n",
       "    <tr>\n",
       "      <th>7021</th>\n",
       "      <td>5282.0</td>\n",
       "      <td>#:144_42</td>\n",
       "      <td>Fig. S33 .Fig. S37 . S33S37 Fig. S33. Stabili...</td>\n",
       "      <td>NaN</td>\n",
       "      <td>NaN</td>\n",
       "    </tr>\n",
       "    <tr>\n",
       "      <th>7031</th>\n",
       "      <td>5288.0</td>\n",
       "      <td>#:144_48</td>\n",
       "      <td>Fig. S46 . S46 Fig. S46. The integrated ESR s...</td>\n",
       "      <td>NaN</td>\n",
       "      <td>NaN</td>\n",
       "    </tr>\n",
       "  </tbody>\n",
       "</table>\n",
       "<p>480 rows × 5 columns</p>\n",
       "</div>"
      ],
      "text/plain": [
       "      Unnamed: 0        id                                               text  \\\n",
       "2            1.0     134_1  was calculated to be -6.08 and -6.06 eV. The i...   \n",
       "24          19.0    134_19   Table 4 . 4 Photovoltaic parameters for PSCs ...   \n",
       "31          23.0    134_23   Table 8 . 8 Photovoltaic parameters for targe...   \n",
       "33          24.0    134_24   Device V OC (V) J SC (mA/cm 2 ) FF (%) PCE (%...   \n",
       "106         82.0     37_28   Pseudo-J-V curves Figure R1. 1 1 Figure R1. 1...   \n",
       "...          ...       ...                                                ...   \n",
       "6965      5237.0   129_103   Table S4 . S4 Representative device performan...   \n",
       "7006      5270.0  #:144_30   Fig. S5 .Fig. S6 . S5S6 Fig. S5. ToF-SIMS dep...   \n",
       "7010      5273.0  #:144_33   Fig. S16 .Fig. S17 . S16S17 Fig. S16. ToF-SIM...   \n",
       "7021      5282.0  #:144_42   Fig. S33 .Fig. S37 . S33S37 Fig. S33. Stabili...   \n",
       "7031      5288.0  #:144_48   Fig. S46 . S46 Fig. S46. The integrated ESR s...   \n",
       "\n",
       "     memory output  \n",
       "2       NaN    NaN  \n",
       "24      NaN    NaN  \n",
       "31      NaN    NaN  \n",
       "33      NaN    NaN  \n",
       "106     NaN    NaN  \n",
       "...     ...    ...  \n",
       "6965    NaN    NaN  \n",
       "7006    NaN    NaN  \n",
       "7010    NaN    NaN  \n",
       "7021    NaN    NaN  \n",
       "7031    NaN    NaN  \n",
       "\n",
       "[480 rows x 5 columns]"
      ]
     },
     "execution_count": 17,
     "metadata": {},
     "output_type": "execute_result"
    }
   ],
   "source": []
  },
  {
   "cell_type": "code",
   "execution_count": 18,
   "metadata": {},
   "outputs": [],
   "source": [
    "df = pd.DataFrame(relevant_chunks)\n",
    "df = df[df[\"output\"].isna() == False]\n",
    "df.to_csv(\"data/chunked_training_schema2.csv\", index=False)"
   ]
  },
  {
   "cell_type": "code",
   "execution_count": null,
   "metadata": {},
   "outputs": [],
   "source": []
  }
 ],
 "metadata": {
  "kernelspec": {
   "display_name": "mykernel",
   "language": "python",
   "name": "python3"
  },
  "language_info": {
   "codemirror_mode": {
    "name": "ipython",
    "version": 3
   },
   "file_extension": ".py",
   "mimetype": "text/x-python",
   "name": "python",
   "nbconvert_exporter": "python",
   "pygments_lexer": "ipython3",
   "version": "3.11.9"
  }
 },
 "nbformat": 4,
 "nbformat_minor": 2
}
