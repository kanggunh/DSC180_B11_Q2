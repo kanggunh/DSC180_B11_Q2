{
 "cells": [
  {
   "cell_type": "code",
   "execution_count": 23,
   "metadata": {},
   "outputs": [],
   "source": [
    "import pandas as pd\n",
    "import json"
   ]
  },
  {
   "cell_type": "code",
   "execution_count": 24,
   "metadata": {},
   "outputs": [],
   "source": [
    "json_data = json.load(open('data/deepseek_finetuned.json'))"
   ]
  },
  {
   "cell_type": "code",
   "execution_count": 25,
   "metadata": {},
   "outputs": [],
   "source": [
    "existing_combinations = set()\n",
    "\n",
    "for key in json_data:\n",
    "    paper_data = json_data[key]\n",
    "    comp_key = \"perovskite_composition\"\n",
    "    composition = paper_data[comp_key] if comp_key in paper_data else None\n",
    "    if composition is None:\n",
    "       continue \n",
    "    stability_tests = [value for key, value in paper_data.items() if \"test\" in key]\n",
    "    for test in stability_tests:\n",
    "        if test is None:\n",
    "            continue\n",
    "        passivator_key = \"passivating_molecule\"\n",
    "        passivator = test[passivator_key] if passivator_key in test else None\n",
    "        if passivator is not None:\n",
    "            existing_combinations.add((composition, passivator))"
   ]
  },
  {
   "cell_type": "code",
   "execution_count": 26,
   "metadata": {},
   "outputs": [],
   "source": [
    "unique_compositions = set()\n",
    "unique_passivators = set()\n",
    "\n",
    "for key in json_data:\n",
    "    paper_data = json_data[key]\n",
    "    comp_key = \"perovskite_composition\"\n",
    "    composition = paper_data[comp_key] if comp_key in paper_data else None\n",
    "    if composition is not None:\n",
    "        unique_compositions.add(composition)\n",
    "    stability_tests = [value for key, value in paper_data.items() if \"test\" in key]\n",
    "    for test in stability_tests:\n",
    "        if test is None:\n",
    "            continue\n",
    "        passivator_key = \"passivating_molecule\"\n",
    "        passivator = test[passivator_key] if passivator_key in test else None\n",
    "        if passivator is not None:\n",
    "            unique_passivators.add(passivator)\n",
    "    "
   ]
  },
  {
   "cell_type": "code",
   "execution_count": 31,
   "metadata": {},
   "outputs": [],
   "source": [
    "from itertools import product\n",
    "\n",
    "all_permutations = set(product(unique_compositions, unique_passivators))\n",
    "new_permutations = list(all_permutations - existing_combinations)"
   ]
  },
  {
   "cell_type": "code",
   "execution_count": 32,
   "metadata": {},
   "outputs": [
    {
     "data": {
      "text/plain": [
       "7925"
      ]
     },
     "execution_count": 32,
     "metadata": {},
     "output_type": "execute_result"
    }
   ],
   "source": [
    "len(new_permutations)"
   ]
  },
  {
   "cell_type": "code",
   "execution_count": 37,
   "metadata": {},
   "outputs": [],
   "source": [
    "permutations_df = pd.DataFrame(new_permutations)"
   ]
  },
  {
   "cell_type": "code",
   "execution_count": 38,
   "metadata": {},
   "outputs": [],
   "source": [
    "permutations_df = permutations_df.rename(columns={ 0: \"perovskite_composition\", 1: \"passivating_molecule\" })"
   ]
  },
  {
   "cell_type": "code",
   "execution_count": 39,
   "metadata": {},
   "outputs": [],
   "source": [
    "permutations_df.to_csv('data/composition_passivator_permutations.csv')"
   ]
  },
  {
   "cell_type": "code",
   "execution_count": 40,
   "metadata": {},
   "outputs": [
    {
     "data": {
      "text/html": [
       "<div>\n",
       "<style scoped>\n",
       "    .dataframe tbody tr th:only-of-type {\n",
       "        vertical-align: middle;\n",
       "    }\n",
       "\n",
       "    .dataframe tbody tr th {\n",
       "        vertical-align: top;\n",
       "    }\n",
       "\n",
       "    .dataframe thead th {\n",
       "        text-align: right;\n",
       "    }\n",
       "</style>\n",
       "<table border=\"1\" class=\"dataframe\">\n",
       "  <thead>\n",
       "    <tr style=\"text-align: right;\">\n",
       "      <th></th>\n",
       "      <th>perovskite_composition</th>\n",
       "      <th>passivating_molecule</th>\n",
       "    </tr>\n",
       "  </thead>\n",
       "  <tbody>\n",
       "    <tr>\n",
       "      <th>0</th>\n",
       "      <td>FA0.83Cs0.17Pb0.5Sn0.5I3</td>\n",
       "      <td>2,2',6,6'-bis(4-methoxy-2,4,6-trimethylphenyl)...</td>\n",
       "    </tr>\n",
       "    <tr>\n",
       "      <th>1</th>\n",
       "      <td>Cs0.05FA0.95PbI3</td>\n",
       "      <td>PEA2ZnX4</td>\n",
       "    </tr>\n",
       "    <tr>\n",
       "      <th>2</th>\n",
       "      <td>CH3NH3PbI3</td>\n",
       "      <td>phenylethylammonium iodide</td>\n",
       "    </tr>\n",
       "    <tr>\n",
       "      <th>3</th>\n",
       "      <td>FA0.98Cs0.02PbI3</td>\n",
       "      <td>m-TiO2, QD-SnO2, and paa-QD-SnO2</td>\n",
       "    </tr>\n",
       "    <tr>\n",
       "      <th>4</th>\n",
       "      <td>formamidinium lead iodide</td>\n",
       "      <td>hexafluorodifluoropropane-1,3-disulfonimide (H...</td>\n",
       "    </tr>\n",
       "    <tr>\n",
       "      <th>...</th>\n",
       "      <td>...</td>\n",
       "      <td>...</td>\n",
       "    </tr>\n",
       "    <tr>\n",
       "      <th>7920</th>\n",
       "      <td>(FAPbI3)0.95(MAPbBr3)0.05</td>\n",
       "      <td>Chlorine-capped TiO2</td>\n",
       "    </tr>\n",
       "    <tr>\n",
       "      <th>7921</th>\n",
       "      <td>Cs0.2FA0.8Pb(I0.6Br0.4)3</td>\n",
       "      <td>(PbI2)2RbCl</td>\n",
       "    </tr>\n",
       "    <tr>\n",
       "      <th>7922</th>\n",
       "      <td>MA0.07FA0.93PbI3</td>\n",
       "      <td>NaF</td>\n",
       "    </tr>\n",
       "    <tr>\n",
       "      <th>7923</th>\n",
       "      <td>Cs0.05(MA0.10FA0.85)Pb(I0.90Br0.10)3</td>\n",
       "      <td>methylamine</td>\n",
       "    </tr>\n",
       "    <tr>\n",
       "      <th>7924</th>\n",
       "      <td>Cs0.05 FA0.81 MA0.14 PbI2.55 Br0.45</td>\n",
       "      <td>n-hexyl trimethyl ammonium bromide</td>\n",
       "    </tr>\n",
       "  </tbody>\n",
       "</table>\n",
       "<p>7925 rows × 2 columns</p>\n",
       "</div>"
      ],
      "text/plain": [
       "                    perovskite_composition  \\\n",
       "0                 FA0.83Cs0.17Pb0.5Sn0.5I3   \n",
       "1                         Cs0.05FA0.95PbI3   \n",
       "2                               CH3NH3PbI3   \n",
       "3                         FA0.98Cs0.02PbI3   \n",
       "4                formamidinium lead iodide   \n",
       "...                                    ...   \n",
       "7920             (FAPbI3)0.95(MAPbBr3)0.05   \n",
       "7921              Cs0.2FA0.8Pb(I0.6Br0.4)3   \n",
       "7922                      MA0.07FA0.93PbI3   \n",
       "7923  Cs0.05(MA0.10FA0.85)Pb(I0.90Br0.10)3   \n",
       "7924   Cs0.05 FA0.81 MA0.14 PbI2.55 Br0.45   \n",
       "\n",
       "                                   passivating_molecule  \n",
       "0     2,2',6,6'-bis(4-methoxy-2,4,6-trimethylphenyl)...  \n",
       "1                                              PEA2ZnX4  \n",
       "2                            phenylethylammonium iodide  \n",
       "3                      m-TiO2, QD-SnO2, and paa-QD-SnO2  \n",
       "4     hexafluorodifluoropropane-1,3-disulfonimide (H...  \n",
       "...                                                 ...  \n",
       "7920                               Chlorine-capped TiO2  \n",
       "7921                                        (PbI2)2RbCl  \n",
       "7922                                                NaF  \n",
       "7923                                        methylamine  \n",
       "7924                 n-hexyl trimethyl ammonium bromide  \n",
       "\n",
       "[7925 rows x 2 columns]"
      ]
     },
     "execution_count": 40,
     "metadata": {},
     "output_type": "execute_result"
    }
   ],
   "source": [
    "permutations_df"
   ]
  },
  {
   "cell_type": "code",
   "execution_count": null,
   "metadata": {},
   "outputs": [],
   "source": []
  }
 ],
 "metadata": {
  "kernelspec": {
   "display_name": "mykernel",
   "language": "python",
   "name": "python3"
  },
  "language_info": {
   "codemirror_mode": {
    "name": "ipython",
    "version": 3
   },
   "file_extension": ".py",
   "mimetype": "text/x-python",
   "name": "python",
   "nbconvert_exporter": "python",
   "pygments_lexer": "ipython3",
   "version": "3.11.9"
  }
 },
 "nbformat": 4,
 "nbformat_minor": 2
}
