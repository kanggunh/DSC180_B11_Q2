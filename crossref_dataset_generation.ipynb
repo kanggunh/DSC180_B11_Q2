{
 "cells": [
  {
   "cell_type": "code",
   "execution_count": null,
   "metadata": {},
   "outputs": [],
   "source": [
    "import requests, time\n",
    "import pandas as pd"
   ]
  },
  {
   "cell_type": "code",
   "execution_count": null,
   "metadata": {},
   "outputs": [],
   "source": [
    "query = \"perovskite solar halide passivation\"\n",
    "base_url = f\"https://api.crossref.org/works\"\n",
    "\n",
    "rows_per_request = 1000\n",
    "all_dois = []\n",
    "\n",
    "most_recent_year = 2024\n",
    "for i in range(most_recent_year, most_recent_year - 5, -1):\n",
    "    offset = 0\n",
    "    while offset < 10000:\n",
    "        url = f\"{base_url}?query={query}&rows={rows_per_request}&offset={offset}&filter=from-pub-date:{i},until-pub-date:{i}\"\n",
    "        response = requests.get(url)\n",
    "\n",
    "        if response.status_code != 200:\n",
    "            print(f\"Failed request at offset {offset}: {response.status_code}\")\n",
    "            break\n",
    "\n",
    "        data = response.json()\n",
    "        items = data['message']['items']\n",
    "\n",
    "        if not items:  # Stop when there are no more results\n",
    "            break\n",
    "\n",
    "        # Extract DOIs\n",
    "        for item in items:\n",
    "            if 'DOI' in item:\n",
    "                all_dois.append(item)\n",
    "\n",
    "        print(f\"Fetched {len(items)} records (Offset: {offset})\")\n",
    "        offset += rows_per_request  # Move to the next batch\n",
    "        time.sleep(1)  # Be polite and avoid rate limits"
   ]
  },
  {
   "cell_type": "code",
   "execution_count": null,
   "metadata": {},
   "outputs": [],
   "source": [
    "df = pd.DataFrame(all_dois)\n",
    "df[\"year\"] = df[\"created\"].apply(lambda x: x[\"date-parts\"][0][0])\n",
    "df = df[['DOI', 'URL', 'year', 'title', 'publisher']]\n",
    "df.head()"
   ]
  },
  {
   "cell_type": "code",
   "execution_count": null,
   "metadata": {},
   "outputs": [],
   "source": [
    "df.to_csv('/data/crossref_data.csv', index=False)"
   ]
  }
 ],
 "metadata": {
  "kernelspec": {
   "display_name": "Python 3",
   "language": "python",
   "name": "python3"
  },
  "language_info": {
   "name": "python",
   "version": "3.10.6"
  }
 },
 "nbformat": 4,
 "nbformat_minor": 2
}
