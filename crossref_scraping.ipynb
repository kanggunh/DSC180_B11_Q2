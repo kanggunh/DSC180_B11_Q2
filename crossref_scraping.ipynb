{
 "cells": [
  {
   "cell_type": "code",
   "execution_count": 1,
   "metadata": {},
   "outputs": [],
   "source": [
    "import requests\n",
    "import time"
   ]
  },
  {
   "cell_type": "code",
   "execution_count": 2,
   "metadata": {},
   "outputs": [
    {
     "name": "stdout",
     "output_type": "stream",
     "text": [
      "Fetched 1000 records (Offset: 0)\n",
      "Fetched 1000 records (Offset: 1000)\n",
      "Fetched 1000 records (Offset: 2000)\n",
      "Fetched 1000 records (Offset: 3000)\n",
      "Fetched 1000 records (Offset: 4000)\n",
      "Fetched 1000 records (Offset: 5000)\n",
      "Fetched 1000 records (Offset: 6000)\n",
      "Fetched 1000 records (Offset: 7000)\n",
      "Fetched 1000 records (Offset: 8000)\n",
      "Fetched 1000 records (Offset: 9000)\n",
      "Failed request at offset 10000: 400\n"
     ]
    }
   ],
   "source": [
    "query = \"perovskite solar halide passivation\"\n",
    "base_url = f\"https://api.crossref.org/works\"\n",
    "\n",
    "rows_per_request = 1000\n",
    "offset = 0\n",
    "all_dois = []\n",
    "\n",
    "while True:\n",
    "    url = f\"{base_url}?filter=from-pub-date:2020&query={query}&rows={rows_per_request}&offset={offset}\"\n",
    "    response = requests.get(url)\n",
    "\n",
    "    if response.status_code != 200:\n",
    "        print(f\"Failed request at offset {offset}: {response.status_code}\")\n",
    "        break\n",
    "\n",
    "    data = response.json()\n",
    "    items = data['message']['items']\n",
    "\n",
    "    if not items:  # Stop when there are no more results\n",
    "        break\n",
    "\n",
    "    # Extract DOIs\n",
    "    for item in items:\n",
    "        if 'DOI' in item:\n",
    "            all_dois.append(item)\n",
    "\n",
    "    print(f\"Fetched {len(items)} records (Offset: {offset})\")\n",
    "    offset += rows_per_request  # Move to the next batch\n",
    "    time.sleep(1)  # Be polite and avoid rate limits"
   ]
  },
  {
   "cell_type": "code",
   "execution_count": 24,
   "metadata": {},
   "outputs": [
    {
     "data": {
      "text/plain": [
       "25000"
      ]
     },
     "execution_count": 24,
     "metadata": {},
     "output_type": "execute_result"
    }
   ],
   "source": [
    "len(all_dois)"
   ]
  },
  {
   "cell_type": "code",
   "execution_count": 3,
   "metadata": {},
   "outputs": [
    {
     "data": {
      "text/plain": [
       "0.3528"
      ]
     },
     "execution_count": 3,
     "metadata": {},
     "output_type": "execute_result"
    }
   ],
   "source": [
    "import numpy as np\n",
    "\n",
    "np.mean([True if 'abstract' in doi else False for doi in all_dois])"
   ]
  },
  {
   "cell_type": "code",
   "execution_count": null,
   "metadata": {},
   "outputs": [],
   "source": []
  }
 ],
 "metadata": {
  "kernelspec": {
   "display_name": "base",
   "language": "python",
   "name": "python3"
  },
  "language_info": {
   "codemirror_mode": {
    "name": "ipython",
    "version": 3
   },
   "file_extension": ".py",
   "mimetype": "text/x-python",
   "name": "python",
   "nbconvert_exporter": "python",
   "pygments_lexer": "ipython3",
   "version": "3.10.9"
  }
 },
 "nbformat": 4,
 "nbformat_minor": 2
}
