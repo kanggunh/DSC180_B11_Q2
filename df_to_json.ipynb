{
 "cells": [
  {
   "cell_type": "code",
   "execution_count": 1,
   "metadata": {},
   "outputs": [],
   "source": [
    "import json\n",
    "import pandas as pd\n",
    "import re"
   ]
  },
  {
   "cell_type": "code",
   "execution_count": 33,
   "metadata": {},
   "outputs": [
    {
     "data": {
      "text/html": [
       "<div>\n",
       "<style scoped>\n",
       "    .dataframe tbody tr th:only-of-type {\n",
       "        vertical-align: middle;\n",
       "    }\n",
       "\n",
       "    .dataframe tbody tr th {\n",
       "        vertical-align: top;\n",
       "    }\n",
       "\n",
       "    .dataframe thead th {\n",
       "        text-align: right;\n",
       "    }\n",
       "</style>\n",
       "<table border=\"1\" class=\"dataframe\">\n",
       "  <thead>\n",
       "    <tr style=\"text-align: right;\">\n",
       "      <th></th>\n",
       "      <th>Unnamed: 0.2</th>\n",
       "      <th>Unnamed: 0.1</th>\n",
       "      <th>Unnamed: 0</th>\n",
       "      <th>id</th>\n",
       "      <th>full_text</th>\n",
       "      <th>filtered_text</th>\n",
       "      <th>json_output</th>\n",
       "    </tr>\n",
       "  </thead>\n",
       "  <tbody>\n",
       "    <tr>\n",
       "      <th>0</th>\n",
       "      <td>0</td>\n",
       "      <td>2</td>\n",
       "      <td>2</td>\n",
       "      <td>72</td>\n",
       "      <td>Paper #: 72\\r\\nSuppressed Ion Migration in Red...</td>\n",
       "      <td>T oday's perovskite solar cells (PSCs) require...</td>\n",
       "      <td>{'perovskite_composition': None, 'electron_tra...</td>\n",
       "    </tr>\n",
       "    <tr>\n",
       "      <th>1</th>\n",
       "      <td>1</td>\n",
       "      <td>3</td>\n",
       "      <td>3</td>\n",
       "      <td>75</td>\n",
       "      <td>Paper #: 75\\r\\nDynamical Evolution of the 2D/3...</td>\n",
       "      <td>UV-VIS Absorption The absorption spectra of t...</td>\n",
       "      <td>{\\r\\n    \"perovskite_composition\": null,\\r\\n  ...</td>\n",
       "    </tr>\n",
       "    <tr>\n",
       "      <th>2</th>\n",
       "      <td>2</td>\n",
       "      <td>4</td>\n",
       "      <td>4</td>\n",
       "      <td>40</td>\n",
       "      <td>Paper #: 40\\r\\nDamp heat-stable perovskite sol...</td>\n",
       "      <td>Damp heat-stable perovskite solar cells with t...</td>\n",
       "      <td>{'perovskite_composition': 'FAMAPbI3', 'electr...</td>\n",
       "    </tr>\n",
       "    <tr>\n",
       "      <th>3</th>\n",
       "      <td>3</td>\n",
       "      <td>7</td>\n",
       "      <td>7</td>\n",
       "      <td>47</td>\n",
       "      <td>Paper #: 47\\r\\n\\r\\nMaterials and Methods \\r\\n ...</td>\n",
       "      <td>Device fabrication Patterned ITO glass substr...</td>\n",
       "      <td>{'perovskite_composition': 'Cs0.05FA0.81MA0.14...</td>\n",
       "    </tr>\n",
       "    <tr>\n",
       "      <th>4</th>\n",
       "      <td>4</td>\n",
       "      <td>8</td>\n",
       "      <td>8</td>\n",
       "      <td>96</td>\n",
       "      <td>Paper #: 96\\r\\nStable perovskite solar cells u...</td>\n",
       "      <td>Broader context Perovskite solar cells (PSCs)...</td>\n",
       "      <td>{'perovskite_composition': None, 'electron_tra...</td>\n",
       "    </tr>\n",
       "    <tr>\n",
       "      <th>...</th>\n",
       "      <td>...</td>\n",
       "      <td>...</td>\n",
       "      <td>...</td>\n",
       "      <td>...</td>\n",
       "      <td>...</td>\n",
       "      <td>...</td>\n",
       "      <td>...</td>\n",
       "    </tr>\n",
       "    <tr>\n",
       "      <th>82</th>\n",
       "      <td>82</td>\n",
       "      <td>142</td>\n",
       "      <td>142</td>\n",
       "      <td>95</td>\n",
       "      <td>Paper #: 95\\r\\nOptimal Interfacial Engineering...</td>\n",
       "      <td>DOI: 10.1002/aenm.201902740 perovskites. Becau...</td>\n",
       "      <td>{'perovskite_composition': 'FAPbI3 0.95 (MAPbB...</td>\n",
       "    </tr>\n",
       "    <tr>\n",
       "      <th>83</th>\n",
       "      <td>83</td>\n",
       "      <td>145</td>\n",
       "      <td>145</td>\n",
       "      <td>123</td>\n",
       "      <td>Paper #: 123\\r\\nConstructing heterojunctions b...</td>\n",
       "      <td>P erovskite solar cells (PSCs) have reached po...</td>\n",
       "      <td>{'perovskite_composition': 'FAPbI3.95(MAPbBr3)...</td>\n",
       "    </tr>\n",
       "    <tr>\n",
       "      <th>84</th>\n",
       "      <td>84</td>\n",
       "      <td>146</td>\n",
       "      <td>146</td>\n",
       "      <td>31</td>\n",
       "      <td>Paper #: 31\\r\\n\\r\\nWe performed 1 H-NMR to sup...</td>\n",
       "      <td>We performed 1 H-NMR to support our proposed r...</td>\n",
       "      <td>{'perovskite_composition': 'Rb0.05Cs0.05MA0.05...</td>\n",
       "    </tr>\n",
       "    <tr>\n",
       "      <th>85</th>\n",
       "      <td>85</td>\n",
       "      <td>147</td>\n",
       "      <td>147</td>\n",
       "      <td>36</td>\n",
       "      <td>Paper #: 36\\r\\nUnderstanding Performance Limit...</td>\n",
       "      <td>Understanding Performance Limiting Interfacial...</td>\n",
       "      <td>{\\r\\n    \"perovskite_composition\": null, \\r\\n ...</td>\n",
       "    </tr>\n",
       "    <tr>\n",
       "      <th>86</th>\n",
       "      <td>86</td>\n",
       "      <td>148</td>\n",
       "      <td>148</td>\n",
       "      <td>124</td>\n",
       "      <td>Paper #: 124\\r\\nHighly efficient p-i-n perovsk...</td>\n",
       "      <td>Highly efficient p-i-n perovskite solar cells ...</td>\n",
       "      <td>{'perovskite_composition': 'Cs0.05(FA0.98MA0.0...</td>\n",
       "    </tr>\n",
       "  </tbody>\n",
       "</table>\n",
       "<p>87 rows × 7 columns</p>\n",
       "</div>"
      ],
      "text/plain": [
       "    Unnamed: 0.2  Unnamed: 0.1  Unnamed: 0   id  \\\n",
       "0              0             2           2   72   \n",
       "1              1             3           3   75   \n",
       "2              2             4           4   40   \n",
       "3              3             7           7   47   \n",
       "4              4             8           8   96   \n",
       "..           ...           ...         ...  ...   \n",
       "82            82           142         142   95   \n",
       "83            83           145         145  123   \n",
       "84            84           146         146   31   \n",
       "85            85           147         147   36   \n",
       "86            86           148         148  124   \n",
       "\n",
       "                                            full_text  \\\n",
       "0   Paper #: 72\\r\\nSuppressed Ion Migration in Red...   \n",
       "1   Paper #: 75\\r\\nDynamical Evolution of the 2D/3...   \n",
       "2   Paper #: 40\\r\\nDamp heat-stable perovskite sol...   \n",
       "3   Paper #: 47\\r\\n\\r\\nMaterials and Methods \\r\\n ...   \n",
       "4   Paper #: 96\\r\\nStable perovskite solar cells u...   \n",
       "..                                                ...   \n",
       "82  Paper #: 95\\r\\nOptimal Interfacial Engineering...   \n",
       "83  Paper #: 123\\r\\nConstructing heterojunctions b...   \n",
       "84  Paper #: 31\\r\\n\\r\\nWe performed 1 H-NMR to sup...   \n",
       "85  Paper #: 36\\r\\nUnderstanding Performance Limit...   \n",
       "86  Paper #: 124\\r\\nHighly efficient p-i-n perovsk...   \n",
       "\n",
       "                                        filtered_text  \\\n",
       "0   T oday's perovskite solar cells (PSCs) require...   \n",
       "1    UV-VIS Absorption The absorption spectra of t...   \n",
       "2   Damp heat-stable perovskite solar cells with t...   \n",
       "3    Device fabrication Patterned ITO glass substr...   \n",
       "4    Broader context Perovskite solar cells (PSCs)...   \n",
       "..                                                ...   \n",
       "82  DOI: 10.1002/aenm.201902740 perovskites. Becau...   \n",
       "83  P erovskite solar cells (PSCs) have reached po...   \n",
       "84  We performed 1 H-NMR to support our proposed r...   \n",
       "85  Understanding Performance Limiting Interfacial...   \n",
       "86  Highly efficient p-i-n perovskite solar cells ...   \n",
       "\n",
       "                                          json_output  \n",
       "0   {'perovskite_composition': None, 'electron_tra...  \n",
       "1   {\\r\\n    \"perovskite_composition\": null,\\r\\n  ...  \n",
       "2   {'perovskite_composition': 'FAMAPbI3', 'electr...  \n",
       "3   {'perovskite_composition': 'Cs0.05FA0.81MA0.14...  \n",
       "4   {'perovskite_composition': None, 'electron_tra...  \n",
       "..                                                ...  \n",
       "82  {'perovskite_composition': 'FAPbI3 0.95 (MAPbB...  \n",
       "83  {'perovskite_composition': 'FAPbI3.95(MAPbBr3)...  \n",
       "84  {'perovskite_composition': 'Rb0.05Cs0.05MA0.05...  \n",
       "85  {\\r\\n    \"perovskite_composition\": null, \\r\\n ...  \n",
       "86  {'perovskite_composition': 'Cs0.05(FA0.98MA0.0...  \n",
       "\n",
       "[87 rows x 7 columns]"
      ]
     },
     "execution_count": 33,
     "metadata": {},
     "output_type": "execute_result"
    }
   ],
   "source": [
    "df = pd.read_csv('data\\schema2\\Llama-PSC-Extractor-8B-8bit-Schema-2.csv')\n",
    "df"
   ]
  },
  {
   "cell_type": "code",
   "execution_count": 34,
   "metadata": {},
   "outputs": [],
   "source": [
    "df = df[df[\"json_output\"].isna() == False] "
   ]
  },
  {
   "cell_type": "code",
   "execution_count": 35,
   "metadata": {},
   "outputs": [],
   "source": [
    "def clean_json(json_string):\n",
    "    json_string = json_string.replace(\"None\", \"null\")\n",
    "    json_string = json_string.replace(\"'\", \"\\\"\")\n",
    "    return json_string"
   ]
  },
  {
   "cell_type": "code",
   "execution_count": 40,
   "metadata": {},
   "outputs": [
    {
     "data": {
      "text/plain": [
       "'{\\r\\n    \"perovskite_composition\": null,\\r\\n    \"electron_transport_layer\": null,\\r\\n    \"pin_nip_structure\": null,\\r\\n    \"hole_transport_layer\": null,\\r\\n    \"passivating_molecule\": null,\\r\\n    \"control_pce\": null,\\r\\n    \"control_voc\": null,\\r\\n    \"treated_pce\": null,\\r\\n    \"treated_voc\": null,\\r\\n    \"test_1\": {\\r\\n        \"test_name\": \"ISOS-LT\",\\r\\n        \"temperature\": null,\\r\\n        \"time\": null,\\r\\n        \"humidity\": null,\\r\\n        \"retained_percentage_cont\": null,\\r\\n        \"retained_percentage_tret\": null\\r\\n    },\\r\\n    \"test_2\": {\\r\\n        \"test_name\": \"ISOS-D\",\\r\\n        \"temperature\": null,\\r\\n        \"time\": null,\\r\\n        \"humidity\": null,\\r\\n        \"retained_percentage_cont\": null,\\r\\n        \"retained_percentage_tret\": null\\r\\n    },\\r\\n    \"test_3\": {\\r\\n        \"test_name\": \"ISOS-L\",\\r\\n        \"temperature\": null,\\r\\n        \"time\": null,\\r\\n        \"humidity\": null,\\r\\n        \"retained_percentage_cont\": null,\\r\\n        \"retained_percentage_tret\": null\\r\\n    }\\r\\n}\\r\\n\\r\\nThere is no information about passivating molecules or stability tests in the provided text. However, there are some performance data for perovskite solar cells in Tables S1 and S2. \\r\\n\\r\\nHere is the JSON object with the extracted data:\\r\\n\\r\\n{\\r\\n    \"perovskite_composition\": null,\\r\\n    \"electron_transport_layer\": null,\\r\\n    \"pin_nip_structure\": null,\\r\\n    \"hole_transport_layer\": null,\\r\\n    \"passivating_molecule\": null,\\r\\n    \"control_pce\": 19.6,\\r\\n    \"control_voc\": 1.07,\\r\\n    \"treated_pce\": 19.8,\\r\\n    \"treated_voc\": 1.11,\\r\\n    \"test_1\": {\\r\\n        \"test_name\": \"ISOS-LT\",\\r\\n        \"temperature\": null,\\r\\n        \"time\": null,\\r\\n        \"humidity\": null,\\r\\n        \"retained_percentage_cont\": null,\\r\\n        \"retained_percentage_tret\": null\\r\\n    },\\r\\n    \"test_2\": {\\r\\n        \"test_name\": \"ISOS-D\",\\r\\n        \"temperature\": null,\\r\\n        \"time\": null,\\r\\n        \"humidity\": null,\\r\\n        \"retained_percentage_cont\": null,\\r\\n        \"retained_percentage_tret\": null\\r\\n    },\\r\\n    \"test_3\": {\\r\\n        \"test_name\": \"ISOS-L\",\\r\\n        \"temperature\": null,\\r\\n        \"time\": null,\\r\\n        \"humidity\": null,\\r\\n        \"retained_percentage_cont\": null,\\r\\n        \"retained_percentage_tret\": null\\r\\n    }\\r\\n}'"
      ]
     },
     "execution_count": 40,
     "metadata": {},
     "output_type": "execute_result"
    }
   ],
   "source": [
    "df[df[\"id\"] == 75][\"json_output\"].iloc[0]"
   ]
  },
  {
   "cell_type": "code",
   "execution_count": 41,
   "metadata": {},
   "outputs": [
    {
     "name": "stdout",
     "output_type": "stream",
     "text": [
      "75\n",
      "127\n",
      "120\n",
      "51\n",
      "18\n",
      "11\n",
      "13\n",
      "148\n",
      "37\n",
      "77\n",
      "132\n",
      "67\n",
      "36\n"
     ]
    }
   ],
   "source": [
    "import re\n",
    "output = {}\n",
    "i = 0\n",
    "for index, row in df.iterrows():\n",
    "    i += 1\n",
    "    json_match = re.search(r\"\\{.*\\}\", row[\"json_output\"], re.DOTALL)\n",
    "    if json_match:\n",
    "        raw_json = json_match.group(0).strip()\n",
    "    else:\n",
    "        raw_json = None\n",
    "    try:\n",
    "        raw_json = json.loads(clean_json(raw_json))\n",
    "    except json.JSONDecodeError as e:\n",
    "        print(row[\"id\"])\n",
    "        raw_json = None\n",
    "    output[str(row[\"id\"])] = raw_json"
   ]
  },
  {
   "cell_type": "code",
   "execution_count": 42,
   "metadata": {},
   "outputs": [
    {
     "data": {
      "text/plain": [
       "'Cs0.05(FA0.98MA0.02)0.95Pb(I0.98Br0.02)3'"
      ]
     },
     "execution_count": 42,
     "metadata": {},
     "output_type": "execute_result"
    }
   ],
   "source": [
    "output[\"124\"][\"perovskite_composition\"]"
   ]
  },
  {
   "cell_type": "code",
   "execution_count": 43,
   "metadata": {},
   "outputs": [],
   "source": [
    "with open('data/schema2/llama_8bit_finetuned.json', 'w') as f:\n",
    "    json.dump(output, f)"
   ]
  },
  {
   "cell_type": "code",
   "execution_count": null,
   "metadata": {},
   "outputs": [],
   "source": []
  }
 ],
 "metadata": {
  "kernelspec": {
   "display_name": ".venv",
   "language": "python",
   "name": "python3"
  },
  "language_info": {
   "codemirror_mode": {
    "name": "ipython",
    "version": 3
   },
   "file_extension": ".py",
   "mimetype": "text/x-python",
   "name": "python",
   "nbconvert_exporter": "python",
   "pygments_lexer": "ipython3",
   "version": "3.10.6"
  }
 },
 "nbformat": 4,
 "nbformat_minor": 2
}
