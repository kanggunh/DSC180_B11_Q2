{
 "cells": [
  {
   "cell_type": "code",
   "execution_count": 9,
   "metadata": {},
   "outputs": [
    {
     "data": {
      "text/plain": [
       "False"
      ]
     },
     "execution_count": 9,
     "metadata": {},
     "output_type": "execute_result"
    }
   ],
   "source": [
    "from openai import OpenAI\n",
    "import json\n",
    "from dotenv import load_dotenv\n",
    "import os\n",
    "import re\n",
    "\n",
    "load_dotenv()"
   ]
  },
  {
   "cell_type": "code",
   "execution_count": 10,
   "metadata": {},
   "outputs": [],
   "source": [
    "def get_system_content():\n",
    "    json_schema = {\n",
    "    \"perovskite_composition\": {\"type:\": str},\n",
    "    \"electron_transport_layer\": {\"type\": str},\n",
    "    \"hole_transport_layer\": {\"type\": str},\n",
    "    \"structure_pin_nip\": {\"type\": str},\n",
    "    \"test_1\": {\n",
    "        \"stability_type\": {\"type\": str},\n",
    "        \"passivating_molecule\": {\"type\": str},\n",
    "        \"humidity\": {\"type\": int},\n",
    "        \"temperature\": {\"type\": int},\n",
    "        \"time\": {\"type\": int},\n",
    "        \"control_pce\": {\"type\": float},\n",
    "        \"treated_pce\": {\"type\": float},\n",
    "        \"control_voc\": {\"type\": float},\n",
    "        \"treated_voc\": {\"type\": float},\n",
    "        \"retained_proportion_cont\": {\"type\": float},\n",
    "        \"retained_proportion_tret\": {\"type\": float}\n",
    "        }\n",
    "    }\n",
    "    ensure_format_system = \"\"\"\n",
    "    You are a helpful data quality assistant.\n",
    "    Your task is to make sure that each value of the keys in the JSON object provided follows the following schema:\n",
    "\n",
    "    {json_schema}\n",
    "\n",
    "    **Instructions**\n",
    "    - Note that there may be multiple tests, where each test has the key (test_1, test_2, etc.)\n",
    "    The JSON provided to you may not follow this exact format. Rename the keys if necessary to ensure that it follows the schema previously outlined.\n",
    "    - The JSON provided may be missing some keys. In the case a key is missing, put it in the JSON with its value as null.\n",
    "    - Return the original JSON object but where each key's value is the JSON object you formatted.\n",
    "\n",
    "    Begin formatting!\n",
    "    \"\"\"\n",
    "    return ensure_format_system.format(json_schema=json_schema)"
   ]
  },
  {
   "cell_type": "code",
   "execution_count": 11,
   "metadata": {},
   "outputs": [],
   "source": [
    "def ensure_json_format(json_path, batch_size=100):\n",
    "    client = OpenAI(\n",
    "        api_key=os.getenv(\"DEEPSEEK_API_KEY\"), \n",
    "        base_url=\"https://api.deepseek.com\"\n",
    "    )\n",
    "    system_content = get_system_content()\n",
    "    with open(json_path, 'r') as json_file:\n",
    "        data = json.load(json_file)\n",
    "    keys = list(data.keys())\n",
    "    num_objects = len(keys)\n",
    "    l = 0\n",
    "    formatted_objects = {}\n",
    "    while l < num_objects:\n",
    "        r = l + batch_size\n",
    "        if r > num_objects:\n",
    "            r = num_objects\n",
    "        curr_keys = keys[l:r]\n",
    "        curr_batch = {key: data[key] for key in curr_keys if key in data}\n",
    "        print(curr_batch)\n",
    "        messages = [\n",
    "            {\n",
    "                \"role\": \"system\",\n",
    "                \"content\": system_content\n",
    "            },\n",
    "            {\n",
    "                \"role\": \"user\",\n",
    "                \"content\": str(curr_batch) \n",
    "            }\n",
    "        ]\n",
    "        response = client.chat.completions.create(\n",
    "            model=\"deepseek-chat\",\n",
    "            messages=messages,\n",
    "            stream=False,\n",
    "            max_tokens=4096\n",
    "        )\n",
    "        output = response.choices[0].message.content\n",
    "        json_match = re.search(r\"\\{.*}\", output, re.DOTALL)\n",
    "        if not json_match:\n",
    "            print(f\"could not format keys {curr_keys[l]} to {curr_keys[r]}\")\n",
    "            formatted_objects.update(curr_batch)\n",
    "        else:\n",
    "            output_json = json.load(json_match.group(0).strip())\n",
    "            formatted_objects.update(output_json)\n",
    "    formatted_file_path = json_path + \"_formatted\"\n",
    "    with open(formatted_file_path, \"w\") as f:\n",
    "        json.dump(formatted_objects, f)\n",
    "\n",
    "            \n"
   ]
  },
  {
   "cell_type": "code",
   "execution_count": null,
   "metadata": {},
   "outputs": [],
   "source": [
    "ensure_json_format(\"data/deepseek_finetuned.json\")"
   ]
  }
 ],
 "metadata": {
  "kernelspec": {
   "display_name": "base",
   "language": "python",
   "name": "python3"
  },
  "language_info": {
   "codemirror_mode": {
    "name": "ipython",
    "version": 3
   },
   "file_extension": ".py",
   "mimetype": "text/x-python",
   "name": "python",
   "nbconvert_exporter": "python",
   "pygments_lexer": "ipython3",
   "version": "3.10.9"
  }
 },
 "nbformat": 4,
 "nbformat_minor": 2
}
