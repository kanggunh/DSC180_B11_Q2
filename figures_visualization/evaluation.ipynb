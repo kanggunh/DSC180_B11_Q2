{
 "cells": [
  {
   "cell_type": "markdown",
   "metadata": {},
   "source": [
    "## Visualization for evaluation task"
   ]
  },
  {
   "cell_type": "code",
   "execution_count": 1,
   "metadata": {},
   "outputs": [],
   "source": [
    "import pandas as pd\n",
    "import matplotlib.pyplot as plt\n",
    "import numpy as np"
   ]
  },
  {
   "cell_type": "code",
   "execution_count": 2,
   "metadata": {},
   "outputs": [
    {
     "data": {
      "text/html": [
       "<div>\n",
       "<style scoped>\n",
       "    .dataframe tbody tr th:only-of-type {\n",
       "        vertical-align: middle;\n",
       "    }\n",
       "\n",
       "    .dataframe tbody tr th {\n",
       "        vertical-align: top;\n",
       "    }\n",
       "\n",
       "    .dataframe thead th {\n",
       "        text-align: right;\n",
       "    }\n",
       "</style>\n",
       "<table border=\"1\" class=\"dataframe\">\n",
       "  <thead>\n",
       "    <tr style=\"text-align: right;\">\n",
       "      <th></th>\n",
       "      <th>Macro F1 score weight distribution</th>\n",
       "      <th>Base Deepseek 8bit</th>\n",
       "      <th>Fine-Tuned Deepseek 8bit</th>\n",
       "      <th>Llama 3 billion parameter</th>\n",
       "    </tr>\n",
       "  </thead>\n",
       "  <tbody>\n",
       "    <tr>\n",
       "      <th>0</th>\n",
       "      <td>Macro F1 score of equal weight</td>\n",
       "      <td>0.478965</td>\n",
       "      <td>0.590996</td>\n",
       "      <td>0.582662</td>\n",
       "    </tr>\n",
       "    <tr>\n",
       "      <th>1</th>\n",
       "      <td>Heavier weight on stability</td>\n",
       "      <td>0.431204</td>\n",
       "      <td>0.563622</td>\n",
       "      <td>0.546909</td>\n",
       "    </tr>\n",
       "    <tr>\n",
       "      <th>2</th>\n",
       "      <td>Heavier weight on cell structure</td>\n",
       "      <td>0.490628</td>\n",
       "      <td>0.593914</td>\n",
       "      <td>0.591821</td>\n",
       "    </tr>\n",
       "    <tr>\n",
       "      <th>3</th>\n",
       "      <td>Heavier weight on numeric data</td>\n",
       "      <td>0.489202</td>\n",
       "      <td>0.592720</td>\n",
       "      <td>0.580230</td>\n",
       "    </tr>\n",
       "    <tr>\n",
       "      <th>5</th>\n",
       "      <td>Normalized PCE difference prediction</td>\n",
       "      <td>0.640238</td>\n",
       "      <td>0.679721</td>\n",
       "      <td>0.682697</td>\n",
       "    </tr>\n",
       "    <tr>\n",
       "      <th>6</th>\n",
       "      <td>Stability Prediction</td>\n",
       "      <td>0.411219</td>\n",
       "      <td>0.537293</td>\n",
       "      <td>0.507860</td>\n",
       "    </tr>\n",
       "  </tbody>\n",
       "</table>\n",
       "</div>"
      ],
      "text/plain": [
       "     Macro F1 score weight distribution  Base Deepseek 8bit  \\\n",
       "0        Macro F1 score of equal weight            0.478965   \n",
       "1           Heavier weight on stability            0.431204   \n",
       "2      Heavier weight on cell structure            0.490628   \n",
       "3        Heavier weight on numeric data            0.489202   \n",
       "5  Normalized PCE difference prediction            0.640238   \n",
       "6                  Stability Prediction            0.411219   \n",
       "\n",
       "   Fine-Tuned Deepseek 8bit  Llama 3 billion parameter  \n",
       "0                  0.590996                   0.582662  \n",
       "1                  0.563622                   0.546909  \n",
       "2                  0.593914                   0.591821  \n",
       "3                  0.592720                   0.580230  \n",
       "5                  0.679721                   0.682697  \n",
       "6                  0.537293                   0.507860  "
      ]
     },
     "execution_count": 2,
     "metadata": {},
     "output_type": "execute_result"
    }
   ],
   "source": [
    "schema_2 = {\n",
    "    \"Macro F1 score weight distribution\": [\"Macro F1 score of equal weight\", \"Heavier weight on stability\", \"Heavier weight on cell structure\", \"Heavier weight on numeric data\", \"Normalized PCE difference prediction\", \"Stability Prediction\"],\n",
    "    \"Base Deepseek 8bit\": [0.612638, 0.559509, 0.599405, 0.638013, 0.720972, 0.585684],\n",
    "    \"Fine-Tuned Deepseek 8bit\": [0.565637, 0.568550, 0.535919, 0.638013, 0.620636, 0.560775],\n",
    "    \"Llama 8bit\": [0.398195, 0.411994, 0.344256, 0.432364, 0.481657, 0.400583],\n",
    "}\n",
    "\n",
    "schema_1 = {\n",
    "    \"Macro F1 score weight distribution\": [\"Macro F1 score of equal weight\", \"Heavier weight on stability\", \"Heavier weight on cell structure\", \"Heavier weight on numeric data\", \"Prediction 1\", \"Normalized PCE difference prediction\", \"Stability Prediction\"],\n",
    "    \"Base Deepseek 8bit\": [0.478965, 0.431204, 0.490628, 0.489202, 0.657539, 0.640238, 0.411219],\n",
    "    \"Fine-Tuned Deepseek 4bit\": [0.529807, 0.478216, 0.540545, 0.542935, 0.674124, 0.699868, 0.441058],\n",
    "    \"Fine-Tuned Deepseek 8bit\": [0.590996, 0.563622, 0.593914, 0.592720, 0.655673, 0.679721, 0.537293],\n",
    "    \"Llama 3 billion parameter\": [0.582662, 0.546909, 0.591821, 0.580230, 0.651199, 0.682697, 0.507860],\n",
    "}\n",
    "schema_1df = pd.DataFrame(schema_1)\n",
    "schema_1df = schema_1df.drop(4)\n",
    "schema_1df = schema_1df[[\"Macro F1 score weight distribution\",\"Base Deepseek 8bit\", \"Fine-Tuned Deepseek 8bit\", \"Llama 3 billion parameter\"]]\n",
    "schema_1df.columns = [\"Macro F1 score weight distribution\",\"Base Deepseek 8bit\", \"Fine-Tuned Deepseek 8bit\", \"Llama 3 billion parameter\"]\n",
    "schema_1df"
   ]
  },
  {
   "cell_type": "code",
   "execution_count": 3,
   "metadata": {},
   "outputs": [
    {
     "data": {
      "text/html": [
       "<div>\n",
       "<style scoped>\n",
       "    .dataframe tbody tr th:only-of-type {\n",
       "        vertical-align: middle;\n",
       "    }\n",
       "\n",
       "    .dataframe tbody tr th {\n",
       "        vertical-align: top;\n",
       "    }\n",
       "\n",
       "    .dataframe thead th {\n",
       "        text-align: right;\n",
       "    }\n",
       "</style>\n",
       "<table border=\"1\" class=\"dataframe\">\n",
       "  <thead>\n",
       "    <tr style=\"text-align: right;\">\n",
       "      <th></th>\n",
       "      <th>Macro F1 score weight distribution</th>\n",
       "      <th>Base Deepseek 8bit</th>\n",
       "      <th>Fine-Tuned Deepseek 8bit</th>\n",
       "      <th>Llama 3 billion parameter</th>\n",
       "    </tr>\n",
       "  </thead>\n",
       "  <tbody>\n",
       "    <tr>\n",
       "      <th>0</th>\n",
       "      <td>Macro F1 score of equal weight</td>\n",
       "      <td>0.612638</td>\n",
       "      <td>0.565637</td>\n",
       "      <td>0.398195</td>\n",
       "    </tr>\n",
       "    <tr>\n",
       "      <th>1</th>\n",
       "      <td>Heavier weight on stability</td>\n",
       "      <td>0.559509</td>\n",
       "      <td>0.568550</td>\n",
       "      <td>0.411994</td>\n",
       "    </tr>\n",
       "    <tr>\n",
       "      <th>2</th>\n",
       "      <td>Heavier weight on cell structure</td>\n",
       "      <td>0.599405</td>\n",
       "      <td>0.535919</td>\n",
       "      <td>0.344256</td>\n",
       "    </tr>\n",
       "    <tr>\n",
       "      <th>3</th>\n",
       "      <td>Heavier weight on numeric data</td>\n",
       "      <td>0.638013</td>\n",
       "      <td>0.638013</td>\n",
       "      <td>0.432364</td>\n",
       "    </tr>\n",
       "    <tr>\n",
       "      <th>4</th>\n",
       "      <td>Normalized PCE difference prediction</td>\n",
       "      <td>0.720972</td>\n",
       "      <td>0.620636</td>\n",
       "      <td>0.481657</td>\n",
       "    </tr>\n",
       "    <tr>\n",
       "      <th>5</th>\n",
       "      <td>Stability Prediction</td>\n",
       "      <td>0.585684</td>\n",
       "      <td>0.560775</td>\n",
       "      <td>0.400583</td>\n",
       "    </tr>\n",
       "  </tbody>\n",
       "</table>\n",
       "</div>"
      ],
      "text/plain": [
       "     Macro F1 score weight distribution  Base Deepseek 8bit  \\\n",
       "0        Macro F1 score of equal weight            0.612638   \n",
       "1           Heavier weight on stability            0.559509   \n",
       "2      Heavier weight on cell structure            0.599405   \n",
       "3        Heavier weight on numeric data            0.638013   \n",
       "4  Normalized PCE difference prediction            0.720972   \n",
       "5                  Stability Prediction            0.585684   \n",
       "\n",
       "   Fine-Tuned Deepseek 8bit  Llama 3 billion parameter  \n",
       "0                  0.565637                   0.398195  \n",
       "1                  0.568550                   0.411994  \n",
       "2                  0.535919                   0.344256  \n",
       "3                  0.638013                   0.432364  \n",
       "4                  0.620636                   0.481657  \n",
       "5                  0.560775                   0.400583  "
      ]
     },
     "execution_count": 3,
     "metadata": {},
     "output_type": "execute_result"
    }
   ],
   "source": [
    "schema_2df = pd.DataFrame(schema_2)\n",
    "schema_2df.columns = [\"Macro F1 score weight distribution\",\"Base Deepseek 8bit\", \"Fine-Tuned Deepseek 8bit\", \"Llama 3 billion parameter\"]\n",
    "schema_2df"
   ]
  },
  {
   "cell_type": "markdown",
   "metadata": {},
   "source": [
    "## First analyze the equal weight extraction result"
   ]
  },
  {
   "cell_type": "code",
   "execution_count": 4,
   "metadata": {},
   "outputs": [
    {
     "data": {
      "text/html": [
       "<div>\n",
       "<style scoped>\n",
       "    .dataframe tbody tr th:only-of-type {\n",
       "        vertical-align: middle;\n",
       "    }\n",
       "\n",
       "    .dataframe tbody tr th {\n",
       "        vertical-align: top;\n",
       "    }\n",
       "\n",
       "    .dataframe thead th {\n",
       "        text-align: right;\n",
       "    }\n",
       "</style>\n",
       "<table border=\"1\" class=\"dataframe\">\n",
       "  <thead>\n",
       "    <tr style=\"text-align: right;\">\n",
       "      <th></th>\n",
       "      <th>Base Deepseek 8bit</th>\n",
       "      <th>Fine-Tuned Deepseek 8bit</th>\n",
       "      <th>Llama 3 billion parameter</th>\n",
       "    </tr>\n",
       "  </thead>\n",
       "  <tbody>\n",
       "    <tr>\n",
       "      <th>0</th>\n",
       "      <td>0.478965</td>\n",
       "      <td>0.590996</td>\n",
       "      <td>0.582662</td>\n",
       "    </tr>\n",
       "  </tbody>\n",
       "</table>\n",
       "</div>"
      ],
      "text/plain": [
       "   Base Deepseek 8bit  Fine-Tuned Deepseek 8bit  Llama 3 billion parameter\n",
       "0            0.478965                  0.590996                   0.582662"
      ]
     },
     "execution_count": 4,
     "metadata": {},
     "output_type": "execute_result"
    }
   ],
   "source": [
    "schema_1_equal_weight = schema_1df.iloc[[0]][[\"Base Deepseek 8bit\", \"Fine-Tuned Deepseek 8bit\", \"Llama 3 billion parameter\"]]\n",
    "schema_1_equal_weight"
   ]
  },
  {
   "cell_type": "code",
   "execution_count": 5,
   "metadata": {},
   "outputs": [
    {
     "data": {
      "text/html": [
       "<div>\n",
       "<style scoped>\n",
       "    .dataframe tbody tr th:only-of-type {\n",
       "        vertical-align: middle;\n",
       "    }\n",
       "\n",
       "    .dataframe tbody tr th {\n",
       "        vertical-align: top;\n",
       "    }\n",
       "\n",
       "    .dataframe thead th {\n",
       "        text-align: right;\n",
       "    }\n",
       "</style>\n",
       "<table border=\"1\" class=\"dataframe\">\n",
       "  <thead>\n",
       "    <tr style=\"text-align: right;\">\n",
       "      <th></th>\n",
       "      <th>Base Deepseek 8bit</th>\n",
       "      <th>Fine-Tuned Deepseek 8bit</th>\n",
       "      <th>Llama 3 billion parameter</th>\n",
       "    </tr>\n",
       "  </thead>\n",
       "  <tbody>\n",
       "    <tr>\n",
       "      <th>0</th>\n",
       "      <td>0.612638</td>\n",
       "      <td>0.565637</td>\n",
       "      <td>0.398195</td>\n",
       "    </tr>\n",
       "  </tbody>\n",
       "</table>\n",
       "</div>"
      ],
      "text/plain": [
       "   Base Deepseek 8bit  Fine-Tuned Deepseek 8bit  Llama 3 billion parameter\n",
       "0            0.612638                  0.565637                   0.398195"
      ]
     },
     "execution_count": 5,
     "metadata": {},
     "output_type": "execute_result"
    }
   ],
   "source": [
    "schema_2_equal_weight = schema_2df.iloc[[0]][[\"Base Deepseek 8bit\", \"Fine-Tuned Deepseek 8bit\", \"Llama 3 billion parameter\"]]\n",
    "schema_2_equal_weight"
   ]
  },
  {
   "cell_type": "code",
   "execution_count": 6,
   "metadata": {},
   "outputs": [
    {
     "data": {
      "text/html": [
       "<div>\n",
       "<style scoped>\n",
       "    .dataframe tbody tr th:only-of-type {\n",
       "        vertical-align: middle;\n",
       "    }\n",
       "\n",
       "    .dataframe tbody tr th {\n",
       "        vertical-align: top;\n",
       "    }\n",
       "\n",
       "    .dataframe thead th {\n",
       "        text-align: right;\n",
       "    }\n",
       "</style>\n",
       "<table border=\"1\" class=\"dataframe\">\n",
       "  <thead>\n",
       "    <tr style=\"text-align: right;\">\n",
       "      <th></th>\n",
       "      <th>Model</th>\n",
       "      <th>Schema 1</th>\n",
       "      <th>Schema 2</th>\n",
       "    </tr>\n",
       "  </thead>\n",
       "  <tbody>\n",
       "    <tr>\n",
       "      <th>Base Deepseek 8bit</th>\n",
       "      <td>Base Deepseek 8bit</td>\n",
       "      <td>0.478965</td>\n",
       "      <td>0.612638</td>\n",
       "    </tr>\n",
       "    <tr>\n",
       "      <th>Fine-Tuned Deepseek 8bit</th>\n",
       "      <td>Fine-Tuned Deepseek 8bit</td>\n",
       "      <td>0.590996</td>\n",
       "      <td>0.565637</td>\n",
       "    </tr>\n",
       "    <tr>\n",
       "      <th>Llama 3 billion parameter</th>\n",
       "      <td>Llama 3 billion parameter</td>\n",
       "      <td>0.582662</td>\n",
       "      <td>0.398195</td>\n",
       "    </tr>\n",
       "  </tbody>\n",
       "</table>\n",
       "</div>"
      ],
      "text/plain": [
       "                                               Model  Schema 1  Schema 2\n",
       "Base Deepseek 8bit                Base Deepseek 8bit  0.478965  0.612638\n",
       "Fine-Tuned Deepseek 8bit    Fine-Tuned Deepseek 8bit  0.590996  0.565637\n",
       "Llama 3 billion parameter  Llama 3 billion parameter  0.582662  0.398195"
      ]
     },
     "execution_count": 6,
     "metadata": {},
     "output_type": "execute_result"
    }
   ],
   "source": [
    "data = {\n",
    "    \"Model\": schema_2_equal_weight.columns,\n",
    "    \"Schema 1\": schema_1_equal_weight.iloc[0],\n",
    "    \"Schema 2\": schema_2_equal_weight.iloc[0]\n",
    "}\n",
    "\n",
    "# Create a DataFrame\n",
    "df_comparison = pd.DataFrame(data)\n",
    "\n",
    "df_comparison"
   ]
  },
  {
   "cell_type": "code",
   "execution_count": 16,
   "metadata": {},
   "outputs": [
    {
     "data": {
      "image/png": "[encoded data removed]",
      "text/plain": [
       "<Figure size 1000x600 with 1 Axes>"
      ]
     },
     "metadata": {},
     "output_type": "display_data"
    }
   ],
   "source": [
    "# Data for the models (F1 scores)\n",
    "models = df_comparison['Model']\n",
    "schema_1_scores = df_comparison['Schema 1']\n",
    "schema_2_scores = df_comparison['Schema 2']\n",
    "\n",
    "# Create figure\n",
    "fig, ax = plt.subplots(figsize=(10, 6))\n",
    "\n",
    "# Bar width\n",
    "width = 0.3\n",
    "x = np.arange(len(models))\n",
    "\n",
    "\n",
    "# Lighten the colors for schema 1 and schema 2, keeping the highlighted orange bar darker\n",
    "ax.bar(x - width/2, schema_1_scores, width, label='Schema 1', color='lightskyblue')\n",
    "bars_schema_2 = ax.bar(x + width/2, schema_2_scores, width, label='Schema 2', color='orange')\n",
    "\n",
    "# Highlight the first bar of Schema 2 (orange) with darker color\n",
    "bars_schema_2[0].set_edgecolor('black')  # Highlight the leftmost bar with a black edge\n",
    "bars_schema_2[0].set_linewidth(2)\n",
    "\n",
    "# Rotate x-axis labels for better readability\n",
    "ax.set_xticks(x)\n",
    "ax.set_xticklabels(models, rotation=45, ha=\"right\")\n",
    "\n",
    "# Add labels and title\n",
    "ax.set_xlabel('Model')\n",
    "ax.set_ylabel('Performance Metric (F1 Score)')\n",
    "ax.set_title('Model Performance between Schema 1 and Schema 2 for unweighted f1 score')\n",
    "\n",
    "# Add legend\n",
    "ax.legend()\n",
    "\n",
    "# Display the figure\n",
    "plt.tight_layout()\n",
    "plt.show()"
   ]
  },
  {
   "cell_type": "markdown",
   "metadata": {},
   "source": [
    "## Then, analyze the extraction performance on 1 prediction task"
   ]
  },
  {
   "cell_type": "code",
   "execution_count": 8,
   "metadata": {},
   "outputs": [
    {
     "data": {
      "text/html": [
       "<div>\n",
       "<style scoped>\n",
       "    .dataframe tbody tr th:only-of-type {\n",
       "        vertical-align: middle;\n",
       "    }\n",
       "\n",
       "    .dataframe tbody tr th {\n",
       "        vertical-align: top;\n",
       "    }\n",
       "\n",
       "    .dataframe thead th {\n",
       "        text-align: right;\n",
       "    }\n",
       "</style>\n",
       "<table border=\"1\" class=\"dataframe\">\n",
       "  <thead>\n",
       "    <tr style=\"text-align: right;\">\n",
       "      <th></th>\n",
       "      <th>Base Deepseek 8bit</th>\n",
       "      <th>Fine-Tuned Deepseek 8bit</th>\n",
       "      <th>Llama 3 billion parameter</th>\n",
       "    </tr>\n",
       "  </thead>\n",
       "  <tbody>\n",
       "    <tr>\n",
       "      <th>5</th>\n",
       "      <td>0.640238</td>\n",
       "      <td>0.679721</td>\n",
       "      <td>0.682697</td>\n",
       "    </tr>\n",
       "  </tbody>\n",
       "</table>\n",
       "</div>"
      ],
      "text/plain": [
       "   Base Deepseek 8bit  Fine-Tuned Deepseek 8bit  Llama 3 billion parameter\n",
       "5            0.640238                  0.679721                   0.682697"
      ]
     },
     "execution_count": 8,
     "metadata": {},
     "output_type": "execute_result"
    }
   ],
   "source": [
    "schema_1_prediction1 = schema_1df.iloc[[4]][[\"Base Deepseek 8bit\", \"Fine-Tuned Deepseek 8bit\", \"Llama 3 billion parameter\"]]\n",
    "schema_1_prediction1"
   ]
  },
  {
   "cell_type": "code",
   "execution_count": 9,
   "metadata": {},
   "outputs": [
    {
     "data": {
      "text/html": [
       "<div>\n",
       "<style scoped>\n",
       "    .dataframe tbody tr th:only-of-type {\n",
       "        vertical-align: middle;\n",
       "    }\n",
       "\n",
       "    .dataframe tbody tr th {\n",
       "        vertical-align: top;\n",
       "    }\n",
       "\n",
       "    .dataframe thead th {\n",
       "        text-align: right;\n",
       "    }\n",
       "</style>\n",
       "<table border=\"1\" class=\"dataframe\">\n",
       "  <thead>\n",
       "    <tr style=\"text-align: right;\">\n",
       "      <th></th>\n",
       "      <th>Base Deepseek 8bit</th>\n",
       "      <th>Fine-Tuned Deepseek 8bit</th>\n",
       "      <th>Llama 3 billion parameter</th>\n",
       "    </tr>\n",
       "  </thead>\n",
       "  <tbody>\n",
       "    <tr>\n",
       "      <th>4</th>\n",
       "      <td>0.720972</td>\n",
       "      <td>0.620636</td>\n",
       "      <td>0.481657</td>\n",
       "    </tr>\n",
       "  </tbody>\n",
       "</table>\n",
       "</div>"
      ],
      "text/plain": [
       "   Base Deepseek 8bit  Fine-Tuned Deepseek 8bit  Llama 3 billion parameter\n",
       "4            0.720972                  0.620636                   0.481657"
      ]
     },
     "execution_count": 9,
     "metadata": {},
     "output_type": "execute_result"
    }
   ],
   "source": [
    "schema_2_prediction1 = schema_2df.iloc[[4]][[\"Base Deepseek 8bit\", \"Fine-Tuned Deepseek 8bit\", \"Llama 3 billion parameter\"]]\n",
    "schema_2_prediction1"
   ]
  },
  {
   "cell_type": "code",
   "execution_count": 10,
   "metadata": {},
   "outputs": [
    {
     "data": {
      "text/html": [
       "<div>\n",
       "<style scoped>\n",
       "    .dataframe tbody tr th:only-of-type {\n",
       "        vertical-align: middle;\n",
       "    }\n",
       "\n",
       "    .dataframe tbody tr th {\n",
       "        vertical-align: top;\n",
       "    }\n",
       "\n",
       "    .dataframe thead th {\n",
       "        text-align: right;\n",
       "    }\n",
       "</style>\n",
       "<table border=\"1\" class=\"dataframe\">\n",
       "  <thead>\n",
       "    <tr style=\"text-align: right;\">\n",
       "      <th></th>\n",
       "      <th>Model</th>\n",
       "      <th>Schema 1</th>\n",
       "      <th>Schema 2</th>\n",
       "    </tr>\n",
       "  </thead>\n",
       "  <tbody>\n",
       "    <tr>\n",
       "      <th>Base Deepseek 8bit</th>\n",
       "      <td>Base Deepseek 8bit</td>\n",
       "      <td>0.640238</td>\n",
       "      <td>0.720972</td>\n",
       "    </tr>\n",
       "    <tr>\n",
       "      <th>Fine-Tuned Deepseek 8bit</th>\n",
       "      <td>Fine-Tuned Deepseek 8bit</td>\n",
       "      <td>0.679721</td>\n",
       "      <td>0.620636</td>\n",
       "    </tr>\n",
       "    <tr>\n",
       "      <th>Llama 3 billion parameter</th>\n",
       "      <td>Llama 3 billion parameter</td>\n",
       "      <td>0.682697</td>\n",
       "      <td>0.481657</td>\n",
       "    </tr>\n",
       "  </tbody>\n",
       "</table>\n",
       "</div>"
      ],
      "text/plain": [
       "                                               Model  Schema 1  Schema 2\n",
       "Base Deepseek 8bit                Base Deepseek 8bit  0.640238  0.720972\n",
       "Fine-Tuned Deepseek 8bit    Fine-Tuned Deepseek 8bit  0.679721  0.620636\n",
       "Llama 3 billion parameter  Llama 3 billion parameter  0.682697  0.481657"
      ]
     },
     "execution_count": 10,
     "metadata": {},
     "output_type": "execute_result"
    }
   ],
   "source": [
    "data = {\n",
    "    \"Model\": schema_1_prediction1.columns,\n",
    "    \"Schema 1\": schema_1_prediction1.iloc[0],\n",
    "    \"Schema 2\": schema_2_prediction1.iloc[0]\n",
    "}\n",
    "\n",
    "# Create a DataFrame\n",
    "df_comparison_2 = pd.DataFrame(data)\n",
    "\n",
    "df_comparison_2"
   ]
  },
  {
   "cell_type": "code",
   "execution_count": 17,
   "metadata": {},
   "outputs": [
    {
     "data": {
      "image/png": "[encoded data removed]",
      "text/plain": [
       "<Figure size 1000x600 with 1 Axes>"
      ]
     },
     "metadata": {},
     "output_type": "display_data"
    }
   ],
   "source": [
    "# Data for the models (F1 scores)\n",
    "models = df_comparison_2['Model']\n",
    "schema_1_scores = df_comparison_2['Schema 1']\n",
    "schema_2_scores = df_comparison_2['Schema 2']\n",
    "\n",
    "# Create figure\n",
    "fig, ax = plt.subplots(figsize=(10, 6))\n",
    "\n",
    "# Bar width\n",
    "width = 0.3\n",
    "x = np.arange(len(models))\n",
    "\n",
    "\n",
    "# Lighten the colors for schema 1 and schema 2, keeping the highlighted orange bar darker\n",
    "ax.bar(x - width/2, schema_1_scores, width, label='Schema 1', color='lightskyblue')\n",
    "bars_schema_2 = ax.bar(x + width/2, schema_2_scores, width, label='Schema 2', color='orange')\n",
    "\n",
    "# Highlight the first bar of Schema 2 (orange) with darker color\n",
    "bars_schema_2[0].set_edgecolor('black')  # Highlight the leftmost bar with a black edge\n",
    "bars_schema_2[0].set_linewidth(2)\n",
    "\n",
    "# Rotate x-axis labels for better readability\n",
    "ax.set_xticks(x)\n",
    "ax.set_xticklabels(models, rotation=45, ha=\"right\")\n",
    "\n",
    "# Add labels and title\n",
    "ax.set_xlabel('Model')\n",
    "ax.set_ylabel('Performance Metric (F1 Score) weighted for prediction 1')\n",
    "ax.set_title('Model Performance between Schema 1 and Schema 2 extraction for making normalized PCE change prediction')\n",
    "\n",
    "# Add legend\n",
    "ax.legend()\n",
    "\n",
    "# Display the figure\n",
    "plt.tight_layout()\n",
    "plt.show()"
   ]
  },
  {
   "cell_type": "markdown",
   "metadata": {},
   "source": [
    "## Then, analyze the extraction performacne on 2 prediction task"
   ]
  },
  {
   "cell_type": "code",
   "execution_count": 12,
   "metadata": {},
   "outputs": [
    {
     "data": {
      "text/html": [
       "<div>\n",
       "<style scoped>\n",
       "    .dataframe tbody tr th:only-of-type {\n",
       "        vertical-align: middle;\n",
       "    }\n",
       "\n",
       "    .dataframe tbody tr th {\n",
       "        vertical-align: top;\n",
       "    }\n",
       "\n",
       "    .dataframe thead th {\n",
       "        text-align: right;\n",
       "    }\n",
       "</style>\n",
       "<table border=\"1\" class=\"dataframe\">\n",
       "  <thead>\n",
       "    <tr style=\"text-align: right;\">\n",
       "      <th></th>\n",
       "      <th>Base Deepseek 8bit</th>\n",
       "      <th>Fine-Tuned Deepseek 8bit</th>\n",
       "      <th>Llama 3 billion parameter</th>\n",
       "    </tr>\n",
       "  </thead>\n",
       "  <tbody>\n",
       "    <tr>\n",
       "      <th>6</th>\n",
       "      <td>0.411219</td>\n",
       "      <td>0.537293</td>\n",
       "      <td>0.50786</td>\n",
       "    </tr>\n",
       "  </tbody>\n",
       "</table>\n",
       "</div>"
      ],
      "text/plain": [
       "   Base Deepseek 8bit  Fine-Tuned Deepseek 8bit  Llama 3 billion parameter\n",
       "6            0.411219                  0.537293                    0.50786"
      ]
     },
     "execution_count": 12,
     "metadata": {},
     "output_type": "execute_result"
    }
   ],
   "source": [
    "schema_1_prediction2 = schema_1df.iloc[[5]][[\"Base Deepseek 8bit\", \"Fine-Tuned Deepseek 8bit\", \"Llama 3 billion parameter\"]]\n",
    "schema_1_prediction2"
   ]
  },
  {
   "cell_type": "code",
   "execution_count": 13,
   "metadata": {},
   "outputs": [
    {
     "data": {
      "text/html": [
       "<div>\n",
       "<style scoped>\n",
       "    .dataframe tbody tr th:only-of-type {\n",
       "        vertical-align: middle;\n",
       "    }\n",
       "\n",
       "    .dataframe tbody tr th {\n",
       "        vertical-align: top;\n",
       "    }\n",
       "\n",
       "    .dataframe thead th {\n",
       "        text-align: right;\n",
       "    }\n",
       "</style>\n",
       "<table border=\"1\" class=\"dataframe\">\n",
       "  <thead>\n",
       "    <tr style=\"text-align: right;\">\n",
       "      <th></th>\n",
       "      <th>Base Deepseek 8bit</th>\n",
       "      <th>Fine-Tuned Deepseek 8bit</th>\n",
       "      <th>Llama 3 billion parameter</th>\n",
       "    </tr>\n",
       "  </thead>\n",
       "  <tbody>\n",
       "    <tr>\n",
       "      <th>5</th>\n",
       "      <td>0.585684</td>\n",
       "      <td>0.560775</td>\n",
       "      <td>0.400583</td>\n",
       "    </tr>\n",
       "  </tbody>\n",
       "</table>\n",
       "</div>"
      ],
      "text/plain": [
       "   Base Deepseek 8bit  Fine-Tuned Deepseek 8bit  Llama 3 billion parameter\n",
       "5            0.585684                  0.560775                   0.400583"
      ]
     },
     "execution_count": 13,
     "metadata": {},
     "output_type": "execute_result"
    }
   ],
   "source": [
    "schema_2_prediction2 = schema_2df.iloc[[5]][[\"Base Deepseek 8bit\", \"Fine-Tuned Deepseek 8bit\", \"Llama 3 billion parameter\"]]\n",
    "schema_2_prediction2"
   ]
  },
  {
   "cell_type": "code",
   "execution_count": 14,
   "metadata": {},
   "outputs": [
    {
     "data": {
      "text/html": [
       "<div>\n",
       "<style scoped>\n",
       "    .dataframe tbody tr th:only-of-type {\n",
       "        vertical-align: middle;\n",
       "    }\n",
       "\n",
       "    .dataframe tbody tr th {\n",
       "        vertical-align: top;\n",
       "    }\n",
       "\n",
       "    .dataframe thead th {\n",
       "        text-align: right;\n",
       "    }\n",
       "</style>\n",
       "<table border=\"1\" class=\"dataframe\">\n",
       "  <thead>\n",
       "    <tr style=\"text-align: right;\">\n",
       "      <th></th>\n",
       "      <th>Model</th>\n",
       "      <th>Schema 1</th>\n",
       "      <th>Schema 2</th>\n",
       "    </tr>\n",
       "  </thead>\n",
       "  <tbody>\n",
       "    <tr>\n",
       "      <th>Base Deepseek 8bit</th>\n",
       "      <td>Base Deepseek 8bit</td>\n",
       "      <td>0.411219</td>\n",
       "      <td>0.585684</td>\n",
       "    </tr>\n",
       "    <tr>\n",
       "      <th>Fine-Tuned Deepseek 8bit</th>\n",
       "      <td>Fine-Tuned Deepseek 8bit</td>\n",
       "      <td>0.537293</td>\n",
       "      <td>0.560775</td>\n",
       "    </tr>\n",
       "    <tr>\n",
       "      <th>Llama 3 billion parameter</th>\n",
       "      <td>Llama 3 billion parameter</td>\n",
       "      <td>0.507860</td>\n",
       "      <td>0.400583</td>\n",
       "    </tr>\n",
       "  </tbody>\n",
       "</table>\n",
       "</div>"
      ],
      "text/plain": [
       "                                               Model  Schema 1  Schema 2\n",
       "Base Deepseek 8bit                Base Deepseek 8bit  0.411219  0.585684\n",
       "Fine-Tuned Deepseek 8bit    Fine-Tuned Deepseek 8bit  0.537293  0.560775\n",
       "Llama 3 billion parameter  Llama 3 billion parameter  0.507860  0.400583"
      ]
     },
     "execution_count": 14,
     "metadata": {},
     "output_type": "execute_result"
    }
   ],
   "source": [
    "data = {\n",
    "    \"Model\": schema_2_prediction2.columns,\n",
    "    \"Schema 1\": schema_1_prediction2.iloc[0],\n",
    "    \"Schema 2\": schema_2_prediction2.iloc[0]\n",
    "}\n",
    "\n",
    "# Create a DataFrame\n",
    "df_comparison_3 = pd.DataFrame(data)\n",
    "\n",
    "df_comparison_3"
   ]
  },
  {
   "cell_type": "code",
   "execution_count": 18,
   "metadata": {},
   "outputs": [
    {
     "data": {
      "image/png": "[encoded data removed]",
      "text/plain": [
       "<Figure size 1000x600 with 1 Axes>"
      ]
     },
     "metadata": {},
     "output_type": "display_data"
    }
   ],
   "source": [
    "# Data for the models (F1 scores)\n",
    "models = df_comparison_3['Model']\n",
    "schema_1_scores = df_comparison_3['Schema 1']\n",
    "schema_2_scores = df_comparison_3['Schema 2']\n",
    "\n",
    "# Create figure\n",
    "fig, ax = plt.subplots(figsize=(10, 6))\n",
    "\n",
    "# Bar width\n",
    "width = 0.3\n",
    "x = np.arange(len(models))\n",
    "\n",
    "\n",
    "# Lighten the colors for schema 1 and schema 2, keeping the highlighted orange bar darker\n",
    "ax.bar(x - width/2, schema_1_scores, width, label='Schema 1', color='lightskyblue')\n",
    "bars_schema_2 = ax.bar(x + width/2, schema_2_scores, width, label='Schema 2', color='orange')\n",
    "\n",
    "# Highlight the first bar of Schema 2 (orange) with darker color\n",
    "bars_schema_2[0].set_edgecolor('black')  # Highlight the leftmost bar with a black edge\n",
    "bars_schema_2[0].set_linewidth(2)\n",
    "\n",
    "# Rotate x-axis labels for better readability\n",
    "ax.set_xticks(x)\n",
    "ax.set_xticklabels(models, rotation=45, ha=\"right\")\n",
    "\n",
    "# Add labels and title\n",
    "ax.set_xlabel('Model')\n",
    "ax.set_ylabel('Performance Metric (F1 Score) for prediction 2')\n",
    "ax.set_title('Model Performance between Schema 1 and Schema 2 extraction for making stability prediction')\n",
    "\n",
    "# Add legend\n",
    "ax.legend()\n",
    "\n",
    "# Display the figure\n",
    "plt.tight_layout()\n",
    "plt.show()"
   ]
  },
  {
   "cell_type": "markdown",
   "metadata": {},
   "source": []
  }
 ],
 "metadata": {
  "kernelspec": {
   "display_name": "Python 3",
   "language": "python",
   "name": "python3"
  },
  "language_info": {
   "codemirror_mode": {
    "name": "ipython",
    "version": 3
   },
   "file_extension": ".py",
   "mimetype": "text/x-python",
   "name": "python",
   "nbconvert_exporter": "python",
   "pygments_lexer": "ipython3",
   "version": "3.11.9"
  }
 },
 "nbformat": 4,
 "nbformat_minor": 2
}
