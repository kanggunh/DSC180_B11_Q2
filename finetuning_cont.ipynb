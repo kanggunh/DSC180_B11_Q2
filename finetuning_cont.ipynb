{
 "cells": [
  {
   "cell_type": "code",
   "execution_count": 3,
   "metadata": {},
   "outputs": [],
   "source": [
    "import xml.etree as ET\n",
    "import os"
   ]
  },
  {
   "cell_type": "code",
   "execution_count": 2,
   "metadata": {},
   "outputs": [],
   "source": [
    "def parse_bioc(file_path):\n",
    "    tree = ET.parse(file_path)\n",
    "    root = tree.getroot()\n",
    "    \n",
    "    data = { }\n",
    "    concept_ids = set()\n",
    "    relations = {}\n",
    "    for relation in root.findall(\".//relation\"):\n",
    "        test_name = relation.find(\"infon[@key='type']\").text\n",
    "        node_ids = [node.get(\"refid\") for node in relation.findall(\"node\")]\n",
    "        for node_id in node_ids:\n",
    "            relations[node_id] = test_name\n",
    "\n",
    "    for annotation in root.findall(\".//annotation\"):\n",
    "        node_id = annotation.get(\"id\")\n",
    "        var_name = annotation.find(\"infon[@key='type']\").text\n",
    "        concept_id = annotation.find(\"infon[@key='identifier']\").text\n",
    "        value = annotation.find(\"text\").text\n",
    "        if node_id in relations:\n",
    "            stability_test = relations[node_id]\n",
    "            if stability_test not in data:\n",
    "                data[stability_test] = {}\n",
    "            if concept_id is None:\n",
    "                concept_id = value\n",
    "            data[stability_test][var_name] = concept_id\n",
    "            concept_ids.add(concept_id)\n",
    "\n",
    "        if concept_id is None:\n",
    "            concept_id = value\n",
    "        if concept_id in concept_ids: # duplicate annotation\n",
    "            continue\n",
    "        concept_ids.add(concept_id)\n",
    "        if var_name not in data:\n",
    "            data[var_name] = concept_id\n",
    "        else:\n",
    "            if isinstance(data[var_name], list):\n",
    "                data[var_name].append(value)\n",
    "            else:\n",
    "                data[var_name] = [data[var_name], value]\n",
    "    \n",
    "    return data"
   ]
  },
  {
   "cell_type": "markdown",
   "metadata": {},
   "source": [
    "### Creating training set"
   ]
  },
  {
   "cell_type": "code",
   "execution_count": 4,
   "metadata": {},
   "outputs": [],
   "source": [
    "def extract_papernum(file_path):\n",
    "    tree = ET.parse(file_path)\n",
    "    root = tree.getroot()\n",
    "    first_text = root.find(\".//text\")\n",
    "    full_text = first_text.text\n",
    "    \n",
    "    ##We want to extract article number from this format\n",
    "    #Method: split by spaces and extract the last element in the list\n",
    "    text_list = full_text.split()\n",
    "    paper_num = text_list[-1]\n",
    "    return paper_num"
   ]
  },
  {
   "cell_type": "code",
   "execution_count": null,
   "metadata": {},
   "outputs": [],
   "source": [
    "bioc_dir = \"/data/biocs\"\n",
    "label_data = {}\n",
    "for filename in os.listdir(bioc_dir):\n",
    "    if filename.endswith(\".xml\"):\n",
    "        file_path = os.path.join(bioc_dir, filename)\n",
    "        paper_num = extract_papernum(file_path)\n",
    "        row = parse_bioc(file_path)\n",
    "        if len(row.keys()) > 0:\n",
    "            label_data[paper_num] = row\n",
    "\n",
    "print(label_data)   \n",
    "print(f\"There are {len(label_data)} annotated papers\")"
   ]
  }
 ],
 "metadata": {
  "kernelspec": {
   "display_name": "Python 3",
   "language": "python",
   "name": "python3"
  },
  "language_info": {
   "codemirror_mode": {
    "name": "ipython",
    "version": 3
   },
   "file_extension": ".py",
   "mimetype": "text/x-python",
   "name": "python",
   "nbconvert_exporter": "python",
   "pygments_lexer": "ipython3",
   "version": "3.10.6"
  }
 },
 "nbformat": 4,
 "nbformat_minor": 2
}
