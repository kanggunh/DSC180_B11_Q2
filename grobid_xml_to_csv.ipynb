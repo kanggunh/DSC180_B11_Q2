{
 "cells": [
  {
   "cell_type": "code",
   "execution_count": 8,
   "metadata": {},
   "outputs": [],
   "source": [
    "import grobid_tei_xml\n",
    "import pandas as pd\n",
    "import os"
   ]
  },
  {
   "cell_type": "code",
   "execution_count": 21,
   "metadata": {},
   "outputs": [],
   "source": [
    "def parse_grobid_xml(file_path):\n",
    "    with open(file_path, \"r\", encoding=\"utf-8\") as xml_file:\n",
    "        doc = grobid_tei_xml.parse_document_xml(xml_file.read())\n",
    "        title = \"Title: \" + doc.header.title if doc.header.title else \"\"\n",
    "        abstract = doc.abstract or \"\"\n",
    "        body = doc.body or \"\"\n",
    "        index = file_path.split(\"/\")[-1].split(\".\")[0]\n",
    "        return f\"Paper #: {index}\\n{title}\\n{abstract}\\n{body}\\n\" #title, abstract, body"
   ]
  },
  {
   "cell_type": "code",
   "execution_count": null,
   "metadata": {},
   "outputs": [],
   "source": [
    "def convert_grobid_xml_to_csv(input_dir, output_file):\n",
    "    crossref_df = pd.read_csv(\"data/crossref_data.csv\")\n",
    "    crossref_df[\"text\"] = None\n",
    "    for index, row in crossref_df.iterrows():\n",
    "        i = 1\n",
    "        added_count = 0\n",
    "        paper_text = \"\"\n",
    "        while added_count < 3 and i <= 6: #prevents more than 3 files from being added, up to 6 accounts for grobid failures to generate xml\n",
    "            file_path = f\"{input_dir}/{index}_{i}.xml\"\n",
    "            if os.path.exists(file_path):\n",
    "                paper_text += parse_grobid_xml(file_path)\n",
    "                added_count += 1\n",
    "            i += 1\n",
    "        crossref_df.at[index, \"text\"] = paper_text\n",
    "    output_df = crossref_df[crossref_df[\"text\"].str.len() > 0]\n",
    "    unique_dois = output_df.groupby('DOI').first()\n",
    "    unique_dois.to_csv(output_file)\n",
    "    return unique_dois"
   ]
  },
  {
   "cell_type": "code",
   "execution_count": null,
   "metadata": {},
   "outputs": [],
   "source": [
    "output_df = convert_grobid_xml_to_csv(\"data/xmls\", \"data/scraped_papers.csv\")"
   ]
  },
  {
   "cell_type": "code",
   "execution_count": null,
   "metadata": {},
   "outputs": [],
   "source": []
  }
 ],
 "metadata": {
  "kernelspec": {
   "display_name": ".venv",
   "language": "python",
   "name": "python3"
  },
  "language_info": {
   "codemirror_mode": {
    "name": "ipython",
    "version": 3
   },
   "file_extension": ".py",
   "mimetype": "text/x-python",
   "name": "python",
   "nbconvert_exporter": "python",
   "pygments_lexer": "ipython3",
   "version": "3.10.6"
  }
 },
 "nbformat": 4,
 "nbformat_minor": 2
}
