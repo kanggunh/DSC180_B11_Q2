{
 "cells": [
  {
   "cell_type": "markdown",
   "id": "e5f480ea",
   "metadata": {},
   "source": [
    "### Table of Content\n",
    "- [`passivating_molecule` into SMILES format](Converting-`passivating_molecule`-into-SMILES-format)\n",
    "- [`perovskite_composition` into features](`perovskite_composition`-into-features)\n",
    "- [baseline ML model](baseline-ML-model)"
   ]
  },
  {
   "cell_type": "code",
   "execution_count": 2,
   "id": "92bd17a0",
   "metadata": {
    "scrolled": true
   },
   "outputs": [],
   "source": [
    "import pandas as pd\n",
    "import numpy as np\n",
    "import pubchempy as pcp"
   ]
  },
  {
   "cell_type": "code",
   "execution_count": 3,
   "id": "902197de",
   "metadata": {
    "scrolled": true
   },
   "outputs": [
    {
     "name": "stdout",
     "output_type": "stream",
     "text": [
      "<class 'pandas.core.frame.DataFrame'>\n",
      "Index: 149 entries, 0 to 149\n",
      "Data columns (total 11 columns):\n",
      " #   Column                    Non-Null Count  Dtype \n",
      "---  ------                    --------------  ----- \n",
      " 0   control_pce               71 non-null     object\n",
      " 1   control_voc               53 non-null     object\n",
      " 2   treated_pce               140 non-null    object\n",
      " 3   treated_voc               124 non-null    object\n",
      " 4   passivating_molecule      143 non-null    object\n",
      " 5   perovskite_composition    134 non-null    object\n",
      " 6   electron_transport_layer  118 non-null    object\n",
      " 7   hole_transport_layer      115 non-null    object\n",
      " 8   pin_nip_structure         147 non-null    object\n",
      " 9   stability_tests           149 non-null    object\n",
      " 10  pin_structure             1 non-null      object\n",
      "dtypes: object(11)\n",
      "memory usage: 14.0+ KB\n"
     ]
    }
   ],
   "source": [
    "df = pd.read_json('data/finetuned_llama_output.json')\n",
    "data = df.T.sort_index()\n",
    "data.info()"
   ]
  },
  {
   "cell_type": "code",
   "execution_count": 4,
   "id": "b7daef81",
   "metadata": {},
   "outputs": [
    {
     "data": {
      "text/html": [
       "<div>\n",
       "<style scoped>\n",
       "    .dataframe tbody tr th:only-of-type {\n",
       "        vertical-align: middle;\n",
       "    }\n",
       "\n",
       "    .dataframe tbody tr th {\n",
       "        vertical-align: top;\n",
       "    }\n",
       "\n",
       "    .dataframe thead th {\n",
       "        text-align: right;\n",
       "    }\n",
       "</style>\n",
       "<table border=\"1\" class=\"dataframe\">\n",
       "  <thead>\n",
       "    <tr style=\"text-align: right;\">\n",
       "      <th></th>\n",
       "      <th>control_pce</th>\n",
       "      <th>control_voc</th>\n",
       "      <th>treated_pce</th>\n",
       "      <th>treated_voc</th>\n",
       "      <th>passivating_molecule</th>\n",
       "      <th>perovskite_composition</th>\n",
       "      <th>electron_transport_layer</th>\n",
       "      <th>hole_transport_layer</th>\n",
       "      <th>pin_nip_structure</th>\n",
       "      <th>stability_tests</th>\n",
       "      <th>pin_structure</th>\n",
       "    </tr>\n",
       "  </thead>\n",
       "  <tbody>\n",
       "    <tr>\n",
       "      <th>0</th>\n",
       "      <td>25.7</td>\n",
       "      <td>1.17</td>\n",
       "      <td>26.15</td>\n",
       "      <td>1.18</td>\n",
       "      <td>4-chlorobenzenesulfonate (4Cl-BZS)</td>\n",
       "      <td>α-phase FAPbI3</td>\n",
       "      <td>C60</td>\n",
       "      <td>SAMs (self-assembled monolayers)</td>\n",
       "      <td>PIN</td>\n",
       "      <td>[{'test_name': 'ISOS-D-2I', 'temperature': 85,...</td>\n",
       "      <td>NaN</td>\n",
       "    </tr>\n",
       "    <tr>\n",
       "      <th>3</th>\n",
       "      <td>24.5</td>\n",
       "      <td>1.20</td>\n",
       "      <td>24.50</td>\n",
       "      <td>1.20</td>\n",
       "      <td>BA2MA2Pb3I10</td>\n",
       "      <td>BA2MA2Pb3I10</td>\n",
       "      <td>SnO2</td>\n",
       "      <td>PTAA</td>\n",
       "      <td>PIN</td>\n",
       "      <td>[{'test_name': 'ISOS-L-1', 'temperature': None...</td>\n",
       "      <td>NaN</td>\n",
       "    </tr>\n",
       "    <tr>\n",
       "      <th>4</th>\n",
       "      <td>NaN</td>\n",
       "      <td>NaN</td>\n",
       "      <td>21.06</td>\n",
       "      <td>1.14</td>\n",
       "      <td>vinylbenzylammonium bromide (VBABr)</td>\n",
       "      <td>(FAPbI3)0.95(MAPbBr3)0.05</td>\n",
       "      <td>Spiro-OMeTAD</td>\n",
       "      <td>Spiro-OMeTAD</td>\n",
       "      <td>PIN</td>\n",
       "      <td>[{'test_name': None, 'temperature': None, 'tim...</td>\n",
       "      <td>NaN</td>\n",
       "    </tr>\n",
       "    <tr>\n",
       "      <th>5</th>\n",
       "      <td>NaN</td>\n",
       "      <td>NaN</td>\n",
       "      <td>22.10</td>\n",
       "      <td>1135.00</td>\n",
       "      <td>iso-BAI</td>\n",
       "      <td>FA(MA)PbI3</td>\n",
       "      <td>Spiro-OMeTAD</td>\n",
       "      <td>TPBI</td>\n",
       "      <td>PIN</td>\n",
       "      <td>[{'test_name': 'ISOS-LT', 'temperature': None,...</td>\n",
       "      <td>NaN</td>\n",
       "    </tr>\n",
       "    <tr>\n",
       "      <th>6</th>\n",
       "      <td>NaN</td>\n",
       "      <td>NaN</td>\n",
       "      <td>15.30</td>\n",
       "      <td>1.06</td>\n",
       "      <td>phenylethylammonium</td>\n",
       "      <td>PEA2(CH3NH3)n-1Pb(nI3n+1)</td>\n",
       "      <td>TiO2</td>\n",
       "      <td>spiro-OMeTAD</td>\n",
       "      <td>PIN</td>\n",
       "      <td>[{'test_name': 'ISOS-D', 'temperature': None, ...</td>\n",
       "      <td>NaN</td>\n",
       "    </tr>\n",
       "  </tbody>\n",
       "</table>\n",
       "</div>"
      ],
      "text/plain": [
       "   control_pce  control_voc  treated_pce  treated_voc  \\\n",
       "0         25.7         1.17        26.15         1.18   \n",
       "3         24.5         1.20        24.50         1.20   \n",
       "4          NaN          NaN        21.06         1.14   \n",
       "5          NaN          NaN        22.10      1135.00   \n",
       "6          NaN          NaN        15.30         1.06   \n",
       "\n",
       "                  passivating_molecule     perovskite_composition  \\\n",
       "0   4-chlorobenzenesulfonate (4Cl-BZS)             α-phase FAPbI3   \n",
       "3                         BA2MA2Pb3I10               BA2MA2Pb3I10   \n",
       "4  vinylbenzylammonium bromide (VBABr)  (FAPbI3)0.95(MAPbBr3)0.05   \n",
       "5                              iso-BAI                 FA(MA)PbI3   \n",
       "6                  phenylethylammonium  PEA2(CH3NH3)n-1Pb(nI3n+1)   \n",
       "\n",
       "  electron_transport_layer              hole_transport_layer  \\\n",
       "0                      C60  SAMs (self-assembled monolayers)   \n",
       "3                     SnO2                              PTAA   \n",
       "4             Spiro-OMeTAD                      Spiro-OMeTAD   \n",
       "5             Spiro-OMeTAD                              TPBI   \n",
       "6                     TiO2                      spiro-OMeTAD   \n",
       "\n",
       "  pin_nip_structure                                    stability_tests  \\\n",
       "0               PIN  [{'test_name': 'ISOS-D-2I', 'temperature': 85,...   \n",
       "3               PIN  [{'test_name': 'ISOS-L-1', 'temperature': None...   \n",
       "4               PIN  [{'test_name': None, 'temperature': None, 'tim...   \n",
       "5               PIN  [{'test_name': 'ISOS-LT', 'temperature': None,...   \n",
       "6               PIN  [{'test_name': 'ISOS-D', 'temperature': None, ...   \n",
       "\n",
       "  pin_structure  \n",
       "0           NaN  \n",
       "3           NaN  \n",
       "4           NaN  \n",
       "5           NaN  \n",
       "6           NaN  "
      ]
     },
     "execution_count": 4,
     "metadata": {},
     "output_type": "execute_result"
    }
   ],
   "source": [
    "# Function to select columns\n",
    "def select_data(df):\n",
    "    # Convert PCE and VOC to numeric\n",
    "    for col in ['control_pce', 'control_voc', 'treated_pce', 'treated_voc']:\n",
    "        df[col] = pd.to_numeric(df[col], errors='coerce')\n",
    "\n",
    "    # Drop rows where treated_pce or passivating_molecule is missing\n",
    "    df = df.dropna(subset=['treated_pce', 'passivating_molecule', 'perovskite_composition'])\n",
    "\n",
    "    return df\n",
    "\n",
    "data = select_data(data)\n",
    "data.head()"
   ]
  },
  {
   "cell_type": "code",
   "execution_count": 5,
   "id": "58ff2111",
   "metadata": {},
   "outputs": [
    {
     "data": {
      "text/plain": [
       "control_pce                  59\n",
       "control_voc                  73\n",
       "treated_pce                   0\n",
       "treated_voc                  10\n",
       "passivating_molecule          0\n",
       "perovskite_composition        0\n",
       "electron_transport_layer     19\n",
       "hole_transport_layer         20\n",
       "pin_nip_structure             0\n",
       "stability_tests               0\n",
       "pin_structure               107\n",
       "dtype: int64"
      ]
     },
     "execution_count": 5,
     "metadata": {},
     "output_type": "execute_result"
    }
   ],
   "source": [
    "data.isna().sum(axis=0)"
   ]
  },
  {
   "cell_type": "markdown",
   "id": "40024404",
   "metadata": {},
   "source": [
    "## `passivating_molecule` into SMILES format"
   ]
  },
  {
   "cell_type": "code",
   "execution_count": 7,
   "id": "cd918272",
   "metadata": {},
   "outputs": [],
   "source": [
    "def fetch_smiles_from_name(molecule_name):\n",
    "    try:\n",
    "        # Search for the molecule in PubChem by name\n",
    "        compounds = pcp.get_compounds(molecule_name, 'name')\n",
    "        if compounds:\n",
    "            return compounds[0].isomeric_smiles  # Return the first match's SMILES\n",
    "        else:\n",
    "            return np.nan\n",
    "    except Exception as e:\n",
    "        print(f\"Error fetching SMILES for {molecule_name}: {e}\")\n",
    "        return None"
   ]
  },
  {
   "cell_type": "code",
   "execution_count": 8,
   "id": "58745d18",
   "metadata": {},
   "outputs": [
    {
     "data": {
      "text/plain": [
       "0                     4-chlorobenzenesulfonate (4Cl-BZS)\n",
       "3                                           BA2MA2Pb3I10\n",
       "4                    vinylbenzylammonium bromide (VBABr)\n",
       "5                                                iso-BAI\n",
       "6                                    phenylethylammonium\n",
       "                             ...                        \n",
       "144                                               GlyHCl\n",
       "145                                4-fluoroaniline (FAL)\n",
       "147    4-(3,6-bis(4-(bis(4-methoxyphenyl)amino)phenyl...\n",
       "148           4-tert-butyl-benzylammonium iodide (tBBAI)\n",
       "149            4-trifluoromethyl-phenylammonium (CF3-PA)\n",
       "Name: passivating_molecule, Length: 107, dtype: object"
      ]
     },
     "execution_count": 8,
     "metadata": {},
     "output_type": "execute_result"
    }
   ],
   "source": [
    "data['passivating_molecule']"
   ]
  },
  {
   "cell_type": "code",
   "execution_count": 9,
   "id": "0f7e0b5d",
   "metadata": {
    "scrolled": true
   },
   "outputs": [
    {
     "data": {
      "text/plain": [
       "84"
      ]
     },
     "execution_count": 9,
     "metadata": {},
     "output_type": "execute_result"
    }
   ],
   "source": [
    "data['passivating_molecule'].apply(fetch_smiles_from_name).isna().sum()"
   ]
  },
  {
   "cell_type": "markdown",
   "id": "797576f1",
   "metadata": {},
   "source": [
    "### Cleaning Data"
   ]
  },
  {
   "cell_type": "code",
   "execution_count": 11,
   "id": "f7984c6a",
   "metadata": {},
   "outputs": [],
   "source": [
    "import re\n",
    "\n",
    "def fix_unmatched_brackets(s):\n",
    "    \"\"\"\n",
    "    Fixes unmatched brackets in the given string by adding the correct brackets where necessary.\n",
    "\n",
    "    :param s: Input string with potential unmatched brackets.\n",
    "    :return: A corrected string with properly balanced brackets.\n",
    "    \"\"\"\n",
    "    opening = \"({[\"\n",
    "    closing = \")}]\"\n",
    "    match = {')': '(', '}': '{', ']': '['}\n",
    "    stack = []\n",
    "\n",
    "    # Step 1: Identify missing closing brackets\n",
    "    fixed_s = []\n",
    "    for char in s:\n",
    "        if char in opening:\n",
    "            stack.append(char)\n",
    "            fixed_s.append(char)\n",
    "        elif char in closing:\n",
    "            if stack and stack[-1] == match[char]:\n",
    "                stack.pop()\n",
    "                fixed_s.append(char)\n",
    "            else:\n",
    "                # Add missing opening bracket before unmatched closing\n",
    "                fixed_s.insert(0, match[char])\n",
    "                fixed_s.append(char)\n",
    "        else:\n",
    "            fixed_s.append(char)\n",
    "\n",
    "    # Step 2: Add missing closing brackets at the end\n",
    "    while stack:\n",
    "        open_bracket = stack.pop()\n",
    "        fixed_s.append(closing[opening.index(open_bracket)])\n",
    "\n",
    "    return \"\".join(fixed_s)\n",
    "\n",
    "\n",
    "def get_chemical_names(chemical_list):\n",
    "    cleaned_list = []\n",
    "    for name in chemical_list:\n",
    "        # Remove text inside parentheses at the end if it's extra information (abbreviations)\n",
    "        name = re.sub(r\"\\s*\\([^)]*\\)$\", \"\", name).strip()\n",
    "\n",
    "        cleaned_list.append(name)\n",
    "\n",
    "    return cleaned_list"
   ]
  },
  {
   "cell_type": "code",
   "execution_count": 12,
   "id": "7fa4e234",
   "metadata": {},
   "outputs": [],
   "source": [
    "# Example input list\n",
    "lst = data['passivating_molecule']\n",
    "\n",
    "# Cleaning the list\n",
    "cleaned_list = lst.apply(lambda x: fix_unmatched_brackets(x))\n",
    "cleaned_list = get_chemical_names(cleaned_list)\n",
    "\n",
    "# Output result\n",
    "data['passivating_molecule_cleaned'] = cleaned_list"
   ]
  },
  {
   "cell_type": "code",
   "execution_count": null,
   "id": "71b0ef0c",
   "metadata": {},
   "outputs": [],
   "source": [
    "data['passivating_molecule_SMILES'] = data['passivating_molecule_cleaned'].apply(fetch_smiles_from_name)"
   ]
  },
  {
   "cell_type": "markdown",
   "id": "ae9fe69a",
   "metadata": {},
   "source": [
    "## `perovskite_composition` into features"
   ]
  },
  {
   "cell_type": "code",
   "execution_count": null,
   "id": "dde15943",
   "metadata": {},
   "outputs": [],
   "source": [
    "data['perovskite_composition']#.apply(lambda x: x.split(' ')))"
   ]
  },
  {
   "cell_type": "code",
   "execution_count": null,
   "id": "3cf0ab5d-85a0-4eeb-9031-7a86f0063b48",
   "metadata": {
    "scrolled": true
   },
   "outputs": [],
   "source": [
    "import chemparse"
   ]
  },
  {
   "cell_type": "code",
   "execution_count": null,
   "id": "d7b43f95",
   "metadata": {
    "scrolled": true
   },
   "outputs": [],
   "source": [
    "# Example formula\n",
    "formula = \"(FAPbI3)0.95(MAPbBr3)0.05\"\n",
    "\n",
    "# Parse formula\n",
    "result = chemparse.parse_formula(formula)\n",
    "print(result)  # Output: {'FA': 0.95, 'Pb': 1.0, 'I': 2.85, 'MA': 0.05, 'Br': 0.15}"
   ]
  },
  {
   "cell_type": "code",
   "execution_count": null,
   "id": "a0cd6b99",
   "metadata": {},
   "outputs": [],
   "source": [
    "from sympy import sympify\n",
    "\n",
    "# Example formula with weights\n",
    "formula = \"0.95 * (FA + Pb + 3*I) + 0.05 * (MA + Pb + 3*Br)\"\n",
    "\n",
    "# Evaluate\n",
    "expanded_formula = sympify(formula)\n",
    "print(expanded_formula)"
   ]
  },
  {
   "cell_type": "markdown",
   "id": "45703b2f",
   "metadata": {},
   "source": [
    "## baseline ML model"
   ]
  },
  {
   "cell_type": "code",
   "execution_count": null,
   "id": "e22cb9bc",
   "metadata": {},
   "outputs": [],
   "source": []
  }
 ],
 "metadata": {
  "kernelspec": {
   "display_name": "Python [conda env:base] *",
   "language": "python",
   "name": "conda-base-py"
  },
  "language_info": {
   "codemirror_mode": {
    "name": "ipython",
    "version": 3
   },
   "file_extension": ".py",
   "mimetype": "text/x-python",
   "name": "python",
   "nbconvert_exporter": "python",
   "pygments_lexer": "ipython3",
   "version": "3.12.7"
  }
 },
 "nbformat": 4,
 "nbformat_minor": 5
}
