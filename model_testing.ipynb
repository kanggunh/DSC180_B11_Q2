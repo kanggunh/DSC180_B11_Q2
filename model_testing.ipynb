{
 "cells": [
  {
   "cell_type": "markdown",
   "id": "7789a033",
   "metadata": {},
   "source": [
    "### Table of Content\n",
    "- [`passivating_molecule` into SMILES format](Converting-`passivating_molecule`-into-SMILES-format)\n",
    "- [`perovskite_composition` into features](`perovskite_composition`-into-features)\n",
    "- [baseline ML model](baseline-ML-model)"
   ]
  },
  {
   "cell_type": "code",
   "execution_count": 1,
   "id": "92bd17a0",
   "metadata": {},
   "outputs": [],
   "source": [
    "import seaborn as sns\n",
    "import pandas as pd"
   ]
  },
  {
   "cell_type": "code",
   "execution_count": 2,
   "id": "902197de",
   "metadata": {
    "scrolled": true
   },
   "outputs": [
    {
     "name": "stdout",
     "output_type": "stream",
     "text": [
      "<class 'pandas.core.frame.DataFrame'>\n",
      "Int64Index: 149 entries, 0 to 149\n",
      "Data columns (total 11 columns):\n",
      " #   Column                    Non-Null Count  Dtype \n",
      "---  ------                    --------------  ----- \n",
      " 0   control_pce               71 non-null     object\n",
      " 1   control_voc               53 non-null     object\n",
      " 2   treated_pce               140 non-null    object\n",
      " 3   treated_voc               124 non-null    object\n",
      " 4   passivating_molecule      143 non-null    object\n",
      " 5   perovskite_composition    134 non-null    object\n",
      " 6   electron_transport_layer  118 non-null    object\n",
      " 7   hole_transport_layer      115 non-null    object\n",
      " 8   pin_nip_structure         147 non-null    object\n",
      " 9   stability_tests           149 non-null    object\n",
      " 10  pin_structure             1 non-null      object\n",
      "dtypes: object(11)\n",
      "memory usage: 14.0+ KB\n"
     ]
    }
   ],
   "source": [
    "df = pd.read_json('data/finetuned_llama_output.json')\n",
    "data = df.T.sort_index()\n",
    "data.info()"
   ]
  },
  {
   "cell_type": "code",
   "execution_count": 3,
   "id": "b7daef81",
   "metadata": {
    "scrolled": false
   },
   "outputs": [
    {
     "data": {
      "text/html": [
       "<div>\n",
       "<style scoped>\n",
       "    .dataframe tbody tr th:only-of-type {\n",
       "        vertical-align: middle;\n",
       "    }\n",
       "\n",
       "    .dataframe tbody tr th {\n",
       "        vertical-align: top;\n",
       "    }\n",
       "\n",
       "    .dataframe thead th {\n",
       "        text-align: right;\n",
       "    }\n",
       "</style>\n",
       "<table border=\"1\" class=\"dataframe\">\n",
       "  <thead>\n",
       "    <tr style=\"text-align: right;\">\n",
       "      <th></th>\n",
       "      <th>control_pce</th>\n",
       "      <th>control_voc</th>\n",
       "      <th>treated_pce</th>\n",
       "      <th>treated_voc</th>\n",
       "      <th>passivating_molecule</th>\n",
       "      <th>perovskite_composition</th>\n",
       "      <th>electron_transport_layer</th>\n",
       "      <th>hole_transport_layer</th>\n",
       "      <th>pin_nip_structure</th>\n",
       "      <th>stability_tests</th>\n",
       "      <th>pin_structure</th>\n",
       "    </tr>\n",
       "  </thead>\n",
       "  <tbody>\n",
       "    <tr>\n",
       "      <th>0</th>\n",
       "      <td>25.7</td>\n",
       "      <td>1.17</td>\n",
       "      <td>26.15</td>\n",
       "      <td>1.18</td>\n",
       "      <td>4-chlorobenzenesulfonate (4Cl-BZS)</td>\n",
       "      <td>α-phase FAPbI3</td>\n",
       "      <td>C60</td>\n",
       "      <td>SAMs (self-assembled monolayers)</td>\n",
       "      <td>PIN</td>\n",
       "      <td>[{'test_name': 'ISOS-D-2I', 'temperature': 85,...</td>\n",
       "      <td>NaN</td>\n",
       "    </tr>\n",
       "    <tr>\n",
       "      <th>3</th>\n",
       "      <td>24.5</td>\n",
       "      <td>1.20</td>\n",
       "      <td>24.50</td>\n",
       "      <td>1.20</td>\n",
       "      <td>BA2MA2Pb3I10</td>\n",
       "      <td>BA2MA2Pb3I10</td>\n",
       "      <td>SnO2</td>\n",
       "      <td>PTAA</td>\n",
       "      <td>PIN</td>\n",
       "      <td>[{'test_name': 'ISOS-L-1', 'temperature': None...</td>\n",
       "      <td>NaN</td>\n",
       "    </tr>\n",
       "    <tr>\n",
       "      <th>4</th>\n",
       "      <td>NaN</td>\n",
       "      <td>NaN</td>\n",
       "      <td>21.06</td>\n",
       "      <td>1.14</td>\n",
       "      <td>vinylbenzylammonium bromide (VBABr)</td>\n",
       "      <td>(FAPbI3)0.95(MAPbBr3)0.05</td>\n",
       "      <td>Spiro-OMeTAD</td>\n",
       "      <td>Spiro-OMeTAD</td>\n",
       "      <td>PIN</td>\n",
       "      <td>[{'test_name': None, 'temperature': None, 'tim...</td>\n",
       "      <td>NaN</td>\n",
       "    </tr>\n",
       "    <tr>\n",
       "      <th>5</th>\n",
       "      <td>NaN</td>\n",
       "      <td>NaN</td>\n",
       "      <td>22.10</td>\n",
       "      <td>1135.00</td>\n",
       "      <td>iso-BAI</td>\n",
       "      <td>FA(MA)PbI3</td>\n",
       "      <td>Spiro-OMeTAD</td>\n",
       "      <td>TPBI</td>\n",
       "      <td>PIN</td>\n",
       "      <td>[{'test_name': 'ISOS-LT', 'temperature': None,...</td>\n",
       "      <td>NaN</td>\n",
       "    </tr>\n",
       "    <tr>\n",
       "      <th>6</th>\n",
       "      <td>NaN</td>\n",
       "      <td>NaN</td>\n",
       "      <td>15.30</td>\n",
       "      <td>1.06</td>\n",
       "      <td>phenylethylammonium</td>\n",
       "      <td>PEA2(CH3NH3)n-1Pb(nI3n+1)</td>\n",
       "      <td>TiO2</td>\n",
       "      <td>spiro-OMeTAD</td>\n",
       "      <td>PIN</td>\n",
       "      <td>[{'test_name': 'ISOS-D', 'temperature': None, ...</td>\n",
       "      <td>NaN</td>\n",
       "    </tr>\n",
       "  </tbody>\n",
       "</table>\n",
       "</div>"
      ],
      "text/plain": [
       "   control_pce  control_voc  treated_pce  treated_voc  \\\n",
       "0         25.7         1.17        26.15         1.18   \n",
       "3         24.5         1.20        24.50         1.20   \n",
       "4          NaN          NaN        21.06         1.14   \n",
       "5          NaN          NaN        22.10      1135.00   \n",
       "6          NaN          NaN        15.30         1.06   \n",
       "\n",
       "                  passivating_molecule     perovskite_composition  \\\n",
       "0   4-chlorobenzenesulfonate (4Cl-BZS)             α-phase FAPbI3   \n",
       "3                         BA2MA2Pb3I10               BA2MA2Pb3I10   \n",
       "4  vinylbenzylammonium bromide (VBABr)  (FAPbI3)0.95(MAPbBr3)0.05   \n",
       "5                              iso-BAI                 FA(MA)PbI3   \n",
       "6                  phenylethylammonium  PEA2(CH3NH3)n-1Pb(nI3n+1)   \n",
       "\n",
       "  electron_transport_layer              hole_transport_layer  \\\n",
       "0                      C60  SAMs (self-assembled monolayers)   \n",
       "3                     SnO2                              PTAA   \n",
       "4             Spiro-OMeTAD                      Spiro-OMeTAD   \n",
       "5             Spiro-OMeTAD                              TPBI   \n",
       "6                     TiO2                      spiro-OMeTAD   \n",
       "\n",
       "  pin_nip_structure                                    stability_tests  \\\n",
       "0               PIN  [{'test_name': 'ISOS-D-2I', 'temperature': 85,...   \n",
       "3               PIN  [{'test_name': 'ISOS-L-1', 'temperature': None...   \n",
       "4               PIN  [{'test_name': None, 'temperature': None, 'tim...   \n",
       "5               PIN  [{'test_name': 'ISOS-LT', 'temperature': None,...   \n",
       "6               PIN  [{'test_name': 'ISOS-D', 'temperature': None, ...   \n",
       "\n",
       "  pin_structure  \n",
       "0           NaN  \n",
       "3           NaN  \n",
       "4           NaN  \n",
       "5           NaN  \n",
       "6           NaN  "
      ]
     },
     "execution_count": 3,
     "metadata": {},
     "output_type": "execute_result"
    }
   ],
   "source": [
    "import pandas as pd\n",
    "import numpy as np\n",
    "from rdkit import Chem\n",
    "from rdkit.Chem import AllChem\n",
    "\n",
    "# Function to clean and standardize data\n",
    "def clean_data(df):\n",
    "    # Convert PCE and VOC to numeric\n",
    "    for col in ['control_pce', 'control_voc', 'treated_pce', 'treated_voc']:\n",
    "        df[col] = pd.to_numeric(df[col], errors='coerce')\n",
    "\n",
    "    # Drop rows where treated_pce or passivating_molecule is missing\n",
    "    df = df.dropna(subset=['treated_pce', 'passivating_molecule', 'perovskite_composition'])\n",
    "\n",
    "    return df\n",
    "\n",
    "data = clean_data(data)\n",
    "data.to_csv(\"cleaned_data.csv\", index=False) \n",
    "data.head()"
   ]
  },
  {
   "cell_type": "code",
   "execution_count": 4,
   "id": "58ff2111",
   "metadata": {
    "scrolled": false
   },
   "outputs": [
    {
     "data": {
      "text/plain": [
       "control_pce                  59\n",
       "control_voc                  73\n",
       "treated_pce                   0\n",
       "treated_voc                  10\n",
       "passivating_molecule          0\n",
       "perovskite_composition        0\n",
       "electron_transport_layer     19\n",
       "hole_transport_layer         20\n",
       "pin_nip_structure             0\n",
       "stability_tests               0\n",
       "pin_structure               107\n",
       "dtype: int64"
      ]
     },
     "execution_count": 4,
     "metadata": {},
     "output_type": "execute_result"
    }
   ],
   "source": [
    "data.isna().sum(axis=0)"
   ]
  },
  {
   "cell_type": "markdown",
   "id": "4827d30c",
   "metadata": {},
   "source": [
    "## `passivating_molecule` into SMILES format"
   ]
  },
  {
   "cell_type": "markdown",
   "id": "cc7e0d31",
   "metadata": {},
   "source": [
    "### Cleaning Data"
   ]
  },
  {
   "cell_type": "code",
   "execution_count": 28,
   "id": "c5ec65aa",
   "metadata": {},
   "outputs": [
    {
     "name": "stdout",
     "output_type": "stream",
     "text": [
      "Original: (Hello [World]\n",
      "Fixed: (Hello [World])\n",
      "\n",
      "Original: [(])\n",
      "Fixed: [[(])]\n",
      "\n",
      "Original: {[()]}\n",
      "Fixed: {[()]}\n",
      "\n",
      "Original: {[Hello(]\n",
      "Fixed: [{[Hello(])]}\n",
      "\n",
      "Original: ((Test))]\n",
      "Fixed: [((Test))]\n",
      "\n"
     ]
    }
   ],
   "source": [
    "def fix_unmatched_brackets(s):\n",
    "    \"\"\"\n",
    "    Fixes unmatched brackets in the given string by adding the correct brackets where necessary.\n",
    "\n",
    "    :param s: Input string with potential unmatched brackets.\n",
    "    :return: A corrected string with properly balanced brackets.\n",
    "    \"\"\"\n",
    "    opening = \"({[\"\n",
    "    closing = \")}]\"\n",
    "    match = {')': '(', '}': '{', ']': '['}\n",
    "    stack = []\n",
    "\n",
    "    # Step 1: Identify missing closing brackets\n",
    "    fixed_s = []\n",
    "    for char in s:\n",
    "        if char in opening:\n",
    "            stack.append(char)\n",
    "            fixed_s.append(char)\n",
    "        elif char in closing:\n",
    "            if stack and stack[-1] == match[char]:\n",
    "                stack.pop()\n",
    "                fixed_s.append(char)\n",
    "            else:\n",
    "                # Add missing opening bracket before unmatched closing\n",
    "                fixed_s.insert(0, match[char])\n",
    "                fixed_s.append(char)\n",
    "        else:\n",
    "            fixed_s.append(char)\n",
    "\n",
    "    # Step 2: Add missing closing brackets at the end\n",
    "    while stack:\n",
    "        open_bracket = stack.pop()\n",
    "        fixed_s.append(closing[opening.index(open_bracket)])\n",
    "\n",
    "    return \"\".join(fixed_s)"
   ]
  },
  {
   "cell_type": "markdown",
   "id": "02c6f524",
   "metadata": {},
   "source": []
  },
  {
   "cell_type": "code",
   "execution_count": null,
   "id": "db3df89c",
   "metadata": {},
   "outputs": [],
   "source": [
    "def fix_unmatched_brackets(s):\n",
    "    \"\"\"\n",
    "    Fixes unmatched brackets in the given string by adding the correct brackets where necessary.\n",
    "\n",
    "    :param s: Input string with potential unmatched brackets.\n",
    "    :return: A corrected string with properly balanced brackets.\n",
    "    \"\"\"\n",
    "    opening = \"({[\"\n",
    "    closing = \")}]\"\n",
    "    match = {')': '(', '}': '{', ']': '['}\n",
    "    stack = []\n",
    "\n",
    "    # Step 1: Identify missing closing brackets\n",
    "    fixed_s = []\n",
    "    for char in s:\n",
    "        if char in opening:\n",
    "            stack.append(char)\n",
    "            fixed_s.append(char)\n",
    "        elif char in closing:\n",
    "            if stack and stack[-1] == match[char]:\n",
    "                stack.pop()\n",
    "                fixed_s.append(char)\n",
    "            else:\n",
    "                # Add missing opening bracket before unmatched closing\n",
    "                fixed_s.insert(0, match[char])\n",
    "                fixed_s.append(char)\n",
    "        else:\n",
    "            fixed_s.append(char)\n",
    "\n",
    "    # Step 2: Add missing closing brackets at the end\n",
    "    while stack:\n",
    "        open_bracket = stack.pop()\n",
    "        fixed_s.append(closing[opening.index(open_bracket)])\n",
    "\n",
    "    return \"\".join(fixed_s)\n",
    "\n",
    "# Example usage:\n",
    "test_strings = [\n",
    "    \"(Hello [World]\",   # Missing closing ')'\n",
    "    \"[(])\",             # Incorrect nesting\n",
    "    \"{[()]}\",          # Already correct\n",
    "    \"{[Hello(]\",       # Missing closing '}'\n",
    "    \"((Test))]\",       # Extra closing bracket\n",
    "]\n",
    "\n",
    "for test in test_strings:\n",
    "    print(f\"Original: {test}\\nFixed: {fix_unmatched_brackets(test)}\\n\")\n"
   ]
  },
  {
   "cell_type": "code",
   "execution_count": 26,
   "id": "88f54ca5",
   "metadata": {
    "scrolled": true
   },
   "outputs": [
    {
     "data": {
      "text/plain": [
       "['4-chlorobenzenesulfonate',\n",
       " 'BA2MA2Pb3I10',\n",
       " 'vinylbenzylammonium bromide',\n",
       " 'iso-BAI',\n",
       " 'phenylethylammonium',\n",
       " '2-(pyren-1-yl)ethan-1-amine',\n",
       " 'Tosylate',\n",
       " 'Benzotriazole',\n",
       " 'n-butylammonium bromide',\n",
       " '2-(9H-carbazol-9-yl)ethyl] phosphonic acid',\n",
       " '2-phenylethylammonium iodide (PEAI), 4-chlorophenylethylammonium iodide (Cl-PEAI), and 4-fluorophenylethylammonium iodide']"
      ]
     },
     "execution_count": 26,
     "metadata": {},
     "output_type": "execute_result"
    }
   ],
   "source": [
    "import re\n",
    "\n",
    "def clean_chemical_names(chemical_list):\n",
    "    cleaned_list = []\n",
    "    for name in chemical_list:\n",
    "        # Remove text inside parentheses *only* if it's extra information (e.g., abbreviations)\n",
    "        name = re.sub(r\"\\s*\\([^)]*\\)$\", \"\", name).strip()\n",
    "\n",
    "        # If there is an unmatched closing bracket at the end, add an opening bracket at the beginning\n",
    "        if name.endswith(\"]\") and \"[\" not in name:\n",
    "            name = \"[\" + name\n",
    "\n",
    "        cleaned_list.append(name)\n",
    "\n",
    "    return cleaned_list\n",
    "\n",
    "def clean_chemical_names(chemical_list):\n",
    "    cleaned_list = []\n",
    "    for name in chemical_list:\n",
    "        # Remove text inside parentheses at the end if it's extra information (abbreviations)\n",
    "        name = re.sub(r\"\\s*\\([^)]*\\)$\", \"\", name).strip()\n",
    "\n",
    "        # If there is an unmatched closing bracket at the end, add an opening bracket at the beginning\n",
    "        if name.endswith(\"]\") and \"[\" not in name:\n",
    "            name = \"[\" + name\n",
    "\n",
    "        cleaned_list.append(name)\n",
    "\n",
    "    return cleaned_list\n",
    "\n",
    "# Example input list\n",
    "chemical_list = [\n",
    "    \"4-chlorobenzenesulfonate (4Cl-BZS)\",\n",
    "    \"BA2MA2Pb3I10\",\n",
    "    \"vinylbenzylammonium bromide (VBABr)\",\n",
    "    \"iso-BAI\",\n",
    "    \"phenylethylammonium\",\n",
    "    \"2-(pyren-1-yl)ethan-1-amine\",\n",
    "    \"Tosylate ([TsO] -)\",\n",
    "    \"Benzotriazole\",\n",
    "    \"n-butylammonium bromide (BABr)\",\n",
    "    \"2-(9H-carbazol-9-yl)ethyl] phosphonic acid (2PACz)\",\n",
    "    \"2-phenylethylammonium iodide (PEAI), 4-chlorophenylethylammonium iodide (Cl-PEAI), and 4-fluorophenylethylammonium iodide (F-PEAI)\"\n",
    "]\n",
    "\n",
    "# Cleaning the list\n",
    "cleaned_list = clean_chemical_names(chemical_list)\n",
    "\n",
    "# Output result\n",
    "cleaned_list"
   ]
  },
  {
   "cell_type": "code",
   "execution_count": null,
   "id": "9e9578fc",
   "metadata": {},
   "outputs": [],
   "source": []
  },
  {
   "cell_type": "code",
   "execution_count": 5,
   "id": "ddb42aea",
   "metadata": {
    "scrolled": false
   },
   "outputs": [
    {
     "data": {
      "text/plain": [
       "['4-chlorobenzenesulfonate (4Cl-BZS)',\n",
       " 'BA2MA2Pb3I10',\n",
       " 'vinylbenzylammonium bromide (VBABr)',\n",
       " 'iso-BAI',\n",
       " 'phenylethylammonium',\n",
       " '2-(pyren-1-yl)ethan-1-amine',\n",
       " 'Tosylate ([TsO] -)',\n",
       " 'Benzotriazole',\n",
       " 'n-butylammonium bromide (BABr)',\n",
       " '2-(9H-carbazol-9-yl)ethyl] phosphonic acid (2PACz)',\n",
       " '2-phenylethylammonium iodide (PEAI), 4-chlorophenylethylammonium iodide (Cl-PEAI), and 4-fluorophenylethylammonium iodide (F-PEAI)',\n",
       " 'phenylethylammonium (PEAI) and 4-fluoro-phenylethylammonium iodide (F-PEAI)',\n",
       " 'CF3 PEAI',\n",
       " 'hexyltrimethylammonium bromide',\n",
       " '2-thiophenemethylammonium iodide (TMAI) and phenylethylammonium iodide (PEAI)',\n",
       " '3,4,5-trifluoroanilinium (345FAn)',\n",
       " 'n-octylammonium bromide (C8 Br)',\n",
       " 'Cyclohexylmethylammonium iodide (CMAI)',\n",
       " '3-fluoro-phenethylammonium (3F-PEA)',\n",
       " 'Cs2PbI2Cl2',\n",
       " 'CF3-PEA',\n",
       " 'ammonia',\n",
       " '3-(aminomethyl)pyridine (3-APy)',\n",
       " 'CH3NH3+',\n",
       " 'Benzene',\n",
       " 'C60',\n",
       " '1,3-propylene diammonium (PDA)',\n",
       " '2-thiophenemethylammonium bromide (2-TMABr)',\n",
       " 'Oleylammonium iodide (OLAI)',\n",
       " 'ortho-(phenylene)di(ethylammonium) iodide (o-PDEAI 2 )',\n",
       " \"2,2',7,7'-tetrakis(N,N-di-p-methoxyphenyl-amine)-9,9'-spirobifluorene (spiro-OMeTAD)\",\n",
       " 'PFN-P2 and LiF',\n",
       " 'n-butylamine acetate (BAAc)',\n",
       " 'allylammonium',\n",
       " 'R-NH3I',\n",
       " 'N,N-dimethyl-1,3-propane diammonium (DMePDAI2)',\n",
       " 'Methylammonium (CH3NH3+)',\n",
       " 'LiTFSI',\n",
       " 'Butylamine',\n",
       " 'BAI',\n",
       " 'CH3NH3I',\n",
       " 'phenethylammonium lead iodide (PEA 2 PbI 4 )',\n",
       " 'PEA (C6H5(CH2)2NH3+)',\n",
       " 'Cs 0.15 FA 0.85 PbI 2.55 Br 0.45',\n",
       " 'formamidinium formate (FAHCOO)',\n",
       " 'SnOx',\n",
       " 'Spiro-MeOTAD',\n",
       " 'organic n-butylammonium (BA) spacer cations',\n",
       " 'allylammonium (ALA)',\n",
       " '2CF3-PEAI',\n",
       " '4F-PEAI',\n",
       " '[(FAPbI3)0.87(MAPbBr3)0.13]0.92(CsPbI3)0.08',\n",
       " 'phenylethylammonium',\n",
       " 'PEAMA +',\n",
       " 'dimethylsulfoxide (DMSO)',\n",
       " 'PbI2',\n",
       " 'Poly(methyl methacrylate) (PMMA)',\n",
       " 'Chlorine',\n",
       " 'Choline chloride',\n",
       " 'MAPbI3',\n",
       " 'DM',\n",
       " 'n-hexyl trimethyl ammonium bromide',\n",
       " 'Eu 3+ -Eu 2+ ion pair',\n",
       " 'NaF',\n",
       " 'Formamidine acetate',\n",
       " 'Methylammonium chloride (MACl)',\n",
       " 'BaSnO3',\n",
       " 'spiro-OMeTAD',\n",
       " 'P4VP',\n",
       " 'Octylammonium iodide (OAI)',\n",
       " '3,3′-(2,7-dibromo-9H-fluorene-9,9-diyl) bis(n,n-dimethylpropan-1-amine) (FN-Br)',\n",
       " 'Chlorine-rich mixed-halide perovskite (ClMPI)',\n",
       " 'Spiro-MeOTAD',\n",
       " 'MDACl2',\n",
       " 'MAPbBr3',\n",
       " 'Nitrogen-doped titanium oxide (TiO x N y)',\n",
       " 'ZrL3',\n",
       " 'sulfonyl-functionalized phenethylammonium salt (SF-PEA)',\n",
       " 'Polyacrylic acid (PAA)',\n",
       " 'Formamidinium formate',\n",
       " 'isopropylammonium chloride',\n",
       " 'Benzylhydrazine hydrochloride (BHC)',\n",
       " 'Cl-bSO',\n",
       " 'Spiro-mF',\n",
       " 'spiro-OMeTAD 2•+ (TFSI -)2',\n",
       " 'Propylammonium chloride (PACl)',\n",
       " 'RbCl',\n",
       " 'PbPyA2',\n",
       " 'b-poly(1,1-difluoroethylene)',\n",
       " 'selenophene',\n",
       " 'PEA2ZnX4',\n",
       " '2-aminoindan hydrochloride',\n",
       " 'Pentanamidine hydrochloride (PAD)',\n",
       " '1-dodecanethiol (DDT)',\n",
       " 'Guanabenz acetate salt',\n",
       " '[(2-(4-(bis(4-methoxyphenyl)amino)phenyl)-1-cyanovinyl)phosphonic acid, or MPA-CPA]',\n",
       " '3-(methylthio)propylamine hydroiodide (3MTPAI) and diammonium molecules',\n",
       " '2-(9H-carbazol-9-yl)ethyl)phosphonic acid (2PACz) and 3-mercaptopropionic acid (3-MPA)',\n",
       " '1-(phenylsulfonyl)pyrrole (PSP)',\n",
       " 'hexafluorobenzene (HFB)',\n",
       " 'BA (4-ethyl-3-methoxy-4-methylpyridine)',\n",
       " 'CuSCN',\n",
       " 'GlyHCl',\n",
       " '4-fluoroaniline (FAL)',\n",
       " '4-(3,6-bis(4-(bis(4-methoxyphenyl)amino)phenyl)-9H-carbazol-9-yl)benzenaminium iodide (CBz-PAI)',\n",
       " '4-tert-butyl-benzylammonium iodide (tBBAI)',\n",
       " '4-trifluoromethyl-phenylammonium (CF3-PA)']"
      ]
     },
     "execution_count": 5,
     "metadata": {},
     "output_type": "execute_result"
    }
   ],
   "source": [
    "list(data['passivating_molecule'])"
   ]
  },
  {
   "cell_type": "code",
   "execution_count": 23,
   "id": "61b3dbfc",
   "metadata": {
    "scrolled": true
   },
   "outputs": [
    {
     "name": "stdout",
     "output_type": "stream",
     "text": [
      "Molecule: (2-(9H-Carbazol-9-yl)ethyl)phosphonic acid, SMILES: C1=CC=C2C(=C1)C3=CC=CC=C3N2CCP(=O)(O)O\n",
      "Molecule: 4-chlorobenzenesulfonate (4Cl-BZS), SMILES: None\n",
      "Molecule: BA2MA2Pb3I10, SMILES: None\n",
      "Molecule: vinylbenzylammonium bromide (VBABr), SMILES: None\n",
      "Molecule: iso-BAI, SMILES: None\n",
      "Molecule: phenylethylammonium, SMILES: None\n",
      "Molecule: 2-(pyren-1-yl)ethan-1-amine, SMILES: C1=CC2=C3C(=C1)C=CC4=C(C=CC(=C43)C=C2)CCN\n",
      "Molecule: Tosylate ([TsO] -), SMILES: None\n",
      "Molecule: Benzotriazole, SMILES: C1=CC2=NNN=C2C=C1\n",
      "Molecule: n-butylammonium bromide (BABr), SMILES: None\n",
      "Molecule: 2-(9H-carbazol-9-yl)ethyl] phosphonic acid (2PACz), SMILES: None\n",
      "Molecule: 2-phenylethylammonium iodide (PEAI), 4-chlorophenylethylammonium iodide (Cl-PEAI), and 4-fluorophenylethylammonium iodide (F-PEAI), SMILES: None\n"
     ]
    }
   ],
   "source": [
    "import pubchempy as pcp\n",
    "\n",
    "# Function to fetch SMILES from PubChem\n",
    "\n",
    "count = 0\n",
    "\n",
    "def fetch_smiles_from_name(molecule_name):\n",
    "    try:\n",
    "        # Search for the molecule in PubChem by name\n",
    "        compounds = pcp.get_compounds(molecule_name, 'name')\n",
    "        if compounds:\n",
    "            return compounds[0].isomeric_smiles  # Return the first match's SMILES\n",
    "        else:\n",
    "            return None\n",
    "    except Exception as e:\n",
    "        print(f\"Error fetching SMILES for {molecule_name}: {e}\")\n",
    "        return None\n",
    "\n",
    "chemical_list = [\n",
    "    \"(2-(9H-Carbazol-9-yl)ethyl)phosphonic acid\", \n",
    "    \"4-chlorobenzenesulfonate (4Cl-BZS)\",\n",
    "    \"BA2MA2Pb3I10\",\n",
    "    \"vinylbenzylammonium bromide (VBABr)\",\n",
    "    \"iso-BAI\",\n",
    "    \"phenylethylammonium\",\n",
    "    \"2-(pyren-1-yl)ethan-1-amine\",\n",
    "    \"Tosylate ([TsO] -)\",\n",
    "    \"Benzotriazole\",\n",
    "    \"n-butylammonium bromide (BABr)\",\n",
    "    \"2-(9H-carbazol-9-yl)ethyl] phosphonic acid (2PACz)\",\n",
    "    \"2-phenylethylammonium iodide (PEAI), 4-chlorophenylethylammonium iodide (Cl-PEAI), and 4-fluorophenylethylammonium iodide (F-PEAI)\"\n",
    "]\n",
    "molecules = chemical_list\n",
    "\n",
    "\n",
    "# Convert each molecule name to SMILES\n",
    "for molecule in molecules:\n",
    "    smiles = fetch_smiles_from_name(molecule)\n",
    "    print(f\"Molecule: {molecule}, SMILES: {smiles}\")"
   ]
  },
  {
   "cell_type": "code",
   "execution_count": 24,
   "id": "7c3bae4b",
   "metadata": {
    "scrolled": true
   },
   "outputs": [
    {
     "name": "stdout",
     "output_type": "stream",
     "text": [
      "Molecule: 4-chlorobenzenesulfonate, SMILES: C1=CC(=CC=C1S(=O)(=O)[O-])Cl\n",
      "Molecule: BA2MA2Pb3I10, SMILES: None\n",
      "Molecule: vinylbenzylammonium bromide, SMILES: None\n",
      "Molecule: iso-BAI, SMILES: None\n",
      "Molecule: phenylethylammonium, SMILES: None\n",
      "Molecule: 2-(pyren-1-yl)ethan-1-amine, SMILES: C1=CC2=C3C(=C1)C=CC4=C(C=CC(=C43)C=C2)CCN\n",
      "Molecule: Tosylate, SMILES: CC1=CC=C(C=C1)S(=O)(=O)[O-]\n",
      "Molecule: Benzotriazole, SMILES: C1=CC2=NNN=C2C=C1\n",
      "Molecule: n-butylammonium bromide, SMILES: CCCCN.Br\n",
      "Molecule: 2-(9H-carbazol-9-yl)ethyl] phosphonic acid, SMILES: None\n",
      "Molecule: 2-phenylethylammonium iodide (PEAI), 4-chlorophenylethylammonium iodide (Cl-PEAI), and 4-fluorophenylethylammonium iodide, SMILES: None\n"
     ]
    }
   ],
   "source": [
    "molecules = cleaned_list\n",
    "\n",
    "# Convert each molecule name to SMILES\n",
    "for molecule in molecules:\n",
    "    smiles = fetch_smiles_from_name(molecule)\n",
    "    print(f\"Molecule: {molecule}, SMILES: {smiles}\")"
   ]
  },
  {
   "cell_type": "code",
   "execution_count": null,
   "id": "db13c556",
   "metadata": {},
   "outputs": [],
   "source": [
    "data['passivating_molecule']"
   ]
  },
  {
   "cell_type": "code",
   "execution_count": 7,
   "id": "9eb0856c",
   "metadata": {
    "scrolled": true
   },
   "outputs": [
    {
     "data": {
      "text/plain": [
       "0"
      ]
     },
     "execution_count": 7,
     "metadata": {},
     "output_type": "execute_result"
    }
   ],
   "source": [
    "count"
   ]
  },
  {
   "cell_type": "markdown",
   "id": "e8bec456",
   "metadata": {},
   "source": [
    "## `perovskite_composition` into features"
   ]
  },
  {
   "cell_type": "code",
   "execution_count": null,
   "id": "dde15943",
   "metadata": {
    "scrolled": true
   },
   "outputs": [],
   "source": [
    "list(data['perovskite_composition'])#.apply(lambda x: x.split(' ')))"
   ]
  },
  {
   "cell_type": "code",
   "execution_count": null,
   "id": "87a66b57",
   "metadata": {},
   "outputs": [],
   "source": []
  },
  {
   "cell_type": "markdown",
   "id": "bffdb433",
   "metadata": {},
   "source": [
    "## baseline ML model"
   ]
  },
  {
   "cell_type": "code",
   "execution_count": null,
   "id": "734974df",
   "metadata": {},
   "outputs": [],
   "source": []
  }
 ],
 "metadata": {
  "kernelspec": {
   "display_name": "Python 3 (ipykernel)",
   "language": "python",
   "name": "python3"
  },
  "language_info": {
   "codemirror_mode": {
    "name": "ipython",
    "version": 3
   },
   "file_extension": ".py",
   "mimetype": "text/x-python",
   "name": "python",
   "nbconvert_exporter": "python",
   "pygments_lexer": "ipython3",
   "version": "3.10.9"
  }
 },
 "nbformat": 4,
 "nbformat_minor": 5
}
