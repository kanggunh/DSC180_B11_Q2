{
 "cells": [
  {
   "cell_type": "markdown",
   "id": "e5f480ea",
   "metadata": {},
   "source": [
    "### Table of Content\n",
    "- [`passivating_molecule` into SMILES format](Converting-`passivating_molecule`-into-SMILES-format)\n",
    "- [`perovskite_composition` into features](`perovskite_composition`-into-features)\n",
    "- [baseline ML model](baseline-ML-model)"
   ]
  },
  {
   "cell_type": "code",
   "execution_count": null,
   "id": "15f697be",
   "metadata": {},
   "outputs": [
    {
     "name": "stdout",
     "output_type": "stream",
     "text": [
      "\u001b[33mWARNING: Skipping accelerate as it is not installed.\u001b[0m\u001b[33m\n",
      "\u001b[0mFound existing installation: aiohappyeyeballs 2.4.3\n",
      "Uninstalling aiohappyeyeballs-2.4.3:\n",
      "  Successfully uninstalled aiohappyeyeballs-2.4.3\n",
      "Found existing installation: aiohttp 3.10.10\n",
      "Uninstalling aiohttp-3.10.10:\n",
      "  Successfully uninstalled aiohttp-3.10.10\n",
      "Found existing installation: aiosignal 1.3.1\n",
      "Uninstalling aiosignal-1.3.1:\n",
      "  Successfully uninstalled aiosignal-1.3.1\n",
      "Found existing installation: annotated-types 0.7.0\n",
      "Uninstalling annotated-types-0.7.0:\n",
      "  Successfully uninstalled annotated-types-0.7.0\n",
      "Found existing installation: anyio 3.5.0\n",
      "Uninstalling anyio-3.5.0:\n",
      "  Successfully uninstalled anyio-3.5.0\n",
      "Found existing installation: asttokens 2.0.5\n",
      "Uninstalling asttokens-2.0.5:\n",
      "  Successfully uninstalled asttokens-2.0.5\n",
      "Found existing installation: attrs 24.2.0\n",
      "Uninstalling attrs-24.2.0:\n",
      "  Successfully uninstalled attrs-24.2.0\n",
      "Found existing installation: beautifulsoup4 4.11.1\n",
      "Uninstalling beautifulsoup4-4.11.1:\n",
      "  Successfully uninstalled beautifulsoup4-4.11.1\n",
      "\u001b[33mWARNING: Skipping bitsandbytes as it is not installed.\u001b[0m\u001b[33m\n",
      "\u001b[0m\u001b[33mWARNING: Skipping bs4 as it is not installed.\u001b[0m\u001b[33m\n",
      "\u001b[0mFound existing installation: certifi 2022.12.7\n",
      "Uninstalling certifi-2022.12.7:\n",
      "  Successfully uninstalled certifi-2022.12.7\n",
      "Found existing installation: charset-normalizer 2.0.4\n",
      "Uninstalling charset-normalizer-2.0.4:\n",
      "  Successfully uninstalled charset-normalizer-2.0.4\n",
      "Found existing installation: click 8.0.4\n",
      "Uninstalling click-8.0.4:\n",
      "  Successfully uninstalled click-8.0.4\n",
      "Found existing installation: comm 0.1.2\n",
      "Uninstalling comm-0.1.2:\n",
      "  Successfully uninstalled comm-0.1.2\n",
      "\u001b[33mWARNING: Skipping datasets as it is not installed.\u001b[0m\u001b[33m\n",
      "\u001b[0mFound existing installation: debugpy 1.5.1\n",
      "Uninstalling debugpy-1.5.1:\n",
      "  Successfully uninstalled debugpy-1.5.1\n",
      "Found existing installation: decorator 5.1.1\n",
      "Uninstalling decorator-5.1.1:\n",
      "  Successfully uninstalled decorator-5.1.1\n",
      "Found existing installation: dill 0.3.6\n",
      "Uninstalling dill-0.3.6:\n",
      "  Successfully uninstalled dill-0.3.6\n",
      "Found existing installation: distro 1.9.0\n",
      "Uninstalling distro-1.9.0:\n",
      "  Successfully uninstalled distro-1.9.0\n",
      "\u001b[33mWARNING: Skipping docker-pycreds as it is not installed.\u001b[0m\u001b[33m\n",
      "\u001b[0mFound existing installation: executing 0.8.3\n",
      "Uninstalling executing-0.8.3:\n",
      "  Successfully uninstalled executing-0.8.3\n",
      "Found existing installation: filelock 3.9.0\n",
      "Uninstalling filelock-3.9.0:\n",
      "  Successfully uninstalled filelock-3.9.0\n",
      "Found existing installation: frozenlist 1.5.0\n",
      "Uninstalling frozenlist-1.5.0:\n",
      "  Successfully uninstalled frozenlist-1.5.0\n",
      "Found existing installation: fsspec 2024.10.0\n",
      "Uninstalling fsspec-2024.10.0:\n",
      "  Successfully uninstalled fsspec-2024.10.0\n",
      "\u001b[33mWARNING: Skipping gitdb as it is not installed.\u001b[0m\u001b[33m\n",
      "\u001b[0m\u001b[33mWARNING: Skipping GitPython as it is not installed.\u001b[0m\u001b[33m\n",
      "\u001b[0m\u001b[33mWARNING: Skipping grobid-tei-xml as it is not installed.\u001b[0m\u001b[33m\n",
      "\u001b[0mFound existing installation: h11 0.14.0\n",
      "Uninstalling h11-0.14.0:\n",
      "  Successfully uninstalled h11-0.14.0\n",
      "Found existing installation: httpcore 1.0.6\n",
      "Uninstalling httpcore-1.0.6:\n",
      "  Successfully uninstalled httpcore-1.0.6\n",
      "Found existing installation: httpx 0.27.2\n",
      "Uninstalling httpx-0.27.2:\n",
      "  Successfully uninstalled httpx-0.27.2\n",
      "Found existing installation: huggingface-hub 0.26.2\n",
      "Uninstalling huggingface-hub-0.26.2:\n",
      "  Successfully uninstalled huggingface-hub-0.26.2\n",
      "Found existing installation: idna 3.4\n",
      "Uninstalling idna-3.4:\n",
      "  Successfully uninstalled idna-3.4\n",
      "Found existing installation: importlib_metadata 8.5.0\n",
      "Uninstalling importlib_metadata-8.5.0:\n",
      "  Successfully uninstalled importlib_metadata-8.5.0\n",
      "Found existing installation: ipykernel 6.19.2\n",
      "Uninstalling ipykernel-6.19.2:\n",
      "  Successfully uninstalled ipykernel-6.19.2\n",
      "Found existing installation: ipython 8.10.0\n",
      "Uninstalling ipython-8.10.0:\n",
      "  Successfully uninstalled ipython-8.10.0\n",
      "Found existing installation: jedi 0.18.1\n",
      "Uninstalling jedi-0.18.1:\n",
      "  Successfully uninstalled jedi-0.18.1\n",
      "Found existing installation: Jinja2 3.1.2\n",
      "Uninstalling Jinja2-3.1.2:\n",
      "  Successfully uninstalled Jinja2-3.1.2\n",
      "Found existing installation: jiter 0.6.1\n",
      "Uninstalling jiter-0.6.1:\n",
      "  Successfully uninstalled jiter-0.6.1\n",
      "Found existing installation: joblib 1.4.2\n",
      "Uninstalling joblib-1.4.2:\n",
      "  Successfully uninstalled joblib-1.4.2\n",
      "Found existing installation: jsonschema 4.23.0\n",
      "Uninstalling jsonschema-4.23.0:\n",
      "  Successfully uninstalled jsonschema-4.23.0\n",
      "Found existing installation: jsonschema-specifications 2024.10.1\n",
      "Uninstalling jsonschema-specifications-2024.10.1:\n",
      "  Successfully uninstalled jsonschema-specifications-2024.10.1\n",
      "Found existing installation: jupyter_client 7.3.4\n",
      "Uninstalling jupyter_client-7.3.4:\n",
      "  Successfully uninstalled jupyter_client-7.3.4\n",
      "Found existing installation: jupyter_core 5.2.0\n",
      "Uninstalling jupyter_core-5.2.0:\n",
      "  Successfully uninstalled jupyter_core-5.2.0\n",
      "Found existing installation: litellm 1.52.11\n",
      "Uninstalling litellm-1.52.11:\n",
      "  Successfully uninstalled litellm-1.52.11\n",
      "\u001b[33mWARNING: Skipping markdown-it-py as it is not installed.\u001b[0m\u001b[33m\n",
      "\u001b[0mFound existing installation: MarkupSafe 2.1.1\n",
      "Uninstalling MarkupSafe-2.1.1:\n",
      "  Successfully uninstalled MarkupSafe-2.1.1\n",
      "Found existing installation: matplotlib-inline 0.1.6\n",
      "Uninstalling matplotlib-inline-0.1.6:\n",
      "  Successfully uninstalled matplotlib-inline-0.1.6\n",
      "Found existing installation: mdurl 0.1.2\n",
      "Uninstalling mdurl-0.1.2:\n",
      "  Successfully uninstalled mdurl-0.1.2\n",
      "Found existing installation: mpmath 1.2.1\n",
      "Uninstalling mpmath-1.2.1:\n",
      "\u001b[33m  WARNING: Cannot remove entries from nonexistent file /Users/kanggun/anaconda3/lib/python3.10/site-packages/easy-install.pth\u001b[0m\u001b[33m\n",
      "\u001b[0m  Successfully uninstalled mpmath-1.2.1\n",
      "Found existing installation: multidict 6.1.0\n",
      "Uninstalling multidict-6.1.0:\n",
      "  Successfully uninstalled multidict-6.1.0\n",
      "\u001b[33mWARNING: Skipping multiprocess as it is not installed.\u001b[0m\u001b[33m\n",
      "\u001b[0mFound existing installation: nest-asyncio 1.5.6\n",
      "Uninstalling nest-asyncio-1.5.6:\n",
      "  Successfully uninstalled nest-asyncio-1.5.6\n",
      "Found existing installation: networkx 2.8.4\n",
      "Uninstalling networkx-2.8.4:\n",
      "  Successfully uninstalled networkx-2.8.4\n",
      "Found existing installation: numpy 1.26.4\n",
      "Uninstalling numpy-1.26.4:\n",
      "  Successfully uninstalled numpy-1.26.4\n",
      "\u001b[33mWARNING: Skipping nvidia-cublas-cu12 as it is not installed.\u001b[0m\u001b[33m\n",
      "\u001b[0m\u001b[33mWARNING: Skipping nvidia-cuda-cupti-cu12 as it is not installed.\u001b[0m\u001b[33m\n",
      "\u001b[0m\u001b[33mWARNING: Skipping nvidia-cuda-nvrtc-cu12 as it is not installed.\u001b[0m\u001b[33m\n",
      "\u001b[0m\u001b[33mWARNING: Skipping nvidia-cuda-runtime-cu12 as it is not installed.\u001b[0m\u001b[33m\n",
      "\u001b[0m\u001b[33mWARNING: Skipping nvidia-cudnn-cu12 as it is not installed.\u001b[0m\u001b[33m\n",
      "\u001b[0m\u001b[33mWARNING: Skipping nvidia-cufft-cu12 as it is not installed.\u001b[0m\u001b[33m\n",
      "\u001b[0m\u001b[33mWARNING: Skipping nvidia-curand-cu12 as it is not installed.\u001b[0m\u001b[33m\n",
      "\u001b[0m\u001b[33mWARNING: Skipping nvidia-cusolver-cu12 as it is not installed.\u001b[0m\u001b[33m\n",
      "\u001b[0m\u001b[33mWARNING: Skipping nvidia-cusparse-cu12 as it is not installed.\u001b[0m\u001b[33m\n",
      "\u001b[0m\u001b[33mWARNING: Skipping nvidia-nccl-cu12 as it is not installed.\u001b[0m\u001b[33m\n",
      "\u001b[0m\u001b[33mWARNING: Skipping nvidia-nvjitlink-cu12 as it is not installed.\u001b[0m\u001b[33m\n",
      "\u001b[0m\u001b[33mWARNING: Skipping nvidia-nvtx-cu12 as it is not installed.\u001b[0m\u001b[33m\n",
      "\u001b[0mFound existing installation: openai 1.55.0\n",
      "Uninstalling openai-1.55.0:\n",
      "  Successfully uninstalled openai-1.55.0\n",
      "\u001b[33mWARNING: Skipping outcome as it is not installed.\u001b[0m\u001b[33m\n",
      "\u001b[0mFound existing installation: packaging 22.0\n",
      "Uninstalling packaging-22.0:\n",
      "  Successfully uninstalled packaging-22.0\n",
      "Found existing installation: pandas 2.2.3\n",
      "Uninstalling pandas-2.2.3:\n",
      "  Successfully uninstalled pandas-2.2.3\n",
      "Found existing installation: parso 0.8.3\n",
      "Uninstalling parso-0.8.3:\n",
      "  Successfully uninstalled parso-0.8.3\n",
      "\u001b[33mWARNING: Skipping peft as it is not installed.\u001b[0m\u001b[33m\n",
      "\u001b[0mFound existing installation: pexpect 4.8.0\n",
      "Uninstalling pexpect-4.8.0:\n",
      "  Successfully uninstalled pexpect-4.8.0\n",
      "Found existing installation: platformdirs 2.5.2\n",
      "Uninstalling platformdirs-2.5.2:\n",
      "  Successfully uninstalled platformdirs-2.5.2\n",
      "Found existing installation: prompt-toolkit 3.0.36\n",
      "Uninstalling prompt-toolkit-3.0.36:\n",
      "  Successfully uninstalled prompt-toolkit-3.0.36\n",
      "Found existing installation: propcache 0.2.0\n",
      "Uninstalling propcache-0.2.0:\n",
      "  Successfully uninstalled propcache-0.2.0\n",
      "Found existing installation: protobuf 4.25.5\n",
      "Uninstalling protobuf-4.25.5:\n",
      "  Successfully uninstalled protobuf-4.25.5\n"
     ]
    },
    {
     "name": "stdout",
     "output_type": "stream",
     "text": [
      "Found existing installation: psutil 5.9.0\n",
      "Uninstalling psutil-5.9.0:\n",
      "  Successfully uninstalled psutil-5.9.0\n",
      "Found existing installation: ptyprocess 0.7.0\n",
      "Uninstalling ptyprocess-0.7.0:\n",
      "  Successfully uninstalled ptyprocess-0.7.0\n",
      "Found existing installation: pure-eval 0.2.2\n",
      "Uninstalling pure-eval-0.2.2:\n",
      "  Successfully uninstalled pure-eval-0.2.2\n",
      "\u001b[33mWARNING: Skipping pyarrow as it is not installed.\u001b[0m\u001b[33m\n",
      "\u001b[0mFound existing installation: pydantic 2.9.2\n",
      "Uninstalling pydantic-2.9.2:\n",
      "  Successfully uninstalled pydantic-2.9.2\n",
      "Found existing installation: pydantic_core 2.23.4\n",
      "Uninstalling pydantic_core-2.23.4:\n",
      "  Successfully uninstalled pydantic_core-2.23.4\n",
      "Found existing installation: Pygments 2.18.0\n",
      "Uninstalling Pygments-2.18.0:\n",
      "  Successfully uninstalled Pygments-2.18.0\n",
      "\u001b[33mWARNING: Skipping PyMuPDF as it is not installed.\u001b[0m\u001b[33m\n",
      "\u001b[0mFound existing installation: PySocks 1.7.1\n",
      "Uninstalling PySocks-1.7.1:\n",
      "  Successfully uninstalled PySocks-1.7.1\n",
      "Found existing installation: python-dateutil 2.8.2\n",
      "Uninstalling python-dateutil-2.8.2:\n",
      "  Successfully uninstalled python-dateutil-2.8.2\n",
      "Found existing installation: python-dotenv 1.0.1\n",
      "Uninstalling python-dotenv-1.0.1:\n",
      "  Successfully uninstalled python-dotenv-1.0.1\n",
      "Found existing installation: pytz 2022.7\n",
      "Uninstalling pytz-2022.7:\n",
      "  Successfully uninstalled pytz-2022.7\n",
      "Found existing installation: PyYAML 6.0\n",
      "Uninstalling PyYAML-6.0:\n",
      "  Successfully uninstalled PyYAML-6.0\n",
      "Found existing installation: pyzmq 23.2.0\n",
      "Uninstalling pyzmq-23.2.0:\n",
      "  Successfully uninstalled pyzmq-23.2.0\n",
      "Found existing installation: referencing 0.35.1\n",
      "Uninstalling referencing-0.35.1:\n",
      "  Successfully uninstalled referencing-0.35.1\n",
      "Found existing installation: regex 2022.7.9\n",
      "Uninstalling regex-2022.7.9:\n",
      "  Successfully uninstalled regex-2022.7.9\n",
      "Found existing installation: requests 2.32.3\n",
      "Uninstalling requests-2.32.3:\n",
      "  Successfully uninstalled requests-2.32.3\n",
      "\u001b[33mWARNING: Skipping rich as it is not installed.\u001b[0m\u001b[33m\n",
      "\u001b[0mFound existing installation: rpds-py 0.21.0\n",
      "Uninstalling rpds-py-0.21.0:\n",
      "  Successfully uninstalled rpds-py-0.21.0\n",
      "Found existing installation: safetensors 0.4.5\n",
      "Uninstalling safetensors-0.4.5:\n",
      "  Successfully uninstalled safetensors-0.4.5\n",
      "Found existing installation: scikit-learn 1.4.2\n",
      "Uninstalling scikit-learn-1.4.2:\n",
      "  Successfully uninstalled scikit-learn-1.4.2\n"
     ]
    }
   ],
   "source": [
    "pip uninstall -y -r requirements.txt"
   ]
  },
  {
   "cell_type": "code",
   "execution_count": 1,
   "id": "92bd17a0",
   "metadata": {
    "scrolled": true
   },
   "outputs": [
    {
     "name": "stderr",
     "output_type": "stream",
     "text": [
      "/Users/kanggun/anaconda3/lib/python3.10/site-packages/pandas/core/arrays/masked.py:60: UserWarning: Pandas requires version '1.3.6' or newer of 'bottleneck' (version '1.3.5' currently installed).\n",
      "  from pandas.core import (\n"
     ]
    }
   ],
   "source": [
    "import pandas as pd\n",
    "import numpy as np\n",
    "import pubchempy as pcp"
   ]
  },
  {
   "cell_type": "code",
   "execution_count": null,
   "id": "902197de",
   "metadata": {
    "scrolled": true
   },
   "outputs": [],
   "source": [
    "df = pd.read_json('data/finetuned_llama_output.json')\n",
    "data = df.T.sort_index()\n",
    "data.info()"
   ]
  },
  {
   "cell_type": "code",
   "execution_count": null,
   "id": "b7daef81",
   "metadata": {
    "scrolled": false
   },
   "outputs": [],
   "source": [
    "# Function to select columns\n",
    "def select_data(df):\n",
    "    # Convert PCE and VOC to numeric\n",
    "    for col in ['control_pce', 'control_voc', 'treated_pce', 'treated_voc']:\n",
    "        df[col] = pd.to_numeric(df[col], errors='coerce')\n",
    "\n",
    "    # Drop rows where treated_pce or passivating_molecule is missing\n",
    "    df = df.dropna(subset=['treated_pce', 'passivating_molecule', 'perovskite_composition'])\n",
    "\n",
    "    return df\n",
    "\n",
    "data = select_data(data)\n",
    "data.head()"
   ]
  },
  {
   "cell_type": "code",
   "execution_count": null,
   "id": "58ff2111",
   "metadata": {
    "scrolled": false
   },
   "outputs": [],
   "source": [
    "data.isna().sum(axis=0)"
   ]
  },
  {
   "cell_type": "markdown",
   "id": "40024404",
   "metadata": {},
   "source": [
    "## `passivating_molecule` into SMILES format"
   ]
  },
  {
   "cell_type": "code",
   "execution_count": null,
   "id": "efff2523",
   "metadata": {},
   "outputs": [],
   "source": []
  },
  {
   "cell_type": "code",
   "execution_count": null,
   "id": "cd918272",
   "metadata": {},
   "outputs": [],
   "source": [
    "def fetch_smiles_from_name(molecule_name):\n",
    "    try:\n",
    "        # Search for the molecule in PubChem by name\n",
    "        compounds = pcp.get_compounds(molecule_name, 'name')\n",
    "        if compounds:\n",
    "            return compounds[0].isomeric_smiles  # Return the first match's SMILES\n",
    "        else:\n",
    "            return np.nan\n",
    "    except Exception as e:\n",
    "        print(f\"Error fetching SMILES for {molecule_name}: {e}\")\n",
    "        return None"
   ]
  },
  {
   "cell_type": "code",
   "execution_count": null,
   "id": "58745d18",
   "metadata": {
    "scrolled": true
   },
   "outputs": [],
   "source": [
    "data['passivating_molecule']"
   ]
  },
  {
   "cell_type": "code",
   "execution_count": null,
   "id": "0f7e0b5d",
   "metadata": {
    "scrolled": true
   },
   "outputs": [],
   "source": [
    "data['passivating_molecule'].apply(fetch_smiles_from_name).isna().sum()"
   ]
  },
  {
   "cell_type": "markdown",
   "id": "797576f1",
   "metadata": {},
   "source": [
    "### Cleaning Data"
   ]
  },
  {
   "cell_type": "code",
   "execution_count": null,
   "id": "f7984c6a",
   "metadata": {},
   "outputs": [],
   "source": [
    "import re\n",
    "\n",
    "def fix_unmatched_brackets(s):\n",
    "    \"\"\"\n",
    "    Fixes unmatched brackets in the given string by adding the correct brackets where necessary.\n",
    "\n",
    "    :param s: Input string with potential unmatched brackets.\n",
    "    :return: A corrected string with properly balanced brackets.\n",
    "    \"\"\"\n",
    "    opening = \"({[\"\n",
    "    closing = \")}]\"\n",
    "    match = {')': '(', '}': '{', ']': '['}\n",
    "    stack = []\n",
    "\n",
    "    # Step 1: Identify missing closing brackets\n",
    "    fixed_s = []\n",
    "    for char in s:\n",
    "        if char in opening:\n",
    "            stack.append(char)\n",
    "            fixed_s.append(char)\n",
    "        elif char in closing:\n",
    "            if stack and stack[-1] == match[char]:\n",
    "                stack.pop()\n",
    "                fixed_s.append(char)\n",
    "            else:\n",
    "                # Add missing opening bracket before unmatched closing\n",
    "                fixed_s.insert(0, match[char])\n",
    "                fixed_s.append(char)\n",
    "        else:\n",
    "            fixed_s.append(char)\n",
    "\n",
    "    # Step 2: Add missing closing brackets at the end\n",
    "    while stack:\n",
    "        open_bracket = stack.pop()\n",
    "        fixed_s.append(closing[opening.index(open_bracket)])\n",
    "\n",
    "    return \"\".join(fixed_s)\n",
    "\n",
    "\n",
    "def get_chemical_names(chemical_list):\n",
    "    cleaned_list = []\n",
    "    for name in chemical_list:\n",
    "        # Remove text inside parentheses at the end if it's extra information (abbreviations)\n",
    "        name = re.sub(r\"\\s*\\([^)]*\\)$\", \"\", name).strip()\n",
    "\n",
    "        cleaned_list.append(name)\n",
    "\n",
    "    return cleaned_list"
   ]
  },
  {
   "cell_type": "code",
   "execution_count": null,
   "id": "7fa4e234",
   "metadata": {},
   "outputs": [],
   "source": [
    "# Example input list\n",
    "lst = data['passivating_molecule']\n",
    "\n",
    "# Cleaning the list\n",
    "cleaned_list = lst.apply(lambda x: fix_unmatched_brackets(x))\n",
    "cleaned_list = get_chemical_names(cleaned_list)\n",
    "\n",
    "# Output result\n",
    "data['passivating_molecule_cleaned'] = cleaned_list"
   ]
  },
  {
   "cell_type": "code",
   "execution_count": null,
   "id": "71b0ef0c",
   "metadata": {},
   "outputs": [],
   "source": [
    "data['passivating_molecule_SMILES'] = data['passivating_molecule_cleaned'].apply(fetch_smiles_from_name)"
   ]
  },
  {
   "cell_type": "markdown",
   "id": "ae9fe69a",
   "metadata": {},
   "source": [
    "## `perovskite_composition` into features"
   ]
  },
  {
   "cell_type": "code",
   "execution_count": null,
   "id": "dde15943",
   "metadata": {
    "scrolled": false
   },
   "outputs": [],
   "source": [
    "data['perovskite_composition']#.apply(lambda x: x.split(' ')))"
   ]
  },
  {
   "cell_type": "code",
   "execution_count": null,
   "id": "8ebaac10",
   "metadata": {},
   "outputs": [],
   "source": [
    "pip install chemparse"
   ]
  },
  {
   "cell_type": "code",
   "execution_count": null,
   "id": "d7b43f95",
   "metadata": {
    "scrolled": true
   },
   "outputs": [],
   "source": [
    "import chemparse\n",
    "\n",
    "# Example formula\n",
    "formula = \"(FAPbI3)0.95(MAPbBr3)0.05\"\n",
    "\n",
    "# Parse formula\n",
    "result = chemparse.parse_formula(formula)\n",
    "print(result)  # Output: {'FA': 0.95, 'Pb': 1.0, 'I': 2.85, 'MA': 0.05, 'Br': 0.15}"
   ]
  },
  {
   "cell_type": "code",
   "execution_count": null,
   "id": "a0cd6b99",
   "metadata": {},
   "outputs": [],
   "source": [
    "from sympy import sympify\n",
    "\n",
    "# Example formula with weights\n",
    "formula = \"0.95 * (FA + Pb + 3*I) + 0.05 * (MA + Pb + 3*Br)\"\n",
    "\n",
    "# Evaluate\n",
    "expanded_formula = sympify(formula)\n",
    "print(expanded_formula)"
   ]
  },
  {
   "cell_type": "markdown",
   "id": "45703b2f",
   "metadata": {},
   "source": [
    "## baseline ML model"
   ]
  },
  {
   "cell_type": "code",
   "execution_count": null,
   "id": "e22cb9bc",
   "metadata": {},
   "outputs": [],
   "source": []
  }
 ],
 "metadata": {
  "kernelspec": {
   "display_name": "Python 3 (ipykernel)",
   "language": "python",
   "name": "python3"
  },
  "language_info": {
   "codemirror_mode": {
    "name": "ipython",
    "version": 3
   },
   "file_extension": ".py",
   "mimetype": "text/x-python",
   "name": "python",
   "nbconvert_exporter": "python",
   "pygments_lexer": "ipython3",
   "version": "3.10.9"
  }
 },
 "nbformat": 4,
 "nbformat_minor": 5
}
