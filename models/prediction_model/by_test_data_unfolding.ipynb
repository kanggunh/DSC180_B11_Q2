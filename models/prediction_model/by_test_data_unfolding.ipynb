{
 "cells": [
  {
   "cell_type": "code",
   "execution_count": null,
   "id": "03418b20-54ca-4fc9-90c6-50e14ab39021",
   "metadata": {},
   "outputs": [],
   "source": [
    "import pandas as pd\n",
    "import ast\n",
    "import numpy as np\n",
    "import pubchempy as pcp\n",
    "from rdkit import Chem\n",
    "from rdkit.Chem import Descriptors, rdMolDescriptors"
   ]
  },
  {
   "cell_type": "code",
   "execution_count": null,
   "id": "709207de-5a89-4483-bdd4-def4d7298a8a",
   "metadata": {
    "scrolled": true
   },
   "outputs": [],
   "source": [
    "annotation_df = pd.read_csv('150_papers_json_update.csv')\n",
    "annotation_df"
   ]
  },
  {
   "cell_type": "code",
   "execution_count": null,
   "id": "dafe4892-e88c-4c78-8ece-f03139d96f52",
   "metadata": {},
   "outputs": [],
   "source": [
    "import pandas as pd\n",
    "import json\n",
    "\n",
    "# Load the dataset\n",
    "file_path = \"150_papers_json_update.csv\"\n",
    "annotation_df = pd.read_csv(file_path)\n",
    "\n",
    "# List to store extracted data\n",
    "expanded_data = []\n",
    "\n",
    "for index, row in annotation_df.iterrows():\n",
    "    try:\n",
    "        row_dict = json.loads(row['output'])  # Convert JSON string to dictionary\n",
    "    except (json.JSONDecodeError, TypeError):\n",
    "        continue  # Skip rows where conversion fails\n",
    "\n",
    "    # Extract common fields\n",
    "    common_fields = {\n",
    "        \"first_num\": row['first_num'],\n",
    "        \"perovskite_composition\": row_dict.get(\"perovskite_composition\"),\n",
    "        \"electron_transport_layer\": row_dict.get(\"electron_transport_layer\"),\n",
    "        \"hole_transport_layer\": row_dict.get(\"hole_transport_layer\"),\n",
    "        \"structure_pin_nip\": row_dict.get(\"structure_pin_nip\"),\n",
    "    }\n",
    "\n",
    "    # Extract test data\n",
    "    for key, test_data in row_dict.items():\n",
    "        if key.startswith(\"test_\") and isinstance(test_data, dict):\n",
    "            test_row = common_fields.copy()\n",
    "            test_row[\"test\"] = key  # Store test name\n",
    "            test_row.update(test_data)  # Merge test details\n",
    "            expanded_data.append(test_row)\n",
    "\n",
    "# Convert extracted data to DataFrame\n",
    "df_expanded = pd.DataFrame(expanded_data)\n",
    "df_expanded.shape"
   ]
  },
  {
   "cell_type": "code",
   "execution_count": null,
   "id": "4bc3c7fd-ab3f-4567-8a2b-37068d49f36d",
   "metadata": {},
   "outputs": [],
   "source": [
    "df_expanded"
   ]
  },
  {
   "cell_type": "code",
   "execution_count": null,
   "id": "7010f81e-8487-4f05-b3b2-d08b92e0ff81",
   "metadata": {},
   "outputs": [],
   "source": [
    "df_expanded.to_csv('df_expanded.csv', index=False)"
   ]
  },
  {
   "cell_type": "code",
   "execution_count": null,
   "id": "76380b35-0c0a-4760-9b84-d5e85c49551f",
   "metadata": {
    "scrolled": true
   },
   "outputs": [],
   "source": [
    "# Function to select columns\n",
    "def select_data(df):\n",
    "    # Convert PCE and VOC to numeric\n",
    "    for col in ['control_pce', 'control_voc', 'treated_pce', 'treated_voc']:\n",
    "        df[col] = pd.to_numeric(df[col], errors='coerce')\n",
    "\n",
    "    # Drop rows where treated_pce or passivating_molecule is missing\n",
    "    df = df.dropna(subset=['passivating_molecule'])\n",
    "\n",
    "    return df\n",
    "\n",
    "data = select_data(df_expanded)\n",
    "data"
   ]
  },
  {
   "cell_type": "code",
   "execution_count": null,
   "id": "30846318-1685-48df-a80c-f7958a0e84ef",
   "metadata": {
    "scrolled": true
   },
   "outputs": [],
   "source": [
    "data.shape"
   ]
  },
  {
   "cell_type": "code",
   "execution_count": null,
   "id": "a2f9b454-d9ab-421f-92c3-163cff889343",
   "metadata": {},
   "outputs": [],
   "source": [
    "def fetch_smiles_from_name(molecule_name):\n",
    "    try:\n",
    "        # Search for the molecule in PubChem by name\n",
    "        compounds = pcp.get_compounds(molecule_name, 'name')\n",
    "        if compounds:\n",
    "            return compounds[0].isomeric_smiles  # Return the first match's SMILES\n",
    "        else:\n",
    "            return np.nan\n",
    "    except Exception as e:\n",
    "        print(f\"Error fetching SMILES for {molecule_name}: {e}\")\n",
    "        return None"
   ]
  },
  {
   "cell_type": "code",
   "execution_count": null,
   "id": "92a0d34a-0d3b-4216-97dd-b97d78d28bde",
   "metadata": {},
   "outputs": [],
   "source": [
    "import re\n",
    "\n",
    "def fix_unmatched_brackets(s):\n",
    "    \"\"\"\n",
    "    Fixes unmatched brackets in the given string by adding the correct brackets where necessary.\n",
    "\n",
    "    :param s: Input string with potential unmatched brackets.\n",
    "    :return: A corrected string with properly balanced brackets.\n",
    "    \"\"\"\n",
    "    opening = \"({[\"\n",
    "    closing = \")}]\"\n",
    "    match = {')': '(', '}': '{', ']': '['}\n",
    "    stack = []\n",
    "\n",
    "    # Step 1: Identify missing closing brackets\n",
    "    fixed_s = []\n",
    "    for char in s:\n",
    "        if char in opening:\n",
    "            stack.append(char)\n",
    "            fixed_s.append(char)\n",
    "        elif char in closing:\n",
    "            if stack and stack[-1] == match[char]:\n",
    "                stack.pop()\n",
    "                fixed_s.append(char)\n",
    "            else:\n",
    "                # Add missing opening bracket before unmatched closing\n",
    "                fixed_s.insert(0, match[char])\n",
    "                fixed_s.append(char)\n",
    "        else:\n",
    "            fixed_s.append(char)\n",
    "\n",
    "    # Step 2: Add missing closing brackets at the end\n",
    "    while stack:\n",
    "        open_bracket = stack.pop()\n",
    "        fixed_s.append(closing[opening.index(open_bracket)])\n",
    "\n",
    "    return \"\".join(fixed_s)\n",
    "\n",
    "\n",
    "def get_chemical_names(chemical_list):\n",
    "    cleaned_list = []\n",
    "    for name in chemical_list:\n",
    "        # Remove text inside parentheses only if it's extra information (abbreviations)\n",
    "        name = re.sub(r\"\\s*\\([^)]*\\)$\", \"\", name).strip() \n",
    "        # Remove spaces after a closing bracket (ensure proper chemical formatting)\n",
    "        name = re.sub(r\"\\] +\", \"]\", name)\n",
    "\n",
    "        cleaned_list.append(name)\n",
    "\n",
    "    return cleaned_list"
   ]
  },
  {
   "cell_type": "code",
   "execution_count": null,
   "id": "c65b987f-8fe7-4736-b744-e34b31662109",
   "metadata": {},
   "outputs": [],
   "source": [
    "lst = data['passivating_molecule']\n",
    "cleaned_list = lst.apply(lambda x: fix_unmatched_brackets(x))\n",
    "cleaned_list = get_chemical_names(cleaned_list)\n",
    "data['passivating_molecule_cleaned'] = cleaned_list\n",
    "data['passivating_molecule_SMILES'] = data['passivating_molecule_cleaned'].apply(fetch_smiles_from_name)"
   ]
  },
  {
   "cell_type": "code",
   "execution_count": null,
   "id": "21201ff8-fd14-4093-a1e6-fc9bc60b1803",
   "metadata": {},
   "outputs": [],
   "source": [
    "data['passivating_molecule_SMILES'].isna().sum()"
   ]
  },
  {
   "cell_type": "code",
   "execution_count": null,
   "id": "1a8bdb46-8825-4523-8e86-815004442471",
   "metadata": {},
   "outputs": [],
   "source": [
    "import numpy as np\n",
    "import pandas as pd\n",
    "from rdkit import Chem\n",
    "from rdkit.Chem import Descriptors, rdMolDescriptors\n",
    "\n",
    "def compute_molecular_features(smiles):\n",
    "    try:\n",
    "        mol = Chem.MolFromSmiles(smiles)\n",
    "        if mol:\n",
    "            return [\n",
    "                Descriptors.MolWt(mol),  # Molecular weight\n",
    "                Descriptors.ExactMolWt(mol),  # Exact molecular weight (isotope-specific)\n",
    "                Descriptors.MolLogP(mol),  # LogP (lipophilicity)\n",
    "                Descriptors.TPSA(mol),  # Topological Polar Surface Area\n",
    "                Descriptors.NumValenceElectrons(mol),  # Total valence electrons\n",
    "                rdMolDescriptors.CalcNumRotatableBonds(mol),  # Rotatable bonds\n",
    "                rdMolDescriptors.CalcNumHBA(mol),  # Hydrogen bond acceptors\n",
    "                rdMolDescriptors.CalcNumHBD(mol),  # Hydrogen bond donors\n",
    "                rdMolDescriptors.CalcFractionCSP3(mol),  # Fraction of sp3 carbons\n",
    "                rdMolDescriptors.CalcNumAromaticRings(mol),  # Number of aromatic rings\n",
    "                rdMolDescriptors.CalcNumSaturatedRings(mol),  # Number of saturated rings\n",
    "                rdMolDescriptors.CalcNumHeteroatoms(mol),  # Number of heteroatoms\n",
    "                rdMolDescriptors.CalcNumHeavyAtoms(mol),  # Number of heavy atoms\n",
    "                rdMolDescriptors.CalcNumSpiroAtoms(mol),  # Number of spiro atoms\n",
    "                rdMolDescriptors.CalcNumBridgeheadAtoms(mol),  # Number of bridgehead atoms\n",
    "                Descriptors.FpDensityMorgan1(mol),  # Morgan fingerprint density (radius=1)\n",
    "                Descriptors.FpDensityMorgan2(mol),  # Morgan fingerprint density (radius=2)\n",
    "                Descriptors.FpDensityMorgan3(mol),  # Morgan fingerprint density (radius=3)\n",
    "                Descriptors.qed(mol),  # Quantitative Estimate of Drug-likeness\n",
    "                rdMolDescriptors.CalcNumLipinskiHBA(mol),  # Lipinski Hydrogen Bond Acceptors\n",
    "                rdMolDescriptors.CalcNumLipinskiHBD(mol),  # Lipinski Hydrogen Bond Donors\n",
    "                rdMolDescriptors.CalcNumRings(mol),  # Total number of rings\n",
    "                rdMolDescriptors.CalcNumAmideBonds(mol),  # Number of amide bonds\n",
    "                Descriptors.BalabanJ(mol),  # Balaban’s connectivity index\n",
    "                Descriptors.BertzCT(mol),  # Bertz complexity\n",
    "                Descriptors.Chi0(mol),  # Chi connectivity index (order 0)\n",
    "                Descriptors.Chi1(mol),  # Chi connectivity index (order 1)\n",
    "                Descriptors.Chi2n(mol),  # Chi connectivity index (order 2, non-H)\n",
    "                Descriptors.Kappa1(mol),  # Kappa Shape Index (order 1)\n",
    "                Descriptors.Kappa2(mol),  # Kappa Shape Index (order 2)\n",
    "            ]\n",
    "        else:\n",
    "            return [np.nan] * 30  # Return NaN for missing values\n",
    "    except:\n",
    "        return [np.nan] * 30  # Return NaN for exceptions\n",
    "\n",
    "# Apply function to dataset\n",
    "mol_features = data['passivating_molecule_SMILES'].apply(compute_molecular_features)\n",
    "\n",
    "# Convert list to DataFrame\n",
    "mol_features_df = pd.DataFrame(mol_features.tolist(), \n",
    "                               columns=[\n",
    "                                   'MolWt', 'ExactMolWt', 'LogP', 'TPSA', 'NumValenceElectrons',\n",
    "                                   'NumRotBonds', 'NumHBA', 'NumHBD', 'FractionCSP3', 'AromaticRings',\n",
    "                                   'SaturatedRings', 'Heteroatoms', 'HeavyAtoms', 'SpiroAtoms', \n",
    "                                   'BridgeheadAtoms', 'FpDensityMorgan1', 'FpDensityMorgan2', \n",
    "                                   'FpDensityMorgan3', 'QED', 'LipinskiHBA', \n",
    "                                   'LipinskiHBD', 'NumRings', 'NumAmideBonds', 'BalabanJ', \n",
    "                                   'BertzCT', 'Chi0', 'Chi1', 'Chi2n', 'Kappa1', 'Kappa2'\n",
    "                               ],\n",
    "                               index=data.index)\n",
    "\n",
    "# Merge with original dataset\n",
    "data = pd.concat([data, mol_features_df], axis=1)"
   ]
  },
  {
   "cell_type": "code",
   "execution_count": null,
   "id": "4807a342-c905-4a7e-823f-da3190d46c29",
   "metadata": {},
   "outputs": [],
   "source": [
    "data.to_csv('data_expanded_SMILES.csv', index=False)"
   ]
  },
  {
   "cell_type": "code",
   "execution_count": null,
   "id": "3aa7bb6a-7a67-4d56-8fda-85afbc2cb0dd",
   "metadata": {},
   "outputs": [],
   "source": [
    "data['passivating_molecule_SMILES'].isna().sum()"
   ]
  },
  {
   "cell_type": "code",
   "execution_count": null,
   "id": "cbb289fc-6dc3-403b-b61f-73919764a34f",
   "metadata": {},
   "outputs": [],
   "source": []
  }
 ],
 "metadata": {
  "kernelspec": {
   "display_name": "Python [conda env:base] *",
   "language": "python",
   "name": "conda-base-py"
  },
  "language_info": {
   "codemirror_mode": {
    "name": "ipython",
    "version": 3
   },
   "file_extension": ".py",
   "mimetype": "text/x-python",
   "name": "python",
   "nbconvert_exporter": "python",
   "pygments_lexer": "ipython3",
   "version": "3.12.7"
  }
 },
 "nbformat": 4,
 "nbformat_minor": 5
}
