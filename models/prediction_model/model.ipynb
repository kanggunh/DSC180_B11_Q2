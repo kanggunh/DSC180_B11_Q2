{
 "cells": [
  {
   "cell_type": "code",
   "execution_count": 1,
   "id": "71b65941-1bdb-41ec-95cc-945ca78eef79",
   "metadata": {},
   "outputs": [],
   "source": [
    "import pandas as pd"
   ]
  },
  {
   "cell_type": "code",
   "execution_count": 2,
   "id": "33b9f9a0-8b8f-4961-9fc3-5096f7568316",
   "metadata": {},
   "outputs": [],
   "source": [
    "df = pd.read_csv('data_expanded_SMILES.csv')"
   ]
  },
  {
   "cell_type": "code",
   "execution_count": 5,
   "id": "2d768bf3-c991-4f4e-a0e5-7dd4bf0d966c",
   "metadata": {},
   "outputs": [],
   "source": [
    "df = df[~df['passivating_molecule_SMILES'].isna()]"
   ]
  },
  {
   "cell_type": "code",
   "execution_count": 7,
   "id": "68221443-8e3d-4c4b-b710-ce5db117ef54",
   "metadata": {},
   "outputs": [
    {
     "name": "stdout",
     "output_type": "stream",
     "text": [
      "Formula: (FAPbI3)0.95(MAPbBr3)0.05\n",
      "Parsed: {'FA': 0.95, 'MA': 0.05, 'CS': 0.0, 'Rb': 0.0, 'Pb': 1.0, 'Sn': 0.0, 'I': 2.85, 'Br': 0.15, 'Cl': 0.0}\n",
      "\n",
      "Formula: FA1-xMAxPbI3\n",
      "Parsed: {'FA': 1.0, 'MA': 1.0, 'CS': 0.0, 'Rb': 0.0, 'Pb': 1.0, 'Sn': 0.0, 'I': 3.0, 'Br': 0.0, 'Cl': 0.0}\n",
      "\n",
      "Formula: FA0.9CS0.1Rb0.05PbI2.9Br0.1\n",
      "Parsed: {'FA': 0.9, 'MA': 0.0, 'CS': 0.1, 'Rb': 0.05, 'Pb': 1.0, 'Sn': 0.0, 'I': 2.9, 'Br': 0.1, 'Cl': 0.0}\n",
      "\n",
      "Formula: (CS0.8Rb0.2FAPbI3)0.9(MAPbBr3)0.1\n",
      "Parsed: {'FA': 0.9, 'MA': 0.1, 'CS': 0.72, 'Rb': 0.18, 'Pb': 1.0, 'Sn': 0.0, 'I': 2.7, 'Br': 0.3, 'Cl': 0.0}\n",
      "\n",
      "Formula: (C4H9NH3)2PbI 4\n",
      "Parsed: {'FA': 0.0, 'MA': 0.0, 'CS': 0.0, 'Rb': 0.0, 'Pb': 1.0, 'Sn': 0.0, 'I': 4.0, 'Br': 0.0, 'Cl': 0.0}\n",
      "\n"
     ]
    }
   ],
   "source": [
    "import numpy as np\n",
    "import re\n",
    "\n",
    "def parse_perovskite_formula(formula):\n",
    "    # Define allowed species (order matters for multi-letter elements)\n",
    "    allowed_species = [\"FA\", \"MA\", \"CS\", \"Rb\", \"Pb\", \"Sn\", \"I\", \"Br\", \"Cl\"]\n",
    "\n",
    "    # if is the nan we return component dictionary with all zeros\n",
    "    if formula is np.nan:\n",
    "        formula = \"\"    \n",
    "    \n",
    "    # Dictionary to store parsed results (initialize with 0.0 for all species)\n",
    "    parsed_result = {species: 0.0 for species in allowed_species}\n",
    "\n",
    "    # Step 1: Handle groups in parentheses with coefficients (e.g., (FAPbI3)0.95)\n",
    "    pattern_group = r\"\\(([^)]+)\\)\\s*([0-9\\.]+)\"\n",
    "\n",
    "    \n",
    "    \n",
    "    groups = re.findall(pattern_group, formula)\n",
    "\n",
    "    if groups:\n",
    "        for group, coef in groups:\n",
    "            coef = float(coef)  # Convert coefficient to float\n",
    "            elements = re.findall(r\"(FA|MA|CS|Rb|Pb|Sn|I|Br|Cl)\\s*([\\d\\.]*)\", group)\n",
    "            for element, count in elements:\n",
    "                count = float(count) if count else 1.0\n",
    "                parsed_result[element] += count * coef  # Distribute coefficient\n",
    "\n",
    "    # Step 2: Handle formulas without parentheses (e.g., FA1-xMAxPbI3)\n",
    "    remaining_formula = re.sub(r\"\\([^)]*\\)\\s*[0-9\\.]+\", \"\", formula)  # Remove processed groups\n",
    "    elements = re.findall(r\"(FA|MA|CS|Rb|Pb|Sn|I|Br|Cl)\\s*([\\d\\.]*)\", remaining_formula)\n",
    "\n",
    "    for element, count in elements:\n",
    "        count = float(count) if count and 'x' not in count else 1.0  # Ignore '-x' or 'x'\n",
    "        parsed_result[element] += count\n",
    "\n",
    "    # Round to 2 decimal places for all values\n",
    "    parsed_result = {k: round(v, 2) for k, v in parsed_result.items()}\n",
    "\n",
    "    return parsed_result\n",
    "\n",
    "# Test cases\n",
    "formulas = [\n",
    "    \"(FAPbI3)0.95(MAPbBr3)0.05\",\n",
    "    \"FA1-xMAxPbI3\",\n",
    "    \"FA0.9CS0.1Rb0.05PbI2.9Br0.1\",\n",
    "    \"(CS0.8Rb0.2FAPbI3)0.9(MAPbBr3)0.1\",\n",
    "    \"(C4H9NH3)2PbI 4\"  # Test case with space\n",
    "]\n",
    "\n",
    "for formula in formulas:\n",
    "    print(f\"Formula: {formula}\")\n",
    "    print(\"Parsed:\", parse_perovskite_formula(formula))\n",
    "    print()"
   ]
  },
  {
   "cell_type": "code",
   "execution_count": 11,
   "id": "7b2bf4fb-4ad2-4f87-a0d9-b4ef3e01bbf5",
   "metadata": {
    "scrolled": true
   },
   "outputs": [],
   "source": [
    "temp = df['perovskite_composition'].apply(parse_perovskite_formula).apply(pd.Series)\n",
    "df = df.join(temp)"
   ]
  },
  {
   "cell_type": "code",
   "execution_count": 21,
   "id": "eeb7965d-c75c-4299-8d5f-bcebe1935f6f",
   "metadata": {},
   "outputs": [
    {
     "data": {
      "text/plain": [
       "(34, 29)"
      ]
     },
     "execution_count": 21,
     "metadata": {},
     "output_type": "execute_result"
    }
   ],
   "source": [
    "df.shape"
   ]
  },
  {
   "cell_type": "code",
   "execution_count": 25,
   "id": "be30ed3c-d1c2-4ebd-9a61-e288b8391e6b",
   "metadata": {},
   "outputs": [],
   "source": [
    "import numpy as np\n",
    "import pandas as pd\n",
    "from rdkit import Chem\n",
    "from rdkit.Chem import Descriptors, rdMolDescriptors\n",
    "\n",
    "def compute_molecular_features(smiles):\n",
    "    try:\n",
    "        mol = Chem.MolFromSmiles(smiles)\n",
    "        if mol:\n",
    "            return [\n",
    "                Descriptors.MolWt(mol),  # Molecular weight\n",
    "                Descriptors.ExactMolWt(mol),  # Exact molecular weight (isotope-specific)\n",
    "                Descriptors.MolLogP(mol),  # LogP (lipophilicity)\n",
    "                Descriptors.TPSA(mol),  # Topological Polar Surface Area\n",
    "                Descriptors.NumValenceElectrons(mol),  # Total valence electrons\n",
    "                rdMolDescriptors.CalcNumRotatableBonds(mol),  # Rotatable bonds\n",
    "                rdMolDescriptors.CalcNumHBA(mol),  # Hydrogen bond acceptors\n",
    "                rdMolDescriptors.CalcNumHBD(mol),  # Hydrogen bond donors\n",
    "                rdMolDescriptors.CalcFractionCSP3(mol),  # Fraction of sp3 carbons\n",
    "                rdMolDescriptors.CalcNumAromaticRings(mol),  # Number of aromatic rings\n",
    "                rdMolDescriptors.CalcNumSaturatedRings(mol),  # Number of saturated rings\n",
    "                rdMolDescriptors.CalcNumHeteroatoms(mol),  # Number of heteroatoms\n",
    "                rdMolDescriptors.CalcNumHeavyAtoms(mol),  # Number of heavy atoms\n",
    "                rdMolDescriptors.CalcNumSpiroAtoms(mol),  # Number of spiro atoms\n",
    "                rdMolDescriptors.CalcNumBridgeheadAtoms(mol),  # Number of bridgehead atoms\n",
    "                Descriptors.FpDensityMorgan1(mol),  # Morgan fingerprint density (radius=1)\n",
    "                Descriptors.FpDensityMorgan2(mol),  # Morgan fingerprint density (radius=2)\n",
    "                Descriptors.FpDensityMorgan3(mol),  # Morgan fingerprint density (radius=3)\n",
    "                Descriptors.qed(mol),  # Quantitative Estimate of Drug-likeness\n",
    "                rdMolDescriptors.CalcNumLipinskiHBA(mol),  # Lipinski Hydrogen Bond Acceptors\n",
    "                rdMolDescriptors.CalcNumLipinskiHBD(mol),  # Lipinski Hydrogen Bond Donors\n",
    "                rdMolDescriptors.CalcNumRings(mol),  # Total number of rings\n",
    "                rdMolDescriptors.CalcNumAmideBonds(mol),  # Number of amide bonds\n",
    "                Descriptors.BalabanJ(mol),  # Balaban’s connectivity index\n",
    "                Descriptors.BertzCT(mol),  # Bertz complexity\n",
    "                Descriptors.Chi0(mol),  # Chi connectivity index (order 0)\n",
    "                Descriptors.Chi1(mol),  # Chi connectivity index (order 1)\n",
    "                Descriptors.Chi2n(mol),  # Chi connectivity index (order 2, non-H)\n",
    "                Descriptors.Kappa1(mol),  # Kappa Shape Index (order 1)\n",
    "                Descriptors.Kappa2(mol),  # Kappa Shape Index (order 2)\n",
    "            ]\n",
    "        else:\n",
    "            return [np.nan] * 30  # Return NaN for missing values\n",
    "    except:\n",
    "        return [np.nan] * 30  # Return NaN for exceptions\n",
    "\n",
    "# Apply function to dataset\n",
    "mol_features = df['passivating_molecule_SMILES'].apply(compute_molecular_features)\n",
    "\n",
    "# Convert list to DataFrame\n",
    "mol_features_df = pd.DataFrame(mol_features.tolist(), \n",
    "                               columns=[\n",
    "                                   'MolWt', 'ExactMolWt', 'LogP', 'TPSA', 'NumValenceElectrons',\n",
    "                                   'NumRotBonds', 'NumHBA', 'NumHBD', 'FractionCSP3', 'AromaticRings',\n",
    "                                   'SaturatedRings', 'Heteroatoms', 'HeavyAtoms', 'SpiroAtoms', \n",
    "                                   'BridgeheadAtoms', 'FpDensityMorgan1', 'FpDensityMorgan2', \n",
    "                                   'FpDensityMorgan3', 'QED', 'LipinskiHBA', \n",
    "                                   'LipinskiHBD', 'NumRings', 'NumAmideBonds', 'BalabanJ', \n",
    "                                   'BertzCT', 'Chi0', 'Chi1', 'Chi2n', 'Kappa1', 'Kappa2'\n",
    "                               ],\n",
    "                               index=df.index)\n",
    "\n",
    "# Merge with original dataset\n",
    "df = pd.concat([df, mol_features_df], axis=1)"
   ]
  },
  {
   "cell_type": "code",
   "execution_count": 29,
   "id": "1cad6354-8900-4672-84e0-7385d0ab6708",
   "metadata": {},
   "outputs": [
    {
     "data": {
      "text/plain": [
       "Index(['first_num', 'perovskite_composition', 'electron_transport_layer',\n",
       "       'hole_transport_layer', 'structure_pin_nip', 'test', 'stability_type',\n",
       "       'passivating_molecule', 'humidity', 'temperature', 'time',\n",
       "       'control_pce', 'treated_pce', 'control_voc', 'treated_voc',\n",
       "       'efficiency_control', 'efficiency_tret', 'efficiency_cont',\n",
       "       'passivating_molecule_cleaned', 'passivating_molecule_SMILES', 'FA',\n",
       "       'MA', 'CS', 'Rb', 'Pb', 'Sn', 'I', 'Br', 'Cl', 'MolWt', 'ExactMolWt',\n",
       "       'LogP', 'TPSA', 'NumValenceElectrons', 'NumRotBonds', 'NumHBA',\n",
       "       'NumHBD', 'FractionCSP3', 'AromaticRings', 'SaturatedRings',\n",
       "       'Heteroatoms', 'HeavyAtoms', 'SpiroAtoms', 'BridgeheadAtoms',\n",
       "       'FpDensityMorgan1', 'FpDensityMorgan2', 'FpDensityMorgan3', 'QED',\n",
       "       'LipinskiHBA', 'LipinskiHBD', 'NumRings', 'NumAmideBonds', 'BalabanJ',\n",
       "       'BertzCT', 'Chi0', 'Chi1', 'Chi2n', 'Kappa1', 'Kappa2'],\n",
       "      dtype='object')"
      ]
     },
     "execution_count": 29,
     "metadata": {},
     "output_type": "execute_result"
    }
   ],
   "source": []
  },
  {
   "cell_type": "code",
   "execution_count": 35,
   "id": "0f9df452-6395-4a27-b76d-a1f3c40592b7",
   "metadata": {},
   "outputs": [],
   "source": [
    "df.to_csv('df.csv')"
   ]
  },
  {
   "cell_type": "code",
   "execution_count": null,
   "id": "48e3ba8b-80da-44dc-8a4b-e17f0fe05176",
   "metadata": {},
   "outputs": [],
   "source": []
  },
  {
   "cell_type": "code",
   "execution_count": null,
   "id": "27ff7ce6-f4e8-432d-a01e-9fd139438419",
   "metadata": {},
   "outputs": [],
   "source": [
    "df = pd.DataFrame("
   ]
  },
  {
   "cell_type": "code",
   "execution_count": null,
   "id": "8cc6b386-1016-4e95-a73e-6137c1334321",
   "metadata": {},
   "outputs": [],
   "source": []
  },
  {
   "cell_type": "code",
   "execution_count": null,
   "id": "5a1ec381-78fe-4ced-837f-625dbbb4f6cd",
   "metadata": {},
   "outputs": [],
   "source": []
  },
  {
   "cell_type": "code",
   "execution_count": null,
   "id": "00e0449e-7f5e-4321-82f0-875030134d98",
   "metadata": {},
   "outputs": [],
   "source": []
  },
  {
   "cell_type": "code",
   "execution_count": 43,
   "id": "af23997b-0f93-40de-b83b-ae8ae477dca6",
   "metadata": {},
   "outputs": [
    {
     "name": "stdout",
     "output_type": "stream",
     "text": [
      "Mean Absolute Error (MAE): 1.75\n",
      "Root Mean Squared Error (RMSE): 2.03\n",
      "R-squared (R²): 0.56\n"
     ]
    },
    {
     "name": "stderr",
     "output_type": "stream",
     "text": [
      "/opt/anaconda3/lib/python3.12/site-packages/sklearn/impute/_base.py:598: UserWarning: Skipping features without any observed values: ['efficiency_control']. At least one non-missing value is needed for imputation with strategy='median'.\n",
      "  warnings.warn(\n",
      "/opt/anaconda3/lib/python3.12/site-packages/sklearn/impute/_base.py:598: UserWarning: Skipping features without any observed values: ['efficiency_control']. At least one non-missing value is needed for imputation with strategy='median'.\n",
      "  warnings.warn(\n"
     ]
    }
   ],
   "source": [
    "import pandas as pd\n",
    "import numpy as np\n",
    "from sklearn.model_selection import train_test_split\n",
    "from sklearn.preprocessing import OneHotEncoder, StandardScaler\n",
    "from sklearn.impute import SimpleImputer\n",
    "from sklearn.pipeline import Pipeline\n",
    "from sklearn.compose import ColumnTransformer\n",
    "from sklearn.ensemble import RandomForestRegressor\n",
    "from sklearn.metrics import mean_absolute_error, mean_squared_error, r2_score\n",
    "\n",
    "# Load the dataset\n",
    "file_path = \"df.csv\"\n",
    "df = pd.read_csv(file_path)\n",
    "\n",
    "# Drop unnecessary columns\n",
    "df = df.drop(columns=[\"Unnamed: 0\", \"first_num\", 'test', 'perovskite_composition', 'passivating_molecule'])\n",
    "\n",
    "# Define target variable\n",
    "target = \"treated_pce\"\n",
    "\n",
    "# Drop rows where the target variable is NaN\n",
    "df_clean = df.dropna(subset=[target])\n",
    "\n",
    "# Separate features and target variable\n",
    "X_clean = df_clean.drop(columns=[target])\n",
    "y_clean = df_clean[target]\n",
    "\n",
    "# Identify categorical and numerical columns\n",
    "categorical_cols = X_clean.select_dtypes(include=[\"object\"]).columns.tolist()\n",
    "numerical_cols = X_clean.select_dtypes(include=[\"int64\", \"float64\"]).columns.tolist()\n",
    "\n",
    "# Handle NaNs in categorical columns by treating them as a separate category\n",
    "cat_imputer = SimpleImputer(strategy=\"constant\", fill_value=\"Missing\")\n",
    "cat_encoder = OneHotEncoder(handle_unknown=\"ignore\")\n",
    "\n",
    "# Handle NaNs in numerical columns by imputing with the median\n",
    "num_imputer = SimpleImputer(strategy=\"median\")\n",
    "num_scaler = StandardScaler()\n",
    "\n",
    "# Preprocessing pipeline\n",
    "preprocessor = ColumnTransformer(\n",
    "    transformers=[\n",
    "        (\"num\", Pipeline([(\"imputer\", num_imputer), (\"scaler\", num_scaler)]), numerical_cols),\n",
    "        (\"cat\", Pipeline([(\"imputer\", cat_imputer), (\"encoder\", cat_encoder)]), categorical_cols),\n",
    "    ]\n",
    ")\n",
    "\n",
    "# Define model\n",
    "model = RandomForestRegressor(n_estimators=100, random_state=42)\n",
    "\n",
    "# Create full pipeline\n",
    "pipeline = Pipeline([(\"preprocessor\", preprocessor), (\"model\", model)])\n",
    "\n",
    "# Split the cleaned data\n",
    "X_train, X_test, y_train, y_test = train_test_split(X_clean, y_clean, test_size=0.2, random_state=42)\n",
    "\n",
    "# Train model\n",
    "pipeline.fit(X_train, y_train)\n",
    "\n",
    "# Predictions\n",
    "y_pred = pipeline.predict(X_test)\n",
    "\n",
    "# Evaluate model\n",
    "mae = mean_absolute_error(y_test, y_pred)\n",
    "mse = mean_squared_error(y_test, y_pred)\n",
    "rmse = np.sqrt(mse)\n",
    "r2 = r2_score(y_test, y_pred)\n",
    "\n",
    "# Display evaluation metrics\n",
    "print(f\"Mean Absolute Error (MAE): {mae:.2f}\")\n",
    "print(f\"Root Mean Squared Error (RMSE): {rmse:.2f}\")\n",
    "print(f\"R-squared (R²): {r2:.2f}\")"
   ]
  },
  {
   "cell_type": "code",
   "execution_count": null,
   "id": "9ac5e420-dfa7-466a-8556-4af07883c14a",
   "metadata": {},
   "outputs": [],
   "source": []
  }
 ],
 "metadata": {
  "kernelspec": {
   "display_name": "Python [conda env:base] *",
   "language": "python",
   "name": "conda-base-py"
  },
  "language_info": {
   "codemirror_mode": {
    "name": "ipython",
    "version": 3
   },
   "file_extension": ".py",
   "mimetype": "text/x-python",
   "name": "python",
   "nbconvert_exporter": "python",
   "pygments_lexer": "ipython3",
   "version": "3.12.7"
  }
 },
 "nbformat": 4,
 "nbformat_minor": 5
}
