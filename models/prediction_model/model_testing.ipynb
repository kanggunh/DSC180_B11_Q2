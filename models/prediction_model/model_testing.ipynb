{
 "cells": [
  {
   "cell_type": "markdown",
   "id": "e5f480ea",
   "metadata": {},
   "source": [
    "### Table of Content\n",
    "- [`passivating_molecule` into SMILES format](Converting-`passivating_molecule`-into-SMILES-format)\n",
    "- [`perovskite_composition` into features](`perovskite_composition`-into-features)\n",
    "- [baseline ML model](baseline-ML-model)"
   ]
  },
  {
   "cell_type": "code",
   "execution_count": 1,
   "id": "92bd17a0",
   "metadata": {
    "scrolled": true
   },
   "outputs": [],
   "source": [
    "import pandas as pd\n",
    "import numpy as np\n",
    "import pubchempy as pcp"
   ]
  },
  {
   "cell_type": "code",
   "execution_count": 2,
   "id": "b0b7e961-7ddb-4ac3-b880-045a083525b1",
   "metadata": {},
   "outputs": [],
   "source": [
    "from rdkit import Chem\n",
    "from rdkit.Chem import Descriptors, rdMolDescriptors"
   ]
  },
  {
   "cell_type": "code",
   "execution_count": 3,
   "id": "902197de",
   "metadata": {
    "scrolled": true
   },
   "outputs": [
    {
     "name": "stdout",
     "output_type": "stream",
     "text": [
      "<class 'pandas.core.frame.DataFrame'>\n",
      "Index: 149 entries, 0 to 149\n",
      "Data columns (total 11 columns):\n",
      " #   Column                    Non-Null Count  Dtype \n",
      "---  ------                    --------------  ----- \n",
      " 0   control_pce               71 non-null     object\n",
      " 1   control_voc               53 non-null     object\n",
      " 2   treated_pce               140 non-null    object\n",
      " 3   treated_voc               124 non-null    object\n",
      " 4   passivating_molecule      143 non-null    object\n",
      " 5   perovskite_composition    134 non-null    object\n",
      " 6   electron_transport_layer  118 non-null    object\n",
      " 7   hole_transport_layer      115 non-null    object\n",
      " 8   pin_nip_structure         147 non-null    object\n",
      " 9   stability_tests           149 non-null    object\n",
      " 10  pin_structure             1 non-null      object\n",
      "dtypes: object(11)\n",
      "memory usage: 14.0+ KB\n"
     ]
    }
   ],
   "source": [
    "df = pd.read_json('data/finetuned_llama_output.json')\n",
    "data = df.T.sort_index()\n",
    "data.info()"
   ]
  },
  {
   "cell_type": "code",
   "execution_count": 5,
   "id": "b7daef81",
   "metadata": {},
   "outputs": [
    {
     "data": {
      "text/html": [
       "<div>\n",
       "<style scoped>\n",
       "    .dataframe tbody tr th:only-of-type {\n",
       "        vertical-align: middle;\n",
       "    }\n",
       "\n",
       "    .dataframe tbody tr th {\n",
       "        vertical-align: top;\n",
       "    }\n",
       "\n",
       "    .dataframe thead th {\n",
       "        text-align: right;\n",
       "    }\n",
       "</style>\n",
       "<table border=\"1\" class=\"dataframe\">\n",
       "  <thead>\n",
       "    <tr style=\"text-align: right;\">\n",
       "      <th></th>\n",
       "      <th>control_pce</th>\n",
       "      <th>control_voc</th>\n",
       "      <th>treated_pce</th>\n",
       "      <th>treated_voc</th>\n",
       "      <th>passivating_molecule</th>\n",
       "      <th>perovskite_composition</th>\n",
       "      <th>electron_transport_layer</th>\n",
       "      <th>hole_transport_layer</th>\n",
       "      <th>pin_nip_structure</th>\n",
       "      <th>stability_tests</th>\n",
       "      <th>pin_structure</th>\n",
       "    </tr>\n",
       "  </thead>\n",
       "  <tbody>\n",
       "    <tr>\n",
       "      <th>0</th>\n",
       "      <td>25.7</td>\n",
       "      <td>1.17</td>\n",
       "      <td>26.15</td>\n",
       "      <td>1.18</td>\n",
       "      <td>4-chlorobenzenesulfonate (4Cl-BZS)</td>\n",
       "      <td>α-phase FAPbI3</td>\n",
       "      <td>C60</td>\n",
       "      <td>SAMs (self-assembled monolayers)</td>\n",
       "      <td>PIN</td>\n",
       "      <td>[{'test_name': 'ISOS-D-2I', 'temperature': 85,...</td>\n",
       "      <td>NaN</td>\n",
       "    </tr>\n",
       "    <tr>\n",
       "      <th>3</th>\n",
       "      <td>24.5</td>\n",
       "      <td>1.20</td>\n",
       "      <td>24.50</td>\n",
       "      <td>1.20</td>\n",
       "      <td>BA2MA2Pb3I10</td>\n",
       "      <td>BA2MA2Pb3I10</td>\n",
       "      <td>SnO2</td>\n",
       "      <td>PTAA</td>\n",
       "      <td>PIN</td>\n",
       "      <td>[{'test_name': 'ISOS-L-1', 'temperature': None...</td>\n",
       "      <td>NaN</td>\n",
       "    </tr>\n",
       "    <tr>\n",
       "      <th>4</th>\n",
       "      <td>NaN</td>\n",
       "      <td>NaN</td>\n",
       "      <td>21.06</td>\n",
       "      <td>1.14</td>\n",
       "      <td>vinylbenzylammonium bromide (VBABr)</td>\n",
       "      <td>(FAPbI3)0.95(MAPbBr3)0.05</td>\n",
       "      <td>Spiro-OMeTAD</td>\n",
       "      <td>Spiro-OMeTAD</td>\n",
       "      <td>PIN</td>\n",
       "      <td>[{'test_name': None, 'temperature': None, 'tim...</td>\n",
       "      <td>NaN</td>\n",
       "    </tr>\n",
       "    <tr>\n",
       "      <th>5</th>\n",
       "      <td>NaN</td>\n",
       "      <td>NaN</td>\n",
       "      <td>22.10</td>\n",
       "      <td>1135.00</td>\n",
       "      <td>iso-BAI</td>\n",
       "      <td>FA(MA)PbI3</td>\n",
       "      <td>Spiro-OMeTAD</td>\n",
       "      <td>TPBI</td>\n",
       "      <td>PIN</td>\n",
       "      <td>[{'test_name': 'ISOS-LT', 'temperature': None,...</td>\n",
       "      <td>NaN</td>\n",
       "    </tr>\n",
       "    <tr>\n",
       "      <th>6</th>\n",
       "      <td>NaN</td>\n",
       "      <td>NaN</td>\n",
       "      <td>15.30</td>\n",
       "      <td>1.06</td>\n",
       "      <td>phenylethylammonium</td>\n",
       "      <td>PEA2(CH3NH3)n-1Pb(nI3n+1)</td>\n",
       "      <td>TiO2</td>\n",
       "      <td>spiro-OMeTAD</td>\n",
       "      <td>PIN</td>\n",
       "      <td>[{'test_name': 'ISOS-D', 'temperature': None, ...</td>\n",
       "      <td>NaN</td>\n",
       "    </tr>\n",
       "  </tbody>\n",
       "</table>\n",
       "</div>"
      ],
      "text/plain": [
       "   control_pce  control_voc  treated_pce  treated_voc  \\\n",
       "0         25.7         1.17        26.15         1.18   \n",
       "3         24.5         1.20        24.50         1.20   \n",
       "4          NaN          NaN        21.06         1.14   \n",
       "5          NaN          NaN        22.10      1135.00   \n",
       "6          NaN          NaN        15.30         1.06   \n",
       "\n",
       "                  passivating_molecule     perovskite_composition  \\\n",
       "0   4-chlorobenzenesulfonate (4Cl-BZS)             α-phase FAPbI3   \n",
       "3                         BA2MA2Pb3I10               BA2MA2Pb3I10   \n",
       "4  vinylbenzylammonium bromide (VBABr)  (FAPbI3)0.95(MAPbBr3)0.05   \n",
       "5                              iso-BAI                 FA(MA)PbI3   \n",
       "6                  phenylethylammonium  PEA2(CH3NH3)n-1Pb(nI3n+1)   \n",
       "\n",
       "  electron_transport_layer              hole_transport_layer  \\\n",
       "0                      C60  SAMs (self-assembled monolayers)   \n",
       "3                     SnO2                              PTAA   \n",
       "4             Spiro-OMeTAD                      Spiro-OMeTAD   \n",
       "5             Spiro-OMeTAD                              TPBI   \n",
       "6                     TiO2                      spiro-OMeTAD   \n",
       "\n",
       "  pin_nip_structure                                    stability_tests  \\\n",
       "0               PIN  [{'test_name': 'ISOS-D-2I', 'temperature': 85,...   \n",
       "3               PIN  [{'test_name': 'ISOS-L-1', 'temperature': None...   \n",
       "4               PIN  [{'test_name': None, 'temperature': None, 'tim...   \n",
       "5               PIN  [{'test_name': 'ISOS-LT', 'temperature': None,...   \n",
       "6               PIN  [{'test_name': 'ISOS-D', 'temperature': None, ...   \n",
       "\n",
       "  pin_structure  \n",
       "0           NaN  \n",
       "3           NaN  \n",
       "4           NaN  \n",
       "5           NaN  \n",
       "6           NaN  "
      ]
     },
     "execution_count": 5,
     "metadata": {},
     "output_type": "execute_result"
    }
   ],
   "source": [
    "# Function to select columns\n",
    "def select_data(df):\n",
    "    # Convert PCE and VOC to numeric\n",
    "    for col in ['control_pce', 'control_voc', 'treated_pce', 'treated_voc']:\n",
    "        df[col] = pd.to_numeric(df[col], errors='coerce')\n",
    "\n",
    "    # Drop rows where treated_pce or passivating_molecule is missing\n",
    "    df = df.dropna(subset=['treated_pce', 'passivating_molecule', 'perovskite_composition'])\n",
    "\n",
    "    return df\n",
    "\n",
    "data = select_data(data)\n",
    "data.head()"
   ]
  },
  {
   "cell_type": "code",
   "execution_count": 9,
   "id": "58ff2111",
   "metadata": {},
   "outputs": [
    {
     "data": {
      "text/plain": [
       "control_pce                  59\n",
       "control_voc                  73\n",
       "treated_pce                   0\n",
       "treated_voc                  10\n",
       "passivating_molecule          0\n",
       "perovskite_composition        0\n",
       "electron_transport_layer     19\n",
       "hole_transport_layer         20\n",
       "pin_nip_structure             0\n",
       "stability_tests               0\n",
       "pin_structure               107\n",
       "dtype: int64"
      ]
     },
     "execution_count": 9,
     "metadata": {},
     "output_type": "execute_result"
    }
   ],
   "source": [
    "data.isna().sum(axis=0)"
   ]
  },
  {
   "cell_type": "markdown",
   "id": "40024404",
   "metadata": {},
   "source": [
    "## `passivating_molecule` into SMILES format"
   ]
  },
  {
   "cell_type": "code",
   "execution_count": 12,
   "id": "cd918272",
   "metadata": {},
   "outputs": [],
   "source": [
    "def fetch_smiles_from_name(molecule_name):\n",
    "    try:\n",
    "        # Search for the molecule in PubChem by name\n",
    "        compounds = pcp.get_compounds(molecule_name, 'name')\n",
    "        if compounds:\n",
    "            return compounds[0].isomeric_smiles  # Return the first match's SMILES\n",
    "        else:\n",
    "            return np.nan\n",
    "    except Exception as e:\n",
    "        print(f\"Error fetching SMILES for {molecule_name}: {e}\")\n",
    "        return None"
   ]
  },
  {
   "cell_type": "code",
   "execution_count": 14,
   "id": "58745d18",
   "metadata": {},
   "outputs": [
    {
     "data": {
      "text/plain": [
       "0                     4-chlorobenzenesulfonate (4Cl-BZS)\n",
       "3                                           BA2MA2Pb3I10\n",
       "4                    vinylbenzylammonium bromide (VBABr)\n",
       "5                                                iso-BAI\n",
       "6                                    phenylethylammonium\n",
       "                             ...                        \n",
       "144                                               GlyHCl\n",
       "145                                4-fluoroaniline (FAL)\n",
       "147    4-(3,6-bis(4-(bis(4-methoxyphenyl)amino)phenyl...\n",
       "148           4-tert-butyl-benzylammonium iodide (tBBAI)\n",
       "149            4-trifluoromethyl-phenylammonium (CF3-PA)\n",
       "Name: passivating_molecule, Length: 107, dtype: object"
      ]
     },
     "execution_count": 14,
     "metadata": {},
     "output_type": "execute_result"
    }
   ],
   "source": [
    "data['passivating_molecule']"
   ]
  },
  {
   "cell_type": "markdown",
   "id": "797576f1",
   "metadata": {},
   "source": [
    "### Cleaning Data"
   ]
  },
  {
   "cell_type": "code",
   "execution_count": 17,
   "id": "f7984c6a",
   "metadata": {},
   "outputs": [],
   "source": [
    "import re\n",
    "\n",
    "def fix_unmatched_brackets(s):\n",
    "    \"\"\"\n",
    "    Fixes unmatched brackets in the given string by adding the correct brackets where necessary.\n",
    "\n",
    "    :param s: Input string with potential unmatched brackets.\n",
    "    :return: A corrected string with properly balanced brackets.\n",
    "    \"\"\"\n",
    "    opening = \"({[\"\n",
    "    closing = \")}]\"\n",
    "    match = {')': '(', '}': '{', ']': '['}\n",
    "    stack = []\n",
    "\n",
    "    # Step 1: Identify missing closing brackets\n",
    "    fixed_s = []\n",
    "    for char in s:\n",
    "        if char in opening:\n",
    "            stack.append(char)\n",
    "            fixed_s.append(char)\n",
    "        elif char in closing:\n",
    "            if stack and stack[-1] == match[char]:\n",
    "                stack.pop()\n",
    "                fixed_s.append(char)\n",
    "            else:\n",
    "                # Add missing opening bracket before unmatched closing\n",
    "                fixed_s.insert(0, match[char])\n",
    "                fixed_s.append(char)\n",
    "        else:\n",
    "            fixed_s.append(char)\n",
    "\n",
    "    # Step 2: Add missing closing brackets at the end\n",
    "    while stack:\n",
    "        open_bracket = stack.pop()\n",
    "        fixed_s.append(closing[opening.index(open_bracket)])\n",
    "\n",
    "    return \"\".join(fixed_s)\n",
    "\n",
    "\n",
    "def get_chemical_names(chemical_list):\n",
    "    cleaned_list = []\n",
    "    for name in chemical_list:\n",
    "        # Remove text inside parentheses only if it's extra information (abbreviations)\n",
    "        name = re.sub(r\"\\s*\\([^)]*\\)$\", \"\", name).strip() \n",
    "        # Remove spaces after a closing bracket (ensure proper chemical formatting)\n",
    "        name = re.sub(r\"\\] +\", \"]\", name)\n",
    "\n",
    "        cleaned_list.append(name)\n",
    "\n",
    "    return cleaned_list"
   ]
  },
  {
   "cell_type": "code",
   "execution_count": 19,
   "id": "7fa4e234",
   "metadata": {},
   "outputs": [],
   "source": [
    "# Example input list\n",
    "lst = data['passivating_molecule']\n",
    "\n",
    "# Cleaning the list\n",
    "cleaned_list = lst.apply(lambda x: fix_unmatched_brackets(x))\n",
    "cleaned_list = get_chemical_names(cleaned_list)\n",
    "\n",
    "# Output result\n",
    "data['passivating_molecule_cleaned'] = cleaned_list"
   ]
  },
  {
   "cell_type": "code",
   "execution_count": 21,
   "id": "70457572-4e06-4ca4-9a44-7a22b6bbdda4",
   "metadata": {},
   "outputs": [],
   "source": [
    "data['passivating_molecule_SMILES'] = data['passivating_molecule_cleaned'].apply(fetch_smiles_from_name)"
   ]
  },
  {
   "cell_type": "code",
   "execution_count": 22,
   "id": "c854c825-0b5c-4f00-a355-83971ffe5e8e",
   "metadata": {
    "scrolled": true
   },
   "outputs": [
    {
     "data": {
      "text/plain": [
       "64"
      ]
     },
     "execution_count": 22,
     "metadata": {},
     "output_type": "execute_result"
    }
   ],
   "source": [
    "data['passivating_molecule_SMILES'].isna().sum()"
   ]
  },
  {
   "cell_type": "code",
   "execution_count": 23,
   "id": "36f87613-284c-46fe-8e42-3bedd695443c",
   "metadata": {},
   "outputs": [],
   "source": [
    "# temporary smaller data with all SMILES\n",
    "temp_data = data[~data['passivating_molecule_SMILES'].isna()]"
   ]
  },
  {
   "cell_type": "code",
   "execution_count": 24,
   "id": "88831820-ee12-4ec0-8203-a58b4209a8f8",
   "metadata": {},
   "outputs": [
    {
     "data": {
      "text/plain": [
       "control_pce                     23\n",
       "control_voc                     30\n",
       "treated_pce                      0\n",
       "treated_voc                      4\n",
       "passivating_molecule             0\n",
       "perovskite_composition           0\n",
       "electron_transport_layer         8\n",
       "hole_transport_layer             8\n",
       "pin_nip_structure                0\n",
       "stability_tests                  0\n",
       "pin_structure                   43\n",
       "passivating_molecule_cleaned     0\n",
       "passivating_molecule_SMILES      0\n",
       "dtype: int64"
      ]
     },
     "execution_count": 24,
     "metadata": {},
     "output_type": "execute_result"
    }
   ],
   "source": [
    "temp_data.isna().sum()"
   ]
  },
  {
   "cell_type": "markdown",
   "id": "ae9fe69a",
   "metadata": {},
   "source": [
    "## `perovskite_composition` into features"
   ]
  },
  {
   "cell_type": "code",
   "execution_count": 29,
   "id": "d7b43f95",
   "metadata": {
    "scrolled": true
   },
   "outputs": [
    {
     "name": "stdout",
     "output_type": "stream",
     "text": [
      "{'Br': 0.15000000000000002, 'Pb': 1.0, 'M': 0.05, 'A': 1.0, 'I': 2.8499999999999996, 'F': 0.95}\n"
     ]
    }
   ],
   "source": [
    "import chemparse\n",
    "\n",
    "# Example formula\n",
    "formula = \"(FAPbI3)0.95(MAPbBr3)0.05\"\n",
    "\n",
    "# Parse formula\n",
    "result = chemparse.parse_formula(formula)\n",
    "print(result)  # Output: {'FA': 0.95, 'Pb': 1.0, 'I': 2.85, 'MA': 0.05, 'Br': 0.15}"
   ]
  },
  {
   "cell_type": "code",
   "execution_count": 31,
   "id": "1269ccca-0f9c-4d02-bccf-edded3ca857b",
   "metadata": {
    "scrolled": true
   },
   "outputs": [
    {
     "name": "stderr",
     "output_type": "stream",
     "text": [
      "/var/folders/_c/tmnx15c54v7cn_b4tx022flc0000gn/T/ipykernel_96676/2848759358.py:1: SettingWithCopyWarning: \n",
      "A value is trying to be set on a copy of a slice from a DataFrame.\n",
      "Try using .loc[row_indexer,col_indexer] = value instead\n",
      "\n",
      "See the caveats in the documentation: https://pandas.pydata.org/pandas-docs/stable/user_guide/indexing.html#returning-a-view-versus-a-copy\n",
      "  temp_data['perovskite_composition_'] = temp_data['perovskite_composition'].apply(chemparse.parse_formula)\n"
     ]
    }
   ],
   "source": [
    "temp_data['perovskite_composition_'] = temp_data['perovskite_composition'].apply(chemparse.parse_formula)"
   ]
  },
  {
   "cell_type": "code",
   "execution_count": 33,
   "id": "aa3f2abb-4931-4c02-9a49-d219d5ecf8c5",
   "metadata": {},
   "outputs": [
    {
     "name": "stdout",
     "output_type": "stream",
     "text": [
      "43\n"
     ]
    }
   ],
   "source": [
    "print(len(temp_data))  # Should be 43"
   ]
  },
  {
   "cell_type": "markdown",
   "id": "45703b2f",
   "metadata": {},
   "source": [
    "## some molecular features"
   ]
  },
  {
   "cell_type": "code",
   "execution_count": 35,
   "id": "0cbdedab-0632-4567-9a10-c5e1ff837845",
   "metadata": {},
   "outputs": [],
   "source": [
    "import numpy as np\n",
    "import pandas as pd\n",
    "from rdkit import Chem\n",
    "from rdkit.Chem import Descriptors, rdMolDescriptors\n",
    "\n",
    "def compute_molecular_features(smiles):\n",
    "    try:\n",
    "        mol = Chem.MolFromSmiles(smiles)\n",
    "        if mol:\n",
    "            return [\n",
    "                Descriptors.MolWt(mol),  # Molecular weight\n",
    "                Descriptors.ExactMolWt(mol),  # Exact molecular weight (isotope-specific)\n",
    "                Descriptors.MolLogP(mol),  # LogP (lipophilicity)\n",
    "                Descriptors.TPSA(mol),  # Topological Polar Surface Area\n",
    "                Descriptors.NumValenceElectrons(mol),  # Total valence electrons\n",
    "                rdMolDescriptors.CalcNumRotatableBonds(mol),  # Rotatable bonds\n",
    "                rdMolDescriptors.CalcNumHBA(mol),  # Hydrogen bond acceptors\n",
    "                rdMolDescriptors.CalcNumHBD(mol),  # Hydrogen bond donors\n",
    "                rdMolDescriptors.CalcFractionCSP3(mol),  # Fraction of sp3 carbons\n",
    "                rdMolDescriptors.CalcNumAromaticRings(mol),  # Number of aromatic rings\n",
    "                rdMolDescriptors.CalcNumSaturatedRings(mol),  # Number of saturated rings\n",
    "                rdMolDescriptors.CalcNumHeteroatoms(mol),  # Number of heteroatoms\n",
    "                rdMolDescriptors.CalcNumHeavyAtoms(mol),  # Number of heavy atoms\n",
    "                rdMolDescriptors.CalcNumSpiroAtoms(mol),  # Number of spiro atoms\n",
    "                rdMolDescriptors.CalcNumBridgeheadAtoms(mol),  # Number of bridgehead atoms\n",
    "                Descriptors.FpDensityMorgan1(mol),  # Morgan fingerprint density (radius=1)\n",
    "                Descriptors.FpDensityMorgan2(mol),  # Morgan fingerprint density (radius=2)\n",
    "                Descriptors.FpDensityMorgan3(mol),  # Morgan fingerprint density (radius=3)\n",
    "                Descriptors.qed(mol),  # Quantitative Estimate of Drug-likeness\n",
    "                rdMolDescriptors.CalcNumLipinskiHBA(mol),  # Lipinski Hydrogen Bond Acceptors\n",
    "                rdMolDescriptors.CalcNumLipinskiHBD(mol),  # Lipinski Hydrogen Bond Donors\n",
    "                rdMolDescriptors.CalcNumRings(mol),  # Total number of rings\n",
    "                rdMolDescriptors.CalcNumAmideBonds(mol),  # Number of amide bonds\n",
    "                Descriptors.BalabanJ(mol),  # Balaban’s connectivity index\n",
    "                Descriptors.BertzCT(mol),  # Bertz complexity\n",
    "                Descriptors.Chi0(mol),  # Chi connectivity index (order 0)\n",
    "                Descriptors.Chi1(mol),  # Chi connectivity index (order 1)\n",
    "                Descriptors.Chi2n(mol),  # Chi connectivity index (order 2, non-H)\n",
    "                Descriptors.Kappa1(mol),  # Kappa Shape Index (order 1)\n",
    "                Descriptors.Kappa2(mol),  # Kappa Shape Index (order 2)\n",
    "            ]\n",
    "        else:\n",
    "            return [np.nan] * 30  # Return NaN for missing values\n",
    "    except:\n",
    "        return [np.nan] * 30  # Return NaN for exceptions\n",
    "\n",
    "# Apply function to dataset\n",
    "mol_features = temp_data['passivating_molecule_SMILES'].apply(compute_molecular_features)\n",
    "\n",
    "# Convert list to DataFrame\n",
    "mol_features_df = pd.DataFrame(mol_features.tolist(), \n",
    "                               columns=[\n",
    "                                   'MolWt', 'ExactMolWt', 'LogP', 'TPSA', 'NumValenceElectrons',\n",
    "                                   'NumRotBonds', 'NumHBA', 'NumHBD', 'FractionCSP3', 'AromaticRings',\n",
    "                                   'SaturatedRings', 'Heteroatoms', 'HeavyAtoms', 'SpiroAtoms', \n",
    "                                   'BridgeheadAtoms', 'FpDensityMorgan1', 'FpDensityMorgan2', \n",
    "                                   'FpDensityMorgan3', 'QED', 'LipinskiHBA', \n",
    "                                   'LipinskiHBD', 'NumRings', 'NumAmideBonds', 'BalabanJ', \n",
    "                                   'BertzCT', 'Chi0', 'Chi1', 'Chi2n', 'Kappa1', 'Kappa2'\n",
    "                               ],\n",
    "                               index=temp_data.index)\n",
    "\n",
    "# Merge with original dataset\n",
    "temp_data = pd.concat([temp_data, mol_features_df], axis=1)"
   ]
  },
  {
   "cell_type": "code",
   "execution_count": 41,
   "id": "f6a5acc4-1028-4883-8261-44a38e395691",
   "metadata": {
    "scrolled": true
   },
   "outputs": [
    {
     "data": {
      "text/plain": [
       "(43, 44)"
      ]
     },
     "execution_count": 41,
     "metadata": {},
     "output_type": "execute_result"
    }
   ],
   "source": [
    "temp_data.shape"
   ]
  },
  {
   "cell_type": "code",
   "execution_count": 43,
   "id": "a42a1f24-4a94-4fab-9ad5-4fd897e42653",
   "metadata": {},
   "outputs": [
    {
     "name": "stdout",
     "output_type": "stream",
     "text": [
      "Training Mean Squared Error: 1.78\n",
      "Training R-squared: 0.80\n",
      "Testing Mean Squared Error: 3.36\n",
      "Testing R-squared: -0.12\n"
     ]
    }
   ],
   "source": [
    "import pandas as pd\n",
    "from sklearn.model_selection import train_test_split\n",
    "from sklearn.ensemble import RandomForestRegressor\n",
    "from sklearn.metrics import mean_squared_error, r2_score\n",
    "\n",
    "# Assuming `temp_data` contains the full dataset with the required columns\n",
    "features = [\n",
    "                                   'MolWt', 'ExactMolWt', 'LogP', 'TPSA', 'NumValenceElectrons',\n",
    "                                   'NumRotBonds', 'NumHBA', 'NumHBD', 'FractionCSP3', 'AromaticRings',\n",
    "                                   'SaturatedRings', 'Heteroatoms', 'HeavyAtoms', 'SpiroAtoms', \n",
    "                                   'BridgeheadAtoms', 'FpDensityMorgan1', 'FpDensityMorgan2', \n",
    "                                   'FpDensityMorgan3', 'QED', 'LipinskiHBA', \n",
    "                                   'LipinskiHBD', 'NumRings', 'NumAmideBonds', 'BalabanJ', \n",
    "                                   'BertzCT', 'Chi0', 'Chi1', 'Chi2n', 'Kappa1', 'Kappa2'\n",
    "                               ]\n",
    "target = 'treated_pce'\n",
    "\n",
    "# Drop rows with missing values in the features or target\n",
    "data = temp_data\n",
    "\n",
    "# Split into features (X) and target (y)\n",
    "X = data[features]\n",
    "y = data[target]\n",
    "\n",
    "# Split into training and testing sets (80% train, 20% test)\n",
    "X_train, X_test, y_train, y_test = train_test_split(X, y, test_size=0.2)\n",
    "\n",
    "# Train a Random Forest Regressor\n",
    "model = RandomForestRegressor()\n",
    "model.fit(X_train, y_train)\n",
    "\n",
    "# Make predictions\n",
    "y_train_pred = model.predict(X_train)\n",
    "y_test_pred = model.predict(X_test)\n",
    "\n",
    "# Evaluate the model\n",
    "train_mse = mean_squared_error(y_train, y_train_pred)\n",
    "train_r2 = r2_score(y_train, y_train_pred)\n",
    "\n",
    "test_mse = mean_squared_error(y_test, y_test_pred)\n",
    "test_r2 = r2_score(y_test, y_test_pred)\n",
    "\n",
    "print(f\"Training Mean Squared Error: {train_mse:.2f}\")\n",
    "print(f\"Training R-squared: {train_r2:.2f}\")\n",
    "print(f\"Testing Mean Squared Error: {test_mse:.2f}\")\n",
    "print(f\"Testing R-squared: {test_r2:.2f}\")"
   ]
  },
  {
   "cell_type": "code",
   "execution_count": 51,
   "id": "a6a6d141-611d-459c-a358-05babc0b30ec",
   "metadata": {},
   "outputs": [
    {
     "name": "stdout",
     "output_type": "stream",
     "text": [
      "Mean Squared Error (MSE): 2874.09\n",
      "R-squared: -952.35\n"
     ]
    }
   ],
   "source": [
    "from sklearn.linear_model import LinearRegression\n",
    "from sklearn.metrics import mean_squared_error, r2_score\n",
    "import numpy as np\n",
    "\n",
    "# Initialize and train the model\n",
    "linear_model = LinearRegression()\n",
    "linear_model.fit(X_train, y_train)\n",
    "\n",
    "# Make predictions\n",
    "y_pred = linear_model.predict(X_test)\n",
    "\n",
    "# Evaluate the model\n",
    "mse = mean_squared_error(y_test, y_pred)\n",
    "r2 = r2_score(y_test, y_pred)\n",
    "\n",
    "print(f\"Mean Squared Error (MSE): {mse:.2f}\")\n",
    "print(f\"R-squared: {r2:.2f}\")"
   ]
  },
  {
   "cell_type": "code",
   "execution_count": 53,
   "id": "b6645751-ce01-40bf-9a8c-c3f9d7370ba7",
   "metadata": {},
   "outputs": [
    {
     "data": {
      "image/png": "[encoded data removed]",
      "text/plain": [
       "<Figure size 800x600 with 1 Axes>"
      ]
     },
     "metadata": {},
     "output_type": "display_data"
    }
   ],
   "source": [
    "import matplotlib.pyplot as plt\n",
    "import seaborn as sns\n",
    "\n",
    "coefficients = pd.DataFrame({\n",
    "    'Feature': features,\n",
    "    'Coefficient': linear_model.coef_\n",
    "})\n",
    "\n",
    "plt.figure(figsize=(8, 6))\n",
    "coefficients = coefficients.sort_values(by='Coefficient', ascending=False)\n",
    "sns.barplot(x='Coefficient', y='Feature', data=coefficients)\n",
    "plt.title('Linear Regression Coefficients')\n",
    "plt.grid(True)\n",
    "plt.show()"
   ]
  },
  {
   "cell_type": "code",
   "execution_count": null,
   "id": "102aaa13-3913-4057-870f-57e85a710298",
   "metadata": {},
   "outputs": [],
   "source": []
  }
 ],
 "metadata": {
  "kernelspec": {
   "display_name": "Python [conda env:base] *",
   "language": "python",
   "name": "conda-base-py"
  },
  "language_info": {
   "codemirror_mode": {
    "name": "ipython",
    "version": 3
   },
   "file_extension": ".py",
   "mimetype": "text/x-python",
   "name": "python",
   "nbconvert_exporter": "python",
   "pygments_lexer": "ipython3",
   "version": "3.12.7"
  }
 },
 "nbformat": 4,
 "nbformat_minor": 5
}
