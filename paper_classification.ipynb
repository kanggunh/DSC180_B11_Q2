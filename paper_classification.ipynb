{
 "cells": [
  {
   "cell_type": "code",
   "execution_count": 183,
   "metadata": {},
   "outputs": [],
   "source": [
    "import pandas as pd\n",
    "import pickle\n",
    "from sklearn.feature_extraction.text import TfidfVectorizer\n",
    "from sklearn.metrics import precision_recall_curve\n",
    "import os\n",
    "import re"
   ]
  },
  {
   "cell_type": "code",
   "execution_count": 208,
   "metadata": {},
   "outputs": [
    {
     "data": {
      "text/html": [
       "<div>\n",
       "<style scoped>\n",
       "    .dataframe tbody tr th:only-of-type {\n",
       "        vertical-align: middle;\n",
       "    }\n",
       "\n",
       "    .dataframe tbody tr th {\n",
       "        vertical-align: top;\n",
       "    }\n",
       "\n",
       "    .dataframe thead th {\n",
       "        text-align: right;\n",
       "    }\n",
       "</style>\n",
       "<table border=\"1\" class=\"dataframe\">\n",
       "  <thead>\n",
       "    <tr style=\"text-align: right;\">\n",
       "      <th></th>\n",
       "      <th>Unnamed: 0</th>\n",
       "      <th>DOI</th>\n",
       "      <th>URL</th>\n",
       "      <th>year</th>\n",
       "      <th>title</th>\n",
       "      <th>publisher</th>\n",
       "      <th>text</th>\n",
       "    </tr>\n",
       "  </thead>\n",
       "  <tbody>\n",
       "    <tr>\n",
       "      <th>0</th>\n",
       "      <td>0</td>\n",
       "      <td>10.1002/9781119578826.ch15</td>\n",
       "      <td>https://doi.org/10.1002/9781119578826.ch15</td>\n",
       "      <td>2024</td>\n",
       "      <td>['Quantum Dots Solar Cells']</td>\n",
       "      <td>Wiley</td>\n",
       "      <td>Paper #: 7386_1\\nTitle: Role of carrier deloca...</td>\n",
       "    </tr>\n",
       "    <tr>\n",
       "      <th>1</th>\n",
       "      <td>1</td>\n",
       "      <td>10.1002/9781119578826.ch16</td>\n",
       "      <td>https://doi.org/10.1002/9781119578826.ch16</td>\n",
       "      <td>2024</td>\n",
       "      <td>['Singlet Fission for Solar Cells']</td>\n",
       "      <td>Wiley</td>\n",
       "      <td>Paper #: 7742_1\\nTitle: Perovskite-Based Tande...</td>\n",
       "    </tr>\n",
       "    <tr>\n",
       "      <th>2</th>\n",
       "      <td>2</td>\n",
       "      <td>10.1002/9781119578826.ch27</td>\n",
       "      <td>https://doi.org/10.1002/9781119578826.ch27</td>\n",
       "      <td>2024</td>\n",
       "      <td>['Deployment of&lt;scp&gt;Solar&lt;/scp&gt;Photovoltaic Sy...</td>\n",
       "      <td>Wiley</td>\n",
       "      <td>Paper #: 9299_1\\nTitle: Inhomogeneous Halide A...</td>\n",
       "    </tr>\n",
       "    <tr>\n",
       "      <th>3</th>\n",
       "      <td>3</td>\n",
       "      <td>10.1002/9781119578826.ch6</td>\n",
       "      <td>https://doi.org/10.1002/9781119578826.ch6</td>\n",
       "      <td>2024</td>\n",
       "      <td>['Tunnel Oxide Passivated Contact (&lt;scp&gt;TOPCon...</td>\n",
       "      <td>Wiley</td>\n",
       "      <td>Paper #: 7949_1\\nTitle: Efficiency assessment ...</td>\n",
       "    </tr>\n",
       "    <tr>\n",
       "      <th>4</th>\n",
       "      <td>5</td>\n",
       "      <td>10.1002/9781119600862.ch3</td>\n",
       "      <td>https://doi.org/10.1002/9781119600862.ch3</td>\n",
       "      <td>2024</td>\n",
       "      <td>['Solar Thermochemical Fuels']</td>\n",
       "      <td>Wiley</td>\n",
       "      <td>Paper #: 7743_1\\nTitle: Manufacturing Cost Ana...</td>\n",
       "    </tr>\n",
       "    <tr>\n",
       "      <th>...</th>\n",
       "      <td>...</td>\n",
       "      <td>...</td>\n",
       "      <td>...</td>\n",
       "      <td>...</td>\n",
       "      <td>...</td>\n",
       "      <td>...</td>\n",
       "      <td>...</td>\n",
       "    </tr>\n",
       "    <tr>\n",
       "      <th>9873</th>\n",
       "      <td>10259</td>\n",
       "      <td>10.7836/kses.2023.43.5.043</td>\n",
       "      <td>https://doi.org/10.7836/kses.2023.43.5.043</td>\n",
       "      <td>2023</td>\n",
       "      <td>['Performance Evaluation of LSTM Based Solar I...</td>\n",
       "      <td>The Korean Solar Energy Society</td>\n",
       "      <td>Paper #: 16412_1\\nTitle: Supporting Informatio...</td>\n",
       "    </tr>\n",
       "    <tr>\n",
       "      <th>9874</th>\n",
       "      <td>10260</td>\n",
       "      <td>10.7836/kses.2023.43.6.013</td>\n",
       "      <td>https://doi.org/10.7836/kses.2023.43.6.013</td>\n",
       "      <td>2024</td>\n",
       "      <td>['A Methodology for Calculating the Limit Capa...</td>\n",
       "      <td>The Korean Solar Energy Society</td>\n",
       "      <td>Paper #: 16980_1\\nTitle: Nanosecond Laser Pass...</td>\n",
       "    </tr>\n",
       "    <tr>\n",
       "      <th>9875</th>\n",
       "      <td>10261</td>\n",
       "      <td>10.7836/kses.2023.43.6.067</td>\n",
       "      <td>https://doi.org/10.7836/kses.2023.43.6.067</td>\n",
       "      <td>2024</td>\n",
       "      <td>['Prediction Model For Colored BIPV Modules']</td>\n",
       "      <td>The Korean Solar Energy Society</td>\n",
       "      <td>Paper #: 19568_1\\nTitle: Improve Perovskite So...</td>\n",
       "    </tr>\n",
       "    <tr>\n",
       "      <th>9876</th>\n",
       "      <td>10262</td>\n",
       "      <td>10.7836/kses.2023.43.6.087</td>\n",
       "      <td>https://doi.org/10.7836/kses.2023.43.6.087</td>\n",
       "      <td>2024</td>\n",
       "      <td>['Transformer-Based Photovoltaic Power Predict...</td>\n",
       "      <td>The Korean Solar Energy Society</td>\n",
       "      <td>Paper #: 19781_1\\nTitle: Electron-hole diffusi...</td>\n",
       "    </tr>\n",
       "    <tr>\n",
       "      <th>9877</th>\n",
       "      <td>10263</td>\n",
       "      <td>10.7836/kses.2023.43.6.121</td>\n",
       "      <td>https://doi.org/10.7836/kses.2023.43.6.121</td>\n",
       "      <td>2024</td>\n",
       "      <td>['Variations in Indoor Radon Concentrations In...</td>\n",
       "      <td>The Korean Solar Energy Society</td>\n",
       "      <td>Paper #: 19780_1\\nTitle: Zwitterionic ionic li...</td>\n",
       "    </tr>\n",
       "  </tbody>\n",
       "</table>\n",
       "<p>9878 rows × 7 columns</p>\n",
       "</div>"
      ],
      "text/plain": [
       "      Unnamed: 0                         DOI  \\\n",
       "0              0  10.1002/9781119578826.ch15   \n",
       "1              1  10.1002/9781119578826.ch16   \n",
       "2              2  10.1002/9781119578826.ch27   \n",
       "3              3   10.1002/9781119578826.ch6   \n",
       "4              5   10.1002/9781119600862.ch3   \n",
       "...          ...                         ...   \n",
       "9873       10259  10.7836/kses.2023.43.5.043   \n",
       "9874       10260  10.7836/kses.2023.43.6.013   \n",
       "9875       10261  10.7836/kses.2023.43.6.067   \n",
       "9876       10262  10.7836/kses.2023.43.6.087   \n",
       "9877       10263  10.7836/kses.2023.43.6.121   \n",
       "\n",
       "                                             URL  year  \\\n",
       "0     https://doi.org/10.1002/9781119578826.ch15  2024   \n",
       "1     https://doi.org/10.1002/9781119578826.ch16  2024   \n",
       "2     https://doi.org/10.1002/9781119578826.ch27  2024   \n",
       "3      https://doi.org/10.1002/9781119578826.ch6  2024   \n",
       "4      https://doi.org/10.1002/9781119600862.ch3  2024   \n",
       "...                                          ...   ...   \n",
       "9873  https://doi.org/10.7836/kses.2023.43.5.043  2023   \n",
       "9874  https://doi.org/10.7836/kses.2023.43.6.013  2024   \n",
       "9875  https://doi.org/10.7836/kses.2023.43.6.067  2024   \n",
       "9876  https://doi.org/10.7836/kses.2023.43.6.087  2024   \n",
       "9877  https://doi.org/10.7836/kses.2023.43.6.121  2024   \n",
       "\n",
       "                                                  title  \\\n",
       "0                          ['Quantum Dots Solar Cells']   \n",
       "1                   ['Singlet Fission for Solar Cells']   \n",
       "2     ['Deployment of<scp>Solar</scp>Photovoltaic Sy...   \n",
       "3     ['Tunnel Oxide Passivated Contact (<scp>TOPCon...   \n",
       "4                        ['Solar Thermochemical Fuels']   \n",
       "...                                                 ...   \n",
       "9873  ['Performance Evaluation of LSTM Based Solar I...   \n",
       "9874  ['A Methodology for Calculating the Limit Capa...   \n",
       "9875      ['Prediction Model For Colored BIPV Modules']   \n",
       "9876  ['Transformer-Based Photovoltaic Power Predict...   \n",
       "9877  ['Variations in Indoor Radon Concentrations In...   \n",
       "\n",
       "                            publisher  \\\n",
       "0                               Wiley   \n",
       "1                               Wiley   \n",
       "2                               Wiley   \n",
       "3                               Wiley   \n",
       "4                               Wiley   \n",
       "...                               ...   \n",
       "9873  The Korean Solar Energy Society   \n",
       "9874  The Korean Solar Energy Society   \n",
       "9875  The Korean Solar Energy Society   \n",
       "9876  The Korean Solar Energy Society   \n",
       "9877  The Korean Solar Energy Society   \n",
       "\n",
       "                                                   text  \n",
       "0     Paper #: 7386_1\\nTitle: Role of carrier deloca...  \n",
       "1     Paper #: 7742_1\\nTitle: Perovskite-Based Tande...  \n",
       "2     Paper #: 9299_1\\nTitle: Inhomogeneous Halide A...  \n",
       "3     Paper #: 7949_1\\nTitle: Efficiency assessment ...  \n",
       "4     Paper #: 7743_1\\nTitle: Manufacturing Cost Ana...  \n",
       "...                                                 ...  \n",
       "9873  Paper #: 16412_1\\nTitle: Supporting Informatio...  \n",
       "9874  Paper #: 16980_1\\nTitle: Nanosecond Laser Pass...  \n",
       "9875  Paper #: 19568_1\\nTitle: Improve Perovskite So...  \n",
       "9876  Paper #: 19781_1\\nTitle: Electron-hole diffusi...  \n",
       "9877  Paper #: 19780_1\\nTitle: Zwitterionic ionic li...  \n",
       "\n",
       "[9878 rows x 7 columns]"
      ]
     },
     "execution_count": 208,
     "metadata": {},
     "output_type": "execute_result"
    }
   ],
   "source": [
    "scraped_papers = pd.read_csv(\"data/scraped_papers_final.csv\")\n",
    "scraped_papers"
   ]
  },
  {
   "cell_type": "code",
   "execution_count": 188,
   "metadata": {},
   "outputs": [],
   "source": [
    "def passivator_frequency(text):\n",
    "    passivator_names = [\"passivation\", \"passivator\", \"passivating\"]\n",
    "    words = text.lower().split()\n",
    "    return sum([words.count(name) for name in passivator_names])"
   ]
  },
  {
   "cell_type": "code",
   "execution_count": 197,
   "metadata": {},
   "outputs": [],
   "source": [
    "def keyword_classification(text):\n",
    "    passivators = [\"passivation\", \"passivator\", \"passivating\"]\n",
    "    pces = [\"pce\", \"power conversion efficiency\"]\n",
    "    return any(keyword in text.lower() for keyword in passivators) and any(keyword in text.lower() for keyword in pces) and passivator_frequency(text) > 2"
   ]
  },
  {
   "cell_type": "code",
   "execution_count": 198,
   "metadata": {},
   "outputs": [
    {
     "name": "stderr",
     "output_type": "stream",
     "text": [
      "C:\\Users\\nicco\\AppData\\Local\\Temp\\ipykernel_39204\\1994295596.py:1: SettingWithCopyWarning: \n",
      "A value is trying to be set on a copy of a slice from a DataFrame.\n",
      "Try using .loc[row_indexer,col_indexer] = value instead\n",
      "\n",
      "See the caveats in the documentation: https://pandas.pydata.org/pandas-docs/stable/user_guide/indexing.html#returning-a-view-versus-a-copy\n",
      "  scraped_papers[\"label\"] = scraped_papers[\"text\"].apply(keyword_classification)\n"
     ]
    }
   ],
   "source": [
    "scraped_papers[\"label\"] = scraped_papers[\"text\"].apply(keyword_classification)"
   ]
  },
  {
   "cell_type": "code",
   "execution_count": 199,
   "metadata": {},
   "outputs": [
    {
     "data": {
      "text/plain": [
       "1378"
      ]
     },
     "execution_count": 199,
     "metadata": {},
     "output_type": "execute_result"
    }
   ],
   "source": [
    "relevant_papers = scraped_papers[scraped_papers[\"label\"] == 1]\n",
    "relevant_papers.shape[0]"
   ]
  },
  {
   "cell_type": "code",
   "execution_count": 140,
   "metadata": {},
   "outputs": [],
   "source": [
    "relevant_papers.to_csv(\"data/relevant_papers.csv\", index=False)"
   ]
  },
  {
   "cell_type": "markdown",
   "metadata": {},
   "source": [
    "### Generating Samples for Spot-Checking"
   ]
  },
  {
   "cell_type": "code",
   "execution_count": null,
   "metadata": {},
   "outputs": [],
   "source": [
    "folder_path = \"data/relevant_samples_final\"\n",
    "\n",
    "sampled_df = relevant_papers.sample(n=15, random_state=41)\n",
    "\n",
    "for i, text in enumerate(sampled_df[\"text\"]):\n",
    "    file_path = os.path.join(folder_path, f\"sample_{i}.txt\")\n",
    "    with open(file_path, \"w\", encoding=\"utf-8\") as file:\n",
    "        file.write(text)"
   ]
  },
  {
   "cell_type": "code",
   "execution_count": null,
   "metadata": {},
   "outputs": [],
   "source": []
  }
 ],
 "metadata": {
  "kernelspec": {
   "display_name": ".venv",
   "language": "python",
   "name": "python3"
  },
  "language_info": {
   "codemirror_mode": {
    "name": "ipython",
    "version": 3
   },
   "file_extension": ".py",
   "mimetype": "text/x-python",
   "name": "python",
   "nbconvert_exporter": "python",
   "pygments_lexer": "ipython3",
   "version": "3.10.6"
  }
 },
 "nbformat": 4,
 "nbformat_minor": 2
}
