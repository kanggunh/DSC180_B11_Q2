{
 "cells": [
  {
   "cell_type": "code",
   "execution_count": 3,
   "metadata": {},
   "outputs": [
    {
     "name": "stdout",
     "output_type": "stream",
     "text": [
      "WARNING:tensorflow:From C:\\Users\\nicco\\AppData\\Roaming\\Python\\Python310\\site-packages\\keras\\src\\losses.py:2976: The name tf.losses.sparse_softmax_cross_entropy is deprecated. Please use tf.compat.v1.losses.sparse_softmax_cross_entropy instead.\n",
      "\n"
     ]
    }
   ],
   "source": [
    "import pandas as pd\n",
    "import json\n",
    "import re\n",
    "from transformers import AutoModelForCausalLM, AutoTokenizer, pipeline"
   ]
  },
  {
   "cell_type": "code",
   "execution_count": 2,
   "metadata": {},
   "outputs": [],
   "source": [
    "extraction_path = \"data/deepseek_finetuned.json\"\n",
    "with open(extraction_path, \"r\") as f:\n",
    "    extraction_data = json.load(f)\n"
   ]
  },
  {
   "cell_type": "code",
   "execution_count": null,
   "metadata": {},
   "outputs": [],
   "source": [
    "# trained model path\n",
    "model_path = \"deepseek-ai/DeepSeek-R1-Distill-Llama-8B\"\n",
    "model = AutoModelForCausalLM.from_pretrained(model_path, load_in_4bit=True)\n",
    "tokenizer = AutoTokenizer.from_pretrained(model_path)\n",
    "tokenizer.model_max_length = 1024\n",
    "pipe = pipeline(\n",
    "    \"text-generation\",\n",
    "    model=model,\n",
    "    tokenizer=tokenizer,\n",
    "    temperature=None,\n",
    "    top_p=None,\n",
    "    do_sample=False,\n",
    ")"
   ]
  },
  {
   "cell_type": "code",
   "execution_count": null,
   "metadata": {},
   "outputs": [],
   "source": [
    "PREFIX = \"\"\"\n",
    "You are a helpful scientific assistant. Given a molecule name, return the full name of the molecule.\n",
    "You should provide a JSON object with the full name of the molecule.\n",
    "\n",
    "**JSON Structure:**\n",
    "```json\n",
    "{\n",
    "    \"full_name\": \"The full name of the molecule\"\n",
    "}\n",
    "```\n",
    "\n",
    "Only return the JSON object. Ensure that the full name returned can be parsed into SMILES format.\n",
    "\n",
    "Example 1:\n",
    "Input: benzylhydrazine (BHC)\n",
    "Output:\n",
    "```json\n",
    "{\n",
    "    \"full_name\": \"benzylhydrazine\"\n",
    "}\n",
    "```\n",
    "\n",
    "Example 2:\n",
    "Input: PEA2ZnX4\n",
    "Output:\n",
    "```json\n",
    "{\n",
    "    \"full_name\": \"Phenylethylammonium Zinc Halide\"\n",
    "}\n",
    "\n",
    "Here is the molecule name you need to format:\n",
    "\"\"\"\n",
    "def create_prompt(system, user):\n",
    "    tokens = tokenizer.encode(user, max_length=60000, truncation=True) # prevents CUDA memory errors with current GPU\n",
    "    truncated_user = tokenizer.decode(tokens)\n",
    "    return [\n",
    "    {\"role\": \"system\", \"content\": system},\n",
    "    {\"role\": \"user\", \"content\": truncated_user}, ]"
   ]
  },
  {
   "cell_type": "code",
   "execution_count": null,
   "metadata": {},
   "outputs": [],
   "source": [
    "def get_full_passivator(molecule_name):\n",
    "    instruction = create_prompt(PREFIX, molecule_name)\n",
    "    json_string = pipe(instruction, max_new_tokens=1024)[0][\"generated_text\"][-1]['content']\n",
    "    print(json_string)\n",
    "    json_match = re.search(r\"\\{.*\\}\", json_string, re.DOTALL)\n",
    "    if json_match:\n",
    "        raw_json = json_match.group(0).strip()\n",
    "    else:\n",
    "        print(\"No JSON found\")\n",
    "        return molecule_name\n",
    "    try:\n",
    "        parsed_data = json.loads(raw_json)\n",
    "        new_molecule = parsed_data[\"full_name\"]\n",
    "        return new_molecule\n",
    "    except json.JSONDecodeError as e:\n",
    "        print(\"Error creating JSON\", e)\n",
    "        return molecule_name"
   ]
  },
  {
   "cell_type": "code",
   "execution_count": null,
   "metadata": {},
   "outputs": [],
   "source": [
    "for key in extraction_data:\n",
    "    item = extraction_data[key]\n",
    "    curr_test = \"test_1\"\n",
    "    i = 1\n",
    "    while curr_test in item:\n",
    "        unformatted_passivator = item[curr_test][\"passivating_molecule\"]\n",
    "        if unformatted_passivator == None:\n",
    "            i += 1\n",
    "            curr_test = \"test_{i}\"\n",
    "            continue\n",
    "        full_passivator = get_full_passivator(unformatted_passivator)\n",
    "        item[curr_test][\"passivating_molecule\"] = full_passivator\n",
    "        i += 1\n",
    "        curr_test = \"test_{i}\"\n"
   ]
  },
  {
   "cell_type": "code",
   "execution_count": 12,
   "metadata": {},
   "outputs": [
    {
     "data": {
      "text/plain": [
       "{'control_pce': 21.0,\n",
       " 'control_voc': 1.17,\n",
       " 'treated_pce': 23.77,\n",
       " 'treated_voc': 1.145,\n",
       " 'passivating_molecule': 'Cyclohexylmethylammonium iodide (CMAI)',\n",
       " 'perovskite_composition': 'α-formamidinium lead triiodide (FAPbI3)',\n",
       " 'electron_transport_layer': 'Fluorine-doped tin oxide (FTO)',\n",
       " 'pin_nip_structure': 'NIP',\n",
       " 'hole_transport_layer': 'Mixed SAMs (2PACz and Me-4PACz)',\n",
       " 'stability_tests': [{'test_name': 'ISOS-D-2I',\n",
       "   'temperature': 85,\n",
       "   'time': 1500,\n",
       "   'humidity': 50,\n",
       "   'control_efficiency': 23.2,\n",
       "   'treatment_efficiency': 19.9},\n",
       "  {'test_name': 'ISOS-L-3',\n",
       "   'temperature': 65,\n",
       "   'time': 1200,\n",
       "   'humidity': 50,\n",
       "   'control_efficiency': 23.2,\n",
       "   'treatment_efficiency': 14.2},\n",
       "  {'test_name': 'ISOS-T',\n",
       "   'temperature': 65,\n",
       "   'time': 500,\n",
       "   'humidity': 50,\n",
       "   'control_efficiency': None,\n",
       "   'treatment_efficiency': None},\n",
       "  {'test_name': 'ISOS-LC',\n",
       "   'temperature': None,\n",
       "   'time': None,\n",
       "   'humidity': None,\n",
       "   'control_efficiency': None,\n",
       "   'treatment_efficiency': None},\n",
       "  {'test_name': 'ISOS-LT',\n",
       "   'temperature': None,\n",
       "   'time': None,\n",
       "   'humidity': None,\n",
       "   'control_efficiency': None,\n",
       "   'treatment_efficiency': None}]}"
      ]
     },
     "execution_count": 12,
     "metadata": {},
     "output_type": "execute_result"
    }
   ],
   "source": [
    "extraction_data[\"0\"]"
   ]
  },
  {
   "cell_type": "code",
   "execution_count": null,
   "metadata": {},
   "outputs": [],
   "source": []
  }
 ],
 "metadata": {
  "kernelspec": {
   "display_name": "Python 3",
   "language": "python",
   "name": "python3"
  },
  "language_info": {
   "codemirror_mode": {
    "name": "ipython",
    "version": 3
   },
   "file_extension": ".py",
   "mimetype": "text/x-python",
   "name": "python",
   "nbconvert_exporter": "python",
   "pygments_lexer": "ipython3",
   "version": "3.10.6"
  }
 },
 "nbformat": 4,
 "nbformat_minor": 2
}
