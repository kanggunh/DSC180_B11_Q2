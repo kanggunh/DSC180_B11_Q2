{
 "cells": [
  {
   "cell_type": "code",
   "execution_count": 1,
   "metadata": {},
   "outputs": [],
   "source": [
    "import pandas as pd\n",
    "import json\n",
    "import re\n",
    "from openai import OpenAI"
   ]
  },
  {
   "cell_type": "code",
   "execution_count": 3,
   "metadata": {},
   "outputs": [],
   "source": [
    "extraction_path = \"data/deepseek_finetuned.json\"\n",
    "with open(extraction_path, \"r\") as f:\n",
    "    extraction_data = json.load(f)\n"
   ]
  },
  {
   "cell_type": "code",
   "execution_count": 2,
   "metadata": {},
   "outputs": [],
   "source": [
    "def get_all_passivators(extraction_data):\n",
    "    passivators = set()\n",
    "    search_key = \"passivating_molecule\"\n",
    "    for key in extraction_data:\n",
    "        item = extraction_data[key]\n",
    "        for paper_key in item:\n",
    "            if paper_key == search_key:\n",
    "                passivators.add(item[paper_key])\n",
    "            elif isinstance(item[paper_key], dict):\n",
    "                for test_key in item[paper_key]:\n",
    "                    if test_key== search_key:\n",
    "                        passivators.add(item[paper_key][test_key])\n",
    "    return passivators    \n",
    "        "
   ]
  },
  {
   "cell_type": "code",
   "execution_count": 4,
   "metadata": {},
   "outputs": [
    {
     "name": "stdout",
     "output_type": "stream",
     "text": [
      "{'TiOxNy', '4-trifluoromethyl-phenylammonium', 'benzene', 'Al2O3', '4-ethyl-1H-pyrrole-2-carboxylic acid', 'PEA2ZnX4', '3F-PEA', 'PSP', 'anisole', '4-vinylbenzylammonium bromide', 'Cl-cPP and Cl-bSO', '(PbI2)2RbCl', 'NaF', '1,3-propane diammonium iodide', 'formamidinium lead iodide (FAPbI3)', 'CB-NH2', 'sodium thioglycolate', 'AZO/SnOx', 'ortho-(phenylene)di(ethylammonium) iodide', 'allylammonium (ALA)', \"2,2',6,6'-bis(4-methoxy-2,4,6-trimethylphenyl)-1,3,5-triazine\", 'methylammonium chloride', 'azetidinium iodide', 'formamidinium formate (FAHCOO)', 'none', '4-chlorophenylethylammonium iodide', 'Spiro-mF', 'octylammonium iodide', 'pentanamidine hydrochloride', 'Chlorine-capped TiO2', 'Oleylammonium iodide', 'lead sulfate', '4-guanidinobenzoic acid hydrochloride (GBAC)', 'poly(methyl methacrylate)', 'CsMAFA-8', '2-TMAI', '4-tert-butyl-benzylammonium iodide', 'phenylethylammonium iodide (PEAI) and 2-thiophenemethylammonium iodide (TMAI)', 'benzylhydrazine (BHC)', 'b-poly(1,1-difluoroethylene) (b-pV2F)', 'PEAI, Cl-PEAI, F-PEAI', 'hexafluorodifluoropropane-1,3-disulfonimide (HFDF)', 'phenylethylammonium iodide', 'methylamine', 'PDAI2 and 3MTPAI', 'hexafluorobenzene', 'phenethylammonium iodide (PEAI)', '3-(methylamine-5-pentanoate)thiophene-2,5-diy', '(BA)2(MA)n-1PbnI3n+1', '4-fluoroaniline', 'n-BAI and iso-BAI', 'formamidinium', 'allylammonium', 'poly(4-vinylpyridine)', \"2,2',2',2'-tetrakis(4-ethylammonium) 1,3,5-triazine\", '2CF3-phenethylammonium iodide', 'CF3PEAI', 'Choline chloride', '4-(Trifluoromethyl) phenethylammonium (CF3-PEA)', 'butylamine', 'mixed cations of MDA and Cs', 'm-TiO2, QD-SnO2, and paa-QD-SnO2', 'cyclohexylmethylammonium iodide', 'oxalic acid', 'phenethylammonium iodide', 'ZrL3', '2D perovskite', '2-(9H-carbazol-9-yl)ethyl phosphonic acid', 'cross-linked polymer (CLP)', 'hexyltrimethylammonium bromide', 'EDTA', None, 'formamidinium formate', 'isopropylammonium chloride', '3,4,5-trifluoroanilinium (345FAn)', 'sulfonyl fluoride-functionalized phenethylammonium salt', 'N,N-dimethyl-1,3-propane diammonium diiodide', 'CF3PEAI2D', 'EDAI2', 'FA0.83Cs0.17Pb0.5Sn0.5I3', 'piperazinium iodide', 'DTB(3%DEG)', '4-tert-butyl-1-methylpyridinium bis(trifluoromethylsulfonyl)imide', 'NH4Cl', 'n-hexyl trimethyl ammonium bromide', '2-aminoindan hydrochloride', 'n-butylamine acetate', 'benzylamine hydroiodide (BAHI), poly[bis(4-phenyl)(2,5-trimethylphenyl)amine] (PTAA), and 4-tert-butylpyridine (tBP)', '3-(aminomethyl)pyridine', 'n-hexylammonium bromide and n-octylammonium bromide', 'Cs2PbI2Cl2', 'ferrocenyl-bis-thiophene-2-carboxylate', 'LiF', '4-vinylbenzylamine', '(BA)2PbI4', 'n-butylammonium bromide (BABr)', 'formamidine acetate', 'Polystyrene (PS), Teflon, and poly(vinylidene-trifluoroethylene) (PVDF-TrFE)'}\n"
     ]
    }
   ],
   "source": [
    "print(get_all_passivators(extraction_data))"
   ]
  },
  {
   "cell_type": "code",
   "execution_count": null,
   "metadata": {},
   "outputs": [],
   "source": [
    "PREFIX = \"\"\"\n",
    "You are a helpful scientific assistant that specializes in passivating molecules for perovskite solar cells. \n",
    "\n",
    "**Instructions:**\n",
    "-Given a list of molecule names, find the full name of each molecule in IUPAC nomenclature. This full name should be able to be parsed into SMILES. \n",
    "-Remember to think in the context of passivating molecules for perovskite solar cells.\n",
    "-It is important to note that the name might already be in IUPAC format, in which case you should return the name as is.\n",
    "-It is also possible that the name given is not a passivating molecule and cannot be parsed into SMILES. In this case, you should return null.\n",
    "-You should provide a JSON object where each key is the provided molecule name and the value is the full name of the molecule in IUPAC format.\n",
    "-Do not leave any molecules behind.\n",
    "\n",
    "**JSON Structure:**\n",
    "```json\n",
    "{\n",
    "    \"1st molecule given\": \"The full name of the molecule in IUPAC format\",\n",
    "    \"2nd molecule given\": \"The full name of the molecule in IUPAC format\",\n",
    "}\n",
    "```\n",
    "\n",
    "Only return the JSON object. Ensure that the full name returned can be parsed into SMILES format.\n",
    "Here are the molecule names you need to format:\n",
    "\n",
    "{molecule_names}\n",
    "\"\"\""
   ]
  },
  {
   "cell_type": "code",
   "execution_count": null,
   "metadata": {},
   "outputs": [],
   "source": [
    "def get_full_passivator(molecule_name):\n",
    "    instruction = create_prompt(PREFIX, molecule_name)\n",
    "    json_string = pipe(instruction, max_new_tokens=1024)[0][\"generated_text\"][-1]['content']\n",
    "    print(json_string)\n",
    "    json_match = re.search(r\"\\{.*\\}\", json_string, re.DOTALL)\n",
    "    if json_match:\n",
    "        raw_json = json_match.group(0).strip()\n",
    "    else:\n",
    "        print(\"No JSON found\")\n",
    "        return molecule_name\n",
    "    try:\n",
    "        parsed_data = json.loads(raw_json)\n",
    "        new_molecule = parsed_data[\"full_name\"]\n",
    "        return new_molecule\n",
    "    except json.JSONDecodeError as e:\n",
    "        print(\"Error creating JSON\", e)\n",
    "        return molecule_name"
   ]
  },
  {
   "cell_type": "code",
   "execution_count": null,
   "metadata": {},
   "outputs": [],
   "source": [
    "for key in extraction_data:\n",
    "    item = extraction_data[key]\n",
    "    curr_test = \"test_1\"\n",
    "    i = 1\n",
    "    while curr_test in item:\n",
    "        unformatted_passivator = item[curr_test][\"passivating_molecule\"]\n",
    "        if unformatted_passivator == None:\n",
    "            i += 1\n",
    "            curr_test = \"test_{i}\"\n",
    "            continue\n",
    "        full_passivator = get_full_passivator(unformatted_passivator)\n",
    "        item[curr_test][\"passivating_molecule\"] = full_passivator\n",
    "        i += 1\n",
    "        curr_test = \"test_{i}\"\n"
   ]
  },
  {
   "cell_type": "code",
   "execution_count": 12,
   "metadata": {},
   "outputs": [
    {
     "data": {
      "text/plain": [
       "{'control_pce': 21.0,\n",
       " 'control_voc': 1.17,\n",
       " 'treated_pce': 23.77,\n",
       " 'treated_voc': 1.145,\n",
       " 'passivating_molecule': 'Cyclohexylmethylammonium iodide (CMAI)',\n",
       " 'perovskite_composition': 'α-formamidinium lead triiodide (FAPbI3)',\n",
       " 'electron_transport_layer': 'Fluorine-doped tin oxide (FTO)',\n",
       " 'pin_nip_structure': 'NIP',\n",
       " 'hole_transport_layer': 'Mixed SAMs (2PACz and Me-4PACz)',\n",
       " 'stability_tests': [{'test_name': 'ISOS-D-2I',\n",
       "   'temperature': 85,\n",
       "   'time': 1500,\n",
       "   'humidity': 50,\n",
       "   'control_efficiency': 23.2,\n",
       "   'treatment_efficiency': 19.9},\n",
       "  {'test_name': 'ISOS-L-3',\n",
       "   'temperature': 65,\n",
       "   'time': 1200,\n",
       "   'humidity': 50,\n",
       "   'control_efficiency': 23.2,\n",
       "   'treatment_efficiency': 14.2},\n",
       "  {'test_name': 'ISOS-T',\n",
       "   'temperature': 65,\n",
       "   'time': 500,\n",
       "   'humidity': 50,\n",
       "   'control_efficiency': None,\n",
       "   'treatment_efficiency': None},\n",
       "  {'test_name': 'ISOS-LC',\n",
       "   'temperature': None,\n",
       "   'time': None,\n",
       "   'humidity': None,\n",
       "   'control_efficiency': None,\n",
       "   'treatment_efficiency': None},\n",
       "  {'test_name': 'ISOS-LT',\n",
       "   'temperature': None,\n",
       "   'time': None,\n",
       "   'humidity': None,\n",
       "   'control_efficiency': None,\n",
       "   'treatment_efficiency': None}]}"
      ]
     },
     "execution_count": 12,
     "metadata": {},
     "output_type": "execute_result"
    }
   ],
   "source": [
    "extraction_data[\"0\"]"
   ]
  },
  {
   "cell_type": "code",
   "execution_count": null,
   "metadata": {},
   "outputs": [],
   "source": []
  }
 ],
 "metadata": {
  "kernelspec": {
   "display_name": "Python 3",
   "language": "python",
   "name": "python3"
  },
  "language_info": {
   "codemirror_mode": {
    "name": "ipython",
    "version": 3
   },
   "file_extension": ".py",
   "mimetype": "text/x-python",
   "name": "python",
   "nbconvert_exporter": "python",
   "pygments_lexer": "ipython3",
   "version": "3.10.6"
  }
 },
 "nbformat": 4,
 "nbformat_minor": 2
}
