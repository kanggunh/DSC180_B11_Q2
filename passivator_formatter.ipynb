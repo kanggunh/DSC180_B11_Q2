{
 "cells": [
  {
   "cell_type": "code",
   "execution_count": 36,
   "metadata": {},
   "outputs": [
    {
     "data": {
      "text/plain": [
       "True"
      ]
     },
     "execution_count": 36,
     "metadata": {},
     "output_type": "execute_result"
    }
   ],
   "source": [
    "import pandas as pd\n",
    "import json\n",
    "import re\n",
    "import os\n",
    "import requests\n",
    "from openai import OpenAI\n",
    "from dotenv import load_dotenv\n",
    "\n",
    "load_dotenv()"
   ]
  },
  {
   "cell_type": "code",
   "execution_count": 28,
   "metadata": {},
   "outputs": [],
   "source": [
    "extraction_path = \"data/deepseek_finetuned_formatted.json\"\n",
    "with open(extraction_path, \"r\") as f:\n",
    "    extraction_data = json.load(f)\n"
   ]
  },
  {
   "cell_type": "code",
   "execution_count": 29,
   "metadata": {},
   "outputs": [],
   "source": [
    "passivator_conversions_path = \"data/passivator_conversions.json\"\n",
    "with open(passivator_conversions_path, \"r\") as f:\n",
    "    passivator_conversions = json.load(f)"
   ]
  },
  {
   "cell_type": "code",
   "execution_count": 30,
   "metadata": {},
   "outputs": [],
   "source": [
    "def get_unconverted_passivators(extraction_data):\n",
    "    passivators = set()\n",
    "    search_key = \"passivating_molecule\"\n",
    "    for key in extraction_data:\n",
    "        item = extraction_data[key]\n",
    "        for paper_key in item:\n",
    "            if paper_key == search_key:\n",
    "                passivators.add(item[paper_key])\n",
    "            elif isinstance(item[paper_key], dict):\n",
    "                for test_key in item[paper_key]:\n",
    "                    if test_key== search_key:\n",
    "                        passivators.add(item[paper_key][test_key])\n",
    "    passivators = [passivator for passivator in passivators if passivator not in passivator_conversions and passivator not in [None, 'none']]\n",
    "    return passivators    \n",
    "        "
   ]
  },
  {
   "cell_type": "code",
   "execution_count": 88,
   "metadata": {},
   "outputs": [],
   "source": [
    "PREFIX = \"\"\"\n",
    "Role:\n",
    "You are a helpful scientific assistant specializing in passivating molecules for perovskite solar cells.\n",
    "\n",
    "Task:\n",
    "Given a list of molecule names, provide the full name of each molecule in IUPAC nomenclature. The IUPAC name must be parseable into SMILES format.\n",
    "\n",
    "Rules:\n",
    "-If the molecule name is already in IUPAC format, return it as is.\n",
    "-If there are multiple molecule names given, just use the first one.\n",
    "-If the name contains additional descriptive words (e.g., \"passivating,\" \"functionalized\"), extract only the molecule name and convert it to IUPAC format.\n",
    "-If the full molecule name cannot be parsed into SMILES after fully reasoning through it multiple times, return null.\n",
    "-Ensure no molecules are left out.\n",
    "\n",
    "Output Format:\n",
    "Provide a JSON object where each key is the provided molecule name and the value is the corresponding IUPAC name or null.\n",
    "\n",
    "json\n",
    "Copy\n",
    "{\n",
    "    \"molecule_name_1\": \"IUPAC_name_or_null\",\n",
    "    \"molecule_name_2\": \"IUPAC_name_or_null\"\n",
    "}\n",
    "Important Notes:\n",
    "\n",
    "-Focus only on the parts of the string that represent the molecule name.\n",
    "\n",
    "-Double-check that the IUPAC name can be parsed into SMILES. If not, return null.\n",
    "-If the molecule is not relevant to passivating perovskite solar cells, return null.\n",
    "\n",
    "Example Input:\n",
    "\n",
    "{\n",
    "    \"ethylammonium bromide\": \"ethylammonium bromide\",\n",
    "    \"passivating 2-phenylethylamine\": \"2-phenylethylamine\",\n",
    "    \"CF3PEAI\": \"2-(4-(Trifluoromethyl)phenyl)ethylammonium iodide\",\n",
    "    \"2D perovskite\": null\n",
    "}\n",
    "Begin converting!\n",
    "\"\"\""
   ]
  },
  {
   "cell_type": "code",
   "execution_count": 89,
   "metadata": {},
   "outputs": [],
   "source": [
    "def get_new_passivator_conversions(passivators, api_key_name=\"OPENAI_API_KEY\", base_url=\"https://api.openai.com/v1/\", model_name=\"gpt-4o\"):\n",
    "    api_key = os.getenv(api_key_name)\n",
    "    client = OpenAI(api_key=api_key, base_url=base_url)\n",
    "    system_content = PREFIX\n",
    "    user_content = str(passivators)\n",
    "    messages = [\n",
    "        {\n",
    "            \"role\": \"system\",\n",
    "            \"content\": system_content\n",
    "        },\n",
    "        {\n",
    "            \"role\": \"user\",\n",
    "            \"content\": user_content\n",
    "        }\n",
    "    ]\n",
    "    response = client.chat.completions.create(\n",
    "        model=model_name,\n",
    "        messages=messages,\n",
    "        stream=False\n",
    "    )\n",
    "    output = response.choices[0].message.content\n",
    "    json_match = re.search(r\"\\{.*\\}\", output, re.DOTALL)\n",
    "\n",
    "    if json_match:\n",
    "        raw_json = json_match.group(0).strip()\n",
    "    else:\n",
    "        print(\"No JSON found\")\n",
    "        return {}\n",
    "    try:\n",
    "        parsed_data = json.loads(raw_json)\n",
    "        return parsed_data\n",
    "    except json.JSONDecodeError as e:\n",
    "        print(\"Error creating JSON\", e)\n",
    "        return {}"
   ]
  },
  {
   "cell_type": "code",
   "execution_count": 64,
   "metadata": {},
   "outputs": [],
   "source": [
    "unconverted_passivators = get_unconverted_passivators(extraction_data)"
   ]
  },
  {
   "cell_type": "code",
   "execution_count": null,
   "metadata": {},
   "outputs": [],
   "source": [
    "new_passivators = get_new_passivator_conversions(unconverted_passivators, api_key_name=\"DEEPSEEK_API_KEY\", base_url=\"https://api.deepseek.com\", model=\"deepseek-reasoner\")"
   ]
  },
  {
   "cell_type": "code",
   "execution_count": 90,
   "metadata": {},
   "outputs": [],
   "source": [
    "### second pass to ensure not missing anything (GPT-4o takes less time for this)\n",
    "null_passivators = [k for k, v in new_passivators.items() if v == None]\n",
    "extracted_passivators = {k: v for k, v in new_passivators.items() if v != None}\n",
    "\n",
    "second_pass = get_new_passivator_conversions(null_passivators)"
   ]
  },
  {
   "cell_type": "code",
   "execution_count": 91,
   "metadata": {},
   "outputs": [],
   "source": [
    "extracted_passivators.update(second_pass)"
   ]
  },
  {
   "cell_type": "code",
   "execution_count": 92,
   "metadata": {},
   "outputs": [],
   "source": [
    "### cleaning any multiples:\n",
    "for key in extracted_passivators:\n",
    "    value = extracted_passivators[key]\n",
    "    if isinstance(value, dict):\n",
    "        extracted_passivators[key] = value[list(value.keys())[0]]"
   ]
  },
  {
   "cell_type": "code",
   "execution_count": 93,
   "metadata": {},
   "outputs": [
    {
     "data": {
      "text/plain": [
       "{'EDTA': \"2,2',2'',2'''-(ethane-1,2-diyldinitrilo)tetraacetic acid\",\n",
       " 'azetidinium iodide': 'azetidinium iodide',\n",
       " 'CF3PEAI': '2-(4-(trifluoromethyl)phenyl)ethylammonium iodide',\n",
       " 'methylammonium chloride': 'methylammonium chloride',\n",
       " 'cyclohexylmethylammonium iodide': 'cyclohexylmethylazanium iodide',\n",
       " 'n-butylamine acetate': 'butan-1-aminium acetate',\n",
       " 'benzene': 'benzene',\n",
       " '4-fluoroaniline': '4-fluoroaniline',\n",
       " 'formamidinium formate (FAHCOO)': 'formamidinium formate',\n",
       " 'NH4Cl': 'ammonium chloride',\n",
       " '4-guanidinobenzoic acid hydrochloride (GBAC)': '4-guanidinobenzoic acid hydrochloride',\n",
       " '4-chlorophenylethylammonium iodide': '2-(4-chlorophenyl)ethylazanium iodide',\n",
       " 'Choline chloride': '(2-hydroxyethyl)trimethylazanium chloride',\n",
       " 'anisole': 'methoxybenzene',\n",
       " 'pentanamidine hydrochloride': 'pentane-1,5-dicarboximidamide hydrochloride',\n",
       " 'phenethylammonium iodide (PEAI)': '2-phenylethylazanium iodide',\n",
       " 'sodium thioglycolate': 'sodium 2-sulfanylacetate',\n",
       " 'NaF': 'sodium fluoride',\n",
       " 'Oleylammonium iodide': '(9Z)-octadec-9-en-1-aminium iodide',\n",
       " 'benzylhydrazine (BHC)': 'benzylhydrazine',\n",
       " 'oxalic acid': 'oxalic acid',\n",
       " '4-ethyl-1H-pyrrole-2-carboxylic acid': '4-ethyl-1H-pyrrole-2-carboxylic acid',\n",
       " '3-(aminomethyl)pyridine': '3-(aminomethyl)pyridine',\n",
       " 'butylamine': 'butan-1-amine',\n",
       " 'n-butylammonium bromide (BABr)': 'butan-1-aminium bromide',\n",
       " 'hexyltrimethylammonium bromide': 'hexyltrimethylazanium bromide',\n",
       " '4-tert-butyl-1-methylpyridinium bis(trifluoromethylsulfonyl)imide': '4-tert-butyl-1-methylpyridinium bis(trifluoromethylsulfonyl)imide',\n",
       " '4-vinylbenzylamine': '4-ethenylbenzylamine',\n",
       " 'methylamine': 'methanamine',\n",
       " '2-(9H-carbazol-9-yl)ethyl phosphonic acid': '2-(9H-carbazol-9-yl)ethylphosphonic acid',\n",
       " 'formamidinium formate': 'formamidinium formate',\n",
       " '4-tert-butyl-benzylammonium iodide': '4-(tert-butyl)benzylazanium iodide',\n",
       " 'hexafluorobenzene': 'hexafluorobenzene',\n",
       " 'n-hexyl trimethyl ammonium bromide': 'hexyltrimethylazanium bromide',\n",
       " 'phenylethylammonium iodide': '2-phenylethylazanium iodide',\n",
       " '2-aminoindan hydrochloride': '2-amino-2,3-dihydro-1H-indene hydrochloride',\n",
       " 'formamidine acetate': 'formamidinium acetate',\n",
       " 'isopropylammonium chloride': 'propan-2-aminium chloride',\n",
       " 'phenethylammonium iodide': '2-phenylethylazanium iodide',\n",
       " 'octylammonium iodide': 'octan-1-aminium iodide',\n",
       " '4-vinylbenzylammonium bromide': '4-ethenylbenzylazanium bromide',\n",
       " 'phenylethylammonium iodide (PEAI) and 2-thiophenemethylammonium iodide (TMAI)': 'phenylethylammonium iodide',\n",
       " '3-(methylamine-5-pentanoate)thiophene-2,5-diy': 'null',\n",
       " 'poly(4-vinylpyridine)': 'poly(4-vinylpyridine)',\n",
       " 'PEAI, Cl-PEAI, F-PEAI': 'phenylethylammonium iodide',\n",
       " 'N,N-dimethyl-1,3-propane diammonium diiodide': 'N,N-dimethyl-1,3-propanediammonium diiodide',\n",
       " 'mixed cations of MDA and Cs': 'null',\n",
       " 'PSP': 'null',\n",
       " '3,4,5-trifluoroanilinium (345FAn)': '3,4,5-trifluoroanilinium',\n",
       " '(BA)2PbI4': 'null',\n",
       " \"2,2',2',2'-tetrakis(4-ethylammonium) 1,3,5-triazine\": \"2,2',2',2'-tetrakis(4-ethylamino) 1,3,5-triazine\",\n",
       " 'Al2O3': 'null',\n",
       " 'CB-NH2': 'null',\n",
       " 'hexafluorodifluoropropane-1,3-disulfonimide (HFDF)': 'null',\n",
       " 'ferrocenyl-bis-thiophene-2-carboxylate': 'null',\n",
       " 'CsMAFA-8': 'null',\n",
       " 'TiOxNy': 'null',\n",
       " \"2,2',6,6'-bis(4-methoxy-2,4,6-trimethylphenyl)-1,3,5-triazine\": \"2,2',6,6'-bis(4-methoxy-2,4,6-trimethylphenyl)-1,3,5-triazine\",\n",
       " 'FA0.83Cs0.17Pb0.5Sn0.5I3': 'null',\n",
       " 'poly(methyl methacrylate)': 'poly(methyl methacrylate)',\n",
       " 'allylammonium (ALA)': 'allylammonium',\n",
       " 'Cs2PbI2Cl2': 'null',\n",
       " '3F-PEA': '3-(trifluoromethyl)phenethylammonium',\n",
       " 'PEA2ZnX4': 'null',\n",
       " 'Chlorine-capped TiO2': 'null',\n",
       " 'CBz-PAI': 'null',\n",
       " 'lead sulfate': 'lead(II) sulfate',\n",
       " 'b-poly(1,1-difluoroethylene) (b-pV2F)': 'null',\n",
       " 'm-TiO2, QD-SnO2, and paa-QD-SnO2': 'null',\n",
       " 'formamidinium lead iodide (FAPbI3)': 'formamidinium lead(III) iodide',\n",
       " 'formamidinium': 'formamidinium',\n",
       " 'ortho-(phenylene)di(ethylammonium) iodide': \"2,2'-diethylamino-1,1'-biphenyl-3,3'-diylium iodide\",\n",
       " 'allylammonium': 'allylammonium',\n",
       " 'DTB(3%DEG)': 'null',\n",
       " 'piperazinium iodide': 'piperazine-1,4-diium iodide',\n",
       " 'Spiro-mF': 'null',\n",
       " 'PDAI2 and 3MTPAI': 'null',\n",
       " 'AZO/SnOx': 'null',\n",
       " 'n-BAI and iso-BAI': 'null',\n",
       " 'CF3PEAI2D': '2-(4-(trifluoromethyl)phenyl)ethylammonium iodide',\n",
       " 'n-hexylammonium bromide and n-octylammonium bromide': 'hexylammonium bromide',\n",
       " '2D/3D perovskite': 'null',\n",
       " '(PbI2)2RbCl': 'null',\n",
       " 'sulfonyl fluoride-functionalized phenethylammonium salt': 'null',\n",
       " 'cross-linked polymer (CLP)': 'null',\n",
       " 'ZrL3': 'null',\n",
       " '4-(Trifluoromethyl) phenethylammonium (CF3-PEA)': '4-(trifluoromethyl)phenethylammonium',\n",
       " '(BA)2(MA)n-1PbnI3n+1': 'null',\n",
       " '1,3-propane diammonium iodide': '1,3-propanediammonium iodide',\n",
       " 'benzylamine hydroiodide (BAHI), poly[bis(4-phenyl)(2,5-trimethylphenyl)amine] (PTAA), and 4-tert-butylpyridine (tBP)': 'benzylamine hydroiodide',\n",
       " 'EDAI2': 'null',\n",
       " 'LiF': 'lithium fluoride',\n",
       " '2-TMAI': '2-(thiophen-2-ylmethyl)ammonium iodide',\n",
       " 'Cl-cPP and Cl-bSO': 'null',\n",
       " 'Polystyrene (PS), Teflon, and poly(vinylidene-trifluoroethylene) (PVDF-TrFE)': 'polystyrene',\n",
       " '2D perovskite': 'null',\n",
       " '2CF3-phenethylammonium iodide': '2-(2,(trifluoromethyl)phenyl)ethylammonium iodide'}"
      ]
     },
     "execution_count": 93,
     "metadata": {},
     "output_type": "execute_result"
    }
   ],
   "source": [
    "extracted_passivators"
   ]
  },
  {
   "cell_type": "code",
   "execution_count": 94,
   "metadata": {},
   "outputs": [],
   "source": [
    "passivator_conversions.update(extracted_passivators)"
   ]
  },
  {
   "cell_type": "code",
   "execution_count": 96,
   "metadata": {},
   "outputs": [],
   "source": [
    "with open('data/passivator_conversions.json', 'w') as f:\n",
    "    json.dump(passivator_conversions, f)"
   ]
  },
  {
   "cell_type": "code",
   "execution_count": 86,
   "metadata": {},
   "outputs": [],
   "source": [
    "results = {}\n",
    "for key in new_passivators:\n",
    "    passivator = new_passivators[key]\n",
    "    if passivator is not None:\n",
    "        base_url = \"https://opsin.ch.cam.ac.uk/opsin/\"\n",
    "        smiles_url = base_url + passivator + \".smi\"\n",
    "        r = requests.get(smiles_url)\n",
    "        result = r.text if r.status_code == 200 else None\n",
    "        results[passivator] = result"
   ]
  },
  {
   "cell_type": "code",
   "execution_count": 87,
   "metadata": {},
   "outputs": [
    {
     "data": {
      "text/plain": [
       "{\"2,2',2'',2'''-(ethane-1,2-diyldinitrilo)tetraacetic acid\": 'C(CN(CC(=O)O)CC(=O)O)N(CC(=O)O)CC(=O)O',\n",
       " 'azetidinium iodide': '[I-].[NH2+]1CCC1',\n",
       " '2-(4-(trifluoromethyl)phenyl)ethylammonium iodide': '[I-].FC(C1=CC=C(C=C1)CC[NH3+])(F)F',\n",
       " 'methylammonium chloride': '[Cl-].C[NH3+]',\n",
       " 'cyclohexylmethylazanium iodide': '[I-].C1(CCCCC1)C[NH3+]',\n",
       " 'butan-1-aminium acetate': 'C(C)(=O)[O-].C(CCC)[NH3+]',\n",
       " 'benzene': 'C1=CC=CC=C1',\n",
       " '4-fluoroaniline': 'FC1=CC=C(N)C=C1',\n",
       " 'formamidinium formate': 'C(=O)[O-].C(=[NH2+])N',\n",
       " 'ammonium chloride': '[Cl-].[NH4+]',\n",
       " '4-guanidinobenzoic acid hydrochloride': 'Cl.N(C(=N)N)C1=CC=C(C(=O)O)C=C1',\n",
       " '2-(4-chlorophenyl)ethylazanium iodide': '[I-].ClC1=CC=C(C=C1)CC[NH3+]',\n",
       " '(2-hydroxyethyl)trimethylazanium chloride': '[Cl-].OCC[N+](C)(C)C',\n",
       " 'methoxybenzene': 'COC1=CC=CC=C1',\n",
       " 'pentane-1,5-dicarboximidamide hydrochloride': 'Cl.C(CCCCC(N)=N)C(N)=N',\n",
       " '2-phenylethylazanium iodide': '[I-].C1(=CC=CC=C1)CC[NH3+]',\n",
       " 'sodium 2-sulfanylacetate': 'SCC(=O)[O-].[Na+]',\n",
       " 'sodium fluoride': '[F-].[Na+]',\n",
       " '(9Z)-octadec-9-en-1-aminium iodide': '[I-].C(CCCCCCC\\\\C=C/CCCCCCCC)[NH3+]',\n",
       " 'benzylhydrazine': 'C(C1=CC=CC=C1)NN',\n",
       " 'oxalic acid': 'C(C(=O)O)(=O)O',\n",
       " '4-ethyl-1H-pyrrole-2-carboxylic acid': 'C(C)C=1C=C(NC1)C(=O)O',\n",
       " '3-(aminomethyl)pyridine': 'NCC=1C=NC=CC1',\n",
       " 'butan-1-amine': 'C(CCC)N',\n",
       " 'butan-1-aminium bromide': '[Br-].C(CCC)[NH3+]',\n",
       " 'hexyltrimethylazanium bromide': '[Br-].C(CCCCC)[N+](C)(C)C',\n",
       " '4-tert-butyl-1-methylpyridinium bis(trifluoromethylsulfonyl)imide': '[N-](S(=O)(=O)C(F)(F)F)S(=O)(=O)C(F)(F)F.C(C)(C)(C)C1=CC=[N+](C=C1)C',\n",
       " '4-ethenylbenzylamine': 'C(=C)C1=CC=C(CN)C=C1',\n",
       " 'methanamine': 'CN',\n",
       " '2-(9H-carbazol-9-yl)ethylphosphonic acid': 'C1=CC=CC=2C3=CC=CC=C3N(C12)CCP(O)(O)=O',\n",
       " '4-(tert-butyl)benzylazanium iodide': '[I-].C(C)(C)(C)C1=CC=C(C[NH3+])C=C1',\n",
       " 'hexafluorobenzene': 'FC1=C(C(=C(C(=C1F)F)F)F)F',\n",
       " '2-amino-2,3-dihydro-1H-indene hydrochloride': 'Cl.NC1CC2=CC=CC=C2C1',\n",
       " 'formamidinium acetate': 'C(C)(=O)[O-].C(=[NH2+])N',\n",
       " 'propan-2-aminium chloride': '[Cl-].CC(C)[NH3+]',\n",
       " 'octan-1-aminium iodide': '[I-].C(CCCCCCC)[NH3+]',\n",
       " '4-ethenylbenzylazanium bromide': '[Br-].C(=C)C1=CC=C(C[NH3+])C=C1'}"
      ]
     },
     "execution_count": 87,
     "metadata": {},
     "output_type": "execute_result"
    }
   ],
   "source": [
    "results"
   ]
  },
  {
   "cell_type": "code",
   "execution_count": null,
   "metadata": {},
   "outputs": [],
   "source": []
  }
 ],
 "metadata": {
  "kernelspec": {
   "display_name": "Python 3",
   "language": "python",
   "name": "python3"
  },
  "language_info": {
   "codemirror_mode": {
    "name": "ipython",
    "version": 3
   },
   "file_extension": ".py",
   "mimetype": "text/x-python",
   "name": "python",
   "nbconvert_exporter": "python",
   "pygments_lexer": "ipython3",
   "version": "3.10.6"
  }
 },
 "nbformat": 4,
 "nbformat_minor": 2
}
