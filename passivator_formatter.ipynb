{
 "cells": [
  {
   "cell_type": "code",
   "execution_count": 2,
   "metadata": {},
   "outputs": [],
   "source": [
    "import pandas as pd\n",
    "import json"
   ]
  },
  {
   "cell_type": "code",
   "execution_count": 6,
   "metadata": {},
   "outputs": [],
   "source": [
    "extraction_path = \"data/finetuned_llama_output.json\"\n",
    "with open(extraction_path, \"r\") as f:\n",
    "    extraction_data = json.load(f)\n"
   ]
  },
  {
   "cell_type": "code",
   "execution_count": 9,
   "metadata": {},
   "outputs": [],
   "source": [
    "def get_full_passivator(molecule_name):\n",
    "    new_molecule = \"\"\n",
    "    return new_molecule"
   ]
  },
  {
   "cell_type": "code",
   "execution_count": 10,
   "metadata": {},
   "outputs": [],
   "source": [
    "for key in extraction_data:\n",
    "    item = extraction_data[key]\n",
    "    curr_test = \"test_1\"\n",
    "    i = 1\n",
    "    while curr_test in item:\n",
    "        unformatted_passivator = item[curr_test][\"passivating_molecule\"]\n",
    "        full_passivator = get_full_passivator(unformatted_passivator)\n",
    "        item[curr_test][\"passivating_molecule\"] = full_passivator\n",
    "        i += 1\n",
    "        curr_test = \"test_{i}\"\n"
   ]
  },
  {
   "cell_type": "code",
   "execution_count": 12,
   "metadata": {},
   "outputs": [
    {
     "data": {
      "text/plain": [
       "{'control_pce': 21.0,\n",
       " 'control_voc': 1.17,\n",
       " 'treated_pce': 23.77,\n",
       " 'treated_voc': 1.145,\n",
       " 'passivating_molecule': 'Cyclohexylmethylammonium iodide (CMAI)',\n",
       " 'perovskite_composition': 'α-formamidinium lead triiodide (FAPbI3)',\n",
       " 'electron_transport_layer': 'Fluorine-doped tin oxide (FTO)',\n",
       " 'pin_nip_structure': 'NIP',\n",
       " 'hole_transport_layer': 'Mixed SAMs (2PACz and Me-4PACz)',\n",
       " 'stability_tests': [{'test_name': 'ISOS-D-2I',\n",
       "   'temperature': 85,\n",
       "   'time': 1500,\n",
       "   'humidity': 50,\n",
       "   'control_efficiency': 23.2,\n",
       "   'treatment_efficiency': 19.9},\n",
       "  {'test_name': 'ISOS-L-3',\n",
       "   'temperature': 65,\n",
       "   'time': 1200,\n",
       "   'humidity': 50,\n",
       "   'control_efficiency': 23.2,\n",
       "   'treatment_efficiency': 14.2},\n",
       "  {'test_name': 'ISOS-T',\n",
       "   'temperature': 65,\n",
       "   'time': 500,\n",
       "   'humidity': 50,\n",
       "   'control_efficiency': None,\n",
       "   'treatment_efficiency': None},\n",
       "  {'test_name': 'ISOS-LC',\n",
       "   'temperature': None,\n",
       "   'time': None,\n",
       "   'humidity': None,\n",
       "   'control_efficiency': None,\n",
       "   'treatment_efficiency': None},\n",
       "  {'test_name': 'ISOS-LT',\n",
       "   'temperature': None,\n",
       "   'time': None,\n",
       "   'humidity': None,\n",
       "   'control_efficiency': None,\n",
       "   'treatment_efficiency': None}]}"
      ]
     },
     "execution_count": 12,
     "metadata": {},
     "output_type": "execute_result"
    }
   ],
   "source": [
    "extraction_data[\"0\"]"
   ]
  },
  {
   "cell_type": "code",
   "execution_count": null,
   "metadata": {},
   "outputs": [],
   "source": []
  }
 ],
 "metadata": {
  "kernelspec": {
   "display_name": "mykernel",
   "language": "python",
   "name": "python3"
  },
  "language_info": {
   "codemirror_mode": {
    "name": "ipython",
    "version": 3
   },
   "file_extension": ".py",
   "mimetype": "text/x-python",
   "name": "python",
   "nbconvert_exporter": "python",
   "pygments_lexer": "ipython3",
   "version": "3.11.9"
  }
 },
 "nbformat": 4,
 "nbformat_minor": 2
}
