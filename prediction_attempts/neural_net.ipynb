{
 "cells": [
  {
   "cell_type": "code",
   "execution_count": 3,
   "metadata": {},
   "outputs": [
    {
     "name": "stdout",
     "output_type": "stream",
     "text": [
      "Mean Squared Error: 61.41598403786389\n",
      "R-squared: -68.50054675511504\n"
     ]
    }
   ],
   "source": [
    "import pandas as pd\n",
    "from sklearn.model_selection import train_test_split\n",
    "from sklearn.preprocessing import OneHotEncoder\n",
    "from sklearn.compose import ColumnTransformer\n",
    "from sklearn.pipeline import Pipeline\n",
    "from sklearn.neural_network import MLPRegressor\n",
    "from sklearn.metrics import mean_squared_error, r2_score\n",
    "\n",
    "# Load the dataset\n",
    "df_expanded = pd.read_csv('../data/df_expanded.csv')\n",
    "\n",
    "# Select relevant features and target variables\n",
    "X = df_expanded[['perovskite_composition', 'passivating_molecule']]  # Features\n",
    "y = df_expanded[['treated_pce', 'treated_voc']]  # Targets\n",
    "\n",
    "# Drop rows with missing target variables (treated_pce, treated_voc)\n",
    "df_expanded_clean = df_expanded.dropna(subset=['treated_pce', 'treated_voc'])\n",
    "\n",
    "# Now you can proceed with the cleaned dataset\n",
    "X = df_expanded_clean[['perovskite_composition', 'passivating_molecule']]\n",
    "y = df_expanded_clean[['treated_pce', 'treated_voc']]\n",
    "\n",
    "# Split the data into training and test sets (80% train, 20% test)\n",
    "X_train, X_test, y_train, y_test = train_test_split(X, y, test_size=0.2, random_state=42)\n",
    "\n",
    "# Preprocessing: One-hot encode the 'passivating_molecule' and 'perovskite_composition'\n",
    "preprocessor = ColumnTransformer(\n",
    "    transformers=[\n",
    "        ('molecule', OneHotEncoder(handle_unknown='ignore'), ['passivating_molecule']),  # Handle unknown molecules\n",
    "        ('composition', OneHotEncoder(handle_unknown='ignore'), ['perovskite_composition'])  # Handle unknown compositions\n",
    "    ]\n",
    ")\n",
    "\n",
    "# Build the pipeline with MLPRegressor\n",
    "model = Pipeline(steps=[\n",
    "    ('preprocessor', preprocessor),\n",
    "    ('regressor', MLPRegressor(hidden_layer_sizes=(100,), max_iter=1000, random_state=42))  # Neural Network with 100 nodes in 1 hidden layer\n",
    "])\n",
    "\n",
    "# Train the model\n",
    "model.fit(X_train, y_train)\n",
    "\n",
    "# Evaluate the model (optional)\n",
    "y_pred = model.predict(X_test)\n",
    "mse = mean_squared_error(y_test, y_pred)\n",
    "r2 = r2_score(y_test, y_pred)\n",
    "\n",
    "print(f'Mean Squared Error: {mse}')\n",
    "print(f'R-squared: {r2}')\n"
   ]
  },
  {
   "cell_type": "code",
   "execution_count": 4,
   "metadata": {},
   "outputs": [
    {
     "name": "stdout",
     "output_type": "stream",
     "text": [
      "   Unnamed: 0                   perovskite_composition  \\\n",
      "0           0                 FA0.83Cs0.17Pb0.5Sn0.5I3   \n",
      "1           1                         Cs0.05FA0.95PbI3   \n",
      "2           2                               CH3NH3PbI3   \n",
      "3           3                         FA0.98Cs0.02PbI3   \n",
      "4           4                formamidinium lead iodide   \n",
      "5           5                           MA0.7FA0.3PbI3   \n",
      "6           6    formamidinium lead triiodide (FAPbI3)   \n",
      "7           7     Cs0.05(MA0.10FA0.85)Pb(I0.90Br0.10)3   \n",
      "8           8  (FAPbI3)0.77 (MAPbBr3)0.14 (CsPbI3)0.09   \n",
      "9           9                (FAPbI3)0.97(MAPbBr3)0.03   \n",
      "\n",
      "                                passivating_molecule  predicted_treated_pce  \\\n",
      "0  2,2',6,6'-bis(4-methoxy-2,4,6-trimethylphenyl)...               8.434920   \n",
      "1                                           PEA2ZnX4              16.873306   \n",
      "2                         phenylethylammonium iodide              13.512776   \n",
      "3                   m-TiO2, QD-SnO2, and paa-QD-SnO2              16.544566   \n",
      "4  hexafluorodifluoropropane-1,3-disulfonimide (H...              16.555996   \n",
      "5                    cyclohexylmethylammonium iodide              14.976767   \n",
      "6                                          (BA)2PbI4               8.434920   \n",
      "7                                         DTB(3%DEG)              16.269284   \n",
      "8          2-(9H-carbazol-9-yl)ethyl phosphonic acid               8.434920   \n",
      "9                                           AZO/SnOx              14.508912   \n",
      "\n",
      "   predicted_treated_voc  \n",
      "0               0.451289  \n",
      "1               0.838581  \n",
      "2               0.713222  \n",
      "3               0.733845  \n",
      "4               0.837498  \n",
      "5               0.780834  \n",
      "6               0.451289  \n",
      "7               0.752741  \n",
      "8               0.451289  \n",
      "9               0.852866  \n",
      "Mean Squared Error (Test Set): 61.41598403786389\n",
      "R-squared (Test Set): -68.50054675511504\n"
     ]
    }
   ],
   "source": [
    "# Load the composition and passivating molecule permutations CSV\n",
    "df_permutations = pd.read_csv('../data/composition_passivator_permutations.csv')\n",
    "\n",
    "# Select relevant features (first 10 rows) from the permutations CSV\n",
    "X_permutations_first_10 = df_permutations[['perovskite_composition', 'passivating_molecule']].head(10)\n",
    "\n",
    "# Make predictions on the first 10 permutations\n",
    "y_permutations_pred_first_10 = model.predict(X_permutations_first_10)\n",
    "\n",
    "# Convert predictions into a DataFrame for better visualization\n",
    "predictions_first_10_df = pd.DataFrame(y_permutations_pred_first_10, columns=['predicted_treated_pce', 'predicted_treated_voc'])\n",
    "\n",
    "# Concatenate the original permutations with the predictions\n",
    "df_first_10_with_predictions = pd.concat([df_permutations.head(10), predictions_first_10_df], axis=1)\n",
    "\n",
    "# Show the predictions\n",
    "print(df_first_10_with_predictions)\n",
    "\n",
    "# Optionally: Evaluate model performance on the original training/testing set\n",
    "# Evaluate on the test set if you haven't already\n",
    "y_pred = model.predict(X_test)  # Assuming X_test and y_test are already defined in previous steps\n",
    "mse = mean_squared_error(y_test, y_pred)\n",
    "r2 = r2_score(y_test, y_pred)\n",
    "\n",
    "# Print evaluation metrics\n",
    "print(f'Mean Squared Error (Test Set): {mse}')\n",
    "print(f'R-squared (Test Set): {r2}')\n"
   ]
  }
 ],
 "metadata": {
  "kernelspec": {
   "display_name": "Python 3.11.9 ('mykernel': venv)",
   "language": "python",
   "name": "python3"
  },
  "language_info": {
   "codemirror_mode": {
    "name": "ipython",
    "version": 3
   },
   "file_extension": ".py",
   "mimetype": "text/x-python",
   "name": "python",
   "nbconvert_exporter": "python",
   "pygments_lexer": "ipython3",
   "version": "3.11.9"
  },
  "orig_nbformat": 4,
  "vscode": {
   "interpreter": {
    "hash": "cfc8150c9f54a2e989a1e5e461efaa5cbbeef1dda50fb568d2013acd381e97e6"
   }
  }
 },
 "nbformat": 4,
 "nbformat_minor": 2
}
