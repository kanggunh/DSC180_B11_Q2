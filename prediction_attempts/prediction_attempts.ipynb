{
 "cells": [
  {
   "cell_type": "code",
   "execution_count": 11,
   "metadata": {},
   "outputs": [
    {
     "name": "stdout",
     "output_type": "stream",
     "text": [
      "Regression Results:\n",
      "Random Forest RMSE (Treated PCE): 2.1492\n",
      "Neural Network RMSE (Treated PCE): 8.3017\n"
     ]
    },
    {
     "name": "stderr",
     "output_type": "stream",
     "text": [
      "/home/dap002/DSC180_B11_Q2/mykernel/lib/python3.11/site-packages/sklearn/metrics/_regression.py:492: FutureWarning: 'squared' is deprecated in version 1.4 and will be removed in 1.6. To calculate the root mean squared error, use the function'root_mean_squared_error'.\n",
      "  warnings.warn(\n",
      "/home/dap002/DSC180_B11_Q2/mykernel/lib/python3.11/site-packages/sklearn/metrics/_regression.py:492: FutureWarning: 'squared' is deprecated in version 1.4 and will be removed in 1.6. To calculate the root mean squared error, use the function'root_mean_squared_error'.\n",
      "  warnings.warn(\n"
     ]
    },
    {
     "name": "stdout",
     "output_type": "stream",
     "text": [
      "Gradient Boosting RMSE (Treated PCE): 2.2734\n",
      "Predictions saved to 'model_predictions.csv'.\n"
     ]
    },
    {
     "name": "stderr",
     "output_type": "stream",
     "text": [
      "/home/dap002/DSC180_B11_Q2/mykernel/lib/python3.11/site-packages/sklearn/metrics/_regression.py:492: FutureWarning: 'squared' is deprecated in version 1.4 and will be removed in 1.6. To calculate the root mean squared error, use the function'root_mean_squared_error'.\n",
      "  warnings.warn(\n"
     ]
    }
   ],
   "source": [
    "import pandas as pd\n",
    "import numpy as np\n",
    "from sklearn.model_selection import train_test_split\n",
    "from sklearn.preprocessing import StandardScaler\n",
    "from sklearn.ensemble import RandomForestRegressor, GradientBoostingRegressor\n",
    "from sklearn.neural_network import MLPRegressor\n",
    "from sklearn.metrics import mean_squared_error\n",
    "\n",
    "# Load dataset\n",
    "df = pd.read_csv(\"../data/data_prediction_updated.csv\")\n",
    "\n",
    "# Drop unwanted columns\n",
    "X = df.drop(columns=[\"perovskite_composition\", \"passivating_molecule\", \"passivating_molecule_cleaned\", \"passivating_molecule_SMILES\", \"treated_pce\"])\n",
    "y = df[\"treated_pce\"]\n",
    "\n",
    "# Handle missing values (if any)\n",
    "X = X.fillna(X.mean())\n",
    "\n",
    "# Standardize numerical features\n",
    "scaler = StandardScaler()\n",
    "X_scaled = scaler.fit_transform(X)\n",
    "\n",
    "# Train-test split\n",
    "X_train, X_test, y_train, y_test = train_test_split(X_scaled, y, test_size=0.2, random_state=42)\n",
    "\n",
    "# Model Initialization\n",
    "models = {\n",
    "    \"Random Forest\": RandomForestRegressor(n_estimators=100, random_state=42),\n",
    "    \"Neural Network\": MLPRegressor(hidden_layer_sizes=(64, 32), max_iter=500, random_state=42),\n",
    "    \"Gradient Boosting\": GradientBoostingRegressor(n_estimators=100, random_state=42)\n",
    "}\n",
    "\n",
    "# Train and evaluate models\n",
    "print(\"Regression Results:\")\n",
    "for name, model in models.items():\n",
    "    model.fit(X_train, y_train)\n",
    "    y_pred = model.predict(X_test)\n",
    "    rmse = mean_squared_error(y_test, y_pred, squared=False)\n",
    "    print(f\"{name} RMSE (Treated PCE): {rmse:.4f}\")\n",
    "\n",
    "# Store predictions\n",
    "predictions = pd.DataFrame({\n",
    "    \"Actual Treated PCE\": y_test.values,\n",
    "    \"Random Forest Predictions\": models[\"Random Forest\"].predict(X_test),\n",
    "    \"Neural Network Predictions\": models[\"Neural Network\"].predict(X_test),\n",
    "    \"Gradient Boosting Predictions\": models[\"Gradient Boosting\"].predict(X_test)\n",
    "})\n",
    "\n",
    "# Save results to CSV\n",
    "predictions.to_csv(\"model_predictions.csv\", index=False)\n",
    "\n",
    "print(\"Predictions saved to 'model_predictions.csv'.\")\n"
   ]
  },
  {
   "cell_type": "code",
   "execution_count": 14,
   "metadata": {},
   "outputs": [
    {
     "ename": "FileNotFoundError",
     "evalue": "[Errno 2] No such file or directory: 'random_forest_model.joblib'",
     "output_type": "error",
     "traceback": [
      "\u001b[0;31m---------------------------------------------------------------------------\u001b[0m",
      "\u001b[0;31mFileNotFoundError\u001b[0m                         Traceback (most recent call last)",
      "Cell \u001b[0;32mIn[14], line 7\u001b[0m\n\u001b[1;32m      4\u001b[0m \u001b[39mfrom\u001b[39;00m \u001b[39mjoblib\u001b[39;00m \u001b[39mimport\u001b[39;00m load\n\u001b[1;32m      6\u001b[0m \u001b[39m# Load trained models\u001b[39;00m\n\u001b[0;32m----> 7\u001b[0m rf_model \u001b[39m=\u001b[39m load(\u001b[39m\"\u001b[39;49m\u001b[39mrandom_forest_model.joblib\u001b[39;49m\u001b[39m\"\u001b[39;49m)\n\u001b[1;32m      8\u001b[0m nn_model \u001b[39m=\u001b[39m load(\u001b[39m\"\u001b[39m\u001b[39mneural_network_model.joblib\u001b[39m\u001b[39m\"\u001b[39m)\n\u001b[1;32m      9\u001b[0m gb_model \u001b[39m=\u001b[39m load(\u001b[39m\"\u001b[39m\u001b[39mgradient_boosting_model.joblib\u001b[39m\u001b[39m\"\u001b[39m)\n",
      "File \u001b[0;32m~/DSC180_B11_Q2/mykernel/lib/python3.11/site-packages/joblib/numpy_pickle.py:650\u001b[0m, in \u001b[0;36mload\u001b[0;34m(filename, mmap_mode)\u001b[0m\n\u001b[1;32m    648\u001b[0m         obj \u001b[39m=\u001b[39m _unpickle(fobj)\n\u001b[1;32m    649\u001b[0m \u001b[39melse\u001b[39;00m:\n\u001b[0;32m--> 650\u001b[0m     \u001b[39mwith\u001b[39;00m \u001b[39mopen\u001b[39;49m(filename, \u001b[39m'\u001b[39;49m\u001b[39mrb\u001b[39;49m\u001b[39m'\u001b[39;49m) \u001b[39mas\u001b[39;00m f:\n\u001b[1;32m    651\u001b[0m         \u001b[39mwith\u001b[39;00m _read_fileobject(f, filename, mmap_mode) \u001b[39mas\u001b[39;00m fobj:\n\u001b[1;32m    652\u001b[0m             \u001b[39mif\u001b[39;00m \u001b[39misinstance\u001b[39m(fobj, \u001b[39mstr\u001b[39m):\n\u001b[1;32m    653\u001b[0m                 \u001b[39m# if the returned file object is a string, this means we\u001b[39;00m\n\u001b[1;32m    654\u001b[0m                 \u001b[39m# try to load a pickle file generated with an version of\u001b[39;00m\n\u001b[1;32m    655\u001b[0m                 \u001b[39m# Joblib so we load it with joblib compatibility function.\u001b[39;00m\n",
      "\u001b[0;31mFileNotFoundError\u001b[0m: [Errno 2] No such file or directory: 'random_forest_model.joblib'"
     ]
    }
   ],
   "source": [
    "import pandas as pd\n",
    "import numpy as np\n",
    "from sklearn.preprocessing import StandardScaler\n",
    "from joblib import load\n",
    "\n",
    "# Load trained models\n",
    "rf_model = load(\"random_forest_model.joblib\")\n",
    "nn_model = load(\"neural_network_model.joblib\")\n",
    "gb_model = load(\"gradient_boosting_model.joblib\")\n",
    "\n",
    "# Load permutation dataset\n",
    "permutation_df = pd.read_csv(\"permutation_df.csv\")\n",
    "\n",
    "# Drop non-numeric columns\n",
    "X_perm = permutation_df.drop(columns=[\"passivating_molecule\", \"perovskite_composition\"])\n",
    "\n",
    "# Handle missing values (if any)\n",
    "X_perm = X_perm.fillna(X_perm.mean())\n",
    "\n",
    "# Standardize using the same scaler used during training\n",
    "scaler = load(\"scaler.joblib\")  # Load the scaler used in training\n",
    "X_perm_scaled = scaler.transform(X_perm)\n",
    "\n",
    "# Make predictions\n",
    "predictions = pd.DataFrame({\n",
    "    \"passivating_molecule\": permutation_df[\"passivating_molecule\"],\n",
    "    \"perovskite_composition\": permutation_df[\"perovskite_composition\"],\n",
    "    \"Random Forest Predictions\": rf_model.predict(X_perm_scaled),\n",
    "    \"Neural Network Predictions\": nn_model.predict(X_perm_scaled),\n",
    "    \"Gradient Boosting Predictions\": gb_model.predict(X_perm_scaled),\n",
    "})\n",
    "\n",
    "# Save results\n",
    "predictions.to_csv(\"permutation_predictions.csv\", index=False)\n",
    "\n",
    "print(\"Predictions saved to 'permutation_predictions.csv'.\")\n"
   ]
  }
 ],
 "metadata": {
  "kernelspec": {
   "display_name": "Python 3.11.9 ('mykernel': venv)",
   "language": "python",
   "name": "python3"
  },
  "language_info": {
   "codemirror_mode": {
    "name": "ipython",
    "version": 3
   },
   "file_extension": ".py",
   "mimetype": "text/x-python",
   "name": "python",
   "nbconvert_exporter": "python",
   "pygments_lexer": "ipython3",
   "version": "3.11.9"
  },
  "orig_nbformat": 4,
  "vscode": {
   "interpreter": {
    "hash": "cfc8150c9f54a2e989a1e5e461efaa5cbbeef1dda50fb568d2013acd381e97e6"
   }
  }
 },
 "nbformat": 4,
 "nbformat_minor": 2
}
