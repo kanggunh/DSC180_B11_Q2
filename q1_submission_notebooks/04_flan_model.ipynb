{
 "cells": [
  {
   "cell_type": "code",
   "execution_count": 5,
   "metadata": {},
   "outputs": [],
   "source": [
    "import pandas as pd\n",
    "from transformers import AutoTokenizer, AutoModelForSeq2SeqLM\n",
    "import os\n",
    "import numpy as np"
   ]
  },
  {
   "cell_type": "code",
   "execution_count": 6,
   "metadata": {},
   "outputs": [],
   "source": [
    "#for now using google flan, will switch to llama once we set it up on dsmlp\n",
    "model_name = \"google/flan-t5-base\"\n",
    "tokenizer = AutoTokenizer.from_pretrained(model_name)\n",
    "model = AutoModelForSeq2SeqLM.from_pretrained(model_name)"
   ]
  },
  {
   "cell_type": "code",
   "execution_count": 7,
   "metadata": {},
   "outputs": [],
   "source": [
    "def classify_long_text_with_flan(text, token_limit=512):\n",
    "    \"\"\"given a scientific paper as text input, determines if a paper is relevant.\n",
    "    splits the text into chunks of 512 tokens by default and if any of the chunks is relevant, returns 1\"\"\"\n",
    "    # \n",
    "    prompt_template = (\n",
    "    \"Is there any mention of passivating molecules or techniques aimed at improving perovskite solar cell stability in this research paper? \"\n",
    "    \"Classify as 'Relevant' if the text refers to either of these topics, even indirectly. Otherwise, answer 'Not Relevant'.\\n\\nContent: {}\"\n",
    ")\n",
    "    \n",
    "    # Tokenize and split into chunks\n",
    "    tokens = tokenizer(text, return_tensors=\"pt\", truncation=False)[\"input_ids\"][0]\n",
    "    chunk_size = token_limit - len(tokenizer(prompt_template.format(\"\"))[\"input_ids\"])  # Adjust for prompt length\n",
    "    chunks = [tokens[i:i + chunk_size] for i in range(0, len(tokens), chunk_size)]\n",
    "\n",
    "    predictions = []\n",
    "    for chunk in chunks:\n",
    "        # Decode chunk and add to prompt\n",
    "        content = tokenizer.decode(chunk, skip_special_tokens=True)\n",
    "        prompt = prompt_template.format(content)\n",
    "        \n",
    "        # Generate response using FLAN\n",
    "        inputs = tokenizer(prompt, return_tensors=\"pt\", max_length=token_limit, truncation=True)\n",
    "        outputs = model.generate(**inputs, max_length=50)\n",
    "        prediction = tokenizer.decode(outputs[0], skip_special_tokens=True)\n",
    "\n",
    "        if prediction == \"Relevant\":\n",
    "            predictions.append(1)\n",
    "        else:\n",
    "            predictions.append(0)\n",
    "    \n",
    "    # Majority voting\n",
    "    final_prediction = 1 if predictions.count(1) > 0 else 0\n",
    "    return final_prediction"
   ]
  },
  {
   "cell_type": "code",
   "execution_count": 8,
   "metadata": {},
   "outputs": [],
   "source": [
    "#loading in test dataset\n",
    "df = pd.read_csv('../data/merged_label.csv')"
   ]
  },
  {
   "cell_type": "code",
   "execution_count": 9,
   "metadata": {},
   "outputs": [
    {
     "name": "stderr",
     "output_type": "stream",
     "text": [
      "Token indices sequence length is longer than the specified maximum sequence length for this model (13857 > 512). Running this sequence through the model will result in indexing errors\n",
      "C:\\Users\\nicco\\AppData\\Local\\Temp\\ipykernel_7300\\3726064427.py:5: SettingWithCopyWarning: \n",
      "A value is trying to be set on a copy of a slice from a DataFrame.\n",
      "Try using .loc[row_indexer,col_indexer] = value instead\n",
      "\n",
      "See the caveats in the documentation: https://pandas.pydata.org/pandas-docs/stable/user_guide/indexing.html#returning-a-view-versus-a-copy\n",
      "  df_good_sample['pred'] = df_good_sample['text'].apply(classify_long_text_with_flan)\n"
     ]
    },
    {
     "data": {
      "text/html": [
       "<div>\n",
       "<style scoped>\n",
       "    .dataframe tbody tr th:only-of-type {\n",
       "        vertical-align: middle;\n",
       "    }\n",
       "\n",
       "    .dataframe tbody tr th {\n",
       "        vertical-align: top;\n",
       "    }\n",
       "\n",
       "    .dataframe thead th {\n",
       "        text-align: right;\n",
       "    }\n",
       "</style>\n",
       "<table border=\"1\" class=\"dataframe\">\n",
       "  <thead>\n",
       "    <tr style=\"text-align: right;\">\n",
       "      <th></th>\n",
       "      <th>link</th>\n",
       "      <th>label</th>\n",
       "      <th>text</th>\n",
       "      <th>pred</th>\n",
       "    </tr>\n",
       "  </thead>\n",
       "  <tbody>\n",
       "    <tr>\n",
       "      <th>0</th>\n",
       "      <td>https://www.nature.com/articles/s41566-019-0398-2</td>\n",
       "      <td>1</td>\n",
       "      <td>Surface passivation of perovskite film for eff...</td>\n",
       "      <td>1</td>\n",
       "    </tr>\n",
       "    <tr>\n",
       "      <th>1</th>\n",
       "      <td>https://www.nature.com/articles/s41560-020-007...</td>\n",
       "      <td>1</td>\n",
       "      <td>Intact 2D/3D halide junction perovskite solar ...</td>\n",
       "      <td>1</td>\n",
       "    </tr>\n",
       "    <tr>\n",
       "      <th>2</th>\n",
       "      <td>https://www.nature.com/articles/s41467-021-236...</td>\n",
       "      <td>1</td>\n",
       "      <td>Multication perovskite 2D/3D interfaces form v...</td>\n",
       "      <td>0</td>\n",
       "    </tr>\n",
       "    <tr>\n",
       "      <th>3</th>\n",
       "      <td>https://doi.org/10.1038%2Fs41586-022-04604-5</td>\n",
       "      <td>1</td>\n",
       "      <td>Stability-limiting heterointerfaces of perovsk...</td>\n",
       "      <td>0</td>\n",
       "    </tr>\n",
       "    <tr>\n",
       "      <th>4</th>\n",
       "      <td>https://doi.org/10.1038%2Fs41467-022-30426-0</td>\n",
       "      <td>1</td>\n",
       "      <td>Imaging and quantifying non-radiative losses a...</td>\n",
       "      <td>1</td>\n",
       "    </tr>\n",
       "  </tbody>\n",
       "</table>\n",
       "</div>"
      ],
      "text/plain": [
       "                                                link  label  \\\n",
       "0  https://www.nature.com/articles/s41566-019-0398-2      1   \n",
       "1  https://www.nature.com/articles/s41560-020-007...      1   \n",
       "2  https://www.nature.com/articles/s41467-021-236...      1   \n",
       "3       https://doi.org/10.1038%2Fs41586-022-04604-5      1   \n",
       "4       https://doi.org/10.1038%2Fs41467-022-30426-0      1   \n",
       "\n",
       "                                                text  pred  \n",
       "0  Surface passivation of perovskite film for eff...     1  \n",
       "1  Intact 2D/3D halide junction perovskite solar ...     1  \n",
       "2  Multication perovskite 2D/3D interfaces form v...     0  \n",
       "3  Stability-limiting heterointerfaces of perovsk...     0  \n",
       "4  Imaging and quantifying non-radiative losses a...     1  "
      ]
     },
     "execution_count": 9,
     "metadata": {},
     "output_type": "execute_result"
    }
   ],
   "source": [
    "#testing the model on 5 rows we know are relevant\n",
    "df_good = df[df['label'] == 1]\n",
    "df_good_sample = df_good.head()\n",
    "\n",
    "df_good_sample['pred'] = df_good_sample['text'].apply(classify_long_text_with_flan)\n",
    "df_good_sample"
   ]
  },
  {
   "cell_type": "code",
   "execution_count": 10,
   "metadata": {},
   "outputs": [],
   "source": [
    "df['pred'] = df['text'].apply(classify_long_text_with_flan)"
   ]
  },
  {
   "cell_type": "code",
   "execution_count": 12,
   "metadata": {},
   "outputs": [],
   "source": [
    "accuracy = np.mean(df['pred'] == df['label'])\n",
    "tp = ((df['pred'] == 1) & (df['label'] == 1)).sum()\n",
    "fn = ((df['pred'] == 0) & (df['label'] == 1)).sum()\n",
    "tn = ((df['pred'] == 0) & (df['label'] == 0)).sum()\n",
    "fp = ((df['pred'] == 1) & (df['label'] == 0)).sum()\n",
    "\n",
    "sensitivity = tp / (tp + fn) if (tp + fn) != 0 else 0\n",
    "specificity = tn / (tn + fp) if (tn + fp) != 0 else 0\n",
    "recall = tp / (tp + fn)\n",
    "\n",
    "ber = 1 - 0.5 * (sensitivity + specificity)"
   ]
  },
  {
   "cell_type": "code",
   "execution_count": 21,
   "metadata": {},
   "outputs": [],
   "source": [
    "#writing results to model result folder\n",
    "results_path = '../data/model_results/flan.csv'\n",
    "new_row = pd.DataFrame({ 'model_name': 'FLAN-T5', 'accuracy': accuracy, 'recall': recall, 'BER': ber }, index=[0])\n",
    "new_row.to_csv(results_path, index=False)"
   ]
  }
 ],
 "metadata": {
  "kernelspec": {
   "display_name": "Python 3 (ipykernel)",
   "language": "python",
   "name": "python3"
  },
  "language_info": {
   "codemirror_mode": {
    "name": "ipython",
    "version": 3
   },
   "file_extension": ".py",
   "mimetype": "text/x-python",
   "name": "python",
   "nbconvert_exporter": "python",
   "pygments_lexer": "ipython3",
   "version": "3.10.9"
  }
 },
 "nbformat": 4,
 "nbformat_minor": 2
}
