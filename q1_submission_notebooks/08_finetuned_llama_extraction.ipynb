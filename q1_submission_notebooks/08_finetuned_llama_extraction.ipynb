{
 "cells": [
  {
   "cell_type": "code",
   "execution_count": 2,
   "metadata": {},
   "outputs": [],
   "source": [
    "from transformers import AutoTokenizer, AutoModelForCausalLM, pipeline\n",
    "import os\n",
    "from dotenv import load_dotenv\n",
    "import json\n",
    "from litellm import completion\n",
    "import re\n",
    "import torch"
   ]
  },
  {
   "cell_type": "code",
   "execution_count": 3,
   "metadata": {},
   "outputs": [],
   "source": [
    "torch.cuda.empty_cache()"
   ]
  },
  {
   "cell_type": "markdown",
   "metadata": {},
   "source": [
    "## Loading Model and Prompt"
   ]
  },
  {
   "cell_type": "code",
   "execution_count": null,
   "metadata": {},
   "outputs": [
    {
     "name": "stderr",
     "output_type": "stream",
     "text": [
      "Loading checkpoint shards: 100%|██████████| 2/2 [00:05<00:00,  2.83s/it]\n"
     ]
    }
   ],
   "source": [
    "# trained model path\n",
    "model_path = \"../models/llama-3.2-3b-it-Perovskite-PaperExtractor\"\n",
    "\n",
    "model = AutoModelForCausalLM.from_pretrained(model_path)\n",
    "tokenizer = AutoTokenizer.from_pretrained(model_path)\n",
    "tokenizer.model_max_length = 60000\n",
    "pipe = pipeline(\n",
    "    \"text-generation\",\n",
    "    model=model,\n",
    "    tokenizer=tokenizer,\n",
    "    temperature=0.1,\n",
    "    device=0\n",
    ")"
   ]
  },
  {
   "cell_type": "code",
   "execution_count": null,
   "metadata": {},
   "outputs": [],
   "source": [
    "# prompt that specifies what to return\n",
    "PREFIX = \"\"\"\n",
    "You are a helpful scientific assistant. Your task is to extract relevant scientific data from the provided text about perovskite solar cells and passivating molecules. If the data is not available in the text, return null for the respective fields. Output the information in JSON format with the following fields:\n",
    "- `control_pce`: Power conversion efficiency for control perovskite (numeric).\n",
    "- `control_voc`: Open-circuit voltage for control perovskite (numeric).\n",
    "- `treated_pce`: Best Power conversion efficiency for treated perovskite (numeric).\n",
    "- `treated_voc`: Best Open-circuit voltage for treated perovskite (numeric).\n",
    "- `passivating_molecule`: Name of the champion passivating molecule tested.\n",
    "- `perovskite_composition`: Chemical formula of the perovskite (string).\n",
    "- `electron_transport_layer`: Material used as the electron transport layer (string).\n",
    "- `pin_nip_structure`: Whether the perovskite used a PIN or NIP structure (values: PIN or NIP)\n",
    "- `hole_transport_layer`: Material used as the hole transport layer (string).\n",
    "- Stability tests: Include any stability tests mentioned. Stability tests can be done in dark storage (ISOS-D), light-soaking (ISOS-L), thermal cycling (ISOS-T), light cycling (ISOS-LC), and solar-thermal cycling (ISOS-LT). If none of these types are tested, do not include a JSON object for them. Note that these test names are typically not mentioned directly, and you will have to infer them.\n",
    "Make sure that all numeric variables are proper javascript numbers. If not, return them as a string.\n",
    "For each test, the value should follow this format:\n",
    "```json\n",
    "{\n",
    "  \"test_name\": null, (**make sure this value is only one of the following possible values**: ISOS-D, ISOS-L, ISOS-T, ISOS-LC, ISOS-LT)\n",
    "  \"temperature\": null (numeric - only return the number in degrees celsius),\n",
    "  \"time\": null,\n",
    "  \"humidity\": null (string),\n",
    "  \"control_efficiency\": null,\n",
    "  \"treatment_efficiency\": null\n",
    "}\n",
    "\n",
    "The JSON structure must follow this exact format:\n",
    "{\n",
    "  \"control_pce\": null,\n",
    "  \"control_voc\": null,\n",
    "  \"treated_pce\": null,\n",
    "  \"treated_voc\": null,\n",
    "  \"passivating_molecule\": null (make sure this value is parseable by JSON - i.e. there are no quotation marks within the string itself),\n",
    "  \"perovskite_composition\": null,\n",
    "  \"electron_transport_layer\": null (make sure this value is parseable by JSON - i.e. there are no characters that would disrupt parsing within the string itself. Do not need to give the full name),\n",
    "  \"hole_transport_layer\": null,\n",
    "  \"stability_tests\": [\n",
    "    {\n",
    "      \"test_name\": null (**make sure this value is only one of the following possible values**: ISOS-D, ISOS-L, ISOS-T, ISOS-LC, ISOS-LT),\n",
    "      \"temperature\": null (**make sure that this value is either a number or a string - cannot have a - or °**. Do not include unit, make sure it is in celsius. Value must be parseable, i.e. a string or a number.),\n",
    "      \"time\": null,\n",
    "      \"humidity\": null,\n",
    "      \"control_efficiency\": null,\n",
    "      \"treatment_efficiency\": null\n",
    "    },\n",
    "  ]\n",
    "}\n",
    "Be concise and accurate. Include only information explicitly present in the text.\n",
    "Don't return ranges for any values, as this will cause the JSON to not parse correctly. If a range is presented, return the range as a string. This is any value that has a \"-\" in it.\n",
    "Do not include the \"%\" sign for any value, this will cause the JSON to parse incorrectly. Either do not include it or return a string - specifically for PCE and effiicency variables.\n",
    "Do not include the degree symbol for any value, this will cause the JSON to parse incorrectly.\n",
    "If a value is not a string or number, i.e. \"85 C\", make sure to put quotes around it so that JSON is able to parse it correctly. Make sure every value is a valid string or number.\n",
    "**make sure no unparseable JSON is returned as values for any of these properties - this means that all strings should have quotation marks around them**\n",
    "Only return JSON. The text is below:\n",
    "\"\"\"\n",
    "SUFFIX = \"\"\"\\n\\n{sample}\\n\\n\"\"\"\n",
    "def create_prompt(system, user):\n",
    "    tokens = tokenizer.encode(user, max_length=23000, truncation=True) # prevents CUDA memory errors with current GPU\n",
    "    truncated_user = tokenizer.decode(tokens)\n",
    "    return [\n",
    "    {\"role\": \"system\", \"content\": system},\n",
    "    {\"role\": \"user\", \"content\": truncated_user}, ]"
   ]
  },
  {
   "cell_type": "markdown",
   "metadata": {},
   "source": [
    "## Generating Extracted Data"
   ]
  },
  {
   "cell_type": "code",
   "execution_count": null,
   "metadata": {},
   "outputs": [],
   "source": [
    "contents = {}"
   ]
  },
  {
   "cell_type": "code",
   "execution_count": null,
   "metadata": {},
   "outputs": [],
   "source": [
    "txt_dir = \"../data/txts\"\n",
    "for filename in os.listdir(txt_dir):\n",
    "    if filename.endswith(\".txt\") == False:\n",
    "        continue\n",
    "    filepath = os.path.join(txt_dir, filename)\n",
    "    paper_id = os.path.splitext(filename)[0]\n",
    "    if paper_id in contents:\n",
    "        continue\n",
    "    print(paper_id)\n",
    "    #feeds paper into model pipeline\n",
    "    with open(filepath, \"r\", encoding=\"utf-8\") as file:\n",
    "        text = file.read()\n",
    "        instruction = create_prompt(PREFIX, text)\n",
    "        json_string = pipe(instruction, max_new_tokens=1024)[0][\"generated_text\"][-1]['content']\n",
    "        json_match = re.search(r\"\\{.*\\}\", json_string, re.DOTALL)\n",
    "        if json_match:\n",
    "            raw_json = json_match.group(0).strip()\n",
    "        else:\n",
    "            print(\"No JSON found\")\n",
    "            continue\n",
    "        # Fix unquoted values (if any exist, less common)\n",
    "        parseable = re.sub(r'\":\\s*\"([^\"]*?)(\".*?\"[^\"]*?)\"', r'\": \"\\1\\\\\\2\"', raw_json)\n",
    "        try:\n",
    "            parsed_data = json.loads(parseable)\n",
    "            contents[paper_id] = parsed_data\n",
    "        except json.JSONDecodeError as e:\n",
    "            print(\"Error creating JSON\", e)\n",
    "            print(raw_json)\n",
    "        "
   ]
  },
  {
   "cell_type": "code",
   "execution_count": null,
   "metadata": {},
   "outputs": [],
   "source": [
    "# exporting JSON\n",
    "json_path = \"../data/finetuned_llama_output.json\"\n",
    "with open(json_path, \"w\") as file:\n",
    "    json.dump(contents, file, indent=4)"
   ]
  }
 ],
 "metadata": {
  "kernelspec": {
   "display_name": "Python 3 (ipykernel)",
   "language": "python",
   "name": "python3"
  },
  "language_info": {
   "codemirror_mode": {
    "name": "ipython",
    "version": 3
   },
   "file_extension": ".py",
   "mimetype": "text/x-python",
   "name": "python",
   "nbconvert_exporter": "python",
   "pygments_lexer": "ipython3",
   "version": "3.10.9"
  }
 },
 "nbformat": 4,
 "nbformat_minor": 2
}
