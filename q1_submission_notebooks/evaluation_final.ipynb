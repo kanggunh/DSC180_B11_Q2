{
 "cells": [
  {
   "cell_type": "markdown",
   "metadata": {},
   "source": [
    "# This file compares the teamtat annotation with Extraction performed (Json)"
   ]
  },
  {
   "cell_type": "code",
   "execution_count": 1,
   "metadata": {},
   "outputs": [],
   "source": [
    "from sklearn.metrics import precision_score, recall_score, f1_score\n",
    "from difflib import SequenceMatcher\n",
    "import numpy as np\n",
    "import json\n",
    "import os\n",
    "import xml.etree.ElementTree as ET \n",
    "import pandas as pd\n",
    "import re\n",
    "from sklearn.metrics.pairwise import cosine_similarity"
   ]
  },
  {
   "cell_type": "markdown",
   "metadata": {},
   "source": [
    "## File Preparation"
   ]
  },
  {
   "cell_type": "code",
   "execution_count": 2,
   "metadata": {},
   "outputs": [],
   "source": [
    "def str_toJson(string):\n",
    "    ##The json output from annotation dataframe was not in correct json format\n",
    "    # We will change the None to null\n",
    "    json_string = string.replace(\"None\", \"null\")\n",
    "\n",
    "    try:\n",
    "        # Try to load the JSON string\n",
    "        json_object = json.loads(json_string)\n",
    "        return json_object\n",
    "    except json.JSONDecodeError as e:\n",
    "        # Catch JSONDecodeError if the string is not valid JSON\n",
    "        print(f\"Error decoding JSON: {e}\")\n",
    "        return None\n",
    "    except Exception as e:\n",
    "        # Catch any other exceptions\n",
    "        print(f\"An error occurred: {e}\")\n",
    "        return None"
   ]
  },
  {
   "cell_type": "code",
   "execution_count": 3,
   "metadata": {},
   "outputs": [],
   "source": [
    "def include_passivating(dictionary):\n",
    "    ##In extraction json, realized that some extraction has passivating molecule that is NOT included in its stability testing. \n",
    "    ## Since passivating molecule (if exist) needs to be in stability testing (nexted dictionary), we will transfer the information and spit out a cleaned dictionary. \n",
    "    if \"passivating_molecule\" in dictionary.keys():\n",
    "        passivating = dictionary['passivating_molecule']\n",
    "        del dictionary['passivating_molecule']\n",
    "        \n",
    "        for entity in dictionary.keys():\n",
    "            if entity.startswith('test'):\n",
    "                # print(i['entity'])\n",
    "                if type(dictionary[entity]) == dict:\n",
    "                    if 'passivating_molecule' in dictionary[entity].keys():\n",
    "                        continue\n",
    "                    else:\n",
    "                        # print(\"Have to include passivating molecule in tests\")\n",
    "                        dictionary[entity]['passivating_molecule'] = passivating\n",
    "        \n",
    "    return dictionary"
   ]
  },
  {
   "cell_type": "code",
   "execution_count": 4,
   "metadata": {},
   "outputs": [],
   "source": [
    "## Convert all numerical data into float for both\n",
    "\n",
    "#### WORK ON NUMERICAL DATA THAT INCLUDES RANGE \"-\" \n",
    "def convert_numeric(dictionary):\n",
    "    numerical_key = ['time', 'efficiency_cont', 'efficiency_tret', 'control_pce', 'treated_pce', 'control_voc', 'treated_voc']\n",
    "    exception_numeric = ['humidity', 'temperature']\n",
    "\n",
    "    translation_table = str.maketrans('', '', 'abcdefghijklmnopqrstuvwxyzABCDEFGHIJKLMNOPQRSTUVWXYZ!@#$%^&*()')\n",
    "    for key in dictionary.keys():\n",
    "        if (key.startswith('test')) & (type(dictionary[key]) == dict):\n",
    "            for entity in dictionary[key].keys():\n",
    "                if entity in numerical_key:\n",
    "                    # print(dictionary[key][entity])\n",
    "                    if isinstance(dictionary[key][entity], str): \n",
    "                        substitute = re.sub(r'[^0-9.]', '', dictionary[key][entity][:4])\n",
    "                        if len(substitute) != 0:\n",
    "                            numerical_value = float(substitute)\n",
    "                            dictionary[key][entity] = numerical_value\n",
    "                        else:\n",
    "                            dictionary[key][entity] = None\n",
    "                elif entity in exception_numeric:\n",
    "                    if isinstance(dictionary[key][entity], str): \n",
    "                        if \"-\" not in dictionary[key][entity]:\n",
    "                            # print(\"regular_case\",dictionary[key][entity])\n",
    "                            substitute = re.sub(r'[^0-9.]', '', dictionary[key][entity][:4])\n",
    "                            if len(substitute) != 0:\n",
    "                                numerical_value = float(substitute)\n",
    "                                dictionary[key][entity] = numerical_value\n",
    "                            else:\n",
    "                                dictionary[key][entity] = None\n",
    "                        # else:\n",
    "                            \n",
    "                        #     print(dictionary[key][entity])\n",
    "\n",
    "\n",
    "    return dictionary"
   ]
  },
  {
   "cell_type": "code",
   "execution_count": 5,
   "metadata": {},
   "outputs": [],
   "source": [
    "def convert_efficiency(dictionary):\n",
    "    entity_decimal = ['efficiency_cont','efficiency_tret']\n",
    "    for key in dictionary.keys():\n",
    "        if (key.startswith('test')) & (type(dictionary[key]) == dict):\n",
    "            for entity in dictionary[key].keys():\n",
    "                if (entity in entity_decimal) and (dictionary[key][entity] != None):\n",
    "                    if dictionary[key][entity] == dictionary[key][entity] > 1:\n",
    "                        dictionary[key][entity] = dictionary[key][entity] / 100\n",
    "    return dictionary\n",
    "\n",
    "\n",
    "    "
   ]
  },
  {
   "cell_type": "markdown",
   "metadata": {},
   "source": [
    "#### Analyzing these outputs\n",
    "\n",
    "Annotation notes: \n",
    "- THE 4 basic variable that is to compare is PEROVSKITE COMPOSITION, ETL, HTL, STRUCTURE\n",
    "- Stability entity: efficiency_control is wrong, All value is None, so ignore. \n",
    "- Common entity: ['stability_type', 'passivating_molecule', 'humidity', 'temperature', 'time', 'control_pce', 'treated_pce', 'control_voc', 'treated_voc', 'efficiency_tret'] \n",
    "    - 'efficiency_cont' are included or not\n",
    "\n",
    "- the efficiency in extracted data need to be converted to decimals since it is in percentage SOMETIMES\n",
    "    - 'control_efficiency' and 'treatment_efficiency can be ignored\n",
    "\n",
    "\n",
    "Extraction notes:\n",
    "- some extraction has passivating molecule that is NOT included in its stability testing. "
   ]
  },
  {
   "cell_type": "markdown",
   "metadata": {},
   "source": [
    "### Loading Teamtat Annotation as dataframe"
   ]
  },
  {
   "cell_type": "code",
   "execution_count": 6,
   "metadata": {},
   "outputs": [
    {
     "data": {
      "text/html": [
       "<div>\n",
       "<style scoped>\n",
       "    .dataframe tbody tr th:only-of-type {\n",
       "        vertical-align: middle;\n",
       "    }\n",
       "\n",
       "    .dataframe tbody tr th {\n",
       "        vertical-align: top;\n",
       "    }\n",
       "\n",
       "    .dataframe thead th {\n",
       "        text-align: right;\n",
       "    }\n",
       "</style>\n",
       "<table border=\"1\" class=\"dataframe\">\n",
       "  <thead>\n",
       "    <tr style=\"text-align: right;\">\n",
       "      <th></th>\n",
       "      <th>first_num</th>\n",
       "      <th>id</th>\n",
       "      <th>text</th>\n",
       "      <th>memory</th>\n",
       "      <th>output</th>\n",
       "      <th>second_num</th>\n",
       "    </tr>\n",
       "  </thead>\n",
       "  <tbody>\n",
       "    <tr>\n",
       "      <th>0</th>\n",
       "      <td>0</td>\n",
       "      <td>0_54</td>\n",
       "      <td>\\t\\t\\t of 5 Downloaded from https://www.scienc...</td>\n",
       "      <td>{\"perovskite_composition\": \"Cs0.05FA0.85MA0.1P...</td>\n",
       "      <td>{\"perovskite_composition\": \"Cs0.05FA0.85MA0.1P...</td>\n",
       "      <td>54</td>\n",
       "    </tr>\n",
       "    <tr>\n",
       "      <th>1</th>\n",
       "      <td>1</td>\n",
       "      <td>1_22</td>\n",
       "      <td>\\t\\t\\t NAture PhotoNiCS | VOL 13 | JULY 2019 |...</td>\n",
       "      <td>{\"perovskite_composition\": null, \"electron_tra...</td>\n",
       "      <td>{\"perovskite_composition\": null, \"electron_tra...</td>\n",
       "      <td>22</td>\n",
       "    </tr>\n",
       "    <tr>\n",
       "      <th>2</th>\n",
       "      <td>2</td>\n",
       "      <td>2_75</td>\n",
       "      <td>\\t\\t\\t Nature eNerGY | VOL 6 | JANUARY 2021 | ...</td>\n",
       "      <td>{\"perovskite_composition\": \"(FAPbI3)0.95(MAPbB...</td>\n",
       "      <td>{\"perovskite_composition\": \"(FAPbI3)0.95(MAPbB...</td>\n",
       "      <td>75</td>\n",
       "    </tr>\n",
       "    <tr>\n",
       "      <th>3</th>\n",
       "      <td>3</td>\n",
       "      <td>3_52</td>\n",
       "      <td>\\t\\t\\t of 6 RESEARCH | REPORT Downloaded from ...</td>\n",
       "      <td>{\"perovskite_composition\": \"Cs0.05(MA0.10FA0.8...</td>\n",
       "      <td>{\"perovskite_composition\": \"Cs0.05(MA0.10FA0.8...</td>\n",
       "      <td>52</td>\n",
       "    </tr>\n",
       "    <tr>\n",
       "      <th>4</th>\n",
       "      <td>4</td>\n",
       "      <td>4_26</td>\n",
       "      <td>Proppe 1,2,10  , Andrew Johnston 2,10 , Sam T...</td>\n",
       "      <td>{\"perovskite_composition\": null, \"electron_tra...</td>\n",
       "      <td>{\"perovskite_composition\": \"(MAPbBr3)0.05(FAPb...</td>\n",
       "      <td>26</td>\n",
       "    </tr>\n",
       "    <tr>\n",
       "      <th>...</th>\n",
       "      <td>...</td>\n",
       "      <td>...</td>\n",
       "      <td>...</td>\n",
       "      <td>...</td>\n",
       "      <td>...</td>\n",
       "      <td>...</td>\n",
       "    </tr>\n",
       "    <tr>\n",
       "      <th>143</th>\n",
       "      <td>145</td>\n",
       "      <td>145_31</td>\n",
       "      <td>\\t\\t\\t www.advancedsciencenews.com© 2018 WILEY...</td>\n",
       "      <td>{\"perovskite_composition\": \"Cs0.05(MA0.17FA0.8...</td>\n",
       "      <td>{\"perovskite_composition\": \"Cs0.05(MA0.17FA0.8...</td>\n",
       "      <td>31</td>\n",
       "    </tr>\n",
       "    <tr>\n",
       "      <th>144</th>\n",
       "      <td>146</td>\n",
       "      <td>146_36</td>\n",
       "      <td>\\t\\t\\t https://doi.org/10.1038/s41467-022-3420...</td>\n",
       "      <td>{\"perovskite_composition\": \"Cs0.05(MA0.05FA0.9...</td>\n",
       "      <td>{\"perovskite_composition\": \"Cs0.05(MA0.05FA0.9...</td>\n",
       "      <td>36</td>\n",
       "    </tr>\n",
       "    <tr>\n",
       "      <th>145</th>\n",
       "      <td>147</td>\n",
       "      <td>147_41</td>\n",
       "      <td>Table 1 | PV parameters of the best-performed...</td>\n",
       "      <td>{\"perovskite_composition\": \"FAPbI 3\", \"electro...</td>\n",
       "      <td>{\"perovskite_composition\": \"FAPbI 3\", \"electro...</td>\n",
       "      <td>41</td>\n",
       "    </tr>\n",
       "    <tr>\n",
       "      <th>146</th>\n",
       "      <td>148</td>\n",
       "      <td>148_26</td>\n",
       "      <td>\\t\\t\\t 15214095, 2020, 12, Downloaded from htt...</td>\n",
       "      <td>{\"perovskite_composition\": \"Cs0.05FA0.85MA0.10...</td>\n",
       "      <td>{\"perovskite_composition\": \"Cs0.05FA0.85MA0.10...</td>\n",
       "      <td>26</td>\n",
       "    </tr>\n",
       "    <tr>\n",
       "      <th>147</th>\n",
       "      <td>149</td>\n",
       "      <td>149_28</td>\n",
       "      <td>\\t\\t\\t The devices have aperture area of 0.049...</td>\n",
       "      <td>{\"perovskite_composition\": \"FA0.7MA0.3Pb0.5Sn0...</td>\n",
       "      <td>{\"perovskite_composition\": \"FA0.7MA0.3Pb0.5Sn0...</td>\n",
       "      <td>28</td>\n",
       "    </tr>\n",
       "  </tbody>\n",
       "</table>\n",
       "<p>148 rows × 6 columns</p>\n",
       "</div>"
      ],
      "text/plain": [
       "     first_num      id                                               text  \\\n",
       "0            0    0_54  \\t\\t\\t of 5 Downloaded from https://www.scienc...   \n",
       "1            1    1_22  \\t\\t\\t NAture PhotoNiCS | VOL 13 | JULY 2019 |...   \n",
       "2            2    2_75  \\t\\t\\t Nature eNerGY | VOL 6 | JANUARY 2021 | ...   \n",
       "3            3    3_52  \\t\\t\\t of 6 RESEARCH | REPORT Downloaded from ...   \n",
       "4            4    4_26   Proppe 1,2,10  , Andrew Johnston 2,10 , Sam T...   \n",
       "..         ...     ...                                                ...   \n",
       "143        145  145_31  \\t\\t\\t www.advancedsciencenews.com© 2018 WILEY...   \n",
       "144        146  146_36  \\t\\t\\t https://doi.org/10.1038/s41467-022-3420...   \n",
       "145        147  147_41   Table 1 | PV parameters of the best-performed...   \n",
       "146        148  148_26  \\t\\t\\t 15214095, 2020, 12, Downloaded from htt...   \n",
       "147        149  149_28  \\t\\t\\t The devices have aperture area of 0.049...   \n",
       "\n",
       "                                                memory  \\\n",
       "0    {\"perovskite_composition\": \"Cs0.05FA0.85MA0.1P...   \n",
       "1    {\"perovskite_composition\": null, \"electron_tra...   \n",
       "2    {\"perovskite_composition\": \"(FAPbI3)0.95(MAPbB...   \n",
       "3    {\"perovskite_composition\": \"Cs0.05(MA0.10FA0.8...   \n",
       "4    {\"perovskite_composition\": null, \"electron_tra...   \n",
       "..                                                 ...   \n",
       "143  {\"perovskite_composition\": \"Cs0.05(MA0.17FA0.8...   \n",
       "144  {\"perovskite_composition\": \"Cs0.05(MA0.05FA0.9...   \n",
       "145  {\"perovskite_composition\": \"FAPbI 3\", \"electro...   \n",
       "146  {\"perovskite_composition\": \"Cs0.05FA0.85MA0.10...   \n",
       "147  {\"perovskite_composition\": \"FA0.7MA0.3Pb0.5Sn0...   \n",
       "\n",
       "                                                output  second_num  \n",
       "0    {\"perovskite_composition\": \"Cs0.05FA0.85MA0.1P...          54  \n",
       "1    {\"perovskite_composition\": null, \"electron_tra...          22  \n",
       "2    {\"perovskite_composition\": \"(FAPbI3)0.95(MAPbB...          75  \n",
       "3    {\"perovskite_composition\": \"Cs0.05(MA0.10FA0.8...          52  \n",
       "4    {\"perovskite_composition\": \"(MAPbBr3)0.05(FAPb...          26  \n",
       "..                                                 ...         ...  \n",
       "143  {\"perovskite_composition\": \"Cs0.05(MA0.17FA0.8...          31  \n",
       "144  {\"perovskite_composition\": \"Cs0.05(MA0.05FA0.9...          36  \n",
       "145  {\"perovskite_composition\": \"FAPbI 3\", \"electro...          41  \n",
       "146  {\"perovskite_composition\": \"Cs0.05FA0.85MA0.10...          26  \n",
       "147  {\"perovskite_composition\": \"FA0.7MA0.3Pb0.5Sn0...          28  \n",
       "\n",
       "[148 rows x 6 columns]"
      ]
     },
     "execution_count": 6,
     "metadata": {},
     "output_type": "execute_result"
    }
   ],
   "source": [
    "pd.read_csv(\"../data/150_papers_json_update.csv\")"
   ]
  },
  {
   "cell_type": "code",
   "execution_count": 7,
   "metadata": {},
   "outputs": [],
   "source": [
    "#Teamtat Annotation\n",
    "annotation_df = pd.read_csv(\"../data/150_papers_json_update.csv\")[[\"id\", \"first_num\", \"output\"]]\n",
    "annotation_df = annotation_df.sort_values(by = ['first_num'])"
   ]
  },
  {
   "cell_type": "code",
   "execution_count": 8,
   "metadata": {},
   "outputs": [
    {
     "data": {
      "text/html": [
       "<div>\n",
       "<style scoped>\n",
       "    .dataframe tbody tr th:only-of-type {\n",
       "        vertical-align: middle;\n",
       "    }\n",
       "\n",
       "    .dataframe tbody tr th {\n",
       "        vertical-align: top;\n",
       "    }\n",
       "\n",
       "    .dataframe thead th {\n",
       "        text-align: right;\n",
       "    }\n",
       "</style>\n",
       "<table border=\"1\" class=\"dataframe\">\n",
       "  <thead>\n",
       "    <tr style=\"text-align: right;\">\n",
       "      <th></th>\n",
       "      <th>id</th>\n",
       "      <th>first_num</th>\n",
       "      <th>output</th>\n",
       "    </tr>\n",
       "  </thead>\n",
       "  <tbody>\n",
       "    <tr>\n",
       "      <th>0</th>\n",
       "      <td>0_54</td>\n",
       "      <td>0</td>\n",
       "      <td>{'perovskite_composition': 'Cs0.05FA0.85MA0.1P...</td>\n",
       "    </tr>\n",
       "    <tr>\n",
       "      <th>1</th>\n",
       "      <td>1_22</td>\n",
       "      <td>1</td>\n",
       "      <td>{'perovskite_composition': None, 'electron_tra...</td>\n",
       "    </tr>\n",
       "    <tr>\n",
       "      <th>2</th>\n",
       "      <td>2_75</td>\n",
       "      <td>2</td>\n",
       "      <td>{'perovskite_composition': '(FAPbI3)0.95(MAPbB...</td>\n",
       "    </tr>\n",
       "    <tr>\n",
       "      <th>3</th>\n",
       "      <td>3_52</td>\n",
       "      <td>3</td>\n",
       "      <td>{'perovskite_composition': 'Cs0.05(MA0.10FA0.8...</td>\n",
       "    </tr>\n",
       "    <tr>\n",
       "      <th>4</th>\n",
       "      <td>4_26</td>\n",
       "      <td>4</td>\n",
       "      <td>{'perovskite_composition': '(MAPbBr3)0.05(FAPb...</td>\n",
       "    </tr>\n",
       "    <tr>\n",
       "      <th>...</th>\n",
       "      <td>...</td>\n",
       "      <td>...</td>\n",
       "      <td>...</td>\n",
       "    </tr>\n",
       "    <tr>\n",
       "      <th>143</th>\n",
       "      <td>145_31</td>\n",
       "      <td>145</td>\n",
       "      <td>{'perovskite_composition': 'Cs0.05(MA0.17FA0.8...</td>\n",
       "    </tr>\n",
       "    <tr>\n",
       "      <th>144</th>\n",
       "      <td>146_36</td>\n",
       "      <td>146</td>\n",
       "      <td>{'perovskite_composition': 'Cs0.05(MA0.05FA0.9...</td>\n",
       "    </tr>\n",
       "    <tr>\n",
       "      <th>145</th>\n",
       "      <td>147_41</td>\n",
       "      <td>147</td>\n",
       "      <td>{'perovskite_composition': 'FAPbI 3', 'electro...</td>\n",
       "    </tr>\n",
       "    <tr>\n",
       "      <th>146</th>\n",
       "      <td>148_26</td>\n",
       "      <td>148</td>\n",
       "      <td>{'perovskite_composition': 'Cs0.05FA0.85MA0.10...</td>\n",
       "    </tr>\n",
       "    <tr>\n",
       "      <th>147</th>\n",
       "      <td>149_28</td>\n",
       "      <td>149</td>\n",
       "      <td>{'perovskite_composition': 'FA0.7MA0.3Pb0.5Sn0...</td>\n",
       "    </tr>\n",
       "  </tbody>\n",
       "</table>\n",
       "<p>148 rows × 3 columns</p>\n",
       "</div>"
      ],
      "text/plain": [
       "         id  first_num                                             output\n",
       "0      0_54          0  {'perovskite_composition': 'Cs0.05FA0.85MA0.1P...\n",
       "1      1_22          1  {'perovskite_composition': None, 'electron_tra...\n",
       "2      2_75          2  {'perovskite_composition': '(FAPbI3)0.95(MAPbB...\n",
       "3      3_52          3  {'perovskite_composition': 'Cs0.05(MA0.10FA0.8...\n",
       "4      4_26          4  {'perovskite_composition': '(MAPbBr3)0.05(FAPb...\n",
       "..      ...        ...                                                ...\n",
       "143  145_31        145  {'perovskite_composition': 'Cs0.05(MA0.17FA0.8...\n",
       "144  146_36        146  {'perovskite_composition': 'Cs0.05(MA0.05FA0.9...\n",
       "145  147_41        147  {'perovskite_composition': 'FAPbI 3', 'electro...\n",
       "146  148_26        148  {'perovskite_composition': 'Cs0.05FA0.85MA0.10...\n",
       "147  149_28        149  {'perovskite_composition': 'FA0.7MA0.3Pb0.5Sn0...\n",
       "\n",
       "[148 rows x 3 columns]"
      ]
     },
     "execution_count": 8,
     "metadata": {},
     "output_type": "execute_result"
    }
   ],
   "source": [
    "##Change the format (minor) to be converted to json\n",
    "annotation_df['output'] = annotation_df['output'].apply(str_toJson)\n",
    "annotation_df"
   ]
  },
  {
   "cell_type": "code",
   "execution_count": 9,
   "metadata": {},
   "outputs": [
    {
     "data": {
      "text/plain": [
       "148"
      ]
     },
     "execution_count": 9,
     "metadata": {},
     "output_type": "execute_result"
    }
   ],
   "source": [
    "len(annotation_df['first_num'].unique())"
   ]
  },
  {
   "cell_type": "code",
   "execution_count": 10,
   "metadata": {},
   "outputs": [
    {
     "data": {
      "text/plain": [
       "{'perovskite_composition': 'Cs0.05(MA)0.16(FA)0.79Pb(I0.83Br0.17 )3',\n",
       " 'electron_transport_layer': 'C60',\n",
       " 'hole_transport_layer': None,\n",
       " 'structure_pin_nip': 'NIP',\n",
       " 'test_1': {'stability_type': 'ISOSD1',\n",
       "  'passivating_molecule': '4-tert-butyl-benzylammonium',\n",
       "  'humidity': '85',\n",
       "  'temperature': None,\n",
       "  'time': '100',\n",
       "  'control_pce': None,\n",
       "  'treated_pce': None,\n",
       "  'control_voc': '1.09',\n",
       "  'treated_voc': '1.13',\n",
       "  'efficiency_cont': '60',\n",
       "  'efficiency_tret': '90'},\n",
       " 'test_2_2': {'stability_type': 'ISOSL3',\n",
       "  'passivating_molecule': 'phenethylammonium iodide',\n",
       "  'humidity': '50',\n",
       "  'temperature': '90',\n",
       "  'time': '100',\n",
       "  'control_pce': '8.9',\n",
       "  'treated_pce': '5.94',\n",
       "  'control_voc': None,\n",
       "  'treated_voc': None,\n",
       "  'efficiency_cont': '0',\n",
       "  'efficiency_tret': '95'},\n",
       " 'test_2': {'stability_type': 'ISOSL1',\n",
       "  'passivating_molecule': '(ethylenedioxy)bis(ethylammonium) lead iodide',\n",
       "  'humidity': '65',\n",
       "  'temperature': None,\n",
       "  'time': '1000',\n",
       "  'control_pce': None,\n",
       "  'treated_pce': '21.06',\n",
       "  'control_voc': None,\n",
       "  'treated_voc': None,\n",
       "  'efficiency_cont': None,\n",
       "  'efficiency_tret': '90'},\n",
       " 'test_3': {'stability_type': 'ISOST',\n",
       "  'passivating_molecule': 'dodecylammonium iodide',\n",
       "  'humidity': None,\n",
       "  'temperature': '65',\n",
       "  'time': '100',\n",
       "  'control_pce': None,\n",
       "  'treated_pce': None,\n",
       "  'control_voc': '1.09',\n",
       "  'treated_voc': '1.13',\n",
       "  'efficiency_cont': '40',\n",
       "  'efficiency_tret': '80'},\n",
       " 'test_1_2': {'stability_type': 'ISOSD',\n",
       "  'passivating_molecule': '4-tert-butyl-benzylammonium',\n",
       "  'humidity': '60',\n",
       "  'temperature': None,\n",
       "  'time': '1300',\n",
       "  'control_pce': '20.1',\n",
       "  'treated_pce': '23.4',\n",
       "  'control_voc': '1.05',\n",
       "  'treated_voc': '1.11',\n",
       "  'efficiency_cont': None,\n",
       "  'efficiency_tret': '90'},\n",
       " 'test_3_2': {'stability_type': 'ISOST',\n",
       "  'passivating_molecule': None,\n",
       "  'humidity': None,\n",
       "  'temperature': '60',\n",
       "  'time': '100',\n",
       "  'control_pce': None,\n",
       "  'treated_pce': None,\n",
       "  'control_voc': '1.05',\n",
       "  'treated_voc': '1.11',\n",
       "  'efficiency_cont': None,\n",
       "  'efficiency_tret': '75'}}"
      ]
     },
     "execution_count": 10,
     "metadata": {},
     "output_type": "execute_result"
    }
   ],
   "source": [
    "annotation_df['output'][7]"
   ]
  },
  {
   "cell_type": "code",
   "execution_count": 11,
   "metadata": {},
   "outputs": [],
   "source": [
    "annotation_df['output'] = annotation_df['output'].apply(convert_numeric)"
   ]
  },
  {
   "cell_type": "code",
   "execution_count": 12,
   "metadata": {},
   "outputs": [],
   "source": [
    "# # Exporting annotation\n",
    "# annotation_df.to_csv('annotation.csv', index=False)"
   ]
  },
  {
   "cell_type": "markdown",
   "metadata": {},
   "source": [
    "### Loading in JSON extraction"
   ]
  },
  {
   "cell_type": "code",
   "execution_count": 41,
   "metadata": {},
   "outputs": [],
   "source": [
    "def convert_efficiency_key(dict):\n",
    "    for key, item in dict.items():\n",
    "        if 'test' in key:\n",
    "            if 'retained_proportion_cont' in dict[key]:\n",
    "                dict[key]['efficiency_cont'] = dict[key].pop('retained_proportion_cont')\n",
    "            if 'retained_proportion_tret' in dict[key]:\n",
    "                dict[key]['efficiency_tret'] = dict[key].pop('retained_proportion_tret')\n",
    "    return dict\n",
    "            "
   ]
  },
  {
   "cell_type": "code",
   "execution_count": 145,
   "metadata": {},
   "outputs": [
    {
     "data": {
      "text/html": [
       "<div>\n",
       "<style scoped>\n",
       "    .dataframe tbody tr th:only-of-type {\n",
       "        vertical-align: middle;\n",
       "    }\n",
       "\n",
       "    .dataframe tbody tr th {\n",
       "        vertical-align: top;\n",
       "    }\n",
       "\n",
       "    .dataframe thead th {\n",
       "        text-align: right;\n",
       "    }\n",
       "</style>\n",
       "<table border=\"1\" class=\"dataframe\">\n",
       "  <thead>\n",
       "    <tr style=\"text-align: right;\">\n",
       "      <th></th>\n",
       "      <th>paper_num</th>\n",
       "      <th>output</th>\n",
       "    </tr>\n",
       "  </thead>\n",
       "  <tbody>\n",
       "    <tr>\n",
       "      <th>77</th>\n",
       "      <td>0</td>\n",
       "      <td>{'perovskite_composition': 'FAPbI3', 'electron...</td>\n",
       "    </tr>\n",
       "    <tr>\n",
       "      <th>124</th>\n",
       "      <td>1</td>\n",
       "      <td>{'perovskite_composition': 'FA1-x MAx PbI3', '...</td>\n",
       "    </tr>\n",
       "    <tr>\n",
       "      <th>7</th>\n",
       "      <td>2</td>\n",
       "      <td>{'perovskite_composition': '(BA)2PbI4', 'elect...</td>\n",
       "    </tr>\n",
       "    <tr>\n",
       "      <th>34</th>\n",
       "      <td>3</td>\n",
       "      <td>{'perovskite_composition': 'Cs0.05 (MA0.10FA0....</td>\n",
       "    </tr>\n",
       "    <tr>\n",
       "      <th>30</th>\n",
       "      <td>4</td>\n",
       "      <td>{'perovskite_composition': '(MAPbBr3)0.05(FAPb...</td>\n",
       "    </tr>\n",
       "    <tr>\n",
       "      <th>...</th>\n",
       "      <td>...</td>\n",
       "      <td>...</td>\n",
       "    </tr>\n",
       "    <tr>\n",
       "      <th>40</th>\n",
       "      <td>145</td>\n",
       "      <td>{'perovskite_composition': 'Cs0.05(MA0.17FA0.8...</td>\n",
       "    </tr>\n",
       "    <tr>\n",
       "      <th>87</th>\n",
       "      <td>146</td>\n",
       "      <td>{'perovskite_composition': 'Cs0.05(MA0.05FA0.9...</td>\n",
       "    </tr>\n",
       "    <tr>\n",
       "      <th>120</th>\n",
       "      <td>147</td>\n",
       "      <td>{'perovskite_composition': 'FAPbI3', 'electron...</td>\n",
       "    </tr>\n",
       "    <tr>\n",
       "      <th>83</th>\n",
       "      <td>148</td>\n",
       "      <td>{'perovskite_composition': 'Cs 0.05 FA 0.85 MA...</td>\n",
       "    </tr>\n",
       "    <tr>\n",
       "      <th>123</th>\n",
       "      <td>149</td>\n",
       "      <td>{'perovskite_composition': 'FA0.75MA0.25Pb0.5S...</td>\n",
       "    </tr>\n",
       "  </tbody>\n",
       "</table>\n",
       "<p>127 rows × 2 columns</p>\n",
       "</div>"
      ],
      "text/plain": [
       "     paper_num                                             output\n",
       "77           0  {'perovskite_composition': 'FAPbI3', 'electron...\n",
       "124          1  {'perovskite_composition': 'FA1-x MAx PbI3', '...\n",
       "7            2  {'perovskite_composition': '(BA)2PbI4', 'elect...\n",
       "34           3  {'perovskite_composition': 'Cs0.05 (MA0.10FA0....\n",
       "30           4  {'perovskite_composition': '(MAPbBr3)0.05(FAPb...\n",
       "..         ...                                                ...\n",
       "40         145  {'perovskite_composition': 'Cs0.05(MA0.17FA0.8...\n",
       "87         146  {'perovskite_composition': 'Cs0.05(MA0.05FA0.9...\n",
       "120        147  {'perovskite_composition': 'FAPbI3', 'electron...\n",
       "83         148  {'perovskite_composition': 'Cs 0.05 FA 0.85 MA...\n",
       "123        149  {'perovskite_composition': 'FA0.75MA0.25Pb0.5S...\n",
       "\n",
       "[127 rows x 2 columns]"
      ]
     },
     "execution_count": 145,
     "metadata": {},
     "output_type": "execute_result"
    }
   ],
   "source": [
    "## extraction performed by basemodel\n",
    "# Read JSON from a file\n",
    "with open(\"../data/output1.json\", 'r') as f:\n",
    "    extraction = json.load(f)\n",
    "\n",
    "extraction_base = pd.DataFrame(list(extraction.items()), columns=['paper_num', 'output'])\n",
    "extraction_base['paper_num'] = pd.to_numeric(extraction_base['paper_num'])\n",
    "extraction_base = extraction_base.sort_values('paper_num')\n",
    "extraction_base['output'] = extraction_base['output'].apply(include_passivating)\n",
    "extraction_base['output'] = extraction_base['output'].apply(convert_numeric)\n",
    "extraction_base['output'] = extraction_base['output'].apply(convert_efficiency)\n",
    "extraction_base"
   ]
  },
  {
   "cell_type": "code",
   "execution_count": 146,
   "metadata": {},
   "outputs": [
    {
     "data": {
      "text/html": [
       "<div>\n",
       "<style scoped>\n",
       "    .dataframe tbody tr th:only-of-type {\n",
       "        vertical-align: middle;\n",
       "    }\n",
       "\n",
       "    .dataframe tbody tr th {\n",
       "        vertical-align: top;\n",
       "    }\n",
       "\n",
       "    .dataframe thead th {\n",
       "        text-align: right;\n",
       "    }\n",
       "</style>\n",
       "<table border=\"1\" class=\"dataframe\">\n",
       "  <thead>\n",
       "    <tr style=\"text-align: right;\">\n",
       "      <th></th>\n",
       "      <th>paper_num</th>\n",
       "      <th>output</th>\n",
       "    </tr>\n",
       "  </thead>\n",
       "  <tbody>\n",
       "    <tr>\n",
       "      <th>111</th>\n",
       "      <td>0</td>\n",
       "      <td>{'perovskite_composition': 'FAPbI3', 'electron...</td>\n",
       "    </tr>\n",
       "    <tr>\n",
       "      <th>67</th>\n",
       "      <td>1</td>\n",
       "      <td>{'perovskite_composition': 'FA1-x MAx PbI3 (FA...</td>\n",
       "    </tr>\n",
       "    <tr>\n",
       "      <th>46</th>\n",
       "      <td>2</td>\n",
       "      <td>{'perovskite_composition': 'FA0.85Cs0.15PbI2.8...</td>\n",
       "    </tr>\n",
       "    <tr>\n",
       "      <th>30</th>\n",
       "      <td>3</td>\n",
       "      <td>{'perovskite_composition': 'Cs0.05(MA0.10FA0.8...</td>\n",
       "    </tr>\n",
       "    <tr>\n",
       "      <th>27</th>\n",
       "      <td>4</td>\n",
       "      <td>{'perovskite_composition': None, 'electron_tra...</td>\n",
       "    </tr>\n",
       "    <tr>\n",
       "      <th>...</th>\n",
       "      <td>...</td>\n",
       "      <td>...</td>\n",
       "    </tr>\n",
       "    <tr>\n",
       "      <th>52</th>\n",
       "      <td>145</td>\n",
       "      <td>{'perovskite_composition': 'Cs0.05(MA0.17FA0.8...</td>\n",
       "    </tr>\n",
       "    <tr>\n",
       "      <th>73</th>\n",
       "      <td>146</td>\n",
       "      <td>{'perovskite_composition': 'Cs0.05(FA0.05MA0.9...</td>\n",
       "    </tr>\n",
       "    <tr>\n",
       "      <th>102</th>\n",
       "      <td>147</td>\n",
       "      <td>{'perovskite_composition': 'FAPbI3', 'electron...</td>\n",
       "    </tr>\n",
       "    <tr>\n",
       "      <th>80</th>\n",
       "      <td>148</td>\n",
       "      <td>{'perovskite_composition': 'Cs0.05 FA0.85 MA0....</td>\n",
       "    </tr>\n",
       "    <tr>\n",
       "      <th>95</th>\n",
       "      <td>149</td>\n",
       "      <td>{'perovskite_composition': 'FA0.8Cs0.2Pb0.5Sn0...</td>\n",
       "    </tr>\n",
       "  </tbody>\n",
       "</table>\n",
       "<p>126 rows × 2 columns</p>\n",
       "</div>"
      ],
      "text/plain": [
       "     paper_num                                             output\n",
       "111          0  {'perovskite_composition': 'FAPbI3', 'electron...\n",
       "67           1  {'perovskite_composition': 'FA1-x MAx PbI3 (FA...\n",
       "46           2  {'perovskite_composition': 'FA0.85Cs0.15PbI2.8...\n",
       "30           3  {'perovskite_composition': 'Cs0.05(MA0.10FA0.8...\n",
       "27           4  {'perovskite_composition': None, 'electron_tra...\n",
       "..         ...                                                ...\n",
       "52         145  {'perovskite_composition': 'Cs0.05(MA0.17FA0.8...\n",
       "73         146  {'perovskite_composition': 'Cs0.05(FA0.05MA0.9...\n",
       "102        147  {'perovskite_composition': 'FAPbI3', 'electron...\n",
       "80         148  {'perovskite_composition': 'Cs0.05 FA0.85 MA0....\n",
       "95         149  {'perovskite_composition': 'FA0.8Cs0.2Pb0.5Sn0...\n",
       "\n",
       "[126 rows x 2 columns]"
      ]
     },
     "execution_count": 146,
     "metadata": {},
     "output_type": "execute_result"
    }
   ],
   "source": [
    "## extraction performed by finetuned deepseek\n",
    "# Read JSON from a file\n",
    "with open(\"../data/deepseek_finetuned_formatted.json\", 'r') as f:\n",
    "    extraction = json.load(f)\n",
    "\n",
    "extraction_train = pd.DataFrame(list(extraction.items()), columns=['paper_num', 'output'])\n",
    "extraction_train['paper_num'] = pd.to_numeric(extraction_train['paper_num'])\n",
    "extraction_train = extraction_train.sort_values('paper_num')\n",
    "extraction_train['output'] = extraction_train['output'].apply(include_passivating)\n",
    "extraction_train['output'] = extraction_train['output'].apply(convert_numeric)\n",
    "extraction_train['output'] = extraction_train['output'].apply(convert_efficiency)\n",
    "extraction_train['output'] = extraction_train['output'].apply(convert_efficiency_key)\n",
    "extraction_train"
   ]
  },
  {
   "cell_type": "code",
   "execution_count": 147,
   "metadata": {},
   "outputs": [
    {
     "data": {
      "text/plain": [
       "{'perovskite_composition': None,\n",
       " 'electron_transport_layer': None,\n",
       " 'hole_transport_layer': None,\n",
       " 'structure_pin_nip': None,\n",
       " 'test_1': {'stability_type': 'ISOS-L',\n",
       "  'passivating_molecule': '4-vinylbenzylammonium bromide',\n",
       "  'humidity': None,\n",
       "  'temperature': None,\n",
       "  'time': None,\n",
       "  'control_pce': 19.93,\n",
       "  'treated_pce': 21.06,\n",
       "  'control_voc': 1.06,\n",
       "  'treated_voc': 1.1,\n",
       "  'efficiency_cont': None,\n",
       "  'efficiency_tret': 21.9}}"
      ]
     },
     "execution_count": 147,
     "metadata": {},
     "output_type": "execute_result"
    }
   ],
   "source": [
    "extraction_train.iloc[4]['output']"
   ]
  },
  {
   "cell_type": "markdown",
   "metadata": {},
   "source": [
    "## Merging dataframe"
   ]
  },
  {
   "cell_type": "code",
   "execution_count": 148,
   "metadata": {},
   "outputs": [
    {
     "data": {
      "text/html": [
       "<div>\n",
       "<style scoped>\n",
       "    .dataframe tbody tr th:only-of-type {\n",
       "        vertical-align: middle;\n",
       "    }\n",
       "\n",
       "    .dataframe tbody tr th {\n",
       "        vertical-align: top;\n",
       "    }\n",
       "\n",
       "    .dataframe thead th {\n",
       "        text-align: right;\n",
       "    }\n",
       "</style>\n",
       "<table border=\"1\" class=\"dataframe\">\n",
       "  <thead>\n",
       "    <tr style=\"text-align: right;\">\n",
       "      <th></th>\n",
       "      <th>paper_num</th>\n",
       "      <th>annotation</th>\n",
       "      <th>extracted</th>\n",
       "    </tr>\n",
       "  </thead>\n",
       "  <tbody>\n",
       "    <tr>\n",
       "      <th>0</th>\n",
       "      <td>0</td>\n",
       "      <td>{'perovskite_composition': 'Cs0.05FA0.85MA0.1P...</td>\n",
       "      <td>{'perovskite_composition': 'FAPbI3', 'electron...</td>\n",
       "    </tr>\n",
       "    <tr>\n",
       "      <th>1</th>\n",
       "      <td>1</td>\n",
       "      <td>{'perovskite_composition': None, 'electron_tra...</td>\n",
       "      <td>{'perovskite_composition': 'FA1-x MAx PbI3', '...</td>\n",
       "    </tr>\n",
       "    <tr>\n",
       "      <th>2</th>\n",
       "      <td>2</td>\n",
       "      <td>{'perovskite_composition': '(FAPbI3)0.95(MAPbB...</td>\n",
       "      <td>{'perovskite_composition': '(BA)2PbI4', 'elect...</td>\n",
       "    </tr>\n",
       "    <tr>\n",
       "      <th>3</th>\n",
       "      <td>3</td>\n",
       "      <td>{'perovskite_composition': 'Cs0.05(MA0.10FA0.8...</td>\n",
       "      <td>{'perovskite_composition': 'Cs0.05 (MA0.10FA0....</td>\n",
       "    </tr>\n",
       "    <tr>\n",
       "      <th>4</th>\n",
       "      <td>4</td>\n",
       "      <td>{'perovskite_composition': '(MAPbBr3)0.05(FAPb...</td>\n",
       "      <td>{'perovskite_composition': '(MAPbBr3)0.05(FAPb...</td>\n",
       "    </tr>\n",
       "    <tr>\n",
       "      <th>...</th>\n",
       "      <td>...</td>\n",
       "      <td>...</td>\n",
       "      <td>...</td>\n",
       "    </tr>\n",
       "    <tr>\n",
       "      <th>121</th>\n",
       "      <td>145</td>\n",
       "      <td>{'perovskite_composition': 'Cs0.05(MA0.17FA0.8...</td>\n",
       "      <td>{'perovskite_composition': 'Cs0.05(MA0.17FA0.8...</td>\n",
       "    </tr>\n",
       "    <tr>\n",
       "      <th>122</th>\n",
       "      <td>146</td>\n",
       "      <td>{'perovskite_composition': 'Cs0.05(MA0.05FA0.9...</td>\n",
       "      <td>{'perovskite_composition': 'Cs0.05(MA0.05FA0.9...</td>\n",
       "    </tr>\n",
       "    <tr>\n",
       "      <th>123</th>\n",
       "      <td>147</td>\n",
       "      <td>{'perovskite_composition': 'FAPbI 3', 'electro...</td>\n",
       "      <td>{'perovskite_composition': 'FAPbI3', 'electron...</td>\n",
       "    </tr>\n",
       "    <tr>\n",
       "      <th>124</th>\n",
       "      <td>148</td>\n",
       "      <td>{'perovskite_composition': 'Cs0.05FA0.85MA0.10...</td>\n",
       "      <td>{'perovskite_composition': 'Cs 0.05 FA 0.85 MA...</td>\n",
       "    </tr>\n",
       "    <tr>\n",
       "      <th>125</th>\n",
       "      <td>149</td>\n",
       "      <td>{'perovskite_composition': 'FA0.7MA0.3Pb0.5Sn0...</td>\n",
       "      <td>{'perovskite_composition': 'FA0.75MA0.25Pb0.5S...</td>\n",
       "    </tr>\n",
       "  </tbody>\n",
       "</table>\n",
       "<p>126 rows × 3 columns</p>\n",
       "</div>"
      ],
      "text/plain": [
       "     paper_num                                         annotation  \\\n",
       "0            0  {'perovskite_composition': 'Cs0.05FA0.85MA0.1P...   \n",
       "1            1  {'perovskite_composition': None, 'electron_tra...   \n",
       "2            2  {'perovskite_composition': '(FAPbI3)0.95(MAPbB...   \n",
       "3            3  {'perovskite_composition': 'Cs0.05(MA0.10FA0.8...   \n",
       "4            4  {'perovskite_composition': '(MAPbBr3)0.05(FAPb...   \n",
       "..         ...                                                ...   \n",
       "121        145  {'perovskite_composition': 'Cs0.05(MA0.17FA0.8...   \n",
       "122        146  {'perovskite_composition': 'Cs0.05(MA0.05FA0.9...   \n",
       "123        147  {'perovskite_composition': 'FAPbI 3', 'electro...   \n",
       "124        148  {'perovskite_composition': 'Cs0.05FA0.85MA0.10...   \n",
       "125        149  {'perovskite_composition': 'FA0.7MA0.3Pb0.5Sn0...   \n",
       "\n",
       "                                             extracted  \n",
       "0    {'perovskite_composition': 'FAPbI3', 'electron...  \n",
       "1    {'perovskite_composition': 'FA1-x MAx PbI3', '...  \n",
       "2    {'perovskite_composition': '(BA)2PbI4', 'elect...  \n",
       "3    {'perovskite_composition': 'Cs0.05 (MA0.10FA0....  \n",
       "4    {'perovskite_composition': '(MAPbBr3)0.05(FAPb...  \n",
       "..                                                 ...  \n",
       "121  {'perovskite_composition': 'Cs0.05(MA0.17FA0.8...  \n",
       "122  {'perovskite_composition': 'Cs0.05(MA0.05FA0.9...  \n",
       "123  {'perovskite_composition': 'FAPbI3', 'electron...  \n",
       "124  {'perovskite_composition': 'Cs 0.05 FA 0.85 MA...  \n",
       "125  {'perovskite_composition': 'FA0.75MA0.25Pb0.5S...  \n",
       "\n",
       "[126 rows x 3 columns]"
      ]
     },
     "execution_count": 148,
     "metadata": {},
     "output_type": "execute_result"
    }
   ],
   "source": [
    "evaluate_df_base = annotation_df.merge(extraction_base, left_on='first_num', right_on='paper_num')[[\"paper_num\", \"output_x\",'output_y']]\n",
    "evaluate_df_base.columns = ['paper_num', 'annotation', 'extracted']\n",
    "evaluate_df_base"
   ]
  },
  {
   "cell_type": "code",
   "execution_count": 149,
   "metadata": {},
   "outputs": [
    {
     "data": {
      "text/html": [
       "<div>\n",
       "<style scoped>\n",
       "    .dataframe tbody tr th:only-of-type {\n",
       "        vertical-align: middle;\n",
       "    }\n",
       "\n",
       "    .dataframe tbody tr th {\n",
       "        vertical-align: top;\n",
       "    }\n",
       "\n",
       "    .dataframe thead th {\n",
       "        text-align: right;\n",
       "    }\n",
       "</style>\n",
       "<table border=\"1\" class=\"dataframe\">\n",
       "  <thead>\n",
       "    <tr style=\"text-align: right;\">\n",
       "      <th></th>\n",
       "      <th>paper_num</th>\n",
       "      <th>annotation</th>\n",
       "      <th>extracted</th>\n",
       "    </tr>\n",
       "  </thead>\n",
       "  <tbody>\n",
       "    <tr>\n",
       "      <th>0</th>\n",
       "      <td>0</td>\n",
       "      <td>{'perovskite_composition': 'Cs0.05FA0.85MA0.1P...</td>\n",
       "      <td>{'perovskite_composition': 'FAPbI3', 'electron...</td>\n",
       "    </tr>\n",
       "    <tr>\n",
       "      <th>1</th>\n",
       "      <td>1</td>\n",
       "      <td>{'perovskite_composition': None, 'electron_tra...</td>\n",
       "      <td>{'perovskite_composition': 'FA1-x MAx PbI3 (FA...</td>\n",
       "    </tr>\n",
       "    <tr>\n",
       "      <th>2</th>\n",
       "      <td>2</td>\n",
       "      <td>{'perovskite_composition': '(FAPbI3)0.95(MAPbB...</td>\n",
       "      <td>{'perovskite_composition': 'FA0.85Cs0.15PbI2.8...</td>\n",
       "    </tr>\n",
       "    <tr>\n",
       "      <th>3</th>\n",
       "      <td>3</td>\n",
       "      <td>{'perovskite_composition': 'Cs0.05(MA0.10FA0.8...</td>\n",
       "      <td>{'perovskite_composition': 'Cs0.05(MA0.10FA0.8...</td>\n",
       "    </tr>\n",
       "    <tr>\n",
       "      <th>4</th>\n",
       "      <td>4</td>\n",
       "      <td>{'perovskite_composition': '(MAPbBr3)0.05(FAPb...</td>\n",
       "      <td>{'perovskite_composition': None, 'electron_tra...</td>\n",
       "    </tr>\n",
       "    <tr>\n",
       "      <th>...</th>\n",
       "      <td>...</td>\n",
       "      <td>...</td>\n",
       "      <td>...</td>\n",
       "    </tr>\n",
       "    <tr>\n",
       "      <th>121</th>\n",
       "      <td>145</td>\n",
       "      <td>{'perovskite_composition': 'Cs0.05(MA0.17FA0.8...</td>\n",
       "      <td>{'perovskite_composition': 'Cs0.05(MA0.17FA0.8...</td>\n",
       "    </tr>\n",
       "    <tr>\n",
       "      <th>122</th>\n",
       "      <td>146</td>\n",
       "      <td>{'perovskite_composition': 'Cs0.05(MA0.05FA0.9...</td>\n",
       "      <td>{'perovskite_composition': 'Cs0.05(FA0.05MA0.9...</td>\n",
       "    </tr>\n",
       "    <tr>\n",
       "      <th>123</th>\n",
       "      <td>147</td>\n",
       "      <td>{'perovskite_composition': 'FAPbI 3', 'electro...</td>\n",
       "      <td>{'perovskite_composition': 'FAPbI3', 'electron...</td>\n",
       "    </tr>\n",
       "    <tr>\n",
       "      <th>124</th>\n",
       "      <td>148</td>\n",
       "      <td>{'perovskite_composition': 'Cs0.05FA0.85MA0.10...</td>\n",
       "      <td>{'perovskite_composition': 'Cs0.05 FA0.85 MA0....</td>\n",
       "    </tr>\n",
       "    <tr>\n",
       "      <th>125</th>\n",
       "      <td>149</td>\n",
       "      <td>{'perovskite_composition': 'FA0.7MA0.3Pb0.5Sn0...</td>\n",
       "      <td>{'perovskite_composition': 'FA0.8Cs0.2Pb0.5Sn0...</td>\n",
       "    </tr>\n",
       "  </tbody>\n",
       "</table>\n",
       "<p>126 rows × 3 columns</p>\n",
       "</div>"
      ],
      "text/plain": [
       "     paper_num                                         annotation  \\\n",
       "0            0  {'perovskite_composition': 'Cs0.05FA0.85MA0.1P...   \n",
       "1            1  {'perovskite_composition': None, 'electron_tra...   \n",
       "2            2  {'perovskite_composition': '(FAPbI3)0.95(MAPbB...   \n",
       "3            3  {'perovskite_composition': 'Cs0.05(MA0.10FA0.8...   \n",
       "4            4  {'perovskite_composition': '(MAPbBr3)0.05(FAPb...   \n",
       "..         ...                                                ...   \n",
       "121        145  {'perovskite_composition': 'Cs0.05(MA0.17FA0.8...   \n",
       "122        146  {'perovskite_composition': 'Cs0.05(MA0.05FA0.9...   \n",
       "123        147  {'perovskite_composition': 'FAPbI 3', 'electro...   \n",
       "124        148  {'perovskite_composition': 'Cs0.05FA0.85MA0.10...   \n",
       "125        149  {'perovskite_composition': 'FA0.7MA0.3Pb0.5Sn0...   \n",
       "\n",
       "                                             extracted  \n",
       "0    {'perovskite_composition': 'FAPbI3', 'electron...  \n",
       "1    {'perovskite_composition': 'FA1-x MAx PbI3 (FA...  \n",
       "2    {'perovskite_composition': 'FA0.85Cs0.15PbI2.8...  \n",
       "3    {'perovskite_composition': 'Cs0.05(MA0.10FA0.8...  \n",
       "4    {'perovskite_composition': None, 'electron_tra...  \n",
       "..                                                 ...  \n",
       "121  {'perovskite_composition': 'Cs0.05(MA0.17FA0.8...  \n",
       "122  {'perovskite_composition': 'Cs0.05(FA0.05MA0.9...  \n",
       "123  {'perovskite_composition': 'FAPbI3', 'electron...  \n",
       "124  {'perovskite_composition': 'Cs0.05 FA0.85 MA0....  \n",
       "125  {'perovskite_composition': 'FA0.8Cs0.2Pb0.5Sn0...  \n",
       "\n",
       "[126 rows x 3 columns]"
      ]
     },
     "execution_count": 149,
     "metadata": {},
     "output_type": "execute_result"
    }
   ],
   "source": [
    "evaluate_df_train = annotation_df.merge(extraction_train, left_on='first_num', right_on='paper_num')[[\"paper_num\", \"output_x\",'output_y']]\n",
    "evaluate_df_train.columns = ['paper_num', 'annotation', 'extracted']\n",
    "evaluate_df_train"
   ]
  },
  {
   "cell_type": "code",
   "execution_count": 150,
   "metadata": {},
   "outputs": [],
   "source": [
    "# evaluate_df.to_csv('merged.csv', index=False)"
   ]
  },
  {
   "cell_type": "code",
   "execution_count": 151,
   "metadata": {},
   "outputs": [
    {
     "name": "stdout",
     "output_type": "stream",
     "text": [
      "{'perovskite_composition': 'Cs0.05FA0.85MA0.1PbI3', 'electron_transport_layer': 'C60', 'hole_transport_layer': '2PACz', 'structure_pin_nip': 'PIN', 'test_1': {'stability_type': 'ISOSL3', 'passivating_molecule': '4-chlorobenzenesulfonate', 'humidity': 50.0, 'temperature': 65.0, 'time': 1200.0, 'control_pce': 24.0, 'treated_pce': 26.9, 'control_voc': 0, 'treated_voc': 1.18, 'efficiency_cont': 0, 'efficiency_tret': 95.0}, 'test_1_2': {'stability_type': 'ISOSL3', 'passivating_molecule': '4-chlorobenzenesulfonate', 'humidity': 50.0, 'temperature': 85.0, 'time': 540.0, 'control_pce': 24.0, 'treated_pce': 26.9, 'control_voc': 0, 'treated_voc': 0, 'efficiency_cont': 0, 'efficiency_tret': 87.0}, 'test_2': {'stability_type': 'ISOSD2', 'passivating_molecule': '4-chlorobenzenesulfonate', 'humidity': 0, 'temperature': 85.0, 'time': 1500.0, 'control_pce': 24.0, 'treated_pce': 26.9, 'control_voc': 0, 'treated_voc': 0, 'efficiency_cont': 0, 'efficiency_tret': 95.0}}\n",
      "{'perovskite_composition': 'FAPbI3', 'electron_transport_layer': 'Spiro-OMeTAD', 'hole_transport_layer': 'C60', 'structure_pin_nip': 'PIN', 'test_1': {'stability_type': 'ISOS-L-3', 'humidity': 50, 'temperature': 65, 'time': None, 'passivating_molecule': 'cyclohexylmethylammonium iodide', 'control_pce': 24.74, 'treated_pce': 25.74, 'control_voc': 1.18, 'treated_voc': 1.15, 'efficiency_cont': 0.95, 'efficiency_tret': 0.95}}\n",
      "{'perovskite_composition': None, 'electron_transport_layer': 'TinOxide', 'hole_transport_layer': 'PTAA', 'structure_pin_nip': 'PIN', 'test_1': {'stability_type': 'ISOST', 'passivating_molecule': 'phenethylammonium', 'humidity': 0, 'temperature': 85.0, 'time': 500.0, 'control_pce': 0, 'treated_pce': 19.1, 'control_voc': 0, 'treated_voc': 1.16, 'efficiency_cont': 0, 'efficiency_tret': 0}}\n",
      "{'perovskite_composition': 'FA1-x MAx PbI3 (FA: HC(NH2)2; MA: CH3NH3)', 'electron_transport_layer': 'SnO2', 'hole_transport_layer': 'spiro-OMeTAD', 'structure_pin_nip': 'PIN', 'test_1': {'stability_type': 'ISOS-L', 'passivating_molecule': 'phenethylammonium iodide (PEAI)', 'humidity': 25, 'temperature': 85, 'time': 500, 'control_pce': 21.24, 'treated_pce': 23.32, 'control_voc': 1.12, 'treated_voc': 1.18, 'efficiency_cont': 20.0, 'efficiency_tret': 40.0}}\n",
      "{'perovskite_composition': '(FAPbI3)0.95(MAPbBr 3)0.05', 'electron_transport_layer': 'tin dioxide', 'hole_transport_layer': 'Spiro-OMeTAD', 'structure_pin_nip': 'NIP', 'test_2': {'stability_type': 'ISOSLT', 'passivating_molecule': 'butylammonium lead tetra iodide', 'humidity': 0, 'temperature': 0, 'time': 1620.0, 'control_pce': 0, 'treated_pce': 24.0, 'control_voc': 0, 'treated_voc': 0, 'efficiency_cont': 0, 'efficiency_tret': 98.0}, 'test_3': {'stability_type': 'ISOSD', 'passivating_molecule': 'butylammonium lead tetra iodide', 'humidity': 85.0, 'temperature': 85.0, 'time': 1056.0, 'control_pce': 0, 'treated_pce': 21.3, 'control_voc': 0, 'treated_voc': 0, 'efficiency_cont': 0, 'efficiency_tret': 94.0}, 'test_1': {'stability_type': 'ISOSL', 'passivating_molecule': 'butylammonium lead tetra iodide', 'humidity': 85.0, 'temperature': 0, 'time': 1620.0, 'control_pce': 22.3, 'treated_pce': 24.3, 'control_voc': 0, 'treated_voc': 1.18, 'efficiency_cont': 58.6, 'efficiency_tret': 98.0}}\n",
      "{'perovskite_composition': 'FA0.85Cs0.15PbI2.85I3', 'electron_transport_layer': 'SnO2', 'hole_transport_layer': 'Spiro-OMeTAD', 'structure_pin_nip': 'PIN', 'test_1': {'stability_type': 'humidity', 'passivating_molecule': '(BA)2PbI4', 'humidity': None, 'temperature': 85, 'time': None, 'control_pce': 21.34, 'treated_pce': 24.06, 'control_voc': 1.123, 'treated_voc': 1.185, 'efficiency_cont': None, 'efficiency_tret': 0.97}}\n",
      "{'perovskite_composition': 'Cs0.05(MA0.10FA0.85)Pb(I0.90Br0.10)3', 'electron_transport_layer': 'tin dioxide', 'hole_transport_layer': 'Spiro-OMeTAD', 'structure_pin_nip': 'NIP', 'test_1': {'stability_type': 'ISOSL1', 'passivating_molecule': None, 'humidity': 0, 'temperature': 0, 'time': 2000.0, 'control_pce': 0, 'treated_pce': 24.5, 'control_voc': 0, 'treated_voc': 1.2, 'efficiency_cont': 25.0, 'efficiency_tret': 99.0}}\n",
      "{'perovskite_composition': 'Cs0.05(MA0.10FA0.85)Pb(I0.90Br0.10)3', 'electron_transport_layer': 'SnO2', 'hole_transport_layer': 'Spiro-OMeTAD', 'structure_pin_nip': 'n-i-p', 'test_1': {'stability_type': 'ISOS-L-1', 'passivating_molecule': None, 'humidity': None, 'temperature': 60, 'time': 1000, 'control_pce': 21.0, 'treated_pce': 24.5, 'control_voc': 1.09, 'treated_voc': 1.2, 'efficiency_cont': 0.25, 'efficiency_tret': 0.99}}\n",
      "{'perovskite_composition': '(MAPbBr3)0.05(FAPbI3)0.95', 'electron_transport_layer': 'tin dioxide', 'hole_transport_layer': 'Spiro-OMeTAD', 'structure_pin_nip': 'NIP'}\n",
      "{'perovskite_composition': None, 'electron_transport_layer': None, 'hole_transport_layer': None, 'structure_pin_nip': None, 'test_1': {'stability_type': 'ISOS-L', 'passivating_molecule': '4-vinylbenzylammonium bromide', 'humidity': None, 'temperature': None, 'time': None, 'control_pce': 19.93, 'treated_pce': 21.06, 'control_voc': 1.06, 'treated_voc': 1.1, 'efficiency_cont': None, 'efficiency_tret': 21.9}}\n",
      "{'perovskite_composition': 'FA(MA)PbI 3', 'electron_transport_layer': 'indium tin oxide', 'hole_transport_layer': 'Spiro-OMeTAD', 'structure_pin_nip': 'NIP', 'test_1': {'stability_type': None, 'passivating_molecule': 'iso-butylammonium iodide', 'humidity': 0, 'temperature': 0, 'time': 0, 'control_pce': 0, 'treated_pce': 22.1, 'control_voc': 0, 'treated_voc': 1.13, 'efficiency_cont': 0, 'efficiency_tret': 0}}\n",
      "{'perovskite_composition': 'FA(MA)PbI3', 'electron_transport_layer': 'SnO2', 'hole_transport_layer': 'Spiro-OMeTAD', 'structure_pin_nip': 'PIN', 'test_1': {'stability_type': 'ISOS-D', 'passivating_molecule': 'n-BAI and iso-BAI', 'humidity': None, 'temperature': 85, 'time': 1000, 'control_pce': None, 'treated_pce': 22.1, 'control_voc': None, 'treated_voc': 1135.0, 'efficiency_cont': None, 'efficiency_tret': 100.0}}\n",
      "{'perovskite_composition': 'MAPbI 3', 'electron_transport_layer': 'Titanium dioxide', 'hole_transport_layer': 'Spiro-OMeTAD', 'structure_pin_nip': None, 'test_1': {'stability_type': 'ISOSD', 'passivating_molecule': 'phenylethylammonium iodide', 'humidity': 0, 'temperature': 0, 'time': 1344.0, 'control_pce': 16.6, 'treated_pce': 17.3, 'control_voc': 1.05, 'treated_voc': 1.1, 'efficiency_cont': 16.8, 'efficiency_tret': 75.6, 'perovskite_molecule': 'methylammonium iodide'}, 'test_2': {'stability_type': 'ISOSL', 'passivating_molecule': 'phenylethylammonium iodide', 'humidity': 55.0, 'temperature': 0, 'time': 336.0, 'control_pce': 16.4, 'treated_pce': 17.1, 'control_voc': 1.05, 'treated_voc': 1.1, 'efficiency_cont': 4.4, 'efficiency_tret': 76.8}}\n",
      "{'perovskite_composition': 'PEA2(CH3NH3)2Pb2I7', 'electron_transport_layer': 'Titanium dioxide (TiO2)', 'hole_transport_layer': 'Spiro-OMeTAD', 'structure_pin_nip': 'PIN', 'test_1': {'stability_type': 'ISOS-L', 'passivating_molecule': 'phenylethylammonium iodide', 'humidity': 90, 'temperature': 25, 'time': None, 'control_pce': 17.24, 'treated_pce': 18.4, 'control_voc': 1.09, 'treated_voc': 1.16, 'efficiency_cont': 0.8, 'efficiency_tret': 0.92}}\n",
      "{'perovskite_composition': '(FAPbI3)0.94(MAPbBr3)0.06', 'electron_transport_layer': 'Tin Oxide', 'hole_transport_layer': 'Spiro-OMeTAD', 'structure_pin_nip': 'NIP', 'test_3': {'stability_type': None, 'passivating_molecule': 'pyrene based methylammonium iodide', 'humidity': 0, 'temperature': 0, 'time': 0, 'control_pce': 20.0, 'treated_pce': 20.9, 'control_voc': 1.16, 'treated_voc': 1.16, 'efficiency_cont': 0, 'efficiency_tret': 0}, 'test_2': {'stability_type': None, 'passivating_molecule': 'pyrene based ammonium iodide', 'humidity': 0, 'temperature': 0, 'time': 0, 'control_pce': 20.0, 'treated_pce': 19.5, 'control_voc': 1.16, 'treated_voc': 1.06, 'efficiency_cont': 0, 'efficiency_tret': 0}, 'test_1': {'stability_type': 'ISOSLT', 'passivating_molecule': 'pyrene based ethylammonium iodide', 'humidity': 0, 'temperature': 40.0, 'time': 2000.0, 'control_pce': 19.3, 'treated_pce': 22.4, 'control_voc': 1.16, 'treated_voc': 1.17, 'efficiency_cont': 60.0, 'efficiency_tret': 85.0}}\n",
      "{'perovskite_composition': 'CsFAMAPbI3', 'electron_transport_layer': 'SnO2', 'hole_transport_layer': 'Spiro-OMeTAD', 'structure_pin_nip': 'NIP', 'test_1': {'stability_type': 'ISOS-L', 'passivating_molecule': '4-ethyl-1H-pyrrole-2-carboxylic acid', 'humidity': 30, 'temperature': 40, 'time': None, 'control_pce': 20.1, 'treated_pce': 23.0, 'control_voc': 1.16, 'treated_voc': 1.18, 'efficiency_cont': 0.85, 'efficiency_tret': 0.92}}\n",
      "{'perovskite_composition': 'MAPbI3', 'electron_transport_layer': 'PCBM', 'hole_transport_layer': None, 'structure_pin_nip': None, 'test_1': {'stability_type': None, 'passivating_molecule': '1,8-diaminooctane diiodide', 'humidity': 0, 'temperature': 0, 'time': 0, 'control_pce': 14.6, 'treated_pce': 17.6, 'control_voc': 0, 'treated_voc': 0, 'efficiency_cont': 0, 'efficiency_tret': 0}}\n",
      "{'perovskite_composition': 'CH3NH3PbI3', 'electron_transport_layer': 'PCBM', 'hole_transport_layer': 'CuOx', 'structure_pin_nip': 'PIN', 'test_1': {'stability_type': 'ISOS-L', 'humidity': None, 'temperature': 60, 'time': None, 'passivating_molecule': None, 'control_pce': 14.64, 'treated_pce': 17.6, 'control_voc': None, 'treated_voc': None, 'efficiency_cont': 85.0, 'efficiency_tret': 90.0}}\n",
      "{'perovskite_composition': 'FA0.83Cs0.17)0.95Pb(I0.8Br0.2)3', 'electron_transport_layer': 'Tin dioxide', 'hole_transport_layer': 'Spiro-OMeTAD', 'structure_pin_nip': 'NIP', 'test_1': {'stability_type': None, 'passivating_molecule': 'n-butylammonium bromide', 'humidity': 0, 'temperature': 0, 'time': 0, 'control_pce': 17.5, 'treated_pce': 19.8, 'control_voc': 1.24, 'treated_voc': 1.31, 'efficiency_cont': 0, 'efficiency_tret': 0}}\n",
      "{'perovskite_composition': 'Cs0.17FA0.83Pb(I0.6Br0.4)3', 'electron_transport_layer': 'SnO2', 'hole_transport_layer': 'Spiro-OMeTAD', 'structure_pin_nip': 'NIP', 'test_1': {'stability_type': 'ISOS-L', 'humidity': None, 'temperature': 25, 'time': 1000, 'passivating_molecule': 'n-butylammonium bromide (BABr)', 'control_pce': 16.7, 'treated_pce': 19.8, 'control_voc': 1.23, 'treated_voc': 1.31, 'efficiency_cont': 0.8, 'efficiency_tret': 19.4}}\n",
      "{'perovskite_composition': 'Cs0.12FA0.8MA0.08PbI1.8Br1', 'electron_transport_layer': 'PCBM', 'hole_transport_layer': '2PACz', 'structure_pin_nip': 'PIN', 'test_1': {'stability_type': 'ISOST', 'passivating_molecule': '2-thiopheneethylammonium chloride', 'humidity': 0, 'temperature': 60.0, 'time': 265.0, 'control_pce': 13.1, 'treated_pce': 23.8, 'control_voc': 1.19, 'treated_voc': 1.29, 'efficiency_cont': 82.0, 'efficiency_tret': 92.0}, 'test_2': {'stability_type': 'ISOSLT', 'passivating_molecule': '2-thiopheneethylammonium chloride', 'humidity': 0, 'temperature': 0, 'time': 195.0, 'control_pce': 13.1, 'treated_pce': 23.8, 'control_voc': 1.19, 'treated_voc': 1.29, 'efficiency_cont': 0, 'efficiency_tret': 80.0}}\n",
      "{'perovskite_composition': 'Cs0.12FA0.8MA0.08PbI1.8Br1.2', 'electron_transport_layer': 'PCBM', 'hole_transport_layer': '2PACz', 'structure_pin_nip': 'NIP', 'test_1': {'stability_type': 'ISOS-L', 'passivating_molecule': \"2,2',2',2'-tetrakis(4-ethylammonium) 1,3,5-triazine\", 'humidity': 30, 'temperature': 60, 'time': 1000, 'control_pce': 12.7, 'treated_pce': 15.1, 'control_voc': 1.19, 'treated_voc': 1.29, 'efficiency_cont': 0.95, 'efficiency_tret': 0.97}}\n",
      "{'perovskite_composition': '2-phenylethylammonium iodide', 'electron_transport_layer': '6] -phenyl-C 60 -butyric acid methyl ester,[6', 'hole_transport_layer': '4,6-trimethylphenyl) amine],poly[bis(4-phenyl) (2', 'structure_pin_nip': 'PIN', 'test_1': {'stability_type': 'ISOSL', 'passivating_molecule': '4-chlorophenylethylammonium iodide', 'humidity': 0, 'temperature': 0, 'time': 33.0, 'control_pce': 21.5, 'treated_pce': 23.0, 'control_voc': 1.1, 'treated_voc': 1.14, 'efficiency_cont': 90.0, 'efficiency_tret': 100.0}, 'test_2': {'stability_type': 'ISOSL', 'passivating_molecule': '4-fluorophenylethylammonium iodide', 'humidity': 0, 'temperature': 0, 'time': 33.0, 'control_pce': 21.5, 'treated_pce': 23.7, 'control_voc': 1.1, 'treated_voc': 1.16, 'efficiency_cont': 90.0, 'efficiency_tret': 100.0}}\n",
      "{'perovskite_composition': 'Cs0.1FA0.9PbI3', 'electron_transport_layer': 'PCBM', 'hole_transport_layer': 'PTAA', 'structure_pin_nip': 'NIP', 'test_1': {'stability_type': 'ISOS-L', 'passivating_molecule': 'PEAI, Cl-PEAI, F-PEAI', 'humidity': 50, 'temperature': 25, 'time': 1000, 'control_pce': 21.58, 'treated_pce': 23.72, 'control_voc': 1.109, 'treated_voc': 1.155, 'efficiency_cont': 20.0, 'efficiency_tret': 40.0}}\n",
      "{'perovskite_composition': 'Cs0.05(FA5/6MA1/6)0.95Pb(I0.9Br0.1)3', 'electron_transport_layer': 'PCBM', 'hole_transport_layer': 'PTAA', 'structure_pin_nip': 'PIN', 'test_1': {'stability_type': None, 'passivating_molecule': '4-fluoro-phenylethylammonium iodide', 'humidity': 0, 'temperature': 0, 'time': 0, 'control_pce': 0, 'treated_pce': 23.3, 'control_voc': 1.1, 'treated_voc': 1.15, 'efficiency_cont': 0, 'efficiency_tret': 0}, 'test_2': {'stability_type': None, 'passivating_molecule': '4-fluoro-phenylethylammonium iodide', 'humidity': 0, 'temperature': 0, 'time': 0, 'control_pce': 0, 'treated_pce': 23.2, 'control_voc': 1.1, 'treated_voc': 1.16, 'efficiency_cont': 0, 'efficiency_tret': 0}}\n",
      "{'perovskite_composition': 'Cs0.05(FA0.05MA0.95)0.95Pb(I0.9Br0.1)3', 'electron_transport_layer': \"6,6'-bis(2,4-dimethylphenyl)-[2,2:6,6]-bicyclo[2.2.2]oct-2-1,3,5-triyl-1,3,5-trisubstituted fullerene\", 'hole_transport_layer': 'piperidinium-based hole transport material', 'structure_pin_nip': 'inverted', 'test_1': {'stability_type': 'ISOS-L', 'humidity': 50, 'temperature': 23, 'time': 1000, 'passivating_molecule': '4-chlorophenylethylammonium iodide', 'control_pce': 21.78, 'treated_pce': 23.42, 'control_voc': 1.11, 'treated_voc': 1.17, 'efficiency_cont': 0.85, 'efficiency_tret': 0.92}}\n",
      "{'perovskite_composition': 'FAPbI3', 'electron_transport_layer': 'TinOxide', 'hole_transport_layer': 'Spiro-OMeTAD', 'structure_pin_nip': 'NIP', 'test_1': {'stability_type': None, 'passivating_molecule': 'hydrophobic 3-(trifluoromethyl) phenethylamine hydroiodide', 'humidity': 0, 'temperature': 0, 'time': 0, 'control_pce': 18.8, 'treated_pce': 21.0, 'control_voc': 1.04, 'treated_voc': 1.11, 'efficiency_cont': 0, 'efficiency_tret': 0}}\n",
      "{'perovskite_composition': None, 'electron_transport_layer': 'SnO2', 'hole_transport_layer': 'Spiro-OMeTAD', 'structure_pin_nip': 'PIN', 'test_1': {'stability_type': 'ISOS-L', 'passivating_molecule': 'CF3PEAI', 'humidity': None, 'temperature': 25, 'time': None, 'control_pce': 20.55, 'treated_pce': 21.05, 'control_voc': 1.09, 'treated_voc': 1.11, 'efficiency_cont': None, 'efficiency_tret': 98.83}, 'test_2': {'stability_type': 'ISOS-D', 'passivating_molecule': 'CF3PEAI2D', 'humidity': None, 'temperature': 85, 'time': None, 'control_pce': 18.87, 'treated_pce': 21.05, 'control_voc': 1.04, 'treated_voc': 1.01, 'efficiency_cont': None, 'efficiency_tret': 96.98}}\n",
      "{'perovskite_composition': 'Cs0.05FA0.81MA0.14PbI2.55Br0.45', 'electron_transport_layer': 'tin dioxide', 'hole_transport_layer': 'PTAA', 'structure_pin_nip': 'NIP', 'test_1': {'stability_type': 'ISOSL', 'passivating_molecule': None, 'humidity': 0, 'temperature': 0, 'time': 48.0, 'control_pce': 20.0, 'treated_pce': 20.9, 'control_voc': 1.16, 'treated_voc': 1.19, 'efficiency_cont': 0, 'efficiency_tret': 86.0}}\n",
      "{'perovskite_composition': 'Cs0.05 FA0.81 MA0.14 PbI2.55 Br0.45', 'electron_transport_layer': 'C60', 'hole_transport_layer': '1F-PTAA', 'structure_pin_nip': 'NIP', 'test_1': {'stability_type': 'ISOS-L', 'passivating_molecule': 'hexyltrimethylammonium bromide', 'humidity': None, 'temperature': 25, 'time': 48, 'control_pce': 20.95, 'treated_pce': 22.02, 'control_voc': 1.16, 'treated_voc': 1.19, 'efficiency_cont': 0.3, 'efficiency_tret': 0.8}}\n",
      "{'perovskite_composition': None, 'electron_transport_layer': 'Tin Oxide', 'hole_transport_layer': 'Spiro-OMeTAD', 'structure_pin_nip': 'NIP', 'test_1': {'stability_type': None, 'passivating_molecule': '2-thiophenemethylammonium iodide', 'humidity': 0, 'temperature': 0, 'time': 0, 'control_pce': 0, 'treated_pce': 0, 'control_voc': 0, 'treated_voc': 0, 'efficiency_cont': 0, 'efficiency_tret': 0}}\n",
      "{'perovskite_composition': 'FA0.83MA0.17PbI3', 'electron_transport_layer': 'SnO2', 'hole_transport_layer': 'Spiro-OMeTAD', 'structure_pin_nip': 'n-i-p', 'test_1': {'stability_type': None, 'passivating_molecule': 'phenylethylammonium iodide (PEAI) and 2-thiophenemethylammonium iodide (TMAI)', 'humidity': None, 'temperature': None, 'time': None, 'control_pce': None, 'treated_pce': None, 'control_voc': None, 'treated_voc': None, 'efficiency_cont': None, 'efficiency_tret': None}}\n",
      "{'perovskite_composition': 'Cs0.05MA0.05FA0.9Pb(I0.95Br0.05)3\\\\', 'electron_transport_layer': 'C60', 'hole_transport_layer': '2PACz', 'structure_pin_nip': None, 'test_1': {'stability_type': 'ISOSLT', 'passivating_molecule': '3,4,5-trifluoroanilinium', 'humidity': 50.0, 'temperature': 85.0, 'time': 1560.0, 'control_pce': 21.0, 'treated_pce': 23.3, 'control_voc': 1.26, 'treated_voc': 1.27, 'efficiency_cont': 0, 'efficiency_tret': 85.0}, 'test_2': {'stability_type': 'ISOSL3', 'passivating_molecule': '3,4,5-trifluoroanilinium', 'humidity': 50.0, 'temperature': 85.0, 'time': 1586.0, 'control_pce': 21.0, 'treated_pce': 22.9, 'control_voc': 0, 'treated_voc': 0, 'efficiency_cont': 0, 'efficiency_tret': 85.0}}\n",
      "{'perovskite_composition': 'Cs0.05MA0.05FA0.9Pb(I0.95Br0.05)3', 'electron_transport_layer': 'C60', 'hole_transport_layer': '2PACz', 'structure_pin_nip': 'PIN', 'test_1': {'stability_type': 'ISOS-L-3', 'passivating_molecule': '3,4,5-trifluoroanilinium (345FAn)', 'humidity': None, 'temperature': 85, 'time': None, 'control_pce': 19.9, 'treated_pce': 24.09, 'control_voc': None, 'treated_voc': 1.16, 'efficiency_cont': None, 'efficiency_tret': 0.84}}\n",
      "{'perovskite_composition': 'MAPbI 3', 'electron_transport_layer': None, 'hole_transport_layer': None, 'structure_pin_nip': None, 'test_1': {'stability_type': None, 'passivating_molecule': 'phenylethylammonium lead iodide', 'humidity': 0, 'temperature': 0, 'time': 0, 'control_pce': 0, 'treated_pce': 0, 'control_voc': 0, 'treated_voc': 0, 'efficiency_cont': 0, 'efficiency_tret': 0}}\n",
      "{'perovskite_composition': 'MAPbI3', 'electron_transport_layer': 'Titanium dioxide', 'hole_transport_layer': 'Spiro-OMeTAD', 'structure_pin_nip': 'NIP', 'test_1': {'stability_type': 'ISOS-L', 'passivating_molecule': '2D/3D perovskite', 'humidity': 30, 'temperature': 100, 'time': 450, 'control_pce': None, 'treated_pce': 8.91, 'control_voc': None, 'treated_voc': 1.16, 'efficiency_cont': 0.91, 'efficiency_tret': 0.85}, 'test_2': {'stability_type': 'ISOS-D', 'passivating_molecule': None, 'humidity': 30, 'temperature': 60, 'time': 24, 'control_pce': None, 'treated_pce': None, 'control_voc': None, 'treated_voc': None, 'efficiency_cont': 1.0, 'efficiency_tret': 0.5}}\n",
      "{'perovskite_composition': '(FAPbI3)0.92(MAPbBr3)0.08', 'electron_transport_layer': None, 'hole_transport_layer': None, 'structure_pin_nip': None, 'test_1': {'stability_type': None, 'passivating_molecule': None, 'humidity': 0, 'temperature': 0, 'time': 0, 'control_pce': 22.3, 'treated_pce': 21.3, 'control_voc': 1.16, 'treated_voc': 1.14, 'efficiency_cont': 0, 'efficiency_tret': 0}}\n",
      "{'perovskite_composition': 'Cs0.05(FA0.95MA0.05)0.95Pb(I0.95Br0.05)3', 'electron_transport_layer': 'Titanium dioxide', 'hole_transport_layer': 'Spiro-OMeTAD', 'structure_pin_nip': 'NIP', 'test_1': {'stability_type': 'ISOS-L', 'passivating_molecule': 'n-hexylammonium bromide and n-octylammonium bromide', 'humidity': None, 'temperature': 25, 'time': None, 'control_pce': 21.5, 'treated_pce': 23.1, 'control_voc': 1.13, 'treated_voc': 1.15, 'efficiency_cont': None, 'efficiency_tret': 92.5}}\n",
      "{'perovskite_composition': 'FAPbI 3', 'electron_transport_layer': None, 'hole_transport_layer': None, 'structure_pin_nip': 'NIP', 'test_3': {'stability_type': 'ISOSD2', 'passivating_molecule': 'cyclohexylmethylammonium iodide', 'humidity': '40+-10', 'temperature': 50.0, 'time': 500.0, 'control_pce': 0, 'treated_pce': 23.9, 'control_voc': 0, 'treated_voc': 1.14, 'efficiency_cont': 0, 'efficiency_tret': 93.0}, 'test_1': {'stability_type': 'ISOSL', 'passivating_molecule': 'cyclohexylmethylammonium iodide', 'humidity': '20-30', 'temperature': 0, 'time': 2400.0, 'control_pce': 0, 'treated_pce': 23.9, 'control_voc': 0, 'treated_voc': 1.14, 'efficiency_cont': 0, 'efficiency_tret': 73.0}, 'test_2': {'stability_type': 'ISOSLT', 'passivating_molecule': 'cyclohexylmethylammonium iodide', 'humidity': 0, 'temperature': 0, 'time': 1050.0, 'control_pce': 0, 'treated_pce': 23.9, 'control_voc': 0, 'treated_voc': 1.14, 'efficiency_cont': 0, 'efficiency_tret': 95.0}}\n",
      "{'perovskite_composition': 'FAPbI3', 'electron_transport_layer': 'TiO2', 'hole_transport_layer': 'Spiro-OMeTAD', 'structure_pin_nip': 'PIN', 'test_1': {'stability_type': 'ISOS-L', 'passivating_molecule': 'cyclohexylmethylammonium iodide', 'humidity': 40, 'temperature': 50, 'time': 500, 'control_pce': 21.07, 'treated_pce': 21.07, 'control_voc': 1.154, 'treated_voc': 1.154, 'efficiency_cont': None, 'efficiency_tret': 93.0}}\n",
      "{'perovskite_composition': 'Cs0.05MA0.1FA0.85PbI3', 'electron_transport_layer': 'Tin dioxide', 'hole_transport_layer': None, 'structure_pin_nip': 'NIP', 'test_1': {'stability_type': 'ISOSL1', 'passivating_molecule': '3-fluoro-phenethylammonium iodide', 'humidity': 50.0, 'temperature': 0, 'time': 1000.0, 'control_pce': 0, 'treated_pce': 23.9, 'control_voc': 0, 'treated_voc': 1.15, 'efficiency_cont': 0, 'efficiency_tret': 100.0}, 'test_2': {'stability_type': 'ISOSL3', 'passivating_molecule': '3-fluoro-phenethylammonium iodide', 'humidity': 0, 'temperature': 65.0, 'time': 500.0, 'control_pce': 0, 'treated_pce': 23.9, 'control_voc': 0, 'treated_voc': 1.15, 'efficiency_cont': 0, 'efficiency_tret': 92.0}}\n",
      "{'perovskite_composition': 'Cs0.05(MA0.1FA0.85PbI3)3', 'electron_transport_layer': 'C60', 'hole_transport_layer': 'NiOx', 'structure_pin_nip': 'PIN', 'test_1': {'stability_type': 'ISOS-L', 'passivating_molecule': '3F-PEA', 'humidity': 50, 'temperature': 50, 'time': 1000, 'control_pce': 23.91, 'treated_pce': 23.91, 'control_voc': 1.15, 'treated_voc': 1.15, 'efficiency_cont': 0.01, 'efficiency_tret': 0.99}}\n",
      "{'perovskite_composition': 'CsPbI 3', 'electron_transport_layer': 'Titanium dioxide', 'hole_transport_layer': 'copper(I) thiocyanate', 'structure_pin_nip': None, 'test_1': {'stability_type': 'ISOSD', 'passivating_molecule': None, 'humidity': 0, 'temperature': 110.0, 'time': 2100.0, 'control_pce': 14.9, 'treated_pce': 17.4, 'control_voc': 0, 'treated_voc': 0, 'efficiency_cont': 0, 'efficiency_tret': 80.0}}\n",
      "{'perovskite_composition': 'Cs0.15FA0.85MA0.05PbI3', 'electron_transport_layer': 'C60', 'hole_transport_layer': 'Spiro-OMeTAD', 'structure_pin_nip': 'PIN', 'test_1': {'stability_type': 'ISOS-L-3', 'passivating_molecule': 'Cs2PbI2Cl2', 'humidity': 42, 'temperature': 35, 'time': 3531, 'control_pce': None, 'treated_pce': 17.4, 'control_voc': None, 'treated_voc': 1.16, 'efficiency_cont': None, 'efficiency_tret': 0.8}}\n",
      "{'perovskite_composition': 'FAPbI3', 'electron_transport_layer': None, 'hole_transport_layer': None, 'structure_pin_nip': None}\n",
      "{'perovskite_composition': 'formamidinium lead iodide (FAPbI3)', 'electron_transport_layer': None, 'hole_transport_layer': None, 'structure_pin_nip': None, 'test_1': {'stability_type': 'ISOS-L', 'passivating_molecule': 'formamidinium', 'humidity': None, 'temperature': 85, 'time': 1000, 'control_pce': None, 'treated_pce': None, 'control_voc': None, 'treated_voc': None, 'efficiency_cont': None, 'efficiency_tret': 0.05}, 'test_2': {'stability_type': 'ISOS-D', 'passivating_molecule': 'formamidinium', 'humidity': None, 'temperature': 120, 'time': 24, 'control_pce': None, 'treated_pce': None, 'control_voc': None, 'treated_voc': None, 'efficiency_cont': None, 'efficiency_tret': 0.2}}\n",
      "{'perovskite_composition': 'MAPbI 3', 'electron_transport_layer': None, 'hole_transport_layer': None, 'structure_pin_nip': None}\n",
      "{'perovskite_composition': 'MAPbCl3, MAPbBr3, MAPbI3', 'electron_transport_layer': None, 'hole_transport_layer': None, 'structure_pin_nip': 'NIP', 'test_1': {'stability_type': 'ISOS-L', 'passivating_molecule': 'methylamine', 'humidity': 30, 'temperature': 60, 'time': None, 'control_pce': 3.1, 'treated_pce': 4.8, 'control_voc': 0.92, 'treated_voc': 1.15, 'efficiency_cont': 0.5, 'efficiency_tret': 0.8}}\n",
      "{'perovskite_composition': None, 'electron_transport_layer': None, 'hole_transport_layer': None, 'structure_pin_nip': 'NIP', 'test_1': {'stability_type': 'ISOSLT', 'passivating_molecule': 'trifluoromethylphenylethylammonium', 'humidity': 0, 'temperature': 0, 'time': 2000.0, 'control_pce': 0, 'treated_pce': 18.5, 'control_voc': 0, 'treated_voc': 1.23, 'efficiency_cont': 0, 'efficiency_tret': 100.0}}\n",
      "{'perovskite_composition': 'CsPbI3-xBrx', 'electron_transport_layer': 'C60', 'hole_transport_layer': None, 'structure_pin_nip': 'PIN', 'test_1': {'stability_type': 'ISOS-L', 'passivating_molecule': '4-(Trifluoromethyl) phenethylammonium (CF3-PEA)', 'humidity': 30, 'temperature': 35, 'time': None, 'control_pce': 18.5, 'treated_pce': 25.6, 'control_voc': 1.01, 'treated_voc': 2.0, 'efficiency_cont': 0.84, 'efficiency_tret': 0.96}}\n",
      "{'perovskite_composition': None, 'electron_transport_layer': None, 'hole_transport_layer': None, 'structure_pin_nip': None}\n",
      "{'perovskite_composition': None, 'electron_transport_layer': None, 'hole_transport_layer': None, 'structure_pin_nip': None, 'test_1': {'stability_type': 'ISOS-L', 'humidity': 65, 'temperature': 65, 'time': None, 'passivating_molecule': 'butylamine', 'control_pce': None, 'treated_pce': 25.5, 'control_voc': None, 'treated_voc': 1.1, 'efficiency_cont': None, 'efficiency_tret': 85.0}, 'test_2': {'stability_type': 'ISOS-D', 'humidity': 50, 'temperature': 110, 'time': None, 'passivating_molecule': None, 'control_pce': None, 'treated_pce': 24.8, 'control_voc': None, 'treated_voc': 1.1, 'efficiency_cont': None, 'efficiency_tret': 75.0}}\n",
      "{'perovskite_composition': 'FACsPbI 3', 'electron_transport_layer': 'tin dioxide', 'hole_transport_layer': 'Spiro-OMeTAD', 'structure_pin_nip': 'NIP', 'test_1': {'stability_type': 'ISOSLT', 'passivating_molecule': None, 'humidity': 0, 'temperature': 0, 'time': 500.0, 'control_pce': 10.9, 'treated_pce': 23.2, 'control_voc': 0, 'treated_voc': 1.16, 'efficiency_cont': 0, 'efficiency_tret': 80.0}}\n",
      "{'perovskite_composition': 'FA0.9Cs0.1PbI3', 'electron_transport_layer': 'Spiro-OMeTAD', 'hole_transport_layer': 'boric acid-doped TiO2', 'structure_pin_nip': 'NIP', 'test_1': {'stability_type': 'ISOS-L-2', 'passivating_molecule': None, 'humidity': None, 'temperature': 60, 'time': 1000, 'control_pce': 22.22, 'treated_pce': 23.21, 'control_voc': 1.16, 'treated_voc': 1.17, 'efficiency_cont': 0.85, 'efficiency_tret': 0.95}}\n",
      "{'perovskite_composition': 'Rb0.05Cs0.05MA0.05FA0.85Pb(I0.95Br0.05)3', 'electron_transport_layer': 'C60', 'hole_transport_layer': 'MeO-2PACZ', 'structure_pin_nip': 'PIN', 'test_2': {'stability_type': 'ISOSL2', 'passivating_molecule': '3-(aminomethyl)pyridine', 'humidity': 0, 'temperature': 65.0, 'time': 1315.0, 'control_pce': 23.3, 'treated_pce': 25.4, 'control_voc': 1.12, 'treated_voc': 1.15, 'efficiency_cont': 0, 'efficiency_tret': 90.0}, 'test_3': {'stability_type': 'ISOSD3', 'passivating_molecule': '3-(aminomethyl)pyridine', 'humidity': 85.0, 'temperature': 85.0, 'time': 850.0, 'control_pce': 23.3, 'treated_pce': 25.4, 'control_voc': 1.12, 'treated_voc': 1.15, 'efficiency_cont': 0, 'efficiency_tret': 94.0}, 'test_1': {'stability_type': 'ISOSLT', 'passivating_molecule': '3-(aminomethyl)pyridine', 'humidity': 0, 'temperature': 55.0, 'time': 2428.0, 'control_pce': 23.3, 'treated_pce': 25.4, 'control_voc': 1.12, 'treated_voc': 1.15, 'efficiency_cont': 76.0, 'efficiency_tret': 87.0}}\n",
      "{'perovskite_composition': 'FA0.85MA0.15PbI3', 'electron_transport_layer': 'C60', 'hole_transport_layer': 'Spiro-OMeTAD', 'structure_pin_nip': None, 'test_1': {'stability_type': 'ISOS-L-1', 'humidity': None, 'temperature': 55, 'time': None, 'passivating_molecule': None, 'control_pce': 22.85, 'treated_pce': 25.35, 'control_voc': 1.12, 'treated_voc': 1.15, 'efficiency_cont': 76.0, 'efficiency_tret': 87.0}, 'test_2': {'stability_type': 'ISOS-L-2', 'humidity': None, 'temperature': 65, 'time': None, 'passivating_molecule': None, 'control_pce': None, 'treated_pce': None, 'control_voc': None, 'treated_voc': None, 'efficiency_cont': 90.0, 'efficiency_tret': 94.0}, 'test_3': {'stability_type': 'ISOS-D-3', 'humidity': 85, 'temperature': 85, 'time': None, 'passivating_molecule': None, 'control_pce': None, 'treated_pce': None, 'control_voc': None, 'treated_voc': None, 'efficiency_cont': None, 'efficiency_tret': 94.0}}\n",
      "{'perovskite_composition': 'CsPbI3', 'electron_transport_layer': None, 'hole_transport_layer': None, 'structure_pin_nip': None}\n",
      "{'perovskite_composition': 'CH3NH3PbI3', 'electron_transport_layer': 'C60', 'hole_transport_layer': 'Spiro-OMeTAD', 'structure_pin_nip': 'NIP', 'test_1': {'stability_type': 'ISOS-L', 'passivating_molecule': 'none', 'humidity': None, 'temperature': 25, 'time': None, 'control_pce': 15.4, 'treated_pce': 21.3, 'control_voc': 1.07, 'treated_voc': 1.15, 'efficiency_cont': 0.7, 'efficiency_tret': 0.85}}\n",
      "{'perovskite_composition': 'FAPbI3', 'electron_transport_layer': None, 'hole_transport_layer': None, 'structure_pin_nip': None}\n",
      "{'perovskite_composition': 'formamidinium lead iodide (FAPbI3)', 'electron_transport_layer': None, 'hole_transport_layer': None, 'structure_pin_nip': None, 'test_1': {'stability_type': 'ISOS-L', 'passivating_molecule': 'benzene', 'humidity': None, 'temperature': 60, 'time': 720, 'control_pce': None, 'treated_pce': 25.1, 'control_voc': None, 'treated_voc': None, 'efficiency_cont': None, 'efficiency_tret': 0.9}}\n",
      "{'perovskite_composition': '(CsPbI3)0.05[(FAPbI3)0.83(MAPbBr3)0.17]0.95', 'electron_transport_layer': None, 'hole_transport_layer': 'Spiro-OMeTAD', 'structure_pin_nip': None}\n",
      "{'perovskite_composition': 'CsPbI3-0.05-(FAPbI3)0.83-(MAPbBr3)0.17', 'electron_transport_layer': 'PEDOT:PSS', 'hole_transport_layer': 'P3HT', 'structure_pin_nip': None, 'test_1': {'stability_type': 'PL', 'passivating_molecule': None, 'humidity': None, 'temperature': None, 'time': None, 'control_pce': None, 'treated_pce': None, 'control_voc': None, 'treated_voc': None, 'efficiency_cont': None, 'efficiency_tret': None}}\n",
      "{'perovskite_composition': '(Cs0.05(FA0.83MA0.17)0.95Pb(I0.83Br0.17)3', 'electron_transport_layer': 'C60', 'hole_transport_layer': 'poly(triarylamine)', 'structure_pin_nip': 'PIN', 'test_1': {'stability_type': None, 'passivating_molecule': 'Lithium fluoride', 'humidity': 0, 'temperature': 0, 'time': 0, 'control_pce': 0, 'treated_pce': 20.0, 'control_voc': 0, 'treated_voc': 0, 'efficiency_cont': 0, 'efficiency_tret': 0}}\n",
      "{'perovskite_composition': 'Cs0.05(FA0.83MA0.17)0.95Pb(I0.83Br0.17)3', 'electron_transport_layer': 'C60', 'hole_transport_layer': 'PTAA:PFN', 'structure_pin_nip': 'PIN', 'test_1': {'stability_type': 'ISOS-L', 'humidity': None, 'temperature': 25, 'time': None, 'passivating_molecule': 'LiF', 'control_pce': 21.3, 'treated_pce': 23.1, 'control_voc': 1.14, 'treated_voc': 1.18, 'efficiency_cont': 0.8, 'efficiency_tret': 0.92}}\n",
      "{'perovskite_composition': None, 'electron_transport_layer': None, 'hole_transport_layer': None, 'structure_pin_nip': None, 'test_1': {'stability_type': None, 'passivating_molecule': '1,3-propylene diammonium', 'humidity': 0, 'temperature': 0, 'time': 700.0, 'control_pce': 0, 'treated_pce': 19.0, 'control_voc': 0, 'treated_voc': 1.35, 'efficiency_cont': 0, 'efficiency_tret': 100.0}, 'test_2': {'stability_type': None, 'passivating_molecule': None, 'humidity': 0, 'temperature': 0, 'time': 500.0, 'control_pce': 0, 'treated_pce': 26.3, 'control_voc': 0, 'treated_voc': 2.19, 'efficiency_cont': 0, 'efficiency_tret': 86.0}}\n",
      "{'perovskite_composition': 'Cs0.2FA0.8Pb(I0.6Br0.4)3', 'electron_transport_layer': 'C60', 'hole_transport_layer': 'NiOx/Me-4PACz', 'structure_pin_nip': 'PIN', 'test_1': {'stability_type': 'ISOS-L', 'passivating_molecule': '1,3-propane diammonium iodide', 'humidity': 25, 'temperature': 25, 'time': 500, 'control_pce': 23.5, 'treated_pce': 26.29, 'control_voc': 1.23, 'treated_voc': 2.13, 'efficiency_cont': 0.7, 'efficiency_tret': 0.86}}\n",
      "{'perovskite_composition': '(FAPbI 3 ) 0.87(MAPbBr3)0.13]0.92(CsPbI3)0.08', 'electron_transport_layer': 'Titanium dioxide', 'hole_transport_layer': 'Spiro-OMeTAD', 'structure_pin_nip': 'NIP', 'test_1': {'stability_type': 'ISOSLT', 'passivating_molecule': '2-thiophenemethylammonium bromide', 'humidity': 0, 'temperature': 0, 'time': 1000.0, 'control_pce': 20.7, 'treated_pce': 20.8, 'control_voc': 1.09, 'treated_voc': 1.17, 'efficiency_cont': 65.0, 'efficiency_tret': 75.0}, 'test_2': {'stability_type': None, 'passivating_molecule': '2-thiophenemethylammonium iodide', 'humidity': 0, 'temperature': 0, 'time': 0, 'control_pce': 20.7, 'treated_pce': 19.9, 'control_voc': 1.09, 'treated_voc': 1.09, 'efficiency_cont': 0, 'efficiency_tret': 0}, 'test_3': {'stability_type': None, 'passivating_molecule': '2-thiophenemethylammonium chloride', 'humidity': 0, 'temperature': 0, 'time': 0, 'control_pce': 20.7, 'treated_pce': 19.7, 'control_voc': 1.09, 'treated_voc': 1.16, 'efficiency_cont': 0, 'efficiency_tret': 0}}\n",
      "{'perovskite_composition': '[(FAPbI3)0.87(MAPbBr3)0.13]0.92(CSPbI3)0.08', 'electron_transport_layer': 'TiO2', 'hole_transport_layer': 'spiro-OMeTAD', 'structure_pin_nip': 'NIP', 'test_1': {'stability_type': 'ISOS-L', 'passivating_molecule': '2-TMAI', 'humidity': None, 'temperature': 100, 'time': 1000, 'control_pce': 20.7, 'treated_pce': 19.9, 'control_voc': 1.09, 'treated_voc': 1.09, 'efficiency_cont': 0.7, 'efficiency_tret': 0.9}}\n",
      "{'perovskite_composition': None, 'electron_transport_layer': None, 'hole_transport_layer': 'PTAA', 'structure_pin_nip': None, 'test_1': {'stability_type': 'ISOSD', 'passivating_molecule': 'oleylammonium iodide', 'humidity': 85.0, 'temperature': 85.0, 'time': 1000.0, 'control_pce': 0, 'treated_pce': 24.3, 'control_voc': 0, 'treated_voc': 0, 'efficiency_cont': 0, 'efficiency_tret': 95.0}}\n",
      "{'perovskite_composition': 'FAMAPbI3 and MAPbI3 layers (two-step method)', 'electron_transport_layer': 'C60', 'hole_transport_layer': '2D PACz', 'structure_pin_nip': 'NIP', 'test_1': {'stability_type': 'ISOS-D', 'passivating_molecule': 'Oleylammonium iodide', 'humidity': 85, 'temperature': 85, 'time': None, 'control_pce': 21.8, 'treated_pce': 24.3, 'control_voc': 1.12, 'treated_voc': 1.2, 'efficiency_cont': 0.05, 'efficiency_tret': 0.95}}\n",
      "{'perovskite_composition': None, 'electron_transport_layer': 'SnO2', 'hole_transport_layer': 'Spiro-OMeTAD', 'structure_pin_nip': 'NIP', 'test_1': {'stability_type': 'ISOSL', 'passivating_molecule': 'ortho-(phenylene)di(ethylammonium) iodide', 'humidity': '40-50', 'temperature': 85.0, 'time': 1008.0, 'control_pce': 20.8, 'treated_pce': 23.9, 'control_voc': 1.13, 'treated_voc': 1.15, 'efficiency_cont': 58.0, 'efficiency_tret': 85.0}, 'test_2': {'stability_type': 'ISOST', 'passivating_molecule': 'ortho-(phenylene)di(ethylammonium) iodide', 'humidity': 0, 'temperature': 85.0, 'time': 1000.0, 'control_pce': 20.3, 'treated_pce': 22.3, 'control_voc': 0, 'treated_voc': 0, 'efficiency_cont': 51.0, 'efficiency_tret': 75.0}, 'test_3': {'stability_type': 'ISOSLT', 'passivating_molecule': 'ortho-(phenylene)di(ethylammonium) iodide', 'humidity': 0, 'temperature': 0, 'time': 1100.0, 'control_pce': 0, 'treated_pce': 0, 'control_voc': 0, 'treated_voc': 0, 'efficiency_cont': 60.0, 'efficiency_tret': 90.0}}\n",
      "{'perovskite_composition': 'Cs0.05(MA0.05FA0.95)0.95Pb(I0.85Br0.15)3', 'electron_transport_layer': 'SnO2', 'hole_transport_layer': 'Spiro-OMeTAD', 'structure_pin_nip': 'NIP', 'test_1': {'stability_type': 'ISOS-L', 'passivating_molecule': 'ortho-(phenylene)di(ethylammonium) iodide', 'humidity': None, 'temperature': 25, 'time': 1000, 'control_pce': 21.94, 'treated_pce': 23.92, 'control_voc': 1.135, 'treated_voc': 1.157, 'efficiency_cont': 58.0, 'efficiency_tret': 85.0}}\n",
      "{'perovskite_composition': 'Cs0.05MA0.1FA0.85PbI2.7Br0.3', 'electron_transport_layer': None, 'hole_transport_layer': None, 'structure_pin_nip': None, 'test_1': {'stability_type': 'ISOSL', 'passivating_molecule': 'azetidinium lead iodide', 'humidity': 0, 'temperature': 52.0, 'time': 1000.0, 'control_pce': 19.5, 'treated_pce': 22.0, 'control_voc': 1.07, 'treated_voc': 1.14, 'efficiency_cont': 47.0, 'efficiency_tret': 85.0}}\n",
      "{'perovskite_composition': None, 'electron_transport_layer': 'C60', 'hole_transport_layer': 'spiro-OMeTAD', 'structure_pin_nip': None, 'test_1': {'stability_type': 'ISOS-L', 'passivating_molecule': 'azetidinium iodide', 'humidity': None, 'temperature': 52, 'time': None, 'control_pce': None, 'treated_pce': 22.4, 'control_voc': None, 'treated_voc': 1.18, 'efficiency_cont': 0.47, 'efficiency_tret': 0.85}}\n",
      "{'perovskite_composition': 'FAPbI 3', 'electron_transport_layer': None, 'hole_transport_layer': 'Spiro-OMeTAD', 'structure_pin_nip': None, 'test_1': {'stability_type': 'ISOSD', 'passivating_molecule': None, 'humidity': '80+-20', 'temperature': 0, 'time': 500.0, 'control_pce': 23.0, 'treated_pce': 24.5, 'control_voc': 1.12, 'treated_voc': 1.15, 'efficiency_cont': 9.65, 'efficiency_tret': 47.9}}\n",
      "{'perovskite_composition': 'FA0.90MA0.10PbI3•(CsPbI3)0.05 with excess PbI2 and FA0.8075MA0.10Cs0.05Pb(I0.854Br0.186)3', 'electron_transport_layer': 'mesoporous TiO2 (m-TiO2)', 'hole_transport_layer': 'spiro-OMeTAD', 'structure_pin_nip': 'PIN', 'test_1': {'stability_type': 'ISOS-L', 'humidity': 30.0, 'temperature': 80.0, 'time': 500, 'passivating_molecule': 'benzylamine hydroiodide (BAHI), poly[bis(4-phenyl)(2,5-trimethylphenyl)amine] (PTAA), and 4-tert-butylpyridine (tBP)', 'control_pce': 23.07, 'treated_pce': 24.5, 'control_voc': 1.121, 'treated_voc': 1.15, 'efficiency_cont': 9.65, 'efficiency_tret': 47.96}}\n",
      "{'perovskite_composition': 'MAPbI3', 'electron_transport_layer': None, 'hole_transport_layer': 'PTAA', 'structure_pin_nip': None, 'test_1': {'stability_type': 'ISOSLT', 'passivating_molecule': None, 'humidity': '60+-10', 'temperature': 65.0, 'time': 1200.0, 'control_pce': 18.2, 'treated_pce': 24.2, 'control_voc': 0, 'treated_voc': 0, 'efficiency_cont': 0, 'efficiency_tret': 96.8}}\n",
      "{'perovskite_composition': 'Cs0.05FA0.81MA0.14PbI2.55Br0.45', 'electron_transport_layer': 'C60', 'hole_transport_layer': 'poly(bis(4-phenyl)(2,4,6-trimethylphenyl)amine)', 'structure_pin_nip': 'PIN', 'test_1': {'stability_type': 'ISOS-L', 'passivating_molecule': 'lead sulfate', 'humidity': 60, 'temperature': 65, 'time': 1000, 'control_pce': 19.16, 'treated_pce': 21.1, 'control_voc': 1.07, 'treated_voc': 1.16, 'efficiency_cont': None, 'efficiency_tret': 96.8}}\n",
      "{'perovskite_composition': 'MAPbI3', 'electron_transport_layer': 'C60', 'hole_transport_layer': 'PTAA', 'structure_pin_nip': 'PIN', 'test_1': {'stability_type': None, 'passivating_molecule': 'polystyrene', 'humidity': 0, 'temperature': 0, 'time': 0, 'control_pce': 16.9, 'treated_pce': 19.6, 'control_voc': 1.07, 'treated_voc': 1.07, 'efficiency_cont': 0, 'efficiency_tret': 0}}\n",
      "{'perovskite_composition': 'Cs0.1FA0.9PbI3', 'electron_transport_layer': 'C60', 'hole_transport_layer': 'PTAA', 'structure_pin_nip': 'PIN', 'test_1': {'stability_type': 'ISOS-L', 'passivating_molecule': 'Polystyrene (PS), Teflon, and poly(vinylidene-trifluoroethylene) (PVDF-TrFE)', 'humidity': None, 'temperature': 25, 'time': None, 'control_pce': 16.9, 'treated_pce': 20.3, 'control_voc': 1.07, 'treated_voc': 1.1, 'efficiency_cont': None, 'efficiency_tret': 0.203}}\n",
      "{'perovskite_composition': None, 'electron_transport_layer': 'indium tin oxide', 'hole_transport_layer': 'spiro-OMeTAD/chlorobenzene', 'structure_pin_nip': None, 'test_1': {'stability_type': 'ISOSL', 'passivating_molecule': 'n-butylamine iodide', 'humidity': '65+-10', 'temperature': 0, 'time': 4680.0, 'control_pce': 0, 'treated_pce': 16.2, 'control_voc': 0, 'treated_voc': 1.31, 'efficiency_cont': 50.6, 'efficiency_tret': 93.8}, 'test_2': {'stability_type': 'ISOST', 'passivating_molecule': None, 'humidity': 0, 'temperature': 85.0, 'time': 558.0, 'control_pce': 0, 'treated_pce': 0, 'control_voc': 0, 'treated_voc': 0, 'efficiency_cont': 59.1, 'efficiency_tret': 95.7}, 'test_3': {'stability_type': 'ISOSL', 'passivating_molecule': None, 'humidity': 0, 'temperature': 0, 'time': 1100.0, 'control_pce': 0, 'treated_pce': 0, 'control_voc': 0, 'treated_voc': 0, 'efficiency_cont': 70.8, 'efficiency_tret': 96.2}}\n",
      "{'perovskite_composition': 'phase-pure quantum wells', 'electron_transport_layer': 'SnO2', 'hole_transport_layer': 'spiro-OMeTAD', 'structure_pin_nip': 'NIP', 'test_1': {'stability_type': 'ISOS-L', 'passivating_molecule': 'n-butylamine acetate', 'humidity': None, 'temperature': 85, 'time': 558, 'control_pce': 13.81, 'treated_pce': 16.25, 'control_voc': 1.12, 'treated_voc': 1.31, 'efficiency_cont': 0.938, 'efficiency_tret': 0.962}}\n",
      "{'perovskite_composition': '(MA)0.14(FA)0.81(Cs)0.05Pb(I)3', 'electron_transport_layer': None, 'hole_transport_layer': 'Spiro-OMeTAD', 'structure_pin_nip': None, 'test_2': {'stability_type': None, 'passivating_molecule': 'allylammonium iodide', 'humidity': 0, 'temperature': 0, 'time': 0, 'control_pce': 0, 'treated_pce': 16.5, 'control_voc': 0, 'treated_voc': 0, 'efficiency_cont': 0, 'efficiency_tret': 0}, 'test_1': {'stability_type': None, 'passivating_molecule': 'allylammonium iodide', 'humidity': 0, 'temperature': 0, 'time': 0, 'control_pce': 21.0, 'treated_pce': 12.1, 'control_voc': 0, 'treated_voc': 0, 'efficiency_cont': 0, 'efficiency_tret': 0}, 'test_1_2': {'stability_type': None, 'passivating_molecule': 'allylammonium iodide', 'humidity': 0, 'temperature': 0, 'time': 650.0, 'control_pce': 21.0, 'treated_pce': 11.5, 'control_voc': 0, 'treated_voc': 0, 'efficiency_cont': 0, 'efficiency_tret': 90.0}}\n",
      "{'perovskite_composition': 'FA0.82Cs0.13MA0.05PbI3', 'electron_transport_layer': 'PCBM', 'hole_transport_layer': 'Spiro-OMeTAD', 'structure_pin_nip': 'PIN', 'test_1': {'stability_type': 'ISOS-L', 'passivating_molecule': 'allylammonium', 'humidity': None, 'temperature': 25, 'time': None, 'control_pce': 11.5, 'treated_pce': 16.5, 'control_voc': 1.08, 'treated_voc': 1.07, 'efficiency_cont': None, 'efficiency_tret': 90.0}}\n",
      "{'perovskite_composition': 'MAPbI3', 'electron_transport_layer': None, 'hole_transport_layer': None, 'structure_pin_nip': 'NIP'}\n",
      "{'perovskite_composition': 'MAPbI3', 'electron_transport_layer': 'C60', 'hole_transport_layer': 'poly(triarylamine)', 'structure_pin_nip': 'n-i-p', 'test_1': {'stability_type': 'ISOS-L', 'passivating_molecule': 'phenethylammonium iodide', 'humidity': 50, 'temperature': 60, 'time': None, 'control_pce': 23.5, 'treated_pce': 25.1, 'control_voc': 1.13, 'treated_voc': 1.16, 'efficiency_cont': 0.85, 'efficiency_tret': 0.95}}\n",
      "{'perovskite_composition': None, 'electron_transport_layer': None, 'hole_transport_layer': None, 'structure_pin_nip': None}\n",
      "{'perovskite_composition': None, 'electron_transport_layer': 'boron-doped, p-type silicon wafer', 'hole_transport_layer': None, 'structure_pin_nip': 'NIP', 'test_1': {'stability_type': 'ISOS-D', 'passivating_molecule': None, 'humidity': 65, 'temperature': 85, 'time': None, 'control_pce': 20.5, 'treated_pce': 21.1, 'control_voc': None, 'treated_voc': None, 'efficiency_cont': 0.7, 'efficiency_tret': 0.91}}\n",
      "{'perovskite_composition': 'FA0.85MA0.1Cs0.05PbI2.9Br0.1', 'electron_transport_layer': 'TinOxide', 'hole_transport_layer': 'Spiro-OMeTAD', 'structure_pin_nip': 'NIP', 'test_1': {'stability_type': 'ISOSL1', 'passivating_molecule': '1,4-butane diammonium iodide', 'humidity': 85.0, 'temperature': 40.0, 'time': 740.0, 'control_pce': 20.9, 'treated_pce': 24.0, 'control_voc': 0, 'treated_voc': 0, 'efficiency_cont': 57.0, 'efficiency_tret': 53.0}, 'test_1_2': {'stability_type': 'ISOSL', 'passivating_molecule': 'Dimethylpyrroline Diammonium Iodide', 'humidity': 0, 'temperature': 0, 'time': 0, 'control_pce': 22.0, 'treated_pce': 24.7, 'control_voc': 0, 'treated_voc': 0, 'efficiency_cont': 0, 'efficiency_tret': 0}, 'test_2_2': {'stability_type': 'ISOSD', 'passivating_molecule': 'Dimethylpyrroline Diammonium Iodide', 'humidity': 85.0, 'temperature': 0, 'time': 740.0, 'control_pce': 0, 'treated_pce': 0, 'control_voc': 0, 'treated_voc': 0, 'efficiency_cont': 27.0, 'efficiency_tret': 73.0}, 'test_3_2': {'stability_type': 'ISOST', 'passivating_molecule': 'Dimethylpyrroline Diammonium Iodide', 'humidity': 5.0, 'temperature': 85.0, 'time': 1008.0, 'control_pce': 0, 'treated_pce': 0, 'control_voc': 0, 'treated_voc': 0, 'efficiency_cont': 29.0, 'efficiency_tret': 81.0}, 'test_2': {'stability_type': 'ISOSD', 'passivating_molecule': '1,4-butane diammonium iodide', 'humidity': 85.0, 'temperature': 0, 'time': 740.0, 'control_pce': 0, 'treated_pce': 0, 'control_voc': 0, 'treated_voc': 0, 'efficiency_cont': 27.0, 'efficiency_tret': 35.0}, 'test_3': {'stability_type': 'ISOST', 'passivating_molecule': '1,4-butane diammonium iodide', 'humidity': 5.0, 'temperature': 85.0, 'time': 1008.0, 'control_pce': 0, 'treated_pce': 0, 'control_voc': 0, 'treated_voc': 0, 'efficiency_cont': 29.0, 'efficiency_tret': 0}}\n",
      "{'perovskite_composition': 'FA0.85MA0.1Cs0.05PbI2.9Br0.1', 'electron_transport_layer': 'TiO2', 'hole_transport_layer': None, 'structure_pin_nip': 'PIN', 'test_1': {'stability_type': 'ISOS-L', 'passivating_molecule': 'N,N-dimethyl-1,3-propane diammonium diiodide', 'humidity': None, 'temperature': 85, 'time': 1000, 'control_pce': 20.9, 'treated_pce': 24.7, 'control_voc': None, 'treated_voc': None, 'efficiency_cont': 20.4, 'efficiency_tret': 23.7}}\n",
      "{'perovskite_composition': 'MAPbI3', 'electron_transport_layer': None, 'hole_transport_layer': None, 'structure_pin_nip': None, 'test_1': {'stability_type': None, 'passivating_molecule': None, 'humidity': 0, 'temperature': 0, 'time': 0, 'control_pce': 0, 'treated_pce': 0, 'control_voc': 0, 'treated_voc': 0, 'efficiency_cont': 0, 'efficiency_tret': 0, 'perovskite_molecule': 'methylammonium'}}\n",
      "{'perovskite_composition': None, 'electron_transport_layer': None, 'hole_transport_layer': None, 'structure_pin_nip': None, 'test_1': {'stability_type': 'ISOS-L', 'humidity': None, 'temperature': 320, 'time': 10, 'passivating_molecule': None, 'control_pce': None, 'treated_pce': None, 'control_voc': None, 'treated_voc': None, 'efficiency_cont': 0.5, 'efficiency_tret': 0.7}}\n",
      "{'perovskite_composition': 'FA0.83Cs0.17Pb0.5Sn0.5I3', 'electron_transport_layer': 'TitaniumDioxide', 'hole_transport_layer': 'Spiro-OMeTAD', 'structure_pin_nip': 'NIP'}\n",
      "{'perovskite_composition': 'FA0.83Cs0.17Pb0.5Sn0.5I3', 'electron_transport_layer': 'C60', 'hole_transport_layer': 'PEDOT:PSS', 'structure_pin_nip': 'PIN', 'test_1': {'stability_type': 'ISOS-D', 'passivating_molecule': 'FA0.83Cs0.17Pb0.5Sn0.5I3', 'humidity': None, 'temperature': 25, 'time': 1000, 'control_pce': 24.5, 'treated_pce': 22.8, 'control_voc': 1.15, 'treated_voc': 1.08, 'efficiency_cont': 0.8, 'efficiency_tret': 0.92}}\n",
      "{'perovskite_composition': 'Cs 0.05 (FA0.83MA0.17)0.95Pb(I0.83Br0.17)3', 'electron_transport_layer': 'C60', 'hole_transport_layer': 'poly(triarylamine)', 'structure_pin_nip': 'PIN', 'test_1': {'stability_type': 'ISOSLT', 'passivating_molecule': None, 'humidity': 0, 'temperature': 27.0, 'time': 350.0, 'control_pce': 0, 'treated_pce': 21.0, 'control_voc': 0, 'treated_voc': 1.09, 'efficiency_cont': 0, 'efficiency_tret': 95.0}}\n",
      "{'perovskite_composition': 'MA0.07FA0.93PbI3', 'electron_transport_layer': 'PTAA', 'hole_transport_layer': 'C60', 'structure_pin_nip': 'pin', 'test_1': {'stability_type': 'ISOS-L', 'passivating_molecule': None, 'humidity': 25, 'temperature': 25, 'time': 350, 'control_pce': 21.8, 'treated_pce': 22.5, 'control_voc': 1.098, 'treated_voc': 1.23, 'efficiency_cont': None, 'efficiency_tret': 95.0}}\n",
      "{'perovskite_composition': 'FA0.83Cs0.17Pb(I0.83Br0.17)3', 'electron_transport_layer': 'C60', 'hole_transport_layer': 'Spiro-OMeTAD', 'structure_pin_nip': None, 'test_1': {'stability_type': None, 'passivating_molecule': None, 'humidity': 0, 'temperature': 0, 'time': 0, 'control_pce': 0, 'treated_pce': 18.5, 'control_voc': 0, 'treated_voc': 0, 'efficiency_cont': 0, 'efficiency_tret': 0}}\n",
      "{'perovskite_composition': 'FA0.83Cs0.17Pb(I0.83Br0.17)3 with 1% PbI2 excess', 'electron_transport_layer': 'PCBM', 'hole_transport_layer': 'NiOx', 'structure_pin_nip': 'n-i-p', 'test_1': {'stability_type': 'ISOS-L', 'passivating_molecule': None, 'humidity': None, 'temperature': 25, 'time': None, 'control_pce': 23.5, 'treated_pce': 21.8, 'control_voc': 1.13, 'treated_voc': 1.12, 'efficiency_cont': None, 'efficiency_tret': 0.8}}\n",
      "{'perovskite_composition': 'MAPbI3', 'electron_transport_layer': 'C60', 'hole_transport_layer': 'PTAA', 'structure_pin_nip': 'NIP', 'test_1': {'stability_type': None, 'passivating_molecule': 'phenethylammonium iodide', 'humidity': 0, 'temperature': 0, 'time': 0, 'control_pce': 17.5, 'treated_pce': 18.6, 'control_voc': 1.16, 'treated_voc': 1.25, 'efficiency_cont': 0, 'efficiency_tret': 0}}\n",
      "{'perovskite_composition': 'FA0.8Cs0.2Pb(I0.7Br0.3)3', 'electron_transport_layer': 'indium tin oxide (ITO)', 'hole_transport_layer': '2,2,9,9-tri-4-(phenylmethyl)-9H-fluoren-9-yl-2,9-dimethyl-1,3,7-triazine (PTAA)', 'structure_pin_nip': 'PIN', 'test_1': {'stability_type': 'ISOS-L', 'passivating_molecule': 'phenethylammonium iodide (PEAI)', 'humidity': 25, 'temperature': 25, 'time': 1000, 'control_pce': 17.5, 'treated_pce': 19.07, 'control_voc': 1.16, 'treated_voc': 1.25, 'efficiency_cont': 0.8, 'efficiency_tret': 0.92}}\n",
      "{'perovskite_composition': '(FAPbI3)0.95(MAPbBr3)0.05', 'electron_transport_layer': 'TinOxide', 'hole_transport_layer': 'Spiro-OMeTAD', 'structure_pin_nip': 'NIP', 'test_1': {'stability_type': None, 'passivating_molecule': '4-vinylbenzylammonium bromide', 'humidity': 0, 'temperature': 0, 'time': 0, 'control_pce': 18.5, 'treated_pce': 21.7, 'control_voc': 0, 'treated_voc': 0, 'efficiency_cont': 0, 'efficiency_tret': 0}}\n",
      "{'perovskite_composition': 'Cs0.1FA0.9PbI3', 'electron_transport_layer': 'C60', 'hole_transport_layer': 'Spiro-OMeTAD', 'structure_pin_nip': 'PIN', 'test_1': {'stability_type': 'ISOS-L', 'humidity': None, 'temperature': 25, 'time': 1000, 'passivating_molecule': '4-vinylbenzylamine', 'control_pce': 23.5, 'treated_pce': 25.1, 'control_voc': None, 'treated_voc': None, 'efficiency_cont': 0.8, 'efficiency_tret': 0.9}}\n",
      "{'perovskite_composition': 'MAPbI 3', 'electron_transport_layer': None, 'hole_transport_layer': None, 'structure_pin_nip': 'NIP', 'test_1': {'stability_type': 'ISOST', 'passivating_molecule': None, 'humidity': 30.0, 'temperature': 85.0, 'time': 125.0, 'control_pce': 0, 'treated_pce': 0, 'control_voc': 0, 'treated_voc': 0, 'efficiency_cont': 0, 'efficiency_tret': 60.0}, 'test_2': {'stability_type': None, 'passivating_molecule': None, 'humidity': 40.0, 'temperature': 0, 'time': 600.0, 'control_pce': 0, 'treated_pce': 0, 'control_voc': 0, 'treated_voc': 0, 'efficiency_cont': 0, 'efficiency_tret': 92.0}}\n",
      "{'perovskite_composition': '3D perovskite (MAPbI3) and 2D/3D heterostructure (with BAV-induced 2D layers)', 'electron_transport_layer': 'SnO2', 'hole_transport_layer': 'spiro-OMeTAD', 'structure_pin_nip': 'NIP', 'test_1': {'stability_type': 'ISOS-L', 'passivating_molecule': 'butylamine', 'humidity': 30, 'temperature': 85, 'time': 125, 'control_pce': 21.5, 'treated_pce': 23.2, 'control_voc': 1.15, 'treated_voc': 1.18, 'efficiency_cont': None, 'efficiency_tret': 0.92}}\n",
      "{'perovskite_composition': 'MAPbI₃', 'electron_transport_layer': None, 'hole_transport_layer': 'Spiro-OMeTAD', 'structure_pin_nip': None, 'test_1': {'stability_type': None, 'passivating_molecule': None, 'humidity': 0, 'temperature': 100.0, 'time': 0, 'control_pce': 0, 'treated_pce': 11.6, 'control_voc': 0, 'treated_voc': 0, 'efficiency_cont': 0, 'efficiency_tret': 0}}\n",
      "{'perovskite_composition': 'CH3NH3PbI3', 'electron_transport_layer': 'Titanium dioxide', 'hole_transport_layer': 'Spiro-OMeTAD', 'structure_pin_nip': 'PIN', 'test_1': {'stability_type': 'ISOS-L', 'passivating_molecule': None, 'humidity': None, 'temperature': 100, 'time': 45, 'control_pce': 18.8, 'treated_pce': 20.5, 'control_voc': 1.1, 'treated_voc': 1.15, 'efficiency_cont': None, 'efficiency_tret': None}}\n",
      "{'perovskite_composition': 'Cs0.15FA0.85PbI2.55Br0.45', 'electron_transport_layer': None, 'hole_transport_layer': None, 'structure_pin_nip': None, 'test_1': {'stability_type': 'ISOSD1', 'passivating_molecule': None, 'humidity': '30+-3', 'temperature': '21+-2', 'time': 1566.0, 'control_pce': 0, 'treated_pce': 0, 'control_voc': 0, 'treated_voc': 0, 'efficiency_cont': 93.0, 'efficiency_tret': 95.0}, 'test_2': {'stability_type': 'ISOSD3', 'passivating_molecule': None, 'humidity': 85.0, 'temperature': 85.0, 'time': 48.0, 'control_pce': 0, 'treated_pce': 0, 'control_voc': 0, 'treated_voc': 0, 'efficiency_cont': 32.0, 'efficiency_tret': 95.0}, 'test_3': {'stability_type': 'ISOSO3', 'passivating_molecule': None, 'humidity': '60-100', 'temperature': 0, 'time': 4380.0, 'control_pce': 0, 'treated_pce': 0, 'control_voc': 0, 'treated_voc': 0, 'efficiency_cont': 49.0, 'efficiency_tret': 99.0}}\n",
      "{'perovskite_composition': 'Cs0.15FA0.85PbI2.55Br0.45', 'electron_transport_layer': 'SnO2', 'hole_transport_layer': 'ITO', 'structure_pin_nip': 'PIN', 'test_1': {'stability_type': 'ISOS-D1', 'passivating_molecule': None, 'humidity': None, 'temperature': 21, 'time': None, 'control_pce': 24.5, 'treated_pce': 24.5, 'control_voc': 1.15, 'treated_voc': 1.15, 'efficiency_cont': None, 'efficiency_tret': 95.5}, 'test_2': {'stability_type': 'ISOS-O3', 'passivating_molecule': None, 'humidity': None, 'temperature': None, 'time': None, 'control_pce': None, 'treated_pce': None, 'control_voc': None, 'treated_voc': None, 'efficiency_cont': None, 'efficiency_tret': 95.5}}\n",
      "{'perovskite_composition': 'FA0.83Cs0.17PbI2.7Br0.3', 'electron_transport_layer': 'TinOxide', 'hole_transport_layer': 'polybisphenyl(trimethylphenyl)amine', 'structure_pin_nip': 'PIN', 'test_1': {'stability_type': 'ISOSLT', 'passivating_molecule': None, 'humidity': 0, 'temperature': 0, 'time': 250.0, 'control_pce': 0, 'treated_pce': 0, 'control_voc': 0, 'treated_voc': 0, 'efficiency_cont': 0, 'efficiency_tret': 96.0}, 'test_2_2': {'stability_type': 'ISOSL2', 'passivating_molecule': None, 'humidity': 0, 'temperature': 85.0, 'time': 800.0, 'control_pce': 0, 'treated_pce': 21.3, 'control_voc': 0, 'treated_voc': 0, 'efficiency_cont': 0, 'efficiency_tret': 95.0}, 'test_2': {'stability_type': 'ISOSL1', 'passivating_molecule': None, 'humidity': 0, 'temperature': 0, 'time': 20.0, 'control_pce': 0, 'treated_pce': 21.1, 'control_voc': 0, 'treated_voc': 0, 'efficiency_cont': 0, 'efficiency_tret': 90.0}, 'test_3': {'stability_type': 'ISOSD1', 'passivating_molecule': None, 'humidity': 0, 'temperature': 0, 'time': 500.0, 'control_pce': 0, 'treated_pce': 7.0, 'control_voc': 0, 'treated_voc': 0, 'efficiency_cont': 0, 'efficiency_tret': 100.0}}\n",
      "{'perovskite_composition': None, 'electron_transport_layer': 'SnO2', 'hole_transport_layer': 'Spiro-OMeTAD', 'structure_pin_nip': 'n-i-p', 'test_1': {'stability_type': 'ISOS-L', 'humidity': 25, 'temperature': 25, 'time': 1000, 'passivating_molecule': 'formamidinium formate', 'control_pce': None, 'treated_pce': 12.5, 'control_voc': None, 'treated_voc': 1.18, 'efficiency_cont': None, 'efficiency_tret': 0.96}}\n",
      "{'perovskite_composition': 'MAPbI 3', 'electron_transport_layer': 'aluminium-doped zinc oxide / tin oxide bilayer', 'hole_transport_layer': 'PEDOT:PSS', 'structure_pin_nip': 'NIP', 'test_1': {'stability_type': 'ISOSLT', 'passivating_molecule': None, 'humidity': 50.0, 'temperature': 23.0, 'time': 4300.0, 'control_pce': 0, 'treated_pce': 12.8, 'control_voc': 0, 'treated_voc': 0, 'efficiency_cont': 0.0, 'efficiency_tret': 100.0}, 'test_2': {'stability_type': 'ISOSLT', 'passivating_molecule': None, 'humidity': 0, 'temperature': 60.0, 'time': 1032.0, 'control_pce': 0, 'treated_pce': 0, 'control_voc': 0, 'treated_voc': 0, 'efficiency_cont': 0.0, 'efficiency_tret': 99.0}}\n",
      "{'perovskite_composition': 'CH3NH3PbI3', 'electron_transport_layer': 'PCBM', 'hole_transport_layer': 'PEDOT:PSS', 'structure_pin_nip': 'NIP', 'test_1': {'stability_type': 'ISOS-L', 'passivating_molecule': 'AZO/SnOx', 'humidity': 50, 'temperature': 60, 'time': 1000, 'control_pce': 18.5, 'treated_pce': 20.5, 'control_voc': 1.15, 'treated_voc': 1.18, 'efficiency_cont': 0.5, 'efficiency_tret': 0.9}}\n",
      "{'perovskite_composition': 'MAPbI 3', 'electron_transport_layer': 'Tin Oxide Grown by S-ALD', 'hole_transport_layer': 'PEDOT:PSS', 'structure_pin_nip': 'PIN', 'test_1': {'stability_type': 'ISOSL', 'passivating_molecule': None, 'humidity': 60.0, 'temperature': 25.0, 'time': 1000.0, 'control_pce': 0, 'treated_pce': 0, 'control_voc': 0, 'treated_voc': 0, 'efficiency_cont': 0.0, 'efficiency_tret': 90.0}}\n",
      "{'perovskite_composition': None, 'electron_transport_layer': 'PCBM', 'hole_transport_layer': 'PEDOT:PSS', 'structure_pin_nip': 'PIN', 'test_1': {'stability_type': 'ISOS-L', 'humidity': 60, 'temperature': 60, 'time': None, 'passivating_molecule': None, 'control_pce': 20.5, 'treated_pce': 21.3, 'control_voc': 1.15, 'treated_voc': 1.17, 'efficiency_cont': 0.8, 'efficiency_tret': 0.92}}\n",
      "{'perovskite_composition': 'FA0.83MA0.17Pb-(I0.83Br0.17)3', 'electron_transport_layer': 'TinOxide', 'hole_transport_layer': 'Spiro-OMeTAD', 'structure_pin_nip': 'NIP', 'test_1': {'stability_type': 'ISOST', 'passivating_molecule': None, 'humidity': 0, 'temperature': 75.0, 'time': 15.0, 'control_pce': 0, 'treated_pce': 19.4, 'control_voc': 0, 'treated_voc': 0, 'efficiency_cont': 0, 'efficiency_tret': 0}, 'test_2': {'stability_type': 'ISOST', 'passivating_molecule': None, 'humidity': 0, 'temperature': 20.0, 'time': 15.0, 'control_pce': 0, 'treated_pce': 17.7, 'control_voc': 0, 'treated_voc': 0, 'efficiency_cont': 0, 'efficiency_tret': 0}}\n",
      "{'perovskite_composition': 'FA0.83MA0.17Pb(I0.83Br0.17)3 with a small addition of CsI', 'electron_transport_layer': 'Spiro-OMeTAD', 'hole_transport_layer': 'Spiro-OMeTAD', 'structure_pin_nip': 'PIN', 'test_1': {'stability_type': 'ISOS-L', 'passivating_molecule': None, 'humidity': None, 'temperature': 75, 'time': None, 'control_pce': 23.3, 'treated_pce': 23.2, 'control_voc': 1105.0, 'treated_voc': 1142.0, 'efficiency_cont': 19.7, 'efficiency_tret': 5.3}}\n",
      "{'perovskite_composition': 'Cs0.05FA0.8MA0.15PbI2.88Br0.04Cl0.08', 'electron_transport_layer': None, 'hole_transport_layer': None, 'structure_pin_nip': 'NIP', 'test_1': {'stability_type': 'ISOST', 'passivating_molecule': 'allylammonium iodide', 'humidity': 0, 'temperature': 0, 'time': 80.0, 'control_pce': 0, 'treated_pce': 20.0, 'control_voc': 0, 'treated_voc': 0, 'efficiency_cont': 0, 'efficiency_tret': 50.0}}\n",
      "{'perovskite_composition': 'Cs0.05 FA0.8 MA0.15 PbI2.88 Br0.04 Cl0.08', 'electron_transport_layer': 'TiO2', 'hole_transport_layer': 'spiro-OMeTAD', 'structure_pin_nip': 'n-i-p', 'test_1': {'stability_type': 'ISOS-L', 'passivating_molecule': 'allylammonium (ALA)', 'humidity': None, 'temperature': 25, 'time': 80, 'control_pce': 19.9, 'treated_pce': 16.8, 'control_voc': 1.02, 'treated_voc': 1.05, 'efficiency_cont': 0.95, 'efficiency_tret': 0.4}}\n",
      "{'perovskite_composition': 'FA0.98Cs0.02PbI3', 'electron_transport_layer': None, 'hole_transport_layer': None, 'structure_pin_nip': 'PIN', 'test_1': {'stability_type': 'ISOSD', 'passivating_molecule': '3,5-bis(trifluoromethyl) phenethylammonium iodide', 'humidity': 85.0, 'temperature': 85.0, 'time': 1000.0, 'control_pce': 21.4, 'treated_pce': 25.1, 'control_voc': 1.02, 'treated_voc': 1.09, 'efficiency_cont': 67.2, 'efficiency_tret': 98.2}, 'test_1_2': {'stability_type': 'ISOSLT', 'passivating_molecule': 'phenethylammonium iodide', 'humidity': '50+-5', 'temperature': '50+-5', 'time': 1800.0, 'control_pce': 21.4, 'treated_pce': 23.6, 'control_voc': 0, 'treated_voc': 0, 'efficiency_cont': 67.2, 'efficiency_tret': 82.1}, 'test_2': {'stability_type': 'ISOSD', 'passivating_molecule': None, 'humidity': 85.0, 'temperature': 85.0, 'time': 1000.0, 'control_pce': 0, 'treated_pce': 24.8, 'control_voc': 0, 'treated_voc': 0, 'efficiency_cont': 71.3, 'efficiency_tret': 98.2}, 'test_2_2': {'stability_type': 'ISOSD', 'passivating_molecule': 'phenethylammonium iodide', 'humidity': 85.0, 'temperature': 85.0, 'time': 1000.0, 'control_pce': 0, 'treated_pce': 0, 'control_voc': 0, 'treated_voc': 0, 'efficiency_cont': 0, 'efficiency_tret': 91.1}}\n",
      "{'perovskite_composition': 'FA0.98Cs0.02PbI3', 'electron_transport_layer': 'PCBM', 'hole_transport_layer': 'p-PY', 'structure_pin_nip': 'NIP', 'test_1': {'stability_type': 'ISOS-L', 'passivating_molecule': '2CF3-phenethylammonium iodide', 'humidity': None, 'temperature': 85, 'time': None, 'control_pce': 24.5, 'treated_pce': 25.1, 'control_voc': 1.176, 'treated_voc': 1.176, 'efficiency_cont': None, 'efficiency_tret': 97.4}}\n",
      "{'perovskite_composition': '(FAPbI3)0.95(MAPbBr3)0.05', 'electron_transport_layer': 'tin dioxide', 'hole_transport_layer': 'Spiro-OMeTAD', 'structure_pin_nip': 'NIP', 'test_1': {'stability_type': 'ISOSLT', 'passivating_molecule': 'copolymer of ethylene dimethacrylate (EDMA) and polyhedral oligomeric silsesquioxanes (POSS)', 'humidity': 0, 'temperature': 60.0, 'time': 0, 'control_pce': 18.8, 'treated_pce': 19.9, 'control_voc': 0, 'treated_voc': 0, 'efficiency_cont': 0, 'efficiency_tret': 90.0}, 'test_1_2': {'stability_type': 'ISOSLT', 'passivating_molecule': '4-fluorophenylethylammonium iodide', 'humidity': 0, 'temperature': 60.0, 'time': 5000.0, 'control_pce': 18.8, 'treated_pce': 20.2, 'control_voc': 0, 'treated_voc': 1.13, 'efficiency_cont': 0, 'efficiency_tret': 90.0}}\n",
      "{'perovskite_composition': '3D/CLP/2D perovskite heterostructure', 'electron_transport_layer': 'carbon', 'hole_transport_layer': 'spiro-OMeTAD', 'structure_pin_nip': 'n-i-p', 'test_1': {'stability_type': 'ISOS-L', 'passivating_molecule': 'cross-linked polymer (CLP)', 'humidity': None, 'temperature': 60, 'time': 4390, 'control_pce': 18.2, 'treated_pce': 21.2, 'control_voc': 6.73, 'treated_voc': 1.13, 'efficiency_cont': 0.9, 'efficiency_tret': 0.9}}\n",
      "{'perovskite_composition': 'MAPbBr 3', 'electron_transport_layer': None, 'hole_transport_layer': None, 'structure_pin_nip': None}\n",
      "{'perovskite_composition': '2D lead halide perovskites with different layer numbers (n = 10 to 1) and different halide compositions (Br and I)', 'electron_transport_layer': 'C60', 'hole_transport_layer': 'spiro-OMeTAD', 'structure_pin_nip': 'PIN', 'test_1': {'stability_type': None, 'humidity': None, 'temperature': None, 'time': None, 'passivating_molecule': None, 'control_pce': None, 'treated_pce': None, 'control_voc': None, 'treated_voc': None, 'efficiency_cont': None, 'efficiency_tret': None}}\n",
      "{'perovskite_composition': 'FAPbI 3', 'electron_transport_layer': None, 'hole_transport_layer': None, 'structure_pin_nip': 'NIP', 'test_1': {'stability_type': None, 'passivating_molecule': None, 'humidity': 0, 'temperature': 0, 'time': 0, 'control_pce': 0, 'treated_pce': 19.2, 'control_voc': 0, 'treated_voc': 0, 'efficiency_cont': 0, 'efficiency_tret': 0}}\n",
      "{'perovskite_composition': '(FAPbI3)0.95(MAPbBr3)0.05', 'electron_transport_layer': 'Spiro-OMeTAD', 'hole_transport_layer': 'PTAA', 'structure_pin_nip': 'PIN', 'test_1': {'stability_type': 'ISOS-L', 'humidity': None, 'temperature': 25, 'time': 1, 'passivating_molecule': None, 'control_pce': 24.7, 'treated_pce': 20.2, 'control_voc': 1.06, 'treated_voc': 1.12, 'efficiency_cont': None, 'efficiency_tret': 85.0}}\n",
      "{'perovskite_composition': '(FAPbI3)0.97(MAPbBr3)0.03', 'electron_transport_layer': 'TitaniumDioxide', 'hole_transport_layer': 'Spiro-OMeTAD', 'structure_pin_nip': 'NIP', 'test_1': {'stability_type': 'ISOSL', 'passivating_molecule': 'Lead Iodide', 'humidity': 37.0, 'temperature': 28.0, 'time': 0, 'control_pce': 18.5, 'treated_pce': 19.9, 'control_voc': 0, 'treated_voc': 1.09, 'efficiency_cont': 0, 'efficiency_tret': 0}}\n",
      "{'perovskite_composition': '(FAPbI3)0.97(MAPbBr3)0.03', 'electron_transport_layer': 'SnO2 nanoparticles', 'hole_transport_layer': 'Spiro-OMeTAD', 'structure_pin_nip': 'n-i-p', 'test_1': {'stability_type': 'ISOS-L', 'passivating_molecule': None, 'humidity': 37, 'temperature': 28, 'time': None, 'control_pce': 20.27, 'treated_pce': 20.54, 'control_voc': 1.1, 'treated_voc': 1.1, 'efficiency_cont': None, 'efficiency_tret': 0.92}}\n",
      "{'perovskite_composition': '[(FAI)0.81(PbI2)0.85(MAPbBr3)0.15]', 'electron_transport_layer': 'poly(methyl methacrylate)', 'hole_transport_layer': 'Spiro-OMeTAD', 'structure_pin_nip': 'NIP', 'test_1': {'stability_type': 'ISOSD', 'passivating_molecule': None, 'humidity': 0, 'temperature': 0, 'time': 0, 'control_pce': 0, 'treated_pce': 21.6, 'control_voc': 0, 'treated_voc': 1.14, 'efficiency_cont': 0, 'efficiency_tret': 96.7}}\n",
      "{'perovskite_composition': '(FAI)0.81(PbI2)0.85(MAPbBr3)0.15', 'electron_transport_layer': 'mesoporous titanium dioxide (mp-TiO2)', 'hole_transport_layer': 'spiro-OMeTAD', 'structure_pin_nip': 'PIN', 'test_1': {'stability_type': None, 'passivating_molecule': 'poly(methyl methacrylate)', 'humidity': None, 'temperature': None, 'time': 60, 'control_pce': None, 'treated_pce': 21.0, 'control_voc': None, 'treated_voc': 1.14, 'efficiency_cont': None, 'efficiency_tret': 3.3}}\n",
      "{'perovskite_composition': 'Cs0.05FA0.81MA0.14PbI2.55Br0.45', 'electron_transport_layer': 'TitaniumDioxide', 'hole_transport_layer': 'Spiro-OMeTAD', 'structure_pin_nip': None, 'test_1': {'stability_type': 'ISOSL', 'passivating_molecule': None, 'humidity': 0, 'temperature': 0, 'time': 500.0, 'control_pce': 15.8, 'treated_pce': 20.9, 'control_voc': 1.06, 'treated_voc': 1.14, 'efficiency_cont': 0, 'efficiency_tret': 90.0}, 'test_2': {'stability_type': 'ISOSD', 'passivating_molecule': None, 'humidity': 0, 'temperature': 0, 'time': 1440.0, 'control_pce': 0, 'treated_pce': 0, 'control_voc': 0, 'treated_voc': 0, 'efficiency_cont': 38.0, 'efficiency_tret': 95.0}}\n",
      "{'perovskite_composition': 'Cs0.05 FA0.85 MA0.15 PbI2.55 Br0.45', 'electron_transport_layer': 'TiO2', 'hole_transport_layer': 'Spiro-OMeTAD', 'structure_pin_nip': 'NIP', 'test_1': {'stability_type': 'ISOS-L', 'passivating_molecule': 'Chlorine-capped TiO2', 'humidity': None, 'temperature': 25, 'time': None, 'control_pce': 19.5, 'treated_pce': 20.1, 'control_voc': 1.195, 'treated_voc': 1.196, 'efficiency_cont': None, 'efficiency_tret': 97.0}}\n",
      "{'perovskite_composition': 'MAPbI3', 'electron_transport_layer': None, 'hole_transport_layer': 'PTAA', 'structure_pin_nip': 'PIN', 'test_1': {'stability_type': 'ISOSD', 'passivating_molecule': 'phenyl-C61-butyric acid methyl ester', 'humidity': '55-85', 'temperature': 0, 'time': 800.0, 'control_pce': 17.1, 'treated_pce': 21.0, 'control_voc': 1.04, 'treated_voc': 1.13, 'efficiency_cont': 0, 'efficiency_tret': 1.0}, 'test_1_2': {'stability_type': 'ISOSD', 'passivating_molecule': 'L-α-phosphatidylcholine', 'humidity': '55-85', 'temperature': 0, 'time': 800.0, 'control_pce': 17.1, 'treated_pce': 19.6, 'control_voc': 1.04, 'treated_voc': 1.08, 'efficiency_cont': 70.0, 'efficiency_tret': 0}, 'test_2': {'stability_type': 'ISOSL', 'passivating_molecule': 'choline chloride', 'humidity': 0, 'temperature': 0, 'time': 26.0, 'control_pce': 17.1, 'treated_pce': 21.1, 'control_voc': 1.04, 'treated_voc': 0, 'efficiency_cont': 0, 'efficiency_tret': 86.0}}\n",
      "{'perovskite_composition': 'FA0.83MA0.17Pb(I0.6Br0.4)3', 'electron_transport_layer': 'Fullerene (C60)', 'hole_transport_layer': 'Poly[bis(4-phenyl)(2,4,6-trimethylphenyl)amine] (PTAA)', 'structure_pin_nip': 'PIN', 'test_1': {'stability_type': 'ISOS-L', 'passivating_molecule': 'Choline chloride', 'humidity': 50, 'temperature': 25, 'time': 800, 'control_pce': 17.1, 'treated_pce': 20.59, 'control_voc': 1.04, 'treated_voc': 1.14, 'efficiency_cont': 0.85, 'efficiency_tret': 0.91}}\n",
      "{'perovskite_composition': None, 'electron_transport_layer': 'TitaniumDioxide', 'hole_transport_layer': 'Spiro-OMeTAD', 'structure_pin_nip': 'PIN', 'test_1': {'stability_type': 'ISOSD', 'passivating_molecule': None, 'humidity': '40+-10', 'temperature': 25.0, 'time': 792.0, 'control_pce': 17.3, 'treated_pce': 20.2, 'control_voc': 0, 'treated_voc': 0, 'efficiency_cont': 94.0, 'efficiency_tret': 96.0}}\n",
      "{'perovskite_composition': 'FA0.15MA0.85PbI3', 'electron_transport_layer': 'TiO2', 'hole_transport_layer': 'Spiro-OMeTAD', 'structure_pin_nip': 'planar p-n homojunction', 'test_1': {'stability_type': 'ISOS-L', 'passivating_molecule': None, 'humidity': 40, 'temperature': 25, 'time': 792, 'control_pce': 19.86, 'treated_pce': 20.54, 'control_voc': 1.12, 'treated_voc': 1.138, 'efficiency_cont': 0.96, 'efficiency_tret': 0.97}}\n",
      "{'perovskite_composition': '(FAPbI3)0.95(MAPbBr3)0.05', 'electron_transport_layer': None, 'hole_transport_layer': 'Spiro-OMeTAD', 'structure_pin_nip': 'NIP', 'test_1': {'stability_type': 'ISOST', 'passivating_molecule': None, 'humidity': 0, 'temperature': 60.0, 'time': 0, 'control_pce': 0, 'treated_pce': 23.2, 'control_voc': 0, 'treated_voc': 0, 'efficiency_cont': 95.0, 'efficiency_tret': 0}, 'test_2': {'stability_type': 'ISOSL', 'passivating_molecule': None, 'humidity': 0, 'temperature': 0, 'time': 310.0, 'control_pce': 0, 'treated_pce': 0, 'control_voc': 0, 'treated_voc': 0, 'efficiency_cont': 0, 'efficiency_tret': 92.6}}\n",
      "{'perovskite_composition': None, 'electron_transport_layer': None, 'hole_transport_layer': 'dimethylfluorene', 'structure_pin_nip': None, 'test_1': {'stability_type': 'ISOS-L', 'humidity': None, 'temperature': 60, 'time': 500, 'passivating_molecule': None, 'control_pce': 20.9, 'treated_pce': 22.6, 'control_voc': 1.136, 'treated_voc': 1.11, 'efficiency_cont': 0.95, 'efficiency_tret': 0.95}}\n",
      "{'perovskite_composition': '(FAPbI3)0.95(MAPbBr3)0.05', 'electron_transport_layer': None, 'hole_transport_layer': 'Poly(3-hexylthiophene)', 'structure_pin_nip': 'NIP', 'test_2': {'stability_type': 'ISOSD', 'passivating_molecule': 'n-hexyl trimethyl ammonium bromide', 'humidity': 85.0, 'temperature': 0, 'time': 1008.0, 'control_pce': 0, 'treated_pce': 22.7, 'control_voc': 0, 'treated_voc': 0, 'efficiency_cont': 0.0, 'efficiency_tret': 80.0}, 'test_1': {'stability_type': 'ISOSL', 'passivating_molecule': 'n-hexyl trimethyl ammonium bromide', 'humidity': 85.0, 'temperature': 0, 'time': 1370.0, 'control_pce': 0, 'treated_pce': 22.7, 'control_voc': 0, 'treated_voc': 0, 'efficiency_cont': 0.0, 'efficiency_tret': 95.0}}\n",
      "{'perovskite_composition': 'Cs0.1FA0.9PbI2.55Br0.45', 'electron_transport_layer': 'TiO2', 'hole_transport_layer': 'poly(3-hexylthiophene)', 'structure_pin_nip': 'NIP', 'test_1': {'stability_type': 'ISOS-L', 'passivating_molecule': 'n-hexyl trimethyl ammonium bromide', 'humidity': 25, 'temperature': 85, 'time': None, 'control_pce': 21.5, 'treated_pce': 23.3, 'control_voc': 1.15, 'treated_voc': 1.18, 'efficiency_cont': 0.8, 'efficiency_tret': 0.95}}\n",
      "{'perovskite_composition': None, 'electron_transport_layer': 'TinOxide', 'hole_transport_layer': 'Spiro-OMeTAD', 'structure_pin_nip': None, 'test_1': {'stability_type': 'ISOSD', 'passivating_molecule': None, 'humidity': 0, 'temperature': 0, 'time': 2880.0, 'control_pce': 18.9, 'treated_pce': 21.6, 'control_voc': 1.1, 'treated_voc': 1.11, 'efficiency_cont': 74.0, 'efficiency_tret': 92.0}, 'test_2': {'stability_type': 'ISOSL', 'passivating_molecule': None, 'humidity': 0, 'temperature': 120.0, 'time': 0, 'control_pce': 0, 'treated_pce': 0, 'control_voc': 0, 'treated_voc': 0, 'efficiency_cont': 38.0, 'efficiency_tret': 86.0}}\n",
      "{'perovskite_composition': 'FA0.95Cs0.05PbI3', 'electron_transport_layer': 'EDTA-complexed SnO2', 'hole_transport_layer': 'Spiro-OMeTAD', 'structure_pin_nip': 'n-i-p', 'test_1': {'stability_type': 'ISOS-L', 'passivating_molecule': 'EDTA', 'humidity': 35, 'temperature': 25, 'time': None, 'control_pce': 21.52, 'treated_pce': 24.57, 'control_voc': 1.11, 'treated_voc': 1.11, 'efficiency_cont': 0.8, 'efficiency_tret': 0.92}}\n",
      "{'perovskite_composition': 'MAPbI3', 'electron_transport_layer': None, 'hole_transport_layer': None, 'structure_pin_nip': 'NIP', 'test_1': {'stability_type': 'ISOSL', 'passivating_molecule': None, 'humidity': 0, 'temperature': 0, 'time': 1000.0, 'control_pce': 0, 'treated_pce': 21.5, 'control_voc': 0, 'treated_voc': 0, 'efficiency_cont': 0, 'efficiency_tret': 92.0}, 'test_2': {'stability_type': 'ISOST', 'passivating_molecule': None, 'humidity': 0, 'temperature': 85.0, 'time': 0, 'control_pce': 0, 'treated_pce': 0, 'control_voc': 0, 'treated_voc': 0, 'efficiency_cont': 0, 'efficiency_tret': 91.0}}\n",
      "{'perovskite_composition': 'Cs0.05(FA0.95MA0.05)0.05(PbI2.55Br0.45)0.55(I0.5Cl0.5)0.5', 'electron_transport_layer': 'SnO2', 'hole_transport_layer': 'polymer-modified spiro-MeOTAD', 'structure_pin_nip': None, 'test_1': {'stability_type': 'ISOS-L', 'passivating_molecule': None, 'humidity': None, 'temperature': 85, 'time': 1000, 'control_pce': 17.82, 'treated_pce': 19.17, 'control_voc': 1.13, 'treated_voc': 1.15, 'efficiency_cont': 2.5, 'efficiency_tret': 7.4}}\n",
      "{'perovskite_composition': 'F- Cs 0.05 FA 0.81 MA 0.14 PbI 2.55 Br 0.45', 'electron_transport_layer': None, 'hole_transport_layer': None, 'structure_pin_nip': 'NIP', 'test_1': {'stability_type': 'ISOSL', 'passivating_molecule': None, 'humidity': 0, 'temperature': '25-40', 'time': 1000.0, 'control_pce': 48.8, 'treated_pce': 20.5, 'control_voc': 0, 'treated_voc': 0, 'efficiency_cont': 0, 'efficiency_tret': 90.0}, 'test_2': {'stability_type': 'ISOST', 'passivating_molecule': None, 'humidity': 0, 'temperature': 85.0, 'time': 1000.0, 'control_pce': 0, 'treated_pce': 0, 'control_voc': 0, 'treated_voc': 0, 'efficiency_cont': 50.0, 'efficiency_tret': 90.0}, 'test_3': {'stability_type': 'ISOSD', 'passivating_molecule': None, 'humidity': '25-45', 'temperature': 0, 'time': 6000.0, 'control_pce': 0, 'treated_pce': 0, 'control_voc': 0, 'treated_voc': 0, 'efficiency_cont': 0, 'efficiency_tret': 90.0}}\n",
      "{'perovskite_composition': 'Cs0.05FA0.54MA0.41Pb(I0.98Br0.02)3', 'electron_transport_layer': 'SnO2', 'hole_transport_layer': 'Spiro-OMeTAD', 'structure_pin_nip': 'PIN', 'test_1': {'stability_type': 'ISOS-L', 'passivating_molecule': 'NaF', 'humidity': 25, 'temperature': 85, 'time': 1000, 'control_pce': 19.03, 'treated_pce': 21.46, 'control_voc': 1.15, 'treated_voc': 1.15, 'efficiency_cont': 0.9, 'efficiency_tret': 0.9}}\n",
      "{'perovskite_composition': 'BA2MA3PbI13', 'electron_transport_layer': None, 'hole_transport_layer': None, 'structure_pin_nip': 'NIP', 'test_1': {'stability_type': None, 'passivating_molecule': None, 'humidity': 0, 'temperature': 0, 'time': 0, 'control_pce': 0, 'treated_pce': 20.8, 'control_voc': 0, 'treated_voc': 1.14, 'efficiency_cont': 0, 'efficiency_tret': 0}}\n",
      "{'perovskite_composition': None, 'electron_transport_layer': None, 'hole_transport_layer': None, 'structure_pin_nip': None, 'test_1': {'stability_type': 'ISOS-L', 'passivating_molecule': 'formamidine acetate', 'humidity': None, 'temperature': 25, 'time': 1000, 'control_pce': 20.8, 'treated_pce': 23.3, 'control_voc': 1.15, 'treated_voc': 1.18, 'efficiency_cont': 0.5, 'efficiency_tret': 0.9}}\n",
      "{'perovskite_composition': '(FAPbI 3 ) 0.85 (MAPbBr 3 ) 0.15', 'electron_transport_layer': None, 'hole_transport_layer': 'Spiro-OMeTAD', 'structure_pin_nip': 'NIP', 'test_1': {'stability_type': None, 'passivating_molecule': None, 'humidity': 0, 'temperature': 0, 'time': 0, 'control_pce': 18.7, 'treated_pce': 19.8, 'control_voc': 0, 'treated_voc': 1.17, 'efficiency_cont': 0, 'efficiency_tret': 0}}\n",
      "{'perovskite_composition': 'FAPbI3', 'electron_transport_layer': 'SnO2', 'hole_transport_layer': 'Spiro-OMeTAD', 'structure_pin_nip': 'NIP', 'test_1': {'stability_type': 'ISOS-L', 'passivating_molecule': None, 'humidity': None, 'temperature': 85, 'time': None, 'control_pce': 19.8, 'treated_pce': 20.7, 'control_voc': 1.17, 'treated_voc': 1.19, 'efficiency_cont': None, 'efficiency_tret': 0.8}}\n",
      "{'perovskite_composition': None, 'electron_transport_layer': None, 'hole_transport_layer': None, 'structure_pin_nip': None, 'test_1': {'stability_type': 'ISOSL', 'passivating_molecule': None, 'humidity': 25.0, 'temperature': 25.0, 'time': 1200.0, 'control_pce': 0, 'treated_pce': 24.0, 'control_voc': 0, 'treated_voc': 1.13, 'efficiency_cont': 0, 'efficiency_tret': 90.0, 'perovskite_molecule': 'FAPbI3'}, 'test_2': {'stability_type': 'ISOST', 'passivating_molecule': None, 'humidity': 0, 'temperature': 40.0, 'time': 300.0, 'control_pce': 0, 'treated_pce': 0, 'control_voc': 0, 'treated_voc': 0, 'efficiency_cont': 60.0, 'efficiency_tret': 90.0}}\n",
      "{'perovskite_composition': 'FAPbI3', 'electron_transport_layer': None, 'hole_transport_layer': 'Spiro-OMeTAD', 'structure_pin_nip': 'NIP', 'test_1': {'stability_type': 'ISOS-L', 'passivating_molecule': 'methylammonium chloride', 'humidity': 25, 'temperature': 25, 'time': 1000, 'control_pce': 23.48, 'treated_pce': 24.02, 'control_voc': 1.13, 'treated_voc': 1.13, 'efficiency_cont': 0.5, 'efficiency_tret': 0.9}}\n",
      "{'perovskite_composition': None, 'electron_transport_layer': '24', 'hole_transport_layer': None, 'structure_pin_nip': 'NIP', 'test_1': {'stability_type': 'ISOSL', 'passivating_molecule': None, 'humidity': 40.0, 'temperature': 0, 'time': 0, 'control_pce': 20.0, 'treated_pce': 21.3, 'control_voc': 0, 'treated_voc': 0, 'efficiency_cont': 50.0, 'efficiency_tret': 90.0}, 'test_2': {'stability_type': 'ISOSD', 'passivating_molecule': None, 'humidity': 25.0, 'temperature': 25.0, 'time': 500.0, 'control_pce': 1.5, 'treated_pce': 0, 'control_voc': 0, 'treated_voc': 0, 'efficiency_cont': 0, 'efficiency_tret': 100.0}, 'test_3': {'stability_type': 'ISOSLT', 'passivating_molecule': None, 'humidity': 0, 'temperature': 25.0, 'time': 450.0, 'control_pce': 0, 'treated_pce': 0, 'control_voc': 0, 'treated_voc': 0, 'efficiency_cont': 0, 'efficiency_tret': 67.0}}\n",
      "{'perovskite_composition': 'FA-based mixed perovskites', 'electron_transport_layer': 'BSO nanoparticles', 'hole_transport_layer': 'Spiro-OMeTAD', 'structure_pin_nip': None, 'test_1': {'stability_type': 'ISOS-L', 'humidity': 10.0, 'temperature': 25.0, 'time': None, 'passivating_molecule': None, 'control_pce': 20.9, 'treated_pce': 21.8, 'control_voc': 1.13, 'treated_voc': 1.13, 'efficiency_cont': 0.21, 'efficiency_tret': 0.85}, 'test_2': {'stability_type': 'ISOS-L', 'humidity': 40, 'temperature': 25, 'time': None, 'passivating_molecule': None, 'control_pce': 20.2, 'treated_pce': 21.6, 'control_voc': 1.12, 'treated_voc': 1.12, 'efficiency_cont': 0.2, 'efficiency_tret': 0.8}}\n",
      "{'perovskite_composition': 'FA0.5MA0.5PbI3', 'electron_transport_layer': 'TinOxide', 'hole_transport_layer': 'Spiro-OMeTAD', 'structure_pin_nip': 'NIP', 'test_1': {'stability_type': None, 'passivating_molecule': None, 'humidity': 0, 'temperature': 0, 'time': 0, 'control_pce': 0, 'treated_pce': 21.2, 'control_voc': 0, 'treated_voc': 0, 'efficiency_cont': 0, 'efficiency_tret': 0}}\n",
      "{'perovskite_composition': 'FA1-xMAxPbI3Br0.13', 'electron_transport_layer': 'Tin Oxide', 'hole_transport_layer': 'Spiro-OMeTAD', 'structure_pin_nip': 'NIP', 'test_1': {'stability_type': 'ISOS-L', 'passivating_molecule': None, 'humidity': 65, 'temperature': 25, 'time': None, 'control_pce': 23.5, 'treated_pce': 25.2, 'control_voc': 1.13, 'treated_voc': 1.15, 'efficiency_cont': None, 'efficiency_tret': 0.85}, 'test_2': {'stability_type': 'ISOS-T', 'passivating_molecule': None, 'humidity': 85, 'temperature': 40, 'time': None, 'control_pce': None, 'treated_pce': None, 'control_voc': None, 'treated_voc': None, 'efficiency_cont': None, 'efficiency_tret': 0.8}}\n",
      "{'perovskite_composition': None, 'electron_transport_layer': None, 'hole_transport_layer': 'polymeric poly(4-vinylpyridine)', 'structure_pin_nip': 'PIN', 'test_1': {'stability_type': 'ISOSL', 'passivating_molecule': None, 'humidity': '25-50', 'temperature': '25-40', 'time': 6000.0, 'control_pce': 19.1, 'treated_pce': 20.6, 'control_voc': 0, 'treated_voc': 0, 'efficiency_cont': 0, 'efficiency_tret': 80.0}, 'test_2': {'stability_type': 'ISOSLT', 'passivating_molecule': None, 'humidity': 0, 'temperature': 0, 'time': 700.0, 'control_pce': 0, 'treated_pce': 0, 'control_voc': 0, 'treated_voc': 0, 'efficiency_cont': 80.0, 'efficiency_tret': 90.0}, 'test_3': {'stability_type': 'ISOST', 'passivating_molecule': None, 'humidity': 0, 'temperature': 85.0, 'time': 300.0, 'control_pce': 0, 'treated_pce': 0, 'control_voc': 0, 'treated_voc': 0, 'efficiency_cont': 0, 'efficiency_tret': 80.0}}\n",
      "{'perovskite_composition': 'Cs0.15FA0.85MA0.1PbI2.55Br0.45', 'electron_transport_layer': 'SnO2', 'hole_transport_layer': 'Spiro-OMeTAD modified with P4VP', 'structure_pin_nip': None, 'test_1': {'stability_type': 'ISOS-L', 'passivating_molecule': 'poly(4-vinylpyridine)', 'humidity': 25, 'temperature': 25, 'time': 6000, 'control_pce': 19.02, 'treated_pce': 20.6, 'control_voc': None, 'treated_voc': 1.129, 'efficiency_cont': 0.8, 'efficiency_tret': 0.8}}\n",
      "{'perovskite_composition': '(FAPbI3)0.95(MAPbBr3)0.05', 'electron_transport_layer': 'TitaniumDioxide', 'hole_transport_layer': 'Spiro-OMeTAD', 'structure_pin_nip': None, 'test_1': {'stability_type': 'ISOSD', 'passivating_molecule': 'oleylammonium iodide', 'humidity': 85.0, 'temperature': 65.0, 'time': 100.0, 'control_pce': 5.9, 'treated_pce': 23.3, 'control_voc': 0, 'treated_voc': 0, 'efficiency_cont': 20.0, 'efficiency_tret': 20.0}, 'test_3': {'stability_type': None, 'passivating_molecule': 'octylammonium iodide', 'humidity': 0, 'temperature': 0, 'time': 0, 'control_pce': 5.9, 'treated_pce': 22.9, 'control_voc': 0, 'treated_voc': 1.13, 'efficiency_cont': 0, 'efficiency_tret': 0}, 'test_2': {'stability_type': 'ISOSD', 'passivating_molecule': None, 'humidity': 85.0, 'temperature': 0, 'time': 100.0, 'control_pce': 5.9, 'treated_pce': 15.1, 'control_voc': 0, 'treated_voc': 0, 'efficiency_cont': 0, 'efficiency_tret': 90.0}, 'test_1_2': {'stability_type': 'ISOSD', 'passivating_molecule': None, 'humidity': 65.0, 'temperature': 65.0, 'time': 100.0, 'control_pce': 5.9, 'treated_pce': 15.1, 'control_voc': 0, 'treated_voc': 0, 'efficiency_cont': 20.0, 'efficiency_tret': 80.0}}\n",
      "{'perovskite_composition': '(FAPbI3)0.95(MAPbBr3)0.05', 'electron_transport_layer': 'TiO2', 'hole_transport_layer': 'Spiro-OMeTAD:Li', 'structure_pin_nip': 'NIP', 'test_1': {'stability_type': 'ISOS-L', 'humidity': None, 'temperature': 25, 'time': 1000, 'passivating_molecule': 'octylammonium iodide', 'control_pce': 21.4, 'treated_pce': 22.9, 'control_voc': 1.13, 'treated_voc': 1.14, 'efficiency_cont': None, 'efficiency_tret': 0.229}}\n",
      "{'perovskite_composition': '(FAPbI3)0.85(MAPbBr3)0.15', 'electron_transport_layer': None, 'hole_transport_layer': 'Spiro-OMeTAD', 'structure_pin_nip': 'NIP', 'test_1': {'stability_type': None, 'passivating_molecule': None, 'humidity': 0, 'temperature': 0, 'time': 0, 'control_pce': 0, 'treated_pce': 22.1, 'control_voc': 0, 'treated_voc': 0, 'efficiency_cont': 0, 'efficiency_tret': 0}}\n",
      "{'perovskite_composition': 'Cs0.05(FA0.95MA0.05)0.95Pb(I0.95Br0.05)0.05I3', 'electron_transport_layer': 'bi-layered electron transport layer (BETL) consisting of compact TiO2 and passivated SnO2', 'hole_transport_layer': 'spiro-OMeTAD', 'structure_pin_nip': None, 'test_1': {'stability_type': 'ISOS-L', 'passivating_molecule': None, 'humidity': None, 'temperature': 100, 'time': 1000, 'control_pce': None, 'treated_pce': 22.19, 'control_voc': None, 'treated_voc': 1.13, 'efficiency_cont': 20.0, 'efficiency_tret': 85.0}}\n",
      "{'perovskite_composition': 'Cs 0.05 (FA0.92MA0.08)0.95Pb(I0.92Br0.08)3', 'electron_transport_layer': 'C60', 'hole_transport_layer': 'PTAA', 'structure_pin_nip': 'PIN', 'test_1': {'stability_type': 'ISOSLT', 'passivating_molecule': 'oleylamine iodide', 'humidity': 0, 'temperature': 0, 'time': 1000.0, 'control_pce': 19.2, 'treated_pce': 21.2, 'control_voc': 1.06, 'treated_voc': 1.17, 'efficiency_cont': 58.0, 'efficiency_tret': 100.0}, 'test_2': {'stability_type': 'ISOST', 'passivating_molecule': 'oleylamine iodide', 'humidity': 0, 'temperature': 85.0, 'time': 1020.0, 'control_pce': 19.2, 'treated_pce': 21.2, 'control_voc': 1.06, 'treated_voc': 1.17, 'efficiency_cont': 61.0, 'efficiency_tret': 90.0}}\n",
      "{'perovskite_composition': 'Cs0.05(FA0.92MA0.08)0.95Pb(I0.92Br0.08)3', 'electron_transport_layer': 'C60', 'hole_transport_layer': 'PTAA', 'structure_pin_nip': 'inverted', 'test_1': {'stability_type': 'MPP tracking', 'passivating_molecule': 'CsMAFA-8', 'humidity': None, 'temperature': 100, 'time': 1000, 'control_pce': 19.2, 'treated_pce': 21.2, 'control_voc': 1.14, 'treated_voc': 1.16, 'efficiency_cont': 0.92, 'efficiency_tret': 0.98}}\n",
      "{'perovskite_composition': None, 'electron_transport_layer': 'TinOxide', 'hole_transport_layer': None, 'structure_pin_nip': 'NIP', 'test_1': {'stability_type': 'ISOSO', 'passivating_molecule': 'chlorine-rich mixed-halide perovskite interlayer', 'humidity': 0, 'temperature': 0, 'time': 500.0, 'control_pce': 18.0, 'treated_pce': 21.0, 'control_voc': 0, 'treated_voc': 0, 'efficiency_cont': 0.0, 'efficiency_tret': 94.0}, 'test_2': {'stability_type': 'ISOSLT', 'passivating_molecule': None, 'humidity': 0, 'temperature': 0, 'time': 500.0, 'control_pce': 0, 'treated_pce': 0, 'control_voc': 0, 'treated_voc': 0, 'efficiency_cont': 0, 'efficiency_tret': 82.0}}\n",
      "{'perovskite_composition': 'MAPbI3', 'electron_transport_layer': 'SnO2', 'hole_transport_layer': 'Spiro-OMeTAD', 'structure_pin_nip': 'PIN', 'test_1': {'stability_type': 'ISOS-L', 'passivating_molecule': 'NH4Cl', 'humidity': None, 'temperature': 100, 'time': None, 'control_pce': 20.03, 'treated_pce': 19.02, 'control_voc': 1.13, 'treated_voc': 1.09, 'efficiency_cont': 0.8, 'efficiency_tret': 0.94}, 'test_2': {'stability_type': 'ISOS-D', 'passivating_molecule': None, 'humidity': None, 'temperature': 25, 'time': None, 'control_pce': None, 'treated_pce': None, 'control_voc': None, 'treated_voc': None, 'efficiency_cont': 0.1, 'efficiency_tret': 0.2}, 'test_3': {'stability_type': 'ISOS-LT', 'passivating_molecule': None, 'humidity': None, 'temperature': 40, 'time': None, 'control_pce': None, 'treated_pce': None, 'control_voc': None, 'treated_voc': None, 'efficiency_cont': 0.8, 'efficiency_tret': 0.8}}\n",
      "{'perovskite_composition': None, 'electron_transport_layer': 'Lanthanum oxide / Tin Oxide Bilayer', 'hole_transport_layer': None, 'structure_pin_nip': 'NIP', 'test_1': {'stability_type': 'ISOSL', 'passivating_molecule': None, 'humidity': 0, 'temperature': 0, 'time': 1920.0, 'control_pce': 21.1, 'treated_pce': 23.2, 'control_voc': 0, 'treated_voc': 0, 'efficiency_cont': 92.7, 'efficiency_tret': 97.5}, 'test_2': {'stability_type': 'ISOSLT', 'passivating_molecule': None, 'humidity': 0, 'temperature': 0, 'time': 180.0, 'control_pce': 0, 'treated_pce': 0, 'control_voc': 0, 'treated_voc': 0, 'efficiency_cont': 83.0, 'efficiency_tret': 91.0}, 'test_3': {'stability_type': None, 'passivating_molecule': None, 'humidity': 75.0, 'temperature': 0, 'time': 120.0, 'control_pce': 0, 'treated_pce': 0, 'control_voc': 0, 'treated_voc': 0, 'efficiency_cont': 71.0, 'efficiency_tret': 80.0}}\n",
      "{'perovskite_composition': 'Cs0.05(FA0.05MA0.95)0.95 Pb0.05(I0.95Br0.05)0.05', 'electron_transport_layer': 'In2O3/SnO2', 'hole_transport_layer': 'Spiro-OMeTAD', 'structure_pin_nip': 'n-i-p', 'test_1': {'stability_type': 'ISOS-L', 'humidity': 25, 'temperature': 25, 'time': None, 'passivating_molecule': None, 'control_pce': None, 'treated_pce': 23.24, 'control_voc': 1.16, 'treated_voc': 1.17, 'efficiency_cont': None, 'efficiency_tret': 97.5}, 'test_2': {'stability_type': 'ISOS-LT', 'humidity': 75, 'temperature': 25, 'time': None, 'passivating_molecule': None, 'control_pce': None, 'treated_pce': 22.74, 'control_voc': None, 'treated_voc': None, 'efficiency_cont': None, 'efficiency_tret': 91.0}}\n",
      "{'perovskite_composition': None, 'electron_transport_layer': None, 'hole_transport_layer': None, 'structure_pin_nip': 'NIP', 'test_1': {'stability_type': 'ISOSL', 'passivating_molecule': None, 'humidity': '20-30', 'temperature': 0, 'time': 720.0, 'control_pce': 19.6, 'treated_pce': 16.7, 'control_voc': 0, 'treated_voc': 0, 'efficiency_cont': 0, 'efficiency_tret': 92.2}}\n",
      "{'perovskite_composition': 'Cs0.05 FA0.81 MA0.14 PbI2.55 Br0.45', 'electron_transport_layer': 'TiO2', 'hole_transport_layer': 'DTB(3%DEG)', 'structure_pin_nip': 'PIN', 'test_1': {'stability_type': 'ISOS-L', 'passivating_molecule': 'DTB(3%DEG)', 'humidity': 30, 'temperature': 25, 'time': None, 'control_pce': 19.57, 'treated_pce': 20.19, 'control_voc': 1.07, 'treated_voc': 1.14, 'efficiency_cont': None, 'efficiency_tret': 92.25}}\n",
      "{'perovskite_composition': '(FAPbI3)0.95(MAPbBr3)0.05', 'electron_transport_layer': None, 'hole_transport_layer': None, 'structure_pin_nip': None, 'test_1': {'stability_type': 'ISOSO', 'passivating_molecule': None, 'humidity': 0, 'temperature': 0, 'time': 600.0, 'control_pce': 0, 'treated_pce': 23.7, 'control_voc': 0, 'treated_voc': 0, 'efficiency_cont': 0, 'efficiency_tret': 90.0}, 'test_2': {'stability_type': None, 'passivating_molecule': None, 'humidity': 85.0, 'temperature': 25.0, 'time': 0, 'control_pce': 0, 'treated_pce': 0, 'control_voc': 0, 'treated_voc': 0, 'efficiency_cont': 4.0, 'efficiency_tret': 90.0}, 'test_3': {'stability_type': 'ISOST', 'passivating_molecule': None, 'humidity': 25.0, 'temperature': 150.0, 'time': 0, 'control_pce': 0, 'treated_pce': 0, 'control_voc': 0, 'treated_voc': 0, 'efficiency_cont': 20.0, 'efficiency_tret': 90.0}}\n",
      "{'perovskite_composition': 'FAPbI3:0.95MAPbBr3:0.05', 'electron_transport_layer': 'buckminsterfullerene', 'hole_transport_layer': 'Spiro-OMeTAD', 'structure_pin_nip': 'PIN', 'test_1': {'stability_type': 'ISOS-L', 'passivating_molecule': \"2,2',6,6'-bis(4-methoxy-2,4,6-trimethylphenyl)-1,3,5-triazine\", 'humidity': None, 'temperature': 25, 'time': 1000, 'control_pce': 22.57, 'treated_pce': 22.97, 'control_voc': 22.97, 'treated_voc': 0.886, 'efficiency_cont': None, 'efficiency_tret': 0.95}, 'test_2': {'stability_type': 'ISOS-T', 'passivating_molecule': None, 'humidity': None, 'temperature': 25, 'time': 2500, 'control_pce': 22.57, 'treated_pce': 22.97, 'control_voc': 22.97, 'treated_voc': 0.886, 'efficiency_cont': None, 'efficiency_tret': 0.926}, 'test_3': {'stability_type': 'ISOS-D', 'passivating_molecule': None, 'humidity': None, 'temperature': None, 'time': 24, 'control_pce': 22.57, 'treated_pce': 22.97, 'control_voc': 22.97, 'treated_voc': 0.886, 'efficiency_cont': None, 'efficiency_tret': 0.886}}\n",
      "{'perovskite_composition': None, 'electron_transport_layer': 'titanium oxynitride', 'hole_transport_layer': None, 'structure_pin_nip': 'NIP', 'test_1': {'stability_type': 'ISOSL', 'passivating_molecule': None, 'humidity': 0, 'temperature': 0, 'time': 250.0, 'control_pce': 20.2, 'treated_pce': 22.8, 'control_voc': 0, 'treated_voc': 0, 'efficiency_cont': 96.5, 'efficiency_tret': 98.7}, 'test_2': {'stability_type': 'ISOSD', 'passivating_molecule': None, 'humidity': 85.0, 'temperature': 85.0, 'time': 0, 'control_pce': 0, 'treated_pce': 0, 'control_voc': 0, 'treated_voc': 0, 'efficiency_cont': 0, 'efficiency_tret': 0}}\n",
      "{'perovskite_composition': 'Cs0.05FA0.9MA0.05PbI2.74Br0.26', 'electron_transport_layer': 'C60', 'hole_transport_layer': 'P3HT:CuPc', 'structure_pin_nip': 'PIN', 'test_1': {'stability_type': 'ISOS-D', 'passivating_molecule': 'TiOxNy', 'humidity': None, 'temperature': 85, 'time': None, 'control_pce': 23.36, 'treated_pce': 23.09, 'control_voc': 1.193, 'treated_voc': 1.2, 'efficiency_cont': 0.967, 'efficiency_tret': 0.987}}\n",
      "{'perovskite_composition': None, 'electron_transport_layer': 'C60', 'hole_transport_layer': None, 'structure_pin_nip': 'PIN', 'test_1': {'stability_type': 'ISOSLT', 'passivating_molecule': None, 'humidity': 0, 'temperature': 85.0, 'time': 1000.0, 'control_pce': 18.8, 'treated_pce': 22.0, 'control_voc': 0, 'treated_voc': 1.2, 'efficiency_cont': 0, 'efficiency_tret': 92.0}, 'test_2': {'stability_type': 'ISOSL', 'passivating_molecule': None, 'humidity': 75.0, 'temperature': 0, 'time': 1100.0, 'control_pce': 0, 'treated_pce': 0, 'control_voc': 0, 'treated_voc': 0, 'efficiency_cont': 50.0, 'efficiency_tret': 90.0}}\n",
      "{'perovskite_composition': 'Cs0.05(FA0.05MA0.5)0.95Pb(I0.85Br0.15)3', 'electron_transport_layer': 'bis-C60', 'hole_transport_layer': 'PTAA', 'structure_pin_nip': 'NIP', 'test_1': {'stability_type': 'ISOS-L', 'passivating_molecule': 'ZrL3', 'humidity': 75, 'temperature': 85, 'time': 1000, 'control_pce': 21.3, 'treated_pce': 22.02, 'control_voc': 1.2, 'treated_voc': 1.23, 'efficiency_cont': 0.92, 'efficiency_tret': 0.92}}\n",
      "{'perovskite_composition': 'FAPbI 3', 'electron_transport_layer': None, 'hole_transport_layer': None, 'structure_pin_nip': 'NIP', 'test_1': {'stability_type': None, 'passivating_molecule': None, 'humidity': '50-60', 'temperature': 0, 'time': 1000.0, 'control_pce': 15.3, 'treated_pce': 21.2, 'control_voc': 1.05, 'treated_voc': 1.12, 'efficiency_cont': 0, 'efficiency_tret': 91.0}}\n",
      "{'perovskite_composition': 'formamidinium lead iodide', 'electron_transport_layer': 'C60', 'hole_transport_layer': 'Spiro-OMeTAD', 'structure_pin_nip': 'PIN', 'test_1': {'stability_type': 'ISOS-L', 'humidity': None, 'temperature': 20, 'time': None, 'passivating_molecule': 'sulfonyl fluoride-functionalized phenethylammonium salt', 'control_pce': 15.32, 'treated_pce': 21.25, 'control_voc': 1.051, 'treated_voc': 1.127, 'efficiency_cont': None, 'efficiency_tret': 91.0}}\n",
      "{'perovskite_composition': '(FAPbI3)0.97(MC)0.03', 'electron_transport_layer': None, 'hole_transport_layer': None, 'structure_pin_nip': 'NIP', 'test_1': {'stability_type': 'ISOST', 'passivating_molecule': None, 'humidity': '15-25', 'temperature': 85.0, 'time': 1300.0, 'control_pce': 0, 'treated_pce': 24.4, 'control_voc': 0, 'treated_voc': 0, 'efficiency_cont': 0, 'efficiency_tret': 80.0}, 'test_1_2': {'stability_type': 'ISOST', 'passivating_molecule': None, 'humidity': '15-25', 'temperature': 150.0, 'time': 20.0, 'control_pce': 0, 'treated_pce': 0, 'control_voc': 0, 'treated_voc': 0, 'efficiency_cont': 60.0, 'efficiency_tret': 80.0}, 'test_2': {'stability_type': 'ISOSLT', 'passivating_molecule': None, 'humidity': 0, 'temperature': 0, 'time': 400.0, 'control_pce': 0, 'treated_pce': 0, 'control_voc': 0, 'treated_voc': 0, 'efficiency_cont': 0, 'efficiency_tret': 90.0}}\n",
      "{'perovskite_composition': '(FAPbI3)1-x(MC)x', 'electron_transport_layer': 'TiO2', 'hole_transport_layer': 'Spiro-OMeTAD', 'structure_pin_nip': 'PIN', 'test_1': {'stability_type': 'ISOS-L', 'passivating_molecule': 'mixed cations of MDA and Cs', 'humidity': 25, 'temperature': 85, 'time': None, 'control_pce': 18.8, 'treated_pce': 20.8, 'control_voc': None, 'treated_voc': None, 'efficiency_cont': 0.85, 'efficiency_tret': 0.92}, 'test_2': {'stability_type': 'ISOS-H', 'passivating_molecule': 'mixed cations of MDA and Cs', 'humidity': 25, 'temperature': 150, 'time': None, 'control_pce': None, 'treated_pce': None, 'control_voc': None, 'treated_voc': None, 'efficiency_cont': 0.62, 'efficiency_tret': 0.6}}\n",
      "{'perovskite_composition': None, 'electron_transport_layer': 'polyacrylic acid-stabilized tin(IV) oxide quantum dots', 'hole_transport_layer': 'Spiro-OMeTAD', 'structure_pin_nip': 'NIP', 'test_1': {'stability_type': 'ISOSL', 'passivating_molecule': None, 'humidity': 25.0, 'temperature': 25.0, 'time': 1000.0, 'control_pce': 0, 'treated_pce': 25.7, 'control_voc': 0, 'treated_voc': 1.17, 'efficiency_cont': 40.0, 'efficiency_tret': 80.0}, 'test_2': {'stability_type': 'ISOSL', 'passivating_molecule': None, 'humidity': 0, 'temperature': 0, 'time': 700.0, 'control_pce': 0, 'treated_pce': 0, 'control_voc': 0, 'treated_voc': 0, 'efficiency_cont': 0, 'efficiency_tret': 45.0}}\n",
      "{'perovskite_composition': 'formamidinium lead iodide (FAI) based compound', 'electron_transport_layer': 'm-TiO2 and QD-SnO2', 'hole_transport_layer': 'spiro-OMeTAD', 'structure_pin_nip': 'PIN', 'test_1': {'stability_type': 'ISOS-L', 'humidity': 25, 'temperature': 25, 'time': None, 'passivating_molecule': 'm-TiO2, QD-SnO2, and paa-QD-SnO2', 'control_pce': 21.8, 'treated_pce': 23.2, 'control_voc': 1.13, 'treated_voc': 1.16, 'efficiency_cont': None, 'efficiency_tret': None}}\n",
      "{'perovskite_composition': 'FAPbI3', 'electron_transport_layer': None, 'hole_transport_layer': None, 'structure_pin_nip': None, 'test_1': {'stability_type': 'ISOSD', 'passivating_molecule': None, 'humidity': 20.0, 'temperature': 25.0, 'time': 1000.0, 'control_pce': 23.9, 'treated_pce': 25.5, 'control_voc': 1.15, 'treated_voc': 1.18, 'efficiency_cont': 65.0, 'efficiency_tret': 90.0}, 'test_2': {'stability_type': 'ISOSD', 'passivating_molecule': None, 'humidity': 20.0, 'temperature': 60.0, 'time': 1000.0, 'control_pce': 0, 'treated_pce': 0, 'control_voc': 0, 'treated_voc': 0, 'efficiency_cont': 40.0, 'efficiency_tret': 80.0}, 'test_3': {'stability_type': 'ISOSLT', 'passivating_molecule': None, 'humidity': 0, 'temperature': 35.0, 'time': 450.0, 'control_pce': 0, 'treated_pce': 0, 'control_voc': 0, 'treated_voc': 0, 'efficiency_cont': 70.0, 'efficiency_tret': 85.0}}\n",
      "{'perovskite_composition': 'formamidinium lead triiodide (FAPbI3)', 'electron_transport_layer': 'Spiro-OMeTAD', 'hole_transport_layer': 'bathophenyl-substituted 4-tert-butylpyridine (4-tBP)', 'structure_pin_nip': None, 'test_1': {'stability_type': 'ISOS-L', 'passivating_molecule': None, 'humidity': 20, 'temperature': 25, 'time': None, 'control_pce': 24.5, 'treated_pce': 25.2, 'control_voc': 1.15, 'treated_voc': 1.174, 'efficiency_cont': 0.8, 'efficiency_tret': 0.95}, 'test_2': {'stability_type': 'ISOS-T', 'passivating_molecule': None, 'humidity': 20, 'temperature': 60, 'time': 1000, 'control_pce': None, 'treated_pce': None, 'control_voc': None, 'treated_voc': None, 'efficiency_cont': None, 'efficiency_tret': 0.8}, 'test_3': {'stability_type': 'ISOS-D', 'passivating_molecule': None, 'humidity': 25, 'temperature': 25, 'time': 450, 'control_pce': None, 'treated_pce': None, 'control_voc': None, 'treated_voc': None, 'efficiency_cont': 0.7, 'efficiency_tret': 0.9}}\n",
      "{'perovskite_composition': 'FAPbI 3', 'electron_transport_layer': 'Titanium dioxide', 'hole_transport_layer': None, 'structure_pin_nip': None, 'test_1': {'stability_type': 'ISOSLT', 'passivating_molecule': None, 'humidity': 0, 'temperature': 0, 'time': 2000.0, 'control_pce': 0, 'treated_pce': 19.6, 'control_voc': 0, 'treated_voc': 0, 'efficiency_cont': 60.0, 'efficiency_tret': 100.0}}\n",
      "{'perovskite_composition': 'formamidinium lead triiodide (FAPbI3)', 'electron_transport_layer': 'Titanium dioxide (TiO2)', 'hole_transport_layer': 'Spiro-OMeTAD', 'structure_pin_nip': None, 'test_1': {'stability_type': 'ISOS-L', 'humidity': None, 'temperature': 25, 'time': 1000, 'passivating_molecule': 'isopropylammonium chloride', 'control_pce': 19.66, 'treated_pce': 23.9, 'control_voc': 1.15, 'treated_voc': 1.18, 'efficiency_cont': 0.6, 'efficiency_tret': 0.8}}\n",
      "{'perovskite_composition': 'MA0.7FA0.3PbI3', 'electron_transport_layer': 'C60', 'hole_transport_layer': 'PTAA', 'structure_pin_nip': 'PIN', 'test_1': {'stability_type': 'ISOSLT', 'passivating_molecule': None, 'humidity': '60+-10', 'temperature': 65.0, 'time': 1000.0, 'control_pce': 21.8, 'treated_pce': 23.0, 'control_voc': 1.14, 'treated_voc': 1.17, 'efficiency_cont': 60.0, 'efficiency_tret': 100.0}}\n",
      "{'perovskite_composition': 'MA0.7FA0.3PbI3', 'electron_transport_layer': 'C60', 'hole_transport_layer': 'PTAA', 'structure_pin_nip': 'PIN', 'test_1': {'stability_type': 'ISOS-LT', 'passivating_molecule': 'benzylhydrazine (BHC)', 'humidity': 60, 'temperature': 65, 'time': 400, 'control_pce': 21.8, 'treated_pce': 23.4, 'control_voc': 1.14, 'treated_voc': 1.17, 'efficiency_cont': None, 'efficiency_tret': 0.92}}\n",
      "{'perovskite_composition': 'FAPbI 3', 'electron_transport_layer': 'Tin dioxide', 'hole_transport_layer': None, 'structure_pin_nip': 'NIP', 'test_1': {'stability_type': 'ISOSL1', 'passivating_molecule': 'Formamidinium Tin(III) Chloride', 'humidity': 0, 'temperature': 0, 'time': 500.0, 'control_pce': 0, 'treated_pce': 25.5, 'control_voc': 0, 'treated_voc': 1.18, 'efficiency_cont': 0, 'efficiency_tret': 90.0}}\n",
      "{'perovskite_composition': 'FAPbI3 with 35 mol% MACl and 3.8 mol% MDC', 'electron_transport_layer': 'SnO2', 'hole_transport_layer': 'Spiro-OMeTAD', 'structure_pin_nip': 'NIP', 'test_1': {'stability_type': 'ISOS-L', 'passivating_molecule': 'Cl-cPP and Cl-bSO', 'humidity': None, 'temperature': 25, 'time': 500, 'control_pce': None, 'treated_pce': 25.8, 'control_voc': None, 'treated_voc': 1.188, 'efficiency_cont': None, 'efficiency_tret': 0.9}}\n",
      "{'perovskite_composition': 'Cs 0.05(FA0.95MA0.05)0.95Pb(I0.95Br0.05)3', 'electron_transport_layer': 'C60', 'hole_transport_layer': 'poly(triarylamine)', 'structure_pin_nip': 'PIN', 'test_1': {'stability_type': 'ISOSLT', 'passivating_molecule': 'Piperazinium Diiodide', 'humidity': '55+-5', 'temperature': 25.0, 'time': 0, 'control_pce': 20.7, 'treated_pce': 21.9, 'control_voc': 1.06, 'treated_voc': 1.13, 'efficiency_cont': 40.0, 'efficiency_tret': 93.0}, 'test_2': {'stability_type': 'ISOSLT', 'passivating_molecule': 'piperazinium iodide', 'humidity': 0, 'temperature': 0, 'time': 200.0, 'control_pce': 20.7, 'treated_pce': 23.3, 'control_voc': 1.06, 'treated_voc': 1.17, 'efficiency_cont': 87.0, 'efficiency_tret': 90.0}}\n",
      "{'perovskite_composition': 'Cs0.05(FA0.95MA0.05)0.95Pb(I0.95Br0.05)3', 'electron_transport_layer': 'C60', 'hole_transport_layer': 'PTAA', 'structure_pin_nip': 'PIN', 'test_1': {'stability_type': 'ISOS-D', 'passivating_molecule': 'piperazinium iodide', 'humidity': None, 'temperature': 25, 'time': None, 'control_pce': 20.76, 'treated_pce': 23.37, 'control_voc': 1.06, 'treated_voc': 1.17, 'efficiency_cont': 40.0, 'efficiency_tret': 93.0}}\n",
      "{'perovskite_composition': None, 'electron_transport_layer': None, 'hole_transport_layer': None, 'structure_pin_nip': None, 'test_2': {'stability_type': None, 'passivating_molecule': None, 'humidity': 0, 'temperature': 0, 'time': 2000.0, 'control_pce': 0, 'treated_pce': 24.0, 'control_voc': 0, 'treated_voc': 0, 'efficiency_cont': 80.0, 'efficiency_tret': 95.0}, 'test_1': {'stability_type': 'ISOSD2', 'passivating_molecule': None, 'humidity': 0, 'temperature': 85.0, 'time': 2184.0, 'control_pce': 0, 'treated_pce': 0, 'control_voc': 0, 'treated_voc': 0, 'efficiency_cont': 75.8, 'efficiency_tret': 95.2}}\n",
      "{'perovskite_composition': None, 'electron_transport_layer': 'Spiro-OMeTAD/PTAA', 'hole_transport_layer': 'Spiro-OMeTAD', 'structure_pin_nip': 'NIP', 'test_1': {'stability_type': 'ISOS-D', 'passivating_molecule': 'anisole', 'humidity': None, 'temperature': 85, 'time': 1000, 'control_pce': 23.15, 'treated_pce': 23.0, 'control_voc': 1.155, 'treated_voc': 1.147, 'efficiency_cont': 0.85, 'efficiency_tret': 0.92}, 'test_2': {'stability_type': 'ISOS-L', 'passivating_molecule': None, 'humidity': None, 'temperature': 40, 'time': 1000, 'control_pce': None, 'treated_pce': 21.6, 'control_voc': None, 'treated_voc': 1.12, 'efficiency_cont': None, 'efficiency_tret': 0.85}}\n",
      "{'perovskite_composition': 'FAPbI 3', 'electron_transport_layer': 'Titanium dioxide', 'hole_transport_layer': 'Spiro[OMeTAD-3-fluorophenyl]', 'structure_pin_nip': 'NIP', 'test_1': {'stability_type': None, 'passivating_molecule': None, 'humidity': 50.0, 'temperature': 0, 'time': 500.0, 'control_pce': 23.2, 'treated_pce': 24.8, 'control_voc': 1.15, 'treated_voc': 1.18, 'efficiency_cont': 60.0, 'efficiency_tret': 87.0}}\n",
      "{'perovskite_composition': None, 'electron_transport_layer': 'TiO2', 'hole_transport_layer': 'Spiro-mF', 'structure_pin_nip': None, 'test_1': {'stability_type': 'ISOS-L', 'humidity': None, 'temperature': 25, 'time': 500, 'passivating_molecule': 'Spiro-mF', 'control_pce': 23.8, 'treated_pce': 24.8, 'control_voc': 1.11, 'treated_voc': 1.12, 'efficiency_cont': 0.24, 'efficiency_tret': 0.2}}\n",
      "{'perovskite_composition': 'FAPbI 3', 'electron_transport_layer': 'Titanium dioxide', 'hole_transport_layer': 'ion-modulated radical doping Spiro-OMeTAD', 'structure_pin_nip': None, 'test_1': {'stability_type': None, 'passivating_molecule': None, 'humidity': '70+-5', 'temperature': 0, 'time': 1200.0, 'control_pce': 0, 'treated_pce': 25.0, 'control_voc': 1.15, 'treated_voc': 1.04, 'efficiency_cont': 0, 'efficiency_tret': 80.0}, 'test_2': {'stability_type': None, 'passivating_molecule': None, 'humidity': 0, 'temperature': '70+-3', 'time': 800.0, 'control_pce': 0, 'treated_pce': 25.0, 'control_voc': 0, 'treated_voc': 0, 'efficiency_cont': 0, 'efficiency_tret': 80.0}, 'test_3': {'stability_type': None, 'passivating_molecule': None, 'humidity': 0, 'temperature': 0, 'time': 500.0, 'control_pce': 0, 'treated_pce': 0, 'control_voc': 0, 'treated_voc': 0, 'efficiency_cont': 85.0, 'efficiency_tret': 95.0}}\n",
      "{'perovskite_composition': 'FAPbI3', 'electron_transport_layer': 'SnO2', 'hole_transport_layer': 'Spiro-OMeTAD', 'structure_pin_nip': 'NIP', 'test_1': {'stability_type': 'humidity', 'passivating_molecule': '4-tert-butyl-1-methylpyridinium bis(trifluoromethylsulfonyl)imide', 'humidity': 70, 'temperature': 70, 'time': 1000, 'control_pce': 24.0, 'treated_pce': 25.1, 'control_voc': 1.15, 'treated_voc': 1.17, 'efficiency_cont': None, 'efficiency_tret': 95.0}}\n",
      "{'perovskite_composition': None, 'electron_transport_layer': None, 'hole_transport_layer': 'bis(trifluoromethane)sulfonimide lithium salt/4-tert-butylpyridine (LiTFSI/tBP)doped poly(triarylamine)', 'structure_pin_nip': 'NIP', 'test_1': {'stability_type': 'ISOSLT', 'passivating_molecule': None, 'humidity': 0, 'temperature': 85.0, 'time': 1000.0, 'control_pce': 20.5, 'treated_pce': 24.0, 'control_voc': 1.09, 'treated_voc': 1.14, 'efficiency_cont': 0, 'efficiency_tret': 92.0}, 'test_2': {'stability_type': 'ISOST', 'passivating_molecule': None, 'humidity': 0, 'temperature': 120.0, 'time': 0, 'control_pce': 0, 'treated_pce': 0, 'control_voc': 0, 'treated_voc': 0, 'efficiency_cont': 55.0, 'efficiency_tret': 95.0}, 'test_3': {'stability_type': 'ISOSLT', 'passivating_molecule': None, 'humidity': 50.0, 'temperature': 0, 'time': 576.0, 'control_pce': 0, 'treated_pce': 0, 'control_voc': 0, 'treated_voc': 0, 'efficiency_cont': 40.0, 'efficiency_tret': 90.0}}\n",
      "{'perovskite_composition': 'formamidinium-based', 'electron_transport_layer': 'SnO2', 'hole_transport_layer': 'poly(triarylamine) (PTAA) with HFDF', 'structure_pin_nip': 'PIN', 'test_1': {'stability_type': 'ISOS-L', 'passivating_molecule': 'hexafluorodifluoropropane-1,3-disulfonimide (HFDF)', 'humidity': 50, 'temperature': 85, 'time': 1000, 'control_pce': 23.9, 'treated_pce': 23.9, 'control_voc': 1.15, 'treated_voc': 1.15, 'efficiency_cont': 0.92, 'efficiency_tret': 0.92}}\n",
      "{'perovskite_composition': '(FA0.98MA0.02)0.95Cs0.05Pb(I0.95Br0.02)3', 'electron_transport_layer': 'C60', 'hole_transport_layer': 'poly(triaryl amine)', 'structure_pin_nip': 'PIN', 'test_1': {'stability_type': 'ISOSLT', 'passivating_molecule': 'ferrocenyl-bis-thiophene-2-carboxylate', 'humidity': 0, 'temperature': 0, 'time': 1500.0, 'control_pce': 23.0, 'treated_pce': 25.0, 'control_voc': 1.13, 'treated_voc': 1.18, 'efficiency_cont': 72.0, 'efficiency_tret': 98.0}}\n",
      "{'perovskite_composition': '(FA0.98MA0.02)0.95Cs0.05Pb(I0.95Br0.02)3', 'electron_transport_layer': 'C60', 'hole_transport_layer': 'poly(triaryl amine)', 'structure_pin_nip': 'NIP', 'test_1': {'stability_type': 'ISOS-L', 'passivating_molecule': 'ferrocenyl-bis-thiophene-2-carboxylate', 'humidity': None, 'temperature': 25, 'time': 1500, 'control_pce': 23.0, 'treated_pce': 25.0, 'control_voc': 1.13, 'treated_voc': 1.18, 'efficiency_cont': 0.98, 'efficiency_tret': 0.98}}\n",
      "{'perovskite_composition': None, 'electron_transport_layer': None, 'hole_transport_layer': None, 'structure_pin_nip': None, 'test_1': {'stability_type': 'ISOSLT', 'passivating_molecule': None, 'humidity': 0, 'temperature': 0, 'time': 600.0, 'control_pce': 0, 'treated_pce': 26.0, 'control_voc': 0, 'treated_voc': 1.17, 'efficiency_cont': 0, 'efficiency_tret': 88.0}}\n",
      "{'perovskite_composition': 'formamidinium lead iodide (FAPbI3)', 'electron_transport_layer': 'Tin Oxide', 'hole_transport_layer': 'Spiro-OMeTAD', 'structure_pin_nip': 'NIP', 'test_1': {'stability_type': 'ISOS-L', 'passivating_molecule': 'formamidinium lead iodide (FAPbI3)', 'humidity': None, 'temperature': 25, 'time': None, 'control_pce': 24.08, 'treated_pce': 26.08, 'control_voc': 1.178, 'treated_voc': 1.179, 'efficiency_cont': None, 'efficiency_tret': 0.907}}\n",
      "{'perovskite_composition': 'FAPbI 3', 'electron_transport_layer': 'tin dioxide', 'hole_transport_layer': 'Spiro-OMeTAD', 'structure_pin_nip': 'NIP', 'test_1': {'stability_type': 'ISOSD', 'passivating_molecule': None, 'humidity': 0, 'temperature': 0, 'time': 1000.0, 'control_pce': 0, 'treated_pce': 25.6, 'control_voc': 0, 'treated_voc': 1.18, 'efficiency_cont': 0, 'efficiency_tret': 96.0}, 'test_2': {'stability_type': 'ISOSD', 'passivating_molecule': None, 'humidity': 0, 'temperature': 85.0, 'time': 500.0, 'control_pce': 0, 'treated_pce': 0, 'control_voc': 0, 'treated_voc': 0, 'efficiency_cont': 50.0, 'efficiency_tret': 80.0}}\n",
      "{'perovskite_composition': 'FAPbI3', 'electron_transport_layer': 'SnO2', 'hole_transport_layer': 'Spiro-OMeTAD', 'structure_pin_nip': 'PIN', 'test_1': {'stability_type': 'ISOS-L', 'passivating_molecule': '(PbI2)2RbCl', 'humidity': 30, 'temperature': 85, 'time': None, 'control_pce': 25.6, 'treated_pce': 25.6, 'control_voc': 1.1824, 'treated_voc': 1.1824, 'efficiency_cont': None, 'efficiency_tret': 0.8}}\n",
      "{'perovskite_composition': '(FAPbI3)0.95(MAPbBr3)0.05', 'electron_transport_layer': 'C60', 'hole_transport_layer': 'P3CT-N', 'structure_pin_nip': None, 'test_1': {'stability_type': None, 'passivating_molecule': None, 'humidity': 0, 'temperature': 85.0, 'time': 2200.0, 'control_pce': 21.8, 'treated_pce': 24.3, 'control_voc': 1.09, 'treated_voc': 1.19, 'efficiency_cont': 73.2, 'efficiency_tret': 91.8}, 'test_2': {'stability_type': 'ISOSLT', 'passivating_molecule': None, 'humidity': 0, 'temperature': '55+-5', 'time': 1000.0, 'control_pce': 0, 'treated_pce': 0, 'control_voc': 0, 'treated_voc': 0, 'efficiency_cont': 77.6, 'efficiency_tret': 90.5}}\n",
      "{'perovskite_composition': 'Cs0.05FA0.95PbI3', 'electron_transport_layer': 'PCBM', 'hole_transport_layer': '3-(methylamine-5-pentanoate)thiophene-2,5-diy', 'structure_pin_nip': 'NIP', 'test_1': {'stability_type': 'ISOS-L', 'humidity': None, 'temperature': 85, 'time': 2200, 'passivating_molecule': '3-(methylamine-5-pentanoate)thiophene-2,5-diy', 'control_pce': 21.1, 'treated_pce': 23.5, 'control_voc': 1.09, 'treated_voc': 1.17, 'efficiency_cont': None, 'efficiency_tret': 91.8}}\n",
      "{'perovskite_composition': 'Cs 0.05(FA0.98MA0.02)0.95Pb(I0.98Br0.02)3', 'electron_transport_layer': 'PC 61 BM', 'hole_transport_layer': 'MeO-2PACz', 'structure_pin_nip': 'PIN', 'test_1': {'stability_type': None, 'passivating_molecule': None, 'humidity': 0, 'temperature': 25.0, 'time': 1000.0, 'control_pce': 22.3, 'treated_pce': 24.6, 'control_voc': 0, 'treated_voc': 1.18, 'efficiency_cont': 84.0, 'efficiency_tret': 93.0}, 'test_2': {'stability_type': None, 'passivating_molecule': None, 'humidity': 0, 'temperature': 75.0, 'time': 1000.0, 'control_pce': 0, 'treated_pce': 0, 'control_voc': 0, 'treated_voc': 0, 'efficiency_cont': 56.0, 'efficiency_tret': 88.0}, 'test_3': {'stability_type': 'ISOST', 'passivating_molecule': None, 'humidity': 0, 'temperature': 80.0, 'time': 0, 'control_pce': 0, 'treated_pce': 0, 'control_voc': 0, 'treated_voc': 0, 'efficiency_cont': 75.6, 'efficiency_tret': 98.9}, 'test_3_2': {'stability_type': 'ISOST', 'passivating_molecule': None, 'humidity': 0, 'temperature': 60.0, 'time': 0, 'control_pce': 0, 'treated_pce': 0, 'control_voc': 0, 'treated_voc': 0, 'efficiency_cont': 63.0, 'efficiency_tret': 88.7}}\n",
      "{'perovskite_composition': 'Cs0.05(FA0.98MA0.02)0.95Pb(I0.98Br0.02)3', 'electron_transport_layer': '[6,6]-phenyl-C61-butyric acid methyl ester (PC61BM)', 'hole_transport_layer': 'ITO', 'structure_pin_nip': 'inverted', 'test_1': {'stability_type': 'ISOS-L', 'humidity': 0, 'temperature': 25, 'time': 1000, 'passivating_molecule': 'b-poly(1,1-difluoroethylene) (b-pV2F)', 'control_pce': 22.3, 'treated_pce': 24.6, 'control_voc': 1.13, 'treated_voc': 1.18, 'efficiency_cont': 84.0, 'efficiency_tret': 96.0}}\n",
      "{'perovskite_composition': 'Cs0.1FA0.9PbI3', 'electron_transport_layer': 'tin dioxide', 'hole_transport_layer': 'Spiro-OMeTAD', 'structure_pin_nip': None, 'test_1': {'stability_type': 'ISOSD', 'passivating_molecule': None, 'humidity': 0, 'temperature': '45+-5', 'time': 1750.0, 'control_pce': 20.9, 'treated_pce': 23.4, 'control_voc': 0, 'treated_voc': 0, 'efficiency_cont': 0, 'efficiency_tret': 80.0}, 'test_3': {'stability_type': 'ISOSLT', 'passivating_molecule': None, 'humidity': 0, 'temperature': 0, 'time': 960.0, 'control_pce': 0, 'treated_pce': 0, 'control_voc': 0, 'treated_voc': 0, 'efficiency_cont': 0, 'efficiency_tret': 80.0}, 'test_2': {'stability_type': 'ISOSLT', 'passivating_molecule': None, 'humidity': 0, 'temperature': '65+-5', 'time': 500.0, 'control_pce': 0, 'treated_pce': 0, 'control_voc': 0, 'treated_voc': 0, 'efficiency_cont': 0, 'efficiency_tret': 91.0}, 'test_2_2': {'stability_type': 'ISOSLT', 'passivating_molecule': None, 'humidity': 0, 'temperature': 85.0, 'time': 500.0, 'control_pce': 0, 'treated_pce': 0, 'control_voc': 0, 'treated_voc': 0, 'efficiency_cont': 0, 'efficiency_tret': 89.0}}\n",
      "{'perovskite_composition': 'Cs0.1FA0.9PbI3', 'electron_transport_layer': 'SnO2', 'hole_transport_layer': 'Spiro-OMeTAD', 'structure_pin_nip': 'PIN', 'test_1': {'stability_type': 'ISOS-L', 'passivating_molecule': None, 'humidity': 30, 'temperature': 85, 'time': None, 'control_pce': 23.7, 'treated_pce': 22.4, 'control_voc': 1.14, 'treated_voc': 1.12, 'efficiency_cont': None, 'efficiency_tret': 91.0}, 'test_2': {'stability_type': 'ISOS-D', 'passivating_molecule': None, 'humidity': 30, 'temperature': 45, 'time': None, 'control_pce': None, 'treated_pce': None, 'control_voc': None, 'treated_voc': None, 'efficiency_cont': None, 'efficiency_tret': 80.0}}\n",
      "{'perovskite_composition': 'FAPbI 3', 'electron_transport_layer': 'tin dioxide', 'hole_transport_layer': 'Spiro-OMeTAD', 'structure_pin_nip': 'NIP', 'test_1': {'stability_type': 'ISOSLT', 'passivating_molecule': 'lead oxalate', 'humidity': 0, 'temperature': 0, 'time': 550.0, 'control_pce': 23.4, 'treated_pce': 25.3, 'control_voc': 1.16, 'treated_voc': 1.18, 'efficiency_cont': 60.0, 'efficiency_tret': 92.0}}\n",
      "{'perovskite_composition': 'formamidinium lead triiodide (FAPbI3)', 'electron_transport_layer': 'SnO2', 'hole_transport_layer': 'Spiro-OMeTAD', 'structure_pin_nip': 'NIP', 'test_1': {'stability_type': 'ISOS-L', 'passivating_molecule': 'oxalic acid', 'humidity': None, 'temperature': None, 'time': 550, 'control_pce': 23.43, 'treated_pce': 25.39, 'control_voc': 1.16, 'treated_voc': 1.18, 'efficiency_cont': 0.92, 'efficiency_tret': 1.0}}\n",
      "{'perovskite_composition': None, 'electron_transport_layer': 'C60', 'hole_transport_layer': 'poly(triarylamine)', 'structure_pin_nip': 'PIN', 'test_1': {'stability_type': 'ISOSLT', 'passivating_molecule': 'zinc-based halogenometallate', 'humidity': 0, 'temperature': 0, 'time': 1009.0, 'control_pce': 0, 'treated_pce': 24.1, 'control_voc': 0, 'treated_voc': 1.19, 'efficiency_cont': 0, 'efficiency_tret': 94.5}}\n",
      "{'perovskite_composition': '3D/0D perovskite', 'electron_transport_layer': 'C60', 'hole_transport_layer': 'boric acid-doped Spiro-OMeTAD', 'structure_pin_nip': 'PIN', 'test_1': {'stability_type': 'ISOS-L', 'passivating_molecule': 'PEA2ZnX4', 'humidity': 20, 'temperature': 40, 'time': 1009, 'control_pce': 18.2, 'treated_pce': 21.2, 'control_voc': 1.048, 'treated_voc': 1.15, 'efficiency_cont': 0.845, 'efficiency_tret': 0.945}}\n",
      "{'perovskite_composition': 'Cs0.05FA0.95PbI3', 'electron_transport_layer': 'PCBM', 'hole_transport_layer': 'poly(triarylamine)', 'structure_pin_nip': 'PIN', 'test_2': {'stability_type': 'ISOST1', 'passivating_molecule': None, 'humidity': 85.0, 'temperature': 85.0, 'time': 1200.0, 'control_pce': 0, 'treated_pce': 25.1, 'control_voc': 0, 'treated_voc': 0, 'efficiency_cont': 0, 'efficiency_tret': 92.0}, 'test_1': {'stability_type': 'ISOST1', 'passivating_molecule': None, 'humidity': 0, 'temperature': '55+-5', 'time': 1500.0, 'control_pce': 21.7, 'treated_pce': 25.1, 'control_voc': 1.12, 'treated_voc': 1.15, 'efficiency_cont': 78.0, 'efficiency_tret': 98.0}}\n",
      "{'perovskite_composition': 'Cs0.05FA0.95PbI3', 'electron_transport_layer': 'Spiro-OMeTAD', 'hole_transport_layer': 'PTAA', 'structure_pin_nip': 'NIP', 'test_1': {'stability_type': 'ISOS-L', 'passivating_molecule': '2-aminoindan hydrochloride', 'humidity': None, 'temperature': 55, 'time': 1500, 'control_pce': 21.94, 'treated_pce': 25.12, 'control_voc': 1.12, 'treated_voc': 1.16, 'efficiency_cont': 0.98, 'efficiency_tret': 0.92}}\n",
      "{'perovskite_composition': None, 'electron_transport_layer': 'C60', 'hole_transport_layer': '(2,7-Dimethoxy-9H-carbazol-9-yl)methyl phosphonic acid', 'structure_pin_nip': 'PIN', 'test_1': {'stability_type': 'ISOSLT', 'passivating_molecule': None, 'humidity': 0, 'temperature': '65+-5', 'time': 1200.0, 'control_pce': 0, 'treated_pce': 24.8, 'control_voc': 0, 'treated_voc': 1.19, 'efficiency_cont': 70.0, 'efficiency_tret': 98.0}, 'test_2': {'stability_type': 'ISOSLT', 'passivating_molecule': None, 'humidity': 0, 'temperature': 0, 'time': 500.0, 'control_pce': 0, 'treated_pce': 0, 'control_voc': 0, 'treated_voc': 0, 'efficiency_cont': 30.0, 'efficiency_tret': 90.0}}\n",
      "{'perovskite_composition': 'FA0.83Cs0.17MA0.17Pb0.5Sn0.5I3', 'electron_transport_layer': 'Spiro-OMeTAD', 'hole_transport_layer': 'DCPA', 'structure_pin_nip': 'NIP', 'test_1': {'stability_type': 'ISOS-L', 'passivating_molecule': '4-guanidinobenzoic acid hydrochloride (GBAC)', 'humidity': 20, 'temperature': 65, 'time': 1200, 'control_pce': 24.8, 'treated_pce': 24.5, 'control_voc': 1.19, 'treated_voc': 1.19, 'efficiency_cont': 0.03, 'efficiency_tret': 0.97}}\n",
      "{'perovskite_composition': None, 'electron_transport_layer': None, 'hole_transport_layer': None, 'structure_pin_nip': None, 'test_1': {'stability_type': 'ISOSL3', 'passivating_molecule': None, 'humidity': 0, 'temperature': '30+-3', 'time': 1000.0, 'control_pce': 18.9, 'treated_pce': 20.4, 'control_voc': 1.13, 'treated_voc': 1.18, 'efficiency_cont': 70.0, 'efficiency_tret': 95.0}, 'test_2': {'stability_type': 'ISOSD', 'passivating_molecule': None, 'humidity': '85+-5', 'temperature': '65+-3', 'time': 500.0, 'control_pce': 0, 'treated_pce': 0, 'control_voc': 0, 'treated_voc': 0, 'efficiency_cont': 63.0, 'efficiency_tret': 82.0}}\n",
      "{'perovskite_composition': 'formamidinium lead iodide (FAPbI3)', 'electron_transport_layer': 'tin dioxide (SnO2)', 'hole_transport_layer': 'spiro-OMeTAD', 'structure_pin_nip': 'PIN', 'test_1': {'stability_type': 'ISOS-L', 'passivating_molecule': 'pentanamidine hydrochloride', 'humidity': 85, 'temperature': 65, 'time': None, 'control_pce': 24.1, 'treated_pce': 25.4, 'control_voc': 1.1, 'treated_voc': 1.18, 'efficiency_cont': 0.37, 'efficiency_tret': 0.95}}\n",
      "{'perovskite_composition': 'FA0.95MA0.05Pb(I0.92Br0.08)3', 'electron_transport_layer': 'C60', 'hole_transport_layer': 'PTAA', 'structure_pin_nip': 'PIN', 'test_1': {'stability_type': 'ISOSL', 'passivating_molecule': 'Aluminum Oxide', 'humidity': 0, 'temperature': 85.0, 'time': 1000.0, 'control_pce': 23.0, 'treated_pce': 25.5, 'control_voc': 1.13, 'treated_voc': 1.19, 'efficiency_cont': 80.0, 'efficiency_tret': 98.0}, 'test_2': {'stability_type': 'ISOSD', 'passivating_molecule': None, 'humidity': 0, 'temperature': '35-40', 'time': 1000.0, 'control_pce': 0, 'treated_pce': 0, 'control_voc': 0, 'treated_voc': 0, 'efficiency_cont': 80.0, 'efficiency_tret': 98.0}}\n",
      "{'perovskite_composition': 'FA0.95MA0.05Pb(I0.92Br0.08)3', 'electron_transport_layer': 'Spiro-OMeTAD', 'hole_transport_layer': 'Me-4PACz', 'structure_pin_nip': 'p-i-n', 'test_1': {'stability_type': 'ISOS-L', 'passivating_molecule': 'Al2O3', 'humidity': 20, 'temperature': 85, 'time': 1000, 'control_pce': 22.1, 'treated_pce': 24.5, 'control_voc': 1.13, 'treated_voc': 1.19, 'efficiency_cont': 20.0, 'efficiency_tret': 98.0}}\n",
      "{'perovskite_composition': 'Cs0.05(FAPbI3)0.85(MAPbBr3)0.15', 'electron_transport_layer': None, 'hole_transport_layer': 'DDT-treated spiro-OMeTAD', 'structure_pin_nip': None, 'test_1': {'stability_type': 'ISOSD', 'passivating_molecule': None, 'humidity': 50.0, 'temperature': 0, 'time': 430.0, 'control_pce': 22.7, 'treated_pce': 23.1, 'control_voc': 1.17, 'treated_voc': 1.19, 'efficiency_cont': 68.0, 'efficiency_tret': 97.0}, 'test_2': {'stability_type': 'ISOSLT', 'passivating_molecule': None, 'humidity': 0, 'temperature': '50-85', 'time': 0, 'control_pce': 0, 'treated_pce': 0, 'control_voc': 0, 'treated_voc': 0, 'efficiency_cont': 0, 'efficiency_tret': 95.0}, 'test_3': {'stability_type': 'ISOSLT', 'passivating_molecule': None, 'humidity': 0, 'temperature': 0, 'time': 2000.0, 'control_pce': 0, 'treated_pce': 0, 'control_voc': 0, 'treated_voc': 0, 'efficiency_cont': 10.0, 'efficiency_tret': 93.0}}\n",
      "{'perovskite_composition': 'Cs0.05(FAPbI3)0.85(MAPbBr3)0.15', 'electron_transport_layer': 'SnO2', 'hole_transport_layer': 'spiro-OMeTAD', 'structure_pin_nip': None, 'test_1': {'stability_type': 'ISOS-L', 'passivating_molecule': None, 'humidity': 50, 'temperature': 30, 'time': 1000, 'control_pce': 19.0, 'treated_pce': 20.2, 'control_voc': 1.14, 'treated_voc': 1.15, 'efficiency_cont': 19.0, 'efficiency_tret': 20.2}}\n",
      "{'perovskite_composition': 'Cs0.05FA0.9MA0.05Pb(I0.95Br0.05)3', 'electron_transport_layer': 'C60', 'hole_transport_layer': 'Me-4PACz', 'structure_pin_nip': 'PIN', 'test_1': {'stability_type': 'ISOSLT', 'passivating_molecule': 'sodium thioglycolate', 'humidity': 0, 'temperature': 0, 'time': 900.0, 'control_pce': 22.5, 'treated_pce': 24.5, 'control_voc': 1.14, 'treated_voc': 1.19, 'efficiency_cont': 0, 'efficiency_tret': 96.0}}\n",
      "{'perovskite_composition': 'Cs0.05FA0.9MA0.05Pb(I0.95Br0.05)3', 'electron_transport_layer': 'NiO2', 'hole_transport_layer': 'Me-4PACz', 'structure_pin_nip': 'NIP', 'test_1': {'stability_type': 'ISOS-L', 'passivating_molecule': 'sodium thioglycolate', 'humidity': 20, 'temperature': 25, 'time': 900, 'control_pce': 23.2, 'treated_pce': 24.2, 'control_voc': 1.14, 'treated_voc': 1.19, 'efficiency_cont': 0.7, 'efficiency_tret': 0.96}}\n",
      "{'perovskite_composition': None, 'electron_transport_layer': 'C60', 'hole_transport_layer': None, 'structure_pin_nip': 'PIN', 'test_1': {'stability_type': 'ISOSD2', 'passivating_molecule': '3-diammonium iodide,propane-1', 'humidity': 0, 'temperature': 85.0, 'time': 1600.0, 'control_pce': 0, 'treated_pce': 26.4, 'control_voc': 0, 'treated_voc': 1.17, 'efficiency_cont': 84.0, 'efficiency_tret': 95.0}, 'test_2': {'stability_type': 'ISOSL3', 'passivating_molecule': None, 'humidity': 50.0, 'temperature': 65.0, 'time': 2000.0, 'control_pce': 0, 'treated_pce': 0, 'control_voc': 0, 'treated_voc': 0, 'efficiency_cont': 70.0, 'efficiency_tret': 96.0}}\n",
      "{'perovskite_composition': 'Cs0.05MA0.05FA0.90PbI3', 'electron_transport_layer': 'C60', 'hole_transport_layer': 'NiOx', 'structure_pin_nip': 'NIP', 'test_1': {'stability_type': 'ISOS-D', 'passivating_molecule': 'PDAI2 and 3MTPAI', 'humidity': 50, 'temperature': 85, 'time': 1000, 'control_pce': 22.8, 'treated_pce': 25.5, 'control_voc': 1.12, 'treated_voc': 1.17, 'efficiency_cont': 84.0, 'efficiency_tret': 96.0}}\n",
      "{'perovskite_composition': 'Cs0.05MA0.10FA0.85PbI3', 'electron_transport_layer': None, 'hole_transport_layer': None, 'structure_pin_nip': 'NIP', 'test_1': {'stability_type': 'ISOSL3', 'passivating_molecule': None, 'humidity': 50.0, 'temperature': 65.0, 'time': 1000.0, 'control_pce': 0, 'treated_pce': 25.3, 'control_voc': 0, 'treated_voc': 0, 'efficiency_cont': 0, 'efficiency_tret': 95.0}}\n",
      "{'perovskite_composition': 'Cs0.05(MA0.1FA0.85)PbI3', 'electron_transport_layer': 'C60', 'hole_transport_layer': 'C60', 'structure_pin_nip': None, 'test_1': {'stability_type': 'ISOS-L', 'passivating_molecule': '2-(9H-carbazol-9-yl)ethyl phosphonic acid', 'humidity': 50, 'temperature': 65, 'time': None, 'control_pce': 24.6, 'treated_pce': 24.6, 'control_voc': 1.15, 'treated_voc': 1.15, 'efficiency_cont': 0.13, 'efficiency_tret': 7.0}, 'test_2': {'stability_type': 'ISOS-D', 'passivating_molecule': None, 'humidity': 65, 'temperature': 85, 'time': None, 'control_pce': None, 'treated_pce': 24.6, 'control_voc': None, 'treated_voc': 1.15, 'efficiency_cont': 0.09, 'efficiency_tret': 3.0}}\n",
      "{'perovskite_composition': 'FA0.95Cs0.05PbI3', 'electron_transport_layer': 'C60', 'hole_transport_layer': 'poly(triaryl)amine', 'structure_pin_nip': 'PIN', 'test_1': {'stability_type': 'ISOSL1', 'passivating_molecule': None, 'humidity': 0, 'temperature': 0, 'time': 2500.0, 'control_pce': 25.4, 'treated_pce': 23.5, 'control_voc': 1.14, 'treated_voc': 1.16, 'efficiency_cont': 80.0, 'efficiency_tret': 92.0}, 'test_2': {'stability_type': 'ISOSD3', 'passivating_molecule': None, 'humidity': 85.0, 'temperature': 85.0, 'time': 300.0, 'control_pce': 19.2, 'treated_pce': 21.8, 'control_voc': 0, 'treated_voc': 0, 'efficiency_cont': 80.0, 'efficiency_tret': 90.0}}\n",
      "{'perovskite_composition': 'FA0.83Cs0.17PbI3', 'electron_transport_layer': 'C60', 'hole_transport_layer': 'Spiro-OMeTAD', 'structure_pin_nip': 'PIN', 'test_1': {'stability_type': 'ISOS-D', 'passivating_molecule': 'PSP', 'humidity': 85, 'temperature': 85, 'time': None, 'control_pce': 20.6, 'treated_pce': 24.3, 'control_voc': 1.13, 'treated_voc': 1.12, 'efficiency_cont': 20.6, 'efficiency_tret': 24.3}}\n",
      "{'perovskite_composition': 'FAPbI 3', 'electron_transport_layer': None, 'hole_transport_layer': None, 'structure_pin_nip': None, 'test_1': {'stability_type': None, 'passivating_molecule': None, 'humidity': 0, 'temperature': '50+-5', 'time': 1258.0, 'control_pce': 0, 'treated_pce': 25.8, 'control_voc': 0, 'treated_voc': 0, 'efficiency_cont': 0, 'efficiency_tret': 94.0}}\n",
      "{'perovskite_composition': 'FAPbI3', 'electron_transport_layer': 'SnO2', 'hole_transport_layer': 'spiro-OMeTAD', 'structure_pin_nip': 'PIN', 'test_1': {'stability_type': 'ISOS-L', 'humidity': None, 'temperature': 50, 'time': 1258, 'passivating_molecule': 'hexafluorobenzene', 'control_pce': 25.8, 'treated_pce': 24.63, 'control_voc': None, 'treated_voc': None, 'efficiency_cont': 0.94, 'efficiency_tret': 0.96}}\n",
      "{'perovskite_composition': None, 'electron_transport_layer': None, 'hole_transport_layer': None, 'structure_pin_nip': None, 'test_1': {'stability_type': None, 'passivating_molecule': None, 'humidity': 65.0, 'temperature': 0, 'time': 1200.0, 'control_pce': 0, 'treated_pce': 16.1, 'control_voc': 0, 'treated_voc': 0, 'efficiency_cont': 0, 'efficiency_tret': 71.0}, 'test_2': {'stability_type': None, 'passivating_molecule': None, 'humidity': 0, 'temperature': 85.0, 'time': 0, 'control_pce': 0, 'treated_pce': 16.1, 'control_voc': 0, 'treated_voc': 0, 'efficiency_cont': 0, 'efficiency_tret': 74.0}}\n",
      "{'perovskite_composition': 'MAPbI3', 'electron_transport_layer': 'TiO2', 'hole_transport_layer': '(BA)2(MA)n-1PbnI3n+1', 'structure_pin_nip': None, 'test_1': {'stability_type': None, 'passivating_molecule': '(BA)2(MA)n-1PbnI3n+1', 'humidity': None, 'temperature': 65, 'time': 50, 'control_pce': 12.31, 'treated_pce': 16.13, 'control_voc': 1.11, 'treated_voc': 1.08, 'efficiency_cont': 0.29, 'efficiency_tret': 0.71}}\n",
      "{'perovskite_composition': '(FAPbI3)0.77(MAPbBr3)0.14(CsPbI3)0.09', 'electron_transport_layer': None, 'hole_transport_layer': 'copper(I) thiocyanate', 'structure_pin_nip': None, 'test_1': {'stability_type': None, 'passivating_molecule': 'phenylethylammonium lead iodide', 'humidity': 0, 'temperature': 0, 'time': 0, 'control_pce': 18.0, 'treated_pce': 18.0, 'control_voc': 1.13, 'treated_voc': 1.1, 'efficiency_cont': 0, 'efficiency_tret': 0}, 'test_2': {'stability_type': None, 'passivating_molecule': 'fluorophenylethylammonium lead iodide', 'humidity': 0, 'temperature': 0, 'time': 0, 'control_pce': 18.0, 'treated_pce': 18.0, 'control_voc': 1.13, 'treated_voc': 1.08, 'efficiency_cont': 0, 'efficiency_tret': 0}}\n",
      "{'perovskite_composition': '(FAPbI3)0.77 (MAPbBr3)0.14 (CsPbI3)0.09', 'electron_transport_layer': 'TiO2', 'hole_transport_layer': 'CuSCN', 'structure_pin_nip': 'NIP', 'test_1': {'stability_type': 'ISOS-L', 'passivating_molecule': '2D perovskite', 'humidity': None, 'temperature': None, 'time': None, 'control_pce': 18.09, 'treated_pce': 18.01, 'control_voc': None, 'treated_voc': None, 'efficiency_cont': None, 'efficiency_tret': 75.6}}\n",
      "{'perovskite_composition': None, 'electron_transport_layer': 'C60', 'hole_transport_layer': 'Poly(3,4-ethylenedioxythiophene):Poly(styrene sulfonate)', 'structure_pin_nip': 'PIN', 'test_1': {'stability_type': 'ISOSLT', 'passivating_molecule': 'ethylenediammonium diiodide', 'humidity': 0, 'temperature': 0, 'time': 200.0, 'control_pce': 19.6, 'treated_pce': 23.6, 'control_voc': 0.79, 'treated_voc': 0.89, 'efficiency_cont': 60.0, 'efficiency_tret': 80.0}, 'test_2': {'stability_type': 'ISOSLT', 'passivating_molecule': 'ethylenediammonium diiodide', 'humidity': 0, 'temperature': 0, 'time': 180.0, 'control_pce': 0, 'treated_pce': 0, 'control_voc': 0, 'treated_voc': 0, 'efficiency_cont': 60.0, 'efficiency_tret': 65.0}}\n",
      "{'perovskite_composition': None, 'electron_transport_layer': 'C60', 'hole_transport_layer': 'PTAA', 'structure_pin_nip': 'NIP', 'test_1': {'stability_type': 'ISOS-L', 'passivating_molecule': 'EDAI2', 'humidity': None, 'temperature': 25, 'time': None, 'control_pce': 19.3, 'treated_pce': 21.7, 'control_voc': 0.76, 'treated_voc': 0.88, 'efficiency_cont': 0.89, 'efficiency_tret': 0.97}}\n",
      "{'perovskite_composition': 'Cs0.05(MA0.17FA0.83)0.95Pb(I0.83Br0.17)3', 'electron_transport_layer': 'Tin dioxide', 'hole_transport_layer': 'Spiro-OMeTAD', 'structure_pin_nip': 'PIN', 'test_1': {'stability_type': 'ISOSLT', 'passivating_molecule': '4-fluoroaniline', 'humidity': 0, 'temperature': 0, 'time': 95.0, 'control_pce': 17.8, 'treated_pce': 20.4, 'control_voc': 1.02, 'treated_voc': 1.13, 'efficiency_cont': 50.0, 'efficiency_tret': 75.0}}\n",
      "{'perovskite_composition': 'Cs0.05(MA0.17FA0.83)0.95Pb(I0.83Br0.17)3', 'electron_transport_layer': 'SnO2', 'hole_transport_layer': 'Spiro-OMeTAD', 'structure_pin_nip': 'PIN', 'test_1': {'stability_type': 'humidity', 'passivating_molecule': '4-fluoroaniline', 'humidity': 85, 'temperature': None, 'time': 66, 'control_pce': None, 'treated_pce': 20.48, 'control_voc': None, 'treated_voc': 1.14, 'efficiency_cont': None, 'efficiency_tret': 0.75}}\n",
      "{'perovskite_composition': 'Cs0.05(MA0.05FA0.95)0.95Pb(I0.95Br0.05)3', 'electron_transport_layer': 'C60', 'hole_transport_layer': '2PACz', 'structure_pin_nip': 'PIN', 'test_1': {'stability_type': 'ISOSLT', 'passivating_molecule': 'ortho-carborane decorated with phenylamino groups', 'humidity': 30.0, 'temperature': 40.0, 'time': 400.0, 'control_pce': 21.5, 'treated_pce': 21.1, 'control_voc': 1.12, 'treated_voc': 1.17, 'efficiency_cont': 89.0, 'efficiency_tret': 97.0}}\n",
      "{'perovskite_composition': 'Cs0.05(FA0.05MA0.95)0.95Pb(I0.95Br0.05)3', 'electron_transport_layer': 'C60', 'hole_transport_layer': \"2,2',7,7'-tetrakis(N,N-di(4-methoxyphenylamino)-9,9'-spirofluorene (BCP)\", 'structure_pin_nip': 'PIN', 'test_1': {'stability_type': 'ISOS-L', 'passivating_molecule': 'CB-NH2', 'humidity': 30, 'temperature': 26, 'time': 600, 'control_pce': 21.1, 'treated_pce': 23.04, 'control_voc': 1.128, 'treated_voc': 1.17, 'efficiency_cont': 0.89, 'efficiency_tret': 0.97}}\n",
      "{'perovskite_composition': 'FAPbI 3', 'electron_transport_layer': 'Tin dioxide', 'hole_transport_layer': 'Spiro-OMeTAD', 'structure_pin_nip': 'NIP', 'test_1': {'stability_type': 'ISOSD', 'passivating_molecule': 'carbazole-triphenylamine and phenylammonium iodide units', 'humidity': 85.0, 'temperature': 85.0, 'time': 1000.0, 'control_pce': 22.3, 'treated_pce': 24.7, 'control_voc': 1.11, 'treated_voc': 1.16, 'efficiency_cont': 0, 'efficiency_tret': 92.3}, 'test_2': {'stability_type': 'ISOSLT', 'passivating_molecule': 'carbazole-triphenylamine and phenylammonium iodide units', 'humidity': 0, 'temperature': 0, 'time': 1100.0, 'control_pce': 22.3, 'treated_pce': 24.7, 'control_voc': 1.11, 'treated_voc': 1.16, 'efficiency_cont': 66.6, 'efficiency_tret': 94.6}}\n",
      "{'perovskite_composition': 'FAPbI3', 'electron_transport_layer': 'Spiro-OMeTAD', 'hole_transport_layer': 'P3HT', 'structure_pin_nip': 'NIP', 'test_1': {'stability_type': 'ISOS-L', 'humidity': 85, 'temperature': 85, 'time': None, 'passivating_molecule': 'CBz-PAI', 'control_pce': 22.3, 'treated_pce': 24.7, 'control_voc': 1.112, 'treated_voc': 1.161, 'efficiency_cont': 66.6, 'efficiency_tret': 94.6}}\n",
      "{'perovskite_composition': 'Cs0.05FA0.85MA0.10Pb(I0.97Br0.03)3', 'electron_transport_layer': 'Titanium dioxide', 'hole_transport_layer': 'Spiro-OMeTAD', 'structure_pin_nip': 'NIP', 'test_1': {'stability_type': 'ISOSLT', 'passivating_molecule': 'phenylethylammonium iodide', 'humidity': '50-70', 'temperature': 0, 'time': 500.0, 'control_pce': 21.2, 'treated_pce': 22.7, 'control_voc': 1.09, 'treated_voc': 1.12, 'efficiency_cont': 70.0, 'efficiency_tret': 84.0}, 'test_1_2': {'stability_type': 'ISOSLT', 'passivating_molecule': '4-tert-butyl-benzylammonium iodide', 'humidity': '50-70', 'temperature': 0, 'time': 500.0, 'control_pce': 21.2, 'treated_pce': 23.5, 'control_voc': 1.09, 'treated_voc': 1.14, 'efficiency_cont': 70.0, 'efficiency_tret': 95.0}}\n",
      "{'perovskite_composition': 'Cs0.05 FA0.85 MA0.10 Pb(I0.97 Br0.03)3 with 5% excess of PbI2', 'electron_transport_layer': 'TiO2', 'hole_transport_layer': 'Spiro-OMeTAD', 'structure_pin_nip': 'PIN', 'test_1': {'stability_type': 'ISOS-LT', 'passivating_molecule': '4-tert-butyl-benzylammonium iodide', 'humidity': 50, 'temperature': 25, 'time': 500, 'control_pce': 24.01, 'treated_pce': 25.11, 'control_voc': 1.086, 'treated_voc': 1.142, 'efficiency_cont': None, 'efficiency_tret': 95.0}}\n",
      "{'perovskite_composition': 'FA0.7MA0.3Pb0.5Sn0.5I3', 'electron_transport_layer': 'C60', 'hole_transport_layer': None, 'structure_pin_nip': None, 'test_1': {'stability_type': 'ISOSLT', 'passivating_molecule': '4 phenylammonium chloride', 'humidity': '30-50', 'temperature': 35.0, 'time': 600.0, 'control_pce': 24.3, 'treated_pce': 26.4, 'control_voc': 0, 'treated_voc': 0, 'efficiency_cont': 0, 'efficiency_tret': 90.0}}\n",
      "{'perovskite_composition': 'FA0.8Cs0.2Pb0.5Sn0.5I3', 'electron_transport_layer': 'C60', 'hole_transport_layer': 'VNPB', 'structure_pin_nip': 'PIN', 'test_1': {'stability_type': 'ISOS-L', 'passivating_molecule': '4-trifluoromethyl-phenylammonium', 'humidity': 30, 'temperature': 25, 'time': None, 'control_pce': 24.3, 'treated_pce': 25.6, 'control_voc': 1.08, 'treated_voc': 2.03, 'efficiency_cont': 0.9, 'efficiency_tret': 0.96}}\n"
     ]
    }
   ],
   "source": [
    "for row in evaluate_df_train.itertuples():\n",
    "    label_value = row.annotation\n",
    "    extracted_value = row.extracted\n",
    "\n",
    "    print(label_value)\n",
    "    print(extracted_value)"
   ]
  },
  {
   "cell_type": "code",
   "execution_count": 152,
   "metadata": {},
   "outputs": [
    {
     "ename": "NameError",
     "evalue": "name 'evaluate_df' is not defined",
     "output_type": "error",
     "traceback": [
      "\u001b[1;31m---------------------------------------------------------------------------\u001b[0m",
      "\u001b[1;31mNameError\u001b[0m                                 Traceback (most recent call last)",
      "Cell \u001b[1;32mIn[152], line 1\u001b[0m\n\u001b[1;32m----> 1\u001b[0m \u001b[43mevaluate_df\u001b[49m[\u001b[38;5;124m\"\u001b[39m\u001b[38;5;124mannotation\u001b[39m\u001b[38;5;124m\"\u001b[39m][\u001b[38;5;241m6\u001b[39m]\n",
      "\u001b[1;31mNameError\u001b[0m: name 'evaluate_df' is not defined"
     ]
    }
   ],
   "source": [
    "evaluate_df[\"annotation\"][6]"
   ]
  },
  {
   "cell_type": "code",
   "execution_count": 153,
   "metadata": {},
   "outputs": [
    {
     "ename": "NameError",
     "evalue": "name 'evaluate_df' is not defined",
     "output_type": "error",
     "traceback": [
      "\u001b[1;31m---------------------------------------------------------------------------\u001b[0m",
      "\u001b[1;31mNameError\u001b[0m                                 Traceback (most recent call last)",
      "Cell \u001b[1;32mIn[153], line 1\u001b[0m\n\u001b[1;32m----> 1\u001b[0m \u001b[43mevaluate_df\u001b[49m[\u001b[38;5;124m\"\u001b[39m\u001b[38;5;124mextracted\u001b[39m\u001b[38;5;124m\"\u001b[39m][\u001b[38;5;241m1\u001b[39m]\n",
      "\u001b[1;31mNameError\u001b[0m: name 'evaluate_df' is not defined"
     ]
    }
   ],
   "source": [
    "evaluate_df[\"extracted\"][1]"
   ]
  },
  {
   "cell_type": "markdown",
   "metadata": {},
   "source": [
    "## Evaluation\n",
    "\n",
    "- We need precision and recall for EACH variable\n",
    "- For each variable, calculate the F1 score - There is F1 score for each variable\n",
    "- Take a weighted average ***For now, just take the average."
   ]
  },
  {
   "cell_type": "code",
   "execution_count": 154,
   "metadata": {},
   "outputs": [],
   "source": [
    "def tests_comparison(stability_annotated, label_dict, stability_extracted, extract_dict):\n",
    "    # print(stability_annotated, label_dict, stability_extracted, extract_dict)\n",
    "    stability_entity_annotated = ['stability_type', 'passivating_molecule', 'temperature', 'time', 'humidity', 'efficiency_cont', 'efficiency_tret', 'control_pce', 'treated_pce', 'control_voc', 'treated_voc']\n",
    "    stability_entity_extracted = ['test_name', 'passivating_molecule', 'temperature', 'time', 'humidity', 'control_efficiency', 'treatment_efficiency', 'control_pce', 'treated_pce', 'control_voc', 'treated_voc']\n",
    "    \n",
    "    # print(f\"stability_annotated{stability_annotated}\")\n",
    "    # print(f\"label_dict{label_dict}\")\n",
    "    # print(f\"stability_extracted{stability_extracted}\")\n",
    "    # print(f\"extract_dict{extract_dict}\")\n",
    "\n",
    "\n",
    "\n",
    "    compared_metric = []\n",
    "    numeric_data_annotated = []\n",
    "    numeric_data_extracted = []\n",
    "    for entity_i in range(len(stability_entity_annotated)):\n",
    "        if entity_i <= 1:\n",
    "            if stability_entity_extracted[entity_i] not in extract_dict.keys():\n",
    "                extract_dict[stability_entity_extracted[entity_i]] = None\n",
    "\n",
    "            if (label_dict[stability_entity_annotated[entity_i]] == None) | (extract_dict[stability_entity_extracted[entity_i]] == None):\n",
    "                compared_metric.append(None)\n",
    "            else:\n",
    "                ##Text entity, perform Sequence Matcher \n",
    "                compared = SequenceMatcher(None, label_dict[stability_entity_annotated[entity_i]], extract_dict[stability_entity_extracted[entity_i]]).ratio()\n",
    "                # print(compared)\n",
    "                if entity_i == 0:\n",
    "                    if compared > 0.9:\n",
    "                        compared_metric.append(1)\n",
    "                    else:\n",
    "                        compared_metric.append(0)\n",
    "                else:\n",
    "                    compared_metric.append(compared)\n",
    "        else:\n",
    "            if stability_entity_extracted[entity_i] not in extract_dict.keys():\n",
    "                extract_dict[stability_entity_extracted[entity_i]] = 0\n",
    "            elif extract_dict[stability_entity_extracted[entity_i]] == None:\n",
    "                extract_dict[stability_entity_extracted[entity_i]] = 0\n",
    "\n",
    "            if stability_entity_annotated[entity_i] not in label_dict.keys():\n",
    "                label_dict[stability_entity_annotated[entity_i]] = 0\n",
    "            elif label_dict[stability_entity_annotated[entity_i]] == None:\n",
    "                label_dict[stability_entity_annotated[entity_i]] = 0\n",
    "\n",
    "                \n",
    "            numeric_data_annotated.append(label_dict[stability_entity_annotated[entity_i]])\n",
    "            numeric_data_extracted.append(extract_dict[stability_entity_extracted[entity_i]])\n",
    "\n",
    "    if isinstance(numeric_data_extracted[0], list):\n",
    "        ##There was one column with two temperature recorded as a list (probably thermal cycling)\n",
    "        numeric_data_extracted[0] = numeric_data_extracted[0][1]\n",
    "\n",
    "    # print(numeric_data_annotated, numeric_data_extracted)\n",
    "\n",
    "    numeric_annotated_clean = []\n",
    "    numeric_extracted_clean = []\n",
    "    ##Clean the numeric data to skip any strings\n",
    "    for i in range(len(numeric_data_annotated)):\n",
    "        if (type(numeric_data_annotated[i]) == str) | (type(numeric_data_extracted[i]) == str):\n",
    "            continue\n",
    "        else:\n",
    "            numeric_annotated_clean.append(numeric_data_annotated[i])\n",
    "            numeric_extracted_clean.append(numeric_data_extracted[i])\n",
    "\n",
    "    cos_sim = cosine_similarity([numeric_annotated_clean], [numeric_extracted_clean])\n",
    "    compared_metric.append(cos_sim[0][0])\n",
    "    \n",
    "    return compared_metric    "
   ]
  },
  {
   "cell_type": "code",
   "execution_count": 155,
   "metadata": {},
   "outputs": [],
   "source": [
    "def entity_comparison(entity, label, extracted_dict, text_similarity_threshold = 0.75, numerical_tolerance = 0.027):\n",
    "    '''\n",
    "    The tolarance of 2.7% was what was reasonable looking at the absolute difference\n",
    "    treated_voc 1.18, 1.149, absolute difference 0.026271186440677895\n",
    "\n",
    "    The text similarity were set to 75% due to the structure example\n",
    "    FP, NIP, n-i-p, 0.75\n",
    "    This should be positive\n",
    "    \n",
    "    '''\n",
    "    text_entity = ['stability_type', 'passivating_molecule']\n",
    "    numerical_entity = ['time', 'efficiency_cont', 'efficiency_tret', 'control_pce', 'treated_pce', 'control_voc', 'treated_voc']\n",
    "    numerical_exception = ['temperature', 'humidity']\n",
    "\n",
    "    if entity in text_entity:\n",
    "        key_to_check = \"test_name\" if entity == \"stability_type\" else entity\n",
    "\n",
    "        # If the key is missing in the extracted annotation, return False Negative\n",
    "        if (label[entity]!=None) & (extracted_dict[key_to_check]==None):\n",
    "            # print(f\"FN, {label_annotation[id]}, {extraction_annotation[key_to_check]}\")\n",
    "            return \"FN\"\n",
    "        elif (label[entity]==None) & (extracted_dict[key_to_check]!=None):\n",
    "            # print(f\"TN, {label_annotation[id]}, {extraction_annotation[key_to_check]}\")\n",
    "            return \"TN\"\n",
    "\n",
    "        label_data = label.get(entity, \"\")\n",
    "        extract_data = extracted_dict.get(key_to_check, \"\")\n",
    "\n",
    "        # Convert lists to strings if necessary\n",
    "        if isinstance(label_data, list):\n",
    "            label_data = \" \".join(map(str, label_data))  # Convert list to string\n",
    "        if isinstance(extract_data, list):\n",
    "            extract_data = \" \".join(map(str, extract_data))  # Convert list to string\n",
    "\n",
    "        # Ensure values are strings\n",
    "        if not isinstance(label_data, str) or not isinstance(extract_data, str):\n",
    "            # print(f\"FP, {label_annotation[id]}, {extraction_annotation[key_to_check]}\")\n",
    "            return \"FP\"  # If data is still not a string, return False Positive\n",
    "\n",
    "        # Compute similarity score\n",
    "        similarity = SequenceMatcher(None, label_data.lower(), extract_data.lower()).ratio()\n",
    "\n",
    "        if similarity > text_similarity_threshold:\n",
    "            # print(f\"TP,{entity} {label_data}, {extract_data}\")\n",
    "            return 'TP'\n",
    "        else:\n",
    "            # print(f\"FP,{entity} {label_data}, {extract_data}, {similarity}\")\n",
    "            return \"FP\"\n",
    "    elif entity in numerical_entity:\n",
    "        # key_to_check = \"control_efficiency\" if entity == \"efficiency_cont\" else (\"treatment_efficiency\" if entity == \"efficiency_tret\" else entity)\n",
    "\n",
    "        # print(f\"annotated{label[entity]}\")\n",
    "        # print(f\"extracted{extracted_dict[entity]}\")\n",
    "        if extracted_dict[entity] == None:\n",
    "            extracted_dict[entity] = 0\n",
    "\n",
    "        # If the key is missing in the extracted annotation, return False Negative\n",
    "        if (label[entity]!=0) & ((extracted_dict[entity]==0) | (entity not in extracted_dict.keys())):\n",
    "            # print(f\"FN, {label_annotation[id]}, {extraction_annotation[entity]}\")\n",
    "            return \"FN\"\n",
    "        elif (label[entity]==0) & (extracted_dict[entity]!=0):\n",
    "            # print(f\"TN, {label_annotation[id]}, {extraction_annotation[entity]}\")\n",
    "            return \"TN\"\n",
    "        elif (label[entity]==0) & (extracted_dict[entity]==0):\n",
    "            # print(f\"TN, {label_annotation[id]}, {extraction_annotation[entity]}\")\n",
    "            return \"TN\"\n",
    "\n",
    "\n",
    "        if isinstance(extracted_dict[entity], list):\n",
    "            ##There was one column with two temperature recorded as a list (probably thermal cycling)\n",
    "            extracted_dict[entity] = extracted_dict[entity][1]\n",
    "\n",
    "        # Apply numerical tolerance check\n",
    "        if (abs(label[entity] - extracted_dict[entity])) / (abs(label[entity]) )<= numerical_tolerance:\n",
    "\n",
    "            # print(f\"Numerical differences matched: {entity} {label[entity]}, {extracted_dict[entity]}, absolute difference {(abs(label[entity] - extracted_dict[entity])) / (abs(label[entity]) )}\")\n",
    "            return \"TP\"  # True Positive: Correct numerical extraction\n",
    "        else:\n",
    "\n",
    "            # print(f\"Numerical differences no match: {entity}, {label[entity]}, {extracted_dict[entity]}, absolute difference {(abs(label[entity] - extracted_dict[entity])) / (abs(label[entity]) )}\")\n",
    "            return \"FP\"  # False Positive: Incorrect numerical extraction    \n",
    "    else: \n",
    "        if isinstance(label[entity], (float, int)):\n",
    "            if extracted_dict[entity] == None:\n",
    "                extracted_dict[entity] = 0\n",
    "\n",
    "            # If the key is missing in the extracted annotation, return False Negative\n",
    "            if (label[entity]!=0) & ((extracted_dict[entity]==0) | (entity not in extracted_dict.keys())):\n",
    "                # print(f\"FN, {label_annotation[id]}, {extraction_annotation[entity]}\")\n",
    "                return \"FN\"\n",
    "            elif (label[entity]==0) & (extracted_dict[entity]!=0):\n",
    "                # print(f\"TN, {label_annotation[id]}, {extraction_annotation[entity]}\")\n",
    "                return \"TN\"\n",
    "            elif (label[entity]==0) & (extracted_dict[entity]==0):\n",
    "                # print(f\"TN, {label_annotation[id]}, {extraction_annotation[entity]}\")\n",
    "                return \"TN\"\n",
    "\n",
    "\n",
    "            if isinstance(extracted_dict[entity], list):\n",
    "                ##There was one column with two temperature recorded as a list (probably thermal cycling)\n",
    "                extracted_dict[entity] = extracted_dict[entity][1]\n",
    "\n",
    "            # Apply numerical tolerance check\n",
    "            if (abs(label[entity] - extracted_dict[entity])) / (abs(label[entity]) )<= numerical_tolerance:\n",
    "\n",
    "                # print(f\"Numerical differences matched: {entity} {label[entity]}, {extracted_dict[entity]}, absolute difference {(abs(label[entity] - extracted_dict[entity])) / (abs(label[entity]) )}\")\n",
    "                return \"TP\"  # True Positive: Correct numerical extraction\n",
    "            else:\n",
    "\n",
    "                # print(f\"Numerical differences no match: {entity}, {label[entity]}, {extracted_dict[entity]}, absolute difference {(abs(label[entity] - extracted_dict[entity])) / (abs(label[entity]) )}\")\n",
    "                return \"FP\"  # False Positive: Incorrect numerical extraction    \n",
    "        else:\n",
    "            # print(label[entity], type(label[entity]))\n",
    "            if extracted_dict[entity] == None:\n",
    "                extracted_dict[entity] = 0\n",
    "            \n",
    "            if ((extracted_dict[entity]==0) | (entity not in extracted_dict.keys())):\n",
    "                # print(f\"FN, {label_annotation[id]}, {extraction_annotation[entity]}\")\n",
    "                return \"FN\"\n",
    "\n",
    "            if isinstance(extracted_dict[entity], list):\n",
    "                ##There was one column with two temperature recorded as a list (probably thermal cycling)\n",
    "                extracted_dict[entity] = extracted_dict[entity][1]\n",
    "            \n",
    "            if isinstance(extracted_dict[entity], str):\n",
    "                ##Label is str, extraction is str, so perform text similarity\n",
    "                similarity = SequenceMatcher(None, label[entity].lower(), extracted_dict[entity].lower()).ratio()\n",
    "                if similarity > text_similarity_threshold:\n",
    "                    # print(f\"TP, {label_data}, {extract_data}, {similarity}\")\n",
    "                    return 'TP'\n",
    "                else:\n",
    "                    # print(f\"FP, {label_data}, {extract_data}, {similarity}\")\n",
    "                    return \"FP\"\n",
    "            else:\n",
    "                if \"+\" in label[entity]:\n",
    "                    # print(label[entity].split(\"+-\"))\n",
    "                    value = float(label[entity].split(\"+-\")[0])\n",
    "                    margin_error = float(label[entity].split(\"+-\")[1])\n",
    "                    range = (value-margin_error, value-margin_error)\n",
    "                    if (range[0]<= extracted_dict[entity]) & (extracted_dict[entity]<=range[1]):\n",
    "                        # print(f\"TP, {label_data}, {extract_data}, {similarity}\")\n",
    "                        return 'TP'\n",
    "                    else:\n",
    "                        # print(f\"FP, {label_data}, {extract_data}, {similarity}\")\n",
    "                        return \"FP\"\n",
    "                else:\n",
    "                    lower = float(label[entity].split(\"-\")[0])\n",
    "                    upper = float(label[entity].split(\"-\")[1])\n",
    "                    if (lower<= extracted_dict[entity]) & (extracted_dict[entity]<=upper):\n",
    "                        # print(f\"TP, {label_data}, {extract_data}, {similarity}\")\n",
    "                        return 'TP'\n",
    "                    else:\n",
    "                        # print(f\"FP, {label_data}, {extract_data}, {similarity}\")\n",
    "                        return \"FP\"\n"
   ]
  },
  {
   "cell_type": "code",
   "execution_count": 156,
   "metadata": {},
   "outputs": [],
   "source": [
    "def safe_division(numerator, denominator):\n",
    "    \"\"\"Returns division result, or 0 if the denominator is zero.\"\"\"\n",
    "    return numerator / denominator if denominator != 0 else 0"
   ]
  },
  {
   "cell_type": "code",
   "execution_count": 157,
   "metadata": {},
   "outputs": [],
   "source": [
    "def text_comparison(id, label_annotation, extraction_annotation, text_similarity_threshold=0.8):\n",
    "    \"\"\"Compares text values using string similarity matching.\n",
    "    - THE 4 basic variable that is to compare is PEROVSKITE COMPOSITION, ETL, HTL, STRUCTURE\n",
    "    \"\"\"\n",
    "\n",
    "    # Handle special case for structure_pin_nip\n",
    "    # key_to_check = \"pin_nip_structure\" if id == \"structure_pin_nip\" else id\n",
    "\n",
    "    # If the key is missing in the extracted annotation, return False Negative\n",
    "    if (label_annotation[id]!=None) & (extraction_annotation[id]==None):\n",
    "        # print(f\"FN, {label_annotation[id]}, {extraction_annotation[key_to_check]}\")\n",
    "        return \"FN\"\n",
    "    elif (label_annotation[id]==None) & (extraction_annotation[id]!=None):\n",
    "        # print(f\"TN, {label_annotation[id]}, {extraction_annotation[key_to_check]}\")\n",
    "        return \"TN\"\n",
    "\n",
    "    label_data = label_annotation.get(id, \"\")\n",
    "    if id == 'electron_transport_layer' and label_data == \"buckminsterfullerene\":\n",
    "        label_data = 'C60'\n",
    "    extract_data = extraction_annotation.get(id, \"\")\n",
    "\n",
    "    # Convert lists to strings if necessary\n",
    "    if isinstance(label_data, list):\n",
    "        label_data = \" \".join(map(str, label_data))  # Convert list to string\n",
    "    if isinstance(extract_data, list):\n",
    "        extract_data = \" \".join(map(str, extract_data))  # Convert list to string\n",
    "\n",
    "    # Ensure values are strings\n",
    "    if not isinstance(label_data, str) or not isinstance(extract_data, str):\n",
    "        # print(f\"FP, {label_annotation[id]}, {extraction_annotation[id]}\")\n",
    "        return \"FP\"  # If data is still not a string, return False Positive\n",
    "\n",
    "    # Compute similarity score\n",
    "    similarity = SequenceMatcher(None, label_data.lower(), extract_data.lower()).ratio()\n",
    "\n",
    "    if similarity > text_similarity_threshold:\n",
    "        # print(f\"TP, {label_data}, {extract_data}, {similarity}\")\n",
    "        return 'TP'\n",
    "    else:\n",
    "        # print(f\"FP, {label_data}, {extract_data}, {similarity}\")\n",
    "        return \"FP\"\n"
   ]
  },
  {
   "cell_type": "code",
   "execution_count": 158,
   "metadata": {},
   "outputs": [],
   "source": [
    "def compare_json(df):\n",
    "    \"\"\"\n",
    "    Compare labeled and extracted JSON data for correctness.\n",
    "\n",
    "    TP: Correct value extracted by LLM.\n",
    "    FN: LLM didn't extract this variable.\n",
    "    FP: LLM extracted a value, but it was incorrect.\n",
    "    TN: LLM halucinated and returned value that was not extracted\n",
    "    \"\"\"\n",
    "    \n",
    "    text_variables = ['perovskite_composition', 'electron_transport_layer', 'hole_transport_layer', 'structure_pin_nip']\n",
    "\n",
    "    \n",
    "    stability_entity_annotated = ['stability_type', 'temperature', 'time', 'humidity', 'passivating_molecule', 'efficiency_cont', 'efficiency_tret', 'control_pce', 'treated_pce', 'control_voc', 'treated_voc']\n",
    "    stability_entity_extracted = ['test_name', 'temperature', 'time', 'humidity', 'passivating_molecule','control_efficiency', 'treatment_efficiency', 'control_pce', 'treated_pce', 'control_voc', 'treated_voc']\n",
    "    \n",
    "    # Initialize comparison dictionaries\n",
    "    text_dict = {var: {\"TP\": 0, \"FP\": 0, \"FN\": 0, \"TN\": 0} for var in text_variables}\n",
    "    stability_dict = {var: {\"TP\": 0, \"FP\": 0, \"FN\": 0, \"TN\": 0} for var in stability_entity_annotated}\n",
    "\n",
    "    for row in df.itertuples():       \n",
    "        label_value = row.annotation\n",
    "        extracted_value = row.extracted\n",
    "\n",
    "        # print(label_value)\n",
    "        # print(extracted_value)\n",
    "\n",
    "        for id, label in label_value.items():\n",
    "            if ('test' in id) and (isinstance(label_value[id], dict)):\n",
    "                ##Plan for stability test evaluation\n",
    "                '''\n",
    "                For each stability condition in annotation, \n",
    "                    Pair them with stability condition in extracted\n",
    "                        With stability of annotation and extraction, use function tests_comparison that returns how similar 2 stabilities are\n",
    "                    \n",
    "                Once all the pair is calculated, find the stability name of extraction that was closest to annotation stability. \n",
    "\n",
    "                Using this dictionary, we will increment FN, FP, TN, TP for each element of the entity.\n",
    "                '''\n",
    "                matched = 0\n",
    "                stability_match = {}\n",
    "                for extract_id, extract_label in extracted_value.items():\n",
    "                    if ('test' in extract_id) and (isinstance(extracted_value[extract_id], dict)):\n",
    "                        matched += 1\n",
    "                        match_list = tests_comparison(id, label, extract_id, extract_label)\n",
    "                        match_list = [0 if item is None else item for item in match_list]\n",
    "                        # print(extracted_value[extract_id])\n",
    "                        # print(match_list)\n",
    "                        stability_match[extract_id] = match_list\n",
    "        \n",
    "                if matched == 0:\n",
    "                    #No stability were extracted, we will add stability_unmatched\n",
    "                        ##We need to account for if there was NO stability extracted. \n",
    "                    for key in stability_dict:\n",
    "                        if 'FN' in stability_dict[key]:\n",
    "                            stability_dict[key]['FN'] += 1\n",
    "                else:\n",
    "                    stability_match_mean = {stability: np.mean(lis) for stability, lis in stability_match.items()}\n",
    "                    max_key = max(stability_match_mean, key=stability_match_mean.get)  \n",
    "                    # print(extracted_value[max_key])\n",
    "                    ##Now, I need to compare each entity in that found max_key and fill in that FN, dictionary.\n",
    "                    for entity in label_value[id].keys():\n",
    "                        if entity == 'efficiency_control':\n",
    "                            continue\n",
    "                        if entity == 'perovskite_molecule':\n",
    "                            continue\n",
    "                        entity_result = entity_comparison(entity, label, extracted_value[max_key])\n",
    "                        stability_dict[entity][entity_result] += 1  \n",
    "            else:  \n",
    "                result = text_comparison(id, label_value, extracted_value)\n",
    "                text_dict[id][result] += 1\n",
    "\n",
    "\n",
    "    # Merge all results\n",
    "    combined_dict = {**text_dict, **stability_dict}\n",
    "    # print(\"Performance for each variable in dictionary:\", combined_dict)\n",
    "\n",
    "    # Compute precision, recall, and F1-score\n",
    "    variable_list, precision_list, recall_list, f1_list = [], [], [], []\n",
    "    for variable, performance in combined_dict.items():\n",
    "        TP, FP, FN = performance[\"TP\"], performance[\"FP\"], performance[\"FN\"]\n",
    "        \n",
    "        precision = safe_division(TP, TP + FP)\n",
    "        recall = safe_division(TP, TP + FN)\n",
    "        f1 = safe_division(2 * precision * recall, precision + recall)\n",
    "\n",
    "        variable_list.append(variable)\n",
    "        precision_list.append(precision)\n",
    "        recall_list.append(recall)\n",
    "        f1_list.append(f1)\n",
    "\n",
    "    return combined_dict, variable_list, precision_list, recall_list, f1_list"
   ]
  },
  {
   "cell_type": "code",
   "execution_count": 159,
   "metadata": {},
   "outputs": [],
   "source": [
    "dict_result_base, variables_base, precisions_base, recalls_base, f1s_base = compare_json(evaluate_df_base)"
   ]
  },
  {
   "cell_type": "code",
   "execution_count": 160,
   "metadata": {},
   "outputs": [],
   "source": [
    "dict_result_train, variables_train, precisions_train, recalls_train, f1s_train = compare_json(evaluate_df_train)"
   ]
  },
  {
   "cell_type": "code",
   "execution_count": 161,
   "metadata": {},
   "outputs": [
    {
     "data": {
      "text/plain": [
       "{'perovskite_composition': {'TP': 42, 'FP': 50, 'FN': 9, 'TN': 25},\n",
       " 'electron_transport_layer': {'TP': 20, 'FP': 63, 'FN': 1, 'TN': 42},\n",
       " 'hole_transport_layer': {'TP': 41, 'FP': 45, 'FN': 2, 'TN': 38},\n",
       " 'structure_pin_nip': {'TP': 27, 'FP': 56, 'FN': 10, 'TN': 33},\n",
       " 'stability_type': {'TP': 0, 'FP': 48, 'FN': 166, 'TN': 0},\n",
       " 'temperature': {'TP': 52, 'FP': 48, 'FN': 0, 'TN': 114},\n",
       " 'time': {'TP': 44, 'FP': 57, 'FN': 66, 'TN': 47},\n",
       " 'humidity': {'TP': 30, 'FP': 16, 'FN': 29, 'TN': 139},\n",
       " 'passivating_molecule': {'TP': 37, 'FP': 94, 'FN': 5, 'TN': 78},\n",
       " 'efficiency_cont': {'TP': 7, 'FP': 58, 'FN': 29, 'TN': 120},\n",
       " 'efficiency_tret': {'TP': 30, 'FP': 143, 'FN': 2, 'TN': 39},\n",
       " 'control_pce': {'TP': 38, 'FP': 52, 'FN': 6, 'TN': 118},\n",
       " 'treated_pce': {'TP': 71, 'FP': 80, 'FN': 2, 'TN': 61},\n",
       " 'control_voc': {'TP': 44, 'FP': 10, 'FN': 7, 'TN': 153},\n",
       " 'treated_voc': {'TP': 65, 'FP': 23, 'FN': 4, 'TN': 122}}"
      ]
     },
     "execution_count": 161,
     "metadata": {},
     "output_type": "execute_result"
    }
   ],
   "source": [
    "dict_result_train"
   ]
  },
  {
   "cell_type": "markdown",
   "metadata": {},
   "source": [
    "## Calculate Macro f1 score"
   ]
  },
  {
   "cell_type": "code",
   "execution_count": 162,
   "metadata": {},
   "outputs": [],
   "source": [
    "def macro_f1(f1_list, weight = None):\n",
    "    if weight == None:\n",
    "        #If no weight given, do unweighted average of f1 score\n",
    "        return sum(f1_list) / len(f1_list)\n",
    "    total_f1 = 0\n",
    "    for i in range(len(f1_list)):\n",
    "        total_f1 += (f1_list[i] * weight[i])\n",
    "    return total_f1 / sum(weight)\n",
    "    \n"
   ]
  },
  {
   "cell_type": "code",
   "execution_count": 163,
   "metadata": {},
   "outputs": [
    {
     "data": {
      "text/html": [
       "<div>\n",
       "<style scoped>\n",
       "    .dataframe tbody tr th:only-of-type {\n",
       "        vertical-align: middle;\n",
       "    }\n",
       "\n",
       "    .dataframe tbody tr th {\n",
       "        vertical-align: top;\n",
       "    }\n",
       "\n",
       "    .dataframe thead th {\n",
       "        text-align: right;\n",
       "    }\n",
       "</style>\n",
       "<table border=\"1\" class=\"dataframe\">\n",
       "  <thead>\n",
       "    <tr style=\"text-align: right;\">\n",
       "      <th></th>\n",
       "      <th>Macro F1 score weight distribution</th>\n",
       "      <th>Base Deepseek 8bit</th>\n",
       "      <th>Fine-Tuned Deepseek 4 bit</th>\n",
       "      <th>Fine-Tuned Deepseek 8 bit</th>\n",
       "      <th>Llama 3 billion parameter</th>\n",
       "    </tr>\n",
       "  </thead>\n",
       "  <tbody>\n",
       "    <tr>\n",
       "      <th>0</th>\n",
       "      <td>NaN</td>\n",
       "      <td>NaN</td>\n",
       "      <td>NaN</td>\n",
       "      <td>NaN</td>\n",
       "      <td>NaN</td>\n",
       "    </tr>\n",
       "    <tr>\n",
       "      <th>1</th>\n",
       "      <td>NaN</td>\n",
       "      <td>NaN</td>\n",
       "      <td>NaN</td>\n",
       "      <td>NaN</td>\n",
       "      <td>NaN</td>\n",
       "    </tr>\n",
       "    <tr>\n",
       "      <th>2</th>\n",
       "      <td>NaN</td>\n",
       "      <td>NaN</td>\n",
       "      <td>NaN</td>\n",
       "      <td>NaN</td>\n",
       "      <td>NaN</td>\n",
       "    </tr>\n",
       "    <tr>\n",
       "      <th>3</th>\n",
       "      <td>NaN</td>\n",
       "      <td>NaN</td>\n",
       "      <td>NaN</td>\n",
       "      <td>NaN</td>\n",
       "      <td>NaN</td>\n",
       "    </tr>\n",
       "    <tr>\n",
       "      <th>4</th>\n",
       "      <td>NaN</td>\n",
       "      <td>NaN</td>\n",
       "      <td>NaN</td>\n",
       "      <td>NaN</td>\n",
       "      <td>NaN</td>\n",
       "    </tr>\n",
       "    <tr>\n",
       "      <th>5</th>\n",
       "      <td>NaN</td>\n",
       "      <td>NaN</td>\n",
       "      <td>NaN</td>\n",
       "      <td>NaN</td>\n",
       "      <td>NaN</td>\n",
       "    </tr>\n",
       "    <tr>\n",
       "      <th>6</th>\n",
       "      <td>NaN</td>\n",
       "      <td>NaN</td>\n",
       "      <td>NaN</td>\n",
       "      <td>NaN</td>\n",
       "      <td>NaN</td>\n",
       "    </tr>\n",
       "  </tbody>\n",
       "</table>\n",
       "</div>"
      ],
      "text/plain": [
       "   Macro F1 score weight distribution  Base Deepseek 8bit  \\\n",
       "0                                 NaN                 NaN   \n",
       "1                                 NaN                 NaN   \n",
       "2                                 NaN                 NaN   \n",
       "3                                 NaN                 NaN   \n",
       "4                                 NaN                 NaN   \n",
       "5                                 NaN                 NaN   \n",
       "6                                 NaN                 NaN   \n",
       "\n",
       "   Fine-Tuned Deepseek 4 bit  Fine-Tuned Deepseek 8 bit  \\\n",
       "0                        NaN                        NaN   \n",
       "1                        NaN                        NaN   \n",
       "2                        NaN                        NaN   \n",
       "3                        NaN                        NaN   \n",
       "4                        NaN                        NaN   \n",
       "5                        NaN                        NaN   \n",
       "6                        NaN                        NaN   \n",
       "\n",
       "   Llama 3 billion parameter  \n",
       "0                        NaN  \n",
       "1                        NaN  \n",
       "2                        NaN  \n",
       "3                        NaN  \n",
       "4                        NaN  \n",
       "5                        NaN  \n",
       "6                        NaN  "
      ]
     },
     "execution_count": 163,
     "metadata": {},
     "output_type": "execute_result"
    }
   ],
   "source": [
    "# Define column names\n",
    "columns = ['Macro F1 score weight distribution', 'Base Deepseek 8bit', 'Fine-Tuned Deepseek 4 bit', 'Fine-Tuned Deepseek 8 bit', 'Llama 3 billion parameter']\n",
    "\n",
    "# Create a DataFrame with NaN values\n",
    "df_f1scores = pd.DataFrame(np.nan, index=[0, 1, 2, 3, 4, 5, 6], columns=columns)\n",
    "df_f1scores"
   ]
  },
  {
   "cell_type": "code",
   "execution_count": 164,
   "metadata": {},
   "outputs": [
    {
     "data": {
      "text/plain": [
       "0.49710956767773384"
      ]
     },
     "execution_count": 164,
     "metadata": {},
     "output_type": "execute_result"
    }
   ],
   "source": [
    "## Unweighted\n",
    "macro_train_0 = macro_f1(f1s_train)\n",
    "macro_train_0\n"
   ]
  },
  {
   "cell_type": "code",
   "execution_count": 165,
   "metadata": {},
   "outputs": [
    {
     "data": {
      "text/plain": [
       "0.4596853305153966"
      ]
     },
     "execution_count": 165,
     "metadata": {},
     "output_type": "execute_result"
    }
   ],
   "source": [
    "macro_base_0 = macro_f1(f1s_base)\n",
    "macro_base_0"
   ]
  },
  {
   "cell_type": "code",
   "execution_count": 166,
   "metadata": {},
   "outputs": [],
   "source": [
    "## unweighted row value\n",
    "unweighted = ['Macro F1 score with equal weight', macro_base_0, macro_train_0, None, None]\n",
    "df_f1scores.loc[0] = unweighted\n"
   ]
  },
  {
   "cell_type": "code",
   "execution_count": 167,
   "metadata": {},
   "outputs": [
    {
     "data": {
      "text/plain": [
       "['perovskite_composition',\n",
       " 'electron_transport_layer',\n",
       " 'hole_transport_layer',\n",
       " 'structure_pin_nip',\n",
       " 'stability_type',\n",
       " 'temperature',\n",
       " 'time',\n",
       " 'humidity',\n",
       " 'passivating_molecule',\n",
       " 'efficiency_cont',\n",
       " 'efficiency_tret',\n",
       " 'control_pce',\n",
       " 'treated_pce',\n",
       " 'control_voc',\n",
       " 'treated_voc']"
      ]
     },
     "execution_count": 167,
     "metadata": {},
     "output_type": "execute_result"
    }
   ],
   "source": [
    "variables_train"
   ]
  },
  {
   "cell_type": "code",
   "execution_count": 168,
   "metadata": {},
   "outputs": [],
   "source": [
    "weights_1 = [1, 1, 1, 1, 2, 2, 2, 2, 1, 2, 2, 1, 1, 1, 1]"
   ]
  },
  {
   "cell_type": "code",
   "execution_count": 169,
   "metadata": {},
   "outputs": [
    {
     "data": {
      "text/plain": [
       "0.45526861964286586"
      ]
     },
     "execution_count": 169,
     "metadata": {},
     "output_type": "execute_result"
    }
   ],
   "source": [
    "macro_train_1 = macro_f1(f1s_train, weight = weights_1)\n",
    "macro_train_1"
   ]
  },
  {
   "cell_type": "code",
   "execution_count": 170,
   "metadata": {},
   "outputs": [
    {
     "data": {
      "text/plain": [
       "0.41805507780696827"
      ]
     },
     "execution_count": 170,
     "metadata": {},
     "output_type": "execute_result"
    }
   ],
   "source": [
    "macro_base_1 = macro_f1(f1s_base, weight = weights_1)\n",
    "macro_base_1"
   ]
  },
  {
   "cell_type": "code",
   "execution_count": 171,
   "metadata": {},
   "outputs": [],
   "source": [
    "## Heavier weight on stability value\n",
    "first_f1 = ['Heavier weight on stability', macro_base_1, macro_train_1, None, None]\n",
    "df_f1scores.loc[1] = first_f1"
   ]
  },
  {
   "cell_type": "code",
   "execution_count": 172,
   "metadata": {},
   "outputs": [
    {
     "data": {
      "text/plain": [
       "['perovskite_composition',\n",
       " 'electron_transport_layer',\n",
       " 'hole_transport_layer',\n",
       " 'structure_pin_nip',\n",
       " 'stability_type',\n",
       " 'temperature',\n",
       " 'time',\n",
       " 'humidity',\n",
       " 'passivating_molecule',\n",
       " 'efficiency_cont',\n",
       " 'efficiency_tret',\n",
       " 'control_pce',\n",
       " 'treated_pce',\n",
       " 'control_voc',\n",
       " 'treated_voc']"
      ]
     },
     "execution_count": 172,
     "metadata": {},
     "output_type": "execute_result"
    }
   ],
   "source": [
    "variables_train"
   ]
  },
  {
   "cell_type": "code",
   "execution_count": 173,
   "metadata": {},
   "outputs": [],
   "source": [
    "weights_2 = [2, 2, 2, 2, 1, 1, 1, 1, 2, 1, 1, 1, 1, 1, 1]"
   ]
  },
  {
   "cell_type": "code",
   "execution_count": 174,
   "metadata": {},
   "outputs": [
    {
     "data": {
      "text/plain": [
       "0.49710380333312737"
      ]
     },
     "execution_count": 174,
     "metadata": {},
     "output_type": "execute_result"
    }
   ],
   "source": [
    "macro_train_2 = macro_f1(f1s_train, weight = weights_2)\n",
    "macro_train_2"
   ]
  },
  {
   "cell_type": "code",
   "execution_count": 175,
   "metadata": {},
   "outputs": [
    {
     "data": {
      "text/plain": [
       "0.46313816953026504"
      ]
     },
     "execution_count": 175,
     "metadata": {},
     "output_type": "execute_result"
    }
   ],
   "source": [
    "macro_base_2 = macro_f1(f1s_base, weight = weights_2)\n",
    "macro_base_2"
   ]
  },
  {
   "cell_type": "code",
   "execution_count": 176,
   "metadata": {},
   "outputs": [],
   "source": [
    "## Heavier weight on perovskite structure\n",
    "first_f2 = ['Heavier weight on perovskite structure', macro_base_2, macro_train_2, None, None]\n",
    "df_f1scores.loc[2] = first_f2"
   ]
  },
  {
   "cell_type": "code",
   "execution_count": 177,
   "metadata": {},
   "outputs": [
    {
     "data": {
      "text/plain": [
       "['perovskite_composition',\n",
       " 'electron_transport_layer',\n",
       " 'hole_transport_layer',\n",
       " 'structure_pin_nip',\n",
       " 'stability_type',\n",
       " 'temperature',\n",
       " 'time',\n",
       " 'humidity',\n",
       " 'passivating_molecule',\n",
       " 'efficiency_cont',\n",
       " 'efficiency_tret',\n",
       " 'control_pce',\n",
       " 'treated_pce',\n",
       " 'control_voc',\n",
       " 'treated_voc']"
      ]
     },
     "execution_count": 177,
     "metadata": {},
     "output_type": "execute_result"
    }
   ],
   "source": [
    "variables_train"
   ]
  },
  {
   "cell_type": "code",
   "execution_count": 178,
   "metadata": {},
   "outputs": [],
   "source": [
    "weights_3 = [1, 1, 1, 1, 1, 2, 2, 2, 1, 2, 2, 2, 2, 2, 2]"
   ]
  },
  {
   "cell_type": "code",
   "execution_count": 179,
   "metadata": {},
   "outputs": [
    {
     "data": {
      "text/plain": [
       "0.5178272699514781"
      ]
     },
     "execution_count": 179,
     "metadata": {},
     "output_type": "execute_result"
    }
   ],
   "source": [
    "macro_train_3 = macro_f1(f1s_train, weight = weights_3)\n",
    "macro_train_3"
   ]
  },
  {
   "cell_type": "code",
   "execution_count": 180,
   "metadata": {},
   "outputs": [
    {
     "data": {
      "text/plain": [
       "0.4759615201078144"
      ]
     },
     "execution_count": 180,
     "metadata": {},
     "output_type": "execute_result"
    }
   ],
   "source": [
    "macro_base_3 = macro_f1(f1s_base, weight = weights_3)\n",
    "macro_base_3"
   ]
  },
  {
   "cell_type": "code",
   "execution_count": 181,
   "metadata": {},
   "outputs": [],
   "source": [
    "## Heavier weight on numeric data\n",
    "first_f3 = ['Heavier weight on numeric data', macro_base_3, macro_train_3, None, None]\n",
    "df_f1scores.loc[3] = first_f3"
   ]
  },
  {
   "cell_type": "code",
   "execution_count": 182,
   "metadata": {},
   "outputs": [
    {
     "data": {
      "text/plain": [
       "['perovskite_composition',\n",
       " 'electron_transport_layer',\n",
       " 'hole_transport_layer',\n",
       " 'structure_pin_nip',\n",
       " 'stability_type',\n",
       " 'temperature',\n",
       " 'time',\n",
       " 'humidity',\n",
       " 'passivating_molecule',\n",
       " 'efficiency_cont',\n",
       " 'efficiency_tret',\n",
       " 'control_pce',\n",
       " 'treated_pce',\n",
       " 'control_voc',\n",
       " 'treated_voc']"
      ]
     },
     "execution_count": 182,
     "metadata": {},
     "output_type": "execute_result"
    }
   ],
   "source": [
    "variables_train"
   ]
  },
  {
   "cell_type": "code",
   "execution_count": 183,
   "metadata": {},
   "outputs": [],
   "source": [
    "weights_4 = [1, 0, 0, 0, 0, 0, 0, 0, 1, 0, 0, 0, 1, 0, 1]"
   ]
  },
  {
   "cell_type": "code",
   "execution_count": 184,
   "metadata": {},
   "outputs": [
    {
     "data": {
      "text/plain": [
       "0.6192780753220124"
      ]
     },
     "execution_count": 184,
     "metadata": {},
     "output_type": "execute_result"
    }
   ],
   "source": [
    "macro_train_4 = macro_f1(f1s_train, weight = weights_4)\n",
    "macro_train_4"
   ]
  },
  {
   "cell_type": "code",
   "execution_count": 185,
   "metadata": {},
   "outputs": [
    {
     "data": {
      "text/plain": [
       "0.6184904348164809"
      ]
     },
     "execution_count": 185,
     "metadata": {},
     "output_type": "execute_result"
    }
   ],
   "source": [
    "macro_base_4 = macro_f1(f1s_base, weight = weights_4)\n",
    "macro_base_4"
   ]
  },
  {
   "cell_type": "code",
   "execution_count": 186,
   "metadata": {},
   "outputs": [],
   "source": [
    "## Weight to perform prediction 1\n",
    "first_f4 = ['Weight to perform prediction 1', macro_base_4, macro_train_4, None, None]\n",
    "df_f1scores.loc[4] = first_f4"
   ]
  },
  {
   "cell_type": "code",
   "execution_count": 187,
   "metadata": {},
   "outputs": [
    {
     "data": {
      "text/plain": [
       "['perovskite_composition',\n",
       " 'electron_transport_layer',\n",
       " 'hole_transport_layer',\n",
       " 'structure_pin_nip',\n",
       " 'stability_type',\n",
       " 'temperature',\n",
       " 'time',\n",
       " 'humidity',\n",
       " 'passivating_molecule',\n",
       " 'efficiency_cont',\n",
       " 'efficiency_tret',\n",
       " 'control_pce',\n",
       " 'treated_pce',\n",
       " 'control_voc',\n",
       " 'treated_voc']"
      ]
     },
     "execution_count": 187,
     "metadata": {},
     "output_type": "execute_result"
    }
   ],
   "source": [
    "variables_train"
   ]
  },
  {
   "cell_type": "code",
   "execution_count": 188,
   "metadata": {},
   "outputs": [],
   "source": [
    "weights_5 = [1, 0, 0, 0, 0, 0, 0, 0, 1, 0, 0, 1, 1, 1, 1]"
   ]
  },
  {
   "cell_type": "code",
   "execution_count": 189,
   "metadata": {},
   "outputs": [
    {
     "data": {
      "text/plain": [
       "0.6470619530812942"
      ]
     },
     "execution_count": 189,
     "metadata": {},
     "output_type": "execute_result"
    }
   ],
   "source": [
    "macro_train_5 = macro_f1(f1s_train, weight = weights_5)\n",
    "macro_train_5"
   ]
  },
  {
   "cell_type": "code",
   "execution_count": 190,
   "metadata": {},
   "outputs": [
    {
     "data": {
      "text/plain": [
       "0.6117317184490826"
      ]
     },
     "execution_count": 190,
     "metadata": {},
     "output_type": "execute_result"
    }
   ],
   "source": [
    "macro_base_5 = macro_f1(f1s_base, weight = weights_5)\n",
    "macro_base_5"
   ]
  },
  {
   "cell_type": "code",
   "execution_count": 191,
   "metadata": {},
   "outputs": [],
   "source": [
    "## Weight to perform prediction 2\n",
    "first_f5 = ['Weight to perform prediction 2', macro_base_5, macro_train_5, None, None]\n",
    "df_f1scores.loc[5] = first_f5"
   ]
  },
  {
   "cell_type": "code",
   "execution_count": 192,
   "metadata": {},
   "outputs": [
    {
     "data": {
      "text/plain": [
       "['perovskite_composition',\n",
       " 'electron_transport_layer',\n",
       " 'hole_transport_layer',\n",
       " 'structure_pin_nip',\n",
       " 'stability_type',\n",
       " 'temperature',\n",
       " 'time',\n",
       " 'humidity',\n",
       " 'passivating_molecule',\n",
       " 'efficiency_cont',\n",
       " 'efficiency_tret',\n",
       " 'control_pce',\n",
       " 'treated_pce',\n",
       " 'control_voc',\n",
       " 'treated_voc']"
      ]
     },
     "execution_count": 192,
     "metadata": {},
     "output_type": "execute_result"
    }
   ],
   "source": [
    "variables_train"
   ]
  },
  {
   "cell_type": "code",
   "execution_count": 193,
   "metadata": {},
   "outputs": [],
   "source": [
    "weights_6 = [1, 0, 0, 0, 1, 1, 1, 1, 1, 1, 1, 0, 1, 0, 0]"
   ]
  },
  {
   "cell_type": "code",
   "execution_count": 194,
   "metadata": {},
   "outputs": [
    {
     "data": {
      "text/plain": [
       "0.41700936899057983"
      ]
     },
     "execution_count": 194,
     "metadata": {},
     "output_type": "execute_result"
    }
   ],
   "source": [
    "macro_train_6 = macro_f1(f1s_train, weight = weights_6)\n",
    "macro_train_6"
   ]
  },
  {
   "cell_type": "code",
   "execution_count": 195,
   "metadata": {},
   "outputs": [
    {
     "data": {
      "text/plain": [
       "0.39713474272079524"
      ]
     },
     "execution_count": 195,
     "metadata": {},
     "output_type": "execute_result"
    }
   ],
   "source": [
    "macro_base_6 = macro_f1(f1s_base, weight = weights_6)\n",
    "macro_base_6"
   ]
  },
  {
   "cell_type": "code",
   "execution_count": 196,
   "metadata": {},
   "outputs": [],
   "source": [
    "## Weight to perform prediction 3\n",
    "first_f6 = ['Weight to perform prediction 3', macro_base_6, macro_train_6, None, None]\n",
    "df_f1scores.loc[6] = first_f6"
   ]
  },
  {
   "cell_type": "code",
   "execution_count": 197,
   "metadata": {},
   "outputs": [
    {
     "data": {
      "text/html": [
       "<div>\n",
       "<style scoped>\n",
       "    .dataframe tbody tr th:only-of-type {\n",
       "        vertical-align: middle;\n",
       "    }\n",
       "\n",
       "    .dataframe tbody tr th {\n",
       "        vertical-align: top;\n",
       "    }\n",
       "\n",
       "    .dataframe thead th {\n",
       "        text-align: right;\n",
       "    }\n",
       "</style>\n",
       "<table border=\"1\" class=\"dataframe\">\n",
       "  <thead>\n",
       "    <tr style=\"text-align: right;\">\n",
       "      <th></th>\n",
       "      <th>Macro F1 score weight distribution</th>\n",
       "      <th>Base Deepseek 8bit</th>\n",
       "      <th>Fine-Tuned Deepseek 4 bit</th>\n",
       "      <th>Fine-Tuned Deepseek 8 bit</th>\n",
       "      <th>Llama 3 billion parameter</th>\n",
       "    </tr>\n",
       "  </thead>\n",
       "  <tbody>\n",
       "    <tr>\n",
       "      <th>0</th>\n",
       "      <td>Macro F1 score with equal weight</td>\n",
       "      <td>0.459685</td>\n",
       "      <td>0.497110</td>\n",
       "      <td>NaN</td>\n",
       "      <td>NaN</td>\n",
       "    </tr>\n",
       "    <tr>\n",
       "      <th>1</th>\n",
       "      <td>Heavier weight on stability</td>\n",
       "      <td>0.418055</td>\n",
       "      <td>0.455269</td>\n",
       "      <td>NaN</td>\n",
       "      <td>NaN</td>\n",
       "    </tr>\n",
       "    <tr>\n",
       "      <th>2</th>\n",
       "      <td>Heavier weight on perovskite structure</td>\n",
       "      <td>0.463138</td>\n",
       "      <td>0.497104</td>\n",
       "      <td>NaN</td>\n",
       "      <td>NaN</td>\n",
       "    </tr>\n",
       "    <tr>\n",
       "      <th>3</th>\n",
       "      <td>Heavier weight on numeric data</td>\n",
       "      <td>0.475962</td>\n",
       "      <td>0.517827</td>\n",
       "      <td>NaN</td>\n",
       "      <td>NaN</td>\n",
       "    </tr>\n",
       "    <tr>\n",
       "      <th>4</th>\n",
       "      <td>Weight to perform prediction 1</td>\n",
       "      <td>0.618490</td>\n",
       "      <td>0.619278</td>\n",
       "      <td>NaN</td>\n",
       "      <td>NaN</td>\n",
       "    </tr>\n",
       "    <tr>\n",
       "      <th>5</th>\n",
       "      <td>Weight to perform prediction 2</td>\n",
       "      <td>0.611732</td>\n",
       "      <td>0.647062</td>\n",
       "      <td>NaN</td>\n",
       "      <td>NaN</td>\n",
       "    </tr>\n",
       "    <tr>\n",
       "      <th>6</th>\n",
       "      <td>Weight to perform prediction 3</td>\n",
       "      <td>0.397135</td>\n",
       "      <td>0.417009</td>\n",
       "      <td>NaN</td>\n",
       "      <td>NaN</td>\n",
       "    </tr>\n",
       "  </tbody>\n",
       "</table>\n",
       "</div>"
      ],
      "text/plain": [
       "       Macro F1 score weight distribution  Base Deepseek 8bit  \\\n",
       "0        Macro F1 score with equal weight            0.459685   \n",
       "1             Heavier weight on stability            0.418055   \n",
       "2  Heavier weight on perovskite structure            0.463138   \n",
       "3          Heavier weight on numeric data            0.475962   \n",
       "4          Weight to perform prediction 1            0.618490   \n",
       "5          Weight to perform prediction 2            0.611732   \n",
       "6          Weight to perform prediction 3            0.397135   \n",
       "\n",
       "   Fine-Tuned Deepseek 4 bit  Fine-Tuned Deepseek 8 bit  \\\n",
       "0                   0.497110                        NaN   \n",
       "1                   0.455269                        NaN   \n",
       "2                   0.497104                        NaN   \n",
       "3                   0.517827                        NaN   \n",
       "4                   0.619278                        NaN   \n",
       "5                   0.647062                        NaN   \n",
       "6                   0.417009                        NaN   \n",
       "\n",
       "   Llama 3 billion parameter  \n",
       "0                        NaN  \n",
       "1                        NaN  \n",
       "2                        NaN  \n",
       "3                        NaN  \n",
       "4                        NaN  \n",
       "5                        NaN  \n",
       "6                        NaN  "
      ]
     },
     "execution_count": 197,
     "metadata": {},
     "output_type": "execute_result"
    }
   ],
   "source": [
    "df_f1scores"
   ]
  },
  {
   "cell_type": "markdown",
   "metadata": {},
   "source": [
    "### Different weight to consider\n",
    "- Unweight\n",
    "- Heavier weight on stability\n",
    "- Heavier weight on perovskite structure\n",
    "- Heavier weight on numeric data\n",
    "- Weight to perform prediction 1\n",
    "- Weight to perform prediction 2\n",
    "- Weight to perform prediction 3"
   ]
  },
  {
   "cell_type": "markdown",
   "metadata": {},
   "source": []
  },
  {
   "cell_type": "markdown",
   "metadata": {},
   "source": []
  }
 ],
 "metadata": {
  "kernelspec": {
   "display_name": "dsc80",
   "language": "python",
   "name": "python3"
  },
  "language_info": {
   "codemirror_mode": {
    "name": "ipython",
    "version": 3
   },
   "file_extension": ".py",
   "mimetype": "text/x-python",
   "name": "python",
   "nbconvert_exporter": "python",
   "pygments_lexer": "ipython3",
   "version": "3.8.18"
  }
 },
 "nbformat": 4,
 "nbformat_minor": 2
}
