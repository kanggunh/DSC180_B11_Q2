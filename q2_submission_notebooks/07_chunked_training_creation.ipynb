{
 "cells": [
  {
   "cell_type": "code",
   "execution_count": 1,
   "metadata": {},
   "outputs": [
    {
     "name": "stderr",
     "output_type": "stream",
     "text": [
      "/home/ncoleban/DSC180_B11_Q2/mykernel/lib/python3.11/site-packages/tqdm/auto.py:21: TqdmWarning: IProgress not found. Please update jupyter and ipywidgets. See https://ipywidgets.readthedocs.io/en/stable/user_install.html\n",
      "  from .autonotebook import tqdm as notebook_tqdm\n"
     ]
    }
   ],
   "source": [
    "import json\n",
    "import os\n",
    "import xml.etree.ElementTree as ET\n",
    "import pandas as pd\n",
    "import numpy as np\n",
    "from sentence_transformers import SentenceTransformer, util\n",
    "from scipy.spatial.distance import euclidean"
   ]
  },
  {
   "cell_type": "markdown",
   "metadata": {},
   "source": [
    "### Parsing BioC XML"
   ]
  },
  {
   "cell_type": "code",
   "execution_count": 2,
   "metadata": {},
   "outputs": [],
   "source": [
    "EMPTY_PAPER_DATA = {\n",
    "    \"perovskite_composition\": None,\n",
    "    \"electron_transport_layer\": None,\n",
    "    \"hole_transport_layer\": None,\n",
    "    \"structure_pin_nip\": None,\n",
    "}\n",
    "EMPTY_STABILITY_TEST = {\n",
    "    \"stability_type\": None,\n",
    "    \"passivating_molecule\": None,\n",
    "    \"humidity\": None,\n",
    "    \"temperature\": None,\n",
    "    \"time\": None,\n",
    "    \"control_pce\": None,\n",
    "    \"treated_pce\": None,\n",
    "    \"control_voc\": None,\n",
    "    \"treated_voc\": None,\n",
    "    \"efficiency_control\": None,\n",
    "    \"efficiency_tret\": None\n",
    "}"
   ]
  },
  {
   "cell_type": "code",
   "execution_count": 3,
   "metadata": {},
   "outputs": [],
   "source": [
    "def get_json_for_passage(passage, relations, previous_json):\n",
    "    concept_ids = set()\n",
    "    for annotation in passage.findall(\".//annotation\"):\n",
    "        node_id = annotation.get(\"id\")\n",
    "        var_name = annotation.find(\"infon[@key='type']\").text\n",
    "        concept_id = annotation.find(\"infon[@key='identifier']\").text\n",
    "        value = annotation.find(\"text\").text\n",
    "        value = concept_id if concept_id is not None else value\n",
    "        if var_name == \"perovskite_molecule\": #due to an error in some of the annotations\n",
    "            var_name = \"passivating_molecule\"\n",
    "        if var_name in [\"additive_molecule\", \"treatment_element\", \"control_element\", \"metal_contact\"]: #irrelevant\n",
    "            continue\n",
    "\n",
    "        if var_name in [\"perovskite_composition\", \"structure_pin_nip\", \"electron_transport_layer\", \"hole_transport_layer\" ]:\n",
    "            #in top level: composition, ETL, HTL, PIN-NIP,\n",
    "            previous_json[var_name] = value\n",
    "        elif node_id in relations:\n",
    "            test_name = relations[node_id]\n",
    "            if test_name not in previous_json:\n",
    "                previous_json[test_name] = EMPTY_STABILITY_TEST.copy()\n",
    "            previous_json[test_name][var_name] = value\n",
    "        elif len(relations.keys()) == 0:\n",
    "            if \"test_1\" not in previous_json:\n",
    "                previous_json[\"test_1\"] = EMPTY_STABILITY_TEST.copy()\n",
    "            previous_json[\"test_1\"][var_name] = value\n",
    "            #in stability tests:\n",
    "            #test type, passivator, PCE (control + treat), VOC (control + treat)\n",
    "            #efficiency (treat, control), temp, time, humidity\n",
    "        else:\n",
    "            #assumes that all other possible data goes into the first stability test\n",
    "            if \"test_1\" not in previous_json:\n",
    "                previous_json[\"test_1\"] = EMPTY_STABILITY_TEST.copy()\n",
    "            previous_json[\"test_1\"][var_name] = value\n",
    "\n",
    "    return previous_json\n",
    "    \n"
   ]
  },
  {
   "cell_type": "code",
   "execution_count": 4,
   "metadata": {},
   "outputs": [],
   "source": [
    "def extract_papernum(root):\n",
    "    first_text = root.find(\".//text\")\n",
    "    full_text = first_text.text\n",
    "    \n",
    "    ##We want to extract article number from this format\n",
    "    #Method: split by spaces and extract the last element in the list\n",
    "    text_list = full_text.split()\n",
    "    paper_num = text_list[-1]\n",
    "    return paper_num"
   ]
  },
  {
   "cell_type": "code",
   "execution_count": 5,
   "metadata": {},
   "outputs": [],
   "source": [
    "def parse_bioc_into_chunks(file_path):\n",
    "    tree = ET.parse(file_path)\n",
    "    root = tree.getroot()\n",
    "\n",
    "    passages = root.findall('.//passage')\n",
    "    data = []\n",
    "\n",
    "    relations = {}\n",
    "    test_names = set()\n",
    "    for relation in root.findall(\".//relation\"):\n",
    "        test_name = relation.find(\"infon[@key='type']\").text\n",
    "        if 'performance' in test_name: #irrelevant tests\n",
    "            continue\n",
    "        if test_name not in test_names:\n",
    "            test_names.add(test_name)\n",
    "        else:\n",
    "            test_name = test_name + \"_2\"\n",
    "        node_ids = [node.get(\"refid\") for node in relation.findall(\"node\")]\n",
    "        for node_id in node_ids:\n",
    "            relations[node_id] = test_name\n",
    "    \n",
    "    paper_num = extract_papernum(root)\n",
    "    curr_json = EMPTY_PAPER_DATA.copy()\n",
    "    for relation in root.findall('.//relation'):\n",
    "        test_name = relation.find\n",
    "    for i, passage in enumerate(passages):\n",
    "        passage_text = passage.find('.//text').text\n",
    "        row = { \"id\": f\"{paper_num}_{i}\", \"text\": passage_text, \"memory\": json.dumps(curr_json) }\n",
    "        curr_json = get_json_for_passage(passage, relations, curr_json)\n",
    "        row['output'] = json.dumps(curr_json)\n",
    "        data.append(row)\n",
    "    return data"
   ]
  },
  {
   "cell_type": "code",
   "execution_count": 6,
   "metadata": {},
   "outputs": [],
   "source": [
    "bioc_dir = \"data/biocs\"\n",
    "data = []\n",
    "for filename in os.listdir(bioc_dir):\n",
    "    if filename.endswith(\".xml\"):\n",
    "        file_path = os.path.join(bioc_dir, filename)\n",
    "        curr_paper_chunks = parse_bioc_into_chunks(file_path)\n",
    "        data.extend(curr_paper_chunks)\n"
   ]
  },
  {
   "cell_type": "markdown",
   "metadata": {},
   "source": [
    "### Filtering by similarity to prompt"
   ]
  },
  {
   "cell_type": "code",
   "execution_count": 2,
   "metadata": {},
   "outputs": [],
   "source": [
    "df = pd.read_csv('../data/150_papers_json_perchunk.csv')"
   ]
  },
  {
   "cell_type": "code",
   "execution_count": null,
   "metadata": {},
   "outputs": [],
   "source": [
    "# df[['first_num', 'second_num']] = df['id'].str.split('_', expand=True)\n",
    "\n",
    "# # Step 2: Convert 'first_num' to numeric for proper sorting\n",
    "# df['first_num'] = df['first_num'].astype(int)\n",
    "\n",
    "# # Step 3: Group by 'first_num' and get the last row of each group\n",
    "# result = df.groupby('first_num', as_index=False).last()\n",
    "# result.to_csv('data/150_papers_json.csv', index=False)"
   ]
  },
  {
   "cell_type": "code",
   "execution_count": 3,
   "metadata": {},
   "outputs": [
    {
     "name": "stderr",
     "output_type": "stream",
     "text": [
      "Downloading shards: 100%|██████████| 2/2 [02:51<00:00, 85.56s/it] \n",
      "Loading checkpoint shards: 100%|██████████| 2/2 [00:00<00:00,  5.74it/s]\n"
     ]
    }
   ],
   "source": [
    "model = SentenceTransformer(\"Alibaba-NLP/GTE-Qwen2-1.5B-instruct\")"
   ]
  },
  {
   "cell_type": "code",
   "execution_count": null,
   "metadata": {},
   "outputs": [
    {
     "ename": "NameError",
     "evalue": "name 'data' is not defined",
     "output_type": "error",
     "traceback": [
      "\u001b[0;31m---------------------------------------------------------------------------\u001b[0m",
      "\u001b[0;31mNameError\u001b[0m                                 Traceback (most recent call last)",
      "Cell \u001b[0;32mIn[6], line 19\u001b[0m\n\u001b[1;32m     17\u001b[0m \u001b[38;5;28;01mfor\u001b[39;00m i, value \u001b[38;5;129;01min\u001b[39;00m \u001b[38;5;28menumerate\u001b[39m(combined_scores):\n\u001b[1;32m     18\u001b[0m     \u001b[38;5;28;01mif\u001b[39;00m value \u001b[38;5;241m>\u001b[39m\u001b[38;5;241m=\u001b[39m threshold:\n\u001b[0;32m---> 19\u001b[0m         relevant_chunks\u001b[38;5;241m.\u001b[39mappend(\u001b[43mdata\u001b[49m[i])\n",
      "\u001b[0;31mNameError\u001b[0m: name 'data' is not defined"
     ]
    }
   ],
   "source": [
    "simple_prompt = \"Identify the passivating molecule tested, the corresponding PCE, VOC, and any stability test data (efficiency retained over time, temperature, test type).\"\n",
    "query = model.encode(simple_prompt, convert_to_tensor=True)\n",
    "\n",
    "cosine_similarities = []\n",
    "euclidean_distances = []\n",
    "for index, row in df.iterrows():\n",
    "    text_embeddings = model.encode(row[\"text\"], convert_to_tensor=True)\n",
    "    cosine_sim = util.pytorch_cos_sim(query, text_embeddings).item()\n",
    "    euclidean_dist = euclidean(query.cpu().numpy(), text_embeddings.cpu().numpy())\n",
    "    cosine_similarities.append(cosine_sim)\n",
    "    euclidean_distances.append(euclidean_dist)\n",
    "\n",
    "combined_scores = [0.7 * cos_sim - 0.3 * eucl_dist for cos_sim, eucl_dist in zip(cosine_similarities, euclidean_distances)]\n",
    "\n",
    "threshold = np.percentile(combined_scores, 70)\n"
   ]
  },
  {
   "cell_type": "code",
   "execution_count": 8,
   "metadata": {},
   "outputs": [],
   "source": [
    "relevant_chunks = []\n",
    "for i, value in enumerate(combined_scores):\n",
    "    if value >= threshold:\n",
    "        relevant_chunks.append(df.iloc[i])"
   ]
  },
  {
   "cell_type": "code",
   "execution_count": 10,
   "metadata": {},
   "outputs": [
    {
     "data": {
      "text/plain": [
       "id                                                          0_2\n",
       "text          Formamidinium lead triiodide (FAPbI 3 ) has re...\n",
       "memory        {\"perovskite_composition\": null, \"electron_tra...\n",
       "output        {\"perovskite_composition\": null, \"electron_tra...\n",
       "first_num                                                     0\n",
       "second_num                                                    2\n",
       "Name: 2, dtype: object"
      ]
     },
     "execution_count": 10,
     "metadata": {},
     "output_type": "execute_result"
    }
   ],
   "source": [
    "relevant_chunks[0]"
   ]
  },
  {
   "cell_type": "code",
   "execution_count": 13,
   "metadata": {},
   "outputs": [],
   "source": [
    "df = pd.DataFrame(relevant_chunks)\n",
    "df.to_csv(\"../data/chunked_training.csv\", index=False)"
   ]
  },
  {
   "cell_type": "code",
   "execution_count": null,
   "metadata": {},
   "outputs": [],
   "source": []
  }
 ],
 "metadata": {
  "kernelspec": {
   "display_name": "mykernel",
   "language": "python",
   "name": "python3"
  },
  "language_info": {
   "codemirror_mode": {
    "name": "ipython",
    "version": 3
   },
   "file_extension": ".py",
   "mimetype": "text/x-python",
   "name": "python",
   "nbconvert_exporter": "python",
   "pygments_lexer": "ipython3",
   "version": "3.11.9"
  }
 },
 "nbformat": 4,
 "nbformat_minor": 2
}
